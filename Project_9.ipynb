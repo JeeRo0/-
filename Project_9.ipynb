{
 "cells": [
  {
   "cell_type": "markdown",
   "metadata": {},
   "source": [
    "# Восстановление золота из руды"
   ]
  },
  {
   "cell_type": "markdown",
   "metadata": {},
   "source": [
    "Подготовьте прототип модели машинного обучения для «Цифры». Компания разрабатывает решения для эффективной работы промышленных предприятий.\n",
    "\n",
    "Модель должна предсказать коэффициент восстановления золота из золотосодержащей руды. Используйте данные с параметрами добычи и очистки. \n",
    "\n",
    "Модель поможет оптимизировать производство, чтобы не запускать предприятие с убыточными характеристиками.\n",
    "\n",
    "Вам нужно:\n",
    "\n",
    "1. Подготовить данные;\n",
    "2. Провести исследовательский анализ данных;\n",
    "3. Построить и обучить модель.\n",
    "\n",
    "Чтобы выполнить проект, обращайтесь к библиотекам *pandas*, *matplotlib* и *sklearn.* Вам поможет их документация."
   ]
  },
  {
   "cell_type": "markdown",
   "metadata": {},
   "source": [
    "## Подготовка данных"
   ]
  },
  {
   "cell_type": "markdown",
   "metadata": {},
   "source": [
    "### Загрузим данные"
   ]
  },
  {
   "cell_type": "code",
   "execution_count": 1,
   "metadata": {},
   "outputs": [],
   "source": [
    "import pandas as pd\n",
    "from sklearn.linear_model import LinearRegression\n",
    "from sklearn.ensemble import RandomForestRegressor\n",
    "from sklearn import linear_model\n",
    "from sklearn.svm import SVR\n",
    "from sklearn.preprocessing import StandardScaler, MinMaxScaler\n",
    "from sklearn.utils import shuffle\n",
    "from sklearn.model_selection import TimeSeriesSplit, cross_val_score, StratifiedKFold, GridSearchCV, cross_validate, KFold\n",
    "from sklearn.pipeline import Pipeline\n",
    "import seaborn as sns\n",
    "import matplotlib.pyplot as plt\n",
    "%matplotlib inline\n",
    "from sklearn.metrics import roc_auc_score, roc_curve, precision_recall_curve, f1_score, mean_absolute_error, make_scorer, mean_squared_error\n",
    "import numpy as np\n",
    "from scipy import stats as st\n",
    "import warnings\n",
    "warnings.filterwarnings('ignore')\n",
    "\n",
    "import time\n",
    "import calendar"
   ]
  },
  {
   "cell_type": "code",
   "execution_count": 2,
   "metadata": {},
   "outputs": [],
   "source": [
    "# gold_recovery_train_new.csv — обучающая выборка;\n",
    "# gold_recovery_test_new.csv — тестовая выборка;\n",
    "# gold_recovery_full_new.csv — исходные данные.\n",
    "\n",
    "df = pd.set_option('display.float_format', '{:,.2f}'.format)\n",
    "\n",
    "train = pd.read_csv('/datasets/gold_recovery_train_new.csv', index_col=['date'], parse_dates=True)\n",
    "test = pd.read_csv('/datasets/gold_recovery_test_new.csv', index_col=['date'], parse_dates=True)\n",
    "full = pd.read_csv('/datasets/gold_recovery_full_new.csv', index_col=['date'], parse_dates=True)"
   ]
  },
  {
   "cell_type": "code",
   "execution_count": 3,
   "metadata": {},
   "outputs": [
    {
     "data": {
      "text/plain": [
       "(14149, 86)"
      ]
     },
     "execution_count": 3,
     "metadata": {},
     "output_type": "execute_result"
    }
   ],
   "source": [
    "train.shape"
   ]
  },
  {
   "cell_type": "code",
   "execution_count": 4,
   "metadata": {},
   "outputs": [
    {
     "data": {
      "text/plain": [
       "(5290, 52)"
      ]
     },
     "execution_count": 4,
     "metadata": {},
     "output_type": "execute_result"
    }
   ],
   "source": [
    "test.shape"
   ]
  },
  {
   "cell_type": "code",
   "execution_count": 5,
   "metadata": {},
   "outputs": [
    {
     "data": {
      "text/plain": [
       "(19439, 86)"
      ]
     },
     "execution_count": 5,
     "metadata": {},
     "output_type": "execute_result"
    }
   ],
   "source": [
    "full.shape"
   ]
  },
  {
   "cell_type": "code",
   "execution_count": 6,
   "metadata": {},
   "outputs": [
    {
     "name": "stdout",
     "output_type": "stream",
     "text": [
      "<class 'pandas.core.frame.DataFrame'>\n",
      "DatetimeIndex: 14149 entries, 2016-01-15 00:00:00 to 2018-08-18 10:59:59\n",
      "Data columns (total 86 columns):\n",
      " #   Column                                              Non-Null Count  Dtype  \n",
      "---  ------                                              --------------  -----  \n",
      " 0   final.output.concentrate_ag                         14148 non-null  float64\n",
      " 1   final.output.concentrate_pb                         14148 non-null  float64\n",
      " 2   final.output.concentrate_sol                        13938 non-null  float64\n",
      " 3   final.output.concentrate_au                         14149 non-null  float64\n",
      " 4   final.output.recovery                               14149 non-null  float64\n",
      " 5   final.output.tail_ag                                14149 non-null  float64\n",
      " 6   final.output.tail_pb                                14049 non-null  float64\n",
      " 7   final.output.tail_sol                               14144 non-null  float64\n",
      " 8   final.output.tail_au                                14149 non-null  float64\n",
      " 9   primary_cleaner.input.sulfate                       14129 non-null  float64\n",
      " 10  primary_cleaner.input.depressant                    14117 non-null  float64\n",
      " 11  primary_cleaner.input.feed_size                     14149 non-null  float64\n",
      " 12  primary_cleaner.input.xanthate                      14049 non-null  float64\n",
      " 13  primary_cleaner.output.concentrate_ag               14149 non-null  float64\n",
      " 14  primary_cleaner.output.concentrate_pb               14063 non-null  float64\n",
      " 15  primary_cleaner.output.concentrate_sol              13863 non-null  float64\n",
      " 16  primary_cleaner.output.concentrate_au               14149 non-null  float64\n",
      " 17  primary_cleaner.output.tail_ag                      14148 non-null  float64\n",
      " 18  primary_cleaner.output.tail_pb                      14134 non-null  float64\n",
      " 19  primary_cleaner.output.tail_sol                     14103 non-null  float64\n",
      " 20  primary_cleaner.output.tail_au                      14149 non-null  float64\n",
      " 21  primary_cleaner.state.floatbank8_a_air              14145 non-null  float64\n",
      " 22  primary_cleaner.state.floatbank8_a_level            14148 non-null  float64\n",
      " 23  primary_cleaner.state.floatbank8_b_air              14145 non-null  float64\n",
      " 24  primary_cleaner.state.floatbank8_b_level            14148 non-null  float64\n",
      " 25  primary_cleaner.state.floatbank8_c_air              14147 non-null  float64\n",
      " 26  primary_cleaner.state.floatbank8_c_level            14148 non-null  float64\n",
      " 27  primary_cleaner.state.floatbank8_d_air              14146 non-null  float64\n",
      " 28  primary_cleaner.state.floatbank8_d_level            14148 non-null  float64\n",
      " 29  rougher.calculation.sulfate_to_au_concentrate       14148 non-null  float64\n",
      " 30  rougher.calculation.floatbank10_sulfate_to_au_feed  14148 non-null  float64\n",
      " 31  rougher.calculation.floatbank11_sulfate_to_au_feed  14148 non-null  float64\n",
      " 32  rougher.calculation.au_pb_ratio                     14149 non-null  float64\n",
      " 33  rougher.input.feed_ag                               14149 non-null  float64\n",
      " 34  rougher.input.feed_pb                               14049 non-null  float64\n",
      " 35  rougher.input.feed_rate                             14141 non-null  float64\n",
      " 36  rougher.input.feed_size                             14005 non-null  float64\n",
      " 37  rougher.input.feed_sol                              14071 non-null  float64\n",
      " 38  rougher.input.feed_au                               14149 non-null  float64\n",
      " 39  rougher.input.floatbank10_sulfate                   14120 non-null  float64\n",
      " 40  rougher.input.floatbank10_xanthate                  14141 non-null  float64\n",
      " 41  rougher.input.floatbank11_sulfate                   14113 non-null  float64\n",
      " 42  rougher.input.floatbank11_xanthate                  13721 non-null  float64\n",
      " 43  rougher.output.concentrate_ag                       14149 non-null  float64\n",
      " 44  rougher.output.concentrate_pb                       14149 non-null  float64\n",
      " 45  rougher.output.concentrate_sol                      14127 non-null  float64\n",
      " 46  rougher.output.concentrate_au                       14149 non-null  float64\n",
      " 47  rougher.output.recovery                             14149 non-null  float64\n",
      " 48  rougher.output.tail_ag                              14148 non-null  float64\n",
      " 49  rougher.output.tail_pb                              14149 non-null  float64\n",
      " 50  rougher.output.tail_sol                             14149 non-null  float64\n",
      " 51  rougher.output.tail_au                              14149 non-null  float64\n",
      " 52  rougher.state.floatbank10_a_air                     14148 non-null  float64\n",
      " 53  rougher.state.floatbank10_a_level                   14148 non-null  float64\n",
      " 54  rougher.state.floatbank10_b_air                     14148 non-null  float64\n",
      " 55  rougher.state.floatbank10_b_level                   14148 non-null  float64\n",
      " 56  rougher.state.floatbank10_c_air                     14148 non-null  float64\n",
      " 57  rougher.state.floatbank10_c_level                   14148 non-null  float64\n",
      " 58  rougher.state.floatbank10_d_air                     14149 non-null  float64\n",
      " 59  rougher.state.floatbank10_d_level                   14149 non-null  float64\n",
      " 60  rougher.state.floatbank10_e_air                     13713 non-null  float64\n",
      " 61  rougher.state.floatbank10_e_level                   14149 non-null  float64\n",
      " 62  rougher.state.floatbank10_f_air                     14149 non-null  float64\n",
      " 63  rougher.state.floatbank10_f_level                   14149 non-null  float64\n",
      " 64  secondary_cleaner.output.tail_ag                    14147 non-null  float64\n",
      " 65  secondary_cleaner.output.tail_pb                    14139 non-null  float64\n",
      " 66  secondary_cleaner.output.tail_sol                   12544 non-null  float64\n",
      " 67  secondary_cleaner.output.tail_au                    14149 non-null  float64\n",
      " 68  secondary_cleaner.state.floatbank2_a_air            13932 non-null  float64\n",
      " 69  secondary_cleaner.state.floatbank2_a_level          14148 non-null  float64\n",
      " 70  secondary_cleaner.state.floatbank2_b_air            14128 non-null  float64\n",
      " 71  secondary_cleaner.state.floatbank2_b_level          14148 non-null  float64\n",
      " 72  secondary_cleaner.state.floatbank3_a_air            14145 non-null  float64\n",
      " 73  secondary_cleaner.state.floatbank3_a_level          14148 non-null  float64\n",
      " 74  secondary_cleaner.state.floatbank3_b_air            14148 non-null  float64\n",
      " 75  secondary_cleaner.state.floatbank3_b_level          14148 non-null  float64\n",
      " 76  secondary_cleaner.state.floatbank4_a_air            14143 non-null  float64\n",
      " 77  secondary_cleaner.state.floatbank4_a_level          14148 non-null  float64\n",
      " 78  secondary_cleaner.state.floatbank4_b_air            14148 non-null  float64\n",
      " 79  secondary_cleaner.state.floatbank4_b_level          14148 non-null  float64\n",
      " 80  secondary_cleaner.state.floatbank5_a_air            14148 non-null  float64\n",
      " 81  secondary_cleaner.state.floatbank5_a_level          14148 non-null  float64\n",
      " 82  secondary_cleaner.state.floatbank5_b_air            14148 non-null  float64\n",
      " 83  secondary_cleaner.state.floatbank5_b_level          14148 non-null  float64\n",
      " 84  secondary_cleaner.state.floatbank6_a_air            14147 non-null  float64\n",
      " 85  secondary_cleaner.state.floatbank6_a_level          14148 non-null  float64\n",
      "dtypes: float64(86)\n",
      "memory usage: 9.4 MB\n"
     ]
    }
   ],
   "source": [
    "train.info()"
   ]
  },
  {
   "cell_type": "code",
   "execution_count": 7,
   "metadata": {},
   "outputs": [
    {
     "name": "stdout",
     "output_type": "stream",
     "text": [
      "<class 'pandas.core.frame.DataFrame'>\n",
      "DatetimeIndex: 5290 entries, 2016-09-01 00:59:59 to 2017-12-31 23:59:59\n",
      "Data columns (total 52 columns):\n",
      " #   Column                                      Non-Null Count  Dtype  \n",
      "---  ------                                      --------------  -----  \n",
      " 0   primary_cleaner.input.sulfate               5286 non-null   float64\n",
      " 1   primary_cleaner.input.depressant            5285 non-null   float64\n",
      " 2   primary_cleaner.input.feed_size             5290 non-null   float64\n",
      " 3   primary_cleaner.input.xanthate              5286 non-null   float64\n",
      " 4   primary_cleaner.state.floatbank8_a_air      5290 non-null   float64\n",
      " 5   primary_cleaner.state.floatbank8_a_level    5290 non-null   float64\n",
      " 6   primary_cleaner.state.floatbank8_b_air      5290 non-null   float64\n",
      " 7   primary_cleaner.state.floatbank8_b_level    5290 non-null   float64\n",
      " 8   primary_cleaner.state.floatbank8_c_air      5290 non-null   float64\n",
      " 9   primary_cleaner.state.floatbank8_c_level    5290 non-null   float64\n",
      " 10  primary_cleaner.state.floatbank8_d_air      5290 non-null   float64\n",
      " 11  primary_cleaner.state.floatbank8_d_level    5290 non-null   float64\n",
      " 12  rougher.input.feed_ag                       5290 non-null   float64\n",
      " 13  rougher.input.feed_pb                       5290 non-null   float64\n",
      " 14  rougher.input.feed_rate                     5287 non-null   float64\n",
      " 15  rougher.input.feed_size                     5289 non-null   float64\n",
      " 16  rougher.input.feed_sol                      5269 non-null   float64\n",
      " 17  rougher.input.feed_au                       5290 non-null   float64\n",
      " 18  rougher.input.floatbank10_sulfate           5285 non-null   float64\n",
      " 19  rougher.input.floatbank10_xanthate          5290 non-null   float64\n",
      " 20  rougher.input.floatbank11_sulfate           5282 non-null   float64\n",
      " 21  rougher.input.floatbank11_xanthate          5265 non-null   float64\n",
      " 22  rougher.state.floatbank10_a_air             5290 non-null   float64\n",
      " 23  rougher.state.floatbank10_a_level           5290 non-null   float64\n",
      " 24  rougher.state.floatbank10_b_air             5290 non-null   float64\n",
      " 25  rougher.state.floatbank10_b_level           5290 non-null   float64\n",
      " 26  rougher.state.floatbank10_c_air             5290 non-null   float64\n",
      " 27  rougher.state.floatbank10_c_level           5290 non-null   float64\n",
      " 28  rougher.state.floatbank10_d_air             5290 non-null   float64\n",
      " 29  rougher.state.floatbank10_d_level           5290 non-null   float64\n",
      " 30  rougher.state.floatbank10_e_air             5290 non-null   float64\n",
      " 31  rougher.state.floatbank10_e_level           5290 non-null   float64\n",
      " 32  rougher.state.floatbank10_f_air             5290 non-null   float64\n",
      " 33  rougher.state.floatbank10_f_level           5290 non-null   float64\n",
      " 34  secondary_cleaner.state.floatbank2_a_air    5287 non-null   float64\n",
      " 35  secondary_cleaner.state.floatbank2_a_level  5290 non-null   float64\n",
      " 36  secondary_cleaner.state.floatbank2_b_air    5288 non-null   float64\n",
      " 37  secondary_cleaner.state.floatbank2_b_level  5290 non-null   float64\n",
      " 38  secondary_cleaner.state.floatbank3_a_air    5281 non-null   float64\n",
      " 39  secondary_cleaner.state.floatbank3_a_level  5290 non-null   float64\n",
      " 40  secondary_cleaner.state.floatbank3_b_air    5290 non-null   float64\n",
      " 41  secondary_cleaner.state.floatbank3_b_level  5290 non-null   float64\n",
      " 42  secondary_cleaner.state.floatbank4_a_air    5290 non-null   float64\n",
      " 43  secondary_cleaner.state.floatbank4_a_level  5290 non-null   float64\n",
      " 44  secondary_cleaner.state.floatbank4_b_air    5290 non-null   float64\n",
      " 45  secondary_cleaner.state.floatbank4_b_level  5290 non-null   float64\n",
      " 46  secondary_cleaner.state.floatbank5_a_air    5290 non-null   float64\n",
      " 47  secondary_cleaner.state.floatbank5_a_level  5290 non-null   float64\n",
      " 48  secondary_cleaner.state.floatbank5_b_air    5290 non-null   float64\n",
      " 49  secondary_cleaner.state.floatbank5_b_level  5290 non-null   float64\n",
      " 50  secondary_cleaner.state.floatbank6_a_air    5290 non-null   float64\n",
      " 51  secondary_cleaner.state.floatbank6_a_level  5290 non-null   float64\n",
      "dtypes: float64(52)\n",
      "memory usage: 2.1 MB\n"
     ]
    }
   ],
   "source": [
    "test.info()"
   ]
  },
  {
   "cell_type": "code",
   "execution_count": 8,
   "metadata": {},
   "outputs": [
    {
     "name": "stdout",
     "output_type": "stream",
     "text": [
      "<class 'pandas.core.frame.DataFrame'>\n",
      "DatetimeIndex: 19439 entries, 2016-01-15 00:00:00 to 2018-08-18 10:59:59\n",
      "Data columns (total 86 columns):\n",
      " #   Column                                              Non-Null Count  Dtype  \n",
      "---  ------                                              --------------  -----  \n",
      " 0   final.output.concentrate_ag                         19438 non-null  float64\n",
      " 1   final.output.concentrate_pb                         19438 non-null  float64\n",
      " 2   final.output.concentrate_sol                        19228 non-null  float64\n",
      " 3   final.output.concentrate_au                         19439 non-null  float64\n",
      " 4   final.output.recovery                               19439 non-null  float64\n",
      " 5   final.output.tail_ag                                19438 non-null  float64\n",
      " 6   final.output.tail_pb                                19338 non-null  float64\n",
      " 7   final.output.tail_sol                               19433 non-null  float64\n",
      " 8   final.output.tail_au                                19439 non-null  float64\n",
      " 9   primary_cleaner.input.sulfate                       19415 non-null  float64\n",
      " 10  primary_cleaner.input.depressant                    19402 non-null  float64\n",
      " 11  primary_cleaner.input.feed_size                     19439 non-null  float64\n",
      " 12  primary_cleaner.input.xanthate                      19335 non-null  float64\n",
      " 13  primary_cleaner.output.concentrate_ag               19439 non-null  float64\n",
      " 14  primary_cleaner.output.concentrate_pb               19323 non-null  float64\n",
      " 15  primary_cleaner.output.concentrate_sol              19069 non-null  float64\n",
      " 16  primary_cleaner.output.concentrate_au               19439 non-null  float64\n",
      " 17  primary_cleaner.output.tail_ag                      19435 non-null  float64\n",
      " 18  primary_cleaner.output.tail_pb                      19418 non-null  float64\n",
      " 19  primary_cleaner.output.tail_sol                     19377 non-null  float64\n",
      " 20  primary_cleaner.output.tail_au                      19439 non-null  float64\n",
      " 21  primary_cleaner.state.floatbank8_a_air              19435 non-null  float64\n",
      " 22  primary_cleaner.state.floatbank8_a_level            19438 non-null  float64\n",
      " 23  primary_cleaner.state.floatbank8_b_air              19435 non-null  float64\n",
      " 24  primary_cleaner.state.floatbank8_b_level            19438 non-null  float64\n",
      " 25  primary_cleaner.state.floatbank8_c_air              19437 non-null  float64\n",
      " 26  primary_cleaner.state.floatbank8_c_level            19438 non-null  float64\n",
      " 27  primary_cleaner.state.floatbank8_d_air              19436 non-null  float64\n",
      " 28  primary_cleaner.state.floatbank8_d_level            19438 non-null  float64\n",
      " 29  rougher.calculation.sulfate_to_au_concentrate       19437 non-null  float64\n",
      " 30  rougher.calculation.floatbank10_sulfate_to_au_feed  19437 non-null  float64\n",
      " 31  rougher.calculation.floatbank11_sulfate_to_au_feed  19437 non-null  float64\n",
      " 32  rougher.calculation.au_pb_ratio                     19439 non-null  float64\n",
      " 33  rougher.input.feed_ag                               19439 non-null  float64\n",
      " 34  rougher.input.feed_pb                               19339 non-null  float64\n",
      " 35  rougher.input.feed_rate                             19428 non-null  float64\n",
      " 36  rougher.input.feed_size                             19294 non-null  float64\n",
      " 37  rougher.input.feed_sol                              19340 non-null  float64\n",
      " 38  rougher.input.feed_au                               19439 non-null  float64\n",
      " 39  rougher.input.floatbank10_sulfate                   19405 non-null  float64\n",
      " 40  rougher.input.floatbank10_xanthate                  19431 non-null  float64\n",
      " 41  rougher.input.floatbank11_sulfate                   19395 non-null  float64\n",
      " 42  rougher.input.floatbank11_xanthate                  18986 non-null  float64\n",
      " 43  rougher.output.concentrate_ag                       19439 non-null  float64\n",
      " 44  rougher.output.concentrate_pb                       19439 non-null  float64\n",
      " 45  rougher.output.concentrate_sol                      19416 non-null  float64\n",
      " 46  rougher.output.concentrate_au                       19439 non-null  float64\n",
      " 47  rougher.output.recovery                             19439 non-null  float64\n",
      " 48  rougher.output.tail_ag                              19438 non-null  float64\n",
      " 49  rougher.output.tail_pb                              19439 non-null  float64\n",
      " 50  rougher.output.tail_sol                             19439 non-null  float64\n",
      " 51  rougher.output.tail_au                              19439 non-null  float64\n",
      " 52  rougher.state.floatbank10_a_air                     19438 non-null  float64\n",
      " 53  rougher.state.floatbank10_a_level                   19438 non-null  float64\n",
      " 54  rougher.state.floatbank10_b_air                     19438 non-null  float64\n",
      " 55  rougher.state.floatbank10_b_level                   19438 non-null  float64\n",
      " 56  rougher.state.floatbank10_c_air                     19438 non-null  float64\n",
      " 57  rougher.state.floatbank10_c_level                   19438 non-null  float64\n",
      " 58  rougher.state.floatbank10_d_air                     19439 non-null  float64\n",
      " 59  rougher.state.floatbank10_d_level                   19439 non-null  float64\n",
      " 60  rougher.state.floatbank10_e_air                     19003 non-null  float64\n",
      " 61  rougher.state.floatbank10_e_level                   19439 non-null  float64\n",
      " 62  rougher.state.floatbank10_f_air                     19439 non-null  float64\n",
      " 63  rougher.state.floatbank10_f_level                   19439 non-null  float64\n",
      " 64  secondary_cleaner.output.tail_ag                    19437 non-null  float64\n",
      " 65  secondary_cleaner.output.tail_pb                    19427 non-null  float64\n",
      " 66  secondary_cleaner.output.tail_sol                   17691 non-null  float64\n",
      " 67  secondary_cleaner.output.tail_au                    19439 non-null  float64\n",
      " 68  secondary_cleaner.state.floatbank2_a_air            19219 non-null  float64\n",
      " 69  secondary_cleaner.state.floatbank2_a_level          19438 non-null  float64\n",
      " 70  secondary_cleaner.state.floatbank2_b_air            19416 non-null  float64\n",
      " 71  secondary_cleaner.state.floatbank2_b_level          19438 non-null  float64\n",
      " 72  secondary_cleaner.state.floatbank3_a_air            19426 non-null  float64\n",
      " 73  secondary_cleaner.state.floatbank3_a_level          19438 non-null  float64\n",
      " 74  secondary_cleaner.state.floatbank3_b_air            19438 non-null  float64\n",
      " 75  secondary_cleaner.state.floatbank3_b_level          19438 non-null  float64\n",
      " 76  secondary_cleaner.state.floatbank4_a_air            19433 non-null  float64\n",
      " 77  secondary_cleaner.state.floatbank4_a_level          19438 non-null  float64\n",
      " 78  secondary_cleaner.state.floatbank4_b_air            19438 non-null  float64\n",
      " 79  secondary_cleaner.state.floatbank4_b_level          19438 non-null  float64\n",
      " 80  secondary_cleaner.state.floatbank5_a_air            19438 non-null  float64\n",
      " 81  secondary_cleaner.state.floatbank5_a_level          19438 non-null  float64\n",
      " 82  secondary_cleaner.state.floatbank5_b_air            19438 non-null  float64\n",
      " 83  secondary_cleaner.state.floatbank5_b_level          19438 non-null  float64\n",
      " 84  secondary_cleaner.state.floatbank6_a_air            19437 non-null  float64\n",
      " 85  secondary_cleaner.state.floatbank6_a_level          19438 non-null  float64\n",
      "dtypes: float64(86)\n",
      "memory usage: 12.9 MB\n"
     ]
    }
   ],
   "source": [
    "full.info()"
   ]
  },
  {
   "cell_type": "markdown",
   "metadata": {},
   "source": [
    "<div class=\"alert alert-info\"> <b>Комментарий студента:</b> \n",
    "\n",
    "- В датасете 'test' на 34 столбца меньше.\n",
    "    \n",
    "- В данных есть пропуски, т.к. на момент выгрузки не все данные поступили.\n",
    "    \n",
    "</div>"
   ]
  },
  {
   "cell_type": "markdown",
   "metadata": {},
   "source": [
    "### Проверим, что эффективность обогащения рассчитана правильно"
   ]
  },
  {
   "cell_type": "code",
   "execution_count": 9,
   "metadata": {},
   "outputs": [],
   "source": [
    "# Функция рассчета эффективность обогащения по формуле\n",
    "def recovery_rougher(row):\n",
    "    C = row['rougher.output.concentrate_au']\n",
    "    F = row['rougher.input.feed_au']\n",
    "    T = row['rougher.output.tail_au']\n",
    "    Calc = row['rougher.output.recovery']\n",
    "    if (F * (C-T)) == 0: R = Calc\n",
    "    else: R = 100* ((C * (F-T)) / (F * (C-T)))\n",
    "    return R"
   ]
  },
  {
   "cell_type": "code",
   "execution_count": 10,
   "metadata": {},
   "outputs": [],
   "source": [
    "train['rougher.calculation.recovery'] = train.apply(recovery_rougher, axis=1)"
   ]
  },
  {
   "cell_type": "code",
   "execution_count": 11,
   "metadata": {},
   "outputs": [
    {
     "data": {
      "text/plain": [
       "'0.00000000000000973512'"
      ]
     },
     "execution_count": 11,
     "metadata": {},
     "output_type": "execute_result"
    }
   ],
   "source": [
    "mae = mean_absolute_error(train['rougher.output.recovery'], train['rougher.calculation.recovery']) \n",
    "f'{mae:.20f}'"
   ]
  },
  {
   "cell_type": "code",
   "execution_count": 12,
   "metadata": {},
   "outputs": [],
   "source": [
    "train = train.drop('rougher.calculation.recovery', axis=1)"
   ]
  },
  {
   "cell_type": "markdown",
   "metadata": {},
   "source": [
    "<div class=\"alert alert-info\"> <b>Комментарий студента:</b> \n",
    "\n",
    "- Средне абсолютная ошибка стремится к 0, эффективность обогащения рассчитана правильно.\n",
    "    \n",
    "    \n",
    "</div>"
   ]
  },
  {
   "cell_type": "markdown",
   "metadata": {},
   "source": [
    "### Признаки, недоступные в тестовой выборке"
   ]
  },
  {
   "cell_type": "code",
   "execution_count": 13,
   "metadata": {},
   "outputs": [
    {
     "data": {
      "text/plain": [
       "{'final.output.concentrate_ag',\n",
       " 'final.output.concentrate_au',\n",
       " 'final.output.concentrate_pb',\n",
       " 'final.output.concentrate_sol',\n",
       " 'final.output.recovery',\n",
       " 'final.output.tail_ag',\n",
       " 'final.output.tail_au',\n",
       " 'final.output.tail_pb',\n",
       " 'final.output.tail_sol',\n",
       " 'primary_cleaner.output.concentrate_ag',\n",
       " 'primary_cleaner.output.concentrate_au',\n",
       " 'primary_cleaner.output.concentrate_pb',\n",
       " 'primary_cleaner.output.concentrate_sol',\n",
       " 'primary_cleaner.output.tail_ag',\n",
       " 'primary_cleaner.output.tail_au',\n",
       " 'primary_cleaner.output.tail_pb',\n",
       " 'primary_cleaner.output.tail_sol',\n",
       " 'rougher.calculation.au_pb_ratio',\n",
       " 'rougher.calculation.floatbank10_sulfate_to_au_feed',\n",
       " 'rougher.calculation.floatbank11_sulfate_to_au_feed',\n",
       " 'rougher.calculation.sulfate_to_au_concentrate',\n",
       " 'rougher.output.concentrate_ag',\n",
       " 'rougher.output.concentrate_au',\n",
       " 'rougher.output.concentrate_pb',\n",
       " 'rougher.output.concentrate_sol',\n",
       " 'rougher.output.recovery',\n",
       " 'rougher.output.tail_ag',\n",
       " 'rougher.output.tail_au',\n",
       " 'rougher.output.tail_pb',\n",
       " 'rougher.output.tail_sol',\n",
       " 'secondary_cleaner.output.tail_ag',\n",
       " 'secondary_cleaner.output.tail_au',\n",
       " 'secondary_cleaner.output.tail_pb',\n",
       " 'secondary_cleaner.output.tail_sol'}"
      ]
     },
     "execution_count": 13,
     "metadata": {},
     "output_type": "execute_result"
    }
   ],
   "source": [
    "# Найдем отсутствующие столбци\n",
    "set(full.columns) - set(test.columns)   "
   ]
  },
  {
   "cell_type": "markdown",
   "metadata": {},
   "source": [
    "<div class=\"alert alert-info\"> <b>Комментарий студента:</b> \n",
    "\n",
    "В тестовой выборке отсутствуют:    \n",
    "    \n",
    "- выходные параметры готового продукта/сырья/отвалов на всех этапах\n",
    "    \n",
    "- все измеряемые параметры\n",
    "      \n",
    "    \n",
    "</div>\n"
   ]
  },
  {
   "cell_type": "markdown",
   "metadata": {},
   "source": [
    "### Предобработка данных"
   ]
  },
  {
   "cell_type": "code",
   "execution_count": 14,
   "metadata": {},
   "outputs": [
    {
     "name": "stdout",
     "output_type": "stream",
     "text": [
      "4100\n",
      "90\n"
     ]
    }
   ],
   "source": [
    "# Количество пропусков\n",
    "print(train.isna().sum().sum())\n",
    "print(test.isna().sum().sum())"
   ]
  },
  {
   "cell_type": "code",
   "execution_count": 15,
   "metadata": {},
   "outputs": [],
   "source": [
    "df_train = train.interpolate(method='time')\n",
    "df_test = test.interpolate(method='time')"
   ]
  },
  {
   "cell_type": "code",
   "execution_count": 16,
   "metadata": {},
   "outputs": [
    {
     "name": "stdout",
     "output_type": "stream",
     "text": [
      "0\n",
      "0\n"
     ]
    }
   ],
   "source": [
    "print(df_train.isna().sum().sum())\n",
    "print(df_test.isna().sum().sum())"
   ]
  },
  {
   "cell_type": "code",
   "execution_count": 17,
   "metadata": {},
   "outputs": [
    {
     "data": {
      "text/plain": [
       "(5290, 54)"
      ]
     },
     "execution_count": 17,
     "metadata": {},
     "output_type": "execute_result"
    }
   ],
   "source": [
    "# Для обучение модели добавим из датасета 'full' признаки 'final.output.recovery', 'rougher.output.recovery'\n",
    "df_test = df_test.join(full.loc[df_test.index][['final.output.recovery', 'rougher.output.recovery']])\n",
    "df_test.shape"
   ]
  },
  {
   "cell_type": "code",
   "execution_count": 18,
   "metadata": {},
   "outputs": [
    {
     "data": {
      "text/plain": [
       "(14149, 86)"
      ]
     },
     "execution_count": 18,
     "metadata": {},
     "output_type": "execute_result"
    }
   ],
   "source": [
    "df_train.shape"
   ]
  },
  {
   "cell_type": "markdown",
   "metadata": {},
   "source": [
    "<div class=\"alert alert-info\"> <b>Комментарий студента:</b> \n",
    "\n",
    "Данные подготовленны, пропуски заполнены методом interpolate.\n",
    "      \n",
    "    \n",
    "</div>\n"
   ]
  },
  {
   "cell_type": "markdown",
   "metadata": {},
   "source": [
    "## Анализ данных"
   ]
  },
  {
   "cell_type": "markdown",
   "metadata": {},
   "source": [
    "###  Посмотрим, как меняется концентрация металлов (Au, Ag, Pb) на различных этапах очистки. "
   ]
  },
  {
   "cell_type": "code",
   "execution_count": 19,
   "metadata": {},
   "outputs": [],
   "source": [
    "metal_list = ['au', 'ag', 'pb']\n",
    "concentrate_output = ['rougher.input.feed',\n",
    "                      'rougher.output.concentrate',\n",
    "                      'primary_cleaner.output.concentrate',\n",
    "                      'final.output.concentrate']\n",
    "concentrate_tail = ['rougher.input.feed',\n",
    "                    'rougher.output.tail',\n",
    "                    'primary_cleaner.output.tail',\n",
    "                    'final.output.tail']"
   ]
  },
  {
   "cell_type": "code",
   "execution_count": 20,
   "metadata": {},
   "outputs": [
    {
     "data": {
      "image/png": "[encoded data removed]",
      "text/plain": [
       "<Figure size 1440x432 with 4 Axes>"
      ]
     },
     "metadata": {
      "needs_background": "light"
     },
     "output_type": "display_data"
    },
    {
     "data": {
      "image/png": "[encoded data removed]",
      "text/plain": [
       "<Figure size 1440x432 with 4 Axes>"
      ]
     },
     "metadata": {
      "needs_background": "light"
     },
     "output_type": "display_data"
    }
   ],
   "source": [
    "fig, axs = plt.subplots(1, 4, figsize=(20, 6), constrained_layout=True)\n",
    "fig.suptitle('Концентрация металлов на выходе', fontsize=24)\n",
    "\n",
    "for stage, ax in zip(concentrate_output, axs):\n",
    "    ax.set_title(stage)\n",
    "    for metal in metal_list:        \n",
    "        cols = df_train.columns.str.contains(stage+'_'+metal)\n",
    "        sns_ax = sns.distplot(df_train.loc[:, cols].dropna(), label=metal, ax=ax)    \n",
    "plt.legend()\n",
    "\n",
    "fig, axs = plt.subplots(1, 4, figsize=(20, 6), constrained_layout=True)\n",
    "fig.suptitle('Концентрация металлов в хвостах', fontsize=24)\n",
    "\n",
    "for stage, ax in zip(concentrate_tail, axs):\n",
    "    ax.set_title(stage)\n",
    "    for metal in metal_list:        \n",
    "        cols = df_train.columns.str.contains(stage+'_'+metal)\n",
    "        sns_ax = sns.distplot(df_train.loc[:, cols].dropna(), label=metal, ax=ax)   \n",
    "plt.legend()\n",
    "\n",
    "plt.show()"
   ]
  },
  {
   "cell_type": "markdown",
   "metadata": {},
   "source": [
    "<div class=\"alert alert-info\"> <b>Комментарий студента:</b> \n",
    "\n",
    "На каждом этапе очистки концетрация золота возростает, а в хвостах падает. Так же можно отметить что довольно большое содержание серебра в хвостах.\n",
    "      \n",
    "    \n",
    "</div>"
   ]
  },
  {
   "cell_type": "markdown",
   "metadata": {},
   "source": [
    "### Сравните распределения размеров гранул сырья на обучающей и тестовой выборках."
   ]
  },
  {
   "cell_type": "code",
   "execution_count": 21,
   "metadata": {},
   "outputs": [
    {
     "data": {
      "image/png": "[encoded data removed]",
      "text/plain": [
       "<Figure size 360x360 with 1 Axes>"
      ]
     },
     "metadata": {
      "needs_background": "light"
     },
     "output_type": "display_data"
    }
   ],
   "source": [
    "df_train['rougher.input.feed_size'].hist(bins=30,figsize=(5, 5))\n",
    "df_test['rougher.input.feed_size'].hist(bins=30)\n",
    "\n",
    "plt.legend(['Train','Test'])\n",
    "plt.xlabel('Распределение размеров гранул сырья на этапе флотации')\n",
    "plt.ylabel('значения параметра')\n",
    "plt.show()"
   ]
  },
  {
   "cell_type": "code",
   "execution_count": 22,
   "metadata": {},
   "outputs": [
    {
     "data": {
      "image/png": "[encoded data removed]",
      "text/plain": [
       "<Figure size 360x360 with 1 Axes>"
      ]
     },
     "metadata": {
      "needs_background": "light"
     },
     "output_type": "display_data"
    }
   ],
   "source": [
    "df_train['primary_cleaner.input.feed_size'].hist(bins=30,figsize=(5, 5))\n",
    "df_test['primary_cleaner.input.feed_size'].hist(bins=30)\n",
    "\n",
    "plt.legend(['Train','Test'])\n",
    "plt.xlabel('Распределение размеров гранул сырья на этапе первичной обработки')\n",
    "plt.ylabel('значения параметра')\n",
    "plt.show()"
   ]
  },
  {
   "cell_type": "markdown",
   "metadata": {},
   "source": [
    "<div class=\"alert alert-info\"> <b>Комментарий студента:</b> \n",
    "\n",
    "Исходя из распределения размера гранул на этапе флотации и первичной обработки, не считая выбросов, распределение в одном диапозоне.\n",
    "      \n",
    "    \n",
    "</div>"
   ]
  },
  {
   "cell_type": "markdown",
   "metadata": {},
   "source": [
    "### Исследуйте суммарную концентрацию всех веществ на разных стадиях: в сырье, в черновом и финальном концентратах."
   ]
  },
  {
   "cell_type": "code",
   "execution_count": 23,
   "metadata": {},
   "outputs": [],
   "source": [
    "# Удалим 0 значения\n",
    "list_metal = ['final.output.concentrate_au', 'final.output.concentrate_ag', 'final.output.concentrate_pb',\n",
    "             'final.output.concentrate_sol', 'primary_cleaner.output.concentrate_au', 'primary_cleaner.output.concentrate_ag',\n",
    "             'primary_cleaner.output.concentrate_pb', 'primary_cleaner.output.concentrate_sol', 'rougher.output.concentrate_au',\n",
    "             'rougher.output.concentrate_ag', 'rougher.output.concentrate_pb', 'rougher.output.concentrate_sol']\n",
    "for x in list_metal:\n",
    "    df_train = df_train.drop(df_train[df_train[x] == 0].index)\n",
    "    df_train = df_train.drop(df_train[df_train[x] == 0].index)\n",
    "    df_train = df_train.drop(df_train[df_train[x] == 0].index)"
   ]
  },
  {
   "cell_type": "code",
   "execution_count": 24,
   "metadata": {},
   "outputs": [
    {
     "data": {
      "image/png": "[encoded data removed]",
      "text/plain": [
       "<Figure size 1440x432 with 3 Axes>"
      ]
     },
     "metadata": {
      "needs_background": "light"
     },
     "output_type": "display_data"
    },
    {
     "data": {
      "image/png": "[encoded data removed]",
      "text/plain": [
       "<Figure size 1440x432 with 3 Axes>"
      ]
     },
     "metadata": {
      "needs_background": "light"
     },
     "output_type": "display_data"
    }
   ],
   "source": [
    "fig, axs = plt.subplots(1, 3, figsize=(20, 6), constrained_layout=True)\n",
    "fig.suptitle('Концентрация металлов на выходе', fontsize=24)\n",
    "\n",
    "for metal, ax in zip(metal_list, axs):\n",
    "    ax.set_title(metal)\n",
    "    for stage in concentrate_output:        \n",
    "        cols = df_train.columns.str.contains(stage+'_'+metal)\n",
    "        sns_ax = sns.distplot(df_train.loc[:, cols].dropna(), label=stage, ax=ax)    \n",
    "plt.legend()\n",
    "\n",
    "fig, axs = plt.subplots(1, 3, figsize=(20, 6), constrained_layout=True)\n",
    "fig.suptitle('Концентрация металлов в хвостах', fontsize=24)\n",
    "\n",
    "for metal, ax in zip(metal_list, axs):\n",
    "    ax.set_title(metal)\n",
    "    for stage in concentrate_tail:        \n",
    "        cols = df_train.columns.str.contains(stage+'_'+metal)\n",
    "        sns_ax = sns.distplot(df_train.loc[:, cols].dropna(), label=stage, ax=ax)   \n",
    "plt.legend()\n",
    "\n",
    "plt.show()"
   ]
  },
  {
   "cell_type": "markdown",
   "metadata": {},
   "source": [
    "<div class=\"alert alert-info\"> <b>Комментарий студента:</b> \n",
    "\n",
    "После каждого этапа очистки концетрация золота увеличивается, а остатки в хвостах минимальны.Распределение остальных металлов не равномерное и в минимальных значениях.\n",
    "      \n",
    "    \n",
    "</div>"
   ]
  },
  {
   "cell_type": "markdown",
   "metadata": {},
   "source": [
    "<div class=\"alert alert-info\"> <b>Комментарий студента V2:</b> \n",
    "\n",
    "Удалил 0 выбросы на этапах очистки.\n",
    "      \n",
    "    \n",
    "</div>"
   ]
  },
  {
   "cell_type": "markdown",
   "metadata": {},
   "source": [
    "## Модель"
   ]
  },
  {
   "cell_type": "markdown",
   "metadata": {},
   "source": [
    "### Функция для вычисления итоговой sMAPE."
   ]
  },
  {
   "cell_type": "code",
   "execution_count": 21,
   "metadata": {},
   "outputs": [],
   "source": [
    "def smape(target, predictions):\n",
    "    return ((1/len(target)) * np.sum(2 * np.abs(target - predictions) / (np.abs(target) + np.abs(predictions)))) * 100"
   ]
  },
  {
   "cell_type": "code",
   "execution_count": 22,
   "metadata": {},
   "outputs": [],
   "source": [
    "def total_smape(smape_rougher, smape_final):\n",
    "    return 0.25*smape_rougher + 0.75*smape_final"
   ]
  },
  {
   "cell_type": "markdown",
   "metadata": {},
   "source": [
    "### Обучите разные модели и оцените их качество кросс-валидацией. Выберите лучшую модель и проверьте её на тестовой выборке. Опишите выводы."
   ]
  },
  {
   "cell_type": "code",
   "execution_count": 23,
   "metadata": {},
   "outputs": [],
   "source": [
    "df_train = df_train[df_test.columns]"
   ]
  },
  {
   "cell_type": "code",
   "execution_count": 24,
   "metadata": {},
   "outputs": [
    {
     "name": "stdout",
     "output_type": "stream",
     "text": [
      "(14149, 54)\n",
      "(5290, 54)\n"
     ]
    }
   ],
   "source": [
    "print(df_train.shape)\n",
    "print(df_test.shape)"
   ]
  },
  {
   "cell_type": "code",
   "execution_count": 25,
   "metadata": {},
   "outputs": [],
   "source": [
    "features_train_rougher = df_train\n",
    "features_test_rougher = df_test\n",
    "target_train_rougher = full.loc[features_train_rougher.index, 'rougher.output.recovery']\n",
    "target_test_rougher = full.loc[features_test_rougher.index, 'final.output.recovery']\n",
    "\n",
    "features_train_final = df_train\n",
    "features_test_final = df_test\n",
    "target_train_final = full.loc[features_train_final.index, 'final.output.recovery']\n",
    "target_test_final = full.loc[features_test_final.index, 'final.output.recovery']"
   ]
  },
  {
   "cell_type": "code",
   "execution_count": 26,
   "metadata": {},
   "outputs": [
    {
     "name": "stdout",
     "output_type": "stream",
     "text": [
      "(14149, 54) (14149, 54)\n",
      "(5290, 54) (5290, 54)\n",
      "(14149,) (14149,)\n",
      "(5290,) (5290,)\n"
     ]
    }
   ],
   "source": [
    "print(features_train_rougher.shape, features_train_final.shape)\n",
    "print(features_test_rougher.shape, features_test_final.shape)\n",
    "print(target_train_rougher.shape, target_train_final.shape)\n",
    "print(target_test_rougher.shape, target_test_final.shape)"
   ]
  },
  {
   "cell_type": "code",
   "execution_count": 27,
   "metadata": {},
   "outputs": [
    {
     "data": {
      "text/plain": [
       "date\n",
       "2016-09-01 00:59:59   70.27\n",
       "2016-09-01 01:59:59   68.91\n",
       "2016-09-01 02:59:59   68.14\n",
       "2016-09-01 03:59:59   67.78\n",
       "2016-09-01 04:59:59   61.47\n",
       "                       ... \n",
       "2017-12-31 19:59:59   68.92\n",
       "2017-12-31 20:59:59   68.44\n",
       "2017-12-31 21:59:59   67.09\n",
       "2017-12-31 22:59:59   68.06\n",
       "2017-12-31 23:59:59   71.70\n",
       "Name: final.output.recovery, Length: 5290, dtype: float64"
      ]
     },
     "execution_count": 27,
     "metadata": {},
     "output_type": "execute_result"
    }
   ],
   "source": [
    "target_test_final"
   ]
  },
  {
   "cell_type": "code",
   "execution_count": 32,
   "metadata": {},
   "outputs": [],
   "source": [
    "# Выберем три модели и параметры \n",
    "from sklearn.impute import SimpleImputer\n",
    "from numpy.random import RandomState\n",
    "state = RandomState(12345)\n",
    "\n",
    "pipe = Pipeline([('imp', SimpleImputer(missing_values=np.nan)),\n",
    "                 ('scaler', StandardScaler()),\n",
    "                 ('model', RandomForestRegressor(n_estimators=100, random_state=state))])\n",
    "\n",
    "params = [\n",
    "    {\n",
    "        'imp__strategy': ['mean', 'median'],\n",
    "        'model': [RandomForestRegressor(n_estimators=10, random_state=state)],\n",
    "        'model__max_features': np.linspace(0.1, 1, 10)\n",
    "    }, {\n",
    "        'imp__strategy': ['mean', 'median'],\n",
    "        'model': [LinearRegression()]\n",
    "    }, {\n",
    "        'imp__strategy': ['mean', 'median'],\n",
    "        'model': [linear_model.Lasso(random_state=state)],\n",
    "        'model__alpha': np.logspace(-3, 1, 10)\n",
    "    }\n",
    "]"
   ]
  },
  {
   "cell_type": "code",
   "execution_count": 33,
   "metadata": {},
   "outputs": [],
   "source": [
    "smape_score = make_scorer(smape, greate_is_better=False)"
   ]
  },
  {
   "cell_type": "code",
   "execution_count": 34,
   "metadata": {},
   "outputs": [],
   "source": [
    "# Проверим кросс валидацию\n",
    "cross_valid = KFold(n_splits=5, shuffle=False)\n",
    "model_rougher = GridSearchCV(pipe, param_grid=params, cv=cross_valid, n_jobs=-1, scoring=smape_score)"
   ]
  },
  {
   "cell_type": "code",
   "execution_count": 35,
   "metadata": {},
   "outputs": [
    {
     "data": {
      "text/plain": [
       "GridSearchCV(cv=KFold(n_splits=5, random_state=None, shuffle=False),\n",
       "             estimator=Pipeline(steps=[('imp', SimpleImputer()),\n",
       "                                       ('scaler', StandardScaler()),\n",
       "                                       ('model',\n",
       "                                        RandomForestRegressor(random_state=RandomState(MT19937) at 0x7FF9FCE81540))]),\n",
       "             n_jobs=-1,\n",
       "             param_grid=[{'imp__strategy': ['mean', 'median'],\n",
       "                          'model': [RandomForestRegressor(max_features=0.1,\n",
       "                                                          n_estimators=10,...\n",
       "                          'model': [LinearRegression()]},\n",
       "                         {'imp__strategy': ['mean', 'median'],\n",
       "                          'model': [Lasso(random_state=RandomState(MT19937) at 0x7FF9FCE81540)],\n",
       "                          'model__alpha': array([1.00000000e-03, 2.78255940e-03, 7.74263683e-03, 2.15443469e-02,\n",
       "       5.99484250e-02, 1.66810054e-01, 4.64158883e-01, 1.29154967e+00,\n",
       "       3.59381366e+00, 1.00000000e+01])}],\n",
       "             scoring=make_scorer(smape, greate_is_better=False))"
      ]
     },
     "execution_count": 35,
     "metadata": {},
     "output_type": "execute_result"
    }
   ],
   "source": [
    "model_rougher.fit(features_train_rougher, target_train_rougher)"
   ]
  },
  {
   "cell_type": "code",
   "execution_count": 36,
   "metadata": {},
   "outputs": [
    {
     "name": "stdout",
     "output_type": "stream",
     "text": [
      "Лучшие параметры для модели:{'imp__strategy': 'mean', 'model': RandomForestRegressor(max_features=0.1, n_estimators=10,\n",
      "                      random_state=RandomState(MT19937) at 0x7FF9FCE81540), 'model__max_features': 0.1}\n"
     ]
    }
   ],
   "source": [
    "print(f'Лучшие параметры для модели:{model_rougher.best_params_}')"
   ]
  },
  {
   "cell_type": "code",
   "execution_count": 37,
   "metadata": {},
   "outputs": [],
   "source": [
    "model_final = GridSearchCV(pipe, param_grid=params, cv=cross_valid, n_jobs=-1,scoring=smape_score)"
   ]
  },
  {
   "cell_type": "code",
   "execution_count": 38,
   "metadata": {},
   "outputs": [
    {
     "data": {
      "text/plain": [
       "GridSearchCV(cv=KFold(n_splits=5, random_state=None, shuffle=False),\n",
       "             estimator=Pipeline(steps=[('imp', SimpleImputer()),\n",
       "                                       ('scaler', StandardScaler()),\n",
       "                                       ('model',\n",
       "                                        RandomForestRegressor(random_state=RandomState(MT19937) at 0x7FF9FCE81540))]),\n",
       "             n_jobs=-1,\n",
       "             param_grid=[{'imp__strategy': ['mean', 'median'],\n",
       "                          'model': [RandomForestRegressor(max_features=0.1,\n",
       "                                                          n_estimators=10,...\n",
       "                          'model': [LinearRegression()]},\n",
       "                         {'imp__strategy': ['mean', 'median'],\n",
       "                          'model': [Lasso(random_state=RandomState(MT19937) at 0x7FF9FCE81540)],\n",
       "                          'model__alpha': array([1.00000000e-03, 2.78255940e-03, 7.74263683e-03, 2.15443469e-02,\n",
       "       5.99484250e-02, 1.66810054e-01, 4.64158883e-01, 1.29154967e+00,\n",
       "       3.59381366e+00, 1.00000000e+01])}],\n",
       "             scoring=make_scorer(smape, greate_is_better=False))"
      ]
     },
     "execution_count": 38,
     "metadata": {},
     "output_type": "execute_result"
    }
   ],
   "source": [
    "model_final.fit(features_train_final, target_train_final)"
   ]
  },
  {
   "cell_type": "code",
   "execution_count": 39,
   "metadata": {},
   "outputs": [
    {
     "name": "stdout",
     "output_type": "stream",
     "text": [
      "Лучшие параметры для модели:{'imp__strategy': 'mean', 'model': RandomForestRegressor(max_features=0.1, n_estimators=10,\n",
      "                      random_state=RandomState(MT19937) at 0x7FF9FCE81540), 'model__max_features': 0.1}\n"
     ]
    }
   ],
   "source": [
    "print(f'Лучшие параметры для модели:{model_final.best_params_}')"
   ]
  },
  {
   "cell_type": "code",
   "execution_count": 40,
   "metadata": {},
   "outputs": [
    {
     "data": {
      "text/plain": [
       "6.297867470507086"
      ]
     },
     "execution_count": 40,
     "metadata": {},
     "output_type": "execute_result"
    }
   ],
   "source": [
    "#Модель с лучшими параметрами для Тестовой выборки Rougher\n",
    "rougher = model_rougher.best_estimator_\n",
    "\n",
    "rougher.fit(features_train_rougher, target_train_rougher)\n",
    "predictions = rougher.predict(features_test_rougher)\n",
    "\n",
    "smape_rougher = smape(full.loc[target_test_rougher.index, 'rougher.output.recovery'], predictions)\n",
    "smape_rougher"
   ]
  },
  {
   "cell_type": "code",
   "execution_count": 41,
   "metadata": {},
   "outputs": [
    {
     "data": {
      "text/plain": [
       "5.687236968505832"
      ]
     },
     "execution_count": 41,
     "metadata": {},
     "output_type": "execute_result"
    }
   ],
   "source": [
    "#Модель с лучшими параметрами для Тестовой выборки Final\n",
    "final = model_final.best_estimator_\n",
    "    \n",
    "final.fit(features_train_final, target_train_final)\n",
    "predictions_final = final.predict(features_test_final)\n",
    "\n",
    "smape_final = smape(full.loc[target_test_final.index, 'final.output.recovery'], predictions_final)\n",
    "smape_final"
   ]
  },
  {
   "cell_type": "code",
   "execution_count": 42,
   "metadata": {},
   "outputs": [
    {
     "data": {
      "text/plain": [
       "5.839894594006146"
      ]
     },
     "execution_count": 42,
     "metadata": {},
     "output_type": "execute_result"
    }
   ],
   "source": [
    "#Итоговый smape \n",
    "total_smape(smape_rougher, smape_final)"
   ]
  },
  {
   "cell_type": "code",
   "execution_count": 43,
   "metadata": {},
   "outputs": [
    {
     "name": "stdout",
     "output_type": "stream",
     "text": [
      "8.524314629416791\n"
     ]
    }
   ],
   "source": [
    "from sklearn.dummy import DummyRegressor\n",
    "dummy_regressor_rougher = DummyRegressor(strategy=\"median\")\n",
    "dummy_regressor_rougher.fit(features_train_rougher, target_train_rougher)\n",
    "dummy_rougher_pred = dummy_regressor_rougher.predict(features_test_rougher)\n",
    "smape_dummy_rougher = smape(full.loc[target_test_rougher.index, 'rougher.output.recovery'], dummy_rougher_pred)\n",
    "print(smape_dummy_rougher)\n"
   ]
  },
  {
   "cell_type": "code",
   "execution_count": 31,
   "metadata": {},
   "outputs": [
    {
     "name": "stdout",
     "output_type": "stream",
     "text": [
      "6.763982508185251\n"
     ]
    }
   ],
   "source": [
    "from sklearn.dummy import DummyRegressor\n",
    "dummy_regressor_final = DummyRegressor(strategy=\"median\")\n",
    "dummy_regressor_final.fit(features_train_final, target_train_final)\n",
    "dummy_final_pred = dummy_regressor_final.predict(features_test_final)\n",
    "smape_dummy_final = smape(full.loc[target_test_final.index, 'final.output.recovery'], dummy_final_pred)\n",
    "print(smape_dummy_final)"
   ]
  },
  {
   "cell_type": "markdown",
   "metadata": {},
   "source": [
    "<div class=\"alert alert-info\"> <b>Комментарий студента:</b> \n",
    "\n",
    "Вывод:\n",
    "    \n",
    "- Исходя из анализа данных, концентрация золота растет на каждом этапе очистки, а в хвостах уменьшается. \n",
    "\n",
    "- С помощью GridSearchCV из 3 моделей нашли лучшую RandomForestRegressor. На этапе флотации показатель sMAPE 7.48, на финальном этапе sMAPE 5.74.\n",
    "\n",
    "- Итоговое sMAPE  6.18, попадает в  диапазон 7-10%.\n",
    "      \n",
    "    \n",
    "</div>"
   ]
  },
  {
   "cell_type": "markdown",
   "metadata": {},
   "source": [
    "<div class=\"alert alert-info\"> <b>Комментарий студента V2:</b> \n",
    "\n",
    "Вывод:\n",
    "    \n",
    "После удаления 0 значений прогрноз модели улучшился. \n",
    "    \n",
    "Dummy модель предсказывает хуже 8,5% против 5,8%\n",
    "      \n",
    "П.С.\n",
    "    Спасибо за ревью и комметарии. Надеюсь еще увидимся.\n",
    "</div>"
   ]
  }
 ],
 "metadata": {
  "ExecuteTimeLog": [
   {
    "duration": 2299,
    "start_time": "2022-03-21T09:03:08.063Z"
   },
   {
    "duration": 27597,
    "start_time": "2022-03-21T09:11:45.889Z"
   },
   {
    "duration": 9,
    "start_time": "2022-03-21T09:13:05.071Z"
   },
   {
    "duration": 20980,
    "start_time": "2022-03-21T09:13:06.205Z"
   },
   {
    "duration": 91,
    "start_time": "2022-03-21T09:13:27.189Z"
   },
   {
    "duration": 12662,
    "start_time": "2022-03-21T09:14:02.155Z"
   },
   {
    "duration": 8289,
    "start_time": "2022-03-21T09:14:22.184Z"
   },
   {
    "duration": 4,
    "start_time": "2022-03-21T09:14:37.860Z"
   },
   {
    "duration": 169,
    "start_time": "2022-03-21T09:18:01.743Z"
   },
   {
    "duration": 934,
    "start_time": "2022-03-21T09:18:38.139Z"
   },
   {
    "duration": 944,
    "start_time": "2022-03-21T09:19:00.422Z"
   },
   {
    "duration": 44391,
    "start_time": "2022-03-21T09:19:18.634Z"
   },
   {
    "duration": 2562,
    "start_time": "2022-03-21T09:20:49.634Z"
   },
   {
    "duration": 1035,
    "start_time": "2022-03-21T09:20:52.200Z"
   },
   {
    "duration": 43852,
    "start_time": "2022-03-21T09:20:53.237Z"
   },
   {
    "duration": 37,
    "start_time": "2022-03-21T09:24:50.366Z"
   },
   {
    "duration": 22,
    "start_time": "2022-03-21T09:27:10.962Z"
   },
   {
    "duration": 13,
    "start_time": "2022-03-21T09:28:20.607Z"
   },
   {
    "duration": 10,
    "start_time": "2022-03-21T09:28:52.370Z"
   },
   {
    "duration": 15,
    "start_time": "2022-03-21T09:29:33.790Z"
   },
   {
    "duration": 29,
    "start_time": "2022-03-21T09:39:03.032Z"
   },
   {
    "duration": 1021,
    "start_time": "2022-03-21T09:39:11.352Z"
   },
   {
    "duration": 30,
    "start_time": "2022-03-21T09:39:12.376Z"
   },
   {
    "duration": 26,
    "start_time": "2022-03-21T09:39:39.339Z"
   },
   {
    "duration": 18,
    "start_time": "2022-03-21T09:40:50.384Z"
   },
   {
    "duration": 7,
    "start_time": "2022-03-21T09:41:09.097Z"
   },
   {
    "duration": 917,
    "start_time": "2022-03-21T09:41:10.341Z"
   },
   {
    "duration": 16,
    "start_time": "2022-03-21T09:41:31.470Z"
   },
   {
    "duration": 175,
    "start_time": "2022-03-21T09:41:42.301Z"
   },
   {
    "duration": 172,
    "start_time": "2022-03-21T09:41:52.872Z"
   },
   {
    "duration": 20974,
    "start_time": "2022-03-21T09:45:44.318Z"
   },
   {
    "duration": 964,
    "start_time": "2022-03-21T09:48:26.533Z"
   },
   {
    "duration": 45124,
    "start_time": "2022-03-21T09:49:12.421Z"
   },
   {
    "duration": 2523,
    "start_time": "2022-03-21T09:50:26.339Z"
   },
   {
    "duration": 1054,
    "start_time": "2022-03-21T09:50:28.865Z"
   },
   {
    "duration": 160,
    "start_time": "2022-03-21T09:50:29.922Z"
   },
   {
    "duration": 0,
    "start_time": "2022-03-21T09:50:30.085Z"
   },
   {
    "duration": 0,
    "start_time": "2022-03-21T09:50:30.087Z"
   },
   {
    "duration": 44843,
    "start_time": "2022-03-21T09:50:36.522Z"
   },
   {
    "duration": 316,
    "start_time": "2022-03-21T09:51:54.677Z"
   },
   {
    "duration": 15,
    "start_time": "2022-03-21T09:52:35.503Z"
   },
   {
    "duration": 12,
    "start_time": "2022-03-21T09:52:42.831Z"
   },
   {
    "duration": 27,
    "start_time": "2022-03-21T09:53:01.673Z"
   },
   {
    "duration": 12,
    "start_time": "2022-03-21T09:53:28.615Z"
   },
   {
    "duration": 28,
    "start_time": "2022-03-21T09:53:35.641Z"
   },
   {
    "duration": 26,
    "start_time": "2022-03-21T09:53:47.805Z"
   },
   {
    "duration": 10,
    "start_time": "2022-03-21T10:22:48.247Z"
   },
   {
    "duration": 9,
    "start_time": "2022-03-21T10:23:00.463Z"
   },
   {
    "duration": 1152,
    "start_time": "2022-03-21T10:23:01.391Z"
   },
   {
    "duration": 13,
    "start_time": "2022-03-21T10:23:03.216Z"
   },
   {
    "duration": 7,
    "start_time": "2022-03-21T10:23:15.747Z"
   },
   {
    "duration": 10,
    "start_time": "2022-03-21T10:23:32.723Z"
   },
   {
    "duration": 23,
    "start_time": "2022-03-21T10:23:49.007Z"
   },
   {
    "duration": 5,
    "start_time": "2022-03-21T10:37:48.253Z"
   },
   {
    "duration": 3969,
    "start_time": "2022-03-21T11:09:17.479Z"
   },
   {
    "duration": 3784,
    "start_time": "2022-03-21T11:10:04.118Z"
   },
   {
    "duration": 2091,
    "start_time": "2022-03-21T11:12:07.402Z"
   },
   {
    "duration": 986,
    "start_time": "2022-03-21T11:12:09.496Z"
   },
   {
    "duration": 25,
    "start_time": "2022-03-21T11:12:10.484Z"
   },
   {
    "duration": 38,
    "start_time": "2022-03-21T11:12:10.513Z"
   },
   {
    "duration": 24,
    "start_time": "2022-03-21T11:12:10.553Z"
   },
   {
    "duration": 5,
    "start_time": "2022-03-21T11:12:10.579Z"
   },
   {
    "duration": 417,
    "start_time": "2022-03-21T11:12:10.586Z"
   },
   {
    "duration": 47,
    "start_time": "2022-03-21T11:12:11.006Z"
   },
   {
    "duration": 5,
    "start_time": "2022-03-21T11:18:25.790Z"
   },
   {
    "duration": 6,
    "start_time": "2022-03-21T11:18:40.420Z"
   },
   {
    "duration": 6,
    "start_time": "2022-03-21T11:21:21.218Z"
   },
   {
    "duration": 7,
    "start_time": "2022-03-21T11:29:25.196Z"
   },
   {
    "duration": 158,
    "start_time": "2022-03-21T11:29:35.045Z"
   },
   {
    "duration": 11,
    "start_time": "2022-03-21T11:29:45.595Z"
   },
   {
    "duration": 13,
    "start_time": "2022-03-21T11:29:56.387Z"
   },
   {
    "duration": 7,
    "start_time": "2022-03-21T11:30:01.900Z"
   },
   {
    "duration": 7,
    "start_time": "2022-03-21T11:32:35.477Z"
   },
   {
    "duration": 10,
    "start_time": "2022-03-21T11:50:28.721Z"
   },
   {
    "duration": 12,
    "start_time": "2022-03-21T11:50:46.932Z"
   },
   {
    "duration": 13,
    "start_time": "2022-03-21T11:50:56.658Z"
   },
   {
    "duration": 10,
    "start_time": "2022-03-21T11:51:14.858Z"
   },
   {
    "duration": 11,
    "start_time": "2022-03-21T11:51:29.987Z"
   },
   {
    "duration": 17,
    "start_time": "2022-03-21T11:51:41.272Z"
   },
   {
    "duration": 53,
    "start_time": "2022-03-21T12:02:57.061Z"
   },
   {
    "duration": 9,
    "start_time": "2022-03-21T12:03:11.593Z"
   },
   {
    "duration": 22,
    "start_time": "2022-03-21T12:03:37.667Z"
   },
   {
    "duration": 55,
    "start_time": "2022-03-21T12:04:01.450Z"
   },
   {
    "duration": 12,
    "start_time": "2022-03-21T12:04:02.207Z"
   },
   {
    "duration": 12,
    "start_time": "2022-03-21T12:09:29.807Z"
   },
   {
    "duration": 9,
    "start_time": "2022-03-21T12:10:17.249Z"
   },
   {
    "duration": 8,
    "start_time": "2022-03-21T12:10:30.210Z"
   },
   {
    "duration": 2120,
    "start_time": "2022-03-21T12:12:19.269Z"
   },
   {
    "duration": 991,
    "start_time": "2022-03-21T12:12:21.392Z"
   },
   {
    "duration": 26,
    "start_time": "2022-03-21T12:12:22.385Z"
   },
   {
    "duration": 39,
    "start_time": "2022-03-21T12:12:22.415Z"
   },
   {
    "duration": 24,
    "start_time": "2022-03-21T12:12:22.456Z"
   },
   {
    "duration": 5,
    "start_time": "2022-03-21T12:12:22.482Z"
   },
   {
    "duration": 418,
    "start_time": "2022-03-21T12:12:22.488Z"
   },
   {
    "duration": 45,
    "start_time": "2022-03-21T12:12:22.908Z"
   },
   {
    "duration": 7,
    "start_time": "2022-03-21T12:12:22.955Z"
   },
   {
    "duration": 18,
    "start_time": "2022-03-21T12:12:22.965Z"
   },
   {
    "duration": 90,
    "start_time": "2022-03-21T12:12:22.985Z"
   },
   {
    "duration": 10,
    "start_time": "2022-03-21T12:12:23.077Z"
   },
   {
    "duration": 11,
    "start_time": "2022-03-21T12:12:23.089Z"
   },
   {
    "duration": 11,
    "start_time": "2022-03-21T12:12:40.059Z"
   },
   {
    "duration": 53,
    "start_time": "2022-03-21T12:12:40.966Z"
   },
   {
    "duration": 12,
    "start_time": "2022-03-21T12:12:41.449Z"
   },
   {
    "duration": 11,
    "start_time": "2022-03-21T12:12:41.901Z"
   },
   {
    "duration": 50,
    "start_time": "2022-03-22T05:54:37.232Z"
   },
   {
    "duration": 1840,
    "start_time": "2022-03-22T05:54:45.311Z"
   },
   {
    "duration": 115,
    "start_time": "2022-03-22T05:54:47.153Z"
   },
   {
    "duration": 0,
    "start_time": "2022-03-22T05:54:47.269Z"
   },
   {
    "duration": 0,
    "start_time": "2022-03-22T05:54:47.270Z"
   },
   {
    "duration": 0,
    "start_time": "2022-03-22T05:54:47.272Z"
   },
   {
    "duration": 0,
    "start_time": "2022-03-22T05:54:47.273Z"
   },
   {
    "duration": 0,
    "start_time": "2022-03-22T05:54:47.274Z"
   },
   {
    "duration": 0,
    "start_time": "2022-03-22T05:54:47.275Z"
   },
   {
    "duration": 0,
    "start_time": "2022-03-22T05:54:47.276Z"
   },
   {
    "duration": 0,
    "start_time": "2022-03-22T05:54:47.277Z"
   },
   {
    "duration": 0,
    "start_time": "2022-03-22T05:54:47.278Z"
   },
   {
    "duration": 0,
    "start_time": "2022-03-22T05:54:47.279Z"
   },
   {
    "duration": 0,
    "start_time": "2022-03-22T05:54:47.280Z"
   },
   {
    "duration": 881,
    "start_time": "2022-03-22T05:55:27.754Z"
   },
   {
    "duration": 1539,
    "start_time": "2022-03-22T05:55:33.759Z"
   },
   {
    "duration": 927,
    "start_time": "2022-03-22T05:55:35.301Z"
   },
   {
    "duration": 23,
    "start_time": "2022-03-22T05:55:36.237Z"
   },
   {
    "duration": 20,
    "start_time": "2022-03-22T05:55:36.262Z"
   },
   {
    "duration": 56,
    "start_time": "2022-03-22T05:55:36.283Z"
   },
   {
    "duration": 4,
    "start_time": "2022-03-22T05:55:36.341Z"
   },
   {
    "duration": 233,
    "start_time": "2022-03-22T05:55:36.347Z"
   },
   {
    "duration": 29,
    "start_time": "2022-03-22T05:55:36.582Z"
   },
   {
    "duration": 5,
    "start_time": "2022-03-22T05:55:36.613Z"
   },
   {
    "duration": 26,
    "start_time": "2022-03-22T05:55:36.619Z"
   },
   {
    "duration": 47,
    "start_time": "2022-03-22T05:55:36.647Z"
   },
   {
    "duration": 10,
    "start_time": "2022-03-22T05:55:36.696Z"
   },
   {
    "duration": 32,
    "start_time": "2022-03-22T05:55:36.707Z"
   },
   {
    "duration": 9,
    "start_time": "2022-03-22T06:11:13.320Z"
   },
   {
    "duration": 3,
    "start_time": "2022-03-22T06:16:11.038Z"
   },
   {
    "duration": 1221,
    "start_time": "2022-03-22T06:16:12.008Z"
   },
   {
    "duration": 108,
    "start_time": "2022-03-22T06:16:14.076Z"
   },
   {
    "duration": 17,
    "start_time": "2022-03-22T06:17:01.229Z"
   },
   {
    "duration": 1690,
    "start_time": "2022-03-22T06:17:07.558Z"
   },
   {
    "duration": 815,
    "start_time": "2022-03-22T06:17:09.250Z"
   },
   {
    "duration": 18,
    "start_time": "2022-03-22T06:17:10.067Z"
   },
   {
    "duration": 12,
    "start_time": "2022-03-22T06:17:10.088Z"
   },
   {
    "duration": 40,
    "start_time": "2022-03-22T06:17:10.101Z"
   },
   {
    "duration": 4,
    "start_time": "2022-03-22T06:17:10.142Z"
   },
   {
    "duration": 13248,
    "start_time": "2022-03-22T06:17:10.148Z"
   },
   {
    "duration": 0,
    "start_time": "2022-03-22T06:17:23.400Z"
   },
   {
    "duration": 0,
    "start_time": "2022-03-22T06:17:23.402Z"
   },
   {
    "duration": 0,
    "start_time": "2022-03-22T06:17:23.404Z"
   },
   {
    "duration": 0,
    "start_time": "2022-03-22T06:17:23.406Z"
   },
   {
    "duration": 0,
    "start_time": "2022-03-22T06:17:23.407Z"
   },
   {
    "duration": 0,
    "start_time": "2022-03-22T06:17:23.409Z"
   },
   {
    "duration": 8593,
    "start_time": "2022-03-22T06:18:05.106Z"
   },
   {
    "duration": 7,
    "start_time": "2022-03-22T06:18:16.199Z"
   },
   {
    "duration": 6252,
    "start_time": "2022-03-22T06:21:23.785Z"
   },
   {
    "duration": 5424,
    "start_time": "2022-03-22T06:22:53.142Z"
   },
   {
    "duration": 4,
    "start_time": "2022-03-22T06:24:52.171Z"
   },
   {
    "duration": 6577,
    "start_time": "2022-03-22T06:25:00.122Z"
   },
   {
    "duration": 5,
    "start_time": "2022-03-22T06:25:32.195Z"
   },
   {
    "duration": 12,
    "start_time": "2022-03-22T06:25:42.254Z"
   },
   {
    "duration": 1916,
    "start_time": "2022-03-22T06:26:17.690Z"
   },
   {
    "duration": 997,
    "start_time": "2022-03-22T06:26:19.608Z"
   },
   {
    "duration": 30,
    "start_time": "2022-03-22T06:26:20.611Z"
   },
   {
    "duration": 21,
    "start_time": "2022-03-22T06:26:20.643Z"
   },
   {
    "duration": 49,
    "start_time": "2022-03-22T06:26:20.666Z"
   },
   {
    "duration": 19,
    "start_time": "2022-03-22T06:26:20.717Z"
   },
   {
    "duration": 8998,
    "start_time": "2022-03-22T06:26:20.738Z"
   },
   {
    "duration": 3,
    "start_time": "2022-03-22T06:26:29.739Z"
   },
   {
    "duration": 31,
    "start_time": "2022-03-22T06:26:29.745Z"
   },
   {
    "duration": 32,
    "start_time": "2022-03-22T06:26:29.778Z"
   },
   {
    "duration": 25,
    "start_time": "2022-03-22T06:26:29.813Z"
   },
   {
    "duration": 61,
    "start_time": "2022-03-22T06:26:29.842Z"
   },
   {
    "duration": 10,
    "start_time": "2022-03-22T06:26:29.906Z"
   },
   {
    "duration": 11,
    "start_time": "2022-03-22T06:26:29.938Z"
   },
   {
    "duration": 5,
    "start_time": "2022-03-22T06:32:11.334Z"
   },
   {
    "duration": 98,
    "start_time": "2022-03-22T06:32:26.682Z"
   },
   {
    "duration": 11,
    "start_time": "2022-03-22T06:32:31.815Z"
   },
   {
    "duration": 16,
    "start_time": "2022-03-22T06:32:40.733Z"
   },
   {
    "duration": 5,
    "start_time": "2022-03-22T06:34:10.757Z"
   },
   {
    "duration": 4,
    "start_time": "2022-03-22T06:34:30.061Z"
   },
   {
    "duration": 6146,
    "start_time": "2022-03-22T06:34:36.955Z"
   },
   {
    "duration": 3431,
    "start_time": "2022-03-22T06:35:41.158Z"
   },
   {
    "duration": 986,
    "start_time": "2022-03-22T06:35:44.591Z"
   },
   {
    "duration": 17,
    "start_time": "2022-03-22T06:35:45.579Z"
   },
   {
    "duration": 15,
    "start_time": "2022-03-22T06:35:45.597Z"
   },
   {
    "duration": 40,
    "start_time": "2022-03-22T06:35:45.615Z"
   },
   {
    "duration": 5,
    "start_time": "2022-03-22T06:35:45.657Z"
   },
   {
    "duration": 8520,
    "start_time": "2022-03-22T06:35:45.664Z"
   },
   {
    "duration": 5,
    "start_time": "2022-03-22T06:35:54.187Z"
   },
   {
    "duration": 15016,
    "start_time": "2022-03-22T06:35:54.195Z"
   },
   {
    "duration": 0,
    "start_time": "2022-03-22T06:36:09.213Z"
   },
   {
    "duration": 0,
    "start_time": "2022-03-22T06:36:09.214Z"
   },
   {
    "duration": 0,
    "start_time": "2022-03-22T06:36:09.215Z"
   },
   {
    "duration": 0,
    "start_time": "2022-03-22T06:36:09.217Z"
   },
   {
    "duration": 0,
    "start_time": "2022-03-22T06:36:09.218Z"
   },
   {
    "duration": 10,
    "start_time": "2022-03-22T06:36:37.078Z"
   },
   {
    "duration": 5,
    "start_time": "2022-03-22T06:36:46.659Z"
   },
   {
    "duration": 6,
    "start_time": "2022-03-22T06:36:47.609Z"
   },
   {
    "duration": 14,
    "start_time": "2022-03-22T06:36:58.498Z"
   },
   {
    "duration": 9,
    "start_time": "2022-03-22T06:39:00.995Z"
   },
   {
    "duration": 4,
    "start_time": "2022-03-22T06:39:04.889Z"
   },
   {
    "duration": 24,
    "start_time": "2022-03-22T06:39:05.693Z"
   },
   {
    "duration": 2182,
    "start_time": "2022-03-22T06:39:15.743Z"
   },
   {
    "duration": 934,
    "start_time": "2022-03-22T06:39:17.927Z"
   },
   {
    "duration": 23,
    "start_time": "2022-03-22T06:39:18.863Z"
   },
   {
    "duration": 15,
    "start_time": "2022-03-22T06:39:18.889Z"
   },
   {
    "duration": 51,
    "start_time": "2022-03-22T06:39:18.906Z"
   },
   {
    "duration": 6,
    "start_time": "2022-03-22T06:39:18.960Z"
   },
   {
    "duration": 8701,
    "start_time": "2022-03-22T06:39:18.969Z"
   },
   {
    "duration": 4,
    "start_time": "2022-03-22T06:39:27.672Z"
   },
   {
    "duration": 44,
    "start_time": "2022-03-22T06:39:27.678Z"
   },
   {
    "duration": 9,
    "start_time": "2022-03-22T06:39:27.725Z"
   },
   {
    "duration": 34,
    "start_time": "2022-03-22T06:39:27.736Z"
   },
   {
    "duration": 372,
    "start_time": "2022-03-22T06:39:27.772Z"
   },
   {
    "duration": 0,
    "start_time": "2022-03-22T06:39:28.147Z"
   },
   {
    "duration": 0,
    "start_time": "2022-03-22T06:39:28.150Z"
   },
   {
    "duration": 4,
    "start_time": "2022-03-22T06:43:58.910Z"
   },
   {
    "duration": 14,
    "start_time": "2022-03-22T06:44:00.211Z"
   },
   {
    "duration": 1077,
    "start_time": "2022-03-22T06:44:00.941Z"
   },
   {
    "duration": 3,
    "start_time": "2022-03-22T06:44:02.020Z"
   },
   {
    "duration": 24,
    "start_time": "2022-03-22T06:44:02.412Z"
   },
   {
    "duration": 1730,
    "start_time": "2022-03-22T06:44:25.125Z"
   },
   {
    "duration": 848,
    "start_time": "2022-03-22T06:44:26.858Z"
   },
   {
    "duration": 30,
    "start_time": "2022-03-22T06:44:27.708Z"
   },
   {
    "duration": 16,
    "start_time": "2022-03-22T06:44:27.741Z"
   },
   {
    "duration": 23,
    "start_time": "2022-03-22T06:44:27.761Z"
   },
   {
    "duration": 5,
    "start_time": "2022-03-22T06:44:27.786Z"
   },
   {
    "duration": 55,
    "start_time": "2022-03-22T06:44:27.795Z"
   },
   {
    "duration": 8446,
    "start_time": "2022-03-22T06:44:27.853Z"
   },
   {
    "duration": 6,
    "start_time": "2022-03-22T06:44:36.302Z"
   },
   {
    "duration": 42,
    "start_time": "2022-03-22T06:44:36.312Z"
   },
   {
    "duration": 5,
    "start_time": "2022-03-22T06:44:36.357Z"
   },
   {
    "duration": 28,
    "start_time": "2022-03-22T06:44:36.365Z"
   },
   {
    "duration": 337,
    "start_time": "2022-03-22T06:44:36.395Z"
   },
   {
    "duration": 0,
    "start_time": "2022-03-22T06:44:36.734Z"
   },
   {
    "duration": 0,
    "start_time": "2022-03-22T06:44:36.736Z"
   },
   {
    "duration": 12,
    "start_time": "2022-03-22T06:48:34.065Z"
   },
   {
    "duration": 11587,
    "start_time": "2022-03-22T06:48:34.722Z"
   },
   {
    "duration": 5,
    "start_time": "2022-03-22T06:48:46.313Z"
   },
   {
    "duration": 34,
    "start_time": "2022-03-22T06:48:46.321Z"
   },
   {
    "duration": 1784,
    "start_time": "2022-03-22T06:49:01.441Z"
   },
   {
    "duration": 1027,
    "start_time": "2022-03-22T06:49:03.228Z"
   },
   {
    "duration": 22,
    "start_time": "2022-03-22T06:49:04.258Z"
   },
   {
    "duration": 14,
    "start_time": "2022-03-22T06:49:04.284Z"
   },
   {
    "duration": 39,
    "start_time": "2022-03-22T06:49:04.300Z"
   },
   {
    "duration": 4,
    "start_time": "2022-03-22T06:49:04.342Z"
   },
   {
    "duration": 24,
    "start_time": "2022-03-22T06:49:04.348Z"
   },
   {
    "duration": 11784,
    "start_time": "2022-03-22T06:49:04.373Z"
   },
   {
    "duration": 3,
    "start_time": "2022-03-22T06:49:16.159Z"
   },
   {
    "duration": 27,
    "start_time": "2022-03-22T06:49:16.165Z"
   },
   {
    "duration": 5,
    "start_time": "2022-03-22T06:49:16.193Z"
   },
   {
    "duration": 11,
    "start_time": "2022-03-22T06:49:16.199Z"
   },
   {
    "duration": 318,
    "start_time": "2022-03-22T06:49:16.212Z"
   },
   {
    "duration": 0,
    "start_time": "2022-03-22T06:49:16.532Z"
   },
   {
    "duration": 0,
    "start_time": "2022-03-22T06:49:16.533Z"
   },
   {
    "duration": 10,
    "start_time": "2022-03-22T06:49:24.579Z"
   },
   {
    "duration": 1454,
    "start_time": "2022-03-22T06:49:25.474Z"
   },
   {
    "duration": 5,
    "start_time": "2022-03-22T06:49:26.931Z"
   },
   {
    "duration": 25,
    "start_time": "2022-03-22T06:49:27.750Z"
   },
   {
    "duration": 4,
    "start_time": "2022-03-22T06:50:57.593Z"
   },
   {
    "duration": 7,
    "start_time": "2022-03-22T06:50:58.136Z"
   },
   {
    "duration": 8366,
    "start_time": "2022-03-22T06:50:58.788Z"
   },
   {
    "duration": 5,
    "start_time": "2022-03-22T06:51:07.157Z"
   },
   {
    "duration": 27,
    "start_time": "2022-03-22T06:51:07.164Z"
   },
   {
    "duration": 3,
    "start_time": "2022-03-22T06:52:04.851Z"
   },
   {
    "duration": 20,
    "start_time": "2022-03-22T06:52:05.869Z"
   },
   {
    "duration": 4,
    "start_time": "2022-03-22T06:52:12.068Z"
   },
   {
    "duration": 9,
    "start_time": "2022-03-22T06:52:12.672Z"
   },
   {
    "duration": 1012,
    "start_time": "2022-03-22T06:52:13.287Z"
   },
   {
    "duration": 4,
    "start_time": "2022-03-22T06:52:15.514Z"
   },
   {
    "duration": 31,
    "start_time": "2022-03-22T06:52:16.037Z"
   },
   {
    "duration": 9,
    "start_time": "2022-03-22T06:54:15.601Z"
   },
   {
    "duration": 992,
    "start_time": "2022-03-22T06:54:16.463Z"
   },
   {
    "duration": 4,
    "start_time": "2022-03-22T06:54:17.459Z"
   },
   {
    "duration": 16,
    "start_time": "2022-03-22T06:54:18.352Z"
   },
   {
    "duration": 4,
    "start_time": "2022-03-22T06:56:18.397Z"
   },
   {
    "duration": 4,
    "start_time": "2022-03-22T06:56:31.602Z"
   },
   {
    "duration": 4,
    "start_time": "2022-03-22T06:56:38.953Z"
   },
   {
    "duration": 5,
    "start_time": "2022-03-22T07:03:17.209Z"
   },
   {
    "duration": 6,
    "start_time": "2022-03-22T07:03:54.623Z"
   },
   {
    "duration": 209,
    "start_time": "2022-03-22T07:03:55.801Z"
   },
   {
    "duration": 5,
    "start_time": "2022-03-22T07:03:58.631Z"
   },
   {
    "duration": 20,
    "start_time": "2022-03-22T07:03:59.695Z"
   },
   {
    "duration": 1802,
    "start_time": "2022-03-22T07:04:12.661Z"
   },
   {
    "duration": 943,
    "start_time": "2022-03-22T07:04:14.466Z"
   },
   {
    "duration": 6,
    "start_time": "2022-03-22T07:04:15.411Z"
   },
   {
    "duration": 7,
    "start_time": "2022-03-22T07:04:15.419Z"
   },
   {
    "duration": 6,
    "start_time": "2022-03-22T07:04:15.428Z"
   },
   {
    "duration": 23,
    "start_time": "2022-03-22T07:04:15.437Z"
   },
   {
    "duration": 16,
    "start_time": "2022-03-22T07:04:15.463Z"
   },
   {
    "duration": 27,
    "start_time": "2022-03-22T07:04:15.481Z"
   },
   {
    "duration": 5,
    "start_time": "2022-03-22T07:04:15.510Z"
   },
   {
    "duration": 229,
    "start_time": "2022-03-22T07:04:15.518Z"
   },
   {
    "duration": 4,
    "start_time": "2022-03-22T07:04:15.749Z"
   },
   {
    "duration": 42,
    "start_time": "2022-03-22T07:04:15.754Z"
   },
   {
    "duration": 5,
    "start_time": "2022-03-22T07:04:15.799Z"
   },
   {
    "duration": 15,
    "start_time": "2022-03-22T07:04:15.807Z"
   },
   {
    "duration": 368,
    "start_time": "2022-03-22T07:04:15.838Z"
   },
   {
    "duration": 0,
    "start_time": "2022-03-22T07:04:16.208Z"
   },
   {
    "duration": 0,
    "start_time": "2022-03-22T07:04:16.209Z"
   },
   {
    "duration": 4,
    "start_time": "2022-03-22T07:04:52.976Z"
   },
   {
    "duration": 26,
    "start_time": "2022-03-22T07:04:53.772Z"
   },
   {
    "duration": 4,
    "start_time": "2022-03-22T07:05:06.104Z"
   },
   {
    "duration": 17,
    "start_time": "2022-03-22T07:05:06.764Z"
   },
   {
    "duration": 4,
    "start_time": "2022-03-22T07:05:16.905Z"
   },
   {
    "duration": 218,
    "start_time": "2022-03-22T07:05:17.369Z"
   },
   {
    "duration": 5,
    "start_time": "2022-03-22T07:05:18.246Z"
   },
   {
    "duration": 28,
    "start_time": "2022-03-22T07:05:19.392Z"
   },
   {
    "duration": 6,
    "start_time": "2022-03-22T07:05:52.527Z"
   },
   {
    "duration": 5,
    "start_time": "2022-03-22T07:06:08.379Z"
   },
   {
    "duration": 204,
    "start_time": "2022-03-22T07:06:09.417Z"
   },
   {
    "duration": 6,
    "start_time": "2022-03-22T07:06:10.285Z"
   },
   {
    "duration": 4,
    "start_time": "2022-03-22T07:06:11.208Z"
   },
   {
    "duration": 32,
    "start_time": "2022-03-22T07:06:11.970Z"
   },
   {
    "duration": 1809,
    "start_time": "2022-03-22T07:06:51.210Z"
   },
   {
    "duration": 949,
    "start_time": "2022-03-22T07:06:53.022Z"
   },
   {
    "duration": 7,
    "start_time": "2022-03-22T07:06:53.974Z"
   },
   {
    "duration": 8,
    "start_time": "2022-03-22T07:06:53.984Z"
   },
   {
    "duration": 11,
    "start_time": "2022-03-22T07:06:53.994Z"
   },
   {
    "duration": 40,
    "start_time": "2022-03-22T07:06:54.007Z"
   },
   {
    "duration": 12,
    "start_time": "2022-03-22T07:06:54.048Z"
   },
   {
    "duration": 22,
    "start_time": "2022-03-22T07:06:54.061Z"
   },
   {
    "duration": 3,
    "start_time": "2022-03-22T07:06:54.084Z"
   },
   {
    "duration": 220,
    "start_time": "2022-03-22T07:06:54.089Z"
   },
   {
    "duration": 4,
    "start_time": "2022-03-22T07:06:54.311Z"
   },
   {
    "duration": 7,
    "start_time": "2022-03-22T07:06:54.316Z"
   },
   {
    "duration": 41,
    "start_time": "2022-03-22T07:06:54.325Z"
   },
   {
    "duration": 6,
    "start_time": "2022-03-22T07:06:54.369Z"
   },
   {
    "duration": 13,
    "start_time": "2022-03-22T07:06:54.377Z"
   },
   {
    "duration": 417,
    "start_time": "2022-03-22T07:06:54.392Z"
   },
   {
    "duration": 0,
    "start_time": "2022-03-22T07:06:54.811Z"
   },
   {
    "duration": 0,
    "start_time": "2022-03-22T07:06:54.813Z"
   },
   {
    "duration": 1888,
    "start_time": "2022-03-22T07:32:41.302Z"
   },
   {
    "duration": 1055,
    "start_time": "2022-03-22T07:32:43.193Z"
   },
   {
    "duration": 6,
    "start_time": "2022-03-22T07:32:44.250Z"
   },
   {
    "duration": 11,
    "start_time": "2022-03-22T07:32:44.258Z"
   },
   {
    "duration": 16,
    "start_time": "2022-03-22T07:32:44.271Z"
   },
   {
    "duration": 28,
    "start_time": "2022-03-22T07:32:44.289Z"
   },
   {
    "duration": 31,
    "start_time": "2022-03-22T07:32:44.319Z"
   },
   {
    "duration": 23,
    "start_time": "2022-03-22T07:32:44.352Z"
   },
   {
    "duration": 4,
    "start_time": "2022-03-22T07:32:44.377Z"
   },
   {
    "duration": 229,
    "start_time": "2022-03-22T07:32:44.385Z"
   },
   {
    "duration": 5,
    "start_time": "2022-03-22T07:32:44.616Z"
   },
   {
    "duration": 28,
    "start_time": "2022-03-22T07:32:44.622Z"
   },
   {
    "duration": 28,
    "start_time": "2022-03-22T07:32:44.653Z"
   },
   {
    "duration": 32,
    "start_time": "2022-03-22T07:32:44.683Z"
   },
   {
    "duration": 38,
    "start_time": "2022-03-22T07:32:44.718Z"
   },
   {
    "duration": 444,
    "start_time": "2022-03-22T07:32:44.758Z"
   },
   {
    "duration": 0,
    "start_time": "2022-03-22T07:32:45.204Z"
   },
   {
    "duration": 0,
    "start_time": "2022-03-22T07:32:45.206Z"
   },
   {
    "duration": 5,
    "start_time": "2022-03-22T07:34:38.489Z"
   },
   {
    "duration": 6,
    "start_time": "2022-03-22T07:35:33.236Z"
   },
   {
    "duration": 8,
    "start_time": "2022-03-22T07:36:06.789Z"
   },
   {
    "duration": 2292,
    "start_time": "2022-03-22T07:36:32.001Z"
   },
   {
    "duration": 1000,
    "start_time": "2022-03-22T07:36:34.296Z"
   },
   {
    "duration": 8,
    "start_time": "2022-03-22T07:36:35.298Z"
   },
   {
    "duration": 7,
    "start_time": "2022-03-22T07:36:35.309Z"
   },
   {
    "duration": 23,
    "start_time": "2022-03-22T07:36:35.319Z"
   },
   {
    "duration": 25,
    "start_time": "2022-03-22T07:36:35.344Z"
   },
   {
    "duration": 15,
    "start_time": "2022-03-22T07:36:35.371Z"
   },
   {
    "duration": 50,
    "start_time": "2022-03-22T07:36:35.388Z"
   },
   {
    "duration": 4,
    "start_time": "2022-03-22T07:36:35.439Z"
   },
   {
    "duration": 217,
    "start_time": "2022-03-22T07:36:35.446Z"
   },
   {
    "duration": 9,
    "start_time": "2022-03-22T07:36:35.666Z"
   },
   {
    "duration": 8,
    "start_time": "2022-03-22T07:36:35.677Z"
   },
   {
    "duration": 17,
    "start_time": "2022-03-22T07:36:35.687Z"
   },
   {
    "duration": 581,
    "start_time": "2022-03-22T07:36:35.706Z"
   },
   {
    "duration": 0,
    "start_time": "2022-03-22T07:36:36.289Z"
   },
   {
    "duration": 0,
    "start_time": "2022-03-22T07:36:36.290Z"
   },
   {
    "duration": 1886,
    "start_time": "2022-03-22T07:37:46.749Z"
   },
   {
    "duration": 843,
    "start_time": "2022-03-22T07:37:48.638Z"
   },
   {
    "duration": 8,
    "start_time": "2022-03-22T07:37:49.483Z"
   },
   {
    "duration": 8,
    "start_time": "2022-03-22T07:37:49.494Z"
   },
   {
    "duration": 10,
    "start_time": "2022-03-22T07:37:49.504Z"
   },
   {
    "duration": 24,
    "start_time": "2022-03-22T07:37:49.537Z"
   },
   {
    "duration": 17,
    "start_time": "2022-03-22T07:37:49.563Z"
   },
   {
    "duration": 20,
    "start_time": "2022-03-22T07:37:49.581Z"
   },
   {
    "duration": 35,
    "start_time": "2022-03-22T07:37:49.603Z"
   },
   {
    "duration": 235,
    "start_time": "2022-03-22T07:37:49.641Z"
   },
   {
    "duration": 6,
    "start_time": "2022-03-22T07:37:49.878Z"
   },
   {
    "duration": 5,
    "start_time": "2022-03-22T07:37:49.886Z"
   },
   {
    "duration": 10,
    "start_time": "2022-03-22T07:37:49.893Z"
   },
   {
    "duration": 67,
    "start_time": "2022-03-22T07:37:49.904Z"
   },
   {
    "duration": 12,
    "start_time": "2022-03-22T07:37:49.973Z"
   },
   {
    "duration": 9,
    "start_time": "2022-03-22T07:37:49.986Z"
   },
   {
    "duration": 19,
    "start_time": "2022-03-22T07:39:09.482Z"
   },
   {
    "duration": 5,
    "start_time": "2022-03-22T07:39:11.317Z"
   },
   {
    "duration": 10,
    "start_time": "2022-03-22T07:39:13.380Z"
   },
   {
    "duration": 51,
    "start_time": "2022-03-22T07:39:13.939Z"
   },
   {
    "duration": 12,
    "start_time": "2022-03-22T07:39:14.805Z"
   },
   {
    "duration": 10,
    "start_time": "2022-03-22T07:39:15.402Z"
   },
   {
    "duration": 4,
    "start_time": "2022-03-22T09:15:39.420Z"
   },
   {
    "duration": 3,
    "start_time": "2022-03-22T10:40:21.923Z"
   },
   {
    "duration": 59,
    "start_time": "2022-03-22T10:49:11.823Z"
   },
   {
    "duration": 103,
    "start_time": "2022-03-22T10:49:17.075Z"
   },
   {
    "duration": 21,
    "start_time": "2022-03-22T10:49:45.386Z"
   },
   {
    "duration": 2042,
    "start_time": "2022-03-22T10:50:23.101Z"
   },
   {
    "duration": 782,
    "start_time": "2022-03-22T10:50:25.145Z"
   },
   {
    "duration": 5,
    "start_time": "2022-03-22T10:50:25.929Z"
   },
   {
    "duration": 13,
    "start_time": "2022-03-22T10:50:25.938Z"
   },
   {
    "duration": 19,
    "start_time": "2022-03-22T10:50:25.953Z"
   },
   {
    "duration": 36,
    "start_time": "2022-03-22T10:50:25.974Z"
   },
   {
    "duration": 18,
    "start_time": "2022-03-22T10:50:26.012Z"
   },
   {
    "duration": 35,
    "start_time": "2022-03-22T10:50:26.032Z"
   },
   {
    "duration": 8,
    "start_time": "2022-03-22T10:50:26.068Z"
   },
   {
    "duration": 236,
    "start_time": "2022-03-22T10:50:26.078Z"
   },
   {
    "duration": 5,
    "start_time": "2022-03-22T10:50:26.315Z"
   },
   {
    "duration": 36,
    "start_time": "2022-03-22T10:50:26.322Z"
   },
   {
    "duration": 4,
    "start_time": "2022-03-22T10:50:26.360Z"
   },
   {
    "duration": 33,
    "start_time": "2022-03-22T10:50:26.367Z"
   },
   {
    "duration": 51,
    "start_time": "2022-03-22T10:50:26.401Z"
   },
   {
    "duration": 9,
    "start_time": "2022-03-22T10:50:26.453Z"
   },
   {
    "duration": 29,
    "start_time": "2022-03-22T10:50:26.464Z"
   },
   {
    "duration": 5,
    "start_time": "2022-03-22T10:50:26.495Z"
   },
   {
    "duration": 17,
    "start_time": "2022-03-22T10:50:26.501Z"
   },
   {
    "duration": 118,
    "start_time": "2022-03-22T10:50:26.520Z"
   },
   {
    "duration": 17,
    "start_time": "2022-03-22T10:51:53.910Z"
   },
   {
    "duration": 19,
    "start_time": "2022-03-22T10:54:40.863Z"
   },
   {
    "duration": 19,
    "start_time": "2022-03-22T10:57:05.731Z"
   },
   {
    "duration": 11,
    "start_time": "2022-03-22T10:57:42.073Z"
   },
   {
    "duration": 18,
    "start_time": "2022-03-22T10:58:07.158Z"
   },
   {
    "duration": 19,
    "start_time": "2022-03-22T10:58:41.703Z"
   },
   {
    "duration": 436,
    "start_time": "2022-03-22T10:59:15.503Z"
   },
   {
    "duration": 710,
    "start_time": "2022-03-22T10:59:39.065Z"
   },
   {
    "duration": 740,
    "start_time": "2022-03-22T10:59:47.527Z"
   },
   {
    "duration": 14939,
    "start_time": "2022-03-22T10:59:57.270Z"
   },
   {
    "duration": 15019,
    "start_time": "2022-03-22T11:00:59.679Z"
   },
   {
    "duration": 1971,
    "start_time": "2022-03-22T11:03:16.647Z"
   },
   {
    "duration": 791,
    "start_time": "2022-03-22T11:03:18.620Z"
   },
   {
    "duration": 5,
    "start_time": "2022-03-22T11:03:19.413Z"
   },
   {
    "duration": 6,
    "start_time": "2022-03-22T11:03:19.420Z"
   },
   {
    "duration": 17,
    "start_time": "2022-03-22T11:03:19.428Z"
   },
   {
    "duration": 21,
    "start_time": "2022-03-22T11:03:19.446Z"
   },
   {
    "duration": 12,
    "start_time": "2022-03-22T11:03:19.468Z"
   },
   {
    "duration": 18,
    "start_time": "2022-03-22T11:03:19.482Z"
   },
   {
    "duration": 4,
    "start_time": "2022-03-22T11:03:19.501Z"
   },
   {
    "duration": 216,
    "start_time": "2022-03-22T11:03:19.537Z"
   },
   {
    "duration": 6,
    "start_time": "2022-03-22T11:03:19.755Z"
   },
   {
    "duration": 35,
    "start_time": "2022-03-22T11:03:19.763Z"
   },
   {
    "duration": 6,
    "start_time": "2022-03-22T11:03:19.800Z"
   },
   {
    "duration": 11,
    "start_time": "2022-03-22T11:03:19.808Z"
   },
   {
    "duration": 60,
    "start_time": "2022-03-22T11:03:19.820Z"
   },
   {
    "duration": 10,
    "start_time": "2022-03-22T11:03:19.882Z"
   },
   {
    "duration": 9,
    "start_time": "2022-03-22T11:03:19.894Z"
   },
   {
    "duration": 33,
    "start_time": "2022-03-22T11:03:19.905Z"
   },
   {
    "duration": 7,
    "start_time": "2022-03-22T11:03:19.940Z"
   },
   {
    "duration": 49,
    "start_time": "2022-03-22T11:05:07.754Z"
   },
   {
    "duration": 2064,
    "start_time": "2022-03-22T11:05:12.865Z"
   },
   {
    "duration": 777,
    "start_time": "2022-03-22T11:05:14.931Z"
   },
   {
    "duration": 5,
    "start_time": "2022-03-22T11:05:15.710Z"
   },
   {
    "duration": 9,
    "start_time": "2022-03-22T11:05:15.717Z"
   },
   {
    "duration": 12,
    "start_time": "2022-03-22T11:05:15.728Z"
   },
   {
    "duration": 23,
    "start_time": "2022-03-22T11:05:15.742Z"
   },
   {
    "duration": 12,
    "start_time": "2022-03-22T11:05:15.766Z"
   },
   {
    "duration": 16,
    "start_time": "2022-03-22T11:05:15.779Z"
   },
   {
    "duration": 3,
    "start_time": "2022-03-22T11:05:15.797Z"
   },
   {
    "duration": 249,
    "start_time": "2022-03-22T11:05:15.802Z"
   },
   {
    "duration": 7,
    "start_time": "2022-03-22T11:05:16.053Z"
   },
   {
    "duration": 27,
    "start_time": "2022-03-22T11:05:16.062Z"
   },
   {
    "duration": 5,
    "start_time": "2022-03-22T11:05:16.091Z"
   },
   {
    "duration": 12,
    "start_time": "2022-03-22T11:05:16.097Z"
   },
   {
    "duration": 65,
    "start_time": "2022-03-22T11:05:16.111Z"
   },
   {
    "duration": 9,
    "start_time": "2022-03-22T11:05:16.177Z"
   },
   {
    "duration": 8,
    "start_time": "2022-03-22T11:05:16.188Z"
   },
   {
    "duration": 4,
    "start_time": "2022-03-22T11:05:16.198Z"
   },
   {
    "duration": 7,
    "start_time": "2022-03-22T11:05:16.203Z"
   },
   {
    "duration": 859,
    "start_time": "2022-03-22T11:05:16.212Z"
   },
   {
    "duration": 13995,
    "start_time": "2022-03-22T11:10:17.919Z"
   },
   {
    "duration": 659,
    "start_time": "2022-03-22T11:11:18.714Z"
   },
   {
    "duration": 14764,
    "start_time": "2022-03-22T11:12:06.164Z"
   },
   {
    "duration": 14459,
    "start_time": "2022-03-22T11:13:00.639Z"
   },
   {
    "duration": 3467,
    "start_time": "2022-03-22T11:15:05.106Z"
   },
   {
    "duration": 52,
    "start_time": "2022-03-22T11:16:16.305Z"
   },
   {
    "duration": 1700,
    "start_time": "2022-03-22T11:16:23.519Z"
   },
   {
    "duration": 759,
    "start_time": "2022-03-22T11:16:25.221Z"
   },
   {
    "duration": 5,
    "start_time": "2022-03-22T11:16:25.982Z"
   },
   {
    "duration": 7,
    "start_time": "2022-03-22T11:16:25.990Z"
   },
   {
    "duration": 9,
    "start_time": "2022-03-22T11:16:25.998Z"
   },
   {
    "duration": 31,
    "start_time": "2022-03-22T11:16:26.008Z"
   },
   {
    "duration": 17,
    "start_time": "2022-03-22T11:16:26.040Z"
   },
   {
    "duration": 16,
    "start_time": "2022-03-22T11:16:26.059Z"
   },
   {
    "duration": 3,
    "start_time": "2022-03-22T11:16:26.077Z"
   },
   {
    "duration": 245,
    "start_time": "2022-03-22T11:16:26.083Z"
   },
   {
    "duration": 8,
    "start_time": "2022-03-22T11:16:26.330Z"
   },
   {
    "duration": 19,
    "start_time": "2022-03-22T11:16:26.340Z"
   },
   {
    "duration": 4,
    "start_time": "2022-03-22T11:16:26.361Z"
   },
   {
    "duration": 12,
    "start_time": "2022-03-22T11:16:26.367Z"
   },
   {
    "duration": 73,
    "start_time": "2022-03-22T11:16:26.381Z"
   },
   {
    "duration": 8,
    "start_time": "2022-03-22T11:16:26.456Z"
   },
   {
    "duration": 17,
    "start_time": "2022-03-22T11:16:26.466Z"
   },
   {
    "duration": 29,
    "start_time": "2022-03-22T11:16:26.484Z"
   },
   {
    "duration": 19,
    "start_time": "2022-03-22T11:16:26.515Z"
   },
   {
    "duration": 859,
    "start_time": "2022-03-22T11:16:26.536Z"
   },
   {
    "duration": 13903,
    "start_time": "2022-03-22T11:16:37.119Z"
   },
   {
    "duration": 712,
    "start_time": "2022-03-22T11:18:21.259Z"
   },
   {
    "duration": 9520,
    "start_time": "2022-03-22T11:18:33.911Z"
   },
   {
    "duration": 9842,
    "start_time": "2022-03-22T12:09:37.052Z"
   },
   {
    "duration": 448,
    "start_time": "2022-03-22T12:12:31.276Z"
   },
   {
    "duration": 247,
    "start_time": "2022-03-22T12:12:44.074Z"
   },
   {
    "duration": 258,
    "start_time": "2022-03-22T12:15:00.473Z"
   },
   {
    "duration": 75,
    "start_time": "2022-03-23T05:33:15.333Z"
   },
   {
    "duration": 2277,
    "start_time": "2022-03-23T05:33:21.482Z"
   },
   {
    "duration": 893,
    "start_time": "2022-03-23T05:33:23.762Z"
   },
   {
    "duration": 7,
    "start_time": "2022-03-23T05:33:24.657Z"
   },
   {
    "duration": 42,
    "start_time": "2022-03-23T05:33:24.667Z"
   },
   {
    "duration": 37,
    "start_time": "2022-03-23T05:33:24.712Z"
   },
   {
    "duration": 50,
    "start_time": "2022-03-23T05:33:24.751Z"
   },
   {
    "duration": 26,
    "start_time": "2022-03-23T05:33:24.804Z"
   },
   {
    "duration": 24,
    "start_time": "2022-03-23T05:33:24.832Z"
   },
   {
    "duration": 26,
    "start_time": "2022-03-23T05:33:24.859Z"
   },
   {
    "duration": 375,
    "start_time": "2022-03-23T05:33:24.888Z"
   },
   {
    "duration": 7,
    "start_time": "2022-03-23T05:33:25.265Z"
   },
   {
    "duration": 23,
    "start_time": "2022-03-23T05:33:25.282Z"
   },
   {
    "duration": 6,
    "start_time": "2022-03-23T05:33:25.307Z"
   },
   {
    "duration": 20,
    "start_time": "2022-03-23T05:33:25.315Z"
   },
   {
    "duration": 88,
    "start_time": "2022-03-23T05:33:25.338Z"
   },
   {
    "duration": 10,
    "start_time": "2022-03-23T05:33:25.429Z"
   },
   {
    "duration": 44,
    "start_time": "2022-03-23T05:33:25.442Z"
   },
   {
    "duration": 13,
    "start_time": "2022-03-23T05:33:25.489Z"
   },
   {
    "duration": 14,
    "start_time": "2022-03-23T05:33:25.504Z"
   },
   {
    "duration": 13326,
    "start_time": "2022-03-23T05:33:25.520Z"
   },
   {
    "duration": 397,
    "start_time": "2022-03-23T05:33:38.848Z"
   },
   {
    "duration": 413,
    "start_time": "2022-03-23T05:33:39.247Z"
   },
   {
    "duration": 11989,
    "start_time": "2022-03-23T05:33:39.663Z"
   },
   {
    "duration": 5,
    "start_time": "2022-03-23T09:26:16.645Z"
   },
   {
    "duration": 8,
    "start_time": "2022-03-23T11:54:09.872Z"
   },
   {
    "duration": 5,
    "start_time": "2022-03-23T11:54:21.638Z"
   },
   {
    "duration": 5,
    "start_time": "2022-03-23T11:54:52.133Z"
   },
   {
    "duration": 203,
    "start_time": "2022-03-23T11:57:25.346Z"
   },
   {
    "duration": 11,
    "start_time": "2022-03-23T11:57:36.879Z"
   },
   {
    "duration": 13,
    "start_time": "2022-03-23T11:58:01.132Z"
   },
   {
    "duration": 24,
    "start_time": "2022-03-23T11:58:10.215Z"
   },
   {
    "duration": 11,
    "start_time": "2022-03-23T11:59:15.126Z"
   },
   {
    "duration": 31,
    "start_time": "2022-03-23T11:59:22.141Z"
   },
   {
    "duration": 21,
    "start_time": "2022-03-23T12:00:29.050Z"
   },
   {
    "duration": 80,
    "start_time": "2022-03-23T12:00:42.682Z"
   },
   {
    "duration": 1986,
    "start_time": "2022-03-23T12:01:32.326Z"
   },
   {
    "duration": 892,
    "start_time": "2022-03-23T12:01:34.315Z"
   },
   {
    "duration": 9,
    "start_time": "2022-03-23T12:01:35.209Z"
   },
   {
    "duration": 23,
    "start_time": "2022-03-23T12:01:35.222Z"
   },
   {
    "duration": 22,
    "start_time": "2022-03-23T12:01:35.248Z"
   },
   {
    "duration": 44,
    "start_time": "2022-03-23T12:01:35.272Z"
   },
   {
    "duration": 18,
    "start_time": "2022-03-23T12:01:35.319Z"
   },
   {
    "duration": 38,
    "start_time": "2022-03-23T12:01:35.340Z"
   },
   {
    "duration": 5,
    "start_time": "2022-03-23T12:01:35.380Z"
   },
   {
    "duration": 369,
    "start_time": "2022-03-23T12:01:35.390Z"
   },
   {
    "duration": 11,
    "start_time": "2022-03-23T12:01:35.761Z"
   },
   {
    "duration": 23,
    "start_time": "2022-03-23T12:01:35.783Z"
   },
   {
    "duration": 9,
    "start_time": "2022-03-23T12:01:35.809Z"
   },
   {
    "duration": 24,
    "start_time": "2022-03-23T12:01:35.820Z"
   },
   {
    "duration": 385,
    "start_time": "2022-03-23T12:01:35.846Z"
   },
   {
    "duration": 0,
    "start_time": "2022-03-23T12:01:36.234Z"
   },
   {
    "duration": 0,
    "start_time": "2022-03-23T12:01:36.235Z"
   },
   {
    "duration": 0,
    "start_time": "2022-03-23T12:01:36.237Z"
   },
   {
    "duration": 0,
    "start_time": "2022-03-23T12:01:36.238Z"
   },
   {
    "duration": 0,
    "start_time": "2022-03-23T12:01:36.239Z"
   },
   {
    "duration": 0,
    "start_time": "2022-03-23T12:01:36.241Z"
   },
   {
    "duration": 0,
    "start_time": "2022-03-23T12:01:36.242Z"
   },
   {
    "duration": 0,
    "start_time": "2022-03-23T12:01:36.244Z"
   },
   {
    "duration": 0,
    "start_time": "2022-03-23T12:01:36.246Z"
   },
   {
    "duration": 0,
    "start_time": "2022-03-23T12:01:36.247Z"
   },
   {
    "duration": 0,
    "start_time": "2022-03-23T12:01:36.249Z"
   },
   {
    "duration": 0,
    "start_time": "2022-03-23T12:01:36.251Z"
   },
   {
    "duration": 0,
    "start_time": "2022-03-23T12:01:36.253Z"
   },
   {
    "duration": 0,
    "start_time": "2022-03-23T12:01:36.254Z"
   },
   {
    "duration": 0,
    "start_time": "2022-03-23T12:01:36.256Z"
   },
   {
    "duration": 0,
    "start_time": "2022-03-23T12:01:36.257Z"
   },
   {
    "duration": 2160,
    "start_time": "2022-03-23T12:03:32.422Z"
   },
   {
    "duration": 883,
    "start_time": "2022-03-23T12:03:34.584Z"
   },
   {
    "duration": 13,
    "start_time": "2022-03-23T12:03:35.470Z"
   },
   {
    "duration": 67,
    "start_time": "2022-03-23T12:03:35.485Z"
   },
   {
    "duration": 62,
    "start_time": "2022-03-23T12:03:35.554Z"
   },
   {
    "duration": 62,
    "start_time": "2022-03-23T12:03:35.618Z"
   },
   {
    "duration": 23,
    "start_time": "2022-03-23T12:03:35.683Z"
   },
   {
    "duration": 24,
    "start_time": "2022-03-23T12:03:35.709Z"
   },
   {
    "duration": 5,
    "start_time": "2022-03-23T12:03:35.737Z"
   },
   {
    "duration": 410,
    "start_time": "2022-03-23T12:03:35.744Z"
   },
   {
    "duration": 8,
    "start_time": "2022-03-23T12:03:36.157Z"
   },
   {
    "duration": 22,
    "start_time": "2022-03-23T12:03:36.182Z"
   },
   {
    "duration": 7,
    "start_time": "2022-03-23T12:03:36.206Z"
   },
   {
    "duration": 18,
    "start_time": "2022-03-23T12:03:36.215Z"
   },
   {
    "duration": 89,
    "start_time": "2022-03-23T12:03:36.236Z"
   },
   {
    "duration": 11,
    "start_time": "2022-03-23T12:03:36.328Z"
   },
   {
    "duration": 15,
    "start_time": "2022-03-23T12:03:36.341Z"
   },
   {
    "duration": 27,
    "start_time": "2022-03-23T12:03:36.358Z"
   },
   {
    "duration": 9,
    "start_time": "2022-03-23T12:03:36.388Z"
   },
   {
    "duration": 12116,
    "start_time": "2022-03-23T12:03:36.400Z"
   },
   {
    "duration": 382,
    "start_time": "2022-03-23T12:03:48.519Z"
   },
   {
    "duration": 412,
    "start_time": "2022-03-23T12:03:48.903Z"
   },
   {
    "duration": 11973,
    "start_time": "2022-03-23T12:03:49.318Z"
   },
   {
    "duration": 5,
    "start_time": "2022-03-23T12:04:01.294Z"
   },
   {
    "duration": 46,
    "start_time": "2022-03-23T12:04:01.302Z"
   },
   {
    "duration": 26,
    "start_time": "2022-03-23T12:04:01.350Z"
   },
   {
    "duration": 44,
    "start_time": "2022-03-23T12:04:01.381Z"
   },
   {
    "duration": 229,
    "start_time": "2022-03-23T12:04:01.428Z"
   },
   {
    "duration": 0,
    "start_time": "2022-03-23T12:04:01.660Z"
   },
   {
    "duration": 0,
    "start_time": "2022-03-23T12:04:01.661Z"
   },
   {
    "duration": 0,
    "start_time": "2022-03-23T12:04:01.664Z"
   },
   {
    "duration": 85,
    "start_time": "2022-03-23T12:04:53.759Z"
   },
   {
    "duration": 81,
    "start_time": "2022-03-23T12:05:05.266Z"
   },
   {
    "duration": 18,
    "start_time": "2022-03-23T12:06:15.158Z"
   },
   {
    "duration": 21,
    "start_time": "2022-03-23T12:06:24.295Z"
   },
   {
    "duration": 20,
    "start_time": "2022-03-23T12:12:46.645Z"
   },
   {
    "duration": 17,
    "start_time": "2022-03-23T12:13:16.345Z"
   },
   {
    "duration": 10,
    "start_time": "2022-03-23T12:13:35.742Z"
   },
   {
    "duration": 71,
    "start_time": "2022-03-24T04:15:43.983Z"
   },
   {
    "duration": 2297,
    "start_time": "2022-03-24T04:15:50.825Z"
   },
   {
    "duration": 825,
    "start_time": "2022-03-24T04:15:53.125Z"
   },
   {
    "duration": 7,
    "start_time": "2022-03-24T04:15:53.952Z"
   },
   {
    "duration": 11,
    "start_time": "2022-03-24T04:15:53.962Z"
   },
   {
    "duration": 13,
    "start_time": "2022-03-24T04:15:53.976Z"
   },
   {
    "duration": 52,
    "start_time": "2022-03-24T04:15:53.991Z"
   },
   {
    "duration": 23,
    "start_time": "2022-03-24T04:15:54.045Z"
   },
   {
    "duration": 25,
    "start_time": "2022-03-24T04:15:54.071Z"
   },
   {
    "duration": 5,
    "start_time": "2022-03-24T04:15:54.099Z"
   },
   {
    "duration": 385,
    "start_time": "2022-03-24T04:15:54.144Z"
   },
   {
    "duration": 15,
    "start_time": "2022-03-24T04:15:54.531Z"
   },
   {
    "duration": 21,
    "start_time": "2022-03-24T04:15:54.549Z"
   },
   {
    "duration": 8,
    "start_time": "2022-03-24T04:15:54.572Z"
   },
   {
    "duration": 13,
    "start_time": "2022-03-24T04:15:54.582Z"
   },
   {
    "duration": 96,
    "start_time": "2022-03-24T04:15:54.597Z"
   },
   {
    "duration": 12,
    "start_time": "2022-03-24T04:15:54.695Z"
   },
   {
    "duration": 37,
    "start_time": "2022-03-24T04:15:54.710Z"
   },
   {
    "duration": 6,
    "start_time": "2022-03-24T04:15:54.750Z"
   },
   {
    "duration": 5,
    "start_time": "2022-03-24T04:15:54.758Z"
   },
   {
    "duration": 12056,
    "start_time": "2022-03-24T04:15:54.766Z"
   },
   {
    "duration": 400,
    "start_time": "2022-03-24T04:16:06.825Z"
   },
   {
    "duration": 509,
    "start_time": "2022-03-24T04:16:07.227Z"
   },
   {
    "duration": 11783,
    "start_time": "2022-03-24T04:16:07.743Z"
   },
   {
    "duration": 14,
    "start_time": "2022-03-24T04:16:19.529Z"
   },
   {
    "duration": 11,
    "start_time": "2022-03-24T04:16:19.545Z"
   },
   {
    "duration": 6,
    "start_time": "2022-03-24T04:16:19.558Z"
   },
   {
    "duration": 10,
    "start_time": "2022-03-24T04:16:19.566Z"
   },
   {
    "duration": 4,
    "start_time": "2022-03-24T04:16:19.581Z"
   },
   {
    "duration": 3520,
    "start_time": "2022-03-24T04:16:19.587Z"
   },
   {
    "duration": 32,
    "start_time": "2022-03-24T04:16:23.109Z"
   },
   {
    "duration": 3,
    "start_time": "2022-03-24T04:16:23.143Z"
   },
   {
    "duration": 6,
    "start_time": "2022-03-24T04:17:01.251Z"
   },
   {
    "duration": 6,
    "start_time": "2022-03-24T04:17:36.960Z"
   },
   {
    "duration": 51,
    "start_time": "2022-03-24T04:19:52.156Z"
   },
   {
    "duration": 171,
    "start_time": "2022-03-24T04:24:43.923Z"
   },
   {
    "duration": 2077,
    "start_time": "2022-03-24T04:24:57.236Z"
   },
   {
    "duration": 827,
    "start_time": "2022-03-24T04:24:59.316Z"
   },
   {
    "duration": 8,
    "start_time": "2022-03-24T04:25:00.146Z"
   },
   {
    "duration": 17,
    "start_time": "2022-03-24T04:25:00.158Z"
   },
   {
    "duration": 21,
    "start_time": "2022-03-24T04:25:00.177Z"
   },
   {
    "duration": 27,
    "start_time": "2022-03-24T04:25:00.200Z"
   },
   {
    "duration": 27,
    "start_time": "2022-03-24T04:25:00.229Z"
   },
   {
    "duration": 23,
    "start_time": "2022-03-24T04:25:00.258Z"
   },
   {
    "duration": 4,
    "start_time": "2022-03-24T04:25:00.284Z"
   },
   {
    "duration": 487,
    "start_time": "2022-03-24T04:25:00.294Z"
   },
   {
    "duration": 8,
    "start_time": "2022-03-24T04:25:00.783Z"
   },
   {
    "duration": 48,
    "start_time": "2022-03-24T04:25:00.794Z"
   },
   {
    "duration": 8,
    "start_time": "2022-03-24T04:25:00.844Z"
   },
   {
    "duration": 22,
    "start_time": "2022-03-24T04:25:00.855Z"
   },
   {
    "duration": 79,
    "start_time": "2022-03-24T04:25:00.880Z"
   },
   {
    "duration": 13,
    "start_time": "2022-03-24T04:25:00.961Z"
   },
   {
    "duration": 13,
    "start_time": "2022-03-24T04:25:00.977Z"
   },
   {
    "duration": 14,
    "start_time": "2022-03-24T04:25:00.992Z"
   },
   {
    "duration": 43,
    "start_time": "2022-03-24T04:25:01.008Z"
   },
   {
    "duration": 12187,
    "start_time": "2022-03-24T04:25:01.053Z"
   },
   {
    "duration": 390,
    "start_time": "2022-03-24T04:25:13.244Z"
   },
   {
    "duration": 393,
    "start_time": "2022-03-24T04:25:13.636Z"
   },
   {
    "duration": 11620,
    "start_time": "2022-03-24T04:25:14.031Z"
   },
   {
    "duration": 4,
    "start_time": "2022-03-24T04:25:25.653Z"
   },
   {
    "duration": 12,
    "start_time": "2022-03-24T04:25:25.659Z"
   },
   {
    "duration": 6,
    "start_time": "2022-03-24T04:25:25.674Z"
   },
   {
    "duration": 11,
    "start_time": "2022-03-24T04:25:25.682Z"
   },
   {
    "duration": 6,
    "start_time": "2022-03-24T04:25:25.698Z"
   },
   {
    "duration": 215,
    "start_time": "2022-03-24T04:25:25.705Z"
   },
   {
    "duration": 17,
    "start_time": "2022-03-24T04:25:55.619Z"
   },
   {
    "duration": 8,
    "start_time": "2022-03-24T04:27:06.349Z"
   },
   {
    "duration": 7,
    "start_time": "2022-03-24T04:28:55.920Z"
   },
   {
    "duration": 10,
    "start_time": "2022-03-24T04:29:48.094Z"
   },
   {
    "duration": 4,
    "start_time": "2022-03-24T04:35:51.179Z"
   },
   {
    "duration": 5,
    "start_time": "2022-03-24T04:35:53.380Z"
   },
   {
    "duration": 13,
    "start_time": "2022-03-24T04:37:38.923Z"
   },
   {
    "duration": 4,
    "start_time": "2022-03-24T04:37:55.655Z"
   },
   {
    "duration": 13,
    "start_time": "2022-03-24T04:42:23.852Z"
   },
   {
    "duration": 4,
    "start_time": "2022-03-24T04:42:37.165Z"
   },
   {
    "duration": 355307,
    "start_time": "2022-03-24T04:43:38.109Z"
   },
   {
    "duration": 13,
    "start_time": "2022-03-24T04:54:48.981Z"
   },
   {
    "duration": 2055,
    "start_time": "2022-03-24T04:57:58.533Z"
   },
   {
    "duration": 885,
    "start_time": "2022-03-24T04:58:00.590Z"
   },
   {
    "duration": 8,
    "start_time": "2022-03-24T04:58:01.477Z"
   },
   {
    "duration": 8,
    "start_time": "2022-03-24T04:58:01.488Z"
   },
   {
    "duration": 15,
    "start_time": "2022-03-24T04:58:01.498Z"
   },
   {
    "duration": 49,
    "start_time": "2022-03-24T04:58:01.515Z"
   },
   {
    "duration": 19,
    "start_time": "2022-03-24T04:58:01.566Z"
   },
   {
    "duration": 27,
    "start_time": "2022-03-24T04:58:01.587Z"
   },
   {
    "duration": 30,
    "start_time": "2022-03-24T04:58:01.616Z"
   },
   {
    "duration": 388,
    "start_time": "2022-03-24T04:58:01.650Z"
   },
   {
    "duration": 7,
    "start_time": "2022-03-24T04:58:02.042Z"
   },
   {
    "duration": 28,
    "start_time": "2022-03-24T04:58:02.051Z"
   },
   {
    "duration": 6,
    "start_time": "2022-03-24T04:58:02.081Z"
   },
   {
    "duration": 14,
    "start_time": "2022-03-24T04:58:02.089Z"
   },
   {
    "duration": 83,
    "start_time": "2022-03-24T04:58:02.105Z"
   },
   {
    "duration": 11,
    "start_time": "2022-03-24T04:58:02.190Z"
   },
   {
    "duration": 18,
    "start_time": "2022-03-24T04:58:02.203Z"
   },
   {
    "duration": 6,
    "start_time": "2022-03-24T04:58:02.242Z"
   },
   {
    "duration": 7,
    "start_time": "2022-03-24T04:58:02.250Z"
   },
   {
    "duration": 12184,
    "start_time": "2022-03-24T04:58:02.259Z"
   },
   {
    "duration": 386,
    "start_time": "2022-03-24T04:58:14.446Z"
   },
   {
    "duration": 516,
    "start_time": "2022-03-24T04:58:14.834Z"
   },
   {
    "duration": 12005,
    "start_time": "2022-03-24T04:58:15.353Z"
   },
   {
    "duration": 5,
    "start_time": "2022-03-24T04:58:27.360Z"
   },
   {
    "duration": 7,
    "start_time": "2022-03-24T04:58:27.367Z"
   },
   {
    "duration": 11,
    "start_time": "2022-03-24T04:58:27.376Z"
   },
   {
    "duration": 8,
    "start_time": "2022-03-24T04:58:27.389Z"
   },
   {
    "duration": 43,
    "start_time": "2022-03-24T04:58:27.402Z"
   },
   {
    "duration": 8,
    "start_time": "2022-03-24T04:58:27.448Z"
   },
   {
    "duration": 11,
    "start_time": "2022-03-24T04:58:27.458Z"
   },
   {
    "duration": 5,
    "start_time": "2022-03-24T04:58:27.471Z"
   },
   {
    "duration": 4,
    "start_time": "2022-03-24T04:58:27.479Z"
   },
   {
    "duration": 329406,
    "start_time": "2022-03-24T04:58:27.485Z"
   },
   {
    "duration": 0,
    "start_time": "2022-03-24T05:03:57.066Z"
   },
   {
    "duration": 6,
    "start_time": "2022-03-24T05:04:17.436Z"
   },
   {
    "duration": 12,
    "start_time": "2022-03-24T05:06:36.344Z"
   },
   {
    "duration": 4,
    "start_time": "2022-03-24T05:06:59.598Z"
   },
   {
    "duration": 5,
    "start_time": "2022-03-24T05:07:31.441Z"
   },
   {
    "duration": 22,
    "start_time": "2022-03-24T05:14:03.674Z"
   },
   {
    "duration": 4,
    "start_time": "2022-03-24T05:14:08.221Z"
   },
   {
    "duration": 4,
    "start_time": "2022-03-24T05:14:19.594Z"
   },
   {
    "duration": 2045,
    "start_time": "2022-03-24T05:21:34.071Z"
   },
   {
    "duration": 858,
    "start_time": "2022-03-24T05:21:36.119Z"
   },
   {
    "duration": 8,
    "start_time": "2022-03-24T05:21:36.979Z"
   },
   {
    "duration": 6,
    "start_time": "2022-03-24T05:21:36.990Z"
   },
   {
    "duration": 5,
    "start_time": "2022-03-24T05:21:36.998Z"
   },
   {
    "duration": 55,
    "start_time": "2022-03-24T05:21:37.005Z"
   },
   {
    "duration": 19,
    "start_time": "2022-03-24T05:21:37.062Z"
   },
   {
    "duration": 23,
    "start_time": "2022-03-24T05:21:37.083Z"
   },
   {
    "duration": 35,
    "start_time": "2022-03-24T05:21:37.108Z"
   },
   {
    "duration": 380,
    "start_time": "2022-03-24T05:21:37.148Z"
   },
   {
    "duration": 15,
    "start_time": "2022-03-24T05:21:37.530Z"
   },
   {
    "duration": 24,
    "start_time": "2022-03-24T05:21:37.547Z"
   },
   {
    "duration": 6,
    "start_time": "2022-03-24T05:21:37.573Z"
   },
   {
    "duration": 13,
    "start_time": "2022-03-24T05:21:37.581Z"
   },
   {
    "duration": 90,
    "start_time": "2022-03-24T05:21:37.596Z"
   },
   {
    "duration": 11,
    "start_time": "2022-03-24T05:21:37.688Z"
   },
   {
    "duration": 12,
    "start_time": "2022-03-24T05:21:37.701Z"
   },
   {
    "duration": 29,
    "start_time": "2022-03-24T05:21:37.716Z"
   },
   {
    "duration": 5,
    "start_time": "2022-03-24T05:21:37.747Z"
   },
   {
    "duration": 12011,
    "start_time": "2022-03-24T05:21:37.755Z"
   },
   {
    "duration": 392,
    "start_time": "2022-03-24T05:21:49.769Z"
   },
   {
    "duration": 417,
    "start_time": "2022-03-24T05:21:50.163Z"
   },
   {
    "duration": 11943,
    "start_time": "2022-03-24T05:21:50.583Z"
   },
   {
    "duration": 14,
    "start_time": "2022-03-24T05:22:02.529Z"
   },
   {
    "duration": 3,
    "start_time": "2022-03-24T05:22:02.547Z"
   },
   {
    "duration": 20,
    "start_time": "2022-03-24T05:22:02.552Z"
   },
   {
    "duration": 18,
    "start_time": "2022-03-24T05:22:02.574Z"
   },
   {
    "duration": 11,
    "start_time": "2022-03-24T05:22:02.596Z"
   },
   {
    "duration": 6,
    "start_time": "2022-03-24T05:22:02.609Z"
   },
   {
    "duration": 30,
    "start_time": "2022-03-24T05:22:02.618Z"
   },
   {
    "duration": 19,
    "start_time": "2022-03-24T05:22:02.650Z"
   },
   {
    "duration": 174,
    "start_time": "2022-03-24T05:22:02.671Z"
   },
   {
    "duration": 0,
    "start_time": "2022-03-24T05:22:02.848Z"
   },
   {
    "duration": 0,
    "start_time": "2022-03-24T05:22:02.849Z"
   },
   {
    "duration": 0,
    "start_time": "2022-03-24T05:22:02.850Z"
   },
   {
    "duration": 0,
    "start_time": "2022-03-24T05:22:02.852Z"
   },
   {
    "duration": 5,
    "start_time": "2022-03-24T05:31:30.136Z"
   },
   {
    "duration": 338829,
    "start_time": "2022-03-24T05:31:31.708Z"
   },
   {
    "duration": 23,
    "start_time": "2022-03-24T05:37:10.540Z"
   },
   {
    "duration": 6,
    "start_time": "2022-03-24T05:37:10.566Z"
   },
   {
    "duration": 6,
    "start_time": "2022-03-24T05:37:10.576Z"
   },
   {
    "duration": 49,
    "start_time": "2022-03-24T05:39:14.406Z"
   },
   {
    "duration": 5,
    "start_time": "2022-03-24T05:39:15.611Z"
   },
   {
    "duration": 5,
    "start_time": "2022-03-24T05:39:16.434Z"
   },
   {
    "duration": 21,
    "start_time": "2022-03-24T05:41:08.581Z"
   },
   {
    "duration": 6,
    "start_time": "2022-03-24T05:41:09.516Z"
   },
   {
    "duration": 5,
    "start_time": "2022-03-24T05:41:10.149Z"
   },
   {
    "duration": 7,
    "start_time": "2022-03-24T05:42:29.139Z"
   },
   {
    "duration": 4,
    "start_time": "2022-03-24T05:42:31.459Z"
   },
   {
    "duration": 4,
    "start_time": "2022-03-24T05:42:32.602Z"
   },
   {
    "duration": 344450,
    "start_time": "2022-03-24T05:42:33.987Z"
   },
   {
    "duration": 22,
    "start_time": "2022-03-24T05:48:18.440Z"
   },
   {
    "duration": 6,
    "start_time": "2022-03-24T05:48:18.465Z"
   },
   {
    "duration": 8,
    "start_time": "2022-03-24T05:48:18.474Z"
   },
   {
    "duration": 13,
    "start_time": "2022-03-24T06:03:18.106Z"
   },
   {
    "duration": 5,
    "start_time": "2022-03-24T06:03:41.184Z"
   },
   {
    "duration": 340679,
    "start_time": "2022-03-24T06:03:42.532Z"
   },
   {
    "duration": 5,
    "start_time": "2022-03-24T06:09:23.214Z"
   },
   {
    "duration": 1306,
    "start_time": "2022-03-24T06:23:53.023Z"
   },
   {
    "duration": 0,
    "start_time": "2022-03-24T06:23:54.332Z"
   },
   {
    "duration": 905,
    "start_time": "2022-03-24T06:24:14.511Z"
   },
   {
    "duration": 928,
    "start_time": "2022-03-24T06:24:17.531Z"
   },
   {
    "duration": 5,
    "start_time": "2022-03-24T06:27:03.087Z"
   },
   {
    "duration": 12,
    "start_time": "2022-03-24T06:27:51.936Z"
   },
   {
    "duration": 2109,
    "start_time": "2022-03-24T06:30:26.676Z"
   },
   {
    "duration": 887,
    "start_time": "2022-03-24T06:30:28.788Z"
   },
   {
    "duration": 7,
    "start_time": "2022-03-24T06:30:29.677Z"
   },
   {
    "duration": 8,
    "start_time": "2022-03-24T06:30:29.687Z"
   },
   {
    "duration": 7,
    "start_time": "2022-03-24T06:30:29.697Z"
   },
   {
    "duration": 50,
    "start_time": "2022-03-24T06:30:29.706Z"
   },
   {
    "duration": 18,
    "start_time": "2022-03-24T06:30:29.759Z"
   },
   {
    "duration": 25,
    "start_time": "2022-03-24T06:30:29.779Z"
   },
   {
    "duration": 38,
    "start_time": "2022-03-24T06:30:29.806Z"
   },
   {
    "duration": 394,
    "start_time": "2022-03-24T06:30:29.849Z"
   },
   {
    "duration": 7,
    "start_time": "2022-03-24T06:30:30.245Z"
   },
   {
    "duration": 26,
    "start_time": "2022-03-24T06:30:30.253Z"
   },
   {
    "duration": 6,
    "start_time": "2022-03-24T06:30:30.282Z"
   },
   {
    "duration": 16,
    "start_time": "2022-03-24T06:30:30.290Z"
   },
   {
    "duration": 87,
    "start_time": "2022-03-24T06:30:30.308Z"
   },
   {
    "duration": 11,
    "start_time": "2022-03-24T06:30:30.397Z"
   },
   {
    "duration": 35,
    "start_time": "2022-03-24T06:30:30.410Z"
   },
   {
    "duration": 5,
    "start_time": "2022-03-24T06:30:30.447Z"
   },
   {
    "duration": 9,
    "start_time": "2022-03-24T06:30:30.455Z"
   },
   {
    "duration": 11908,
    "start_time": "2022-03-24T06:30:30.465Z"
   },
   {
    "duration": 402,
    "start_time": "2022-03-24T06:30:42.376Z"
   },
   {
    "duration": 399,
    "start_time": "2022-03-24T06:30:42.781Z"
   },
   {
    "duration": 11746,
    "start_time": "2022-03-24T06:30:43.183Z"
   },
   {
    "duration": 13,
    "start_time": "2022-03-24T06:30:54.932Z"
   },
   {
    "duration": 9,
    "start_time": "2022-03-24T06:30:54.947Z"
   },
   {
    "duration": 7,
    "start_time": "2022-03-24T06:30:54.958Z"
   },
   {
    "duration": 14,
    "start_time": "2022-03-24T06:30:54.967Z"
   },
   {
    "duration": 7,
    "start_time": "2022-03-24T06:30:54.985Z"
   },
   {
    "duration": 49,
    "start_time": "2022-03-24T06:30:54.994Z"
   },
   {
    "duration": 4,
    "start_time": "2022-03-24T06:30:55.046Z"
   },
   {
    "duration": 7,
    "start_time": "2022-03-24T06:30:55.052Z"
   },
   {
    "duration": 335986,
    "start_time": "2022-03-24T06:30:55.061Z"
   },
   {
    "duration": 6,
    "start_time": "2022-03-24T06:36:31.049Z"
   },
   {
    "duration": 11,
    "start_time": "2022-03-24T06:36:31.058Z"
   },
   {
    "duration": 340812,
    "start_time": "2022-03-24T06:36:31.071Z"
   },
   {
    "duration": 6,
    "start_time": "2022-03-24T06:42:11.886Z"
   },
   {
    "duration": 912,
    "start_time": "2022-03-24T06:42:11.893Z"
   },
   {
    "duration": 952,
    "start_time": "2022-03-24T06:42:12.808Z"
   },
   {
    "duration": 12,
    "start_time": "2022-03-24T06:42:13.762Z"
   },
   {
    "duration": 4,
    "start_time": "2022-03-24T06:48:33.286Z"
   },
   {
    "duration": 4,
    "start_time": "2022-03-24T06:48:40.544Z"
   },
   {
    "duration": 6,
    "start_time": "2022-03-24T06:48:53.483Z"
   },
   {
    "duration": 169,
    "start_time": "2022-03-24T06:49:31.040Z"
   },
   {
    "duration": 2185,
    "start_time": "2022-03-24T06:49:51.921Z"
   },
   {
    "duration": 864,
    "start_time": "2022-03-24T06:49:54.109Z"
   },
   {
    "duration": 7,
    "start_time": "2022-03-24T06:49:54.976Z"
   },
   {
    "duration": 6,
    "start_time": "2022-03-24T06:49:54.985Z"
   },
   {
    "duration": 5,
    "start_time": "2022-03-24T06:49:54.995Z"
   },
   {
    "duration": 57,
    "start_time": "2022-03-24T06:49:55.002Z"
   },
   {
    "duration": 19,
    "start_time": "2022-03-24T06:49:55.061Z"
   },
   {
    "duration": 24,
    "start_time": "2022-03-24T06:49:55.083Z"
   },
   {
    "duration": 34,
    "start_time": "2022-03-24T06:49:55.109Z"
   },
   {
    "duration": 391,
    "start_time": "2022-03-24T06:49:55.145Z"
   },
   {
    "duration": 7,
    "start_time": "2022-03-24T06:49:55.538Z"
   },
   {
    "duration": 25,
    "start_time": "2022-03-24T06:49:55.547Z"
   },
   {
    "duration": 6,
    "start_time": "2022-03-24T06:49:55.574Z"
   },
   {
    "duration": 13,
    "start_time": "2022-03-24T06:49:55.584Z"
   },
   {
    "duration": 103,
    "start_time": "2022-03-24T06:49:55.599Z"
   },
   {
    "duration": 11,
    "start_time": "2022-03-24T06:49:55.704Z"
   },
   {
    "duration": 33,
    "start_time": "2022-03-24T06:49:55.718Z"
   },
   {
    "duration": 6,
    "start_time": "2022-03-24T06:49:55.753Z"
   },
   {
    "duration": 6,
    "start_time": "2022-03-24T06:49:55.762Z"
   },
   {
    "duration": 11978,
    "start_time": "2022-03-24T06:49:55.771Z"
   },
   {
    "duration": 392,
    "start_time": "2022-03-24T06:50:07.751Z"
   },
   {
    "duration": 401,
    "start_time": "2022-03-24T06:50:08.145Z"
   },
   {
    "duration": 11948,
    "start_time": "2022-03-24T06:50:08.548Z"
   },
   {
    "duration": 5,
    "start_time": "2022-03-24T06:50:20.498Z"
   },
   {
    "duration": 8,
    "start_time": "2022-03-24T06:50:20.505Z"
   },
   {
    "duration": 27,
    "start_time": "2022-03-24T06:50:20.516Z"
   },
   {
    "duration": 5,
    "start_time": "2022-03-24T06:50:20.545Z"
   },
   {
    "duration": 12,
    "start_time": "2022-03-24T06:50:20.552Z"
   },
   {
    "duration": 6,
    "start_time": "2022-03-24T06:50:20.567Z"
   },
   {
    "duration": 10,
    "start_time": "2022-03-24T06:50:20.575Z"
   },
   {
    "duration": 9,
    "start_time": "2022-03-24T06:50:20.587Z"
   },
   {
    "duration": 47,
    "start_time": "2022-03-24T06:50:20.598Z"
   },
   {
    "duration": 336374,
    "start_time": "2022-03-24T06:50:20.647Z"
   },
   {
    "duration": 5,
    "start_time": "2022-03-24T06:55:57.024Z"
   },
   {
    "duration": 13,
    "start_time": "2022-03-24T06:55:57.031Z"
   },
   {
    "duration": 335551,
    "start_time": "2022-03-24T06:55:57.046Z"
   },
   {
    "duration": 5,
    "start_time": "2022-03-24T07:01:32.600Z"
   },
   {
    "duration": 917,
    "start_time": "2022-03-24T07:01:32.608Z"
   },
   {
    "duration": 947,
    "start_time": "2022-03-24T07:01:33.528Z"
   },
   {
    "duration": 5,
    "start_time": "2022-03-24T07:01:34.477Z"
   },
   {
    "duration": 1045,
    "start_time": "2022-03-24T07:05:38.898Z"
   },
   {
    "duration": 987,
    "start_time": "2022-03-24T07:05:42.023Z"
   },
   {
    "duration": 6,
    "start_time": "2022-03-24T07:05:44.561Z"
   },
   {
    "duration": 2677,
    "start_time": "2022-03-24T09:39:45.872Z"
   },
   {
    "duration": 668,
    "start_time": "2022-03-24T09:39:48.552Z"
   },
   {
    "duration": 5,
    "start_time": "2022-03-24T09:39:49.222Z"
   },
   {
    "duration": 7,
    "start_time": "2022-03-24T09:39:49.229Z"
   },
   {
    "duration": 4,
    "start_time": "2022-03-24T09:39:50.027Z"
   },
   {
    "duration": 18,
    "start_time": "2022-03-24T09:40:34.550Z"
   },
   {
    "duration": 14,
    "start_time": "2022-03-24T09:40:35.000Z"
   },
   {
    "duration": 17,
    "start_time": "2022-03-24T09:40:35.489Z"
   },
   {
    "duration": 4,
    "start_time": "2022-03-24T09:44:08.230Z"
   },
   {
    "duration": 246,
    "start_time": "2022-03-24T09:44:08.779Z"
   },
   {
    "duration": 6,
    "start_time": "2022-03-24T09:44:09.027Z"
   },
   {
    "duration": 19,
    "start_time": "2022-03-24T09:44:09.460Z"
   },
   {
    "duration": 4,
    "start_time": "2022-03-24T09:44:25.980Z"
   },
   {
    "duration": 9,
    "start_time": "2022-03-24T09:45:03.214Z"
   },
   {
    "duration": 45,
    "start_time": "2022-03-24T09:45:05.268Z"
   },
   {
    "duration": 9,
    "start_time": "2022-03-24T09:45:05.741Z"
   },
   {
    "duration": 8,
    "start_time": "2022-03-24T09:45:07.323Z"
   },
   {
    "duration": 3,
    "start_time": "2022-03-24T09:45:07.851Z"
   },
   {
    "duration": 24,
    "start_time": "2022-03-24T09:45:59.835Z"
   },
   {
    "duration": 3,
    "start_time": "2022-03-24T09:46:41.971Z"
   },
   {
    "duration": 9394,
    "start_time": "2022-03-24T09:46:42.348Z"
   },
   {
    "duration": 253,
    "start_time": "2022-03-24T09:47:19.092Z"
   },
   {
    "duration": 251,
    "start_time": "2022-03-24T09:47:20.525Z"
   },
   {
    "duration": 9196,
    "start_time": "2022-03-24T09:48:36.844Z"
   },
   {
    "duration": 3,
    "start_time": "2022-03-24T09:49:29.579Z"
   },
   {
    "duration": 3,
    "start_time": "2022-03-24T09:49:29.755Z"
   },
   {
    "duration": 2,
    "start_time": "2022-03-24T09:49:29.964Z"
   },
   {
    "duration": 6,
    "start_time": "2022-03-24T09:50:44.920Z"
   },
   {
    "duration": 3,
    "start_time": "2022-03-24T09:50:45.127Z"
   },
   {
    "duration": 6,
    "start_time": "2022-03-24T09:51:32.870Z"
   },
   {
    "duration": 5,
    "start_time": "2022-03-24T09:51:33.605Z"
   },
   {
    "duration": 7,
    "start_time": "2022-03-24T09:51:34.582Z"
   },
   {
    "duration": 3,
    "start_time": "2022-03-24T09:51:35.860Z"
   },
   {
    "duration": 7,
    "start_time": "2022-03-24T09:52:24.483Z"
   },
   {
    "duration": 4,
    "start_time": "2022-03-24T09:52:35.433Z"
   },
   {
    "duration": 279882,
    "start_time": "2022-03-24T09:52:36.156Z"
   },
   {
    "duration": 4,
    "start_time": "2022-03-24T09:57:16.040Z"
   },
   {
    "duration": 10,
    "start_time": "2022-03-24T09:57:16.046Z"
   },
   {
    "duration": 271771,
    "start_time": "2022-03-24T09:57:16.058Z"
   },
   {
    "duration": 4,
    "start_time": "2022-03-24T10:01:47.831Z"
   },
   {
    "duration": 708,
    "start_time": "2022-03-24T10:01:47.836Z"
   },
   {
    "duration": 728,
    "start_time": "2022-03-24T10:01:48.546Z"
   },
   {
    "duration": 4,
    "start_time": "2022-03-24T10:01:49.276Z"
   },
   {
    "duration": 76,
    "start_time": "2022-03-25T04:56:03.115Z"
   },
   {
    "duration": 2510,
    "start_time": "2022-03-25T04:56:14.521Z"
   },
   {
    "duration": 925,
    "start_time": "2022-03-25T04:56:17.035Z"
   },
   {
    "duration": 8,
    "start_time": "2022-03-25T04:56:17.962Z"
   },
   {
    "duration": 19,
    "start_time": "2022-03-25T04:56:17.972Z"
   },
   {
    "duration": 6,
    "start_time": "2022-03-25T04:56:18.475Z"
   },
   {
    "duration": 27,
    "start_time": "2022-03-25T04:56:28.794Z"
   },
   {
    "duration": 20,
    "start_time": "2022-03-25T04:56:29.379Z"
   },
   {
    "duration": 26,
    "start_time": "2022-03-25T04:56:29.877Z"
   },
   {
    "duration": 5,
    "start_time": "2022-03-25T04:56:32.942Z"
   },
   {
    "duration": 453,
    "start_time": "2022-03-25T04:56:33.449Z"
   },
   {
    "duration": 6,
    "start_time": "2022-03-25T04:56:33.956Z"
   },
   {
    "duration": 20,
    "start_time": "2022-03-25T04:56:34.621Z"
   },
   {
    "duration": 6,
    "start_time": "2022-03-25T04:56:36.878Z"
   },
   {
    "duration": 11,
    "start_time": "2022-03-25T04:56:39.057Z"
   },
   {
    "duration": 62,
    "start_time": "2022-03-25T04:56:39.540Z"
   },
   {
    "duration": 11,
    "start_time": "2022-03-25T04:56:40.682Z"
   },
   {
    "duration": 14,
    "start_time": "2022-03-25T04:56:41.264Z"
   },
   {
    "duration": 6,
    "start_time": "2022-03-25T04:56:42.282Z"
   },
   {
    "duration": 5,
    "start_time": "2022-03-25T04:56:44.318Z"
   },
   {
    "duration": 12052,
    "start_time": "2022-03-25T04:56:45.307Z"
   },
   {
    "duration": 489,
    "start_time": "2022-03-25T04:57:07.181Z"
   },
   {
    "duration": 451,
    "start_time": "2022-03-25T04:57:08.876Z"
   },
   {
    "duration": 7,
    "start_time": "2022-03-25T04:57:12.898Z"
   },
   {
    "duration": 2547,
    "start_time": "2022-03-25T04:57:14.377Z"
   },
   {
    "duration": 2067,
    "start_time": "2022-03-25T04:57:47.625Z"
   },
   {
    "duration": 856,
    "start_time": "2022-03-25T04:57:49.694Z"
   },
   {
    "duration": 8,
    "start_time": "2022-03-25T04:57:50.552Z"
   },
   {
    "duration": 22,
    "start_time": "2022-03-25T04:57:50.563Z"
   },
   {
    "duration": 10,
    "start_time": "2022-03-25T04:57:50.587Z"
   },
   {
    "duration": 28,
    "start_time": "2022-03-25T04:57:50.599Z"
   },
   {
    "duration": 18,
    "start_time": "2022-03-25T04:57:50.630Z"
   },
   {
    "duration": 52,
    "start_time": "2022-03-25T04:57:50.650Z"
   },
   {
    "duration": 5,
    "start_time": "2022-03-25T04:57:50.704Z"
   },
   {
    "duration": 403,
    "start_time": "2022-03-25T04:57:50.714Z"
   },
   {
    "duration": 8,
    "start_time": "2022-03-25T04:57:51.119Z"
   },
   {
    "duration": 24,
    "start_time": "2022-03-25T04:57:51.129Z"
   },
   {
    "duration": 29,
    "start_time": "2022-03-25T04:57:51.156Z"
   },
   {
    "duration": 10,
    "start_time": "2022-03-25T04:57:51.188Z"
   },
   {
    "duration": 57,
    "start_time": "2022-03-25T04:57:51.200Z"
   },
   {
    "duration": 11,
    "start_time": "2022-03-25T04:57:51.284Z"
   },
   {
    "duration": 13,
    "start_time": "2022-03-25T04:57:51.297Z"
   },
   {
    "duration": 5,
    "start_time": "2022-03-25T04:57:51.312Z"
   },
   {
    "duration": 11,
    "start_time": "2022-03-25T04:57:51.320Z"
   },
   {
    "duration": 12025,
    "start_time": "2022-03-25T04:57:51.333Z"
   },
   {
    "duration": 424,
    "start_time": "2022-03-25T04:58:03.360Z"
   },
   {
    "duration": 421,
    "start_time": "2022-03-25T04:58:03.786Z"
   },
   {
    "duration": 7,
    "start_time": "2022-03-25T04:58:04.209Z"
   },
   {
    "duration": 2337,
    "start_time": "2022-03-25T04:58:04.219Z"
   },
   {
    "duration": 6,
    "start_time": "2022-03-25T04:58:06.559Z"
   },
   {
    "duration": 17,
    "start_time": "2022-03-25T04:58:06.568Z"
   },
   {
    "duration": 201,
    "start_time": "2022-03-25T04:58:06.588Z"
   },
   {
    "duration": 0,
    "start_time": "2022-03-25T04:58:06.793Z"
   },
   {
    "duration": 0,
    "start_time": "2022-03-25T04:58:06.795Z"
   },
   {
    "duration": 0,
    "start_time": "2022-03-25T04:58:06.797Z"
   },
   {
    "duration": 0,
    "start_time": "2022-03-25T04:58:06.799Z"
   },
   {
    "duration": 0,
    "start_time": "2022-03-25T04:58:06.801Z"
   },
   {
    "duration": 0,
    "start_time": "2022-03-25T04:58:06.803Z"
   },
   {
    "duration": 0,
    "start_time": "2022-03-25T04:58:06.805Z"
   },
   {
    "duration": 0,
    "start_time": "2022-03-25T04:58:06.807Z"
   },
   {
    "duration": 0,
    "start_time": "2022-03-25T04:58:06.810Z"
   },
   {
    "duration": 0,
    "start_time": "2022-03-25T04:58:06.813Z"
   },
   {
    "duration": 0,
    "start_time": "2022-03-25T04:58:06.815Z"
   },
   {
    "duration": 0,
    "start_time": "2022-03-25T04:58:06.817Z"
   },
   {
    "duration": 0,
    "start_time": "2022-03-25T04:58:06.819Z"
   },
   {
    "duration": 0,
    "start_time": "2022-03-25T04:58:06.821Z"
   },
   {
    "duration": 0,
    "start_time": "2022-03-25T04:58:06.824Z"
   },
   {
    "duration": 1686,
    "start_time": "2022-03-25T04:59:35.533Z"
   },
   {
    "duration": 0,
    "start_time": "2022-03-25T04:59:37.222Z"
   },
   {
    "duration": 2129,
    "start_time": "2022-03-25T05:00:22.047Z"
   },
   {
    "duration": 865,
    "start_time": "2022-03-25T05:00:24.184Z"
   },
   {
    "duration": 8,
    "start_time": "2022-03-25T05:00:25.052Z"
   },
   {
    "duration": 10,
    "start_time": "2022-03-25T05:00:25.062Z"
   },
   {
    "duration": 6,
    "start_time": "2022-03-25T05:00:25.084Z"
   },
   {
    "duration": 27,
    "start_time": "2022-03-25T05:00:25.092Z"
   },
   {
    "duration": 19,
    "start_time": "2022-03-25T05:00:25.121Z"
   },
   {
    "duration": 57,
    "start_time": "2022-03-25T05:00:25.142Z"
   },
   {
    "duration": 5,
    "start_time": "2022-03-25T05:00:25.203Z"
   },
   {
    "duration": 405,
    "start_time": "2022-03-25T05:00:25.210Z"
   },
   {
    "duration": 7,
    "start_time": "2022-03-25T05:00:25.618Z"
   },
   {
    "duration": 28,
    "start_time": "2022-03-25T05:00:25.628Z"
   },
   {
    "duration": 26,
    "start_time": "2022-03-25T05:00:25.658Z"
   },
   {
    "duration": 13,
    "start_time": "2022-03-25T05:00:25.687Z"
   },
   {
    "duration": 81,
    "start_time": "2022-03-25T05:00:25.703Z"
   },
   {
    "duration": 11,
    "start_time": "2022-03-25T05:00:25.786Z"
   },
   {
    "duration": 13,
    "start_time": "2022-03-25T05:00:25.799Z"
   },
   {
    "duration": 5,
    "start_time": "2022-03-25T05:00:25.814Z"
   },
   {
    "duration": 8,
    "start_time": "2022-03-25T05:00:25.821Z"
   },
   {
    "duration": 12091,
    "start_time": "2022-03-25T05:00:25.832Z"
   },
   {
    "duration": 393,
    "start_time": "2022-03-25T05:00:37.925Z"
   },
   {
    "duration": 398,
    "start_time": "2022-03-25T05:00:38.320Z"
   },
   {
    "duration": 175,
    "start_time": "2022-03-25T05:00:38.720Z"
   },
   {
    "duration": 0,
    "start_time": "2022-03-25T05:00:38.898Z"
   },
   {
    "duration": 0,
    "start_time": "2022-03-25T05:00:38.900Z"
   },
   {
    "duration": 0,
    "start_time": "2022-03-25T05:00:38.902Z"
   },
   {
    "duration": 0,
    "start_time": "2022-03-25T05:00:38.903Z"
   },
   {
    "duration": 0,
    "start_time": "2022-03-25T05:00:38.904Z"
   },
   {
    "duration": 0,
    "start_time": "2022-03-25T05:00:38.905Z"
   },
   {
    "duration": 0,
    "start_time": "2022-03-25T05:00:38.906Z"
   },
   {
    "duration": 0,
    "start_time": "2022-03-25T05:00:38.908Z"
   },
   {
    "duration": 0,
    "start_time": "2022-03-25T05:00:38.910Z"
   },
   {
    "duration": 0,
    "start_time": "2022-03-25T05:00:38.911Z"
   },
   {
    "duration": 0,
    "start_time": "2022-03-25T05:00:38.912Z"
   },
   {
    "duration": 0,
    "start_time": "2022-03-25T05:00:38.914Z"
   },
   {
    "duration": 0,
    "start_time": "2022-03-25T05:00:38.915Z"
   },
   {
    "duration": 0,
    "start_time": "2022-03-25T05:00:38.917Z"
   },
   {
    "duration": 0,
    "start_time": "2022-03-25T05:00:38.918Z"
   },
   {
    "duration": 0,
    "start_time": "2022-03-25T05:00:38.919Z"
   },
   {
    "duration": 0,
    "start_time": "2022-03-25T05:00:38.920Z"
   },
   {
    "duration": 0,
    "start_time": "2022-03-25T05:00:38.922Z"
   },
   {
    "duration": 0,
    "start_time": "2022-03-25T05:00:38.923Z"
   },
   {
    "duration": 0,
    "start_time": "2022-03-25T05:00:38.924Z"
   },
   {
    "duration": 14,
    "start_time": "2022-03-25T05:00:52.148Z"
   },
   {
    "duration": 11843,
    "start_time": "2022-03-25T05:00:52.941Z"
   },
   {
    "duration": 80,
    "start_time": "2022-03-25T05:03:38.591Z"
   },
   {
    "duration": 12836,
    "start_time": "2022-03-25T05:03:39.362Z"
   },
   {
    "duration": 283,
    "start_time": "2022-03-25T05:04:51.874Z"
   },
   {
    "duration": 11946,
    "start_time": "2022-03-25T05:04:52.994Z"
   },
   {
    "duration": 141,
    "start_time": "2022-03-25T05:05:09.035Z"
   },
   {
    "duration": 12306,
    "start_time": "2022-03-25T05:05:09.757Z"
   },
   {
    "duration": 2918,
    "start_time": "2022-03-25T05:12:27.942Z"
   },
   {
    "duration": 11809,
    "start_time": "2022-03-25T05:12:31.206Z"
   },
   {
    "duration": 2918,
    "start_time": "2022-03-25T05:16:22.284Z"
   },
   {
    "duration": 2960,
    "start_time": "2022-03-25T05:16:55.223Z"
   },
   {
    "duration": 2919,
    "start_time": "2022-03-25T05:17:12.276Z"
   },
   {
    "duration": 12296,
    "start_time": "2022-03-25T05:17:15.198Z"
   },
   {
    "duration": 2037,
    "start_time": "2022-03-25T05:18:42.458Z"
   },
   {
    "duration": 886,
    "start_time": "2022-03-25T05:18:44.498Z"
   },
   {
    "duration": 10,
    "start_time": "2022-03-25T05:18:45.387Z"
   },
   {
    "duration": 15,
    "start_time": "2022-03-25T05:18:45.399Z"
   },
   {
    "duration": 11,
    "start_time": "2022-03-25T05:18:45.417Z"
   },
   {
    "duration": 59,
    "start_time": "2022-03-25T05:18:45.430Z"
   },
   {
    "duration": 25,
    "start_time": "2022-03-25T05:18:45.492Z"
   },
   {
    "duration": 27,
    "start_time": "2022-03-25T05:18:45.520Z"
   },
   {
    "duration": 38,
    "start_time": "2022-03-25T05:18:45.549Z"
   },
   {
    "duration": 461,
    "start_time": "2022-03-25T05:18:45.590Z"
   },
   {
    "duration": 8,
    "start_time": "2022-03-25T05:18:46.054Z"
   },
   {
    "duration": 38,
    "start_time": "2022-03-25T05:18:46.065Z"
   },
   {
    "duration": 6,
    "start_time": "2022-03-25T05:18:46.105Z"
   },
   {
    "duration": 12,
    "start_time": "2022-03-25T05:18:46.117Z"
   },
   {
    "duration": 106,
    "start_time": "2022-03-25T05:18:46.131Z"
   },
   {
    "duration": 14,
    "start_time": "2022-03-25T05:18:46.240Z"
   },
   {
    "duration": 30,
    "start_time": "2022-03-25T05:18:46.256Z"
   },
   {
    "duration": 6,
    "start_time": "2022-03-25T05:18:46.289Z"
   },
   {
    "duration": 7,
    "start_time": "2022-03-25T05:18:46.297Z"
   },
   {
    "duration": 12118,
    "start_time": "2022-03-25T05:18:46.306Z"
   },
   {
    "duration": 396,
    "start_time": "2022-03-25T05:18:58.427Z"
   },
   {
    "duration": 411,
    "start_time": "2022-03-25T05:18:58.825Z"
   },
   {
    "duration": 2753,
    "start_time": "2022-03-25T05:18:59.239Z"
   },
   {
    "duration": 12007,
    "start_time": "2022-03-25T05:19:01.995Z"
   },
   {
    "duration": 5,
    "start_time": "2022-03-25T05:19:14.004Z"
   },
   {
    "duration": 7,
    "start_time": "2022-03-25T05:19:14.011Z"
   },
   {
    "duration": 9,
    "start_time": "2022-03-25T05:19:14.020Z"
   },
   {
    "duration": 7,
    "start_time": "2022-03-25T05:19:14.031Z"
   },
   {
    "duration": 44,
    "start_time": "2022-03-25T05:19:14.040Z"
   },
   {
    "duration": 7,
    "start_time": "2022-03-25T05:19:14.087Z"
   },
   {
    "duration": 10,
    "start_time": "2022-03-25T05:19:14.096Z"
   },
   {
    "duration": 11,
    "start_time": "2022-03-25T05:19:14.109Z"
   },
   {
    "duration": 4,
    "start_time": "2022-03-25T05:19:14.122Z"
   },
   {
    "duration": 5,
    "start_time": "2022-03-25T05:19:14.129Z"
   },
   {
    "duration": 309449,
    "start_time": "2022-03-25T05:19:14.136Z"
   },
   {
    "duration": 5,
    "start_time": "2022-03-25T05:24:23.588Z"
   },
   {
    "duration": 6463,
    "start_time": "2022-03-25T05:24:23.596Z"
   },
   {
    "duration": 364054,
    "start_time": "2022-03-25T05:24:30.061Z"
   },
   {
    "duration": 5,
    "start_time": "2022-03-25T05:30:34.118Z"
   },
   {
    "duration": 11104,
    "start_time": "2022-03-25T05:30:34.125Z"
   },
   {
    "duration": 6366,
    "start_time": "2022-03-25T05:30:45.236Z"
   },
   {
    "duration": 6,
    "start_time": "2022-03-25T05:30:51.604Z"
   },
   {
    "duration": 272,
    "start_time": "2022-03-25T05:30:51.613Z"
   },
   {
    "duration": 9,
    "start_time": "2022-03-25T05:32:13.531Z"
   },
   {
    "duration": 10,
    "start_time": "2022-03-25T05:34:08.689Z"
   },
   {
    "duration": 12,
    "start_time": "2022-03-25T05:35:17.579Z"
   },
   {
    "duration": 109,
    "start_time": "2022-03-25T05:37:33.650Z"
   },
   {
    "duration": 196,
    "start_time": "2022-03-25T06:12:40.045Z"
   },
   {
    "duration": 15,
    "start_time": "2022-03-25T06:12:47.093Z"
   },
   {
    "duration": 12,
    "start_time": "2022-03-25T06:13:13.160Z"
   },
   {
    "duration": 14,
    "start_time": "2022-03-25T06:16:53.300Z"
   },
   {
    "duration": 14,
    "start_time": "2022-03-25T06:19:13.613Z"
   },
   {
    "duration": 15,
    "start_time": "2022-03-25T06:19:33.210Z"
   },
   {
    "duration": 9,
    "start_time": "2022-03-25T06:25:36.780Z"
   },
   {
    "duration": 2065,
    "start_time": "2022-03-25T06:39:53.237Z"
   },
   {
    "duration": 837,
    "start_time": "2022-03-25T06:39:55.305Z"
   },
   {
    "duration": 8,
    "start_time": "2022-03-25T06:39:56.147Z"
   },
   {
    "duration": 29,
    "start_time": "2022-03-25T06:39:56.157Z"
   },
   {
    "duration": 11,
    "start_time": "2022-03-25T06:39:56.188Z"
   },
   {
    "duration": 31,
    "start_time": "2022-03-25T06:39:56.201Z"
   },
   {
    "duration": 19,
    "start_time": "2022-03-25T06:39:56.234Z"
   },
   {
    "duration": 50,
    "start_time": "2022-03-25T06:39:56.255Z"
   },
   {
    "duration": 5,
    "start_time": "2022-03-25T06:39:56.310Z"
   },
   {
    "duration": 399,
    "start_time": "2022-03-25T06:39:56.317Z"
   },
   {
    "duration": 7,
    "start_time": "2022-03-25T06:39:56.719Z"
   },
   {
    "duration": 29,
    "start_time": "2022-03-25T06:39:56.728Z"
   },
   {
    "duration": 26,
    "start_time": "2022-03-25T06:39:56.760Z"
   },
   {
    "duration": 17,
    "start_time": "2022-03-25T06:39:56.788Z"
   },
   {
    "duration": 76,
    "start_time": "2022-03-25T06:39:56.808Z"
   },
   {
    "duration": 11,
    "start_time": "2022-03-25T06:39:56.886Z"
   },
   {
    "duration": 13,
    "start_time": "2022-03-25T06:39:56.899Z"
   },
   {
    "duration": 5,
    "start_time": "2022-03-25T06:39:56.915Z"
   },
   {
    "duration": 7,
    "start_time": "2022-03-25T06:39:56.923Z"
   },
   {
    "duration": 12043,
    "start_time": "2022-03-25T06:39:56.932Z"
   },
   {
    "duration": 443,
    "start_time": "2022-03-25T06:40:08.977Z"
   },
   {
    "duration": 420,
    "start_time": "2022-03-25T06:40:09.422Z"
   },
   {
    "duration": 2749,
    "start_time": "2022-03-25T06:40:09.844Z"
   },
   {
    "duration": 12019,
    "start_time": "2022-03-25T06:40:12.595Z"
   },
   {
    "duration": 5,
    "start_time": "2022-03-25T06:40:24.617Z"
   },
   {
    "duration": 10,
    "start_time": "2022-03-25T06:40:24.625Z"
   },
   {
    "duration": 9,
    "start_time": "2022-03-25T06:40:24.640Z"
   },
   {
    "duration": 34,
    "start_time": "2022-03-25T06:40:24.651Z"
   },
   {
    "duration": 14,
    "start_time": "2022-03-25T06:40:24.688Z"
   },
   {
    "duration": 8,
    "start_time": "2022-03-25T06:40:24.704Z"
   },
   {
    "duration": 9,
    "start_time": "2022-03-25T06:40:24.715Z"
   },
   {
    "duration": 11,
    "start_time": "2022-03-25T06:40:24.727Z"
   },
   {
    "duration": 5,
    "start_time": "2022-03-25T06:40:24.740Z"
   },
   {
    "duration": 47,
    "start_time": "2022-03-25T06:40:24.747Z"
   },
   {
    "duration": 311807,
    "start_time": "2022-03-25T06:40:24.796Z"
   },
   {
    "duration": 5,
    "start_time": "2022-03-25T06:45:36.606Z"
   },
   {
    "duration": 5,
    "start_time": "2022-03-25T06:45:36.613Z"
   },
   {
    "duration": 324865,
    "start_time": "2022-03-25T06:45:36.620Z"
   },
   {
    "duration": 5,
    "start_time": "2022-03-25T06:51:01.487Z"
   },
   {
    "duration": 839,
    "start_time": "2022-03-25T06:51:01.494Z"
   },
   {
    "duration": 939,
    "start_time": "2022-03-25T06:51:02.335Z"
   },
   {
    "duration": 10,
    "start_time": "2022-03-25T06:51:03.277Z"
   },
   {
    "duration": 23,
    "start_time": "2022-03-25T06:51:03.289Z"
   },
   {
    "duration": 73974,
    "start_time": "2022-03-25T07:35:29.003Z"
   },
   {
    "duration": 844,
    "start_time": "2022-03-25T07:36:42.983Z"
   },
   {
    "duration": 7,
    "start_time": "2022-03-25T07:36:43.830Z"
   },
   {
    "duration": 8,
    "start_time": "2022-03-25T07:36:43.840Z"
   },
   {
    "duration": 9,
    "start_time": "2022-03-25T07:36:43.850Z"
   },
   {
    "duration": 50,
    "start_time": "2022-03-25T07:36:43.862Z"
   },
   {
    "duration": 21,
    "start_time": "2022-03-25T07:36:43.915Z"
   },
   {
    "duration": 54,
    "start_time": "2022-03-25T07:36:43.938Z"
   },
   {
    "duration": 5,
    "start_time": "2022-03-25T07:36:43.995Z"
   },
   {
    "duration": 420,
    "start_time": "2022-03-25T07:36:44.004Z"
   },
   {
    "duration": 7,
    "start_time": "2022-03-25T07:36:44.426Z"
   },
   {
    "duration": 29,
    "start_time": "2022-03-25T07:36:44.435Z"
   },
   {
    "duration": 13,
    "start_time": "2022-03-25T07:36:44.483Z"
   },
   {
    "duration": 15,
    "start_time": "2022-03-25T07:36:44.500Z"
   },
   {
    "duration": 79,
    "start_time": "2022-03-25T07:36:44.517Z"
   },
   {
    "duration": 10,
    "start_time": "2022-03-25T07:36:44.599Z"
   },
   {
    "duration": 13,
    "start_time": "2022-03-25T07:36:44.611Z"
   },
   {
    "duration": 6,
    "start_time": "2022-03-25T07:36:44.626Z"
   },
   {
    "duration": 6,
    "start_time": "2022-03-25T07:36:44.634Z"
   },
   {
    "duration": 12550,
    "start_time": "2022-03-25T07:36:44.643Z"
   },
   {
    "duration": 6,
    "start_time": "2022-03-25T07:36:57.196Z"
   },
   {
    "duration": 14,
    "start_time": "2022-03-25T07:36:57.204Z"
   },
   {
    "duration": 20,
    "start_time": "2022-03-25T07:36:57.221Z"
   },
   {
    "duration": 14,
    "start_time": "2022-03-25T07:36:57.244Z"
   },
   {
    "duration": 33,
    "start_time": "2022-03-25T07:36:57.260Z"
   },
   {
    "duration": 8,
    "start_time": "2022-03-25T07:36:57.296Z"
   },
   {
    "duration": 17,
    "start_time": "2022-03-25T07:36:57.306Z"
   },
   {
    "duration": 12,
    "start_time": "2022-03-25T07:36:57.327Z"
   },
   {
    "duration": 205,
    "start_time": "2022-03-25T07:38:10.048Z"
   },
   {
    "duration": 10,
    "start_time": "2022-03-25T07:38:16.761Z"
   },
   {
    "duration": 10,
    "start_time": "2022-03-25T07:39:31.112Z"
   }
  ],
  "kernelspec": {
   "display_name": "Python 3 (ipykernel)",
   "language": "python",
   "name": "python3"
  },
  "language_info": {
   "codemirror_mode": {
    "name": "ipython",
    "version": 3
   },
   "file_extension": ".py",
   "mimetype": "text/x-python",
   "name": "python",
   "nbconvert_exporter": "python",
   "pygments_lexer": "ipython3",
   "version": "3.9.5"
  },
  "toc": {
   "base_numbering": 1,
   "nav_menu": {},
   "number_sections": true,
   "sideBar": true,
   "skip_h1_title": true,
   "title_cell": "Содержание",
   "title_sidebar": "Contents",
   "toc_cell": true,
   "toc_position": {},
   "toc_section_display": true,
   "toc_window_display": true
  }
 },
 "nbformat": 4,
 "nbformat_minor": 2
}
