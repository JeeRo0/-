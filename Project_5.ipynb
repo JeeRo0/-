{
 "cells": [
  {
   "cell_type": "markdown",
   "metadata": {},
   "source": [
    "# Описание проекта"
   ]
  },
  {
   "cell_type": "markdown",
   "metadata": {},
   "source": [
    "    Вы работаете в интернет-магазине «Стримчик», который продаёт по всему миру компьютерные игры. Из открытых источников доступны исторические данные о продажах игр, оценки пользователей и экспертов, жанры и платформы (например, Xbox или PlayStation). Вам нужно выявить определяющие успешность игры закономерности. Это позволит сделать ставку на потенциально популярный продукт и спланировать рекламные кампании.\n",
    "\n",
    "    Перед вами данные до 2016 года. Представим, что сейчас декабрь 2016 г., и вы планируете кампанию на 2017-й. Нужно отработать принцип работы с данными. Неважно, прогнозируете ли вы продажи на 2017 год по данным 2016-го или же 2027-й — по данным 2026 года.\n",
    "\n",
    "    В наборе данных попадается аббревиатура ESRB (Entertainment Software Rating Board) — это ассоциация, определяющая возрастной рейтинг компьютерных игр. ESRB оценивает игровой контент и присваивает ему подходящую возрастную категорию, например, «Для взрослых», «Для детей младшего возраста» или «Для подростков»."
   ]
  },
  {
   "cell_type": "markdown",
   "metadata": {},
   "source": [
    "# Содержание проекта"
   ]
  },
  {
   "cell_type": "markdown",
   "metadata": {},
   "source": [
    "<b> Шаг 1. Изучить общую информацию   <b>\n",
    "    \n",
    "Доступные данные:\n",
    "    \n",
    "1. /datasets/games.csv \n",
    "     "
   ]
  },
  {
   "cell_type": "markdown",
   "metadata": {},
   "source": [
    "<b> Шаг 2. Подготовка данных <b>\n",
    "    \n",
    "1. Замените названия столбцов (приведите к нижнему регистру);\n",
    "    \n",
    "2. Преобразуйте данные в нужные типы. Опишите, в каких столбцах заменили тип данных и почему;\n",
    "    \n",
    "3. Обработайте пропуски при необходимости:\n",
    "    \n",
    "    3.1 Объясните, почему заполнили пропуски определённым образом или почему не стали это делать;\n",
    "    \n",
    "    3.2 Опишите причины, которые могли привести к пропускам;\n",
    "    \n",
    "    3.3 Обратите внимание на аббревиатуру 'tbd' в столбце с оценкой пользователей. Отдельно разберите это значение и опишите, как его обработать;\n",
    "    \n",
    "\n",
    "4. Посчитайте суммарные продажи во всех регионах и запишите их в отдельный столбец."
   ]
  },
  {
   "cell_type": "markdown",
   "metadata": {},
   "source": [
    "<b> Шаг 3. Анализ данных <b>\n",
    "    \n",
    "1. Посмотрите, сколько игр выпускалось в разные годы. Важны ли данные за все периоды?\n",
    "    \n",
    "2. Посмотрите, как менялись продажи по платформам. Выберите платформы с наибольшими суммарными продажами и постройте распределение по годам. За какой характерный срок появляются новые и исчезают старые платформы?\n",
    "    \n",
    "3. Возьмите данные за соответствующий актуальный период. Актуальный период определите самостоятельно в результате исследования предыдущих вопросов. Основной фактор — эти данные помогут построить прогноз на 2017 год.\n",
    "    \n",
    "4. Не учитывайте в работе данные за предыдущие годы.\n",
    "    \n",
    "5. Какие платформы лидируют по продажам, растут или падают? Выберите несколько потенциально прибыльных платформ.\n",
    "    \n",
    "6. Постройте график «ящик с усами» по глобальным продажам игр в разбивке по платформам. Опишите результат.\n",
    "    \n",
    "7. Посмотрите, как влияют на продажи внутри одной популярной платформы отзывы пользователей и критиков. Постройте диаграмму рассеяния и посчитайте корреляцию между отзывами и продажами. Сформулируйте выводы.\n",
    "    \n",
    "8. Соотнесите выводы с продажами игр на других платформах.\n",
    "    \n",
    "9. Посмотрите на общее распределение игр по жанрам. Что можно сказать о самых прибыльных жанрах? Выделяются ли жанры с высокими и низкими продажами?"
   ]
  },
  {
   "cell_type": "markdown",
   "metadata": {},
   "source": [
    "<b> Шаг 4. Составьте портрет пользователя каждого региона <b>\n",
    "    \n",
    "Определите для пользователя каждого региона (NA, EU, JP):\n",
    "    \n",
    "- Самые популярные платформы (топ-5). Опишите различия в долях продаж.\n",
    "    \n",
    "- Самые популярные жанры (топ-5). Поясните разницу.\n",
    "    \n",
    "- Влияет ли рейтинг ESRB на продажи в отдельном регионе?"
   ]
  },
  {
   "cell_type": "markdown",
   "metadata": {},
   "source": [
    "<b> Шаг 5. Проверьте гипотезы <b>\n",
    "    \n",
    "1. Средние пользовательские рейтинги платформ Xbox One и PC одинаковые;\n",
    "    \n",
    "2. Средние пользовательские рейтинги жанров Action (англ. «действие», экшен-игры) и Sports (англ. «спортивные соревнования») разные.\n"
   ]
  },
  {
   "cell_type": "markdown",
   "metadata": {},
   "source": [
    "## Откройте файл с данными и изучите общую информацию"
   ]
  },
  {
   "cell_type": "code",
   "execution_count": 1,
   "metadata": {},
   "outputs": [],
   "source": [
    "# импорт библиотек для чтения таблик и визуализации данных\n",
    "import pandas as pd\n",
    "import matplotlib.pyplot as plt"
   ]
  },
  {
   "cell_type": "code",
   "execution_count": 2,
   "metadata": {},
   "outputs": [
    {
     "name": "stdout",
     "output_type": "stream",
     "text": [
      "<class 'pandas.core.frame.DataFrame'>\n",
      "RangeIndex: 16715 entries, 0 to 16714\n",
      "Data columns (total 11 columns):\n",
      "Name               16713 non-null object\n",
      "Platform           16715 non-null object\n",
      "Year_of_Release    16446 non-null float64\n",
      "Genre              16713 non-null object\n",
      "NA_sales           16715 non-null float64\n",
      "EU_sales           16715 non-null float64\n",
      "JP_sales           16715 non-null float64\n",
      "Other_sales        16715 non-null float64\n",
      "Critic_Score       8137 non-null float64\n",
      "User_Score         10014 non-null object\n",
      "Rating             9949 non-null object\n",
      "dtypes: float64(6), object(5)\n",
      "memory usage: 1.4+ MB\n"
     ]
    }
   ],
   "source": [
    "df = pd.set_option('display.float_format', '{:,.2f}'.format)\n",
    "df = pd.read_csv('/datasets/games.csv')\n",
    "df.info()"
   ]
  },
  {
   "cell_type": "code",
   "execution_count": 3,
   "metadata": {},
   "outputs": [
    {
     "data": {
      "text/plain": [
       "Name                  2\n",
       "Platform              0\n",
       "Year_of_Release     269\n",
       "Genre                 2\n",
       "NA_sales              0\n",
       "EU_sales              0\n",
       "JP_sales              0\n",
       "Other_sales           0\n",
       "Critic_Score       8578\n",
       "User_Score         6701\n",
       "Rating             6766\n",
       "dtype: int64"
      ]
     },
     "execution_count": 3,
     "metadata": {},
     "output_type": "execute_result"
    }
   ],
   "source": [
    "# Проверим пропуски\n",
    "df.isna().sum()"
   ]
  },
  {
   "cell_type": "code",
   "execution_count": 4,
   "metadata": {},
   "outputs": [
    {
     "data": {
      "text/plain": [
       "0"
      ]
     },
     "execution_count": 4,
     "metadata": {},
     "output_type": "execute_result"
    }
   ],
   "source": [
    "# Проверим дубликаты\n",
    "df.duplicated().sum()"
   ]
  },
  {
   "cell_type": "code",
   "execution_count": 5,
   "metadata": {},
   "outputs": [
    {
     "data": {
      "text/plain": [
       "Text(0, 0.5, 'Количество игр')"
      ]
     },
     "execution_count": 5,
     "metadata": {},
     "output_type": "execute_result"
    },
    {
     "data": {
      "image/png": "[encoded data removed]",
      "text/plain": [
       "<Figure size 432x288 with 1 Axes>"
      ]
     },
     "metadata": {
      "needs_background": "light"
     },
     "output_type": "display_data"
    }
   ],
   "source": [
    "df['Year_of_Release'].hist(bins=30)\n",
    "plt.xlabel('Год выпуска')\n",
    "plt.ylabel('Количество игр')"
   ]
  },
  {
   "cell_type": "markdown",
   "metadata": {},
   "source": [
    "## Подготовка данных"
   ]
  },
  {
   "cell_type": "markdown",
   "metadata": {},
   "source": [
    "### Заменим названия столбцов"
   ]
  },
  {
   "cell_type": "code",
   "execution_count": 6,
   "metadata": {},
   "outputs": [
    {
     "data": {
      "text/html": [
       "<div>\n",
       "<style scoped>\n",
       "    .dataframe tbody tr th:only-of-type {\n",
       "        vertical-align: middle;\n",
       "    }\n",
       "\n",
       "    .dataframe tbody tr th {\n",
       "        vertical-align: top;\n",
       "    }\n",
       "\n",
       "    .dataframe thead th {\n",
       "        text-align: right;\n",
       "    }\n",
       "</style>\n",
       "<table border=\"1\" class=\"dataframe\">\n",
       "  <thead>\n",
       "    <tr style=\"text-align: right;\">\n",
       "      <th></th>\n",
       "      <th>name</th>\n",
       "      <th>platform</th>\n",
       "      <th>year_of_release</th>\n",
       "      <th>genre</th>\n",
       "      <th>na_sales</th>\n",
       "      <th>eu_sales</th>\n",
       "      <th>jp_sales</th>\n",
       "      <th>other_sales</th>\n",
       "      <th>critic_score</th>\n",
       "      <th>user_score</th>\n",
       "      <th>rating</th>\n",
       "    </tr>\n",
       "  </thead>\n",
       "  <tbody>\n",
       "    <tr>\n",
       "      <td>0</td>\n",
       "      <td>Wii Sports</td>\n",
       "      <td>Wii</td>\n",
       "      <td>2,006.00</td>\n",
       "      <td>Sports</td>\n",
       "      <td>41.36</td>\n",
       "      <td>28.96</td>\n",
       "      <td>3.77</td>\n",
       "      <td>8.45</td>\n",
       "      <td>76.00</td>\n",
       "      <td>8</td>\n",
       "      <td>E</td>\n",
       "    </tr>\n",
       "    <tr>\n",
       "      <td>1</td>\n",
       "      <td>Super Mario Bros.</td>\n",
       "      <td>NES</td>\n",
       "      <td>1,985.00</td>\n",
       "      <td>Platform</td>\n",
       "      <td>29.08</td>\n",
       "      <td>3.58</td>\n",
       "      <td>6.81</td>\n",
       "      <td>0.77</td>\n",
       "      <td>nan</td>\n",
       "      <td>NaN</td>\n",
       "      <td>NaN</td>\n",
       "    </tr>\n",
       "    <tr>\n",
       "      <td>2</td>\n",
       "      <td>Mario Kart Wii</td>\n",
       "      <td>Wii</td>\n",
       "      <td>2,008.00</td>\n",
       "      <td>Racing</td>\n",
       "      <td>15.68</td>\n",
       "      <td>12.76</td>\n",
       "      <td>3.79</td>\n",
       "      <td>3.29</td>\n",
       "      <td>82.00</td>\n",
       "      <td>8.3</td>\n",
       "      <td>E</td>\n",
       "    </tr>\n",
       "    <tr>\n",
       "      <td>3</td>\n",
       "      <td>Wii Sports Resort</td>\n",
       "      <td>Wii</td>\n",
       "      <td>2,009.00</td>\n",
       "      <td>Sports</td>\n",
       "      <td>15.61</td>\n",
       "      <td>10.93</td>\n",
       "      <td>3.28</td>\n",
       "      <td>2.95</td>\n",
       "      <td>80.00</td>\n",
       "      <td>8</td>\n",
       "      <td>E</td>\n",
       "    </tr>\n",
       "    <tr>\n",
       "      <td>4</td>\n",
       "      <td>Pokemon Red/Pokemon Blue</td>\n",
       "      <td>GB</td>\n",
       "      <td>1,996.00</td>\n",
       "      <td>Role-Playing</td>\n",
       "      <td>11.27</td>\n",
       "      <td>8.89</td>\n",
       "      <td>10.22</td>\n",
       "      <td>1.00</td>\n",
       "      <td>nan</td>\n",
       "      <td>NaN</td>\n",
       "      <td>NaN</td>\n",
       "    </tr>\n",
       "    <tr>\n",
       "      <td>5</td>\n",
       "      <td>Tetris</td>\n",
       "      <td>GB</td>\n",
       "      <td>1,989.00</td>\n",
       "      <td>Puzzle</td>\n",
       "      <td>23.20</td>\n",
       "      <td>2.26</td>\n",
       "      <td>4.22</td>\n",
       "      <td>0.58</td>\n",
       "      <td>nan</td>\n",
       "      <td>NaN</td>\n",
       "      <td>NaN</td>\n",
       "    </tr>\n",
       "    <tr>\n",
       "      <td>6</td>\n",
       "      <td>New Super Mario Bros.</td>\n",
       "      <td>DS</td>\n",
       "      <td>2,006.00</td>\n",
       "      <td>Platform</td>\n",
       "      <td>11.28</td>\n",
       "      <td>9.14</td>\n",
       "      <td>6.50</td>\n",
       "      <td>2.88</td>\n",
       "      <td>89.00</td>\n",
       "      <td>8.5</td>\n",
       "      <td>E</td>\n",
       "    </tr>\n",
       "    <tr>\n",
       "      <td>7</td>\n",
       "      <td>Wii Play</td>\n",
       "      <td>Wii</td>\n",
       "      <td>2,006.00</td>\n",
       "      <td>Misc</td>\n",
       "      <td>13.96</td>\n",
       "      <td>9.18</td>\n",
       "      <td>2.93</td>\n",
       "      <td>2.84</td>\n",
       "      <td>58.00</td>\n",
       "      <td>6.6</td>\n",
       "      <td>E</td>\n",
       "    </tr>\n",
       "    <tr>\n",
       "      <td>8</td>\n",
       "      <td>New Super Mario Bros. Wii</td>\n",
       "      <td>Wii</td>\n",
       "      <td>2,009.00</td>\n",
       "      <td>Platform</td>\n",
       "      <td>14.44</td>\n",
       "      <td>6.94</td>\n",
       "      <td>4.70</td>\n",
       "      <td>2.24</td>\n",
       "      <td>87.00</td>\n",
       "      <td>8.4</td>\n",
       "      <td>E</td>\n",
       "    </tr>\n",
       "    <tr>\n",
       "      <td>9</td>\n",
       "      <td>Duck Hunt</td>\n",
       "      <td>NES</td>\n",
       "      <td>1,984.00</td>\n",
       "      <td>Shooter</td>\n",
       "      <td>26.93</td>\n",
       "      <td>0.63</td>\n",
       "      <td>0.28</td>\n",
       "      <td>0.47</td>\n",
       "      <td>nan</td>\n",
       "      <td>NaN</td>\n",
       "      <td>NaN</td>\n",
       "    </tr>\n",
       "  </tbody>\n",
       "</table>\n",
       "</div>"
      ],
      "text/plain": [
       "                        name platform  year_of_release         genre  \\\n",
       "0                 Wii Sports      Wii         2,006.00        Sports   \n",
       "1          Super Mario Bros.      NES         1,985.00      Platform   \n",
       "2             Mario Kart Wii      Wii         2,008.00        Racing   \n",
       "3          Wii Sports Resort      Wii         2,009.00        Sports   \n",
       "4   Pokemon Red/Pokemon Blue       GB         1,996.00  Role-Playing   \n",
       "5                     Tetris       GB         1,989.00        Puzzle   \n",
       "6      New Super Mario Bros.       DS         2,006.00      Platform   \n",
       "7                   Wii Play      Wii         2,006.00          Misc   \n",
       "8  New Super Mario Bros. Wii      Wii         2,009.00      Platform   \n",
       "9                  Duck Hunt      NES         1,984.00       Shooter   \n",
       "\n",
       "   na_sales  eu_sales  jp_sales  other_sales  critic_score user_score rating  \n",
       "0     41.36     28.96      3.77         8.45         76.00          8      E  \n",
       "1     29.08      3.58      6.81         0.77           nan        NaN    NaN  \n",
       "2     15.68     12.76      3.79         3.29         82.00        8.3      E  \n",
       "3     15.61     10.93      3.28         2.95         80.00          8      E  \n",
       "4     11.27      8.89     10.22         1.00           nan        NaN    NaN  \n",
       "5     23.20      2.26      4.22         0.58           nan        NaN    NaN  \n",
       "6     11.28      9.14      6.50         2.88         89.00        8.5      E  \n",
       "7     13.96      9.18      2.93         2.84         58.00        6.6      E  \n",
       "8     14.44      6.94      4.70         2.24         87.00        8.4      E  \n",
       "9     26.93      0.63      0.28         0.47           nan        NaN    NaN  "
      ]
     },
     "execution_count": 6,
     "metadata": {},
     "output_type": "execute_result"
    }
   ],
   "source": [
    "df.set_axis(['name', 'platform', 'year_of_release', 'genre', 'na_sales',\n",
    "             'eu_sales', 'jp_sales', 'other_sales', 'critic_score', 'user_score', 'rating'],\n",
    "            axis = 'columns', inplace = True)\n",
    "df.head(10)"
   ]
  },
  {
   "cell_type": "markdown",
   "metadata": {},
   "source": [
    "### Приведем данные к нужному типу"
   ]
  },
  {
   "cell_type": "code",
   "execution_count": 7,
   "metadata": {},
   "outputs": [
    {
     "data": {
      "text/html": [
       "<div>\n",
       "<style scoped>\n",
       "    .dataframe tbody tr th:only-of-type {\n",
       "        vertical-align: middle;\n",
       "    }\n",
       "\n",
       "    .dataframe tbody tr th {\n",
       "        vertical-align: top;\n",
       "    }\n",
       "\n",
       "    .dataframe thead th {\n",
       "        text-align: right;\n",
       "    }\n",
       "</style>\n",
       "<table border=\"1\" class=\"dataframe\">\n",
       "  <thead>\n",
       "    <tr style=\"text-align: right;\">\n",
       "      <th></th>\n",
       "      <th>name</th>\n",
       "      <th>platform</th>\n",
       "      <th>year_of_release</th>\n",
       "      <th>genre</th>\n",
       "      <th>na_sales</th>\n",
       "      <th>eu_sales</th>\n",
       "      <th>jp_sales</th>\n",
       "      <th>other_sales</th>\n",
       "      <th>critic_score</th>\n",
       "      <th>user_score</th>\n",
       "      <th>rating</th>\n",
       "    </tr>\n",
       "  </thead>\n",
       "  <tbody>\n",
       "    <tr>\n",
       "      <td>0</td>\n",
       "      <td>Wii Sports</td>\n",
       "      <td>Wii</td>\n",
       "      <td>2006</td>\n",
       "      <td>Sports</td>\n",
       "      <td>41.36</td>\n",
       "      <td>28.96</td>\n",
       "      <td>3.77</td>\n",
       "      <td>8.45</td>\n",
       "      <td>76.00</td>\n",
       "      <td>8</td>\n",
       "      <td>E</td>\n",
       "    </tr>\n",
       "    <tr>\n",
       "      <td>1</td>\n",
       "      <td>Super Mario Bros.</td>\n",
       "      <td>NES</td>\n",
       "      <td>1985</td>\n",
       "      <td>Platform</td>\n",
       "      <td>29.08</td>\n",
       "      <td>3.58</td>\n",
       "      <td>6.81</td>\n",
       "      <td>0.77</td>\n",
       "      <td>nan</td>\n",
       "      <td>NaN</td>\n",
       "      <td>NaN</td>\n",
       "    </tr>\n",
       "    <tr>\n",
       "      <td>2</td>\n",
       "      <td>Mario Kart Wii</td>\n",
       "      <td>Wii</td>\n",
       "      <td>2008</td>\n",
       "      <td>Racing</td>\n",
       "      <td>15.68</td>\n",
       "      <td>12.76</td>\n",
       "      <td>3.79</td>\n",
       "      <td>3.29</td>\n",
       "      <td>82.00</td>\n",
       "      <td>8.3</td>\n",
       "      <td>E</td>\n",
       "    </tr>\n",
       "    <tr>\n",
       "      <td>3</td>\n",
       "      <td>Wii Sports Resort</td>\n",
       "      <td>Wii</td>\n",
       "      <td>2009</td>\n",
       "      <td>Sports</td>\n",
       "      <td>15.61</td>\n",
       "      <td>10.93</td>\n",
       "      <td>3.28</td>\n",
       "      <td>2.95</td>\n",
       "      <td>80.00</td>\n",
       "      <td>8</td>\n",
       "      <td>E</td>\n",
       "    </tr>\n",
       "    <tr>\n",
       "      <td>4</td>\n",
       "      <td>Pokemon Red/Pokemon Blue</td>\n",
       "      <td>GB</td>\n",
       "      <td>1996</td>\n",
       "      <td>Role-Playing</td>\n",
       "      <td>11.27</td>\n",
       "      <td>8.89</td>\n",
       "      <td>10.22</td>\n",
       "      <td>1.00</td>\n",
       "      <td>nan</td>\n",
       "      <td>NaN</td>\n",
       "      <td>NaN</td>\n",
       "    </tr>\n",
       "    <tr>\n",
       "      <td>5</td>\n",
       "      <td>Tetris</td>\n",
       "      <td>GB</td>\n",
       "      <td>1989</td>\n",
       "      <td>Puzzle</td>\n",
       "      <td>23.20</td>\n",
       "      <td>2.26</td>\n",
       "      <td>4.22</td>\n",
       "      <td>0.58</td>\n",
       "      <td>nan</td>\n",
       "      <td>NaN</td>\n",
       "      <td>NaN</td>\n",
       "    </tr>\n",
       "    <tr>\n",
       "      <td>6</td>\n",
       "      <td>New Super Mario Bros.</td>\n",
       "      <td>DS</td>\n",
       "      <td>2006</td>\n",
       "      <td>Platform</td>\n",
       "      <td>11.28</td>\n",
       "      <td>9.14</td>\n",
       "      <td>6.50</td>\n",
       "      <td>2.88</td>\n",
       "      <td>89.00</td>\n",
       "      <td>8.5</td>\n",
       "      <td>E</td>\n",
       "    </tr>\n",
       "    <tr>\n",
       "      <td>7</td>\n",
       "      <td>Wii Play</td>\n",
       "      <td>Wii</td>\n",
       "      <td>2006</td>\n",
       "      <td>Misc</td>\n",
       "      <td>13.96</td>\n",
       "      <td>9.18</td>\n",
       "      <td>2.93</td>\n",
       "      <td>2.84</td>\n",
       "      <td>58.00</td>\n",
       "      <td>6.6</td>\n",
       "      <td>E</td>\n",
       "    </tr>\n",
       "    <tr>\n",
       "      <td>8</td>\n",
       "      <td>New Super Mario Bros. Wii</td>\n",
       "      <td>Wii</td>\n",
       "      <td>2009</td>\n",
       "      <td>Platform</td>\n",
       "      <td>14.44</td>\n",
       "      <td>6.94</td>\n",
       "      <td>4.70</td>\n",
       "      <td>2.24</td>\n",
       "      <td>87.00</td>\n",
       "      <td>8.4</td>\n",
       "      <td>E</td>\n",
       "    </tr>\n",
       "    <tr>\n",
       "      <td>9</td>\n",
       "      <td>Duck Hunt</td>\n",
       "      <td>NES</td>\n",
       "      <td>1984</td>\n",
       "      <td>Shooter</td>\n",
       "      <td>26.93</td>\n",
       "      <td>0.63</td>\n",
       "      <td>0.28</td>\n",
       "      <td>0.47</td>\n",
       "      <td>nan</td>\n",
       "      <td>NaN</td>\n",
       "      <td>NaN</td>\n",
       "    </tr>\n",
       "  </tbody>\n",
       "</table>\n",
       "</div>"
      ],
      "text/plain": [
       "                        name platform  year_of_release         genre  \\\n",
       "0                 Wii Sports      Wii             2006        Sports   \n",
       "1          Super Mario Bros.      NES             1985      Platform   \n",
       "2             Mario Kart Wii      Wii             2008        Racing   \n",
       "3          Wii Sports Resort      Wii             2009        Sports   \n",
       "4   Pokemon Red/Pokemon Blue       GB             1996  Role-Playing   \n",
       "5                     Tetris       GB             1989        Puzzle   \n",
       "6      New Super Mario Bros.       DS             2006      Platform   \n",
       "7                   Wii Play      Wii             2006          Misc   \n",
       "8  New Super Mario Bros. Wii      Wii             2009      Platform   \n",
       "9                  Duck Hunt      NES             1984       Shooter   \n",
       "\n",
       "   na_sales  eu_sales  jp_sales  other_sales  critic_score user_score rating  \n",
       "0     41.36     28.96      3.77         8.45         76.00          8      E  \n",
       "1     29.08      3.58      6.81         0.77           nan        NaN    NaN  \n",
       "2     15.68     12.76      3.79         3.29         82.00        8.3      E  \n",
       "3     15.61     10.93      3.28         2.95         80.00          8      E  \n",
       "4     11.27      8.89     10.22         1.00           nan        NaN    NaN  \n",
       "5     23.20      2.26      4.22         0.58           nan        NaN    NaN  \n",
       "6     11.28      9.14      6.50         2.88         89.00        8.5      E  \n",
       "7     13.96      9.18      2.93         2.84         58.00        6.6      E  \n",
       "8     14.44      6.94      4.70         2.24         87.00        8.4      E  \n",
       "9     26.93      0.63      0.28         0.47           nan        NaN    NaN  "
      ]
     },
     "execution_count": 7,
     "metadata": {},
     "output_type": "execute_result"
    }
   ],
   "source": [
    "# Удалим пропуски в столбце 'year_of_release' \n",
    "df.dropna(subset=['year_of_release'], inplace=True)\n",
    "# Изменили тип на целый\n",
    "df['year_of_release'] = df['year_of_release'].astype('int')\n",
    "df.head(10)"
   ]
  },
  {
   "cell_type": "markdown",
   "metadata": {},
   "source": [
    "В столбце 'year_of_release' 269 пропусков, т.к. восстановить дату релиза не можем и таких пропусков меньше 2% удалим их. \n",
    "\n",
    "Заменили тип на \"инт\", т.к. нужен только год выпуска игры."
   ]
  },
  {
   "cell_type": "code",
   "execution_count": 8,
   "metadata": {},
   "outputs": [
    {
     "data": {
      "text/html": [
       "<div>\n",
       "<style scoped>\n",
       "    .dataframe tbody tr th:only-of-type {\n",
       "        vertical-align: middle;\n",
       "    }\n",
       "\n",
       "    .dataframe tbody tr th {\n",
       "        vertical-align: top;\n",
       "    }\n",
       "\n",
       "    .dataframe thead th {\n",
       "        text-align: right;\n",
       "    }\n",
       "</style>\n",
       "<table border=\"1\" class=\"dataframe\">\n",
       "  <thead>\n",
       "    <tr style=\"text-align: right;\">\n",
       "      <th></th>\n",
       "      <th>name</th>\n",
       "      <th>platform</th>\n",
       "      <th>year_of_release</th>\n",
       "      <th>genre</th>\n",
       "      <th>na_sales</th>\n",
       "      <th>eu_sales</th>\n",
       "      <th>jp_sales</th>\n",
       "      <th>other_sales</th>\n",
       "      <th>critic_score</th>\n",
       "      <th>user_score</th>\n",
       "      <th>rating</th>\n",
       "    </tr>\n",
       "  </thead>\n",
       "  <tbody>\n",
       "    <tr>\n",
       "      <td>0</td>\n",
       "      <td>Wii Sports</td>\n",
       "      <td>Wii</td>\n",
       "      <td>2006</td>\n",
       "      <td>Sports</td>\n",
       "      <td>41.36</td>\n",
       "      <td>28.96</td>\n",
       "      <td>3.77</td>\n",
       "      <td>8.45</td>\n",
       "      <td>76</td>\n",
       "      <td>8</td>\n",
       "      <td>E</td>\n",
       "    </tr>\n",
       "    <tr>\n",
       "      <td>1</td>\n",
       "      <td>Super Mario Bros.</td>\n",
       "      <td>NES</td>\n",
       "      <td>1985</td>\n",
       "      <td>Platform</td>\n",
       "      <td>29.08</td>\n",
       "      <td>3.58</td>\n",
       "      <td>6.81</td>\n",
       "      <td>0.77</td>\n",
       "      <td>-1</td>\n",
       "      <td>-1</td>\n",
       "      <td>NaN</td>\n",
       "    </tr>\n",
       "    <tr>\n",
       "      <td>2</td>\n",
       "      <td>Mario Kart Wii</td>\n",
       "      <td>Wii</td>\n",
       "      <td>2008</td>\n",
       "      <td>Racing</td>\n",
       "      <td>15.68</td>\n",
       "      <td>12.76</td>\n",
       "      <td>3.79</td>\n",
       "      <td>3.29</td>\n",
       "      <td>82</td>\n",
       "      <td>9</td>\n",
       "      <td>E</td>\n",
       "    </tr>\n",
       "    <tr>\n",
       "      <td>3</td>\n",
       "      <td>Wii Sports Resort</td>\n",
       "      <td>Wii</td>\n",
       "      <td>2009</td>\n",
       "      <td>Sports</td>\n",
       "      <td>15.61</td>\n",
       "      <td>10.93</td>\n",
       "      <td>3.28</td>\n",
       "      <td>2.95</td>\n",
       "      <td>80</td>\n",
       "      <td>8</td>\n",
       "      <td>E</td>\n",
       "    </tr>\n",
       "    <tr>\n",
       "      <td>4</td>\n",
       "      <td>Pokemon Red/Pokemon Blue</td>\n",
       "      <td>GB</td>\n",
       "      <td>1996</td>\n",
       "      <td>Role-Playing</td>\n",
       "      <td>11.27</td>\n",
       "      <td>8.89</td>\n",
       "      <td>10.22</td>\n",
       "      <td>1.00</td>\n",
       "      <td>-1</td>\n",
       "      <td>-1</td>\n",
       "      <td>NaN</td>\n",
       "    </tr>\n",
       "    <tr>\n",
       "      <td>5</td>\n",
       "      <td>Tetris</td>\n",
       "      <td>GB</td>\n",
       "      <td>1989</td>\n",
       "      <td>Puzzle</td>\n",
       "      <td>23.20</td>\n",
       "      <td>2.26</td>\n",
       "      <td>4.22</td>\n",
       "      <td>0.58</td>\n",
       "      <td>-1</td>\n",
       "      <td>-1</td>\n",
       "      <td>NaN</td>\n",
       "    </tr>\n",
       "    <tr>\n",
       "      <td>6</td>\n",
       "      <td>New Super Mario Bros.</td>\n",
       "      <td>DS</td>\n",
       "      <td>2006</td>\n",
       "      <td>Platform</td>\n",
       "      <td>11.28</td>\n",
       "      <td>9.14</td>\n",
       "      <td>6.50</td>\n",
       "      <td>2.88</td>\n",
       "      <td>89</td>\n",
       "      <td>9</td>\n",
       "      <td>E</td>\n",
       "    </tr>\n",
       "    <tr>\n",
       "      <td>7</td>\n",
       "      <td>Wii Play</td>\n",
       "      <td>Wii</td>\n",
       "      <td>2006</td>\n",
       "      <td>Misc</td>\n",
       "      <td>13.96</td>\n",
       "      <td>9.18</td>\n",
       "      <td>2.93</td>\n",
       "      <td>2.84</td>\n",
       "      <td>58</td>\n",
       "      <td>7</td>\n",
       "      <td>E</td>\n",
       "    </tr>\n",
       "    <tr>\n",
       "      <td>8</td>\n",
       "      <td>New Super Mario Bros. Wii</td>\n",
       "      <td>Wii</td>\n",
       "      <td>2009</td>\n",
       "      <td>Platform</td>\n",
       "      <td>14.44</td>\n",
       "      <td>6.94</td>\n",
       "      <td>4.70</td>\n",
       "      <td>2.24</td>\n",
       "      <td>87</td>\n",
       "      <td>9</td>\n",
       "      <td>E</td>\n",
       "    </tr>\n",
       "    <tr>\n",
       "      <td>9</td>\n",
       "      <td>Duck Hunt</td>\n",
       "      <td>NES</td>\n",
       "      <td>1984</td>\n",
       "      <td>Shooter</td>\n",
       "      <td>26.93</td>\n",
       "      <td>0.63</td>\n",
       "      <td>0.28</td>\n",
       "      <td>0.47</td>\n",
       "      <td>-1</td>\n",
       "      <td>-1</td>\n",
       "      <td>NaN</td>\n",
       "    </tr>\n",
       "  </tbody>\n",
       "</table>\n",
       "</div>"
      ],
      "text/plain": [
       "                        name platform  year_of_release         genre  \\\n",
       "0                 Wii Sports      Wii             2006        Sports   \n",
       "1          Super Mario Bros.      NES             1985      Platform   \n",
       "2             Mario Kart Wii      Wii             2008        Racing   \n",
       "3          Wii Sports Resort      Wii             2009        Sports   \n",
       "4   Pokemon Red/Pokemon Blue       GB             1996  Role-Playing   \n",
       "5                     Tetris       GB             1989        Puzzle   \n",
       "6      New Super Mario Bros.       DS             2006      Platform   \n",
       "7                   Wii Play      Wii             2006          Misc   \n",
       "8  New Super Mario Bros. Wii      Wii             2009      Platform   \n",
       "9                  Duck Hunt      NES             1984       Shooter   \n",
       "\n",
       "   na_sales  eu_sales  jp_sales  other_sales  critic_score  user_score rating  \n",
       "0     41.36     28.96      3.77         8.45            76           8      E  \n",
       "1     29.08      3.58      6.81         0.77            -1          -1    NaN  \n",
       "2     15.68     12.76      3.79         3.29            82           9      E  \n",
       "3     15.61     10.93      3.28         2.95            80           8      E  \n",
       "4     11.27      8.89     10.22         1.00            -1          -1    NaN  \n",
       "5     23.20      2.26      4.22         0.58            -1          -1    NaN  \n",
       "6     11.28      9.14      6.50         2.88            89           9      E  \n",
       "7     13.96      9.18      2.93         2.84            58           7      E  \n",
       "8     14.44      6.94      4.70         2.24            87           9      E  \n",
       "9     26.93      0.63      0.28         0.47            -1          -1    NaN  "
      ]
     },
     "execution_count": 8,
     "metadata": {},
     "output_type": "execute_result"
    }
   ],
   "source": [
    "# Заменим пропуски в столбцах на 0 'critic_score' и 'user_score', т.к. скорей всего на момент сбора \n",
    "# данных не было оценок критиков и пользователей.\n",
    "import numpy as np\n",
    "df['critic_score'] = df['critic_score'].fillna('-1').astype('int')\n",
    "# заменим tbd (to be determined)  на 0 \n",
    "df['user_score'] = df['user_score'].replace('tbd', '0')\n",
    "df['user_score'] = df['user_score'].fillna('-1')\n",
    "df['user_score'] = pd.to_numeric(df['user_score'])\n",
    "# округлим оценку до целых\n",
    "df['user_score'] = np.ceil(df['user_score']).astype('int')\n",
    "df.head(10)"
   ]
  },
  {
   "cell_type": "code",
   "execution_count": 9,
   "metadata": {},
   "outputs": [],
   "source": [
    "# Есть два пропуска в столбце 'name' и 'genre' это две игры 1993 года,\n",
    "# т.к. решил сбрать статистику с 2010 года удалим их\n",
    "df[df['genre'].isna()]\n",
    "df.dropna(subset=['genre'], inplace=True)"
   ]
  },
  {
   "cell_type": "code",
   "execution_count": 10,
   "metadata": {},
   "outputs": [
    {
     "data": {
      "text/plain": [
       "array(['Sports', 'Platform', 'Racing', 'Role-Playing', 'Puzzle', 'Misc',\n",
       "       'Shooter', 'Simulation', 'Action', 'Fighting', 'Adventure',\n",
       "       'Strategy'], dtype=object)"
      ]
     },
     "execution_count": 10,
     "metadata": {},
     "output_type": "execute_result"
    }
   ],
   "source": [
    "genre_game = df['genre'].unique()\n",
    "genre_game "
   ]
  },
  {
   "cell_type": "code",
   "execution_count": 11,
   "metadata": {},
   "outputs": [
    {
     "data": {
      "text/plain": [
       "array(['E', 'RP', 'M', 'T', 'E10+', 'AO', 'EC'], dtype=object)"
      ]
     },
     "execution_count": 11,
     "metadata": {},
     "output_type": "execute_result"
    }
   ],
   "source": [
    "# В столбце rating часто повторяется один и тот же тип оценки для одинаковых жанров.\n",
    "# Восстановим пропуски по ESRB рейтингу в жанре.\n",
    "# Создадим словарь с обозначением жанров\n",
    "genre_game = df['genre'].unique()\n",
    "genre_list = {}\n",
    "for genre in genre_game:\n",
    "    genre_count = df[df['genre'] == genre]['rating'].value_counts()\n",
    "    genre_list[genre] = genre_count.index[0]\n",
    "\n",
    "# Создадим функцию поиска по столбцу 'rating' '0' и замене соответсвующему обазночению\n",
    "def rating(row):\n",
    "    if row[10] == '0':\n",
    "        row[10] = genre_list[row[3]]\n",
    "    return row\n",
    "df['rating'] = df['rating'].fillna('RP')   \n",
    "df = df.apply(rating, axis=1)\n",
    "\n",
    "# Т.к. категории E и K-A по смыслу являются одинаковыми замени на Е\n",
    "df['rating'] = df['rating'].replace('K-A', 'E')\n",
    "\n",
    "df['rating'].unique()"
   ]
  },
  {
   "cell_type": "code",
   "execution_count": 12,
   "metadata": {},
   "outputs": [
    {
     "name": "stdout",
     "output_type": "stream",
     "text": [
      "<class 'pandas.core.frame.DataFrame'>\n",
      "Int64Index: 16444 entries, 0 to 16714\n",
      "Data columns (total 11 columns):\n",
      "name               16444 non-null object\n",
      "platform           16444 non-null object\n",
      "year_of_release    16444 non-null int64\n",
      "genre              16444 non-null object\n",
      "na_sales           16444 non-null float64\n",
      "eu_sales           16444 non-null float64\n",
      "jp_sales           16444 non-null float64\n",
      "other_sales        16444 non-null float64\n",
      "critic_score       16444 non-null int64\n",
      "user_score         16444 non-null int64\n",
      "rating             16444 non-null object\n",
      "dtypes: float64(4), int64(3), object(4)\n",
      "memory usage: 1.5+ MB\n"
     ]
    }
   ],
   "source": [
    "df.isna().sum()\n",
    "df.info()"
   ]
  },
  {
   "cell_type": "markdown",
   "metadata": {},
   "source": [
    "### Cуммарные продажи во всех регионах"
   ]
  },
  {
   "cell_type": "code",
   "execution_count": 13,
   "metadata": {},
   "outputs": [
    {
     "data": {
      "text/html": [
       "<div>\n",
       "<style scoped>\n",
       "    .dataframe tbody tr th:only-of-type {\n",
       "        vertical-align: middle;\n",
       "    }\n",
       "\n",
       "    .dataframe tbody tr th {\n",
       "        vertical-align: top;\n",
       "    }\n",
       "\n",
       "    .dataframe thead th {\n",
       "        text-align: right;\n",
       "    }\n",
       "</style>\n",
       "<table border=\"1\" class=\"dataframe\">\n",
       "  <thead>\n",
       "    <tr style=\"text-align: right;\">\n",
       "      <th></th>\n",
       "      <th>name</th>\n",
       "      <th>platform</th>\n",
       "      <th>year_of_release</th>\n",
       "      <th>genre</th>\n",
       "      <th>na_sales</th>\n",
       "      <th>eu_sales</th>\n",
       "      <th>jp_sales</th>\n",
       "      <th>other_sales</th>\n",
       "      <th>critic_score</th>\n",
       "      <th>user_score</th>\n",
       "      <th>rating</th>\n",
       "      <th>total_sales</th>\n",
       "    </tr>\n",
       "  </thead>\n",
       "  <tbody>\n",
       "    <tr>\n",
       "      <td>0</td>\n",
       "      <td>Wii Sports</td>\n",
       "      <td>Wii</td>\n",
       "      <td>2006</td>\n",
       "      <td>Sports</td>\n",
       "      <td>41.36</td>\n",
       "      <td>28.96</td>\n",
       "      <td>3.77</td>\n",
       "      <td>8.45</td>\n",
       "      <td>76</td>\n",
       "      <td>8</td>\n",
       "      <td>E</td>\n",
       "      <td>82.54</td>\n",
       "    </tr>\n",
       "    <tr>\n",
       "      <td>1</td>\n",
       "      <td>Super Mario Bros.</td>\n",
       "      <td>NES</td>\n",
       "      <td>1985</td>\n",
       "      <td>Platform</td>\n",
       "      <td>29.08</td>\n",
       "      <td>3.58</td>\n",
       "      <td>6.81</td>\n",
       "      <td>0.77</td>\n",
       "      <td>-1</td>\n",
       "      <td>-1</td>\n",
       "      <td>RP</td>\n",
       "      <td>40.24</td>\n",
       "    </tr>\n",
       "    <tr>\n",
       "      <td>2</td>\n",
       "      <td>Mario Kart Wii</td>\n",
       "      <td>Wii</td>\n",
       "      <td>2008</td>\n",
       "      <td>Racing</td>\n",
       "      <td>15.68</td>\n",
       "      <td>12.76</td>\n",
       "      <td>3.79</td>\n",
       "      <td>3.29</td>\n",
       "      <td>82</td>\n",
       "      <td>9</td>\n",
       "      <td>E</td>\n",
       "      <td>35.52</td>\n",
       "    </tr>\n",
       "    <tr>\n",
       "      <td>3</td>\n",
       "      <td>Wii Sports Resort</td>\n",
       "      <td>Wii</td>\n",
       "      <td>2009</td>\n",
       "      <td>Sports</td>\n",
       "      <td>15.61</td>\n",
       "      <td>10.93</td>\n",
       "      <td>3.28</td>\n",
       "      <td>2.95</td>\n",
       "      <td>80</td>\n",
       "      <td>8</td>\n",
       "      <td>E</td>\n",
       "      <td>32.77</td>\n",
       "    </tr>\n",
       "    <tr>\n",
       "      <td>4</td>\n",
       "      <td>Pokemon Red/Pokemon Blue</td>\n",
       "      <td>GB</td>\n",
       "      <td>1996</td>\n",
       "      <td>Role-Playing</td>\n",
       "      <td>11.27</td>\n",
       "      <td>8.89</td>\n",
       "      <td>10.22</td>\n",
       "      <td>1.00</td>\n",
       "      <td>-1</td>\n",
       "      <td>-1</td>\n",
       "      <td>RP</td>\n",
       "      <td>31.38</td>\n",
       "    </tr>\n",
       "    <tr>\n",
       "      <td>5</td>\n",
       "      <td>Tetris</td>\n",
       "      <td>GB</td>\n",
       "      <td>1989</td>\n",
       "      <td>Puzzle</td>\n",
       "      <td>23.20</td>\n",
       "      <td>2.26</td>\n",
       "      <td>4.22</td>\n",
       "      <td>0.58</td>\n",
       "      <td>-1</td>\n",
       "      <td>-1</td>\n",
       "      <td>RP</td>\n",
       "      <td>30.26</td>\n",
       "    </tr>\n",
       "    <tr>\n",
       "      <td>6</td>\n",
       "      <td>New Super Mario Bros.</td>\n",
       "      <td>DS</td>\n",
       "      <td>2006</td>\n",
       "      <td>Platform</td>\n",
       "      <td>11.28</td>\n",
       "      <td>9.14</td>\n",
       "      <td>6.50</td>\n",
       "      <td>2.88</td>\n",
       "      <td>89</td>\n",
       "      <td>9</td>\n",
       "      <td>E</td>\n",
       "      <td>29.80</td>\n",
       "    </tr>\n",
       "    <tr>\n",
       "      <td>7</td>\n",
       "      <td>Wii Play</td>\n",
       "      <td>Wii</td>\n",
       "      <td>2006</td>\n",
       "      <td>Misc</td>\n",
       "      <td>13.96</td>\n",
       "      <td>9.18</td>\n",
       "      <td>2.93</td>\n",
       "      <td>2.84</td>\n",
       "      <td>58</td>\n",
       "      <td>7</td>\n",
       "      <td>E</td>\n",
       "      <td>28.91</td>\n",
       "    </tr>\n",
       "    <tr>\n",
       "      <td>8</td>\n",
       "      <td>New Super Mario Bros. Wii</td>\n",
       "      <td>Wii</td>\n",
       "      <td>2009</td>\n",
       "      <td>Platform</td>\n",
       "      <td>14.44</td>\n",
       "      <td>6.94</td>\n",
       "      <td>4.70</td>\n",
       "      <td>2.24</td>\n",
       "      <td>87</td>\n",
       "      <td>9</td>\n",
       "      <td>E</td>\n",
       "      <td>28.32</td>\n",
       "    </tr>\n",
       "    <tr>\n",
       "      <td>9</td>\n",
       "      <td>Duck Hunt</td>\n",
       "      <td>NES</td>\n",
       "      <td>1984</td>\n",
       "      <td>Shooter</td>\n",
       "      <td>26.93</td>\n",
       "      <td>0.63</td>\n",
       "      <td>0.28</td>\n",
       "      <td>0.47</td>\n",
       "      <td>-1</td>\n",
       "      <td>-1</td>\n",
       "      <td>RP</td>\n",
       "      <td>28.31</td>\n",
       "    </tr>\n",
       "  </tbody>\n",
       "</table>\n",
       "</div>"
      ],
      "text/plain": [
       "                        name platform  year_of_release         genre  \\\n",
       "0                 Wii Sports      Wii             2006        Sports   \n",
       "1          Super Mario Bros.      NES             1985      Platform   \n",
       "2             Mario Kart Wii      Wii             2008        Racing   \n",
       "3          Wii Sports Resort      Wii             2009        Sports   \n",
       "4   Pokemon Red/Pokemon Blue       GB             1996  Role-Playing   \n",
       "5                     Tetris       GB             1989        Puzzle   \n",
       "6      New Super Mario Bros.       DS             2006      Platform   \n",
       "7                   Wii Play      Wii             2006          Misc   \n",
       "8  New Super Mario Bros. Wii      Wii             2009      Platform   \n",
       "9                  Duck Hunt      NES             1984       Shooter   \n",
       "\n",
       "   na_sales  eu_sales  jp_sales  other_sales  critic_score  user_score rating  \\\n",
       "0     41.36     28.96      3.77         8.45            76           8      E   \n",
       "1     29.08      3.58      6.81         0.77            -1          -1     RP   \n",
       "2     15.68     12.76      3.79         3.29            82           9      E   \n",
       "3     15.61     10.93      3.28         2.95            80           8      E   \n",
       "4     11.27      8.89     10.22         1.00            -1          -1     RP   \n",
       "5     23.20      2.26      4.22         0.58            -1          -1     RP   \n",
       "6     11.28      9.14      6.50         2.88            89           9      E   \n",
       "7     13.96      9.18      2.93         2.84            58           7      E   \n",
       "8     14.44      6.94      4.70         2.24            87           9      E   \n",
       "9     26.93      0.63      0.28         0.47            -1          -1     RP   \n",
       "\n",
       "   total_sales  \n",
       "0        82.54  \n",
       "1        40.24  \n",
       "2        35.52  \n",
       "3        32.77  \n",
       "4        31.38  \n",
       "5        30.26  \n",
       "6        29.80  \n",
       "7        28.91  \n",
       "8        28.32  \n",
       "9        28.31  "
      ]
     },
     "execution_count": 13,
     "metadata": {},
     "output_type": "execute_result"
    }
   ],
   "source": [
    "# Добваим новый столбец 'total_sales'\n",
    "df['total_sales'] = df['na_sales'] + df['eu_sales'] + df['jp_sales'] + df['other_sales']\n",
    "df.head(10)"
   ]
  },
  {
   "cell_type": "markdown",
   "metadata": {},
   "source": [
    "Вывод: данные готовы к анализу."
   ]
  },
  {
   "cell_type": "markdown",
   "metadata": {},
   "source": [
    "## Анализ данных"
   ]
  },
  {
   "cell_type": "markdown",
   "metadata": {},
   "source": [
    "### Посмотрите, сколько игр выпускалось в разные годы. Важны ли данные за все периоды?"
   ]
  },
  {
   "cell_type": "code",
   "execution_count": 14,
   "metadata": {},
   "outputs": [
    {
     "data": {
      "image/png": "[encoded data removed]",
      "text/plain": [
       "<Figure size 432x288 with 1 Axes>"
      ]
     },
     "metadata": {
      "needs_background": "light"
     },
     "output_type": "display_data"
    }
   ],
   "source": [
    "year_release = df.groupby('year_of_release')['name'].count()\n",
    "year_release.plot()\n",
    "plt.xlabel('Год выпуска')\n",
    "plt.ylabel('Количество игр')\n",
    "plt.grid()"
   ]
  },
  {
   "cell_type": "markdown",
   "metadata": {},
   "source": [
    "Вывод: Будем анализировать период с 2000 по 2016, т.к. в срезе выпускалось больше всего игр."
   ]
  },
  {
   "cell_type": "markdown",
   "metadata": {},
   "source": [
    "### Посмотрим, как менялись продажи по платформам. Выберим платформы с наибольшими суммарными продажами и построим распределение по годам. За какой характерный срок появляются новые и исчезают старые платформы?"
   ]
  },
  {
   "cell_type": "code",
   "execution_count": 15,
   "metadata": {},
   "outputs": [
    {
     "data": {
      "text/html": [
       "<div>\n",
       "<style scoped>\n",
       "    .dataframe tbody tr th:only-of-type {\n",
       "        vertical-align: middle;\n",
       "    }\n",
       "\n",
       "    .dataframe tbody tr th {\n",
       "        vertical-align: top;\n",
       "    }\n",
       "\n",
       "    .dataframe thead th {\n",
       "        text-align: right;\n",
       "    }\n",
       "</style>\n",
       "<table border=\"1\" class=\"dataframe\">\n",
       "  <thead>\n",
       "    <tr style=\"text-align: right;\">\n",
       "      <th>year_of_release</th>\n",
       "      <th>2000</th>\n",
       "      <th>2001</th>\n",
       "      <th>2002</th>\n",
       "      <th>2003</th>\n",
       "      <th>2004</th>\n",
       "      <th>2005</th>\n",
       "      <th>2006</th>\n",
       "      <th>2007</th>\n",
       "      <th>2008</th>\n",
       "      <th>2009</th>\n",
       "      <th>2010</th>\n",
       "      <th>2011</th>\n",
       "      <th>2012</th>\n",
       "      <th>2013</th>\n",
       "      <th>2014</th>\n",
       "      <th>2015</th>\n",
       "      <th>2016</th>\n",
       "    </tr>\n",
       "    <tr>\n",
       "      <th>platform</th>\n",
       "      <th></th>\n",
       "      <th></th>\n",
       "      <th></th>\n",
       "      <th></th>\n",
       "      <th></th>\n",
       "      <th></th>\n",
       "      <th></th>\n",
       "      <th></th>\n",
       "      <th></th>\n",
       "      <th></th>\n",
       "      <th></th>\n",
       "      <th></th>\n",
       "      <th></th>\n",
       "      <th></th>\n",
       "      <th></th>\n",
       "      <th></th>\n",
       "      <th></th>\n",
       "    </tr>\n",
       "  </thead>\n",
       "  <tbody>\n",
       "    <tr>\n",
       "      <td>3DS</td>\n",
       "      <td>*</td>\n",
       "      <td>*</td>\n",
       "      <td>*</td>\n",
       "      <td>*</td>\n",
       "      <td>*</td>\n",
       "      <td>*</td>\n",
       "      <td>*</td>\n",
       "      <td>*</td>\n",
       "      <td>*</td>\n",
       "      <td>*</td>\n",
       "      <td>*</td>\n",
       "      <td>116.00</td>\n",
       "      <td>93.00</td>\n",
       "      <td>91.00</td>\n",
       "      <td>80.00</td>\n",
       "      <td>86.00</td>\n",
       "      <td>46.00</td>\n",
       "    </tr>\n",
       "    <tr>\n",
       "      <td>DC</td>\n",
       "      <td>20.00</td>\n",
       "      <td>8.00</td>\n",
       "      <td>1.00</td>\n",
       "      <td>*</td>\n",
       "      <td>*</td>\n",
       "      <td>*</td>\n",
       "      <td>*</td>\n",
       "      <td>1.00</td>\n",
       "      <td>1.00</td>\n",
       "      <td>*</td>\n",
       "      <td>*</td>\n",
       "      <td>*</td>\n",
       "      <td>*</td>\n",
       "      <td>*</td>\n",
       "      <td>*</td>\n",
       "      <td>*</td>\n",
       "      <td>*</td>\n",
       "    </tr>\n",
       "    <tr>\n",
       "      <td>DS</td>\n",
       "      <td>*</td>\n",
       "      <td>*</td>\n",
       "      <td>*</td>\n",
       "      <td>*</td>\n",
       "      <td>23.00</td>\n",
       "      <td>118.00</td>\n",
       "      <td>201.00</td>\n",
       "      <td>376.00</td>\n",
       "      <td>492.00</td>\n",
       "      <td>403.00</td>\n",
       "      <td>323.00</td>\n",
       "      <td>153.00</td>\n",
       "      <td>23.00</td>\n",
       "      <td>8.00</td>\n",
       "      <td>*</td>\n",
       "      <td>*</td>\n",
       "      <td>*</td>\n",
       "    </tr>\n",
       "    <tr>\n",
       "      <td>GB</td>\n",
       "      <td>17.00</td>\n",
       "      <td>10.00</td>\n",
       "      <td>*</td>\n",
       "      <td>*</td>\n",
       "      <td>*</td>\n",
       "      <td>*</td>\n",
       "      <td>*</td>\n",
       "      <td>*</td>\n",
       "      <td>*</td>\n",
       "      <td>*</td>\n",
       "      <td>*</td>\n",
       "      <td>*</td>\n",
       "      <td>*</td>\n",
       "      <td>*</td>\n",
       "      <td>*</td>\n",
       "      <td>*</td>\n",
       "      <td>*</td>\n",
       "    </tr>\n",
       "    <tr>\n",
       "      <td>GBA</td>\n",
       "      <td>1.00</td>\n",
       "      <td>107.00</td>\n",
       "      <td>198.00</td>\n",
       "      <td>150.00</td>\n",
       "      <td>175.00</td>\n",
       "      <td>135.00</td>\n",
       "      <td>39.00</td>\n",
       "      <td>6.00</td>\n",
       "      <td>*</td>\n",
       "      <td>*</td>\n",
       "      <td>*</td>\n",
       "      <td>*</td>\n",
       "      <td>*</td>\n",
       "      <td>*</td>\n",
       "      <td>*</td>\n",
       "      <td>*</td>\n",
       "      <td>*</td>\n",
       "    </tr>\n",
       "    <tr>\n",
       "      <td>GC</td>\n",
       "      <td>*</td>\n",
       "      <td>22.00</td>\n",
       "      <td>152.00</td>\n",
       "      <td>144.00</td>\n",
       "      <td>83.00</td>\n",
       "      <td>97.00</td>\n",
       "      <td>40.00</td>\n",
       "      <td>4.00</td>\n",
       "      <td>*</td>\n",
       "      <td>*</td>\n",
       "      <td>*</td>\n",
       "      <td>*</td>\n",
       "      <td>*</td>\n",
       "      <td>*</td>\n",
       "      <td>*</td>\n",
       "      <td>*</td>\n",
       "      <td>*</td>\n",
       "    </tr>\n",
       "    <tr>\n",
       "      <td>N64</td>\n",
       "      <td>60.00</td>\n",
       "      <td>9.00</td>\n",
       "      <td>1.00</td>\n",
       "      <td>*</td>\n",
       "      <td>*</td>\n",
       "      <td>*</td>\n",
       "      <td>*</td>\n",
       "      <td>*</td>\n",
       "      <td>*</td>\n",
       "      <td>*</td>\n",
       "      <td>*</td>\n",
       "      <td>*</td>\n",
       "      <td>*</td>\n",
       "      <td>*</td>\n",
       "      <td>*</td>\n",
       "      <td>*</td>\n",
       "      <td>*</td>\n",
       "    </tr>\n",
       "    <tr>\n",
       "      <td>PC</td>\n",
       "      <td>7.00</td>\n",
       "      <td>15.00</td>\n",
       "      <td>19.00</td>\n",
       "      <td>33.00</td>\n",
       "      <td>30.00</td>\n",
       "      <td>37.00</td>\n",
       "      <td>52.00</td>\n",
       "      <td>62.00</td>\n",
       "      <td>76.00</td>\n",
       "      <td>107.00</td>\n",
       "      <td>90.00</td>\n",
       "      <td>139.00</td>\n",
       "      <td>61.00</td>\n",
       "      <td>38.00</td>\n",
       "      <td>47.00</td>\n",
       "      <td>50.00</td>\n",
       "      <td>54.00</td>\n",
       "    </tr>\n",
       "    <tr>\n",
       "      <td>PS</td>\n",
       "      <td>160.00</td>\n",
       "      <td>91.00</td>\n",
       "      <td>20.00</td>\n",
       "      <td>3.00</td>\n",
       "      <td>*</td>\n",
       "      <td>*</td>\n",
       "      <td>*</td>\n",
       "      <td>*</td>\n",
       "      <td>*</td>\n",
       "      <td>*</td>\n",
       "      <td>*</td>\n",
       "      <td>*</td>\n",
       "      <td>*</td>\n",
       "      <td>*</td>\n",
       "      <td>*</td>\n",
       "      <td>*</td>\n",
       "      <td>*</td>\n",
       "    </tr>\n",
       "    <tr>\n",
       "      <td>PS2</td>\n",
       "      <td>82.00</td>\n",
       "      <td>185.00</td>\n",
       "      <td>280.00</td>\n",
       "      <td>256.00</td>\n",
       "      <td>259.00</td>\n",
       "      <td>260.00</td>\n",
       "      <td>259.00</td>\n",
       "      <td>214.00</td>\n",
       "      <td>191.00</td>\n",
       "      <td>96.00</td>\n",
       "      <td>38.00</td>\n",
       "      <td>7.00</td>\n",
       "      <td>*</td>\n",
       "      <td>*</td>\n",
       "      <td>*</td>\n",
       "      <td>*</td>\n",
       "      <td>*</td>\n",
       "    </tr>\n",
       "    <tr>\n",
       "      <td>PS3</td>\n",
       "      <td>*</td>\n",
       "      <td>*</td>\n",
       "      <td>*</td>\n",
       "      <td>*</td>\n",
       "      <td>*</td>\n",
       "      <td>*</td>\n",
       "      <td>27.00</td>\n",
       "      <td>90.00</td>\n",
       "      <td>138.00</td>\n",
       "      <td>162.00</td>\n",
       "      <td>181.00</td>\n",
       "      <td>215.00</td>\n",
       "      <td>148.00</td>\n",
       "      <td>126.00</td>\n",
       "      <td>108.00</td>\n",
       "      <td>73.00</td>\n",
       "      <td>38.00</td>\n",
       "    </tr>\n",
       "    <tr>\n",
       "      <td>PS4</td>\n",
       "      <td>*</td>\n",
       "      <td>*</td>\n",
       "      <td>*</td>\n",
       "      <td>*</td>\n",
       "      <td>*</td>\n",
       "      <td>*</td>\n",
       "      <td>*</td>\n",
       "      <td>*</td>\n",
       "      <td>*</td>\n",
       "      <td>*</td>\n",
       "      <td>*</td>\n",
       "      <td>*</td>\n",
       "      <td>*</td>\n",
       "      <td>16.00</td>\n",
       "      <td>75.00</td>\n",
       "      <td>137.00</td>\n",
       "      <td>164.00</td>\n",
       "    </tr>\n",
       "    <tr>\n",
       "      <td>PSP</td>\n",
       "      <td>*</td>\n",
       "      <td>*</td>\n",
       "      <td>*</td>\n",
       "      <td>*</td>\n",
       "      <td>15.00</td>\n",
       "      <td>95.00</td>\n",
       "      <td>189.00</td>\n",
       "      <td>133.00</td>\n",
       "      <td>100.00</td>\n",
       "      <td>161.00</td>\n",
       "      <td>188.00</td>\n",
       "      <td>139.00</td>\n",
       "      <td>106.00</td>\n",
       "      <td>54.00</td>\n",
       "      <td>10.00</td>\n",
       "      <td>3.00</td>\n",
       "      <td>*</td>\n",
       "    </tr>\n",
       "    <tr>\n",
       "      <td>PSV</td>\n",
       "      <td>*</td>\n",
       "      <td>*</td>\n",
       "      <td>*</td>\n",
       "      <td>*</td>\n",
       "      <td>*</td>\n",
       "      <td>*</td>\n",
       "      <td>*</td>\n",
       "      <td>*</td>\n",
       "      <td>*</td>\n",
       "      <td>*</td>\n",
       "      <td>*</td>\n",
       "      <td>18.00</td>\n",
       "      <td>53.00</td>\n",
       "      <td>63.00</td>\n",
       "      <td>100.00</td>\n",
       "      <td>110.00</td>\n",
       "      <td>85.00</td>\n",
       "    </tr>\n",
       "    <tr>\n",
       "      <td>WS</td>\n",
       "      <td>2.00</td>\n",
       "      <td>2.00</td>\n",
       "      <td>*</td>\n",
       "      <td>*</td>\n",
       "      <td>*</td>\n",
       "      <td>*</td>\n",
       "      <td>*</td>\n",
       "      <td>*</td>\n",
       "      <td>*</td>\n",
       "      <td>*</td>\n",
       "      <td>*</td>\n",
       "      <td>*</td>\n",
       "      <td>*</td>\n",
       "      <td>*</td>\n",
       "      <td>*</td>\n",
       "      <td>*</td>\n",
       "      <td>*</td>\n",
       "    </tr>\n",
       "    <tr>\n",
       "      <td>Wii</td>\n",
       "      <td>*</td>\n",
       "      <td>*</td>\n",
       "      <td>*</td>\n",
       "      <td>*</td>\n",
       "      <td>*</td>\n",
       "      <td>*</td>\n",
       "      <td>44.00</td>\n",
       "      <td>185.00</td>\n",
       "      <td>282.00</td>\n",
       "      <td>325.00</td>\n",
       "      <td>253.00</td>\n",
       "      <td>143.00</td>\n",
       "      <td>31.00</td>\n",
       "      <td>12.00</td>\n",
       "      <td>6.00</td>\n",
       "      <td>4.00</td>\n",
       "      <td>1.00</td>\n",
       "    </tr>\n",
       "    <tr>\n",
       "      <td>WiiU</td>\n",
       "      <td>*</td>\n",
       "      <td>*</td>\n",
       "      <td>*</td>\n",
       "      <td>*</td>\n",
       "      <td>*</td>\n",
       "      <td>*</td>\n",
       "      <td>*</td>\n",
       "      <td>*</td>\n",
       "      <td>*</td>\n",
       "      <td>*</td>\n",
       "      <td>*</td>\n",
       "      <td>*</td>\n",
       "      <td>32.00</td>\n",
       "      <td>42.00</td>\n",
       "      <td>31.00</td>\n",
       "      <td>28.00</td>\n",
       "      <td>14.00</td>\n",
       "    </tr>\n",
       "    <tr>\n",
       "      <td>X360</td>\n",
       "      <td>*</td>\n",
       "      <td>*</td>\n",
       "      <td>*</td>\n",
       "      <td>*</td>\n",
       "      <td>*</td>\n",
       "      <td>18.00</td>\n",
       "      <td>93.00</td>\n",
       "      <td>123.00</td>\n",
       "      <td>146.00</td>\n",
       "      <td>172.00</td>\n",
       "      <td>182.00</td>\n",
       "      <td>206.00</td>\n",
       "      <td>106.00</td>\n",
       "      <td>75.00</td>\n",
       "      <td>63.00</td>\n",
       "      <td>35.00</td>\n",
       "      <td>13.00</td>\n",
       "    </tr>\n",
       "    <tr>\n",
       "      <td>XB</td>\n",
       "      <td>1.00</td>\n",
       "      <td>33.00</td>\n",
       "      <td>158.00</td>\n",
       "      <td>189.00</td>\n",
       "      <td>177.00</td>\n",
       "      <td>179.00</td>\n",
       "      <td>62.00</td>\n",
       "      <td>3.00</td>\n",
       "      <td>1.00</td>\n",
       "      <td>*</td>\n",
       "      <td>*</td>\n",
       "      <td>*</td>\n",
       "      <td>*</td>\n",
       "      <td>*</td>\n",
       "      <td>*</td>\n",
       "      <td>*</td>\n",
       "      <td>*</td>\n",
       "    </tr>\n",
       "    <tr>\n",
       "      <td>XOne</td>\n",
       "      <td>*</td>\n",
       "      <td>*</td>\n",
       "      <td>*</td>\n",
       "      <td>*</td>\n",
       "      <td>*</td>\n",
       "      <td>*</td>\n",
       "      <td>*</td>\n",
       "      <td>*</td>\n",
       "      <td>*</td>\n",
       "      <td>*</td>\n",
       "      <td>*</td>\n",
       "      <td>*</td>\n",
       "      <td>*</td>\n",
       "      <td>19.00</td>\n",
       "      <td>61.00</td>\n",
       "      <td>80.00</td>\n",
       "      <td>87.00</td>\n",
       "    </tr>\n",
       "  </tbody>\n",
       "</table>\n",
       "</div>"
      ],
      "text/plain": [
       "year_of_release   2000   2001   2002   2003   2004   2005   2006   2007  \\\n",
       "platform                                                                  \n",
       "3DS                  *      *      *      *      *      *      *      *   \n",
       "DC               20.00   8.00   1.00      *      *      *      *   1.00   \n",
       "DS                   *      *      *      *  23.00 118.00 201.00 376.00   \n",
       "GB               17.00  10.00      *      *      *      *      *      *   \n",
       "GBA               1.00 107.00 198.00 150.00 175.00 135.00  39.00   6.00   \n",
       "GC                   *  22.00 152.00 144.00  83.00  97.00  40.00   4.00   \n",
       "N64              60.00   9.00   1.00      *      *      *      *      *   \n",
       "PC                7.00  15.00  19.00  33.00  30.00  37.00  52.00  62.00   \n",
       "PS              160.00  91.00  20.00   3.00      *      *      *      *   \n",
       "PS2              82.00 185.00 280.00 256.00 259.00 260.00 259.00 214.00   \n",
       "PS3                  *      *      *      *      *      *  27.00  90.00   \n",
       "PS4                  *      *      *      *      *      *      *      *   \n",
       "PSP                  *      *      *      *  15.00  95.00 189.00 133.00   \n",
       "PSV                  *      *      *      *      *      *      *      *   \n",
       "WS                2.00   2.00      *      *      *      *      *      *   \n",
       "Wii                  *      *      *      *      *      *  44.00 185.00   \n",
       "WiiU                 *      *      *      *      *      *      *      *   \n",
       "X360                 *      *      *      *      *  18.00  93.00 123.00   \n",
       "XB                1.00  33.00 158.00 189.00 177.00 179.00  62.00   3.00   \n",
       "XOne                 *      *      *      *      *      *      *      *   \n",
       "\n",
       "year_of_release   2008   2009   2010   2011   2012   2013   2014   2015   2016  \n",
       "platform                                                                        \n",
       "3DS                  *      *      * 116.00  93.00  91.00  80.00  86.00  46.00  \n",
       "DC                1.00      *      *      *      *      *      *      *      *  \n",
       "DS              492.00 403.00 323.00 153.00  23.00   8.00      *      *      *  \n",
       "GB                   *      *      *      *      *      *      *      *      *  \n",
       "GBA                  *      *      *      *      *      *      *      *      *  \n",
       "GC                   *      *      *      *      *      *      *      *      *  \n",
       "N64                  *      *      *      *      *      *      *      *      *  \n",
       "PC               76.00 107.00  90.00 139.00  61.00  38.00  47.00  50.00  54.00  \n",
       "PS                   *      *      *      *      *      *      *      *      *  \n",
       "PS2             191.00  96.00  38.00   7.00      *      *      *      *      *  \n",
       "PS3             138.00 162.00 181.00 215.00 148.00 126.00 108.00  73.00  38.00  \n",
       "PS4                  *      *      *      *      *  16.00  75.00 137.00 164.00  \n",
       "PSP             100.00 161.00 188.00 139.00 106.00  54.00  10.00   3.00      *  \n",
       "PSV                  *      *      *  18.00  53.00  63.00 100.00 110.00  85.00  \n",
       "WS                   *      *      *      *      *      *      *      *      *  \n",
       "Wii             282.00 325.00 253.00 143.00  31.00  12.00   6.00   4.00   1.00  \n",
       "WiiU                 *      *      *      *  32.00  42.00  31.00  28.00  14.00  \n",
       "X360            146.00 172.00 182.00 206.00 106.00  75.00  63.00  35.00  13.00  \n",
       "XB                1.00      *      *      *      *      *      *      *      *  \n",
       "XOne                 *      *      *      *      *  19.00  61.00  80.00  87.00  "
      ]
     },
     "execution_count": 15,
     "metadata": {},
     "output_type": "execute_result"
    }
   ],
   "source": [
    "# Продажи по годам\n",
    "platform_sales = (df.query('year_of_release >= 2000')\n",
    "                  .pivot_table(index='platform', columns='year_of_release', values='name', \n",
    "                              aggfunc='count', fill_value='*'))\n",
    "platform_sales"
   ]
  },
  {
   "cell_type": "code",
   "execution_count": 16,
   "metadata": {},
   "outputs": [
    {
     "data": {
      "text/html": [
       "<div>\n",
       "<style scoped>\n",
       "    .dataframe tbody tr th:only-of-type {\n",
       "        vertical-align: middle;\n",
       "    }\n",
       "\n",
       "    .dataframe tbody tr th {\n",
       "        vertical-align: top;\n",
       "    }\n",
       "\n",
       "    .dataframe thead th {\n",
       "        text-align: right;\n",
       "    }\n",
       "</style>\n",
       "<table border=\"1\" class=\"dataframe\">\n",
       "  <thead>\n",
       "    <tr style=\"text-align: right;\">\n",
       "      <th></th>\n",
       "      <th>platform</th>\n",
       "      <th>total_sales</th>\n",
       "    </tr>\n",
       "  </thead>\n",
       "  <tbody>\n",
       "    <tr>\n",
       "      <td>0</td>\n",
       "      <td>PS2</td>\n",
       "      <td>1,233.56</td>\n",
       "    </tr>\n",
       "    <tr>\n",
       "      <td>1</td>\n",
       "      <td>X360</td>\n",
       "      <td>961.24</td>\n",
       "    </tr>\n",
       "    <tr>\n",
       "      <td>2</td>\n",
       "      <td>PS3</td>\n",
       "      <td>931.34</td>\n",
       "    </tr>\n",
       "    <tr>\n",
       "      <td>3</td>\n",
       "      <td>Wii</td>\n",
       "      <td>891.18</td>\n",
       "    </tr>\n",
       "    <tr>\n",
       "      <td>4</td>\n",
       "      <td>DS</td>\n",
       "      <td>802.76</td>\n",
       "    </tr>\n",
       "  </tbody>\n",
       "</table>\n",
       "</div>"
      ],
      "text/plain": [
       "  platform  total_sales\n",
       "0      PS2     1,233.56\n",
       "1     X360       961.24\n",
       "2      PS3       931.34\n",
       "3      Wii       891.18\n",
       "4       DS       802.76"
      ]
     },
     "execution_count": 16,
     "metadata": {},
     "output_type": "execute_result"
    }
   ],
   "source": [
    "# Топ платформ по продажам\n",
    "top_platform = (df.query('year_of_release >= 2000')\n",
    "                .groupby('platform')['total_sales'].sum().sort_values(ascending=False).\n",
    "                reset_index().head(5)\n",
    "               )\n",
    "top_platform.head()"
   ]
  },
  {
   "cell_type": "code",
   "execution_count": 17,
   "metadata": {},
   "outputs": [
    {
     "data": {
      "text/plain": [
       "['PS2', 'X360', 'PS3', 'Wii', 'DS']"
      ]
     },
     "execution_count": 17,
     "metadata": {},
     "output_type": "execute_result"
    }
   ],
   "source": [
    "# Список топ 5 по продажам\n",
    "top_5 = top_platform['platform'].to_list()\n",
    "top_5"
   ]
  },
  {
   "cell_type": "code",
   "execution_count": 18,
   "metadata": {},
   "outputs": [
    {
     "data": {
      "text/html": [
       "<div>\n",
       "<style scoped>\n",
       "    .dataframe tbody tr th:only-of-type {\n",
       "        vertical-align: middle;\n",
       "    }\n",
       "\n",
       "    .dataframe tbody tr th {\n",
       "        vertical-align: top;\n",
       "    }\n",
       "\n",
       "    .dataframe thead th {\n",
       "        text-align: right;\n",
       "    }\n",
       "</style>\n",
       "<table border=\"1\" class=\"dataframe\">\n",
       "  <thead>\n",
       "    <tr style=\"text-align: right;\">\n",
       "      <th></th>\n",
       "      <th>name</th>\n",
       "      <th>platform</th>\n",
       "      <th>year_of_release</th>\n",
       "      <th>genre</th>\n",
       "      <th>na_sales</th>\n",
       "      <th>eu_sales</th>\n",
       "      <th>jp_sales</th>\n",
       "      <th>other_sales</th>\n",
       "      <th>critic_score</th>\n",
       "      <th>user_score</th>\n",
       "      <th>rating</th>\n",
       "      <th>total_sales</th>\n",
       "    </tr>\n",
       "  </thead>\n",
       "  <tbody>\n",
       "    <tr>\n",
       "      <td>0</td>\n",
       "      <td>Wii Sports</td>\n",
       "      <td>Wii</td>\n",
       "      <td>2006</td>\n",
       "      <td>Sports</td>\n",
       "      <td>41.36</td>\n",
       "      <td>28.96</td>\n",
       "      <td>3.77</td>\n",
       "      <td>8.45</td>\n",
       "      <td>76</td>\n",
       "      <td>8</td>\n",
       "      <td>E</td>\n",
       "      <td>82.54</td>\n",
       "    </tr>\n",
       "    <tr>\n",
       "      <td>2</td>\n",
       "      <td>Mario Kart Wii</td>\n",
       "      <td>Wii</td>\n",
       "      <td>2008</td>\n",
       "      <td>Racing</td>\n",
       "      <td>15.68</td>\n",
       "      <td>12.76</td>\n",
       "      <td>3.79</td>\n",
       "      <td>3.29</td>\n",
       "      <td>82</td>\n",
       "      <td>9</td>\n",
       "      <td>E</td>\n",
       "      <td>35.52</td>\n",
       "    </tr>\n",
       "    <tr>\n",
       "      <td>3</td>\n",
       "      <td>Wii Sports Resort</td>\n",
       "      <td>Wii</td>\n",
       "      <td>2009</td>\n",
       "      <td>Sports</td>\n",
       "      <td>15.61</td>\n",
       "      <td>10.93</td>\n",
       "      <td>3.28</td>\n",
       "      <td>2.95</td>\n",
       "      <td>80</td>\n",
       "      <td>8</td>\n",
       "      <td>E</td>\n",
       "      <td>32.77</td>\n",
       "    </tr>\n",
       "    <tr>\n",
       "      <td>6</td>\n",
       "      <td>New Super Mario Bros.</td>\n",
       "      <td>DS</td>\n",
       "      <td>2006</td>\n",
       "      <td>Platform</td>\n",
       "      <td>11.28</td>\n",
       "      <td>9.14</td>\n",
       "      <td>6.50</td>\n",
       "      <td>2.88</td>\n",
       "      <td>89</td>\n",
       "      <td>9</td>\n",
       "      <td>E</td>\n",
       "      <td>29.80</td>\n",
       "    </tr>\n",
       "    <tr>\n",
       "      <td>7</td>\n",
       "      <td>Wii Play</td>\n",
       "      <td>Wii</td>\n",
       "      <td>2006</td>\n",
       "      <td>Misc</td>\n",
       "      <td>13.96</td>\n",
       "      <td>9.18</td>\n",
       "      <td>2.93</td>\n",
       "      <td>2.84</td>\n",
       "      <td>58</td>\n",
       "      <td>7</td>\n",
       "      <td>E</td>\n",
       "      <td>28.91</td>\n",
       "    </tr>\n",
       "  </tbody>\n",
       "</table>\n",
       "</div>"
      ],
      "text/plain": [
       "                    name platform  year_of_release     genre  na_sales  \\\n",
       "0             Wii Sports      Wii             2006    Sports     41.36   \n",
       "2         Mario Kart Wii      Wii             2008    Racing     15.68   \n",
       "3      Wii Sports Resort      Wii             2009    Sports     15.61   \n",
       "6  New Super Mario Bros.       DS             2006  Platform     11.28   \n",
       "7               Wii Play      Wii             2006      Misc     13.96   \n",
       "\n",
       "   eu_sales  jp_sales  other_sales  critic_score  user_score rating  \\\n",
       "0     28.96      3.77         8.45            76           8      E   \n",
       "2     12.76      3.79         3.29            82           9      E   \n",
       "3     10.93      3.28         2.95            80           8      E   \n",
       "6      9.14      6.50         2.88            89           9      E   \n",
       "7      9.18      2.93         2.84            58           7      E   \n",
       "\n",
       "   total_sales  \n",
       "0        82.54  \n",
       "2        35.52  \n",
       "3        32.77  \n",
       "6        29.80  \n",
       "7        28.91  "
      ]
     },
     "execution_count": 18,
     "metadata": {},
     "output_type": "execute_result"
    }
   ],
   "source": [
    "total_top = df.query('platform in @top_5')\n",
    "total_top.head()"
   ]
  },
  {
   "cell_type": "code",
   "execution_count": 19,
   "metadata": {},
   "outputs": [
    {
     "data": {
      "text/plain": [
       "Text(0.5, 0, 'Выручка')"
      ]
     },
     "execution_count": 19,
     "metadata": {},
     "output_type": "execute_result"
    },
    {
     "data": {
      "image/png": "[encoded data removed]",
      "text/plain": [
       "<Figure size 432x288 with 1 Axes>"
      ]
     },
     "metadata": {
      "needs_background": "light"
     },
     "output_type": "display_data"
    }
   ],
   "source": [
    "# Построим диаграмму распределения \n",
    "import seaborn as sns\n",
    "sns.barplot(data=total_top, x='total_sales', y='platform')\n",
    "plt.title('Распределение по платформам')\n",
    "plt.ylabel('Платформа')\n",
    "plt.xlabel('Выручка')"
   ]
  },
  {
   "cell_type": "markdown",
   "metadata": {},
   "source": [
    "Вывод: по диаграмме распределения видно что выручка не привышает 8 млн. долларов. "
   ]
  },
  {
   "cell_type": "code",
   "execution_count": 20,
   "metadata": {},
   "outputs": [
    {
     "data": {
      "image/png": "[encoded data removed]",
      "text/plain": [
       "<Figure size 720x360 with 1 Axes>"
      ]
     },
     "metadata": {
      "needs_background": "light"
     },
     "output_type": "display_data"
    }
   ],
   "source": [
    "#total_income = total_top.groupby('platform')['total_sales'].sum().reset_index()\n",
    "#sns.catplot(data=total_income, x='total_sales', kind='box')\n",
    "top_quantile = total_top['total_sales'].quantile(0.75)\n",
    "low_quantile = total_top['total_sales'].quantile(0.25)\n",
    "threshold = top_quantile + 2*low_quantile\n",
    "fig, ax = plt.subplots(figsize =(10,5))\n",
    "sns.boxplot(x='platform', y='total_sales', data=total_top.query('total_sales <= @threshold'), orient='v', ax=ax)\n",
    "\n",
    "plt.xlabel('Платформа')\n",
    "plt.ylabel('Выручка')\n",
    "plt.show()"
   ]
  },
  {
   "cell_type": "markdown",
   "metadata": {},
   "source": [
    "Вывод: Основная часть значений находится в промежутке 800 - 920 млн. долларов. \n",
    "Топ 5 самых прибыльных платформ 'PS2', 'X360', 'PS3', 'Wii', 'DS'."
   ]
  },
  {
   "cell_type": "markdown",
   "metadata": {},
   "source": [
    "Выбирем актуальный период с 2011 по 2016 гг. Расммотрим как менялись продажи и какие игры были самые популярные."
   ]
  },
  {
   "cell_type": "code",
   "execution_count": 21,
   "metadata": {},
   "outputs": [],
   "source": [
    "top_platform = (df.query('year_of_release >= 2013')\n",
    "                .groupby('platform')['total_sales'].sum().sort_values(ascending=False).\n",
    "                reset_index().head()\n",
    "               )"
   ]
  },
  {
   "cell_type": "code",
   "execution_count": 22,
   "metadata": {},
   "outputs": [
    {
     "data": {
      "text/plain": [
       "['PS4', 'PS3', 'XOne', '3DS', 'X360']"
      ]
     },
     "execution_count": 22,
     "metadata": {},
     "output_type": "execute_result"
    }
   ],
   "source": [
    "top_5 = top_platform['platform'].to_list()\n",
    "top_5"
   ]
  },
  {
   "cell_type": "code",
   "execution_count": 23,
   "metadata": {},
   "outputs": [],
   "source": [
    "total_top_5 = df.query('platform in @top_5').reset_index(drop=True)"
   ]
  },
  {
   "cell_type": "code",
   "execution_count": 24,
   "metadata": {},
   "outputs": [
    {
     "data": {
      "text/plain": [
       "Text(0.5, 0, 'Выручка')"
      ]
     },
     "execution_count": 24,
     "metadata": {},
     "output_type": "execute_result"
    },
    {
     "data": {
      "image/png": "[encoded data removed]",
      "text/plain": [
       "<Figure size 432x288 with 1 Axes>"
      ]
     },
     "metadata": {
      "needs_background": "light"
     },
     "output_type": "display_data"
    }
   ],
   "source": [
    "sns.barplot(data=total_top_5, x='total_sales', y='platform')\n",
    "plt.title('Распределение по платформам')\n",
    "plt.ylabel('Платформа')\n",
    "plt.xlabel('Выручка')"
   ]
  },
  {
   "cell_type": "markdown",
   "metadata": {},
   "source": [
    "Вывод: Можно сделать вывод, что те компании кто развивает свои платформы доходы сопастовимы чем в предыдущие периоды."
   ]
  },
  {
   "cell_type": "markdown",
   "metadata": {},
   "source": [
    "Оценка критиков/пользователей"
   ]
  },
  {
   "cell_type": "code",
   "execution_count": 25,
   "metadata": {},
   "outputs": [
    {
     "name": "stdout",
     "output_type": "stream",
     "text": [
      "<class 'pandas.core.frame.DataFrame'>\n",
      "RangeIndex: 3689 entries, 0 to 3688\n",
      "Data columns (total 12 columns):\n",
      "name               3689 non-null object\n",
      "platform           3689 non-null object\n",
      "year_of_release    3689 non-null int64\n",
      "genre              3689 non-null object\n",
      "na_sales           3689 non-null float64\n",
      "eu_sales           3689 non-null float64\n",
      "jp_sales           3689 non-null float64\n",
      "other_sales        3689 non-null float64\n",
      "critic_score       3689 non-null int64\n",
      "user_score         3689 non-null int64\n",
      "rating             3689 non-null object\n",
      "total_sales        3689 non-null float64\n",
      "dtypes: float64(5), int64(3), object(4)\n",
      "memory usage: 346.0+ KB\n"
     ]
    }
   ],
   "source": [
    "total_top_5.info()"
   ]
  },
  {
   "cell_type": "code",
   "execution_count": 26,
   "metadata": {},
   "outputs": [
    {
     "data": {
      "text/plain": [
       "Text(0, 0.5, 'Выручка')"
      ]
     },
     "execution_count": 26,
     "metadata": {},
     "output_type": "execute_result"
    },
    {
     "data": {
      "image/png": "[encoded data removed]",
      "text/plain": [
       "<Figure size 432x288 with 1 Axes>"
      ]
     },
     "metadata": {
      "needs_background": "light"
     },
     "output_type": "display_data"
    }
   ],
   "source": [
    "(total_top_5.query('platform == \"PS3\" and user_score != -1')\n",
    " .plot(y='total_sales', x='user_score', grid=True, kind='scatter', alpha=0.7))\n",
    "plt.xlabel('Оценка пользователей')\n",
    "plt.ylabel('Выручка')"
   ]
  },
  {
   "cell_type": "code",
   "execution_count": 27,
   "metadata": {},
   "outputs": [
    {
     "data": {
      "text/plain": [
       "0.2099979797604657"
      ]
     },
     "execution_count": 27,
     "metadata": {},
     "output_type": "execute_result"
    }
   ],
   "source": [
    "total_top_5['total_sales'].corr(total_top_5['user_score'])"
   ]
  },
  {
   "cell_type": "code",
   "execution_count": 28,
   "metadata": {},
   "outputs": [
    {
     "data": {
      "text/plain": [
       "Text(0, 0.5, 'Выручка')"
      ]
     },
     "execution_count": 28,
     "metadata": {},
     "output_type": "execute_result"
    },
    {
     "data": {
      "image/png": "[encoded data removed]",
      "text/plain": [
       "<Figure size 432x288 with 1 Axes>"
      ]
     },
     "metadata": {
      "needs_background": "light"
     },
     "output_type": "display_data"
    }
   ],
   "source": [
    "(total_top_5.query('platform == \"X360\" and user_score != -1')\n",
    " .plot(y='total_sales', x='user_score', grid=True, kind='scatter', alpha=0.7))\n",
    "plt.xlabel('Оценка пользователей')\n",
    "plt.ylabel('Выручка')"
   ]
  },
  {
   "cell_type": "code",
   "execution_count": 29,
   "metadata": {},
   "outputs": [
    {
     "data": {
      "text/plain": [
       "Text(0, 0.5, 'Выручка')"
      ]
     },
     "execution_count": 29,
     "metadata": {},
     "output_type": "execute_result"
    },
    {
     "data": {
      "image/png": "[encoded data removed]",
      "text/plain": [
       "<Figure size 432x288 with 1 Axes>"
      ]
     },
     "metadata": {
      "needs_background": "light"
     },
     "output_type": "display_data"
    }
   ],
   "source": [
    "(total_top_5.query('platform == \"PS4\" and user_score != -1')\n",
    " .plot(y='total_sales', x='user_score', grid=True, kind='scatter', alpha=0.7))\n",
    "plt.xlabel('Оценка пользователей')\n",
    "plt.ylabel('Выручка')"
   ]
  },
  {
   "cell_type": "code",
   "execution_count": 30,
   "metadata": {},
   "outputs": [
    {
     "data": {
      "text/plain": [
       "Text(0, 0.5, 'Выручка')"
      ]
     },
     "execution_count": 30,
     "metadata": {},
     "output_type": "execute_result"
    },
    {
     "data": {
      "image/png": "[encoded data removed]",
      "text/plain": [
       "<Figure size 432x288 with 1 Axes>"
      ]
     },
     "metadata": {
      "needs_background": "light"
     },
     "output_type": "display_data"
    }
   ],
   "source": [
    "(total_top_5.query('platform == \"3DS\" and user_score != -1')\n",
    " .plot(y='total_sales', x='user_score', grid=True, kind='scatter', alpha=0.7))\n",
    "plt.xlabel('Оценка пользователей')\n",
    "plt.ylabel('Выручка')"
   ]
  },
  {
   "cell_type": "code",
   "execution_count": 31,
   "metadata": {},
   "outputs": [
    {
     "data": {
      "text/plain": [
       "Text(0, 0.5, 'Выручка')"
      ]
     },
     "execution_count": 31,
     "metadata": {},
     "output_type": "execute_result"
    },
    {
     "data": {
      "image/png": "[encoded data removed]",
      "text/plain": [
       "<Figure size 432x288 with 1 Axes>"
      ]
     },
     "metadata": {
      "needs_background": "light"
     },
     "output_type": "display_data"
    }
   ],
   "source": [
    "(total_top_5.query('platform == \"XOne\" and user_score != -1')\n",
    " .plot(y='total_sales', x='user_score', grid=True, kind='scatter', alpha=0.7))\n",
    "plt.xlabel('Оценка пользователей')\n",
    "plt.ylabel('Выручка')"
   ]
  },
  {
   "cell_type": "code",
   "execution_count": 32,
   "metadata": {},
   "outputs": [
    {
     "data": {
      "text/plain": [
       "Text(0, 0.5, 'Выручка')"
      ]
     },
     "execution_count": 32,
     "metadata": {},
     "output_type": "execute_result"
    },
    {
     "data": {
      "image/png": "[encoded data removed]",
      "text/plain": [
       "<Figure size 432x288 with 1 Axes>"
      ]
     },
     "metadata": {
      "needs_background": "light"
     },
     "output_type": "display_data"
    }
   ],
   "source": [
    "(total_top_5.query('platform == \"PS3\" and critic_score != -1')\n",
    " .plot(y='total_sales', x='critic_score', grid=True, kind='scatter', alpha=0.7))\n",
    "plt.xlabel('Оценка пользователей')\n",
    "plt.ylabel('Выручка')"
   ]
  },
  {
   "cell_type": "code",
   "execution_count": 33,
   "metadata": {},
   "outputs": [
    {
     "data": {
      "text/plain": [
       "0.29717667074431114"
      ]
     },
     "execution_count": 33,
     "metadata": {},
     "output_type": "execute_result"
    }
   ],
   "source": [
    "total_top_5['total_sales'].corr(total_top_5['critic_score'])"
   ]
  },
  {
   "cell_type": "code",
   "execution_count": 34,
   "metadata": {},
   "outputs": [
    {
     "data": {
      "text/plain": [
       "Text(0, 0.5, 'Выручка')"
      ]
     },
     "execution_count": 34,
     "metadata": {},
     "output_type": "execute_result"
    },
    {
     "data": {
      "image/png": "[encoded data removed]",
      "text/plain": [
       "<Figure size 432x288 with 1 Axes>"
      ]
     },
     "metadata": {
      "needs_background": "light"
     },
     "output_type": "display_data"
    }
   ],
   "source": [
    "(total_top_5.query('platform == \"X360\" and critic_score != -1')\n",
    " .plot(y='total_sales', x='critic_score', grid=True, kind='scatter', alpha=0.7))\n",
    "plt.xlabel('Оценка пользователей')\n",
    "plt.ylabel('Выручка')"
   ]
  },
  {
   "cell_type": "code",
   "execution_count": 35,
   "metadata": {},
   "outputs": [
    {
     "data": {
      "text/plain": [
       "Text(0, 0.5, 'Выручка')"
      ]
     },
     "execution_count": 35,
     "metadata": {},
     "output_type": "execute_result"
    },
    {
     "data": {
      "image/png": "[encoded data removed]",
      "text/plain": [
       "<Figure size 432x288 with 1 Axes>"
      ]
     },
     "metadata": {
      "needs_background": "light"
     },
     "output_type": "display_data"
    }
   ],
   "source": [
    "(total_top_5.query('platform == \"PS4\" and critic_score != -1')\n",
    " .plot(y='total_sales', x='critic_score', grid=True, kind='scatter', alpha=0.7))\n",
    "plt.xlabel('Оценка пользователей')\n",
    "plt.ylabel('Выручка')"
   ]
  },
  {
   "cell_type": "code",
   "execution_count": 36,
   "metadata": {},
   "outputs": [
    {
     "data": {
      "text/plain": [
       "Text(0, 0.5, 'Выручка')"
      ]
     },
     "execution_count": 36,
     "metadata": {},
     "output_type": "execute_result"
    },
    {
     "data": {
      "image/png": "[encoded data removed]",
      "text/plain": [
       "<Figure size 432x288 with 1 Axes>"
      ]
     },
     "metadata": {
      "needs_background": "light"
     },
     "output_type": "display_data"
    }
   ],
   "source": [
    "(total_top_5.query('platform == \"3DS\" and critic_score != -1')\n",
    " .plot(y='total_sales', x='critic_score', grid=True, kind='scatter', alpha=0.7))\n",
    "plt.xlabel('Оценка пользователей')\n",
    "plt.ylabel('Выручка')"
   ]
  },
  {
   "cell_type": "code",
   "execution_count": 37,
   "metadata": {},
   "outputs": [
    {
     "data": {
      "text/plain": [
       "Text(0, 0.5, 'Выручка')"
      ]
     },
     "execution_count": 37,
     "metadata": {},
     "output_type": "execute_result"
    },
    {
     "data": {
      "image/png": "[encoded data removed]",
      "text/plain": [
       "<Figure size 432x288 with 1 Axes>"
      ]
     },
     "metadata": {
      "needs_background": "light"
     },
     "output_type": "display_data"
    }
   ],
   "source": [
    "(total_top_5.query('platform == \"XOne\" and critic_score != -1')\n",
    " .plot(y='total_sales', x='critic_score', grid=True, kind='scatter', alpha=0.7))\n",
    "plt.xlabel('Оценка пользователей')\n",
    "plt.ylabel('Выручка')"
   ]
  },
  {
   "cell_type": "markdown",
   "metadata": {},
   "source": [
    "Вывод: Оценка критиков/пользователей в пределах 0,3 зависимость положительная но слабая."
   ]
  },
  {
   "cell_type": "markdown",
   "metadata": {},
   "source": [
    "Рассмотрим самые популярные жанры для топ 5 платформ "
   ]
  },
  {
   "cell_type": "code",
   "execution_count": 38,
   "metadata": {},
   "outputs": [
    {
     "data": {
      "text/html": [
       "<div>\n",
       "<style scoped>\n",
       "    .dataframe tbody tr th:only-of-type {\n",
       "        vertical-align: middle;\n",
       "    }\n",
       "\n",
       "    .dataframe tbody tr th {\n",
       "        vertical-align: top;\n",
       "    }\n",
       "\n",
       "    .dataframe thead th {\n",
       "        text-align: right;\n",
       "    }\n",
       "</style>\n",
       "<table border=\"1\" class=\"dataframe\">\n",
       "  <thead>\n",
       "    <tr style=\"text-align: right;\">\n",
       "      <th></th>\n",
       "      <th>total_sales</th>\n",
       "    </tr>\n",
       "    <tr>\n",
       "      <th>genre</th>\n",
       "      <th></th>\n",
       "    </tr>\n",
       "  </thead>\n",
       "  <tbody>\n",
       "    <tr>\n",
       "      <td>Action</td>\n",
       "      <td>725.83</td>\n",
       "    </tr>\n",
       "    <tr>\n",
       "      <td>Shooter</td>\n",
       "      <td>618.02</td>\n",
       "    </tr>\n",
       "    <tr>\n",
       "      <td>Sports</td>\n",
       "      <td>358.34</td>\n",
       "    </tr>\n",
       "    <tr>\n",
       "      <td>Role-Playing</td>\n",
       "      <td>268.78</td>\n",
       "    </tr>\n",
       "    <tr>\n",
       "      <td>Racing</td>\n",
       "      <td>172.24</td>\n",
       "    </tr>\n",
       "    <tr>\n",
       "      <td>Misc</td>\n",
       "      <td>160.49</td>\n",
       "    </tr>\n",
       "    <tr>\n",
       "      <td>Fighting</td>\n",
       "      <td>110.09</td>\n",
       "    </tr>\n",
       "    <tr>\n",
       "      <td>Platform</td>\n",
       "      <td>81.76</td>\n",
       "    </tr>\n",
       "    <tr>\n",
       "      <td>Simulation</td>\n",
       "      <td>53.05</td>\n",
       "    </tr>\n",
       "    <tr>\n",
       "      <td>Adventure</td>\n",
       "      <td>51.02</td>\n",
       "    </tr>\n",
       "    <tr>\n",
       "      <td>Strategy</td>\n",
       "      <td>17.47</td>\n",
       "    </tr>\n",
       "    <tr>\n",
       "      <td>Puzzle</td>\n",
       "      <td>6.76</td>\n",
       "    </tr>\n",
       "  </tbody>\n",
       "</table>\n",
       "</div>"
      ],
      "text/plain": [
       "              total_sales\n",
       "genre                    \n",
       "Action             725.83\n",
       "Shooter            618.02\n",
       "Sports             358.34\n",
       "Role-Playing       268.78\n",
       "Racing             172.24\n",
       "Misc               160.49\n",
       "Fighting           110.09\n",
       "Platform            81.76\n",
       "Simulation          53.05\n",
       "Adventure           51.02\n",
       "Strategy            17.47\n",
       "Puzzle               6.76"
      ]
     },
     "execution_count": 38,
     "metadata": {},
     "output_type": "execute_result"
    }
   ],
   "source": [
    "(total_top_5.pivot_table(index='genre', values='total_sales', aggfunc='sum')\n",
    " .sort_values(by='total_sales', ascending=False))"
   ]
  },
  {
   "cell_type": "markdown",
   "metadata": {},
   "source": [
    "Вывод: Самые популярные жанры Action, Shooter, Sports, самые не популярные Adventure, Strategy, Puzzle."
   ]
  },
  {
   "cell_type": "markdown",
   "metadata": {},
   "source": [
    "<div class=\"alert alert-info\"><b>Комментарий студента V1:</b> \n",
    "    \n",
    "Рассмотрел актуальный период за 2013 - 2016 гг., для топ 5 платформ.\n",
    "    \n",
    "Вывод: \n",
    "    \n",
    "- Жизненый цикл платформы 8 лет;\n",
    "    \n",
    "- В топ 5 платформ входят производители которые постоянно развиваю свои приставки;\n",
    "    \n",
    "- Выручка зависит от оценки критиковв большей степени чем от оценки пользователей.\n",
    "    \n",
    "- Самые популярные жанры Action, Shooter, Sports;\n",
    "    \n",
    "- Самые не популярные Adventure, Strategy, Puzzle.\n",
    " \n",
    "Общий вывод на 2017 г., платформы от компаний Microsoft и Sony будут пользоватся большим спросом, т.к. из анализа периода с 2000 по 2016 платформы этих производителей входили в топ 5 рейтинга.    \n",
    "</div>"
   ]
  },
  {
   "cell_type": "markdown",
   "metadata": {},
   "source": [
    "## Портрет пользователя из разных регионов"
   ]
  },
  {
   "cell_type": "markdown",
   "metadata": {},
   "source": [
    "### Самые популярные платформы (топ-5)"
   ]
  },
  {
   "cell_type": "code",
   "execution_count": 39,
   "metadata": {},
   "outputs": [
    {
     "name": "stdout",
     "output_type": "stream",
     "text": [
      "  platform  na_sales\n",
      "3     X360    595.74\n",
      "1      PS3    390.13\n",
      "2      PS4    108.74\n",
      "4     XOne     93.12\n",
      "0      3DS     82.65\n",
      "\n",
      "  platform  eu_sales\n",
      "1      PS3    327.21\n",
      "3     X360    268.32\n",
      "2      PS4    141.09\n",
      "0      3DS     61.27\n",
      "4     XOne     51.59\n",
      "\n",
      "  platform  jp_sales\n",
      "0      3DS    100.62\n",
      "1      PS3     79.41\n",
      "2      PS4     15.96\n",
      "3     X360     12.30\n",
      "4     XOne      0.34\n",
      "\n"
     ]
    }
   ],
   "source": [
    "# Топ 5 платформ по регионам\n",
    "for index in ['na_sales', 'eu_sales', 'jp_sales']:\n",
    "    region_top = (total_top_5.groupby('platform')[index].sum().reset_index()\n",
    "                  .sort_values(by=index, ascending=False)\n",
    "                  )\n",
    "    print(region_top)    \n",
    "    print()"
   ]
  },
  {
   "cell_type": "markdown",
   "metadata": {},
   "source": [
    "Вывод:\n",
    "\n",
    "- В Америке: ~ 50% рынка занимает Microsoft. Это логично так как для данной корпорации это национальный рынок. Sony ~ 30% платформы этого производителя одни из самых популярных в мире.\n",
    "\n",
    "- В Европе: ~ 60% рынка платформы от Sony. Microsoft занимает ~ 30%.\n",
    "\n",
    "- В Японии: Nintendo и Sony национальные корпорации ~ 90% рынка занимают они. Так же можно отметить игровые платформы менее популярны чем в Европе и Америке."
   ]
  },
  {
   "cell_type": "markdown",
   "metadata": {},
   "source": [
    "### Самые популярные жанры (топ-5)"
   ]
  },
  {
   "cell_type": "code",
   "execution_count": 47,
   "metadata": {},
   "outputs": [
    {
     "data": {
      "image/png": "[encoded data removed]",
      "text/plain": [
       "<Figure size 720x360 with 1 Axes>"
      ]
     },
     "metadata": {},
     "output_type": "display_data"
    },
    {
     "name": "stdout",
     "output_type": "stream",
     "text": [
      "           genre  na_sales\n",
      "0         Action    333.84\n",
      "8        Shooter    325.66\n",
      "10        Sports    186.61\n",
      "7   Role-Playing    113.93\n",
      "3           Misc     93.64\n",
      "\n"
     ]
    },
    {
     "data": {
      "image/png": "[encoded data removed]",
      "text/plain": [
       "<Figure size 720x360 with 1 Axes>"
      ]
     },
     "metadata": {},
     "output_type": "display_data"
    },
    {
     "name": "stdout",
     "output_type": "stream",
     "text": [
      "           genre  eu_sales\n",
      "0         Action    245.37\n",
      "8        Shooter    204.17\n",
      "10        Sports    119.20\n",
      "6         Racing     73.69\n",
      "7   Role-Playing     66.61\n",
      "\n"
     ]
    },
    {
     "data": {
      "image/png": "[encoded data removed]",
      "text/plain": [
       "<Figure size 720x360 with 1 Axes>"
      ]
     },
     "metadata": {},
     "output_type": "display_data"
    },
    {
     "name": "stdout",
     "output_type": "stream",
     "text": [
      "          genre  jp_sales\n",
      "7  Role-Playing     64.92\n",
      "0        Action     60.39\n",
      "8       Shooter     15.02\n",
      "9    Simulation     12.48\n",
      "2      Fighting     11.50\n",
      "\n"
     ]
    }
   ],
   "source": [
    "# Топ 5 жанров по регионам\n",
    "for index in ['na_sales', 'eu_sales', 'jp_sales']:\n",
    "    region_top = (total_top_5.groupby('genre')[index].sum().reset_index()\n",
    "                  .sort_values(by=index, ascending=False).head()\n",
    "                  )\n",
    "    region_top.plot.pie(y=index, legend=False, pctdistance=1.1, labeldistance=1.2, autopct='%1.0f%%', figsize=(10,5))\n",
    "    plt.show()\n",
    "    print(region_top)    \n",
    "    print()"
   ]
  },
  {
   "cell_type": "markdown",
   "metadata": {},
   "source": [
    "Вывод:\n",
    "\n",
    "- В Америке: одинаково популярны жанры Action и Shooter.\n",
    "\n",
    "- В Европе: на первом месте Action, на втором Shooter .\n",
    "\n",
    "- В Японии: популярны жанры Role-Playing и Action.\n",
    "\n",
    "Action, Shooter, Role-Playing входят в топ 5 в каждом из регионов. Это логично так как люди в основном играют в динамичные игры, чтоб отвлечся от повседневной жизни."
   ]
  },
  {
   "cell_type": "markdown",
   "metadata": {},
   "source": [
    "### Влияет ли рейтинг ESRB на продажи"
   ]
  },
  {
   "cell_type": "code",
   "execution_count": 41,
   "metadata": {},
   "outputs": [
    {
     "name": "stdout",
     "output_type": "stream",
     "text": [
      "  rating  na_sales\n",
      "2      M    519.00\n",
      "4      T    251.14\n",
      "0      E    250.03\n",
      "3     RP    125.62\n",
      "1   E10+    124.59\n",
      "\n",
      "  rating  eu_sales\n",
      "2      M    340.16\n",
      "0      E    177.24\n",
      "4      T    142.91\n",
      "3     RP    118.36\n",
      "1   E10+     70.81\n",
      "\n",
      "  rating  jp_sales\n",
      "3     RP     94.83\n",
      "4      T     39.04\n",
      "2      M     36.65\n",
      "0      E     31.72\n",
      "1   E10+      6.39\n",
      "\n"
     ]
    }
   ],
   "source": [
    "# Топ 5 по регионам\n",
    "for index in ['na_sales', 'eu_sales', 'jp_sales']:\n",
    "    region_top = (total_top_5.groupby('rating')[index].sum().reset_index()\n",
    "                  .sort_values(by=index, ascending=False).head()\n",
    "                  )\n",
    "    print(region_top)    \n",
    "    print()"
   ]
  },
  {
   "cell_type": "markdown",
   "metadata": {},
   "source": [
    "В Америке и Европе популярны игры с возрастным рейтингом 16+, возможно из-за законодательных норм этих регионов большая часть игр с рейтингом 16+.\n",
    "\n",
    "В Японии популярны игры с возрастным рейтингом 13+, скорей всего связанно с тем что взрослое население большую часть времени проводит на работе и времени на игры не остается."
   ]
  },
  {
   "cell_type": "markdown",
   "metadata": {},
   "source": [
    "## Проверим гипотезы"
   ]
  },
  {
   "cell_type": "markdown",
   "metadata": {},
   "source": [
    "### Средние пользовательские рейтинги платформ Xbox One и PC одинаковые?"
   ]
  },
  {
   "cell_type": "markdown",
   "metadata": {},
   "source": [
    "- H₀ - средние пользовательские рейтинги платформ Xbox One и PC равны\n",
    "- H₁ - средние пользовательские рейтинги платформ Xbox One и PC не равны"
   ]
  },
  {
   "cell_type": "code",
   "execution_count": 42,
   "metadata": {},
   "outputs": [],
   "source": [
    "#зададим критический уровень статистической значимости\n",
    "alpha = 0.05"
   ]
  },
  {
   "cell_type": "code",
   "execution_count": 43,
   "metadata": {},
   "outputs": [],
   "source": [
    "df_2011 = df.query('year_of_release >= 2013')\n",
    "xone = df_2011.query('platform == \"XOne\" and user_score != \"-1\"')\n",
    "pc = df_2011.query('platform ==\"PC\" and user_score != \"-1\"')\n"
   ]
  },
  {
   "cell_type": "code",
   "execution_count": 44,
   "metadata": {},
   "outputs": [
    {
     "name": "stdout",
     "output_type": "stream",
     "text": [
      "p-значение: 0.6541323641904699\n",
      "Не получилось отвергнуть нулевую гипотезу\n",
      "\n",
      "Cредний пользовательский рейтинг платформы Xbox One - 6.61\n",
      "Cредний пользовательский рейтинг платформы PC - 6.51\n"
     ]
    }
   ],
   "source": [
    "from scipy import stats as st\n",
    "results = st.ttest_ind(\n",
    "    xone['user_score'],\n",
    "    pc['user_score']\n",
    ")\n",
    "\n",
    "print('p-значение:', results.pvalue)\n",
    "\n",
    "if (results.pvalue < alpha):\n",
    "    print(\"Отвергаем нулевую гипотезу\")\n",
    "else:\n",
    "    print(\"Не получилось отвергнуть нулевую гипотезу\")\n",
    "    \n",
    "print()    \n",
    "print('Cредний пользовательский рейтинг платформы Xbox One -', xone['user_score'].mean().round(2))\n",
    "print('Cредний пользовательский рейтинг платформы PC -', pc['user_score'].mean().round(2))"
   ]
  },
  {
   "cell_type": "markdown",
   "metadata": {},
   "source": [
    "Рейтинг XOne и PC одинаковый."
   ]
  },
  {
   "cell_type": "markdown",
   "metadata": {},
   "source": [
    "### Средние пользовательские рейтинги жанров Action и Sports разные?"
   ]
  },
  {
   "cell_type": "markdown",
   "metadata": {},
   "source": [
    "- H₀ - средние пользовательские рейтинги жанров Action и Sports равны\n",
    "- H₁ - средние пользовательские рейтинги жанров Action и Sports не равны"
   ]
  },
  {
   "cell_type": "code",
   "execution_count": 45,
   "metadata": {},
   "outputs": [],
   "source": [
    "action = df_2011.query('genre == \"Action\" and user_score != \"-1\"')\n",
    "sports = df_2011.query('genre ==\"Sports\" and user_score != \"-1\"')"
   ]
  },
  {
   "cell_type": "code",
   "execution_count": 46,
   "metadata": {},
   "outputs": [
    {
     "name": "stdout",
     "output_type": "stream",
     "text": [
      "p-значение: 1.357957573102544e-08\n",
      "Отвергаем нулевую гипотезу\n",
      "\n",
      "Cредний пользовательский рейтинг жанра Action - 6.56\n",
      "Cредний пользовательский рейтинг жанра Sports - 5.29\n"
     ]
    }
   ],
   "source": [
    "results = st.ttest_ind(\n",
    "    action['user_score'],\n",
    "    sports['user_score'],\n",
    ")\n",
    "\n",
    "print('p-значение:', results.pvalue)\n",
    "\n",
    "if (results.pvalue < alpha):\n",
    "    print(\"Отвергаем нулевую гипотезу\")\n",
    "else:\n",
    "    print(\"Не получилось отвергнуть нулевую гипотезу\")\n",
    "    \n",
    "print()    \n",
    "print('Cредний пользовательский рейтинг жанра Action -', action['user_score'].mean().round(2))\n",
    "print('Cредний пользовательский рейтинг жанра Sports -', sports['user_score'].mean().round(2))"
   ]
  },
  {
   "cell_type": "markdown",
   "metadata": {},
   "source": [
    "То что жанры практически равны по популярности было видно выше из данных."
   ]
  },
  {
   "cell_type": "markdown",
   "metadata": {},
   "source": [
    "## Общий вывод"
   ]
  },
  {
   "cell_type": "markdown",
   "metadata": {},
   "source": [
    "<div class=\"alert alert-info\"><b>Комментарий студента:</b> \n",
    "\n",
    "При планирование рекламной компании на 2017 год:\n",
    "    \n",
    "- Платформы от компаний Microsoft и Sony самые популярные, постоянно развиваются и приносят стабильный доход.\n",
    "    \n",
    "- Самые популярные жанры Action, Shooter, Sports, Role-Playing с рейтингом ESRB 16+.\n",
    "    \n",
    "- В Японие есть особенности: самая популярная платформа Nintendo, там популярен жанры Action, Role-Playing.\n",
    "    \n",
    "</div>"
   ]
  },
  {
   "cell_type": "markdown",
   "metadata": {},
   "source": [
    "<div class=\"alert alert-info\"><b>Комментарий студента V1:</b> \n",
    "    \n",
    "- Срок жизни платформы около 8 лет.\n",
    "    \n",
    "- Отсутствует зависимость от оценки пользователей и продажами для топовых платфором, а от оценки критиков продажи имеют прямую зависимость.\n",
    "    \n",
    "- После актуализации выяснили что для Японии рейтинг ESRB не актуален, у них своя маркировка. По этому скорей всего платформа Nintendo более популярна.\n",
    "    \n",
    "Проверка гипотез:\n",
    "    \n",
    "- Средние пользовательские рейтинги платформ Xbox One и PC одинаковые. Не получилось опровергнуть нулевую гипотезу о равнстве генеральных совокупностей, соответственно по альтернативной гипотезе средние пользовательские рейтинги могут отличатся.\n",
    "    \n",
    "- Средние пользовательские рейтинги жанров Action  и Sports разные. Получилось опровергнуть нулевую гипотезу о равнстве генеральных совокупностей, соответственно делать какие либо выводы по данным от разных жанров мы не можем.\n",
    "    \n",
    "</div>"
   ]
  },
  {
   "cell_type": "code",
   "execution_count": null,
   "metadata": {},
   "outputs": [],
   "source": []
  }
 ],
 "metadata": {
  "ExecuteTimeLog": [
   {
    "duration": 684,
    "start_time": "2022-01-25T05:02:56.588Z"
   },
   {
    "duration": 46,
    "start_time": "2022-01-25T05:04:01.143Z"
   },
   {
    "duration": 43,
    "start_time": "2022-01-25T05:04:35.581Z"
   },
   {
    "duration": 11,
    "start_time": "2022-01-25T05:06:49.472Z"
   },
   {
    "duration": 17,
    "start_time": "2022-01-25T05:07:41.390Z"
   },
   {
    "duration": 365,
    "start_time": "2022-01-25T05:18:50.953Z"
   },
   {
    "duration": 375,
    "start_time": "2022-01-25T05:20:11.137Z"
   },
   {
    "duration": 336,
    "start_time": "2022-01-25T05:26:25.158Z"
   },
   {
    "duration": 248,
    "start_time": "2022-01-25T05:32:43.576Z"
   },
   {
    "duration": 3,
    "start_time": "2022-01-25T05:40:49.853Z"
   },
   {
    "duration": 14,
    "start_time": "2022-01-25T05:41:00.998Z"
   },
   {
    "duration": 468,
    "start_time": "2022-01-25T06:50:48.297Z"
   },
   {
    "duration": 6,
    "start_time": "2022-01-25T06:51:41.949Z"
   },
   {
    "duration": 5,
    "start_time": "2022-01-25T06:52:03.231Z"
   },
   {
    "duration": 6,
    "start_time": "2022-01-25T06:52:15.417Z"
   },
   {
    "duration": 5,
    "start_time": "2022-01-25T06:52:23.803Z"
   },
   {
    "duration": 5,
    "start_time": "2022-01-25T06:57:11.481Z"
   },
   {
    "duration": 269,
    "start_time": "2022-01-25T06:57:46.013Z"
   },
   {
    "duration": 9,
    "start_time": "2022-01-25T06:58:05.496Z"
   },
   {
    "duration": 265,
    "start_time": "2022-01-25T06:58:20.761Z"
   },
   {
    "duration": 10,
    "start_time": "2022-01-25T06:59:01.398Z"
   },
   {
    "duration": 17,
    "start_time": "2022-01-25T06:59:11.450Z"
   },
   {
    "duration": 6,
    "start_time": "2022-01-25T07:58:00.863Z"
   },
   {
    "duration": 8,
    "start_time": "2022-01-25T07:58:07.080Z"
   },
   {
    "duration": 9,
    "start_time": "2022-01-25T07:58:26.920Z"
   },
   {
    "duration": 8,
    "start_time": "2022-01-25T07:58:51.660Z"
   },
   {
    "duration": 9,
    "start_time": "2022-01-25T07:59:14.907Z"
   },
   {
    "duration": 7,
    "start_time": "2022-01-25T07:59:43.862Z"
   },
   {
    "duration": 6,
    "start_time": "2022-01-25T08:01:32.938Z"
   },
   {
    "duration": 9,
    "start_time": "2022-01-25T08:01:42.325Z"
   },
   {
    "duration": 280,
    "start_time": "2022-01-25T08:03:23.540Z"
   },
   {
    "duration": 285,
    "start_time": "2022-01-25T08:03:51.809Z"
   },
   {
    "duration": 10,
    "start_time": "2022-01-25T08:04:35.047Z"
   },
   {
    "duration": 20,
    "start_time": "2022-01-25T08:06:51.723Z"
   },
   {
    "duration": 14,
    "start_time": "2022-01-25T08:07:06.861Z"
   },
   {
    "duration": 14,
    "start_time": "2022-01-25T08:07:21.646Z"
   },
   {
    "duration": 276,
    "start_time": "2022-01-25T08:07:48.249Z"
   },
   {
    "duration": 316,
    "start_time": "2022-01-25T08:08:18.530Z"
   },
   {
    "duration": 11,
    "start_time": "2022-01-25T08:09:08.567Z"
   },
   {
    "duration": 30915,
    "start_time": "2022-01-25T08:10:01.011Z"
   },
   {
    "duration": 6514,
    "start_time": "2022-01-25T08:22:09.759Z"
   },
   {
    "duration": 21,
    "start_time": "2022-01-25T08:22:40.809Z"
   },
   {
    "duration": 18,
    "start_time": "2022-01-25T08:27:51.829Z"
   },
   {
    "duration": 299,
    "start_time": "2022-01-25T08:34:14.922Z"
   },
   {
    "duration": 3127,
    "start_time": "2022-01-25T08:35:12.682Z"
   },
   {
    "duration": 285,
    "start_time": "2022-01-25T08:36:37.101Z"
   },
   {
    "duration": 317,
    "start_time": "2022-01-25T08:36:52.808Z"
   },
   {
    "duration": 427,
    "start_time": "2022-01-25T08:37:07.507Z"
   },
   {
    "duration": 311,
    "start_time": "2022-01-25T08:37:20.461Z"
   },
   {
    "duration": 312,
    "start_time": "2022-01-25T08:37:57.138Z"
   },
   {
    "duration": 7198,
    "start_time": "2022-01-25T08:38:26.186Z"
   },
   {
    "duration": 298,
    "start_time": "2022-01-25T08:44:22.119Z"
   },
   {
    "duration": 311,
    "start_time": "2022-01-25T08:44:32.920Z"
   },
   {
    "duration": 270,
    "start_time": "2022-01-25T08:44:50.746Z"
   },
   {
    "duration": 294,
    "start_time": "2022-01-25T08:45:05.761Z"
   },
   {
    "duration": 295,
    "start_time": "2022-01-25T08:50:21.090Z"
   },
   {
    "duration": 5,
    "start_time": "2022-01-25T08:50:38.288Z"
   },
   {
    "duration": 11,
    "start_time": "2022-01-25T08:53:26.986Z"
   },
   {
    "duration": 10,
    "start_time": "2022-01-25T08:56:11.958Z"
   },
   {
    "duration": 282,
    "start_time": "2022-01-25T08:56:16.086Z"
   },
   {
    "duration": 36,
    "start_time": "2022-01-25T08:56:23.204Z"
   },
   {
    "duration": 1748,
    "start_time": "2022-01-25T08:59:03.351Z"
   },
   {
    "duration": 1741,
    "start_time": "2022-01-25T08:59:14.123Z"
   },
   {
    "duration": 1749,
    "start_time": "2022-01-25T08:59:49.604Z"
   },
   {
    "duration": 1872,
    "start_time": "2022-01-25T09:02:06.435Z"
   },
   {
    "duration": 1778,
    "start_time": "2022-01-25T09:06:02.966Z"
   },
   {
    "duration": 1744,
    "start_time": "2022-01-25T09:07:45.270Z"
   },
   {
    "duration": -42,
    "start_time": "2022-01-25T09:08:15.662Z"
   },
   {
    "duration": 8750,
    "start_time": "2022-01-25T09:08:21.710Z"
   },
   {
    "duration": 1730,
    "start_time": "2022-01-25T09:08:32.921Z"
   },
   {
    "duration": 1710,
    "start_time": "2022-01-25T09:08:55.535Z"
   },
   {
    "duration": 9,
    "start_time": "2022-01-25T09:11:19.051Z"
   },
   {
    "duration": 13,
    "start_time": "2022-01-25T09:11:29.941Z"
   },
   {
    "duration": 15,
    "start_time": "2022-01-25T09:34:56.158Z"
   },
   {
    "duration": 268,
    "start_time": "2022-01-25T09:35:55.716Z"
   },
   {
    "duration": 238,
    "start_time": "2022-01-25T09:36:14.817Z"
   },
   {
    "duration": 267,
    "start_time": "2022-01-25T09:38:01.615Z"
   },
   {
    "duration": 16,
    "start_time": "2022-01-25T09:38:06.992Z"
   },
   {
    "duration": 6433,
    "start_time": "2022-01-25T09:41:36.359Z"
   },
   {
    "duration": 670,
    "start_time": "2022-01-25T09:41:48.539Z"
   },
   {
    "duration": 44,
    "start_time": "2022-01-25T09:41:49.211Z"
   },
   {
    "duration": 20,
    "start_time": "2022-01-25T09:41:49.257Z"
   },
   {
    "duration": 35,
    "start_time": "2022-01-25T09:41:49.280Z"
   },
   {
    "duration": 299,
    "start_time": "2022-01-25T09:41:49.317Z"
   },
   {
    "duration": 15,
    "start_time": "2022-01-25T09:41:49.617Z"
   },
   {
    "duration": 26,
    "start_time": "2022-01-25T09:41:49.634Z"
   },
   {
    "duration": 38,
    "start_time": "2022-01-25T09:41:49.663Z"
   },
   {
    "duration": 10,
    "start_time": "2022-01-25T09:41:49.703Z"
   },
   {
    "duration": 1944,
    "start_time": "2022-01-25T09:41:49.715Z"
   },
   {
    "duration": 14,
    "start_time": "2022-01-25T09:41:51.660Z"
   },
   {
    "duration": 28,
    "start_time": "2022-01-25T09:41:51.675Z"
   },
   {
    "duration": 7405,
    "start_time": "2022-01-25T09:41:51.705Z"
   },
   {
    "duration": 245,
    "start_time": "2022-01-25T09:42:06.588Z"
   },
   {
    "duration": 262,
    "start_time": "2022-01-25T09:46:32.247Z"
   },
   {
    "duration": 273,
    "start_time": "2022-01-25T09:46:42.739Z"
   },
   {
    "duration": 13,
    "start_time": "2022-01-25T09:46:49.451Z"
   },
   {
    "duration": 249,
    "start_time": "2022-01-25T09:56:58.776Z"
   },
   {
    "duration": 260,
    "start_time": "2022-01-25T09:57:24.010Z"
   },
   {
    "duration": 216,
    "start_time": "2022-01-25T09:57:37.600Z"
   },
   {
    "duration": 263,
    "start_time": "2022-01-25T09:57:58.161Z"
   },
   {
    "duration": 228,
    "start_time": "2022-01-25T09:58:06.099Z"
   },
   {
    "duration": 266,
    "start_time": "2022-01-25T10:02:42.423Z"
   },
   {
    "duration": 204,
    "start_time": "2022-01-25T10:02:50.843Z"
   },
   {
    "duration": 224,
    "start_time": "2022-01-25T10:03:30.501Z"
   },
   {
    "duration": 407,
    "start_time": "2022-01-25T10:24:03.197Z"
   },
   {
    "duration": 48,
    "start_time": "2022-01-25T10:24:34.151Z"
   },
   {
    "duration": 71,
    "start_time": "2022-01-25T10:24:48.091Z"
   },
   {
    "duration": 29,
    "start_time": "2022-01-25T10:25:34.447Z"
   },
   {
    "duration": 39,
    "start_time": "2022-01-25T10:26:25.580Z"
   },
   {
    "duration": 291,
    "start_time": "2022-01-25T10:31:19.398Z"
   },
   {
    "duration": 284,
    "start_time": "2022-01-25T10:31:38.249Z"
   },
   {
    "duration": 265,
    "start_time": "2022-01-25T10:34:53.754Z"
   },
   {
    "duration": 278,
    "start_time": "2022-01-25T10:37:26.467Z"
   },
   {
    "duration": 287,
    "start_time": "2022-01-25T10:37:44.708Z"
   },
   {
    "duration": 11,
    "start_time": "2022-01-25T10:37:53.964Z"
   },
   {
    "duration": 11,
    "start_time": "2022-01-25T10:38:07.177Z"
   },
   {
    "duration": 15,
    "start_time": "2022-01-25T10:44:20.999Z"
   },
   {
    "duration": 14,
    "start_time": "2022-01-25T10:52:55.187Z"
   },
   {
    "duration": 13,
    "start_time": "2022-01-25T10:53:02.985Z"
   },
   {
    "duration": 14,
    "start_time": "2022-01-25T10:53:08.737Z"
   },
   {
    "duration": 6917,
    "start_time": "2022-01-25T11:04:40.601Z"
   },
   {
    "duration": 5055,
    "start_time": "2022-01-25T11:05:05.055Z"
   },
   {
    "duration": 5147,
    "start_time": "2022-01-25T11:05:55.252Z"
   },
   {
    "duration": 6727,
    "start_time": "2022-01-25T11:06:24.455Z"
   },
   {
    "duration": 90,
    "start_time": "2022-01-25T11:09:30.994Z"
   },
   {
    "duration": 86,
    "start_time": "2022-01-25T11:09:38.989Z"
   },
   {
    "duration": 32157,
    "start_time": "2022-01-25T11:10:04.222Z"
   },
   {
    "duration": 274,
    "start_time": "2022-01-25T11:10:59.485Z"
   },
   {
    "duration": 15561,
    "start_time": "2022-01-25T11:11:35.649Z"
   },
   {
    "duration": 5603,
    "start_time": "2022-01-25T11:12:07.402Z"
   },
   {
    "duration": 5035,
    "start_time": "2022-01-25T11:12:57.431Z"
   },
   {
    "duration": 94,
    "start_time": "2022-01-25T11:13:11.950Z"
   },
   {
    "duration": 79,
    "start_time": "2022-01-25T11:13:38.777Z"
   },
   {
    "duration": 4872,
    "start_time": "2022-01-25T11:14:16.794Z"
   },
   {
    "duration": 90,
    "start_time": "2022-01-25T11:14:33.338Z"
   },
   {
    "duration": 3204,
    "start_time": "2022-01-25T11:14:41.807Z"
   },
   {
    "duration": 21474,
    "start_time": "2022-01-25T11:15:00.835Z"
   },
   {
    "duration": 11739,
    "start_time": "2022-01-25T11:15:28.119Z"
   },
   {
    "duration": 12136,
    "start_time": "2022-01-25T11:22:34.068Z"
   },
   {
    "duration": 12188,
    "start_time": "2022-01-25T11:26:38.123Z"
   },
   {
    "duration": 309,
    "start_time": "2022-01-25T11:27:15.433Z"
   },
   {
    "duration": 268,
    "start_time": "2022-01-25T11:28:54.998Z"
   },
   {
    "duration": 1818,
    "start_time": "2022-01-25T11:30:37.654Z"
   },
   {
    "duration": 2022,
    "start_time": "2022-01-25T11:30:53.983Z"
   },
   {
    "duration": 6717,
    "start_time": "2022-01-25T11:31:31.827Z"
   },
   {
    "duration": 4974,
    "start_time": "2022-01-25T11:32:17.380Z"
   },
   {
    "duration": 5109,
    "start_time": "2022-01-25T11:33:01.796Z"
   },
   {
    "duration": 4867,
    "start_time": "2022-01-25T11:34:07.608Z"
   },
   {
    "duration": 276,
    "start_time": "2022-01-25T11:34:34.084Z"
   },
   {
    "duration": 5042,
    "start_time": "2022-01-25T11:34:40.506Z"
   },
   {
    "duration": 629,
    "start_time": "2022-01-25T11:38:10.356Z"
   },
   {
    "duration": 45,
    "start_time": "2022-01-25T11:38:10.987Z"
   },
   {
    "duration": 10,
    "start_time": "2022-01-25T11:38:11.034Z"
   },
   {
    "duration": 16,
    "start_time": "2022-01-25T11:38:11.046Z"
   },
   {
    "duration": 278,
    "start_time": "2022-01-25T11:38:11.063Z"
   },
   {
    "duration": 13,
    "start_time": "2022-01-25T11:38:11.343Z"
   },
   {
    "duration": 20,
    "start_time": "2022-01-25T11:38:11.358Z"
   },
   {
    "duration": 40,
    "start_time": "2022-01-25T11:38:11.381Z"
   },
   {
    "duration": 9,
    "start_time": "2022-01-25T11:38:11.423Z"
   },
   {
    "duration": 1933,
    "start_time": "2022-01-25T11:38:11.433Z"
   },
   {
    "duration": 12,
    "start_time": "2022-01-25T11:38:13.368Z"
   },
   {
    "duration": 23,
    "start_time": "2022-01-25T11:38:13.381Z"
   },
   {
    "duration": 209,
    "start_time": "2022-01-25T11:38:13.406Z"
   },
   {
    "duration": 38,
    "start_time": "2022-01-25T11:38:13.616Z"
   },
   {
    "duration": 12,
    "start_time": "2022-01-25T11:38:13.656Z"
   },
   {
    "duration": 3333,
    "start_time": "2022-01-25T11:38:13.670Z"
   },
   {
    "duration": 513,
    "start_time": "2022-01-25T11:39:25.026Z"
   },
   {
    "duration": 193,
    "start_time": "2022-01-25T11:39:34.500Z"
   },
   {
    "duration": 10,
    "start_time": "2022-01-25T11:39:54.747Z"
   },
   {
    "duration": 15,
    "start_time": "2022-01-25T11:40:21.702Z"
   },
   {
    "duration": 266,
    "start_time": "2022-01-25T11:41:38.645Z"
   },
   {
    "duration": 15,
    "start_time": "2022-01-25T11:41:59.250Z"
   },
   {
    "duration": 12,
    "start_time": "2022-01-25T11:42:40.353Z"
   },
   {
    "duration": 13,
    "start_time": "2022-01-25T11:42:46.985Z"
   },
   {
    "duration": 12,
    "start_time": "2022-01-25T11:42:55.481Z"
   },
   {
    "duration": 14,
    "start_time": "2022-01-25T11:44:25.648Z"
   },
   {
    "duration": 6586,
    "start_time": "2022-01-25T11:47:14.021Z"
   },
   {
    "duration": 6666,
    "start_time": "2022-01-25T11:47:58.780Z"
   },
   {
    "duration": 6755,
    "start_time": "2022-01-25T11:49:01.795Z"
   },
   {
    "duration": 28,
    "start_time": "2022-01-25T11:49:35.864Z"
   },
   {
    "duration": 5665,
    "start_time": "2022-01-25T11:53:14.653Z"
   },
   {
    "duration": 40,
    "start_time": "2022-01-25T12:21:45.696Z"
   },
   {
    "duration": 477,
    "start_time": "2022-01-25T12:22:31.722Z"
   },
   {
    "duration": 15,
    "start_time": "2022-01-25T12:22:45.651Z"
   },
   {
    "duration": 1932,
    "start_time": "2022-01-25T12:23:35.954Z"
   },
   {
    "duration": 1828,
    "start_time": "2022-01-25T12:23:54.066Z"
   },
   {
    "duration": 814,
    "start_time": "2022-01-26T05:01:38.293Z"
   },
   {
    "duration": 60,
    "start_time": "2022-01-26T05:01:39.109Z"
   },
   {
    "duration": 13,
    "start_time": "2022-01-26T05:01:39.172Z"
   },
   {
    "duration": 26,
    "start_time": "2022-01-26T05:01:39.188Z"
   },
   {
    "duration": 388,
    "start_time": "2022-01-26T05:01:39.216Z"
   },
   {
    "duration": 21,
    "start_time": "2022-01-26T05:01:39.607Z"
   },
   {
    "duration": 40,
    "start_time": "2022-01-26T05:01:39.630Z"
   },
   {
    "duration": 40,
    "start_time": "2022-01-26T05:01:39.673Z"
   },
   {
    "duration": 43,
    "start_time": "2022-01-26T05:01:39.716Z"
   },
   {
    "duration": 3589,
    "start_time": "2022-01-26T05:01:39.762Z"
   },
   {
    "duration": 17,
    "start_time": "2022-01-26T05:01:43.353Z"
   },
   {
    "duration": 26,
    "start_time": "2022-01-26T05:01:43.372Z"
   },
   {
    "duration": 407,
    "start_time": "2022-01-26T05:01:43.401Z"
   },
   {
    "duration": 72,
    "start_time": "2022-01-26T05:01:43.811Z"
   },
   {
    "duration": 22,
    "start_time": "2022-01-26T05:01:43.886Z"
   },
   {
    "duration": 809,
    "start_time": "2022-01-26T05:09:10.485Z"
   },
   {
    "duration": 59,
    "start_time": "2022-01-26T05:09:11.297Z"
   },
   {
    "duration": 13,
    "start_time": "2022-01-26T05:09:11.359Z"
   },
   {
    "duration": 22,
    "start_time": "2022-01-26T05:09:11.375Z"
   },
   {
    "duration": 408,
    "start_time": "2022-01-26T05:09:11.399Z"
   },
   {
    "duration": 40,
    "start_time": "2022-01-26T05:09:11.810Z"
   },
   {
    "duration": 28,
    "start_time": "2022-01-26T05:09:11.853Z"
   },
   {
    "duration": 65,
    "start_time": "2022-01-26T05:09:11.885Z"
   },
   {
    "duration": 13,
    "start_time": "2022-01-26T05:09:11.953Z"
   },
   {
    "duration": 3574,
    "start_time": "2022-01-26T05:09:11.969Z"
   },
   {
    "duration": 20,
    "start_time": "2022-01-26T05:09:15.549Z"
   },
   {
    "duration": 26,
    "start_time": "2022-01-26T05:09:15.571Z"
   },
   {
    "duration": 324,
    "start_time": "2022-01-26T05:09:15.601Z"
   },
   {
    "duration": 74,
    "start_time": "2022-01-26T05:09:15.929Z"
   },
   {
    "duration": 43,
    "start_time": "2022-01-26T05:09:16.007Z"
   },
   {
    "duration": 6,
    "start_time": "2022-01-26T05:09:16.053Z"
   },
   {
    "duration": 120,
    "start_time": "2022-01-26T05:09:16.062Z"
   },
   {
    "duration": 23,
    "start_time": "2022-01-26T05:09:29.902Z"
   },
   {
    "duration": 5,
    "start_time": "2022-01-26T05:09:31.916Z"
   },
   {
    "duration": 20,
    "start_time": "2022-01-26T05:09:55.580Z"
   },
   {
    "duration": 20,
    "start_time": "2022-01-26T05:10:03.984Z"
   },
   {
    "duration": 30,
    "start_time": "2022-01-26T05:13:04.274Z"
   },
   {
    "duration": 353,
    "start_time": "2022-01-26T05:19:28.417Z"
   },
   {
    "duration": 930,
    "start_time": "2022-01-26T05:20:03.391Z"
   },
   {
    "duration": 280,
    "start_time": "2022-01-26T05:20:09.571Z"
   },
   {
    "duration": 291,
    "start_time": "2022-01-26T05:20:49.849Z"
   },
   {
    "duration": 364,
    "start_time": "2022-01-26T05:22:50.153Z"
   },
   {
    "duration": 303,
    "start_time": "2022-01-26T05:23:53.280Z"
   },
   {
    "duration": 228,
    "start_time": "2022-01-26T05:24:10.752Z"
   },
   {
    "duration": 511,
    "start_time": "2022-01-26T05:24:59.445Z"
   },
   {
    "duration": 541,
    "start_time": "2022-01-26T05:25:34.085Z"
   },
   {
    "duration": 674,
    "start_time": "2022-01-26T05:25:57.239Z"
   },
   {
    "duration": 24,
    "start_time": "2022-01-26T05:27:29.859Z"
   },
   {
    "duration": 770,
    "start_time": "2022-01-26T05:28:29.783Z"
   },
   {
    "duration": 705,
    "start_time": "2022-01-26T05:31:33.274Z"
   },
   {
    "duration": 959,
    "start_time": "2022-01-26T05:32:41.146Z"
   },
   {
    "duration": 937,
    "start_time": "2022-01-26T05:33:32.653Z"
   },
   {
    "duration": 1026,
    "start_time": "2022-01-26T05:35:23.730Z"
   },
   {
    "duration": 966,
    "start_time": "2022-01-26T05:36:52.128Z"
   },
   {
    "duration": 968,
    "start_time": "2022-01-26T05:37:05.990Z"
   },
   {
    "duration": 397,
    "start_time": "2022-01-26T05:43:33.821Z"
   },
   {
    "duration": 451,
    "start_time": "2022-01-26T05:44:18.450Z"
   },
   {
    "duration": 397,
    "start_time": "2022-01-26T05:44:38.132Z"
   },
   {
    "duration": 499,
    "start_time": "2022-01-26T05:45:24.281Z"
   },
   {
    "duration": 989,
    "start_time": "2022-01-26T05:46:27.869Z"
   },
   {
    "duration": 40,
    "start_time": "2022-01-26T05:49:40.478Z"
   },
   {
    "duration": 34,
    "start_time": "2022-01-26T05:49:54.978Z"
   },
   {
    "duration": 20,
    "start_time": "2022-01-26T05:51:22.055Z"
   },
   {
    "duration": 819,
    "start_time": "2022-01-26T07:02:56.361Z"
   },
   {
    "duration": 59,
    "start_time": "2022-01-26T07:02:57.183Z"
   },
   {
    "duration": 16,
    "start_time": "2022-01-26T07:02:57.245Z"
   },
   {
    "duration": 24,
    "start_time": "2022-01-26T07:02:57.263Z"
   },
   {
    "duration": 390,
    "start_time": "2022-01-26T07:02:57.290Z"
   },
   {
    "duration": 20,
    "start_time": "2022-01-26T07:02:57.683Z"
   },
   {
    "duration": 47,
    "start_time": "2022-01-26T07:02:57.706Z"
   },
   {
    "duration": 39,
    "start_time": "2022-01-26T07:02:57.757Z"
   },
   {
    "duration": 12,
    "start_time": "2022-01-26T07:02:57.799Z"
   },
   {
    "duration": 3581,
    "start_time": "2022-01-26T07:02:57.813Z"
   },
   {
    "duration": 16,
    "start_time": "2022-01-26T07:03:01.396Z"
   },
   {
    "duration": 43,
    "start_time": "2022-01-26T07:03:01.415Z"
   },
   {
    "duration": 299,
    "start_time": "2022-01-26T07:03:01.460Z"
   },
   {
    "duration": 61,
    "start_time": "2022-01-26T07:03:01.761Z"
   },
   {
    "duration": 40,
    "start_time": "2022-01-26T07:03:01.825Z"
   },
   {
    "duration": 10,
    "start_time": "2022-01-26T07:03:01.867Z"
   },
   {
    "duration": 36,
    "start_time": "2022-01-26T07:03:01.880Z"
   },
   {
    "duration": 1295,
    "start_time": "2022-01-26T07:03:01.918Z"
   },
   {
    "duration": 384,
    "start_time": "2022-01-26T07:03:03.215Z"
   },
   {
    "duration": 18,
    "start_time": "2022-01-26T07:03:03.601Z"
   },
   {
    "duration": 25,
    "start_time": "2022-01-26T07:04:00.276Z"
   },
   {
    "duration": 16,
    "start_time": "2022-01-26T07:17:10.032Z"
   },
   {
    "duration": 6,
    "start_time": "2022-01-26T07:17:24.995Z"
   },
   {
    "duration": 13,
    "start_time": "2022-01-26T07:17:34.797Z"
   },
   {
    "duration": 6,
    "start_time": "2022-01-26T07:17:39.531Z"
   },
   {
    "duration": 21,
    "start_time": "2022-01-26T07:18:21.162Z"
   },
   {
    "duration": 12,
    "start_time": "2022-01-26T07:18:32.144Z"
   },
   {
    "duration": 9,
    "start_time": "2022-01-26T07:18:44.086Z"
   },
   {
    "duration": 8,
    "start_time": "2022-01-26T07:18:58.623Z"
   },
   {
    "duration": 853,
    "start_time": "2022-01-26T07:22:20.417Z"
   },
   {
    "duration": 652,
    "start_time": "2022-01-26T07:22:26.296Z"
   },
   {
    "duration": 46,
    "start_time": "2022-01-26T07:29:23.523Z"
   },
   {
    "duration": 11,
    "start_time": "2022-01-26T07:30:20.287Z"
   },
   {
    "duration": 340,
    "start_time": "2022-01-26T07:50:37.370Z"
   },
   {
    "duration": 345,
    "start_time": "2022-01-26T07:51:31.063Z"
   },
   {
    "duration": 376,
    "start_time": "2022-01-26T07:52:15.954Z"
   },
   {
    "duration": 94,
    "start_time": "2022-01-26T07:52:34.296Z"
   },
   {
    "duration": 371,
    "start_time": "2022-01-26T07:52:54.821Z"
   },
   {
    "duration": 28,
    "start_time": "2022-01-26T07:53:30.862Z"
   },
   {
    "duration": 311,
    "start_time": "2022-01-26T07:54:30.756Z"
   },
   {
    "duration": 10,
    "start_time": "2022-01-26T07:55:07.590Z"
   },
   {
    "duration": 503,
    "start_time": "2022-01-26T07:55:08.512Z"
   },
   {
    "duration": 33,
    "start_time": "2022-01-26T07:55:15.151Z"
   },
   {
    "duration": 12,
    "start_time": "2022-01-26T07:55:40.080Z"
   },
   {
    "duration": 520,
    "start_time": "2022-01-26T07:55:40.647Z"
   },
   {
    "duration": 31,
    "start_time": "2022-01-26T07:55:44.031Z"
   },
   {
    "duration": 291,
    "start_time": "2022-01-26T07:55:48.308Z"
   },
   {
    "duration": 508,
    "start_time": "2022-01-26T07:59:04.046Z"
   },
   {
    "duration": 568,
    "start_time": "2022-01-26T07:59:42.120Z"
   },
   {
    "duration": 409,
    "start_time": "2022-01-26T08:00:22.173Z"
   },
   {
    "duration": 307,
    "start_time": "2022-01-26T08:00:39.605Z"
   },
   {
    "duration": 13,
    "start_time": "2022-01-26T08:00:57.107Z"
   },
   {
    "duration": 291,
    "start_time": "2022-01-26T08:03:43.818Z"
   },
   {
    "duration": 415,
    "start_time": "2022-01-26T08:04:00.737Z"
   },
   {
    "duration": 321,
    "start_time": "2022-01-26T08:04:20.129Z"
   },
   {
    "duration": 568,
    "start_time": "2022-01-26T08:05:08.262Z"
   },
   {
    "duration": 885,
    "start_time": "2022-01-26T08:05:48.917Z"
   },
   {
    "duration": 61,
    "start_time": "2022-01-26T08:05:49.806Z"
   },
   {
    "duration": 16,
    "start_time": "2022-01-26T08:05:49.871Z"
   },
   {
    "duration": 26,
    "start_time": "2022-01-26T08:05:49.890Z"
   },
   {
    "duration": 402,
    "start_time": "2022-01-26T08:05:49.918Z"
   },
   {
    "duration": 28,
    "start_time": "2022-01-26T08:05:50.324Z"
   },
   {
    "duration": 31,
    "start_time": "2022-01-26T08:05:50.355Z"
   },
   {
    "duration": 36,
    "start_time": "2022-01-26T08:05:50.389Z"
   },
   {
    "duration": 14,
    "start_time": "2022-01-26T08:05:50.449Z"
   },
   {
    "duration": 3493,
    "start_time": "2022-01-26T08:05:50.465Z"
   },
   {
    "duration": 16,
    "start_time": "2022-01-26T08:05:53.960Z"
   },
   {
    "duration": 39,
    "start_time": "2022-01-26T08:05:53.979Z"
   },
   {
    "duration": 316,
    "start_time": "2022-01-26T08:05:54.020Z"
   },
   {
    "duration": 65,
    "start_time": "2022-01-26T08:05:54.339Z"
   },
   {
    "duration": 42,
    "start_time": "2022-01-26T08:05:54.406Z"
   },
   {
    "duration": 5,
    "start_time": "2022-01-26T08:05:54.451Z"
   },
   {
    "duration": 23,
    "start_time": "2022-01-26T08:05:54.459Z"
   },
   {
    "duration": 1376,
    "start_time": "2022-01-26T08:05:54.484Z"
   },
   {
    "duration": 425,
    "start_time": "2022-01-26T08:05:55.862Z"
   },
   {
    "duration": 16,
    "start_time": "2022-01-26T08:05:56.290Z"
   },
   {
    "duration": 12,
    "start_time": "2022-01-26T08:05:56.309Z"
   },
   {
    "duration": 27,
    "start_time": "2022-01-26T08:05:56.323Z"
   },
   {
    "duration": 9,
    "start_time": "2022-01-26T08:05:56.354Z"
   },
   {
    "duration": 513,
    "start_time": "2022-01-26T08:05:56.365Z"
   },
   {
    "duration": 14,
    "start_time": "2022-01-26T08:05:56.880Z"
   },
   {
    "duration": 447,
    "start_time": "2022-01-26T08:05:56.897Z"
   },
   {
    "duration": 19,
    "start_time": "2022-01-26T08:07:54.182Z"
   },
   {
    "duration": 325,
    "start_time": "2022-01-26T08:08:21.685Z"
   },
   {
    "duration": 99,
    "start_time": "2022-01-26T08:10:25.785Z"
   },
   {
    "duration": 98,
    "start_time": "2022-01-26T08:10:45.462Z"
   },
   {
    "duration": 272,
    "start_time": "2022-01-26T08:11:26.202Z"
   },
   {
    "duration": 331,
    "start_time": "2022-01-26T08:11:49.662Z"
   },
   {
    "duration": 116,
    "start_time": "2022-01-26T08:12:25.800Z"
   },
   {
    "duration": 474,
    "start_time": "2022-01-26T08:12:36.834Z"
   },
   {
    "duration": 413,
    "start_time": "2022-01-26T08:13:21.043Z"
   },
   {
    "duration": 472,
    "start_time": "2022-01-26T08:13:55.622Z"
   },
   {
    "duration": 103,
    "start_time": "2022-01-26T08:14:30.210Z"
   },
   {
    "duration": 421,
    "start_time": "2022-01-26T08:14:36.218Z"
   },
   {
    "duration": 15196,
    "start_time": "2022-01-26T08:16:18.814Z"
   },
   {
    "duration": 316,
    "start_time": "2022-01-26T08:16:49.783Z"
   },
   {
    "duration": 399,
    "start_time": "2022-01-26T08:17:25.406Z"
   },
   {
    "duration": 396,
    "start_time": "2022-01-26T08:18:50.692Z"
   },
   {
    "duration": 109,
    "start_time": "2022-01-26T08:19:22.417Z"
   },
   {
    "duration": 388,
    "start_time": "2022-01-26T08:20:26.473Z"
   },
   {
    "duration": 413,
    "start_time": "2022-01-26T08:20:54.168Z"
   },
   {
    "duration": 365,
    "start_time": "2022-01-26T08:22:04.673Z"
   },
   {
    "duration": 384,
    "start_time": "2022-01-26T08:22:22.680Z"
   },
   {
    "duration": 464,
    "start_time": "2022-01-26T08:23:03.793Z"
   },
   {
    "duration": 610,
    "start_time": "2022-01-26T08:23:30.104Z"
   },
   {
    "duration": 412,
    "start_time": "2022-01-26T08:24:06.461Z"
   },
   {
    "duration": 443,
    "start_time": "2022-01-26T08:24:34.142Z"
   },
   {
    "duration": 399,
    "start_time": "2022-01-26T08:25:21.562Z"
   },
   {
    "duration": 469,
    "start_time": "2022-01-26T08:26:08.630Z"
   },
   {
    "duration": 565,
    "start_time": "2022-01-26T08:26:38.994Z"
   },
   {
    "duration": 410,
    "start_time": "2022-01-26T08:27:15.769Z"
   },
   {
    "duration": 442,
    "start_time": "2022-01-26T08:27:40.430Z"
   },
   {
    "duration": 932,
    "start_time": "2022-01-26T08:29:51.582Z"
   },
   {
    "duration": 767,
    "start_time": "2022-01-26T08:30:17.045Z"
   },
   {
    "duration": 419,
    "start_time": "2022-01-26T08:30:30.400Z"
   },
   {
    "duration": 8,
    "start_time": "2022-01-26T08:31:35.730Z"
   },
   {
    "duration": 7,
    "start_time": "2022-01-26T08:32:24.941Z"
   },
   {
    "duration": 22,
    "start_time": "2022-01-26T08:36:37.856Z"
   },
   {
    "duration": 180,
    "start_time": "2022-01-26T08:36:53.304Z"
   },
   {
    "duration": 20,
    "start_time": "2022-01-26T08:37:12.989Z"
   },
   {
    "duration": 25,
    "start_time": "2022-01-26T08:38:53.349Z"
   },
   {
    "duration": 24,
    "start_time": "2022-01-26T09:24:16.308Z"
   },
   {
    "duration": 154,
    "start_time": "2022-01-26T09:24:42.337Z"
   },
   {
    "duration": 17,
    "start_time": "2022-01-26T09:25:01.114Z"
   },
   {
    "duration": 44,
    "start_time": "2022-01-26T09:25:13.519Z"
   },
   {
    "duration": 19,
    "start_time": "2022-01-26T09:25:18.382Z"
   },
   {
    "duration": 25,
    "start_time": "2022-01-26T09:25:28.360Z"
   },
   {
    "duration": 24,
    "start_time": "2022-01-26T09:26:18.174Z"
   },
   {
    "duration": 25,
    "start_time": "2022-01-26T09:27:56.565Z"
   },
   {
    "duration": 25,
    "start_time": "2022-01-26T09:28:19.997Z"
   },
   {
    "duration": 26,
    "start_time": "2022-01-26T09:28:30.897Z"
   },
   {
    "duration": 27,
    "start_time": "2022-01-26T09:28:46.226Z"
   },
   {
    "duration": 317,
    "start_time": "2022-01-26T09:36:13.426Z"
   },
   {
    "duration": 1145,
    "start_time": "2022-01-26T09:37:14.223Z"
   },
   {
    "duration": 1635,
    "start_time": "2022-01-26T09:38:45.357Z"
   },
   {
    "duration": 26,
    "start_time": "2022-01-26T09:40:31.811Z"
   },
   {
    "duration": 27,
    "start_time": "2022-01-26T10:19:46.253Z"
   },
   {
    "duration": 4,
    "start_time": "2022-01-26T10:28:47.647Z"
   },
   {
    "duration": 317,
    "start_time": "2022-01-26T10:35:20.293Z"
   },
   {
    "duration": 15,
    "start_time": "2022-01-26T10:35:34.341Z"
   },
   {
    "duration": 15,
    "start_time": "2022-01-26T10:35:45.859Z"
   },
   {
    "duration": 388,
    "start_time": "2022-01-26T10:36:29.018Z"
   },
   {
    "duration": 11,
    "start_time": "2022-01-26T10:37:16.151Z"
   },
   {
    "duration": 10,
    "start_time": "2022-01-26T10:46:00.102Z"
   },
   {
    "duration": 331,
    "start_time": "2022-01-26T10:47:25.308Z"
   },
   {
    "duration": 11,
    "start_time": "2022-01-26T10:48:18.241Z"
   },
   {
    "duration": 11,
    "start_time": "2022-01-26T10:48:19.478Z"
   },
   {
    "duration": 108,
    "start_time": "2022-02-03T17:13:32.197Z"
   },
   {
    "duration": 859,
    "start_time": "2022-02-03T17:26:39.454Z"
   },
   {
    "duration": 55,
    "start_time": "2022-02-03T17:26:40.315Z"
   },
   {
    "duration": 13,
    "start_time": "2022-02-03T17:26:40.373Z"
   },
   {
    "duration": 21,
    "start_time": "2022-02-03T17:26:40.389Z"
   },
   {
    "duration": 387,
    "start_time": "2022-02-03T17:26:40.413Z"
   },
   {
    "duration": 20,
    "start_time": "2022-02-03T17:26:40.802Z"
   },
   {
    "duration": 7,
    "start_time": "2022-02-03T17:26:56.105Z"
   },
   {
    "duration": 7,
    "start_time": "2022-02-03T17:27:08.334Z"
   },
   {
    "duration": 398,
    "start_time": "2022-02-03T17:27:26.632Z"
   },
   {
    "duration": 314,
    "start_time": "2022-02-03T17:27:31.978Z"
   },
   {
    "duration": 320,
    "start_time": "2022-02-03T17:27:35.383Z"
   },
   {
    "duration": 338,
    "start_time": "2022-02-03T17:27:53.734Z"
   },
   {
    "duration": 317,
    "start_time": "2022-02-03T17:27:56.375Z"
   },
   {
    "duration": 317,
    "start_time": "2022-02-03T17:28:33.153Z"
   },
   {
    "duration": 335,
    "start_time": "2022-02-03T17:28:37.053Z"
   },
   {
    "duration": 506,
    "start_time": "2022-02-03T17:28:53.463Z"
   },
   {
    "duration": 970,
    "start_time": "2022-02-03T17:28:59.745Z"
   },
   {
    "duration": 360,
    "start_time": "2022-02-03T17:29:02.924Z"
   },
   {
    "duration": 7,
    "start_time": "2022-02-03T17:29:09.928Z"
   },
   {
    "duration": 297,
    "start_time": "2022-02-03T17:29:15.035Z"
   },
   {
    "duration": 327,
    "start_time": "2022-02-03T17:29:16.944Z"
   },
   {
    "duration": 505,
    "start_time": "2022-02-03T17:29:21.068Z"
   },
   {
    "duration": 7,
    "start_time": "2022-02-03T17:29:34.705Z"
   },
   {
    "duration": 4,
    "start_time": "2022-02-03T17:45:11.235Z"
   },
   {
    "duration": 57,
    "start_time": "2022-02-03T17:45:11.242Z"
   },
   {
    "duration": 13,
    "start_time": "2022-02-03T17:45:11.303Z"
   },
   {
    "duration": 41,
    "start_time": "2022-02-03T17:45:11.319Z"
   },
   {
    "duration": 364,
    "start_time": "2022-02-03T17:45:11.363Z"
   },
   {
    "duration": 29,
    "start_time": "2022-02-03T17:45:11.730Z"
   },
   {
    "duration": 28,
    "start_time": "2022-02-03T17:45:11.761Z"
   },
   {
    "duration": 73,
    "start_time": "2022-02-03T17:45:11.793Z"
   },
   {
    "duration": 13,
    "start_time": "2022-02-03T17:45:11.868Z"
   },
   {
    "duration": 4,
    "start_time": "2022-02-03T17:45:16.947Z"
   },
   {
    "duration": 6,
    "start_time": "2022-02-03T17:45:21.535Z"
   },
   {
    "duration": 591,
    "start_time": "2022-02-06T07:06:38.179Z"
   },
   {
    "duration": 654,
    "start_time": "2022-02-06T07:07:38.574Z"
   },
   {
    "duration": 47,
    "start_time": "2022-02-06T07:07:39.230Z"
   },
   {
    "duration": 10,
    "start_time": "2022-02-06T07:07:39.279Z"
   },
   {
    "duration": 27,
    "start_time": "2022-02-06T07:07:39.291Z"
   },
   {
    "duration": 224,
    "start_time": "2022-02-06T07:07:39.320Z"
   },
   {
    "duration": 13,
    "start_time": "2022-02-06T07:07:39.545Z"
   },
   {
    "duration": 25,
    "start_time": "2022-02-06T07:07:39.560Z"
   },
   {
    "duration": 32,
    "start_time": "2022-02-06T07:07:39.588Z"
   },
   {
    "duration": 9,
    "start_time": "2022-02-06T07:07:39.622Z"
   },
   {
    "duration": 9,
    "start_time": "2022-02-06T07:07:39.633Z"
   },
   {
    "duration": 1876,
    "start_time": "2022-02-06T07:07:39.643Z"
   },
   {
    "duration": 14,
    "start_time": "2022-02-06T07:07:41.521Z"
   },
   {
    "duration": 17,
    "start_time": "2022-02-06T07:07:41.537Z"
   },
   {
    "duration": 197,
    "start_time": "2022-02-06T07:07:41.556Z"
   },
   {
    "duration": 39,
    "start_time": "2022-02-06T07:07:41.755Z"
   },
   {
    "duration": 33,
    "start_time": "2022-02-06T07:07:41.796Z"
   },
   {
    "duration": 13,
    "start_time": "2022-02-06T07:07:41.831Z"
   },
   {
    "duration": 19,
    "start_time": "2022-02-06T07:07:41.847Z"
   },
   {
    "duration": 862,
    "start_time": "2022-02-06T07:07:41.868Z"
   },
   {
    "duration": 258,
    "start_time": "2022-02-06T07:07:42.732Z"
   },
   {
    "duration": 12,
    "start_time": "2022-02-06T07:07:42.992Z"
   },
   {
    "duration": 8,
    "start_time": "2022-02-06T07:07:43.019Z"
   },
   {
    "duration": 4,
    "start_time": "2022-02-06T07:07:43.031Z"
   },
   {
    "duration": 12,
    "start_time": "2022-02-06T07:07:43.037Z"
   },
   {
    "duration": 321,
    "start_time": "2022-02-06T07:07:43.051Z"
   },
   {
    "duration": 8,
    "start_time": "2022-02-06T07:07:43.374Z"
   },
   {
    "duration": 318,
    "start_time": "2022-02-06T07:07:43.384Z"
   },
   {
    "duration": 18,
    "start_time": "2022-02-06T07:07:43.704Z"
   },
   {
    "duration": 288,
    "start_time": "2022-02-06T07:07:43.723Z"
   },
   {
    "duration": 395,
    "start_time": "2022-02-06T07:07:44.012Z"
   },
   {
    "duration": 309,
    "start_time": "2022-02-06T07:07:44.409Z"
   },
   {
    "duration": 323,
    "start_time": "2022-02-06T07:07:44.720Z"
   },
   {
    "duration": 295,
    "start_time": "2022-02-06T07:07:45.045Z"
   },
   {
    "duration": 4,
    "start_time": "2022-02-06T07:07:45.342Z"
   },
   {
    "duration": 288,
    "start_time": "2022-02-06T07:07:45.348Z"
   },
   {
    "duration": 302,
    "start_time": "2022-02-06T07:07:45.638Z"
   },
   {
    "duration": 290,
    "start_time": "2022-02-06T07:07:45.942Z"
   },
   {
    "duration": 290,
    "start_time": "2022-02-06T07:07:46.234Z"
   },
   {
    "duration": 14,
    "start_time": "2022-02-06T07:07:46.526Z"
   },
   {
    "duration": 16,
    "start_time": "2022-02-06T07:07:46.542Z"
   },
   {
    "duration": 17,
    "start_time": "2022-02-06T07:07:46.560Z"
   },
   {
    "duration": 46,
    "start_time": "2022-02-06T07:07:46.579Z"
   },
   {
    "duration": 2,
    "start_time": "2022-02-06T07:07:46.627Z"
   },
   {
    "duration": 13,
    "start_time": "2022-02-06T07:07:46.631Z"
   },
   {
    "duration": 6,
    "start_time": "2022-02-06T07:07:46.646Z"
   },
   {
    "duration": 14,
    "start_time": "2022-02-06T07:07:46.653Z"
   },
   {
    "duration": 6,
    "start_time": "2022-02-06T07:07:46.668Z"
   },
   {
    "duration": 727,
    "start_time": "2022-02-06T07:12:33.993Z"
   },
   {
    "duration": 46,
    "start_time": "2022-02-06T07:12:34.722Z"
   },
   {
    "duration": 12,
    "start_time": "2022-02-06T07:12:34.770Z"
   },
   {
    "duration": 34,
    "start_time": "2022-02-06T07:12:34.785Z"
   },
   {
    "duration": 243,
    "start_time": "2022-02-06T07:12:34.822Z"
   },
   {
    "duration": 16,
    "start_time": "2022-02-06T07:12:35.067Z"
   },
   {
    "duration": 37,
    "start_time": "2022-02-06T07:12:35.085Z"
   },
   {
    "duration": 28,
    "start_time": "2022-02-06T07:12:35.126Z"
   },
   {
    "duration": 11,
    "start_time": "2022-02-06T07:12:35.157Z"
   },
   {
    "duration": 6,
    "start_time": "2022-02-06T07:12:35.170Z"
   },
   {
    "duration": 1893,
    "start_time": "2022-02-06T07:12:35.179Z"
   },
   {
    "duration": 15,
    "start_time": "2022-02-06T07:12:37.074Z"
   },
   {
    "duration": 35,
    "start_time": "2022-02-06T07:12:37.091Z"
   },
   {
    "duration": 194,
    "start_time": "2022-02-06T07:12:37.128Z"
   },
   {
    "duration": 43,
    "start_time": "2022-02-06T07:12:37.324Z"
   },
   {
    "duration": 16,
    "start_time": "2022-02-06T07:12:37.369Z"
   },
   {
    "duration": 32,
    "start_time": "2022-02-06T07:12:37.387Z"
   },
   {
    "duration": 18,
    "start_time": "2022-02-06T07:12:37.421Z"
   },
   {
    "duration": 914,
    "start_time": "2022-02-06T07:12:37.440Z"
   },
   {
    "duration": 290,
    "start_time": "2022-02-06T07:12:38.356Z"
   },
   {
    "duration": 12,
    "start_time": "2022-02-06T07:12:38.647Z"
   },
   {
    "duration": 14,
    "start_time": "2022-02-06T07:12:38.661Z"
   },
   {
    "duration": 6,
    "start_time": "2022-02-06T07:12:38.679Z"
   },
   {
    "duration": 21,
    "start_time": "2022-02-06T07:12:38.687Z"
   },
   {
    "duration": 315,
    "start_time": "2022-02-06T07:12:38.710Z"
   },
   {
    "duration": 8,
    "start_time": "2022-02-06T07:12:39.027Z"
   },
   {
    "duration": 297,
    "start_time": "2022-02-06T07:12:39.037Z"
   },
   {
    "duration": 5,
    "start_time": "2022-02-06T07:12:39.336Z"
   },
   {
    "duration": 280,
    "start_time": "2022-02-06T07:12:39.343Z"
   },
   {
    "duration": 379,
    "start_time": "2022-02-06T07:12:39.625Z"
   },
   {
    "duration": 317,
    "start_time": "2022-02-06T07:12:40.006Z"
   },
   {
    "duration": 297,
    "start_time": "2022-02-06T07:12:40.325Z"
   },
   {
    "duration": 299,
    "start_time": "2022-02-06T07:12:40.624Z"
   },
   {
    "duration": 12,
    "start_time": "2022-02-06T07:12:40.925Z"
   },
   {
    "duration": 294,
    "start_time": "2022-02-06T07:12:40.939Z"
   },
   {
    "duration": 294,
    "start_time": "2022-02-06T07:12:41.235Z"
   },
   {
    "duration": 292,
    "start_time": "2022-02-06T07:12:41.531Z"
   },
   {
    "duration": 313,
    "start_time": "2022-02-06T07:12:41.825Z"
   },
   {
    "duration": 15,
    "start_time": "2022-02-06T07:12:42.140Z"
   },
   {
    "duration": 15,
    "start_time": "2022-02-06T07:12:42.157Z"
   },
   {
    "duration": 15,
    "start_time": "2022-02-06T07:12:42.174Z"
   },
   {
    "duration": 44,
    "start_time": "2022-02-06T07:12:42.191Z"
   },
   {
    "duration": 2,
    "start_time": "2022-02-06T07:12:42.237Z"
   },
   {
    "duration": 12,
    "start_time": "2022-02-06T07:12:42.241Z"
   },
   {
    "duration": 6,
    "start_time": "2022-02-06T07:12:42.255Z"
   },
   {
    "duration": 8,
    "start_time": "2022-02-06T07:12:42.263Z"
   },
   {
    "duration": 7,
    "start_time": "2022-02-06T07:12:42.273Z"
   },
   {
    "duration": 200,
    "start_time": "2022-02-06T08:11:53.009Z"
   },
   {
    "duration": 78,
    "start_time": "2022-02-06T08:14:52.909Z"
   },
   {
    "duration": 349,
    "start_time": "2022-02-06T08:14:59.514Z"
   },
   {
    "duration": 255,
    "start_time": "2022-02-06T08:15:42.652Z"
   },
   {
    "duration": 394,
    "start_time": "2022-02-06T08:16:16.036Z"
   },
   {
    "duration": 412,
    "start_time": "2022-02-06T08:16:25.979Z"
   },
   {
    "duration": 433,
    "start_time": "2022-02-06T08:16:53.647Z"
   },
   {
    "duration": 262,
    "start_time": "2022-02-06T08:17:02.651Z"
   },
   {
    "duration": 233,
    "start_time": "2022-02-06T08:20:44.350Z"
   },
   {
    "duration": 201,
    "start_time": "2022-02-06T08:20:54.919Z"
   },
   {
    "duration": 189,
    "start_time": "2022-02-06T08:21:17.765Z"
   },
   {
    "duration": 194,
    "start_time": "2022-02-06T08:21:52.758Z"
   },
   {
    "duration": 204,
    "start_time": "2022-02-06T08:22:00.970Z"
   },
   {
    "duration": 384,
    "start_time": "2022-02-06T08:23:16.242Z"
   },
   {
    "duration": 139,
    "start_time": "2022-02-06T08:24:31.306Z"
   },
   {
    "duration": 565,
    "start_time": "2022-02-06T08:24:47.768Z"
   },
   {
    "duration": 253,
    "start_time": "2022-02-06T08:25:05.957Z"
   },
   {
    "duration": 252,
    "start_time": "2022-02-06T08:25:18.163Z"
   },
   {
    "duration": 206,
    "start_time": "2022-02-06T08:25:30.840Z"
   },
   {
    "duration": 188,
    "start_time": "2022-02-06T08:27:45.249Z"
   },
   {
    "duration": 286,
    "start_time": "2022-02-06T08:28:03.648Z"
   },
   {
    "duration": 226,
    "start_time": "2022-02-06T08:30:09.501Z"
   },
   {
    "duration": 249,
    "start_time": "2022-02-06T08:30:50.793Z"
   },
   {
    "duration": 228,
    "start_time": "2022-02-06T08:31:06.237Z"
   },
   {
    "duration": 514,
    "start_time": "2022-02-06T08:31:24.566Z"
   },
   {
    "duration": 239,
    "start_time": "2022-02-06T08:31:35.621Z"
   },
   {
    "duration": 14,
    "start_time": "2022-02-06T08:34:47.936Z"
   },
   {
    "duration": 9,
    "start_time": "2022-02-06T08:35:26.192Z"
   },
   {
    "duration": 4,
    "start_time": "2022-02-06T08:35:27.270Z"
   },
   {
    "duration": 7,
    "start_time": "2022-02-06T08:35:43.921Z"
   },
   {
    "duration": 297,
    "start_time": "2022-02-06T08:35:44.525Z"
   },
   {
    "duration": 654,
    "start_time": "2022-02-06T08:36:20.464Z"
   },
   {
    "duration": 47,
    "start_time": "2022-02-06T08:36:21.120Z"
   },
   {
    "duration": 10,
    "start_time": "2022-02-06T08:36:21.169Z"
   },
   {
    "duration": 19,
    "start_time": "2022-02-06T08:36:21.181Z"
   },
   {
    "duration": 235,
    "start_time": "2022-02-06T08:36:21.202Z"
   },
   {
    "duration": 13,
    "start_time": "2022-02-06T08:36:21.439Z"
   },
   {
    "duration": 19,
    "start_time": "2022-02-06T08:36:21.454Z"
   },
   {
    "duration": 47,
    "start_time": "2022-02-06T08:36:21.476Z"
   },
   {
    "duration": 9,
    "start_time": "2022-02-06T08:36:21.525Z"
   },
   {
    "duration": 5,
    "start_time": "2022-02-06T08:36:21.536Z"
   },
   {
    "duration": 1733,
    "start_time": "2022-02-06T08:36:21.543Z"
   },
   {
    "duration": 12,
    "start_time": "2022-02-06T08:36:23.278Z"
   },
   {
    "duration": 34,
    "start_time": "2022-02-06T08:36:23.292Z"
   },
   {
    "duration": 181,
    "start_time": "2022-02-06T08:36:23.328Z"
   },
   {
    "duration": 43,
    "start_time": "2022-02-06T08:36:23.511Z"
   },
   {
    "duration": 13,
    "start_time": "2022-02-06T08:36:23.556Z"
   },
   {
    "duration": 3,
    "start_time": "2022-02-06T08:36:23.571Z"
   },
   {
    "duration": 15,
    "start_time": "2022-02-06T08:36:23.576Z"
   },
   {
    "duration": 939,
    "start_time": "2022-02-06T08:36:23.593Z"
   },
   {
    "duration": 237,
    "start_time": "2022-02-06T08:36:24.534Z"
   },
   {
    "duration": 326,
    "start_time": "2022-02-06T08:36:24.773Z"
   },
   {
    "duration": 52351,
    "start_time": "2022-02-06T08:35:32.751Z"
   },
   {
    "duration": 52345,
    "start_time": "2022-02-06T08:35:32.759Z"
   },
   {
    "duration": 52331,
    "start_time": "2022-02-06T08:35:32.774Z"
   },
   {
    "duration": 52313,
    "start_time": "2022-02-06T08:35:32.794Z"
   },
   {
    "duration": 52296,
    "start_time": "2022-02-06T08:35:32.812Z"
   },
   {
    "duration": 52276,
    "start_time": "2022-02-06T08:35:32.834Z"
   },
   {
    "duration": 52270,
    "start_time": "2022-02-06T08:35:32.841Z"
   },
   {
    "duration": 52264,
    "start_time": "2022-02-06T08:35:32.848Z"
   },
   {
    "duration": 52260,
    "start_time": "2022-02-06T08:35:32.854Z"
   },
   {
    "duration": 52255,
    "start_time": "2022-02-06T08:35:32.860Z"
   },
   {
    "duration": 52249,
    "start_time": "2022-02-06T08:35:32.867Z"
   },
   {
    "duration": 52244,
    "start_time": "2022-02-06T08:35:32.873Z"
   },
   {
    "duration": 52238,
    "start_time": "2022-02-06T08:35:32.880Z"
   },
   {
    "duration": 52232,
    "start_time": "2022-02-06T08:35:32.887Z"
   },
   {
    "duration": 52227,
    "start_time": "2022-02-06T08:35:32.893Z"
   },
   {
    "duration": 52222,
    "start_time": "2022-02-06T08:35:32.899Z"
   },
   {
    "duration": 52217,
    "start_time": "2022-02-06T08:35:32.906Z"
   },
   {
    "duration": 52212,
    "start_time": "2022-02-06T08:35:32.912Z"
   },
   {
    "duration": 52207,
    "start_time": "2022-02-06T08:35:32.919Z"
   },
   {
    "duration": 52201,
    "start_time": "2022-02-06T08:35:32.926Z"
   },
   {
    "duration": 52181,
    "start_time": "2022-02-06T08:35:32.947Z"
   },
   {
    "duration": 52177,
    "start_time": "2022-02-06T08:35:32.953Z"
   },
   {
    "duration": 52171,
    "start_time": "2022-02-06T08:35:32.960Z"
   },
   {
    "duration": 52166,
    "start_time": "2022-02-06T08:35:32.966Z"
   },
   {
    "duration": 52161,
    "start_time": "2022-02-06T08:35:32.973Z"
   },
   {
    "duration": 52155,
    "start_time": "2022-02-06T08:35:32.980Z"
   },
   {
    "duration": 30,
    "start_time": "2022-02-06T08:36:44.103Z"
   },
   {
    "duration": 9,
    "start_time": "2022-02-06T08:37:11.822Z"
   },
   {
    "duration": 27,
    "start_time": "2022-02-06T08:37:52.310Z"
   },
   {
    "duration": 9,
    "start_time": "2022-02-06T08:39:04.667Z"
   },
   {
    "duration": 4,
    "start_time": "2022-02-06T08:39:05.676Z"
   },
   {
    "duration": 7,
    "start_time": "2022-02-06T08:39:07.015Z"
   },
   {
    "duration": 310,
    "start_time": "2022-02-06T08:39:08.161Z"
   },
   {
    "duration": 681,
    "start_time": "2022-02-06T08:39:24.719Z"
   },
   {
    "duration": 47,
    "start_time": "2022-02-06T08:39:25.402Z"
   },
   {
    "duration": 9,
    "start_time": "2022-02-06T08:39:25.452Z"
   },
   {
    "duration": 27,
    "start_time": "2022-02-06T08:39:25.463Z"
   },
   {
    "duration": 227,
    "start_time": "2022-02-06T08:39:25.492Z"
   },
   {
    "duration": 13,
    "start_time": "2022-02-06T08:39:25.721Z"
   },
   {
    "duration": 19,
    "start_time": "2022-02-06T08:39:25.736Z"
   },
   {
    "duration": 26,
    "start_time": "2022-02-06T08:39:25.757Z"
   },
   {
    "duration": 37,
    "start_time": "2022-02-06T08:39:25.785Z"
   },
   {
    "duration": 4,
    "start_time": "2022-02-06T08:39:25.824Z"
   },
   {
    "duration": 1715,
    "start_time": "2022-02-06T08:39:25.830Z"
   },
   {
    "duration": 12,
    "start_time": "2022-02-06T08:39:27.547Z"
   },
   {
    "duration": 27,
    "start_time": "2022-02-06T08:39:27.560Z"
   },
   {
    "duration": 190,
    "start_time": "2022-02-06T08:39:27.589Z"
   },
   {
    "duration": 48,
    "start_time": "2022-02-06T08:39:27.780Z"
   },
   {
    "duration": 12,
    "start_time": "2022-02-06T08:39:27.830Z"
   },
   {
    "duration": 16,
    "start_time": "2022-02-06T08:39:27.844Z"
   },
   {
    "duration": 22,
    "start_time": "2022-02-06T08:39:27.862Z"
   },
   {
    "duration": 954,
    "start_time": "2022-02-06T08:39:27.885Z"
   },
   {
    "duration": 226,
    "start_time": "2022-02-06T08:39:28.840Z"
   },
   {
    "duration": 9,
    "start_time": "2022-02-06T08:39:29.068Z"
   },
   {
    "duration": 18,
    "start_time": "2022-02-06T08:39:29.078Z"
   },
   {
    "duration": 8,
    "start_time": "2022-02-06T08:39:29.099Z"
   },
   {
    "duration": 338,
    "start_time": "2022-02-06T08:39:29.109Z"
   },
   {
    "duration": 8,
    "start_time": "2022-02-06T08:39:29.448Z"
   },
   {
    "duration": 286,
    "start_time": "2022-02-06T08:39:29.458Z"
   },
   {
    "duration": 5,
    "start_time": "2022-02-06T08:39:29.746Z"
   },
   {
    "duration": 309,
    "start_time": "2022-02-06T08:39:29.752Z"
   },
   {
    "duration": 386,
    "start_time": "2022-02-06T08:39:30.063Z"
   },
   {
    "duration": 300,
    "start_time": "2022-02-06T08:39:30.451Z"
   },
   {
    "duration": 299,
    "start_time": "2022-02-06T08:39:30.753Z"
   },
   {
    "duration": 285,
    "start_time": "2022-02-06T08:39:31.054Z"
   },
   {
    "duration": 5,
    "start_time": "2022-02-06T08:39:31.341Z"
   },
   {
    "duration": 293,
    "start_time": "2022-02-06T08:39:31.347Z"
   },
   {
    "duration": 278,
    "start_time": "2022-02-06T08:39:31.642Z"
   },
   {
    "duration": 298,
    "start_time": "2022-02-06T08:39:31.922Z"
   },
   {
    "duration": 309,
    "start_time": "2022-02-06T08:39:32.222Z"
   },
   {
    "duration": 13,
    "start_time": "2022-02-06T08:39:32.532Z"
   },
   {
    "duration": 20,
    "start_time": "2022-02-06T08:39:32.547Z"
   },
   {
    "duration": 16,
    "start_time": "2022-02-06T08:39:32.569Z"
   },
   {
    "duration": 41,
    "start_time": "2022-02-06T08:39:32.587Z"
   },
   {
    "duration": 3,
    "start_time": "2022-02-06T08:39:32.630Z"
   },
   {
    "duration": 10,
    "start_time": "2022-02-06T08:39:32.635Z"
   },
   {
    "duration": 8,
    "start_time": "2022-02-06T08:39:32.647Z"
   },
   {
    "duration": 8,
    "start_time": "2022-02-06T08:39:32.657Z"
   },
   {
    "duration": 8,
    "start_time": "2022-02-06T08:39:32.666Z"
   },
   {
    "duration": 303,
    "start_time": "2022-02-06T08:40:18.034Z"
   },
   {
    "duration": 318,
    "start_time": "2022-02-06T08:40:31.685Z"
   },
   {
    "duration": 303,
    "start_time": "2022-02-06T08:40:39.134Z"
   },
   {
    "duration": 264,
    "start_time": "2022-02-06T08:40:45.743Z"
   },
   {
    "duration": 282,
    "start_time": "2022-02-06T08:40:50.464Z"
   },
   {
    "duration": 320,
    "start_time": "2022-02-06T08:40:58.021Z"
   },
   {
    "duration": 6,
    "start_time": "2022-02-06T08:41:01.619Z"
   },
   {
    "duration": 428,
    "start_time": "2022-02-06T08:41:09.434Z"
   },
   {
    "duration": 327,
    "start_time": "2022-02-06T08:41:14.630Z"
   },
   {
    "duration": 335,
    "start_time": "2022-02-06T08:41:19.685Z"
   },
   {
    "duration": 275,
    "start_time": "2022-02-06T08:43:15.448Z"
   },
   {
    "duration": 328,
    "start_time": "2022-02-06T08:57:26.685Z"
   },
   {
    "duration": 268,
    "start_time": "2022-02-06T08:58:31.684Z"
   },
   {
    "duration": 352,
    "start_time": "2022-02-06T08:58:47.459Z"
   },
   {
    "duration": 366,
    "start_time": "2022-02-06T08:59:40.913Z"
   },
   {
    "duration": 374,
    "start_time": "2022-02-06T09:00:22.807Z"
   },
   {
    "duration": 455,
    "start_time": "2022-02-06T09:00:40.354Z"
   },
   {
    "duration": 258,
    "start_time": "2022-02-06T09:01:08.646Z"
   },
   {
    "duration": 561,
    "start_time": "2022-02-06T09:01:22.547Z"
   },
   {
    "duration": 350,
    "start_time": "2022-02-06T09:03:48.243Z"
   },
   {
    "duration": 313,
    "start_time": "2022-02-06T09:04:20.305Z"
   },
   {
    "duration": 10,
    "start_time": "2022-02-06T09:19:17.328Z"
   },
   {
    "duration": 7,
    "start_time": "2022-02-06T09:19:22.255Z"
   },
   {
    "duration": 275,
    "start_time": "2022-02-06T09:23:40.061Z"
   },
   {
    "duration": 12,
    "start_time": "2022-02-06T09:49:15.700Z"
   },
   {
    "duration": 8,
    "start_time": "2022-02-06T09:49:29.550Z"
   },
   {
    "duration": 683,
    "start_time": "2022-02-06T10:06:37.116Z"
   },
   {
    "duration": 47,
    "start_time": "2022-02-06T10:06:37.800Z"
   },
   {
    "duration": 10,
    "start_time": "2022-02-06T10:06:37.852Z"
   },
   {
    "duration": 18,
    "start_time": "2022-02-06T10:06:37.864Z"
   },
   {
    "duration": 243,
    "start_time": "2022-02-06T10:06:37.884Z"
   },
   {
    "duration": 15,
    "start_time": "2022-02-06T10:06:38.129Z"
   },
   {
    "duration": 19,
    "start_time": "2022-02-06T10:06:38.146Z"
   },
   {
    "duration": 26,
    "start_time": "2022-02-06T10:06:38.167Z"
   },
   {
    "duration": 9,
    "start_time": "2022-02-06T10:06:38.219Z"
   },
   {
    "duration": 4,
    "start_time": "2022-02-06T10:06:38.230Z"
   },
   {
    "duration": 1684,
    "start_time": "2022-02-06T10:06:38.236Z"
   },
   {
    "duration": 11,
    "start_time": "2022-02-06T10:06:39.922Z"
   },
   {
    "duration": 16,
    "start_time": "2022-02-06T10:06:39.935Z"
   },
   {
    "duration": 197,
    "start_time": "2022-02-06T10:06:39.953Z"
   },
   {
    "duration": 42,
    "start_time": "2022-02-06T10:06:40.153Z"
   },
   {
    "duration": 34,
    "start_time": "2022-02-06T10:06:40.197Z"
   },
   {
    "duration": 4,
    "start_time": "2022-02-06T10:06:40.232Z"
   },
   {
    "duration": 16,
    "start_time": "2022-02-06T10:06:40.238Z"
   },
   {
    "duration": 1027,
    "start_time": "2022-02-06T10:06:40.255Z"
   },
   {
    "duration": 301,
    "start_time": "2022-02-06T10:06:41.291Z"
   },
   {
    "duration": 10,
    "start_time": "2022-02-06T10:06:41.594Z"
   },
   {
    "duration": 13,
    "start_time": "2022-02-06T10:06:41.609Z"
   },
   {
    "duration": 8,
    "start_time": "2022-02-06T10:06:41.624Z"
   },
   {
    "duration": 351,
    "start_time": "2022-02-06T10:06:41.634Z"
   },
   {
    "duration": 8,
    "start_time": "2022-02-06T10:06:41.986Z"
   },
   {
    "duration": 332,
    "start_time": "2022-02-06T10:06:41.995Z"
   },
   {
    "duration": 5,
    "start_time": "2022-02-06T10:06:42.329Z"
   },
   {
    "duration": 287,
    "start_time": "2022-02-06T10:06:42.336Z"
   },
   {
    "duration": 431,
    "start_time": "2022-02-06T10:06:42.625Z"
   },
   {
    "duration": 327,
    "start_time": "2022-02-06T10:06:43.058Z"
   },
   {
    "duration": 346,
    "start_time": "2022-02-06T10:06:43.387Z"
   },
   {
    "duration": 296,
    "start_time": "2022-02-06T10:06:43.735Z"
   },
   {
    "duration": 5,
    "start_time": "2022-02-06T10:06:44.032Z"
   },
   {
    "duration": 322,
    "start_time": "2022-02-06T10:06:44.038Z"
   },
   {
    "duration": 302,
    "start_time": "2022-02-06T10:06:44.362Z"
   },
   {
    "duration": 295,
    "start_time": "2022-02-06T10:06:44.666Z"
   },
   {
    "duration": 333,
    "start_time": "2022-02-06T10:06:44.962Z"
   },
   {
    "duration": 27,
    "start_time": "2022-02-06T10:06:45.297Z"
   },
   {
    "duration": 20,
    "start_time": "2022-02-06T10:06:45.326Z"
   },
   {
    "duration": 351,
    "start_time": "2022-02-06T10:06:45.348Z"
   },
   {
    "duration": 26,
    "start_time": "2022-02-06T10:06:45.701Z"
   },
   {
    "duration": 2,
    "start_time": "2022-02-06T10:06:45.729Z"
   },
   {
    "duration": 22,
    "start_time": "2022-02-06T10:06:45.733Z"
   },
   {
    "duration": 6,
    "start_time": "2022-02-06T10:06:45.757Z"
   },
   {
    "duration": 13,
    "start_time": "2022-02-06T10:06:45.765Z"
   },
   {
    "duration": 9,
    "start_time": "2022-02-06T10:06:45.779Z"
   },
   {
    "duration": 26,
    "start_time": "2022-02-06T10:22:40.857Z"
   },
   {
    "duration": 12,
    "start_time": "2022-02-06T10:22:52.603Z"
   },
   {
    "duration": 649,
    "start_time": "2022-02-06T10:22:58.446Z"
   },
   {
    "duration": 45,
    "start_time": "2022-02-06T10:22:59.097Z"
   },
   {
    "duration": 9,
    "start_time": "2022-02-06T10:22:59.145Z"
   },
   {
    "duration": 23,
    "start_time": "2022-02-06T10:22:59.156Z"
   },
   {
    "duration": 240,
    "start_time": "2022-02-06T10:22:59.180Z"
   },
   {
    "duration": 14,
    "start_time": "2022-02-06T10:22:59.421Z"
   },
   {
    "duration": 22,
    "start_time": "2022-02-06T10:22:59.437Z"
   },
   {
    "duration": 25,
    "start_time": "2022-02-06T10:22:59.461Z"
   },
   {
    "duration": 35,
    "start_time": "2022-02-06T10:22:59.488Z"
   },
   {
    "duration": 4,
    "start_time": "2022-02-06T10:22:59.525Z"
   },
   {
    "duration": 1788,
    "start_time": "2022-02-06T10:22:59.531Z"
   },
   {
    "duration": 13,
    "start_time": "2022-02-06T10:23:01.321Z"
   },
   {
    "duration": 18,
    "start_time": "2022-02-06T10:23:01.336Z"
   },
   {
    "duration": 204,
    "start_time": "2022-02-06T10:23:01.355Z"
   },
   {
    "duration": 41,
    "start_time": "2022-02-06T10:23:01.561Z"
   },
   {
    "duration": 16,
    "start_time": "2022-02-06T10:23:01.618Z"
   },
   {
    "duration": 38,
    "start_time": "2022-02-06T10:23:01.637Z"
   },
   {
    "duration": 26,
    "start_time": "2022-02-06T10:23:01.677Z"
   },
   {
    "duration": 951,
    "start_time": "2022-02-06T10:23:01.705Z"
   },
   {
    "duration": 248,
    "start_time": "2022-02-06T10:23:02.657Z"
   },
   {
    "duration": 16,
    "start_time": "2022-02-06T10:23:02.907Z"
   },
   {
    "duration": 7,
    "start_time": "2022-02-06T10:23:02.925Z"
   },
   {
    "duration": 7,
    "start_time": "2022-02-06T10:23:02.936Z"
   },
   {
    "duration": 334,
    "start_time": "2022-02-06T10:23:02.945Z"
   },
   {
    "duration": 8,
    "start_time": "2022-02-06T10:23:03.281Z"
   },
   {
    "duration": 315,
    "start_time": "2022-02-06T10:23:03.291Z"
   },
   {
    "duration": 14,
    "start_time": "2022-02-06T10:23:03.608Z"
   },
   {
    "duration": 319,
    "start_time": "2022-02-06T10:23:03.624Z"
   },
   {
    "duration": 396,
    "start_time": "2022-02-06T10:23:03.945Z"
   },
   {
    "duration": 297,
    "start_time": "2022-02-06T10:23:04.343Z"
   },
   {
    "duration": 286,
    "start_time": "2022-02-06T10:23:04.641Z"
   },
   {
    "duration": 297,
    "start_time": "2022-02-06T10:23:04.929Z"
   },
   {
    "duration": 6,
    "start_time": "2022-02-06T10:23:05.228Z"
   },
   {
    "duration": 317,
    "start_time": "2022-02-06T10:23:05.237Z"
   },
   {
    "duration": 302,
    "start_time": "2022-02-06T10:23:05.556Z"
   },
   {
    "duration": 322,
    "start_time": "2022-02-06T10:23:05.860Z"
   },
   {
    "duration": 361,
    "start_time": "2022-02-06T10:23:06.184Z"
   },
   {
    "duration": 14,
    "start_time": "2022-02-06T10:23:06.547Z"
   },
   {
    "duration": 16,
    "start_time": "2022-02-06T10:23:06.563Z"
   },
   {
    "duration": 341,
    "start_time": "2022-02-06T10:23:06.581Z"
   },
   {
    "duration": 16,
    "start_time": "2022-02-06T10:23:06.924Z"
   },
   {
    "duration": 3,
    "start_time": "2022-02-06T10:23:06.942Z"
   },
   {
    "duration": 15,
    "start_time": "2022-02-06T10:23:06.946Z"
   },
   {
    "duration": 9,
    "start_time": "2022-02-06T10:23:06.963Z"
   },
   {
    "duration": 43,
    "start_time": "2022-02-06T10:23:06.975Z"
   },
   {
    "duration": 9,
    "start_time": "2022-02-06T10:23:07.021Z"
   },
   {
    "duration": 294,
    "start_time": "2022-02-06T10:23:47.561Z"
   }
  ],
  "kernelspec": {
   "display_name": "Python 3 (ipykernel)",
   "language": "python",
   "name": "python3"
  },
  "language_info": {
   "codemirror_mode": {
    "name": "ipython",
    "version": 3
   },
   "file_extension": ".py",
   "mimetype": "text/x-python",
   "name": "python",
   "nbconvert_exporter": "python",
   "pygments_lexer": "ipython3",
   "version": "3.9.5"
  },
  "toc": {
   "base_numbering": 1,
   "nav_menu": {},
   "number_sections": true,
   "sideBar": true,
   "skip_h1_title": true,
   "title_cell": "Table of Contents",
   "title_sidebar": "Contents",
   "toc_cell": false,
   "toc_position": {},
   "toc_section_display": true,
   "toc_window_display": false
  }
 },
 "nbformat": 4,
 "nbformat_minor": 2
}
