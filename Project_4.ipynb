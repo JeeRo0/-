{
 "cells": [
  {
   "cell_type": "markdown",
   "metadata": {},
   "source": [
    "# Определение перспективного тарифа для телеком-компании"
   ]
  },
  {
   "cell_type": "markdown",
   "metadata": {},
   "source": [
    "Описание проекта:"
   ]
  },
  {
   "cell_type": "markdown",
   "metadata": {},
   "source": [
    "Клиентам предлагают два тарифных плана: «Смарт» и «Ультра». Чтобы скорректировать рекламный бюджет, коммерческий департамент хочет понять, какой тариф приносит больше денег."
   ]
  },
  {
   "cell_type": "markdown",
   "metadata": {},
   "source": [
    "В нашем распоряжении данные 500 пользователей «Мегалайна»: кто они, откуда, каким тарифом пользуются, сколько звонков и сообщений каждый отправил за 2018 год. Нужно проанализировать поведение клиентов и сделать вывод — какой тариф лучше."
   ]
  },
  {
   "cell_type": "markdown",
   "metadata": {},
   "source": [
    "# Содержание проекта"
   ]
  },
  {
   "cell_type": "markdown",
   "metadata": {},
   "source": [
    "<b> Шаг 1. Изучить общую информацию   <b>\n",
    "    \n",
    "Доступные данные:\n",
    "    \n",
    "- /datasets/calls.csv. \n",
    "    \n",
    "- /datasets/internet.csv. \n",
    "    \n",
    "- /datasets/messages.csv.\n",
    "    \n",
    "- /datasets/tariffs.csv.\n",
    "    \n",
    "- /datasets/users.csv. \n",
    "  "
   ]
  },
  {
   "cell_type": "markdown",
   "metadata": {},
   "source": [
    "<b> Шаг 2. Подготовка данных <b>\n",
    "    \n",
    "- Приведите данные к нужным типам;\n",
    "    \n",
    "- Найдите и исправьте ошибки в данных;\n"
   ]
  },
  {
   "cell_type": "markdown",
   "metadata": {},
   "source": [
    "<b> Шаг 3. Анализ данных <b>\n",
    "    \n",
    "- Опишите поведение клиентов оператора, исходя из выборки;\n",
    "    \n",
    "- Сколько минут разговора, сколько сообщений и какой объём интернет-трафика требуется пользователям каждого тарифа в месяц?\n",
    "    \n",
    "- Посчитайте среднее количество, дисперсию и стандартное отклонение;\n",
    "    \n",
    "- Постройте гистограммы. Опишите распределения."
   ]
  },
  {
   "cell_type": "markdown",
   "metadata": {},
   "source": [
    "<b> Шаг 4. Проверьте гипотезы <b>\n",
    "    \n",
    "- средняя выручка пользователей тарифов «Ультра» и «Смарт» различается;\n",
    "    \n",
    "- средняя выручка пользователей из Москвы отличается от выручки пользователей из других регионов;\n",
    "\n",
    "Поясните:\n",
    "\n",
    "- как вы формулировали нулевую и альтернативную гипотезы;\n",
    "    \n",
    "- какой критерий использовали для проверки гипотез и почему."
   ]
  },
  {
   "cell_type": "markdown",
   "metadata": {},
   "source": [
    "<b> Шаг 5. Общий вывод <b>"
   ]
  },
  {
   "cell_type": "markdown",
   "metadata": {},
   "source": [
    "## Откройте файл с данными и изучите общую информацию"
   ]
  },
  {
   "cell_type": "code",
   "execution_count": 1,
   "metadata": {},
   "outputs": [],
   "source": [
    "import pandas as pd\n",
    "import matplotlib.pyplot as plt"
   ]
  },
  {
   "cell_type": "code",
   "execution_count": 2,
   "metadata": {},
   "outputs": [],
   "source": [
    "df_calls = pd.set_option('display.float_format', '{:,.2f}'.format)\n",
    "df_calls = pd.read_csv('/datasets/calls.csv')"
   ]
  },
  {
   "cell_type": "code",
   "execution_count": 3,
   "metadata": {},
   "outputs": [
    {
     "name": "stdout",
     "output_type": "stream",
     "text": [
      "<class 'pandas.core.frame.DataFrame'>\n",
      "RangeIndex: 202607 entries, 0 to 202606\n",
      "Data columns (total 4 columns):\n",
      "id           202607 non-null object\n",
      "call_date    202607 non-null object\n",
      "duration     202607 non-null float64\n",
      "user_id      202607 non-null int64\n",
      "dtypes: float64(1), int64(1), object(2)\n",
      "memory usage: 6.2+ MB\n"
     ]
    },
    {
     "data": {
      "text/html": [
       "<div>\n",
       "<style scoped>\n",
       "    .dataframe tbody tr th:only-of-type {\n",
       "        vertical-align: middle;\n",
       "    }\n",
       "\n",
       "    .dataframe tbody tr th {\n",
       "        vertical-align: top;\n",
       "    }\n",
       "\n",
       "    .dataframe thead th {\n",
       "        text-align: right;\n",
       "    }\n",
       "</style>\n",
       "<table border=\"1\" class=\"dataframe\">\n",
       "  <thead>\n",
       "    <tr style=\"text-align: right;\">\n",
       "      <th></th>\n",
       "      <th>id</th>\n",
       "      <th>call_date</th>\n",
       "      <th>duration</th>\n",
       "      <th>user_id</th>\n",
       "    </tr>\n",
       "  </thead>\n",
       "  <tbody>\n",
       "    <tr>\n",
       "      <td>0</td>\n",
       "      <td>1000_0</td>\n",
       "      <td>2018-07-25</td>\n",
       "      <td>0.00</td>\n",
       "      <td>1000</td>\n",
       "    </tr>\n",
       "    <tr>\n",
       "      <td>1</td>\n",
       "      <td>1000_1</td>\n",
       "      <td>2018-08-17</td>\n",
       "      <td>0.00</td>\n",
       "      <td>1000</td>\n",
       "    </tr>\n",
       "    <tr>\n",
       "      <td>2</td>\n",
       "      <td>1000_2</td>\n",
       "      <td>2018-06-11</td>\n",
       "      <td>2.85</td>\n",
       "      <td>1000</td>\n",
       "    </tr>\n",
       "    <tr>\n",
       "      <td>3</td>\n",
       "      <td>1000_3</td>\n",
       "      <td>2018-09-21</td>\n",
       "      <td>13.80</td>\n",
       "      <td>1000</td>\n",
       "    </tr>\n",
       "    <tr>\n",
       "      <td>4</td>\n",
       "      <td>1000_4</td>\n",
       "      <td>2018-12-15</td>\n",
       "      <td>5.18</td>\n",
       "      <td>1000</td>\n",
       "    </tr>\n",
       "    <tr>\n",
       "      <td>5</td>\n",
       "      <td>1000_5</td>\n",
       "      <td>2018-11-02</td>\n",
       "      <td>0.00</td>\n",
       "      <td>1000</td>\n",
       "    </tr>\n",
       "    <tr>\n",
       "      <td>6</td>\n",
       "      <td>1000_6</td>\n",
       "      <td>2018-10-18</td>\n",
       "      <td>0.00</td>\n",
       "      <td>1000</td>\n",
       "    </tr>\n",
       "    <tr>\n",
       "      <td>7</td>\n",
       "      <td>1000_7</td>\n",
       "      <td>2018-08-22</td>\n",
       "      <td>18.31</td>\n",
       "      <td>1000</td>\n",
       "    </tr>\n",
       "    <tr>\n",
       "      <td>8</td>\n",
       "      <td>1000_8</td>\n",
       "      <td>2018-09-15</td>\n",
       "      <td>18.44</td>\n",
       "      <td>1000</td>\n",
       "    </tr>\n",
       "    <tr>\n",
       "      <td>9</td>\n",
       "      <td>1000_9</td>\n",
       "      <td>2018-08-15</td>\n",
       "      <td>0.00</td>\n",
       "      <td>1000</td>\n",
       "    </tr>\n",
       "  </tbody>\n",
       "</table>\n",
       "</div>"
      ],
      "text/plain": [
       "       id   call_date  duration  user_id\n",
       "0  1000_0  2018-07-25      0.00     1000\n",
       "1  1000_1  2018-08-17      0.00     1000\n",
       "2  1000_2  2018-06-11      2.85     1000\n",
       "3  1000_3  2018-09-21     13.80     1000\n",
       "4  1000_4  2018-12-15      5.18     1000\n",
       "5  1000_5  2018-11-02      0.00     1000\n",
       "6  1000_6  2018-10-18      0.00     1000\n",
       "7  1000_7  2018-08-22     18.31     1000\n",
       "8  1000_8  2018-09-15     18.44     1000\n",
       "9  1000_9  2018-08-15      0.00     1000"
      ]
     },
     "execution_count": 3,
     "metadata": {},
     "output_type": "execute_result"
    }
   ],
   "source": [
    "df_calls.info()\n",
    "df_calls.head(10)"
   ]
  },
  {
   "cell_type": "code",
   "execution_count": 4,
   "metadata": {},
   "outputs": [
    {
     "data": {
      "text/plain": [
       "Text(0.5, 0, 'Минут')"
      ]
     },
     "execution_count": 4,
     "metadata": {},
     "output_type": "execute_result"
    },
    {
     "data": {
      "image/png": "[encoded data removed]",
      "text/plain": [
       "<Figure size 432x288 with 1 Axes>"
      ]
     },
     "metadata": {
      "needs_background": "light"
     },
     "output_type": "display_data"
    }
   ],
   "source": [
    "df_calls['duration'].hist(bins=50)\n",
    "plt.xlabel('Минут')"
   ]
  },
  {
   "cell_type": "markdown",
   "metadata": {},
   "source": [
    "Вывод: Пропусков нет, столбец call_date необходимо заменить тип на datetime."
   ]
  },
  {
   "cell_type": "code",
   "execution_count": 5,
   "metadata": {},
   "outputs": [],
   "source": [
    "df_internet = pd.set_option('display.float_format', '{:,.2f}'.format)\n",
    "df_internet = pd.read_csv('/datasets/internet.csv')"
   ]
  },
  {
   "cell_type": "code",
   "execution_count": 6,
   "metadata": {},
   "outputs": [
    {
     "name": "stdout",
     "output_type": "stream",
     "text": [
      "<class 'pandas.core.frame.DataFrame'>\n",
      "RangeIndex: 149396 entries, 0 to 149395\n",
      "Data columns (total 5 columns):\n",
      "Unnamed: 0      149396 non-null int64\n",
      "id              149396 non-null object\n",
      "mb_used         149396 non-null float64\n",
      "session_date    149396 non-null object\n",
      "user_id         149396 non-null int64\n",
      "dtypes: float64(1), int64(2), object(2)\n",
      "memory usage: 5.7+ MB\n"
     ]
    },
    {
     "data": {
      "text/html": [
       "<div>\n",
       "<style scoped>\n",
       "    .dataframe tbody tr th:only-of-type {\n",
       "        vertical-align: middle;\n",
       "    }\n",
       "\n",
       "    .dataframe tbody tr th {\n",
       "        vertical-align: top;\n",
       "    }\n",
       "\n",
       "    .dataframe thead th {\n",
       "        text-align: right;\n",
       "    }\n",
       "</style>\n",
       "<table border=\"1\" class=\"dataframe\">\n",
       "  <thead>\n",
       "    <tr style=\"text-align: right;\">\n",
       "      <th></th>\n",
       "      <th>Unnamed: 0</th>\n",
       "      <th>id</th>\n",
       "      <th>mb_used</th>\n",
       "      <th>session_date</th>\n",
       "      <th>user_id</th>\n",
       "    </tr>\n",
       "  </thead>\n",
       "  <tbody>\n",
       "    <tr>\n",
       "      <td>0</td>\n",
       "      <td>0</td>\n",
       "      <td>1000_0</td>\n",
       "      <td>112.95</td>\n",
       "      <td>2018-11-25</td>\n",
       "      <td>1000</td>\n",
       "    </tr>\n",
       "    <tr>\n",
       "      <td>1</td>\n",
       "      <td>1</td>\n",
       "      <td>1000_1</td>\n",
       "      <td>1,052.81</td>\n",
       "      <td>2018-09-07</td>\n",
       "      <td>1000</td>\n",
       "    </tr>\n",
       "    <tr>\n",
       "      <td>2</td>\n",
       "      <td>2</td>\n",
       "      <td>1000_2</td>\n",
       "      <td>1,197.26</td>\n",
       "      <td>2018-06-25</td>\n",
       "      <td>1000</td>\n",
       "    </tr>\n",
       "    <tr>\n",
       "      <td>3</td>\n",
       "      <td>3</td>\n",
       "      <td>1000_3</td>\n",
       "      <td>550.27</td>\n",
       "      <td>2018-08-22</td>\n",
       "      <td>1000</td>\n",
       "    </tr>\n",
       "    <tr>\n",
       "      <td>4</td>\n",
       "      <td>4</td>\n",
       "      <td>1000_4</td>\n",
       "      <td>302.56</td>\n",
       "      <td>2018-09-24</td>\n",
       "      <td>1000</td>\n",
       "    </tr>\n",
       "    <tr>\n",
       "      <td>5</td>\n",
       "      <td>5</td>\n",
       "      <td>1000_5</td>\n",
       "      <td>399.97</td>\n",
       "      <td>2018-10-02</td>\n",
       "      <td>1000</td>\n",
       "    </tr>\n",
       "    <tr>\n",
       "      <td>6</td>\n",
       "      <td>6</td>\n",
       "      <td>1000_6</td>\n",
       "      <td>540.08</td>\n",
       "      <td>2018-09-07</td>\n",
       "      <td>1000</td>\n",
       "    </tr>\n",
       "    <tr>\n",
       "      <td>7</td>\n",
       "      <td>7</td>\n",
       "      <td>1000_7</td>\n",
       "      <td>415.70</td>\n",
       "      <td>2018-07-11</td>\n",
       "      <td>1000</td>\n",
       "    </tr>\n",
       "    <tr>\n",
       "      <td>8</td>\n",
       "      <td>8</td>\n",
       "      <td>1000_8</td>\n",
       "      <td>505.40</td>\n",
       "      <td>2018-10-08</td>\n",
       "      <td>1000</td>\n",
       "    </tr>\n",
       "    <tr>\n",
       "      <td>9</td>\n",
       "      <td>9</td>\n",
       "      <td>1000_9</td>\n",
       "      <td>345.54</td>\n",
       "      <td>2018-09-03</td>\n",
       "      <td>1000</td>\n",
       "    </tr>\n",
       "  </tbody>\n",
       "</table>\n",
       "</div>"
      ],
      "text/plain": [
       "   Unnamed: 0      id  mb_used session_date  user_id\n",
       "0           0  1000_0   112.95   2018-11-25     1000\n",
       "1           1  1000_1 1,052.81   2018-09-07     1000\n",
       "2           2  1000_2 1,197.26   2018-06-25     1000\n",
       "3           3  1000_3   550.27   2018-08-22     1000\n",
       "4           4  1000_4   302.56   2018-09-24     1000\n",
       "5           5  1000_5   399.97   2018-10-02     1000\n",
       "6           6  1000_6   540.08   2018-09-07     1000\n",
       "7           7  1000_7   415.70   2018-07-11     1000\n",
       "8           8  1000_8   505.40   2018-10-08     1000\n",
       "9           9  1000_9   345.54   2018-09-03     1000"
      ]
     },
     "execution_count": 6,
     "metadata": {},
     "output_type": "execute_result"
    }
   ],
   "source": [
    "df_internet.info()\n",
    "df_internet.head(10)"
   ]
  },
  {
   "cell_type": "code",
   "execution_count": 7,
   "metadata": {},
   "outputs": [
    {
     "data": {
      "text/plain": [
       "Text(0.5, 0, 'МГб')"
      ]
     },
     "execution_count": 7,
     "metadata": {},
     "output_type": "execute_result"
    },
    {
     "data": {
      "image/png": "[encoded data removed]",
      "text/plain": [
       "<Figure size 432x288 with 1 Axes>"
      ]
     },
     "metadata": {
      "needs_background": "light"
     },
     "output_type": "display_data"
    }
   ],
   "source": [
    "df_internet['mb_used'].hist(bins=50)\n",
    "plt.xlabel('МГб')"
   ]
  },
  {
   "cell_type": "markdown",
   "metadata": {},
   "source": [
    "Вывод: Пропусков нет, столбец session_date необходимо заменить тип на datetime."
   ]
  },
  {
   "cell_type": "code",
   "execution_count": 8,
   "metadata": {},
   "outputs": [],
   "source": [
    "df_messages = pd.set_option('display.float_format', '{:,.2f}'.format)\n",
    "df_messages = pd.read_csv('/datasets/messages.csv')"
   ]
  },
  {
   "cell_type": "code",
   "execution_count": 9,
   "metadata": {},
   "outputs": [
    {
     "name": "stdout",
     "output_type": "stream",
     "text": [
      "<class 'pandas.core.frame.DataFrame'>\n",
      "RangeIndex: 123036 entries, 0 to 123035\n",
      "Data columns (total 3 columns):\n",
      "id              123036 non-null object\n",
      "message_date    123036 non-null object\n",
      "user_id         123036 non-null int64\n",
      "dtypes: int64(1), object(2)\n",
      "memory usage: 2.8+ MB\n"
     ]
    },
    {
     "data": {
      "text/html": [
       "<div>\n",
       "<style scoped>\n",
       "    .dataframe tbody tr th:only-of-type {\n",
       "        vertical-align: middle;\n",
       "    }\n",
       "\n",
       "    .dataframe tbody tr th {\n",
       "        vertical-align: top;\n",
       "    }\n",
       "\n",
       "    .dataframe thead th {\n",
       "        text-align: right;\n",
       "    }\n",
       "</style>\n",
       "<table border=\"1\" class=\"dataframe\">\n",
       "  <thead>\n",
       "    <tr style=\"text-align: right;\">\n",
       "      <th></th>\n",
       "      <th>id</th>\n",
       "      <th>message_date</th>\n",
       "      <th>user_id</th>\n",
       "    </tr>\n",
       "  </thead>\n",
       "  <tbody>\n",
       "    <tr>\n",
       "      <td>0</td>\n",
       "      <td>1000_0</td>\n",
       "      <td>2018-06-27</td>\n",
       "      <td>1000</td>\n",
       "    </tr>\n",
       "    <tr>\n",
       "      <td>1</td>\n",
       "      <td>1000_1</td>\n",
       "      <td>2018-10-08</td>\n",
       "      <td>1000</td>\n",
       "    </tr>\n",
       "    <tr>\n",
       "      <td>2</td>\n",
       "      <td>1000_2</td>\n",
       "      <td>2018-08-04</td>\n",
       "      <td>1000</td>\n",
       "    </tr>\n",
       "    <tr>\n",
       "      <td>3</td>\n",
       "      <td>1000_3</td>\n",
       "      <td>2018-06-16</td>\n",
       "      <td>1000</td>\n",
       "    </tr>\n",
       "    <tr>\n",
       "      <td>4</td>\n",
       "      <td>1000_4</td>\n",
       "      <td>2018-12-05</td>\n",
       "      <td>1000</td>\n",
       "    </tr>\n",
       "    <tr>\n",
       "      <td>5</td>\n",
       "      <td>1000_5</td>\n",
       "      <td>2018-06-20</td>\n",
       "      <td>1000</td>\n",
       "    </tr>\n",
       "    <tr>\n",
       "      <td>6</td>\n",
       "      <td>1000_6</td>\n",
       "      <td>2018-11-19</td>\n",
       "      <td>1000</td>\n",
       "    </tr>\n",
       "    <tr>\n",
       "      <td>7</td>\n",
       "      <td>1000_7</td>\n",
       "      <td>2018-10-29</td>\n",
       "      <td>1000</td>\n",
       "    </tr>\n",
       "    <tr>\n",
       "      <td>8</td>\n",
       "      <td>1000_8</td>\n",
       "      <td>2018-06-25</td>\n",
       "      <td>1000</td>\n",
       "    </tr>\n",
       "    <tr>\n",
       "      <td>9</td>\n",
       "      <td>1000_9</td>\n",
       "      <td>2018-12-18</td>\n",
       "      <td>1000</td>\n",
       "    </tr>\n",
       "  </tbody>\n",
       "</table>\n",
       "</div>"
      ],
      "text/plain": [
       "       id message_date  user_id\n",
       "0  1000_0   2018-06-27     1000\n",
       "1  1000_1   2018-10-08     1000\n",
       "2  1000_2   2018-08-04     1000\n",
       "3  1000_3   2018-06-16     1000\n",
       "4  1000_4   2018-12-05     1000\n",
       "5  1000_5   2018-06-20     1000\n",
       "6  1000_6   2018-11-19     1000\n",
       "7  1000_7   2018-10-29     1000\n",
       "8  1000_8   2018-06-25     1000\n",
       "9  1000_9   2018-12-18     1000"
      ]
     },
     "execution_count": 9,
     "metadata": {},
     "output_type": "execute_result"
    }
   ],
   "source": [
    "df_messages.info()\n",
    "df_messages.head(10)"
   ]
  },
  {
   "cell_type": "markdown",
   "metadata": {},
   "source": [
    "Вывод: Пропусков нет, столбец message_date необходимо заменить тип на datetime."
   ]
  },
  {
   "cell_type": "code",
   "execution_count": 10,
   "metadata": {},
   "outputs": [],
   "source": [
    "df_tariffs = pd.set_option('display.float_format', '{:,.2f}'.format)\n",
    "df_tariffs = pd.read_csv('/datasets/tariffs.csv')"
   ]
  },
  {
   "cell_type": "code",
   "execution_count": 11,
   "metadata": {},
   "outputs": [
    {
     "name": "stdout",
     "output_type": "stream",
     "text": [
      "<class 'pandas.core.frame.DataFrame'>\n",
      "RangeIndex: 2 entries, 0 to 1\n",
      "Data columns (total 8 columns):\n",
      "messages_included        2 non-null int64\n",
      "mb_per_month_included    2 non-null int64\n",
      "minutes_included         2 non-null int64\n",
      "rub_monthly_fee          2 non-null int64\n",
      "rub_per_gb               2 non-null int64\n",
      "rub_per_message          2 non-null int64\n",
      "rub_per_minute           2 non-null int64\n",
      "tariff_name              2 non-null object\n",
      "dtypes: int64(7), object(1)\n",
      "memory usage: 256.0+ bytes\n"
     ]
    },
    {
     "data": {
      "text/html": [
       "<div>\n",
       "<style scoped>\n",
       "    .dataframe tbody tr th:only-of-type {\n",
       "        vertical-align: middle;\n",
       "    }\n",
       "\n",
       "    .dataframe tbody tr th {\n",
       "        vertical-align: top;\n",
       "    }\n",
       "\n",
       "    .dataframe thead th {\n",
       "        text-align: right;\n",
       "    }\n",
       "</style>\n",
       "<table border=\"1\" class=\"dataframe\">\n",
       "  <thead>\n",
       "    <tr style=\"text-align: right;\">\n",
       "      <th></th>\n",
       "      <th>messages_included</th>\n",
       "      <th>mb_per_month_included</th>\n",
       "      <th>minutes_included</th>\n",
       "      <th>rub_monthly_fee</th>\n",
       "      <th>rub_per_gb</th>\n",
       "      <th>rub_per_message</th>\n",
       "      <th>rub_per_minute</th>\n",
       "      <th>tariff_name</th>\n",
       "    </tr>\n",
       "  </thead>\n",
       "  <tbody>\n",
       "    <tr>\n",
       "      <td>0</td>\n",
       "      <td>50</td>\n",
       "      <td>15360</td>\n",
       "      <td>500</td>\n",
       "      <td>550</td>\n",
       "      <td>200</td>\n",
       "      <td>3</td>\n",
       "      <td>3</td>\n",
       "      <td>smart</td>\n",
       "    </tr>\n",
       "    <tr>\n",
       "      <td>1</td>\n",
       "      <td>1000</td>\n",
       "      <td>30720</td>\n",
       "      <td>3000</td>\n",
       "      <td>1950</td>\n",
       "      <td>150</td>\n",
       "      <td>1</td>\n",
       "      <td>1</td>\n",
       "      <td>ultra</td>\n",
       "    </tr>\n",
       "  </tbody>\n",
       "</table>\n",
       "</div>"
      ],
      "text/plain": [
       "   messages_included  mb_per_month_included  minutes_included  \\\n",
       "0                 50                  15360               500   \n",
       "1               1000                  30720              3000   \n",
       "\n",
       "   rub_monthly_fee  rub_per_gb  rub_per_message  rub_per_minute tariff_name  \n",
       "0              550         200                3               3       smart  \n",
       "1             1950         150                1               1       ultra  "
      ]
     },
     "execution_count": 11,
     "metadata": {},
     "output_type": "execute_result"
    }
   ],
   "source": [
    "df_tariffs.info()\n",
    "df_tariffs.head(10)"
   ]
  },
  {
   "cell_type": "markdown",
   "metadata": {},
   "source": [
    "Вывод: Данные выглядят нормально."
   ]
  },
  {
   "cell_type": "code",
   "execution_count": 12,
   "metadata": {},
   "outputs": [],
   "source": [
    "df_users = pd.set_option('display.float_format', '{:,.2f}'.format)\n",
    "df_users = pd.read_csv('/datasets/users.csv')"
   ]
  },
  {
   "cell_type": "code",
   "execution_count": 13,
   "metadata": {},
   "outputs": [
    {
     "name": "stdout",
     "output_type": "stream",
     "text": [
      "<class 'pandas.core.frame.DataFrame'>\n",
      "RangeIndex: 500 entries, 0 to 499\n",
      "Data columns (total 8 columns):\n",
      "user_id       500 non-null int64\n",
      "age           500 non-null int64\n",
      "churn_date    38 non-null object\n",
      "city          500 non-null object\n",
      "first_name    500 non-null object\n",
      "last_name     500 non-null object\n",
      "reg_date      500 non-null object\n",
      "tariff        500 non-null object\n",
      "dtypes: int64(2), object(6)\n",
      "memory usage: 31.4+ KB\n"
     ]
    },
    {
     "data": {
      "text/html": [
       "<div>\n",
       "<style scoped>\n",
       "    .dataframe tbody tr th:only-of-type {\n",
       "        vertical-align: middle;\n",
       "    }\n",
       "\n",
       "    .dataframe tbody tr th {\n",
       "        vertical-align: top;\n",
       "    }\n",
       "\n",
       "    .dataframe thead th {\n",
       "        text-align: right;\n",
       "    }\n",
       "</style>\n",
       "<table border=\"1\" class=\"dataframe\">\n",
       "  <thead>\n",
       "    <tr style=\"text-align: right;\">\n",
       "      <th></th>\n",
       "      <th>user_id</th>\n",
       "      <th>age</th>\n",
       "      <th>churn_date</th>\n",
       "      <th>city</th>\n",
       "      <th>first_name</th>\n",
       "      <th>last_name</th>\n",
       "      <th>reg_date</th>\n",
       "      <th>tariff</th>\n",
       "    </tr>\n",
       "  </thead>\n",
       "  <tbody>\n",
       "    <tr>\n",
       "      <td>0</td>\n",
       "      <td>1000</td>\n",
       "      <td>52</td>\n",
       "      <td>NaN</td>\n",
       "      <td>Краснодар</td>\n",
       "      <td>Рафаил</td>\n",
       "      <td>Верещагин</td>\n",
       "      <td>2018-05-25</td>\n",
       "      <td>ultra</td>\n",
       "    </tr>\n",
       "    <tr>\n",
       "      <td>1</td>\n",
       "      <td>1001</td>\n",
       "      <td>41</td>\n",
       "      <td>NaN</td>\n",
       "      <td>Москва</td>\n",
       "      <td>Иван</td>\n",
       "      <td>Ежов</td>\n",
       "      <td>2018-11-01</td>\n",
       "      <td>smart</td>\n",
       "    </tr>\n",
       "    <tr>\n",
       "      <td>2</td>\n",
       "      <td>1002</td>\n",
       "      <td>59</td>\n",
       "      <td>NaN</td>\n",
       "      <td>Стерлитамак</td>\n",
       "      <td>Евгений</td>\n",
       "      <td>Абрамович</td>\n",
       "      <td>2018-06-17</td>\n",
       "      <td>smart</td>\n",
       "    </tr>\n",
       "    <tr>\n",
       "      <td>3</td>\n",
       "      <td>1003</td>\n",
       "      <td>23</td>\n",
       "      <td>NaN</td>\n",
       "      <td>Москва</td>\n",
       "      <td>Белла</td>\n",
       "      <td>Белякова</td>\n",
       "      <td>2018-08-17</td>\n",
       "      <td>ultra</td>\n",
       "    </tr>\n",
       "    <tr>\n",
       "      <td>4</td>\n",
       "      <td>1004</td>\n",
       "      <td>68</td>\n",
       "      <td>NaN</td>\n",
       "      <td>Новокузнецк</td>\n",
       "      <td>Татьяна</td>\n",
       "      <td>Авдеенко</td>\n",
       "      <td>2018-05-14</td>\n",
       "      <td>ultra</td>\n",
       "    </tr>\n",
       "    <tr>\n",
       "      <td>5</td>\n",
       "      <td>1005</td>\n",
       "      <td>67</td>\n",
       "      <td>NaN</td>\n",
       "      <td>Набережные Челны</td>\n",
       "      <td>Афанасий</td>\n",
       "      <td>Горлов</td>\n",
       "      <td>2018-01-25</td>\n",
       "      <td>smart</td>\n",
       "    </tr>\n",
       "    <tr>\n",
       "      <td>6</td>\n",
       "      <td>1006</td>\n",
       "      <td>21</td>\n",
       "      <td>NaN</td>\n",
       "      <td>Ульяновск</td>\n",
       "      <td>Леонид</td>\n",
       "      <td>Ермолаев</td>\n",
       "      <td>2018-02-26</td>\n",
       "      <td>smart</td>\n",
       "    </tr>\n",
       "    <tr>\n",
       "      <td>7</td>\n",
       "      <td>1007</td>\n",
       "      <td>65</td>\n",
       "      <td>NaN</td>\n",
       "      <td>Москва</td>\n",
       "      <td>Юна</td>\n",
       "      <td>Березина</td>\n",
       "      <td>2018-04-19</td>\n",
       "      <td>smart</td>\n",
       "    </tr>\n",
       "    <tr>\n",
       "      <td>8</td>\n",
       "      <td>1008</td>\n",
       "      <td>63</td>\n",
       "      <td>NaN</td>\n",
       "      <td>Челябинск</td>\n",
       "      <td>Рустэм</td>\n",
       "      <td>Пономарёв</td>\n",
       "      <td>2018-12-19</td>\n",
       "      <td>smart</td>\n",
       "    </tr>\n",
       "    <tr>\n",
       "      <td>9</td>\n",
       "      <td>1009</td>\n",
       "      <td>24</td>\n",
       "      <td>NaN</td>\n",
       "      <td>Пермь</td>\n",
       "      <td>Василиса</td>\n",
       "      <td>Блинова</td>\n",
       "      <td>2018-03-22</td>\n",
       "      <td>smart</td>\n",
       "    </tr>\n",
       "  </tbody>\n",
       "</table>\n",
       "</div>"
      ],
      "text/plain": [
       "   user_id  age churn_date              city first_name  last_name  \\\n",
       "0     1000   52        NaN         Краснодар     Рафаил  Верещагин   \n",
       "1     1001   41        NaN            Москва       Иван       Ежов   \n",
       "2     1002   59        NaN       Стерлитамак    Евгений  Абрамович   \n",
       "3     1003   23        NaN            Москва      Белла   Белякова   \n",
       "4     1004   68        NaN       Новокузнецк    Татьяна   Авдеенко   \n",
       "5     1005   67        NaN  Набережные Челны   Афанасий     Горлов   \n",
       "6     1006   21        NaN         Ульяновск     Леонид   Ермолаев   \n",
       "7     1007   65        NaN            Москва        Юна   Березина   \n",
       "8     1008   63        NaN         Челябинск     Рустэм  Пономарёв   \n",
       "9     1009   24        NaN             Пермь   Василиса    Блинова   \n",
       "\n",
       "     reg_date tariff  \n",
       "0  2018-05-25  ultra  \n",
       "1  2018-11-01  smart  \n",
       "2  2018-06-17  smart  \n",
       "3  2018-08-17  ultra  \n",
       "4  2018-05-14  ultra  \n",
       "5  2018-01-25  smart  \n",
       "6  2018-02-26  smart  \n",
       "7  2018-04-19  smart  \n",
       "8  2018-12-19  smart  \n",
       "9  2018-03-22  smart  "
      ]
     },
     "execution_count": 13,
     "metadata": {},
     "output_type": "execute_result"
    }
   ],
   "source": [
    "df_users.info()\n",
    "df_users.head(10)"
   ]
  },
  {
   "cell_type": "markdown",
   "metadata": {},
   "source": [
    "Вывод: Есть пропуски, столбец reg_date необходимо заменить тип на datetime"
   ]
  },
  {
   "cell_type": "markdown",
   "metadata": {},
   "source": [
    "## Подготовка данных"
   ]
  },
  {
   "cell_type": "markdown",
   "metadata": {},
   "source": [
    "«Мегалайн» всегда округляет секунды до минут, а мегабайты — до гигабайт. Каждый звонок округляется отдельно: даже если он длился всего 1 секунду, будет засчитан как 1 минута.\n",
    "Для веб-трафика отдельные сессии не считаются. Вместо этого общая сумма за месяц округляется в бо́льшую сторону. Если абонент использует 1025 мегабайт в этом месяце, с него возьмут плату за 2 гигабайта."
   ]
  },
  {
   "cell_type": "markdown",
   "metadata": {},
   "source": [
    "### Исправляем ошибки в датасете df_calls"
   ]
  },
  {
   "cell_type": "code",
   "execution_count": 14,
   "metadata": {
    "scrolled": true
   },
   "outputs": [
    {
     "name": "stdout",
     "output_type": "stream",
     "text": [
      "<class 'pandas.core.frame.DataFrame'>\n",
      "RangeIndex: 202607 entries, 0 to 202606\n",
      "Data columns (total 4 columns):\n",
      "id           202607 non-null object\n",
      "call_date    202607 non-null datetime64[ns]\n",
      "duration     202607 non-null float64\n",
      "user_id      202607 non-null int64\n",
      "dtypes: datetime64[ns](1), float64(1), int64(1), object(1)\n",
      "memory usage: 6.2+ MB\n"
     ]
    }
   ],
   "source": [
    "# приведем столбец call_date к datatime\n",
    "df_calls['call_date'] = pd.to_datetime(df_calls['call_date'], format='%Y-%m-%d')\n",
    "df_calls.info()"
   ]
  },
  {
   "cell_type": "code",
   "execution_count": 15,
   "metadata": {},
   "outputs": [
    {
     "data": {
      "text/plain": [
       "array([ 0,  3, 14,  6, 19,  8, 10,  5, 13, 16,  9,  2, 15, 11, 24, 12, 23,\n",
       "        7, 20,  1,  4, 17, 21, 18, 25, 22, 27, 26, 29, 28, 30, 37, 31, 33,\n",
       "       34, 32, 36, 35, 38])"
      ]
     },
     "execution_count": 15,
     "metadata": {},
     "output_type": "execute_result"
    }
   ],
   "source": [
    "df_calls['duration'].value_counts()\n",
    "# округляем минуты до целых, меняем тип на инт\n",
    "#df_calls['duration']=round(df_calls['duration'] + 0.45)\n",
    "import numpy as np\n",
    "df_calls['duration'] = np.ceil(df_calls['duration']).astype('int')\n",
    "#df_calls['duration'] = df_calls['duration'].astype('int')\n",
    "df_calls['duration'].unique()"
   ]
  },
  {
   "cell_type": "markdown",
   "metadata": {},
   "source": [
    "### Исправляем ошибки в датасете df_internet"
   ]
  },
  {
   "cell_type": "code",
   "execution_count": 16,
   "metadata": {},
   "outputs": [
    {
     "name": "stdout",
     "output_type": "stream",
     "text": [
      "<class 'pandas.core.frame.DataFrame'>\n",
      "RangeIndex: 149396 entries, 0 to 149395\n",
      "Data columns (total 5 columns):\n",
      "Unnamed: 0      149396 non-null int64\n",
      "id              149396 non-null object\n",
      "mb_used         149396 non-null float64\n",
      "session_date    149396 non-null datetime64[ns]\n",
      "user_id         149396 non-null int64\n",
      "dtypes: datetime64[ns](1), float64(1), int64(2), object(1)\n",
      "memory usage: 5.7+ MB\n"
     ]
    }
   ],
   "source": [
    "# приведем столбец session_date к datetime\n",
    "df_internet['session_date'] = pd.to_datetime(df_internet['session_date'], format='%Y-%m-%d')\n",
    "df_internet.info()"
   ]
  },
  {
   "cell_type": "code",
   "execution_count": 17,
   "metadata": {},
   "outputs": [
    {
     "data": {
      "text/plain": [
       "array([ 112, 1052, 1197, ..., 1345, 1123, 1387])"
      ]
     },
     "execution_count": 17,
     "metadata": {},
     "output_type": "execute_result"
    }
   ],
   "source": [
    "# округлим mb_used до целых, меняем тип на инт\n",
    "#df_internet['mb_used'] = round(df_internet['mb_used'] + 0.45)\n",
    "df_internet['mb_used'] = df_internet['mb_used'].astype('int')\n",
    "df_internet['mb_used'].unique()"
   ]
  },
  {
   "cell_type": "code",
   "execution_count": 18,
   "metadata": {},
   "outputs": [
    {
     "data": {
      "text/html": [
       "<div>\n",
       "<style scoped>\n",
       "    .dataframe tbody tr th:only-of-type {\n",
       "        vertical-align: middle;\n",
       "    }\n",
       "\n",
       "    .dataframe tbody tr th {\n",
       "        vertical-align: top;\n",
       "    }\n",
       "\n",
       "    .dataframe thead th {\n",
       "        text-align: right;\n",
       "    }\n",
       "</style>\n",
       "<table border=\"1\" class=\"dataframe\">\n",
       "  <thead>\n",
       "    <tr style=\"text-align: right;\">\n",
       "      <th></th>\n",
       "      <th>id</th>\n",
       "      <th>mb_used</th>\n",
       "      <th>session_date</th>\n",
       "      <th>user_id</th>\n",
       "    </tr>\n",
       "  </thead>\n",
       "  <tbody>\n",
       "    <tr>\n",
       "      <td>0</td>\n",
       "      <td>1000_0</td>\n",
       "      <td>112</td>\n",
       "      <td>2018-11-25</td>\n",
       "      <td>1000</td>\n",
       "    </tr>\n",
       "    <tr>\n",
       "      <td>1</td>\n",
       "      <td>1000_1</td>\n",
       "      <td>1052</td>\n",
       "      <td>2018-09-07</td>\n",
       "      <td>1000</td>\n",
       "    </tr>\n",
       "    <tr>\n",
       "      <td>2</td>\n",
       "      <td>1000_2</td>\n",
       "      <td>1197</td>\n",
       "      <td>2018-06-25</td>\n",
       "      <td>1000</td>\n",
       "    </tr>\n",
       "    <tr>\n",
       "      <td>3</td>\n",
       "      <td>1000_3</td>\n",
       "      <td>550</td>\n",
       "      <td>2018-08-22</td>\n",
       "      <td>1000</td>\n",
       "    </tr>\n",
       "    <tr>\n",
       "      <td>4</td>\n",
       "      <td>1000_4</td>\n",
       "      <td>302</td>\n",
       "      <td>2018-09-24</td>\n",
       "      <td>1000</td>\n",
       "    </tr>\n",
       "    <tr>\n",
       "      <td>5</td>\n",
       "      <td>1000_5</td>\n",
       "      <td>399</td>\n",
       "      <td>2018-10-02</td>\n",
       "      <td>1000</td>\n",
       "    </tr>\n",
       "    <tr>\n",
       "      <td>6</td>\n",
       "      <td>1000_6</td>\n",
       "      <td>540</td>\n",
       "      <td>2018-09-07</td>\n",
       "      <td>1000</td>\n",
       "    </tr>\n",
       "    <tr>\n",
       "      <td>7</td>\n",
       "      <td>1000_7</td>\n",
       "      <td>415</td>\n",
       "      <td>2018-07-11</td>\n",
       "      <td>1000</td>\n",
       "    </tr>\n",
       "    <tr>\n",
       "      <td>8</td>\n",
       "      <td>1000_8</td>\n",
       "      <td>505</td>\n",
       "      <td>2018-10-08</td>\n",
       "      <td>1000</td>\n",
       "    </tr>\n",
       "    <tr>\n",
       "      <td>9</td>\n",
       "      <td>1000_9</td>\n",
       "      <td>345</td>\n",
       "      <td>2018-09-03</td>\n",
       "      <td>1000</td>\n",
       "    </tr>\n",
       "  </tbody>\n",
       "</table>\n",
       "</div>"
      ],
      "text/plain": [
       "       id  mb_used session_date  user_id\n",
       "0  1000_0      112   2018-11-25     1000\n",
       "1  1000_1     1052   2018-09-07     1000\n",
       "2  1000_2     1197   2018-06-25     1000\n",
       "3  1000_3      550   2018-08-22     1000\n",
       "4  1000_4      302   2018-09-24     1000\n",
       "5  1000_5      399   2018-10-02     1000\n",
       "6  1000_6      540   2018-09-07     1000\n",
       "7  1000_7      415   2018-07-11     1000\n",
       "8  1000_8      505   2018-10-08     1000\n",
       "9  1000_9      345   2018-09-03     1000"
      ]
     },
     "execution_count": 18,
     "metadata": {},
     "output_type": "execute_result"
    }
   ],
   "source": [
    "# Значения столбеца Unnamed совподают с индексами, удалим его.\n",
    "df_internet.drop('Unnamed: 0', axis=1, inplace=True)\n",
    "df_internet.head(10)"
   ]
  },
  {
   "cell_type": "markdown",
   "metadata": {},
   "source": [
    "### Исправляем ошибки в датасете df_messages"
   ]
  },
  {
   "cell_type": "code",
   "execution_count": 19,
   "metadata": {},
   "outputs": [
    {
     "name": "stdout",
     "output_type": "stream",
     "text": [
      "<class 'pandas.core.frame.DataFrame'>\n",
      "RangeIndex: 123036 entries, 0 to 123035\n",
      "Data columns (total 3 columns):\n",
      "id              123036 non-null object\n",
      "message_date    123036 non-null datetime64[ns]\n",
      "user_id         123036 non-null int64\n",
      "dtypes: datetime64[ns](1), int64(1), object(1)\n",
      "memory usage: 2.8+ MB\n"
     ]
    }
   ],
   "source": [
    "# меняем тип данных\n",
    "df_messages['message_date'] = pd.to_datetime(df_messages['message_date'], format='%Y-%m-%d')\n",
    "df_messages.info()"
   ]
  },
  {
   "cell_type": "markdown",
   "metadata": {},
   "source": [
    "### Исправляем ошибки в датасете df_users"
   ]
  },
  {
   "cell_type": "code",
   "execution_count": 20,
   "metadata": {},
   "outputs": [
    {
     "name": "stdout",
     "output_type": "stream",
     "text": [
      "<class 'pandas.core.frame.DataFrame'>\n",
      "RangeIndex: 500 entries, 0 to 499\n",
      "Data columns (total 8 columns):\n",
      "user_id       500 non-null int64\n",
      "age           500 non-null int64\n",
      "churn_date    38 non-null datetime64[ns]\n",
      "city          500 non-null object\n",
      "first_name    500 non-null object\n",
      "last_name     500 non-null object\n",
      "reg_date      500 non-null datetime64[ns]\n",
      "tariff        500 non-null object\n",
      "dtypes: datetime64[ns](2), int64(2), object(4)\n",
      "memory usage: 31.4+ KB\n"
     ]
    }
   ],
   "source": [
    "# меняем тип данных\n",
    "df_users['reg_date'] = pd.to_datetime(df_users['reg_date'], format='%Y-%m-%d')\n",
    "df_users['churn_date'] = pd.to_datetime(df_users['churn_date'], format='%Y-%m-%d')\n",
    "df_users.info()"
   ]
  },
  {
   "cell_type": "markdown",
   "metadata": {},
   "source": [
    "churn_date — дата прекращения пользования тарифом (если значение пропущено, то тариф ещё действовал на момент выгрузки данных). Так как данные имеют значения для заказчика оставим как есть."
   ]
  },
  {
   "cell_type": "code",
   "execution_count": 21,
   "metadata": {},
   "outputs": [
    {
     "data": {
      "text/html": [
       "<div>\n",
       "<style scoped>\n",
       "    .dataframe tbody tr th:only-of-type {\n",
       "        vertical-align: middle;\n",
       "    }\n",
       "\n",
       "    .dataframe tbody tr th {\n",
       "        vertical-align: top;\n",
       "    }\n",
       "\n",
       "    .dataframe thead th {\n",
       "        text-align: right;\n",
       "    }\n",
       "</style>\n",
       "<table border=\"1\" class=\"dataframe\">\n",
       "  <thead>\n",
       "    <tr style=\"text-align: right;\">\n",
       "      <th></th>\n",
       "      <th>user_id</th>\n",
       "      <th>age</th>\n",
       "      <th>churn_date</th>\n",
       "      <th>city</th>\n",
       "      <th>first_name</th>\n",
       "      <th>last_name</th>\n",
       "      <th>reg_date</th>\n",
       "      <th>tariff</th>\n",
       "    </tr>\n",
       "  </thead>\n",
       "  <tbody>\n",
       "    <tr>\n",
       "      <td>495</td>\n",
       "      <td>1495</td>\n",
       "      <td>65</td>\n",
       "      <td>NaT</td>\n",
       "      <td>Иркутск</td>\n",
       "      <td>Авксентий</td>\n",
       "      <td>Фокин</td>\n",
       "      <td>2018-08-28</td>\n",
       "      <td>ultra</td>\n",
       "    </tr>\n",
       "    <tr>\n",
       "      <td>496</td>\n",
       "      <td>1496</td>\n",
       "      <td>36</td>\n",
       "      <td>NaT</td>\n",
       "      <td>Вологда</td>\n",
       "      <td>Трифон</td>\n",
       "      <td>Блохин</td>\n",
       "      <td>2018-01-27</td>\n",
       "      <td>smart</td>\n",
       "    </tr>\n",
       "    <tr>\n",
       "      <td>497</td>\n",
       "      <td>1497</td>\n",
       "      <td>32</td>\n",
       "      <td>NaT</td>\n",
       "      <td>Челябинск</td>\n",
       "      <td>Каролина</td>\n",
       "      <td>Агеева</td>\n",
       "      <td>2018-10-09</td>\n",
       "      <td>smart</td>\n",
       "    </tr>\n",
       "    <tr>\n",
       "      <td>498</td>\n",
       "      <td>1498</td>\n",
       "      <td>68</td>\n",
       "      <td>2018-10-25</td>\n",
       "      <td>Владикавказ</td>\n",
       "      <td>Всеволод</td>\n",
       "      <td>Акимчин</td>\n",
       "      <td>2018-07-19</td>\n",
       "      <td>smart</td>\n",
       "    </tr>\n",
       "    <tr>\n",
       "      <td>499</td>\n",
       "      <td>1499</td>\n",
       "      <td>35</td>\n",
       "      <td>NaT</td>\n",
       "      <td>Пермь</td>\n",
       "      <td>Гектор</td>\n",
       "      <td>Корнилов</td>\n",
       "      <td>2018-09-27</td>\n",
       "      <td>smart</td>\n",
       "    </tr>\n",
       "  </tbody>\n",
       "</table>\n",
       "</div>"
      ],
      "text/plain": [
       "     user_id  age churn_date         city first_name last_name   reg_date  \\\n",
       "495     1495   65        NaT      Иркутск  Авксентий     Фокин 2018-08-28   \n",
       "496     1496   36        NaT      Вологда     Трифон    Блохин 2018-01-27   \n",
       "497     1497   32        NaT    Челябинск   Каролина    Агеева 2018-10-09   \n",
       "498     1498   68 2018-10-25  Владикавказ   Всеволод   Акимчин 2018-07-19   \n",
       "499     1499   35        NaT        Пермь     Гектор  Корнилов 2018-09-27   \n",
       "\n",
       "    tariff  \n",
       "495  ultra  \n",
       "496  smart  \n",
       "497  smart  \n",
       "498  smart  \n",
       "499  smart  "
      ]
     },
     "execution_count": 21,
     "metadata": {},
     "output_type": "execute_result"
    }
   ],
   "source": [
    "df_users.tail()"
   ]
  },
  {
   "cell_type": "markdown",
   "metadata": {},
   "source": [
    "### Проверим на дубликаты"
   ]
  },
  {
   "cell_type": "code",
   "execution_count": 22,
   "metadata": {},
   "outputs": [
    {
     "data": {
      "text/plain": [
       "0"
      ]
     },
     "execution_count": 22,
     "metadata": {},
     "output_type": "execute_result"
    }
   ],
   "source": [
    "df_calls.duplicated().sum()"
   ]
  },
  {
   "cell_type": "code",
   "execution_count": 23,
   "metadata": {},
   "outputs": [
    {
     "data": {
      "text/plain": [
       "0"
      ]
     },
     "execution_count": 23,
     "metadata": {},
     "output_type": "execute_result"
    }
   ],
   "source": [
    "df_internet.duplicated().sum()"
   ]
  },
  {
   "cell_type": "code",
   "execution_count": 24,
   "metadata": {},
   "outputs": [
    {
     "data": {
      "text/plain": [
       "0"
      ]
     },
     "execution_count": 24,
     "metadata": {},
     "output_type": "execute_result"
    }
   ],
   "source": [
    "df_messages.duplicated().sum()"
   ]
  },
  {
   "cell_type": "code",
   "execution_count": 25,
   "metadata": {},
   "outputs": [
    {
     "data": {
      "text/plain": [
       "0"
      ]
     },
     "execution_count": 25,
     "metadata": {},
     "output_type": "execute_result"
    }
   ],
   "source": [
    "df_users.duplicated().sum()"
   ]
  },
  {
   "cell_type": "markdown",
   "metadata": {},
   "source": [
    "Вывод: дубликатов нет."
   ]
  },
  {
   "cell_type": "markdown",
   "metadata": {},
   "source": [
    "### Подсчитаем количество сделанных звонков и израсходованных минут разговора по месяцам"
   ]
  },
  {
   "cell_type": "code",
   "execution_count": 26,
   "metadata": {},
   "outputs": [
    {
     "data": {
      "text/html": [
       "<div>\n",
       "<style scoped>\n",
       "    .dataframe tbody tr th:only-of-type {\n",
       "        vertical-align: middle;\n",
       "    }\n",
       "\n",
       "    .dataframe tbody tr th {\n",
       "        vertical-align: top;\n",
       "    }\n",
       "\n",
       "    .dataframe thead th {\n",
       "        text-align: right;\n",
       "    }\n",
       "</style>\n",
       "<table border=\"1\" class=\"dataframe\">\n",
       "  <thead>\n",
       "    <tr style=\"text-align: right;\">\n",
       "      <th></th>\n",
       "      <th>id</th>\n",
       "      <th>call_date</th>\n",
       "      <th>duration</th>\n",
       "      <th>user_id</th>\n",
       "      <th>month</th>\n",
       "    </tr>\n",
       "  </thead>\n",
       "  <tbody>\n",
       "    <tr>\n",
       "      <td>0</td>\n",
       "      <td>1000_0</td>\n",
       "      <td>2018-07-25</td>\n",
       "      <td>0</td>\n",
       "      <td>1000</td>\n",
       "      <td>7</td>\n",
       "    </tr>\n",
       "    <tr>\n",
       "      <td>1</td>\n",
       "      <td>1000_1</td>\n",
       "      <td>2018-08-17</td>\n",
       "      <td>0</td>\n",
       "      <td>1000</td>\n",
       "      <td>8</td>\n",
       "    </tr>\n",
       "    <tr>\n",
       "      <td>2</td>\n",
       "      <td>1000_2</td>\n",
       "      <td>2018-06-11</td>\n",
       "      <td>3</td>\n",
       "      <td>1000</td>\n",
       "      <td>6</td>\n",
       "    </tr>\n",
       "    <tr>\n",
       "      <td>3</td>\n",
       "      <td>1000_3</td>\n",
       "      <td>2018-09-21</td>\n",
       "      <td>14</td>\n",
       "      <td>1000</td>\n",
       "      <td>9</td>\n",
       "    </tr>\n",
       "    <tr>\n",
       "      <td>4</td>\n",
       "      <td>1000_4</td>\n",
       "      <td>2018-12-15</td>\n",
       "      <td>6</td>\n",
       "      <td>1000</td>\n",
       "      <td>12</td>\n",
       "    </tr>\n",
       "    <tr>\n",
       "      <td>5</td>\n",
       "      <td>1000_5</td>\n",
       "      <td>2018-11-02</td>\n",
       "      <td>0</td>\n",
       "      <td>1000</td>\n",
       "      <td>11</td>\n",
       "    </tr>\n",
       "    <tr>\n",
       "      <td>6</td>\n",
       "      <td>1000_6</td>\n",
       "      <td>2018-10-18</td>\n",
       "      <td>0</td>\n",
       "      <td>1000</td>\n",
       "      <td>10</td>\n",
       "    </tr>\n",
       "    <tr>\n",
       "      <td>7</td>\n",
       "      <td>1000_7</td>\n",
       "      <td>2018-08-22</td>\n",
       "      <td>19</td>\n",
       "      <td>1000</td>\n",
       "      <td>8</td>\n",
       "    </tr>\n",
       "    <tr>\n",
       "      <td>8</td>\n",
       "      <td>1000_8</td>\n",
       "      <td>2018-09-15</td>\n",
       "      <td>19</td>\n",
       "      <td>1000</td>\n",
       "      <td>9</td>\n",
       "    </tr>\n",
       "    <tr>\n",
       "      <td>9</td>\n",
       "      <td>1000_9</td>\n",
       "      <td>2018-08-15</td>\n",
       "      <td>0</td>\n",
       "      <td>1000</td>\n",
       "      <td>8</td>\n",
       "    </tr>\n",
       "  </tbody>\n",
       "</table>\n",
       "</div>"
      ],
      "text/plain": [
       "       id  call_date  duration  user_id  month\n",
       "0  1000_0 2018-07-25         0     1000      7\n",
       "1  1000_1 2018-08-17         0     1000      8\n",
       "2  1000_2 2018-06-11         3     1000      6\n",
       "3  1000_3 2018-09-21        14     1000      9\n",
       "4  1000_4 2018-12-15         6     1000     12\n",
       "5  1000_5 2018-11-02         0     1000     11\n",
       "6  1000_6 2018-10-18         0     1000     10\n",
       "7  1000_7 2018-08-22        19     1000      8\n",
       "8  1000_8 2018-09-15        19     1000      9\n",
       "9  1000_9 2018-08-15         0     1000      8"
      ]
     },
     "execution_count": 26,
     "metadata": {},
     "output_type": "execute_result"
    }
   ],
   "source": [
    "# Добавим к датасету df_calls столбец month\n",
    "df_calls['month'] = pd.DatetimeIndex(df_calls['call_date']).month\n",
    "df_calls.head(10)"
   ]
  },
  {
   "cell_type": "code",
   "execution_count": 27,
   "metadata": {},
   "outputs": [
    {
     "data": {
      "text/html": [
       "<div>\n",
       "<style scoped>\n",
       "    .dataframe tbody tr th:only-of-type {\n",
       "        vertical-align: middle;\n",
       "    }\n",
       "\n",
       "    .dataframe tbody tr th {\n",
       "        vertical-align: top;\n",
       "    }\n",
       "\n",
       "    .dataframe thead th {\n",
       "        text-align: right;\n",
       "    }\n",
       "</style>\n",
       "<table border=\"1\" class=\"dataframe\">\n",
       "  <thead>\n",
       "    <tr style=\"text-align: right;\">\n",
       "      <th></th>\n",
       "      <th>user_id</th>\n",
       "      <th>month</th>\n",
       "      <th>calls</th>\n",
       "      <th>minutes</th>\n",
       "    </tr>\n",
       "  </thead>\n",
       "  <tbody>\n",
       "    <tr>\n",
       "      <td>0</td>\n",
       "      <td>1000</td>\n",
       "      <td>5</td>\n",
       "      <td>22</td>\n",
       "      <td>159</td>\n",
       "    </tr>\n",
       "    <tr>\n",
       "      <td>1</td>\n",
       "      <td>1000</td>\n",
       "      <td>6</td>\n",
       "      <td>43</td>\n",
       "      <td>172</td>\n",
       "    </tr>\n",
       "    <tr>\n",
       "      <td>2</td>\n",
       "      <td>1000</td>\n",
       "      <td>7</td>\n",
       "      <td>47</td>\n",
       "      <td>340</td>\n",
       "    </tr>\n",
       "    <tr>\n",
       "      <td>3</td>\n",
       "      <td>1000</td>\n",
       "      <td>8</td>\n",
       "      <td>52</td>\n",
       "      <td>408</td>\n",
       "    </tr>\n",
       "    <tr>\n",
       "      <td>4</td>\n",
       "      <td>1000</td>\n",
       "      <td>9</td>\n",
       "      <td>58</td>\n",
       "      <td>466</td>\n",
       "    </tr>\n",
       "  </tbody>\n",
       "</table>\n",
       "</div>"
      ],
      "text/plain": [
       "   user_id  month  calls  minutes\n",
       "0     1000      5     22      159\n",
       "1     1000      6     43      172\n",
       "2     1000      7     47      340\n",
       "3     1000      8     52      408\n",
       "4     1000      9     58      466"
      ]
     },
     "execution_count": 27,
     "metadata": {},
     "output_type": "execute_result"
    }
   ],
   "source": [
    "count_calls = df_calls.groupby(['user_id', 'month'])['duration'].agg(['count', 'sum']).reset_index()\n",
    "count_calls.columns = ['user_id', 'month', 'calls', 'minutes']\n",
    "count_calls.head()"
   ]
  },
  {
   "cell_type": "markdown",
   "metadata": {},
   "source": [
    "### Подсчитаем количество отправленных сообщений по месяцам"
   ]
  },
  {
   "cell_type": "code",
   "execution_count": 28,
   "metadata": {},
   "outputs": [
    {
     "data": {
      "text/html": [
       "<div>\n",
       "<style scoped>\n",
       "    .dataframe tbody tr th:only-of-type {\n",
       "        vertical-align: middle;\n",
       "    }\n",
       "\n",
       "    .dataframe tbody tr th {\n",
       "        vertical-align: top;\n",
       "    }\n",
       "\n",
       "    .dataframe thead th {\n",
       "        text-align: right;\n",
       "    }\n",
       "</style>\n",
       "<table border=\"1\" class=\"dataframe\">\n",
       "  <thead>\n",
       "    <tr style=\"text-align: right;\">\n",
       "      <th></th>\n",
       "      <th>id</th>\n",
       "      <th>message_date</th>\n",
       "      <th>user_id</th>\n",
       "      <th>month</th>\n",
       "    </tr>\n",
       "  </thead>\n",
       "  <tbody>\n",
       "    <tr>\n",
       "      <td>0</td>\n",
       "      <td>1000_0</td>\n",
       "      <td>2018-06-27</td>\n",
       "      <td>1000</td>\n",
       "      <td>6</td>\n",
       "    </tr>\n",
       "    <tr>\n",
       "      <td>1</td>\n",
       "      <td>1000_1</td>\n",
       "      <td>2018-10-08</td>\n",
       "      <td>1000</td>\n",
       "      <td>10</td>\n",
       "    </tr>\n",
       "    <tr>\n",
       "      <td>2</td>\n",
       "      <td>1000_2</td>\n",
       "      <td>2018-08-04</td>\n",
       "      <td>1000</td>\n",
       "      <td>8</td>\n",
       "    </tr>\n",
       "    <tr>\n",
       "      <td>3</td>\n",
       "      <td>1000_3</td>\n",
       "      <td>2018-06-16</td>\n",
       "      <td>1000</td>\n",
       "      <td>6</td>\n",
       "    </tr>\n",
       "    <tr>\n",
       "      <td>4</td>\n",
       "      <td>1000_4</td>\n",
       "      <td>2018-12-05</td>\n",
       "      <td>1000</td>\n",
       "      <td>12</td>\n",
       "    </tr>\n",
       "    <tr>\n",
       "      <td>5</td>\n",
       "      <td>1000_5</td>\n",
       "      <td>2018-06-20</td>\n",
       "      <td>1000</td>\n",
       "      <td>6</td>\n",
       "    </tr>\n",
       "    <tr>\n",
       "      <td>6</td>\n",
       "      <td>1000_6</td>\n",
       "      <td>2018-11-19</td>\n",
       "      <td>1000</td>\n",
       "      <td>11</td>\n",
       "    </tr>\n",
       "    <tr>\n",
       "      <td>7</td>\n",
       "      <td>1000_7</td>\n",
       "      <td>2018-10-29</td>\n",
       "      <td>1000</td>\n",
       "      <td>10</td>\n",
       "    </tr>\n",
       "    <tr>\n",
       "      <td>8</td>\n",
       "      <td>1000_8</td>\n",
       "      <td>2018-06-25</td>\n",
       "      <td>1000</td>\n",
       "      <td>6</td>\n",
       "    </tr>\n",
       "    <tr>\n",
       "      <td>9</td>\n",
       "      <td>1000_9</td>\n",
       "      <td>2018-12-18</td>\n",
       "      <td>1000</td>\n",
       "      <td>12</td>\n",
       "    </tr>\n",
       "  </tbody>\n",
       "</table>\n",
       "</div>"
      ],
      "text/plain": [
       "       id message_date  user_id  month\n",
       "0  1000_0   2018-06-27     1000      6\n",
       "1  1000_1   2018-10-08     1000     10\n",
       "2  1000_2   2018-08-04     1000      8\n",
       "3  1000_3   2018-06-16     1000      6\n",
       "4  1000_4   2018-12-05     1000     12\n",
       "5  1000_5   2018-06-20     1000      6\n",
       "6  1000_6   2018-11-19     1000     11\n",
       "7  1000_7   2018-10-29     1000     10\n",
       "8  1000_8   2018-06-25     1000      6\n",
       "9  1000_9   2018-12-18     1000     12"
      ]
     },
     "execution_count": 28,
     "metadata": {},
     "output_type": "execute_result"
    }
   ],
   "source": [
    "# Добавим столбец month\n",
    "df_messages['month'] = pd.DatetimeIndex(df_messages['message_date']).month\n",
    "df_messages.head(10)"
   ]
  },
  {
   "cell_type": "code",
   "execution_count": 29,
   "metadata": {},
   "outputs": [
    {
     "data": {
      "text/html": [
       "<div>\n",
       "<style scoped>\n",
       "    .dataframe tbody tr th:only-of-type {\n",
       "        vertical-align: middle;\n",
       "    }\n",
       "\n",
       "    .dataframe tbody tr th {\n",
       "        vertical-align: top;\n",
       "    }\n",
       "\n",
       "    .dataframe thead th {\n",
       "        text-align: right;\n",
       "    }\n",
       "</style>\n",
       "<table border=\"1\" class=\"dataframe\">\n",
       "  <thead>\n",
       "    <tr style=\"text-align: right;\">\n",
       "      <th></th>\n",
       "      <th>user_id</th>\n",
       "      <th>month</th>\n",
       "      <th>message</th>\n",
       "    </tr>\n",
       "  </thead>\n",
       "  <tbody>\n",
       "    <tr>\n",
       "      <td>0</td>\n",
       "      <td>1000</td>\n",
       "      <td>5</td>\n",
       "      <td>22</td>\n",
       "    </tr>\n",
       "    <tr>\n",
       "      <td>1</td>\n",
       "      <td>1000</td>\n",
       "      <td>6</td>\n",
       "      <td>60</td>\n",
       "    </tr>\n",
       "    <tr>\n",
       "      <td>2</td>\n",
       "      <td>1000</td>\n",
       "      <td>7</td>\n",
       "      <td>75</td>\n",
       "    </tr>\n",
       "    <tr>\n",
       "      <td>3</td>\n",
       "      <td>1000</td>\n",
       "      <td>8</td>\n",
       "      <td>81</td>\n",
       "    </tr>\n",
       "    <tr>\n",
       "      <td>4</td>\n",
       "      <td>1000</td>\n",
       "      <td>9</td>\n",
       "      <td>57</td>\n",
       "    </tr>\n",
       "  </tbody>\n",
       "</table>\n",
       "</div>"
      ],
      "text/plain": [
       "   user_id  month  message\n",
       "0     1000      5       22\n",
       "1     1000      6       60\n",
       "2     1000      7       75\n",
       "3     1000      8       81\n",
       "4     1000      9       57"
      ]
     },
     "execution_count": 29,
     "metadata": {},
     "output_type": "execute_result"
    }
   ],
   "source": [
    "count_messages = df_messages.groupby(['user_id', 'month'])['id'].count().reset_index()\n",
    "count_messages.columns = ['user_id', 'month', 'message']\n",
    "count_messages.head()"
   ]
  },
  {
   "cell_type": "markdown",
   "metadata": {},
   "source": [
    "### Подсчитаем объем израсходованного интернет-трафика по месяцам"
   ]
  },
  {
   "cell_type": "code",
   "execution_count": 30,
   "metadata": {},
   "outputs": [
    {
     "data": {
      "text/html": [
       "<div>\n",
       "<style scoped>\n",
       "    .dataframe tbody tr th:only-of-type {\n",
       "        vertical-align: middle;\n",
       "    }\n",
       "\n",
       "    .dataframe tbody tr th {\n",
       "        vertical-align: top;\n",
       "    }\n",
       "\n",
       "    .dataframe thead th {\n",
       "        text-align: right;\n",
       "    }\n",
       "</style>\n",
       "<table border=\"1\" class=\"dataframe\">\n",
       "  <thead>\n",
       "    <tr style=\"text-align: right;\">\n",
       "      <th></th>\n",
       "      <th>id</th>\n",
       "      <th>mb_used</th>\n",
       "      <th>session_date</th>\n",
       "      <th>user_id</th>\n",
       "      <th>month</th>\n",
       "    </tr>\n",
       "  </thead>\n",
       "  <tbody>\n",
       "    <tr>\n",
       "      <td>0</td>\n",
       "      <td>1000_0</td>\n",
       "      <td>112</td>\n",
       "      <td>2018-11-25</td>\n",
       "      <td>1000</td>\n",
       "      <td>11</td>\n",
       "    </tr>\n",
       "    <tr>\n",
       "      <td>1</td>\n",
       "      <td>1000_1</td>\n",
       "      <td>1052</td>\n",
       "      <td>2018-09-07</td>\n",
       "      <td>1000</td>\n",
       "      <td>9</td>\n",
       "    </tr>\n",
       "    <tr>\n",
       "      <td>2</td>\n",
       "      <td>1000_2</td>\n",
       "      <td>1197</td>\n",
       "      <td>2018-06-25</td>\n",
       "      <td>1000</td>\n",
       "      <td>6</td>\n",
       "    </tr>\n",
       "    <tr>\n",
       "      <td>3</td>\n",
       "      <td>1000_3</td>\n",
       "      <td>550</td>\n",
       "      <td>2018-08-22</td>\n",
       "      <td>1000</td>\n",
       "      <td>8</td>\n",
       "    </tr>\n",
       "    <tr>\n",
       "      <td>4</td>\n",
       "      <td>1000_4</td>\n",
       "      <td>302</td>\n",
       "      <td>2018-09-24</td>\n",
       "      <td>1000</td>\n",
       "      <td>9</td>\n",
       "    </tr>\n",
       "    <tr>\n",
       "      <td>5</td>\n",
       "      <td>1000_5</td>\n",
       "      <td>399</td>\n",
       "      <td>2018-10-02</td>\n",
       "      <td>1000</td>\n",
       "      <td>10</td>\n",
       "    </tr>\n",
       "    <tr>\n",
       "      <td>6</td>\n",
       "      <td>1000_6</td>\n",
       "      <td>540</td>\n",
       "      <td>2018-09-07</td>\n",
       "      <td>1000</td>\n",
       "      <td>9</td>\n",
       "    </tr>\n",
       "    <tr>\n",
       "      <td>7</td>\n",
       "      <td>1000_7</td>\n",
       "      <td>415</td>\n",
       "      <td>2018-07-11</td>\n",
       "      <td>1000</td>\n",
       "      <td>7</td>\n",
       "    </tr>\n",
       "    <tr>\n",
       "      <td>8</td>\n",
       "      <td>1000_8</td>\n",
       "      <td>505</td>\n",
       "      <td>2018-10-08</td>\n",
       "      <td>1000</td>\n",
       "      <td>10</td>\n",
       "    </tr>\n",
       "    <tr>\n",
       "      <td>9</td>\n",
       "      <td>1000_9</td>\n",
       "      <td>345</td>\n",
       "      <td>2018-09-03</td>\n",
       "      <td>1000</td>\n",
       "      <td>9</td>\n",
       "    </tr>\n",
       "  </tbody>\n",
       "</table>\n",
       "</div>"
      ],
      "text/plain": [
       "       id  mb_used session_date  user_id  month\n",
       "0  1000_0      112   2018-11-25     1000     11\n",
       "1  1000_1     1052   2018-09-07     1000      9\n",
       "2  1000_2     1197   2018-06-25     1000      6\n",
       "3  1000_3      550   2018-08-22     1000      8\n",
       "4  1000_4      302   2018-09-24     1000      9\n",
       "5  1000_5      399   2018-10-02     1000     10\n",
       "6  1000_6      540   2018-09-07     1000      9\n",
       "7  1000_7      415   2018-07-11     1000      7\n",
       "8  1000_8      505   2018-10-08     1000     10\n",
       "9  1000_9      345   2018-09-03     1000      9"
      ]
     },
     "execution_count": 30,
     "metadata": {},
     "output_type": "execute_result"
    }
   ],
   "source": [
    "# Добавим столбец month\n",
    "df_internet['month'] = pd.DatetimeIndex(df_internet['session_date']).month\n",
    "df_internet.head(10)"
   ]
  },
  {
   "cell_type": "code",
   "execution_count": 31,
   "metadata": {},
   "outputs": [
    {
     "data": {
      "text/html": [
       "<div>\n",
       "<style scoped>\n",
       "    .dataframe tbody tr th:only-of-type {\n",
       "        vertical-align: middle;\n",
       "    }\n",
       "\n",
       "    .dataframe tbody tr th {\n",
       "        vertical-align: top;\n",
       "    }\n",
       "\n",
       "    .dataframe thead th {\n",
       "        text-align: right;\n",
       "    }\n",
       "</style>\n",
       "<table border=\"1\" class=\"dataframe\">\n",
       "  <thead>\n",
       "    <tr style=\"text-align: right;\">\n",
       "      <th></th>\n",
       "      <th>user_id</th>\n",
       "      <th>month</th>\n",
       "      <th>mb_used</th>\n",
       "    </tr>\n",
       "  </thead>\n",
       "  <tbody>\n",
       "    <tr>\n",
       "      <td>0</td>\n",
       "      <td>1000</td>\n",
       "      <td>5</td>\n",
       "      <td>2252</td>\n",
       "    </tr>\n",
       "    <tr>\n",
       "      <td>1</td>\n",
       "      <td>1000</td>\n",
       "      <td>6</td>\n",
       "      <td>23213</td>\n",
       "    </tr>\n",
       "    <tr>\n",
       "      <td>2</td>\n",
       "      <td>1000</td>\n",
       "      <td>7</td>\n",
       "      <td>13988</td>\n",
       "    </tr>\n",
       "    <tr>\n",
       "      <td>3</td>\n",
       "      <td>1000</td>\n",
       "      <td>8</td>\n",
       "      <td>14043</td>\n",
       "    </tr>\n",
       "    <tr>\n",
       "      <td>4</td>\n",
       "      <td>1000</td>\n",
       "      <td>9</td>\n",
       "      <td>14556</td>\n",
       "    </tr>\n",
       "  </tbody>\n",
       "</table>\n",
       "</div>"
      ],
      "text/plain": [
       "   user_id  month  mb_used\n",
       "0     1000      5     2252\n",
       "1     1000      6    23213\n",
       "2     1000      7    13988\n",
       "3     1000      8    14043\n",
       "4     1000      9    14556"
      ]
     },
     "execution_count": 31,
     "metadata": {},
     "output_type": "execute_result"
    }
   ],
   "source": [
    "count_traffic = df_internet.groupby(['user_id', 'month'])['mb_used'].sum().reset_index()\n",
    "count_traffic.columns = ['user_id', 'month', 'mb_used']\n",
    "count_traffic.head()"
   ]
  },
  {
   "cell_type": "markdown",
   "metadata": {},
   "source": [
    "### Подсчитаем помесячную выручку с каждого пользователя"
   ]
  },
  {
   "cell_type": "code",
   "execution_count": 32,
   "metadata": {},
   "outputs": [
    {
     "data": {
      "text/html": [
       "<div>\n",
       "<style scoped>\n",
       "    .dataframe tbody tr th:only-of-type {\n",
       "        vertical-align: middle;\n",
       "    }\n",
       "\n",
       "    .dataframe tbody tr th {\n",
       "        vertical-align: top;\n",
       "    }\n",
       "\n",
       "    .dataframe thead th {\n",
       "        text-align: right;\n",
       "    }\n",
       "</style>\n",
       "<table border=\"1\" class=\"dataframe\">\n",
       "  <thead>\n",
       "    <tr style=\"text-align: right;\">\n",
       "      <th></th>\n",
       "      <th>user_id</th>\n",
       "      <th>month</th>\n",
       "      <th>calls</th>\n",
       "      <th>minutes</th>\n",
       "      <th>message</th>\n",
       "      <th>mb_used</th>\n",
       "      <th>city</th>\n",
       "      <th>tariff</th>\n",
       "    </tr>\n",
       "  </thead>\n",
       "  <tbody>\n",
       "    <tr>\n",
       "      <td>0</td>\n",
       "      <td>1000</td>\n",
       "      <td>5.00</td>\n",
       "      <td>22.00</td>\n",
       "      <td>159.00</td>\n",
       "      <td>22.00</td>\n",
       "      <td>2,252.00</td>\n",
       "      <td>Краснодар</td>\n",
       "      <td>ultra</td>\n",
       "    </tr>\n",
       "    <tr>\n",
       "      <td>1</td>\n",
       "      <td>1000</td>\n",
       "      <td>6.00</td>\n",
       "      <td>43.00</td>\n",
       "      <td>172.00</td>\n",
       "      <td>60.00</td>\n",
       "      <td>23,213.00</td>\n",
       "      <td>Краснодар</td>\n",
       "      <td>ultra</td>\n",
       "    </tr>\n",
       "    <tr>\n",
       "      <td>2</td>\n",
       "      <td>1000</td>\n",
       "      <td>7.00</td>\n",
       "      <td>47.00</td>\n",
       "      <td>340.00</td>\n",
       "      <td>75.00</td>\n",
       "      <td>13,988.00</td>\n",
       "      <td>Краснодар</td>\n",
       "      <td>ultra</td>\n",
       "    </tr>\n",
       "    <tr>\n",
       "      <td>3</td>\n",
       "      <td>1000</td>\n",
       "      <td>8.00</td>\n",
       "      <td>52.00</td>\n",
       "      <td>408.00</td>\n",
       "      <td>81.00</td>\n",
       "      <td>14,043.00</td>\n",
       "      <td>Краснодар</td>\n",
       "      <td>ultra</td>\n",
       "    </tr>\n",
       "    <tr>\n",
       "      <td>4</td>\n",
       "      <td>1000</td>\n",
       "      <td>9.00</td>\n",
       "      <td>58.00</td>\n",
       "      <td>466.00</td>\n",
       "      <td>57.00</td>\n",
       "      <td>14,556.00</td>\n",
       "      <td>Краснодар</td>\n",
       "      <td>ultra</td>\n",
       "    </tr>\n",
       "    <tr>\n",
       "      <td>5</td>\n",
       "      <td>1000</td>\n",
       "      <td>10.00</td>\n",
       "      <td>57.00</td>\n",
       "      <td>350.00</td>\n",
       "      <td>73.00</td>\n",
       "      <td>14,690.00</td>\n",
       "      <td>Краснодар</td>\n",
       "      <td>ultra</td>\n",
       "    </tr>\n",
       "    <tr>\n",
       "      <td>6</td>\n",
       "      <td>1000</td>\n",
       "      <td>11.00</td>\n",
       "      <td>43.00</td>\n",
       "      <td>338.00</td>\n",
       "      <td>58.00</td>\n",
       "      <td>14,745.00</td>\n",
       "      <td>Краснодар</td>\n",
       "      <td>ultra</td>\n",
       "    </tr>\n",
       "    <tr>\n",
       "      <td>7</td>\n",
       "      <td>1000</td>\n",
       "      <td>12.00</td>\n",
       "      <td>46.00</td>\n",
       "      <td>333.00</td>\n",
       "      <td>70.00</td>\n",
       "      <td>9,808.00</td>\n",
       "      <td>Краснодар</td>\n",
       "      <td>ultra</td>\n",
       "    </tr>\n",
       "    <tr>\n",
       "      <td>8</td>\n",
       "      <td>1001</td>\n",
       "      <td>11.00</td>\n",
       "      <td>59.00</td>\n",
       "      <td>430.00</td>\n",
       "      <td>nan</td>\n",
       "      <td>18,405.00</td>\n",
       "      <td>Москва</td>\n",
       "      <td>smart</td>\n",
       "    </tr>\n",
       "    <tr>\n",
       "      <td>9</td>\n",
       "      <td>1001</td>\n",
       "      <td>12.00</td>\n",
       "      <td>63.00</td>\n",
       "      <td>414.00</td>\n",
       "      <td>nan</td>\n",
       "      <td>14,018.00</td>\n",
       "      <td>Москва</td>\n",
       "      <td>smart</td>\n",
       "    </tr>\n",
       "  </tbody>\n",
       "</table>\n",
       "</div>"
      ],
      "text/plain": [
       "   user_id  month  calls  minutes  message   mb_used       city tariff\n",
       "0     1000   5.00  22.00   159.00    22.00  2,252.00  Краснодар  ultra\n",
       "1     1000   6.00  43.00   172.00    60.00 23,213.00  Краснодар  ultra\n",
       "2     1000   7.00  47.00   340.00    75.00 13,988.00  Краснодар  ultra\n",
       "3     1000   8.00  52.00   408.00    81.00 14,043.00  Краснодар  ultra\n",
       "4     1000   9.00  58.00   466.00    57.00 14,556.00  Краснодар  ultra\n",
       "5     1000  10.00  57.00   350.00    73.00 14,690.00  Краснодар  ultra\n",
       "6     1000  11.00  43.00   338.00    58.00 14,745.00  Краснодар  ultra\n",
       "7     1000  12.00  46.00   333.00    70.00  9,808.00  Краснодар  ultra\n",
       "8     1001  11.00  59.00   430.00      nan 18,405.00     Москва  smart\n",
       "9     1001  12.00  63.00   414.00      nan 14,018.00     Москва  smart"
      ]
     },
     "execution_count": 32,
     "metadata": {},
     "output_type": "execute_result"
    }
   ],
   "source": [
    "# Для подсчета месячной выручки обьеденим 3 таблицы в одну по столбцу month\n",
    "count_income_month = pd.merge(count_calls, count_messages, how='outer', on=['user_id', 'month'])\n",
    "count_income_month = pd.merge(count_income_month, count_traffic, how='outer', on=['user_id', 'month'])\n",
    "count_income_month = pd.merge(count_income_month,\n",
    "                              df_users.loc[:, ['user_id', 'city', 'tariff']],\n",
    "                              how='outer', on='user_id')\n",
    "count_income_month.head(10)"
   ]
  },
  {
   "cell_type": "code",
   "execution_count": 33,
   "metadata": {},
   "outputs": [
    {
     "data": {
      "text/plain": [
       "500"
      ]
     },
     "execution_count": 33,
     "metadata": {},
     "output_type": "execute_result"
    }
   ],
   "source": [
    "# Проверим датасет на корректность слияния\n",
    "count_income_month['user_id'].nunique()"
   ]
  },
  {
   "cell_type": "markdown",
   "metadata": {},
   "source": [
    "Вывод: все 500 абонентов на месте."
   ]
  },
  {
   "cell_type": "code",
   "execution_count": 34,
   "metadata": {},
   "outputs": [
    {
     "data": {
      "text/plain": [
       "user_id      0\n",
       "month        2\n",
       "calls       42\n",
       "minutes     42\n",
       "message    499\n",
       "mb_used     13\n",
       "city         0\n",
       "tariff       0\n",
       "dtype: int64"
      ]
     },
     "execution_count": 34,
     "metadata": {},
     "output_type": "execute_result"
    }
   ],
   "source": [
    "# После слияния появились пропуски\n",
    "# Это абоненты которые либо в какой то месяц не писали смс или не звонили, либо не пользвались интернетом\n",
    "count_income_month.isna().sum()"
   ]
  },
  {
   "cell_type": "code",
   "execution_count": 35,
   "metadata": {},
   "outputs": [
    {
     "data": {
      "text/plain": [
       "user_id    0\n",
       "month      2\n",
       "calls      0\n",
       "minutes    0\n",
       "message    0\n",
       "mb_used    0\n",
       "city       0\n",
       "tariff     0\n",
       "dtype: int64"
      ]
     },
     "execution_count": 35,
     "metadata": {},
     "output_type": "execute_result"
    }
   ],
   "source": [
    "# Для подсчета выручки заменим пропуски в столбцах calls, minutes, message, mb_used на 0\n",
    "count_income_month.loc[:, ['calls', 'minutes', 'message', 'mb_used']] = (\n",
    "    count_income_month.loc[:, ['calls', 'minutes', 'message', 'mb_used']]\n",
    "    .fillna(0)\n",
    ")\n",
    "count_income_month.isna().sum()"
   ]
  },
  {
   "cell_type": "code",
   "execution_count": 36,
   "metadata": {},
   "outputs": [
    {
     "data": {
      "text/html": [
       "<div>\n",
       "<style scoped>\n",
       "    .dataframe tbody tr th:only-of-type {\n",
       "        vertical-align: middle;\n",
       "    }\n",
       "\n",
       "    .dataframe tbody tr th {\n",
       "        vertical-align: top;\n",
       "    }\n",
       "\n",
       "    .dataframe thead th {\n",
       "        text-align: right;\n",
       "    }\n",
       "</style>\n",
       "<table border=\"1\" class=\"dataframe\">\n",
       "  <thead>\n",
       "    <tr style=\"text-align: right;\">\n",
       "      <th></th>\n",
       "      <th>user_id</th>\n",
       "      <th>month</th>\n",
       "      <th>calls</th>\n",
       "      <th>minutes</th>\n",
       "      <th>message</th>\n",
       "      <th>mb_used</th>\n",
       "      <th>city</th>\n",
       "      <th>tariff</th>\n",
       "    </tr>\n",
       "  </thead>\n",
       "  <tbody>\n",
       "    <tr>\n",
       "      <td>3214</td>\n",
       "      <td>1128</td>\n",
       "      <td>nan</td>\n",
       "      <td>0.00</td>\n",
       "      <td>0.00</td>\n",
       "      <td>0.00</td>\n",
       "      <td>0.00</td>\n",
       "      <td>Волжский</td>\n",
       "      <td>ultra</td>\n",
       "    </tr>\n",
       "    <tr>\n",
       "      <td>3215</td>\n",
       "      <td>1371</td>\n",
       "      <td>nan</td>\n",
       "      <td>0.00</td>\n",
       "      <td>0.00</td>\n",
       "      <td>0.00</td>\n",
       "      <td>0.00</td>\n",
       "      <td>Омск</td>\n",
       "      <td>smart</td>\n",
       "    </tr>\n",
       "  </tbody>\n",
       "</table>\n",
       "</div>"
      ],
      "text/plain": [
       "      user_id  month  calls  minutes  message  mb_used      city tariff\n",
       "3214     1128    nan   0.00     0.00     0.00     0.00  Волжский  ultra\n",
       "3215     1371    nan   0.00     0.00     0.00     0.00      Омск  smart"
      ]
     },
     "metadata": {},
     "output_type": "display_data"
    },
    {
     "data": {
      "text/html": [
       "<div>\n",
       "<style scoped>\n",
       "    .dataframe tbody tr th:only-of-type {\n",
       "        vertical-align: middle;\n",
       "    }\n",
       "\n",
       "    .dataframe tbody tr th {\n",
       "        vertical-align: top;\n",
       "    }\n",
       "\n",
       "    .dataframe thead th {\n",
       "        text-align: right;\n",
       "    }\n",
       "</style>\n",
       "<table border=\"1\" class=\"dataframe\">\n",
       "  <thead>\n",
       "    <tr style=\"text-align: right;\">\n",
       "      <th></th>\n",
       "      <th>user_id</th>\n",
       "      <th>age</th>\n",
       "      <th>churn_date</th>\n",
       "      <th>city</th>\n",
       "      <th>first_name</th>\n",
       "      <th>last_name</th>\n",
       "      <th>reg_date</th>\n",
       "      <th>tariff</th>\n",
       "    </tr>\n",
       "  </thead>\n",
       "  <tbody>\n",
       "    <tr>\n",
       "      <td>128</td>\n",
       "      <td>1128</td>\n",
       "      <td>51</td>\n",
       "      <td>2018-12-23</td>\n",
       "      <td>Волжский</td>\n",
       "      <td>Ксения</td>\n",
       "      <td>Агаева</td>\n",
       "      <td>2018-12-15</td>\n",
       "      <td>ultra</td>\n",
       "    </tr>\n",
       "  </tbody>\n",
       "</table>\n",
       "</div>"
      ],
      "text/plain": [
       "     user_id  age churn_date      city first_name last_name   reg_date tariff\n",
       "128     1128   51 2018-12-23  Волжский     Ксения    Агаева 2018-12-15  ultra"
      ]
     },
     "metadata": {},
     "output_type": "display_data"
    },
    {
     "data": {
      "text/html": [
       "<div>\n",
       "<style scoped>\n",
       "    .dataframe tbody tr th:only-of-type {\n",
       "        vertical-align: middle;\n",
       "    }\n",
       "\n",
       "    .dataframe tbody tr th {\n",
       "        vertical-align: top;\n",
       "    }\n",
       "\n",
       "    .dataframe thead th {\n",
       "        text-align: right;\n",
       "    }\n",
       "</style>\n",
       "<table border=\"1\" class=\"dataframe\">\n",
       "  <thead>\n",
       "    <tr style=\"text-align: right;\">\n",
       "      <th></th>\n",
       "      <th>user_id</th>\n",
       "      <th>age</th>\n",
       "      <th>churn_date</th>\n",
       "      <th>city</th>\n",
       "      <th>first_name</th>\n",
       "      <th>last_name</th>\n",
       "      <th>reg_date</th>\n",
       "      <th>tariff</th>\n",
       "    </tr>\n",
       "  </thead>\n",
       "  <tbody>\n",
       "    <tr>\n",
       "      <td>371</td>\n",
       "      <td>1371</td>\n",
       "      <td>50</td>\n",
       "      <td>2018-12-30</td>\n",
       "      <td>Омск</td>\n",
       "      <td>Ириней</td>\n",
       "      <td>Трофимов</td>\n",
       "      <td>2018-12-25</td>\n",
       "      <td>smart</td>\n",
       "    </tr>\n",
       "  </tbody>\n",
       "</table>\n",
       "</div>"
      ],
      "text/plain": [
       "     user_id  age churn_date  city first_name last_name   reg_date tariff\n",
       "371     1371   50 2018-12-30  Омск     Ириней  Трофимов 2018-12-25  smart"
      ]
     },
     "metadata": {},
     "output_type": "display_data"
    }
   ],
   "source": [
    "# Есть два пропуска в стобце month\n",
    "display(count_income_month[count_income_month['month'].isna()])\n",
    "display(df_users.loc[df_users['user_id'] == 1128])\n",
    "display(df_users.loc[df_users['user_id'] == 1371])"
   ]
  },
  {
   "cell_type": "markdown",
   "metadata": {},
   "source": [
    "Вывод: Данные абоненты зарегистрировали и прекратили пользоваться тарифом в декабре из-за этого не корректно отображаются данные, заменим пропуск на 12 месяц."
   ]
  },
  {
   "cell_type": "code",
   "execution_count": 37,
   "metadata": {},
   "outputs": [
    {
     "data": {
      "text/plain": [
       "user_id    0\n",
       "month      0\n",
       "calls      0\n",
       "minutes    0\n",
       "message    0\n",
       "mb_used    0\n",
       "city       0\n",
       "tariff     0\n",
       "dtype: int64"
      ]
     },
     "execution_count": 37,
     "metadata": {},
     "output_type": "execute_result"
    }
   ],
   "source": [
    "count_income_month.loc[:, ['month']] = count_income_month.loc[:, ['month']].fillna(12)\n",
    "count_income_month.isna().sum()"
   ]
  },
  {
   "cell_type": "code",
   "execution_count": 38,
   "metadata": {},
   "outputs": [],
   "source": [
    "# Функция расчета абоненской платы за месяц для Smart и Ultra\n",
    "def income(args):\n",
    "    if args['tariff'] == 'smart': \n",
    "        income_calls = (args['minutes'] - df_tariffs.loc[0, 'minutes_included']) * df_tariffs.loc[0, 'rub_per_minute']\n",
    "        if income_calls < 0:\n",
    "            income_calls = 0\n",
    "        income_messages = (args['message'] - df_tariffs.loc[0, 'messages_included']) * df_tariffs.loc[0, 'rub_per_message']\n",
    "        if income_messages < 0:\n",
    "            income_messages = 0\n",
    "        income_mb_used = ((args['mb_used'] - df_tariffs.loc[0, 'mb_per_month_included'])/1024) * df_tariffs.loc[0, 'rub_per_gb']\n",
    "        if income_mb_used < 0:\n",
    "            income_mb_used = 0\n",
    "        income = income_calls + income_messages + income_mb_used + df_tariffs.loc[0,'rub_monthly_fee']\n",
    "    elif args['tariff'] == 'ultra':\n",
    "        income_calls = (args['minutes'] - df_tariffs.loc[0, 'minutes_included']) * df_tariffs.loc[0, 'rub_per_minute']\n",
    "        if income_calls < 0:\n",
    "            income_calls = 0\n",
    "        income_messages = (args['message'] - df_tariffs.loc[0, 'messages_included']) * df_tariffs.loc[0, 'rub_per_message']\n",
    "        if income_messages < 0:\n",
    "            income_messages = 0\n",
    "        income_mb_used = ((args['mb_used'] - df_tariffs.loc[0, 'mb_per_month_included'])/1024) * df_tariffs.loc[0, 'rub_per_gb']\n",
    "        if income_mb_used < 0:\n",
    "            income_mb_used = 0\n",
    "        income = income_calls + income_messages + income_mb_used + df_tariffs.loc[0,'rub_monthly_fee']\n",
    "    return income"
   ]
  },
  {
   "cell_type": "code",
   "execution_count": 39,
   "metadata": {},
   "outputs": [
    {
     "data": {
      "text/html": [
       "<div>\n",
       "<style scoped>\n",
       "    .dataframe tbody tr th:only-of-type {\n",
       "        vertical-align: middle;\n",
       "    }\n",
       "\n",
       "    .dataframe tbody tr th {\n",
       "        vertical-align: top;\n",
       "    }\n",
       "\n",
       "    .dataframe thead th {\n",
       "        text-align: right;\n",
       "    }\n",
       "</style>\n",
       "<table border=\"1\" class=\"dataframe\">\n",
       "  <thead>\n",
       "    <tr style=\"text-align: right;\">\n",
       "      <th></th>\n",
       "      <th>user_id</th>\n",
       "      <th>month</th>\n",
       "      <th>calls</th>\n",
       "      <th>minutes</th>\n",
       "      <th>message</th>\n",
       "      <th>mb_used</th>\n",
       "      <th>city</th>\n",
       "      <th>tariff</th>\n",
       "      <th>income</th>\n",
       "    </tr>\n",
       "  </thead>\n",
       "  <tbody>\n",
       "    <tr>\n",
       "      <td>0</td>\n",
       "      <td>1000</td>\n",
       "      <td>5.00</td>\n",
       "      <td>22.00</td>\n",
       "      <td>159.00</td>\n",
       "      <td>22.00</td>\n",
       "      <td>2,252.00</td>\n",
       "      <td>Краснодар</td>\n",
       "      <td>ultra</td>\n",
       "      <td>550.00</td>\n",
       "    </tr>\n",
       "    <tr>\n",
       "      <td>1</td>\n",
       "      <td>1000</td>\n",
       "      <td>6.00</td>\n",
       "      <td>43.00</td>\n",
       "      <td>172.00</td>\n",
       "      <td>60.00</td>\n",
       "      <td>23,213.00</td>\n",
       "      <td>Краснодар</td>\n",
       "      <td>ultra</td>\n",
       "      <td>2,113.79</td>\n",
       "    </tr>\n",
       "    <tr>\n",
       "      <td>2</td>\n",
       "      <td>1000</td>\n",
       "      <td>7.00</td>\n",
       "      <td>47.00</td>\n",
       "      <td>340.00</td>\n",
       "      <td>75.00</td>\n",
       "      <td>13,988.00</td>\n",
       "      <td>Краснодар</td>\n",
       "      <td>ultra</td>\n",
       "      <td>625.00</td>\n",
       "    </tr>\n",
       "    <tr>\n",
       "      <td>3</td>\n",
       "      <td>1000</td>\n",
       "      <td>8.00</td>\n",
       "      <td>52.00</td>\n",
       "      <td>408.00</td>\n",
       "      <td>81.00</td>\n",
       "      <td>14,043.00</td>\n",
       "      <td>Краснодар</td>\n",
       "      <td>ultra</td>\n",
       "      <td>643.00</td>\n",
       "    </tr>\n",
       "    <tr>\n",
       "      <td>4</td>\n",
       "      <td>1000</td>\n",
       "      <td>9.00</td>\n",
       "      <td>58.00</td>\n",
       "      <td>466.00</td>\n",
       "      <td>57.00</td>\n",
       "      <td>14,556.00</td>\n",
       "      <td>Краснодар</td>\n",
       "      <td>ultra</td>\n",
       "      <td>571.00</td>\n",
       "    </tr>\n",
       "    <tr>\n",
       "      <td>5</td>\n",
       "      <td>1000</td>\n",
       "      <td>10.00</td>\n",
       "      <td>57.00</td>\n",
       "      <td>350.00</td>\n",
       "      <td>73.00</td>\n",
       "      <td>14,690.00</td>\n",
       "      <td>Краснодар</td>\n",
       "      <td>ultra</td>\n",
       "      <td>619.00</td>\n",
       "    </tr>\n",
       "    <tr>\n",
       "      <td>6</td>\n",
       "      <td>1000</td>\n",
       "      <td>11.00</td>\n",
       "      <td>43.00</td>\n",
       "      <td>338.00</td>\n",
       "      <td>58.00</td>\n",
       "      <td>14,745.00</td>\n",
       "      <td>Краснодар</td>\n",
       "      <td>ultra</td>\n",
       "      <td>574.00</td>\n",
       "    </tr>\n",
       "    <tr>\n",
       "      <td>7</td>\n",
       "      <td>1000</td>\n",
       "      <td>12.00</td>\n",
       "      <td>46.00</td>\n",
       "      <td>333.00</td>\n",
       "      <td>70.00</td>\n",
       "      <td>9,808.00</td>\n",
       "      <td>Краснодар</td>\n",
       "      <td>ultra</td>\n",
       "      <td>610.00</td>\n",
       "    </tr>\n",
       "    <tr>\n",
       "      <td>8</td>\n",
       "      <td>1001</td>\n",
       "      <td>11.00</td>\n",
       "      <td>59.00</td>\n",
       "      <td>430.00</td>\n",
       "      <td>0.00</td>\n",
       "      <td>18,405.00</td>\n",
       "      <td>Москва</td>\n",
       "      <td>smart</td>\n",
       "      <td>1,144.73</td>\n",
       "    </tr>\n",
       "    <tr>\n",
       "      <td>9</td>\n",
       "      <td>1001</td>\n",
       "      <td>12.00</td>\n",
       "      <td>63.00</td>\n",
       "      <td>414.00</td>\n",
       "      <td>0.00</td>\n",
       "      <td>14,018.00</td>\n",
       "      <td>Москва</td>\n",
       "      <td>smart</td>\n",
       "      <td>550.00</td>\n",
       "    </tr>\n",
       "  </tbody>\n",
       "</table>\n",
       "</div>"
      ],
      "text/plain": [
       "   user_id  month  calls  minutes  message   mb_used       city tariff  \\\n",
       "0     1000   5.00  22.00   159.00    22.00  2,252.00  Краснодар  ultra   \n",
       "1     1000   6.00  43.00   172.00    60.00 23,213.00  Краснодар  ultra   \n",
       "2     1000   7.00  47.00   340.00    75.00 13,988.00  Краснодар  ultra   \n",
       "3     1000   8.00  52.00   408.00    81.00 14,043.00  Краснодар  ultra   \n",
       "4     1000   9.00  58.00   466.00    57.00 14,556.00  Краснодар  ultra   \n",
       "5     1000  10.00  57.00   350.00    73.00 14,690.00  Краснодар  ultra   \n",
       "6     1000  11.00  43.00   338.00    58.00 14,745.00  Краснодар  ultra   \n",
       "7     1000  12.00  46.00   333.00    70.00  9,808.00  Краснодар  ultra   \n",
       "8     1001  11.00  59.00   430.00     0.00 18,405.00     Москва  smart   \n",
       "9     1001  12.00  63.00   414.00     0.00 14,018.00     Москва  smart   \n",
       "\n",
       "    income  \n",
       "0   550.00  \n",
       "1 2,113.79  \n",
       "2   625.00  \n",
       "3   643.00  \n",
       "4   571.00  \n",
       "5   619.00  \n",
       "6   574.00  \n",
       "7   610.00  \n",
       "8 1,144.73  \n",
       "9   550.00  "
      ]
     },
     "execution_count": 39,
     "metadata": {},
     "output_type": "execute_result"
    }
   ],
   "source": [
    "count_income_month['income'] = count_income_month.apply(income, axis=1)\n",
    "count_income_month.head(10)"
   ]
  },
  {
   "cell_type": "markdown",
   "metadata": {},
   "source": [
    "## Анализ данных"
   ]
  },
  {
   "cell_type": "markdown",
   "metadata": {},
   "source": [
    "### Подсчитаем сколько минут разговора, сколько сообщений и какой объём интернет-трафика требуется пользователям каждого тарифа в месяц"
   ]
  },
  {
   "cell_type": "code",
   "execution_count": 40,
   "metadata": {},
   "outputs": [
    {
     "data": {
      "text/html": [
       "<div>\n",
       "<style scoped>\n",
       "    .dataframe tbody tr th:only-of-type {\n",
       "        vertical-align: middle;\n",
       "    }\n",
       "\n",
       "    .dataframe tbody tr th {\n",
       "        vertical-align: top;\n",
       "    }\n",
       "\n",
       "    .dataframe thead th {\n",
       "        text-align: right;\n",
       "    }\n",
       "</style>\n",
       "<table border=\"1\" class=\"dataframe\">\n",
       "  <thead>\n",
       "    <tr style=\"text-align: right;\">\n",
       "      <th></th>\n",
       "      <th>tariff</th>\n",
       "      <th>month</th>\n",
       "      <th>minutes</th>\n",
       "      <th>message</th>\n",
       "      <th>mb_used</th>\n",
       "      <th>income</th>\n",
       "    </tr>\n",
       "  </thead>\n",
       "  <tbody>\n",
       "    <tr>\n",
       "      <td>0</td>\n",
       "      <td>smart</td>\n",
       "      <td>1.00</td>\n",
       "      <td>162.50</td>\n",
       "      <td>15.00</td>\n",
       "      <td>7,086.50</td>\n",
       "      <td>550.00</td>\n",
       "    </tr>\n",
       "    <tr>\n",
       "      <td>1</td>\n",
       "      <td>smart</td>\n",
       "      <td>2.00</td>\n",
       "      <td>258.00</td>\n",
       "      <td>20.00</td>\n",
       "      <td>12,534.00</td>\n",
       "      <td>550.00</td>\n",
       "    </tr>\n",
       "    <tr>\n",
       "      <td>2</td>\n",
       "      <td>smart</td>\n",
       "      <td>3.00</td>\n",
       "      <td>409.00</td>\n",
       "      <td>23.00</td>\n",
       "      <td>15,651.00</td>\n",
       "      <td>868.83</td>\n",
       "    </tr>\n",
       "    <tr>\n",
       "      <td>3</td>\n",
       "      <td>smart</td>\n",
       "      <td>4.00</td>\n",
       "      <td>368.50</td>\n",
       "      <td>28.00</td>\n",
       "      <td>14,069.50</td>\n",
       "      <td>587.50</td>\n",
       "    </tr>\n",
       "    <tr>\n",
       "      <td>4</td>\n",
       "      <td>smart</td>\n",
       "      <td>5.00</td>\n",
       "      <td>433.00</td>\n",
       "      <td>30.00</td>\n",
       "      <td>16,302.00</td>\n",
       "      <td>927.73</td>\n",
       "    </tr>\n",
       "    <tr>\n",
       "      <td>5</td>\n",
       "      <td>smart</td>\n",
       "      <td>6.00</td>\n",
       "      <td>400.00</td>\n",
       "      <td>28.00</td>\n",
       "      <td>16,055.00</td>\n",
       "      <td>880.33</td>\n",
       "    </tr>\n",
       "    <tr>\n",
       "      <td>6</td>\n",
       "      <td>smart</td>\n",
       "      <td>7.00</td>\n",
       "      <td>414.00</td>\n",
       "      <td>29.00</td>\n",
       "      <td>15,903.00</td>\n",
       "      <td>905.08</td>\n",
       "    </tr>\n",
       "    <tr>\n",
       "      <td>7</td>\n",
       "      <td>smart</td>\n",
       "      <td>8.00</td>\n",
       "      <td>432.00</td>\n",
       "      <td>27.00</td>\n",
       "      <td>16,813.00</td>\n",
       "      <td>962.50</td>\n",
       "    </tr>\n",
       "    <tr>\n",
       "      <td>8</td>\n",
       "      <td>smart</td>\n",
       "      <td>9.00</td>\n",
       "      <td>435.00</td>\n",
       "      <td>30.00</td>\n",
       "      <td>16,007.00</td>\n",
       "      <td>923.34</td>\n",
       "    </tr>\n",
       "    <tr>\n",
       "      <td>9</td>\n",
       "      <td>smart</td>\n",
       "      <td>10.00</td>\n",
       "      <td>427.50</td>\n",
       "      <td>30.00</td>\n",
       "      <td>17,204.50</td>\n",
       "      <td>1,054.45</td>\n",
       "    </tr>\n",
       "  </tbody>\n",
       "</table>\n",
       "</div>"
      ],
      "text/plain": [
       "  tariff  month  minutes  message   mb_used   income\n",
       "0  smart   1.00   162.50    15.00  7,086.50   550.00\n",
       "1  smart   2.00   258.00    20.00 12,534.00   550.00\n",
       "2  smart   3.00   409.00    23.00 15,651.00   868.83\n",
       "3  smart   4.00   368.50    28.00 14,069.50   587.50\n",
       "4  smart   5.00   433.00    30.00 16,302.00   927.73\n",
       "5  smart   6.00   400.00    28.00 16,055.00   880.33\n",
       "6  smart   7.00   414.00    29.00 15,903.00   905.08\n",
       "7  smart   8.00   432.00    27.00 16,813.00   962.50\n",
       "8  smart   9.00   435.00    30.00 16,007.00   923.34\n",
       "9  smart  10.00   427.50    30.00 17,204.50 1,054.45"
      ]
     },
     "execution_count": 40,
     "metadata": {},
     "output_type": "execute_result"
    }
   ],
   "source": [
    "df_total = (count_income_month\n",
    "            .groupby(['tariff', 'month'])['minutes', 'message', 'mb_used', 'income'].median().reset_index()\n",
    ")\n",
    "df_total.head(10)"
   ]
  },
  {
   "cell_type": "markdown",
   "metadata": {},
   "source": [
    "### Подсчитаем среднее кол-ва минут разговора в месяц, сообщений в месяц и объём в месяц"
   ]
  },
  {
   "cell_type": "code",
   "execution_count": 41,
   "metadata": {},
   "outputs": [],
   "source": [
    "# импорт библиотеки для построения графиков\n",
    "import seaborn as sns\n",
    "import matplotlib.pyplot as plt"
   ]
  },
  {
   "cell_type": "code",
   "execution_count": 42,
   "metadata": {},
   "outputs": [
    {
     "data": {
      "text/html": [
       "<div>\n",
       "<style scoped>\n",
       "    .dataframe tbody tr th:only-of-type {\n",
       "        vertical-align: middle;\n",
       "    }\n",
       "\n",
       "    .dataframe tbody tr th {\n",
       "        vertical-align: top;\n",
       "    }\n",
       "\n",
       "    .dataframe thead th {\n",
       "        text-align: right;\n",
       "    }\n",
       "</style>\n",
       "<table border=\"1\" class=\"dataframe\">\n",
       "  <thead>\n",
       "    <tr style=\"text-align: right;\">\n",
       "      <th></th>\n",
       "      <th>minutes</th>\n",
       "      <th>message</th>\n",
       "      <th>mb_used</th>\n",
       "      <th>income</th>\n",
       "    </tr>\n",
       "  </thead>\n",
       "  <tbody>\n",
       "    <tr>\n",
       "      <td>count</td>\n",
       "      <td>24.00</td>\n",
       "      <td>24.00</td>\n",
       "      <td>24.00</td>\n",
       "      <td>24.00</td>\n",
       "    </tr>\n",
       "    <tr>\n",
       "      <td>mean</td>\n",
       "      <td>427.77</td>\n",
       "      <td>29.48</td>\n",
       "      <td>16,490.54</td>\n",
       "      <td>1,239.67</td>\n",
       "    </tr>\n",
       "    <tr>\n",
       "      <td>std</td>\n",
       "      <td>107.04</td>\n",
       "      <td>10.59</td>\n",
       "      <td>3,558.09</td>\n",
       "      <td>544.47</td>\n",
       "    </tr>\n",
       "    <tr>\n",
       "      <td>min</td>\n",
       "      <td>162.50</td>\n",
       "      <td>5.50</td>\n",
       "      <td>7,086.50</td>\n",
       "      <td>550.00</td>\n",
       "    </tr>\n",
       "    <tr>\n",
       "      <td>25%</td>\n",
       "      <td>402.25</td>\n",
       "      <td>24.50</td>\n",
       "      <td>15,840.00</td>\n",
       "      <td>877.45</td>\n",
       "    </tr>\n",
       "    <tr>\n",
       "      <td>50%</td>\n",
       "      <td>432.50</td>\n",
       "      <td>28.50</td>\n",
       "      <td>16,902.75</td>\n",
       "      <td>1,072.49</td>\n",
       "    </tr>\n",
       "    <tr>\n",
       "      <td>75%</td>\n",
       "      <td>504.75</td>\n",
       "      <td>33.50</td>\n",
       "      <td>18,738.00</td>\n",
       "      <td>1,742.35</td>\n",
       "    </tr>\n",
       "    <tr>\n",
       "      <td>max</td>\n",
       "      <td>582.50</td>\n",
       "      <td>50.50</td>\n",
       "      <td>21,935.00</td>\n",
       "      <td>2,408.50</td>\n",
       "    </tr>\n",
       "  </tbody>\n",
       "</table>\n",
       "</div>"
      ],
      "text/plain": [
       "       minutes  message   mb_used   income\n",
       "count    24.00    24.00     24.00    24.00\n",
       "mean    427.77    29.48 16,490.54 1,239.67\n",
       "std     107.04    10.59  3,558.09   544.47\n",
       "min     162.50     5.50  7,086.50   550.00\n",
       "25%     402.25    24.50 15,840.00   877.45\n",
       "50%     432.50    28.50 16,902.75 1,072.49\n",
       "75%     504.75    33.50 18,738.00 1,742.35\n",
       "max     582.50    50.50 21,935.00 2,408.50"
      ]
     },
     "execution_count": 42,
     "metadata": {},
     "output_type": "execute_result"
    }
   ],
   "source": [
    "# проверим на выбросы\n",
    "df_total[['minutes', 'message', 'mb_used', 'income']].describe()"
   ]
  },
  {
   "cell_type": "code",
   "execution_count": 43,
   "metadata": {},
   "outputs": [
    {
     "name": "stdout",
     "output_type": "stream",
     "text": [
      " minutes: smart = 421 | ultra = 510\n",
      " message: smart = 28 | ultra = 35\n",
      " mb_used: smart = 16031 | ultra = 18797\n",
      " income: smart = 914 | ultra = 1762\n"
     ]
    }
   ],
   "source": [
    "median_smart = df_total.query('tariff == \"smart\"')\n",
    "median_ultra = df_total.query('tariff == \"ultra\"').reset_index(drop=True)\n",
    "for index in ['minutes', 'message', 'mb_used', 'income']:\n",
    "    print(f' {index}: smart = {round(median_smart[index].median())} | ultra = {round(median_ultra[index].median())}')"
   ]
  },
  {
   "cell_type": "code",
   "execution_count": 44,
   "metadata": {},
   "outputs": [
    {
     "data": {
      "text/html": [
       "<div>\n",
       "<style scoped>\n",
       "    .dataframe tbody tr th:only-of-type {\n",
       "        vertical-align: middle;\n",
       "    }\n",
       "\n",
       "    .dataframe tbody tr th {\n",
       "        vertical-align: top;\n",
       "    }\n",
       "\n",
       "    .dataframe thead th {\n",
       "        text-align: right;\n",
       "    }\n",
       "</style>\n",
       "<table border=\"1\" class=\"dataframe\">\n",
       "  <thead>\n",
       "    <tr style=\"text-align: right;\">\n",
       "      <th></th>\n",
       "      <th>messages_included</th>\n",
       "      <th>mb_per_month_included</th>\n",
       "      <th>minutes_included</th>\n",
       "      <th>rub_monthly_fee</th>\n",
       "      <th>rub_per_gb</th>\n",
       "      <th>rub_per_message</th>\n",
       "      <th>rub_per_minute</th>\n",
       "      <th>tariff_name</th>\n",
       "    </tr>\n",
       "  </thead>\n",
       "  <tbody>\n",
       "    <tr>\n",
       "      <td>0</td>\n",
       "      <td>50</td>\n",
       "      <td>15360</td>\n",
       "      <td>500</td>\n",
       "      <td>550</td>\n",
       "      <td>200</td>\n",
       "      <td>3</td>\n",
       "      <td>3</td>\n",
       "      <td>smart</td>\n",
       "    </tr>\n",
       "    <tr>\n",
       "      <td>1</td>\n",
       "      <td>1000</td>\n",
       "      <td>30720</td>\n",
       "      <td>3000</td>\n",
       "      <td>1950</td>\n",
       "      <td>150</td>\n",
       "      <td>1</td>\n",
       "      <td>1</td>\n",
       "      <td>ultra</td>\n",
       "    </tr>\n",
       "  </tbody>\n",
       "</table>\n",
       "</div>"
      ],
      "text/plain": [
       "   messages_included  mb_per_month_included  minutes_included  \\\n",
       "0                 50                  15360               500   \n",
       "1               1000                  30720              3000   \n",
       "\n",
       "   rub_monthly_fee  rub_per_gb  rub_per_message  rub_per_minute tariff_name  \n",
       "0              550         200                3               3       smart  \n",
       "1             1950         150                1               1       ultra  "
      ]
     },
     "execution_count": 44,
     "metadata": {},
     "output_type": "execute_result"
    }
   ],
   "source": [
    "df_tariffs.head()"
   ]
  },
  {
   "cell_type": "code",
   "execution_count": 45,
   "metadata": {},
   "outputs": [
    {
     "data": {
      "image/png": "[encoded data removed]",
      "text/plain": [
       "<Figure size 720x360 with 1 Axes>"
      ]
     },
     "metadata": {
      "needs_background": "light"
     },
     "output_type": "display_data"
    },
    {
     "data": {
      "image/png": "[encoded data removed]",
      "text/plain": [
       "<Figure size 720x360 with 1 Axes>"
      ]
     },
     "metadata": {
      "needs_background": "light"
     },
     "output_type": "display_data"
    },
    {
     "data": {
      "image/png": "[encoded data removed]",
      "text/plain": [
       "<Figure size 720x360 with 1 Axes>"
      ]
     },
     "metadata": {
      "needs_background": "light"
     },
     "output_type": "display_data"
    },
    {
     "data": {
      "image/png": "[encoded data removed]",
      "text/plain": [
       "<Figure size 720x360 with 1 Axes>"
      ]
     },
     "metadata": {
      "needs_background": "light"
     },
     "output_type": "display_data"
    }
   ],
   "source": [
    "for index in ['minutes', 'message', 'mb_used', 'income']:\n",
    "    (median_smart.sort_values(by=index, ascending=True)\n",
    "        .groupby('month')[index].sum()\n",
    "        .plot(x='month', y=index, style='o-', label='smart', grid=True, figsize=(10, 5)))\n",
    "    (median_ultra.sort_values(by=index, ascending=True)\n",
    "        .groupby('month')[index].sum()\n",
    "        .plot(x='month', y=index, style='o-', label='ultra', grid=True, figsize=(10, 5)))\n",
    "    \n",
    "    plt.title('Среднее количество в месяц для двух тарифов')\n",
    "    plt.xlabel('Месяц')\n",
    "    plt.ylabel(index)\n",
    "    plt.legend()\n",
    "    plt.show();"
   ]
  },
  {
   "cell_type": "code",
   "execution_count": 57,
   "metadata": {},
   "outputs": [
    {
     "data": {
      "image/png": "[encoded data removed]",
      "text/plain": [
       "<Figure size 1080x360 with 1 Axes>"
      ]
     },
     "metadata": {
      "needs_background": "light"
     },
     "output_type": "display_data"
    },
    {
     "data": {
      "image/png": "[encoded data removed]",
      "text/plain": [
       "<Figure size 1080x360 with 1 Axes>"
      ]
     },
     "metadata": {
      "needs_background": "light"
     },
     "output_type": "display_data"
    },
    {
     "data": {
      "image/png": "[encoded data removed]",
      "text/plain": [
       "<Figure size 1080x360 with 1 Axes>"
      ]
     },
     "metadata": {
      "needs_background": "light"
     },
     "output_type": "display_data"
    }
   ],
   "source": [
    "for index in ['minutes', 'message', 'mb_used']:\n",
    "    count_income_month.loc[count_income_month.loc[:,'tariff'] == 'smart'][index].plot(kind = 'hist', bins = 30,\n",
    "                                                                  label = 'smart', figsize = (15,5))\n",
    "    count_income_month.loc[count_income_month.loc[:,'tariff'] == 'ultra'][index].plot(kind = 'hist', bins = 30,\n",
    "                                                                  alpha =0.7, label = 'ultra',figsize = (15,5))\n",
    "    plt.title(index)\n",
    "    plt.grid()\n",
    "    plt.legend()\n",
    "    plt.show()"
   ]
  },
  {
   "cell_type": "markdown",
   "metadata": {},
   "source": [
    "Вывод: В среднем абоненты не выходят за рамки тарифного плана.Абоненты тарифа smart приходиться докупать около ~10% интернет трафика. Абоненты тарифа ultra практически не пользуются СМС."
   ]
  },
  {
   "cell_type": "markdown",
   "metadata": {},
   "source": [
    "### Подсчитаем дисперсию и стандартное отклонение"
   ]
  },
  {
   "cell_type": "code",
   "execution_count": 48,
   "metadata": {},
   "outputs": [
    {
     "data": {
      "text/html": [
       "<div>\n",
       "<style scoped>\n",
       "    .dataframe tbody tr th:only-of-type {\n",
       "        vertical-align: middle;\n",
       "    }\n",
       "\n",
       "    .dataframe tbody tr th {\n",
       "        vertical-align: top;\n",
       "    }\n",
       "\n",
       "    .dataframe thead tr th {\n",
       "        text-align: left;\n",
       "    }\n",
       "\n",
       "    .dataframe thead tr:last-of-type th {\n",
       "        text-align: right;\n",
       "    }\n",
       "</style>\n",
       "<table border=\"1\" class=\"dataframe\">\n",
       "  <thead>\n",
       "    <tr>\n",
       "      <th></th>\n",
       "      <th colspan=\"3\" halign=\"left\">median</th>\n",
       "      <th colspan=\"3\" halign=\"left\">var</th>\n",
       "      <th colspan=\"3\" halign=\"left\">std</th>\n",
       "    </tr>\n",
       "    <tr>\n",
       "      <th></th>\n",
       "      <th>mb_used</th>\n",
       "      <th>message</th>\n",
       "      <th>minutes</th>\n",
       "      <th>mb_used</th>\n",
       "      <th>message</th>\n",
       "      <th>minutes</th>\n",
       "      <th>mb_used</th>\n",
       "      <th>message</th>\n",
       "      <th>minutes</th>\n",
       "    </tr>\n",
       "    <tr>\n",
       "      <th>tariff</th>\n",
       "      <th></th>\n",
       "      <th></th>\n",
       "      <th></th>\n",
       "      <th></th>\n",
       "      <th></th>\n",
       "      <th></th>\n",
       "      <th></th>\n",
       "      <th></th>\n",
       "      <th></th>\n",
       "    </tr>\n",
       "  </thead>\n",
       "  <tbody>\n",
       "    <tr>\n",
       "      <td>smart</td>\n",
       "      <td>16,031.00</td>\n",
       "      <td>28.00</td>\n",
       "      <td>420.75</td>\n",
       "      <td>8,485,919.20</td>\n",
       "      <td>22.08</td>\n",
       "      <td>7,784.27</td>\n",
       "      <td>2,913.06</td>\n",
       "      <td>4.70</td>\n",
       "      <td>88.23</td>\n",
       "    </tr>\n",
       "    <tr>\n",
       "      <td>ultra</td>\n",
       "      <td>18,797.00</td>\n",
       "      <td>35.00</td>\n",
       "      <td>509.50</td>\n",
       "      <td>14,289,266.11</td>\n",
       "      <td>191.84</td>\n",
       "      <td>12,470.93</td>\n",
       "      <td>3,780.11</td>\n",
       "      <td>13.85</td>\n",
       "      <td>111.67</td>\n",
       "    </tr>\n",
       "  </tbody>\n",
       "</table>\n",
       "</div>"
      ],
      "text/plain": [
       "          median                           var                        std  \\\n",
       "         mb_used message minutes       mb_used message   minutes  mb_used   \n",
       "tariff                                                                      \n",
       "smart  16,031.00   28.00  420.75  8,485,919.20   22.08  7,784.27 2,913.06   \n",
       "ultra  18,797.00   35.00  509.50 14,289,266.11  191.84 12,470.93 3,780.11   \n",
       "\n",
       "                        \n",
       "       message minutes  \n",
       "tariff                  \n",
       "smart     4.70   88.23  \n",
       "ultra    13.85  111.67  "
      ]
     },
     "execution_count": 48,
     "metadata": {},
     "output_type": "execute_result"
    }
   ],
   "source": [
    "# импортируем библиотеку для расчета дисперсии и стандартного отклонения\n",
    "import numpy as np\n",
    "var_df_total = df_total.pivot_table(index='tariff', values=['minutes', 'message', 'mb_used'],\n",
    "                                   aggfunc=[np.median, np.var, np.std])\n",
    "var_df_total.head()"
   ]
  },
  {
   "cell_type": "markdown",
   "metadata": {},
   "source": [
    "Вывод: медиана и среднее значение практически не отличаются, значит выбросов нет."
   ]
  },
  {
   "cell_type": "code",
   "execution_count": 49,
   "metadata": {},
   "outputs": [
    {
     "data": {
      "image/png": "[encoded data removed]",
      "text/plain": [
       "<Figure size 360x360 with 1 Axes>"
      ]
     },
     "metadata": {
      "needs_background": "light"
     },
     "output_type": "display_data"
    },
    {
     "data": {
      "image/png": "[encoded data removed]",
      "text/plain": [
       "<Figure size 360x360 with 1 Axes>"
      ]
     },
     "metadata": {
      "needs_background": "light"
     },
     "output_type": "display_data"
    },
    {
     "data": {
      "image/png": "[encoded data removed]",
      "text/plain": [
       "<Figure size 360x360 with 1 Axes>"
      ]
     },
     "metadata": {
      "needs_background": "light"
     },
     "output_type": "display_data"
    },
    {
     "data": {
      "image/png": "[encoded data removed]",
      "text/plain": [
       "<Figure size 360x360 with 1 Axes>"
      ]
     },
     "metadata": {
      "needs_background": "light"
     },
     "output_type": "display_data"
    }
   ],
   "source": [
    "# диаграмма размаха\n",
    "for index in ['minutes', 'message', 'mb_used', 'income']:\n",
    "    sns.catplot(data=df_total, x='tariff', y=index, kind='box')"
   ]
  },
  {
   "cell_type": "markdown",
   "metadata": {},
   "source": [
    "## Проверим гипотезы"
   ]
  },
  {
   "cell_type": "markdown",
   "metadata": {},
   "source": [
    "### средняя выручка пользователей тарифов «Ультра» и «Смарт» различаются"
   ]
  },
  {
   "cell_type": "markdown",
   "metadata": {},
   "source": [
    "H0 — Средняя выручка пользователей тарифов \"Ультра\" и \"Смарт\" равна\n",
    "\n",
    "H1 — Средняя выручка пользователей тарифов \"Ультра\" и \"Смарт\" различается\n",
    "\n",
    "Уровень статистической значимости 0.05."
   ]
  },
  {
   "cell_type": "code",
   "execution_count": 50,
   "metadata": {},
   "outputs": [
    {
     "name": "stdout",
     "output_type": "stream",
     "text": [
      "p-значение: 0.00020822191334511194\n",
      "Отвергаем нулевую гипотезу\n"
     ]
    }
   ],
   "source": [
    "# импортируем библиотеку для проверки гипотез\n",
    "import scipy.stats as st\n",
    "alpha = 0.05 \n",
    "results = st.ttest_ind(median_smart['income'], median_ultra['income'])\n",
    "\n",
    "print('p-значение:', results.pvalue)\n",
    "\n",
    "if (results.pvalue < alpha):\n",
    "    print(\"Отвергаем нулевую гипотезу\")\n",
    "else:\n",
    "    print(\"Не получилось отвергнуть нулевую гипотезу\")"
   ]
  },
  {
   "cell_type": "markdown",
   "metadata": {},
   "source": [
    "Вывод: гипотеза Н0 не подтвердилась. Средняя выручка различается."
   ]
  },
  {
   "cell_type": "markdown",
   "metadata": {},
   "source": [
    "### средняя выручка пользователей из Москвы отличается от выручки пользователей из других регионов."
   ]
  },
  {
   "cell_type": "markdown",
   "metadata": {},
   "source": [
    "H0 — средняя выручка пользователей из Москвы равна средней выручке пользователей из других регионов.\n",
    "\n",
    "H1 — средняя выручка пользователей из Москвы отличается от средней выручке пользователей из других регионов.\n",
    "\n",
    "Уровень статистической значимости 0.05."
   ]
  },
  {
   "cell_type": "code",
   "execution_count": 51,
   "metadata": {},
   "outputs": [
    {
     "name": "stdout",
     "output_type": "stream",
     "text": [
      "p-значение: 0.5278865261905457\n",
      "Не получилось отвергнуть нулевую гипотезу\n"
     ]
    }
   ],
   "source": [
    "user_moscow = (count_income_month.query('city == \"Москва\"')\n",
    "               .groupby('user_id')['income'].sum())\n",
    "user_regions = (count_income_month.query('city != \"Москва\"')\n",
    "               .groupby('user_id')['income'].sum())\n",
    "\n",
    "alpha = 0.05 \n",
    "results = st.ttest_ind(user_moscow, user_regions)\n",
    "\n",
    "print('p-значение:', results.pvalue)\n",
    "\n",
    "if (results.pvalue < alpha):\n",
    "    print(\"Отвергаем нулевую гипотезу\")\n",
    "else:\n",
    "    print(\"Не получилось отвергнуть нулевую гипотезу\")"
   ]
  },
  {
   "cell_type": "markdown",
   "metadata": {},
   "source": [
    "Вывод: средняя выручка пользователей из Москвы равна средней выручке пользователей из других регионов."
   ]
  },
  {
   "cell_type": "markdown",
   "metadata": {},
   "source": [
    "## Общий вывод"
   ]
  },
  {
   "cell_type": "markdown",
   "metadata": {},
   "source": [
    "<div class=\"alert alert-info\"><b>Комментарий студента:</b> \n",
    "       \n",
    "- Тариф smart самый массовый, 351 абонент, из анализа данных этой группы видно что абоненты в основном придерживаются рамок тарифа, чаще всего превышают лимит интерент трафика. \n",
    "    \n",
    "- Можно предположить, что тариф ultra, 149 абонентов, пользуется спросом у состоятельных граждан, т.к. из данных видно они платят только абонет плату 1950р., звонки/интернет не превышают 50% от доступного лимита. \n",
    "   \n",
    "- Возможно, для привлечения новых абонентов, компании «Мегалайн» стоит пересмотреть тариф smart в сторону увеличения интернет трафика.\n",
    "    \n",
    "- Средний доход в месяц тарифа ultra(~ 1700р.) практически в 2 раза выше тарифа smart(~ 900р.). \n",
    "    \n",
    "    \n",
    "</div>"
   ]
  }
 ],
 "metadata": {
  "ExecuteTimeLog": [
   {
    "duration": 902,
    "start_time": "2022-01-14T07:40:00.587Z"
   },
   {
    "duration": 213,
    "start_time": "2022-01-14T07:41:32.694Z"
   },
   {
    "duration": 28,
    "start_time": "2022-01-14T07:41:47.808Z"
   },
   {
    "duration": 526,
    "start_time": "2022-01-14T07:42:37.417Z"
   },
   {
    "duration": 45,
    "start_time": "2022-01-14T07:42:51.521Z"
   },
   {
    "duration": 242,
    "start_time": "2022-01-14T07:58:57.742Z"
   },
   {
    "duration": 51,
    "start_time": "2022-01-14T07:59:24.271Z"
   },
   {
    "duration": 120,
    "start_time": "2022-01-14T08:02:45.135Z"
   },
   {
    "duration": 41,
    "start_time": "2022-01-14T08:03:14.208Z"
   },
   {
    "duration": 20,
    "start_time": "2022-01-14T08:05:01.563Z"
   },
   {
    "duration": 20,
    "start_time": "2022-01-14T08:26:04.342Z"
   },
   {
    "duration": 30,
    "start_time": "2022-01-14T08:28:06.914Z"
   },
   {
    "duration": 23,
    "start_time": "2022-01-14T08:28:35.176Z"
   },
   {
    "duration": 495,
    "start_time": "2022-01-14T09:25:06.555Z"
   },
   {
    "duration": 11,
    "start_time": "2022-01-14T09:25:23.871Z"
   },
   {
    "duration": 21,
    "start_time": "2022-01-14T09:26:04.420Z"
   },
   {
    "duration": 387,
    "start_time": "2022-01-14T09:29:40.357Z"
   },
   {
    "duration": 43,
    "start_time": "2022-01-14T09:29:53.910Z"
   },
   {
    "duration": 21,
    "start_time": "2022-01-14T09:30:16.799Z"
   },
   {
    "duration": 30,
    "start_time": "2022-01-14T09:31:19.972Z"
   },
   {
    "duration": 418,
    "start_time": "2022-01-14T09:32:54.664Z"
   },
   {
    "duration": 26,
    "start_time": "2022-01-14T09:33:18.533Z"
   },
   {
    "duration": 16,
    "start_time": "2022-01-14T09:36:46.867Z"
   },
   {
    "duration": 56,
    "start_time": "2022-01-14T09:42:06.859Z"
   },
   {
    "duration": 427,
    "start_time": "2022-01-14T09:56:05.371Z"
   },
   {
    "duration": 35,
    "start_time": "2022-01-14T09:56:14.189Z"
   },
   {
    "duration": 32,
    "start_time": "2022-01-14T09:57:17.131Z"
   },
   {
    "duration": 46,
    "start_time": "2022-01-14T10:03:28.876Z"
   },
   {
    "duration": 45,
    "start_time": "2022-01-14T10:04:38.908Z"
   },
   {
    "duration": 46,
    "start_time": "2022-01-14T10:04:50.264Z"
   },
   {
    "duration": 39,
    "start_time": "2022-01-14T10:05:03.438Z"
   },
   {
    "duration": 414,
    "start_time": "2022-01-14T10:05:39.114Z"
   },
   {
    "duration": 439,
    "start_time": "2022-01-14T10:05:45.946Z"
   },
   {
    "duration": 28,
    "start_time": "2022-01-14T10:06:07.808Z"
   },
   {
    "duration": 450,
    "start_time": "2022-01-14T10:09:51.721Z"
   },
   {
    "duration": 11,
    "start_time": "2022-01-14T10:10:01.360Z"
   },
   {
    "duration": 3,
    "start_time": "2022-01-14T10:13:29.156Z"
   },
   {
    "duration": 38,
    "start_time": "2022-01-14T10:28:27.248Z"
   },
   {
    "duration": 17,
    "start_time": "2022-01-14T10:32:53.806Z"
   },
   {
    "duration": 10,
    "start_time": "2022-01-14T10:36:06.579Z"
   },
   {
    "duration": 7,
    "start_time": "2022-01-14T10:36:33.075Z"
   },
   {
    "duration": 19,
    "start_time": "2022-01-14T10:38:02.196Z"
   },
   {
    "duration": 16,
    "start_time": "2022-01-14T10:38:25.904Z"
   },
   {
    "duration": 7,
    "start_time": "2022-01-14T10:38:36.149Z"
   },
   {
    "duration": 17,
    "start_time": "2022-01-14T11:05:59.847Z"
   },
   {
    "duration": 808,
    "start_time": "2022-01-14T11:06:07.220Z"
   },
   {
    "duration": 225,
    "start_time": "2022-01-14T11:06:08.031Z"
   },
   {
    "duration": 57,
    "start_time": "2022-01-14T11:06:08.258Z"
   },
   {
    "duration": 303,
    "start_time": "2022-01-14T11:06:08.318Z"
   },
   {
    "duration": 35,
    "start_time": "2022-01-14T11:06:08.624Z"
   },
   {
    "duration": 171,
    "start_time": "2022-01-14T11:06:08.661Z"
   },
   {
    "duration": 37,
    "start_time": "2022-01-14T11:06:08.835Z"
   },
   {
    "duration": 37,
    "start_time": "2022-01-14T11:06:08.876Z"
   },
   {
    "duration": 17,
    "start_time": "2022-01-14T11:06:08.920Z"
   },
   {
    "duration": 33,
    "start_time": "2022-01-14T11:06:08.939Z"
   },
   {
    "duration": 45,
    "start_time": "2022-01-14T11:06:08.975Z"
   },
   {
    "duration": 91,
    "start_time": "2022-01-14T11:06:09.023Z"
   },
   {
    "duration": 30,
    "start_time": "2022-01-14T11:06:09.116Z"
   },
   {
    "duration": 74,
    "start_time": "2022-01-14T11:06:09.148Z"
   },
   {
    "duration": 14,
    "start_time": "2022-01-14T11:06:09.224Z"
   },
   {
    "duration": 76,
    "start_time": "2022-01-14T11:06:09.240Z"
   },
   {
    "duration": 15,
    "start_time": "2022-01-14T11:06:09.319Z"
   },
   {
    "duration": 13,
    "start_time": "2022-01-14T11:06:09.337Z"
   },
   {
    "duration": 48,
    "start_time": "2022-01-14T11:06:09.353Z"
   },
   {
    "duration": 19,
    "start_time": "2022-01-14T11:07:03.507Z"
   },
   {
    "duration": 15,
    "start_time": "2022-01-14T11:07:12.925Z"
   },
   {
    "duration": 17,
    "start_time": "2022-01-14T11:09:51.449Z"
   },
   {
    "duration": 16,
    "start_time": "2022-01-14T11:09:57.150Z"
   },
   {
    "duration": 13,
    "start_time": "2022-01-14T11:10:25.206Z"
   },
   {
    "duration": 832,
    "start_time": "2022-01-14T11:10:31.017Z"
   },
   {
    "duration": 225,
    "start_time": "2022-01-14T11:10:31.852Z"
   },
   {
    "duration": 61,
    "start_time": "2022-01-14T11:10:32.080Z"
   },
   {
    "duration": 217,
    "start_time": "2022-01-14T11:10:32.145Z"
   },
   {
    "duration": 53,
    "start_time": "2022-01-14T11:10:32.365Z"
   },
   {
    "duration": 135,
    "start_time": "2022-01-14T11:10:32.428Z"
   },
   {
    "duration": 47,
    "start_time": "2022-01-14T11:10:32.565Z"
   },
   {
    "duration": 19,
    "start_time": "2022-01-14T11:10:32.617Z"
   },
   {
    "duration": 21,
    "start_time": "2022-01-14T11:10:32.639Z"
   },
   {
    "duration": 45,
    "start_time": "2022-01-14T11:10:32.662Z"
   },
   {
    "duration": 25,
    "start_time": "2022-01-14T11:10:32.710Z"
   },
   {
    "duration": 92,
    "start_time": "2022-01-14T11:10:32.737Z"
   },
   {
    "duration": 31,
    "start_time": "2022-01-14T11:10:32.831Z"
   },
   {
    "duration": 78,
    "start_time": "2022-01-14T11:10:32.864Z"
   },
   {
    "duration": 13,
    "start_time": "2022-01-14T11:10:32.944Z"
   },
   {
    "duration": 71,
    "start_time": "2022-01-14T11:10:32.960Z"
   },
   {
    "duration": 15,
    "start_time": "2022-01-14T11:10:33.034Z"
   },
   {
    "duration": 11,
    "start_time": "2022-01-14T11:10:33.052Z"
   },
   {
    "duration": 54,
    "start_time": "2022-01-14T11:10:33.066Z"
   },
   {
    "duration": 130,
    "start_time": "2022-01-14T11:24:14.145Z"
   },
   {
    "duration": 217,
    "start_time": "2022-01-14T11:24:56.599Z"
   },
   {
    "duration": 141,
    "start_time": "2022-01-14T11:25:10.788Z"
   },
   {
    "duration": 82,
    "start_time": "2022-01-14T11:25:19.660Z"
   },
   {
    "duration": 541,
    "start_time": "2022-01-14T11:25:59.012Z"
   },
   {
    "duration": 63,
    "start_time": "2022-01-14T11:26:05.726Z"
   },
   {
    "duration": 12,
    "start_time": "2022-01-14T11:26:33.141Z"
   },
   {
    "duration": 401,
    "start_time": "2022-01-14T11:45:39.450Z"
   },
   {
    "duration": 41,
    "start_time": "2022-01-14T11:45:56.076Z"
   },
   {
    "duration": 789,
    "start_time": "2022-01-14T11:46:56.138Z"
   },
   {
    "duration": 227,
    "start_time": "2022-01-14T11:46:56.930Z"
   },
   {
    "duration": 60,
    "start_time": "2022-01-14T11:46:57.160Z"
   },
   {
    "duration": 213,
    "start_time": "2022-01-14T11:46:57.224Z"
   },
   {
    "duration": 37,
    "start_time": "2022-01-14T11:46:57.441Z"
   },
   {
    "duration": 122,
    "start_time": "2022-01-14T11:46:57.500Z"
   },
   {
    "duration": 31,
    "start_time": "2022-01-14T11:46:57.624Z"
   },
   {
    "duration": 20,
    "start_time": "2022-01-14T11:46:57.661Z"
   },
   {
    "duration": 25,
    "start_time": "2022-01-14T11:46:57.701Z"
   },
   {
    "duration": 47,
    "start_time": "2022-01-14T11:46:57.729Z"
   },
   {
    "duration": 29,
    "start_time": "2022-01-14T11:46:57.779Z"
   },
   {
    "duration": 60,
    "start_time": "2022-01-14T11:46:57.817Z"
   },
   {
    "duration": 51,
    "start_time": "2022-01-14T11:46:57.879Z"
   },
   {
    "duration": 69,
    "start_time": "2022-01-14T11:46:57.932Z"
   },
   {
    "duration": 15,
    "start_time": "2022-01-14T11:46:58.004Z"
   },
   {
    "duration": 32,
    "start_time": "2022-01-14T11:46:58.022Z"
   },
   {
    "duration": 84,
    "start_time": "2022-01-14T11:46:58.057Z"
   },
   {
    "duration": 18,
    "start_time": "2022-01-14T11:46:58.144Z"
   },
   {
    "duration": 20,
    "start_time": "2022-01-14T11:46:58.206Z"
   },
   {
    "duration": 151,
    "start_time": "2022-01-14T11:46:58.229Z"
   },
   {
    "duration": 68,
    "start_time": "2022-01-14T11:46:58.382Z"
   },
   {
    "duration": 90,
    "start_time": "2022-01-14T11:46:58.453Z"
   },
   {
    "duration": 12,
    "start_time": "2022-01-14T11:46:58.549Z"
   },
   {
    "duration": 42,
    "start_time": "2022-01-14T11:53:47.426Z"
   },
   {
    "duration": 551,
    "start_time": "2022-01-14T12:04:24.865Z"
   },
   {
    "duration": 410,
    "start_time": "2022-01-14T12:04:38.626Z"
   },
   {
    "duration": 39,
    "start_time": "2022-01-14T12:04:58.428Z"
   },
   {
    "duration": 424,
    "start_time": "2022-01-14T12:14:47.023Z"
   },
   {
    "duration": 394,
    "start_time": "2022-01-14T12:15:20.659Z"
   },
   {
    "duration": 453,
    "start_time": "2022-01-14T12:17:18.843Z"
   },
   {
    "duration": 791,
    "start_time": "2022-01-14T12:17:24.241Z"
   },
   {
    "duration": 225,
    "start_time": "2022-01-14T12:17:25.035Z"
   },
   {
    "duration": 61,
    "start_time": "2022-01-14T12:17:25.263Z"
   },
   {
    "duration": 189,
    "start_time": "2022-01-14T12:17:25.327Z"
   },
   {
    "duration": 32,
    "start_time": "2022-01-14T12:17:25.519Z"
   },
   {
    "duration": 141,
    "start_time": "2022-01-14T12:17:25.554Z"
   },
   {
    "duration": 26,
    "start_time": "2022-01-14T12:17:25.697Z"
   },
   {
    "duration": 19,
    "start_time": "2022-01-14T12:17:25.727Z"
   },
   {
    "duration": 19,
    "start_time": "2022-01-14T12:17:25.749Z"
   },
   {
    "duration": 41,
    "start_time": "2022-01-14T12:17:25.802Z"
   },
   {
    "duration": 40,
    "start_time": "2022-01-14T12:17:25.846Z"
   },
   {
    "duration": 61,
    "start_time": "2022-01-14T12:17:25.888Z"
   },
   {
    "duration": 30,
    "start_time": "2022-01-14T12:17:25.952Z"
   },
   {
    "duration": 52,
    "start_time": "2022-01-14T12:17:25.984Z"
   },
   {
    "duration": 13,
    "start_time": "2022-01-14T12:17:26.039Z"
   },
   {
    "duration": 68,
    "start_time": "2022-01-14T12:17:26.054Z"
   },
   {
    "duration": 38,
    "start_time": "2022-01-14T12:17:26.125Z"
   },
   {
    "duration": 40,
    "start_time": "2022-01-14T12:17:26.166Z"
   },
   {
    "duration": 15,
    "start_time": "2022-01-14T12:17:26.209Z"
   },
   {
    "duration": 167,
    "start_time": "2022-01-14T12:17:26.227Z"
   },
   {
    "duration": 56,
    "start_time": "2022-01-14T12:17:26.400Z"
   },
   {
    "duration": 87,
    "start_time": "2022-01-14T12:17:26.459Z"
   },
   {
    "duration": 10,
    "start_time": "2022-01-14T12:17:26.550Z"
   },
   {
    "duration": 68,
    "start_time": "2022-01-14T12:17:26.563Z"
   },
   {
    "duration": 44,
    "start_time": "2022-01-14T12:17:26.633Z"
   },
   {
    "duration": 46,
    "start_time": "2022-01-14T12:17:26.680Z"
   },
   {
    "duration": 363,
    "start_time": "2022-01-14T12:20:09.669Z"
   },
   {
    "duration": 4037,
    "start_time": "2022-01-14T12:20:22.705Z"
   },
   {
    "duration": 28,
    "start_time": "2022-01-14T12:21:17.692Z"
   },
   {
    "duration": 35,
    "start_time": "2022-01-14T12:24:02.966Z"
   },
   {
    "duration": 34,
    "start_time": "2022-01-14T12:26:50.878Z"
   },
   {
    "duration": 402,
    "start_time": "2022-01-17T04:43:30.685Z"
   },
   {
    "duration": 696,
    "start_time": "2022-01-17T04:43:43.655Z"
   },
   {
    "duration": 184,
    "start_time": "2022-01-17T04:43:44.354Z"
   },
   {
    "duration": 41,
    "start_time": "2022-01-17T04:43:44.541Z"
   },
   {
    "duration": 178,
    "start_time": "2022-01-17T04:43:44.584Z"
   },
   {
    "duration": 30,
    "start_time": "2022-01-17T04:43:44.764Z"
   },
   {
    "duration": 112,
    "start_time": "2022-01-17T04:43:44.796Z"
   },
   {
    "duration": 32,
    "start_time": "2022-01-17T04:43:44.911Z"
   },
   {
    "duration": 15,
    "start_time": "2022-01-17T04:43:44.947Z"
   },
   {
    "duration": 16,
    "start_time": "2022-01-17T04:43:44.965Z"
   },
   {
    "duration": 47,
    "start_time": "2022-01-17T04:43:44.984Z"
   },
   {
    "duration": 22,
    "start_time": "2022-01-17T04:43:45.033Z"
   },
   {
    "duration": 104,
    "start_time": "2022-01-17T04:43:45.058Z"
   },
   {
    "duration": 29,
    "start_time": "2022-01-17T04:43:45.165Z"
   },
   {
    "duration": 67,
    "start_time": "2022-01-17T04:43:45.197Z"
   },
   {
    "duration": 15,
    "start_time": "2022-01-17T04:43:45.267Z"
   },
   {
    "duration": 62,
    "start_time": "2022-01-17T04:43:45.285Z"
   },
   {
    "duration": 73,
    "start_time": "2022-01-17T04:43:45.350Z"
   },
   {
    "duration": 16,
    "start_time": "2022-01-17T04:43:45.425Z"
   },
   {
    "duration": 22,
    "start_time": "2022-01-17T04:43:45.444Z"
   },
   {
    "duration": 157,
    "start_time": "2022-01-17T04:43:45.469Z"
   },
   {
    "duration": 52,
    "start_time": "2022-01-17T04:43:45.629Z"
   },
   {
    "duration": 82,
    "start_time": "2022-01-17T04:43:45.684Z"
   },
   {
    "duration": 8,
    "start_time": "2022-01-17T04:43:45.771Z"
   },
   {
    "duration": 69,
    "start_time": "2022-01-17T04:43:45.782Z"
   },
   {
    "duration": 39,
    "start_time": "2022-01-17T04:43:45.853Z"
   },
   {
    "duration": 50,
    "start_time": "2022-01-17T04:43:45.895Z"
   },
   {
    "duration": 29,
    "start_time": "2022-01-17T04:43:45.948Z"
   },
   {
    "duration": 64,
    "start_time": "2022-01-17T04:43:45.979Z"
   },
   {
    "duration": 31,
    "start_time": "2022-01-17T04:43:46.046Z"
   },
   {
    "duration": 51,
    "start_time": "2022-01-17T04:43:46.079Z"
   },
   {
    "duration": 393,
    "start_time": "2022-01-17T04:48:42.824Z"
   },
   {
    "duration": 31,
    "start_time": "2022-01-17T04:48:50.636Z"
   },
   {
    "duration": 120,
    "start_time": "2022-01-17T04:53:26.531Z"
   },
   {
    "duration": 43,
    "start_time": "2022-01-17T04:53:37.384Z"
   },
   {
    "duration": 10,
    "start_time": "2022-01-17T04:56:18.440Z"
   },
   {
    "duration": 5,
    "start_time": "2022-01-17T04:56:41.696Z"
   },
   {
    "duration": 9,
    "start_time": "2022-01-17T05:00:45.653Z"
   },
   {
    "duration": 14,
    "start_time": "2022-01-17T05:18:13.485Z"
   },
   {
    "duration": 7,
    "start_time": "2022-01-17T05:19:14.338Z"
   },
   {
    "duration": 16,
    "start_time": "2022-01-17T05:22:27.495Z"
   },
   {
    "duration": 38,
    "start_time": "2022-01-17T05:25:30.503Z"
   },
   {
    "duration": 2010,
    "start_time": "2022-01-17T05:34:23.370Z"
   },
   {
    "duration": 1943,
    "start_time": "2022-01-17T05:34:37.631Z"
   },
   {
    "duration": 11,
    "start_time": "2022-01-17T05:34:52.437Z"
   },
   {
    "duration": 42,
    "start_time": "2022-01-17T05:36:59.310Z"
   },
   {
    "duration": 774,
    "start_time": "2022-01-17T05:37:06.600Z"
   },
   {
    "duration": 198,
    "start_time": "2022-01-17T05:37:07.377Z"
   },
   {
    "duration": 58,
    "start_time": "2022-01-17T05:37:07.578Z"
   },
   {
    "duration": 176,
    "start_time": "2022-01-17T05:37:07.638Z"
   },
   {
    "duration": 32,
    "start_time": "2022-01-17T05:37:07.816Z"
   },
   {
    "duration": 129,
    "start_time": "2022-01-17T05:37:07.850Z"
   },
   {
    "duration": 26,
    "start_time": "2022-01-17T05:37:07.981Z"
   },
   {
    "duration": 16,
    "start_time": "2022-01-17T05:37:08.025Z"
   },
   {
    "duration": 20,
    "start_time": "2022-01-17T05:37:08.044Z"
   },
   {
    "duration": 24,
    "start_time": "2022-01-17T05:37:08.067Z"
   },
   {
    "duration": 41,
    "start_time": "2022-01-17T05:37:08.093Z"
   },
   {
    "duration": 58,
    "start_time": "2022-01-17T05:37:08.137Z"
   },
   {
    "duration": 30,
    "start_time": "2022-01-17T05:37:08.225Z"
   },
   {
    "duration": 72,
    "start_time": "2022-01-17T05:37:08.258Z"
   },
   {
    "duration": 12,
    "start_time": "2022-01-17T05:37:08.332Z"
   },
   {
    "duration": 27,
    "start_time": "2022-01-17T05:37:08.347Z"
   },
   {
    "duration": 77,
    "start_time": "2022-01-17T05:37:08.377Z"
   },
   {
    "duration": 20,
    "start_time": "2022-01-17T05:37:08.457Z"
   },
   {
    "duration": 49,
    "start_time": "2022-01-17T05:37:08.480Z"
   },
   {
    "duration": 165,
    "start_time": "2022-01-17T05:37:08.531Z"
   },
   {
    "duration": 63,
    "start_time": "2022-01-17T05:37:08.699Z"
   },
   {
    "duration": 76,
    "start_time": "2022-01-17T05:37:08.765Z"
   },
   {
    "duration": 9,
    "start_time": "2022-01-17T05:37:08.846Z"
   },
   {
    "duration": 75,
    "start_time": "2022-01-17T05:37:08.858Z"
   },
   {
    "duration": 40,
    "start_time": "2022-01-17T05:37:08.935Z"
   },
   {
    "duration": 65,
    "start_time": "2022-01-17T05:37:08.978Z"
   },
   {
    "duration": 31,
    "start_time": "2022-01-17T05:37:09.046Z"
   },
   {
    "duration": 66,
    "start_time": "2022-01-17T05:37:09.079Z"
   },
   {
    "duration": 32,
    "start_time": "2022-01-17T05:37:09.147Z"
   },
   {
    "duration": 76,
    "start_time": "2022-01-17T05:37:09.181Z"
   },
   {
    "duration": 6,
    "start_time": "2022-01-17T05:37:09.259Z"
   },
   {
    "duration": 9,
    "start_time": "2022-01-17T05:37:09.267Z"
   },
   {
    "duration": 54,
    "start_time": "2022-01-17T05:37:09.279Z"
   },
   {
    "duration": 44,
    "start_time": "2022-01-17T05:37:09.335Z"
   },
   {
    "duration": 46,
    "start_time": "2022-01-17T05:37:09.381Z"
   },
   {
    "duration": 7,
    "start_time": "2022-01-17T06:28:22.028Z"
   },
   {
    "duration": 999,
    "start_time": "2022-01-17T06:29:44.831Z"
   },
   {
    "duration": 7,
    "start_time": "2022-01-17T06:31:23.773Z"
   },
   {
    "duration": 789,
    "start_time": "2022-01-17T06:31:24.690Z"
   },
   {
    "duration": 809,
    "start_time": "2022-01-17T06:32:04.503Z"
   },
   {
    "duration": 202,
    "start_time": "2022-01-17T06:32:05.314Z"
   },
   {
    "duration": 43,
    "start_time": "2022-01-17T06:32:05.520Z"
   },
   {
    "duration": 192,
    "start_time": "2022-01-17T06:32:05.566Z"
   },
   {
    "duration": 35,
    "start_time": "2022-01-17T06:32:05.761Z"
   },
   {
    "duration": 119,
    "start_time": "2022-01-17T06:32:05.822Z"
   },
   {
    "duration": 30,
    "start_time": "2022-01-17T06:32:05.944Z"
   },
   {
    "duration": 46,
    "start_time": "2022-01-17T06:32:05.979Z"
   },
   {
    "duration": 18,
    "start_time": "2022-01-17T06:32:06.028Z"
   },
   {
    "duration": 25,
    "start_time": "2022-01-17T06:32:06.049Z"
   },
   {
    "duration": 24,
    "start_time": "2022-01-17T06:32:06.077Z"
   },
   {
    "duration": 58,
    "start_time": "2022-01-17T06:32:06.123Z"
   },
   {
    "duration": 69,
    "start_time": "2022-01-17T06:32:06.184Z"
   },
   {
    "duration": 42,
    "start_time": "2022-01-17T06:32:06.256Z"
   },
   {
    "duration": 24,
    "start_time": "2022-01-17T06:32:06.301Z"
   },
   {
    "duration": 26,
    "start_time": "2022-01-17T06:32:06.327Z"
   },
   {
    "duration": 70,
    "start_time": "2022-01-17T06:32:06.355Z"
   },
   {
    "duration": 15,
    "start_time": "2022-01-17T06:32:06.427Z"
   },
   {
    "duration": 22,
    "start_time": "2022-01-17T06:32:06.444Z"
   },
   {
    "duration": 156,
    "start_time": "2022-01-17T06:32:06.468Z"
   },
   {
    "duration": 58,
    "start_time": "2022-01-17T06:32:06.627Z"
   },
   {
    "duration": 79,
    "start_time": "2022-01-17T06:32:06.688Z"
   },
   {
    "duration": 11,
    "start_time": "2022-01-17T06:32:06.774Z"
   },
   {
    "duration": 70,
    "start_time": "2022-01-17T06:32:06.788Z"
   },
   {
    "duration": 40,
    "start_time": "2022-01-17T06:32:06.861Z"
   },
   {
    "duration": 29,
    "start_time": "2022-01-17T06:32:06.923Z"
   },
   {
    "duration": 30,
    "start_time": "2022-01-17T06:32:06.954Z"
   },
   {
    "duration": 65,
    "start_time": "2022-01-17T06:32:06.987Z"
   },
   {
    "duration": 32,
    "start_time": "2022-01-17T06:32:07.055Z"
   },
   {
    "duration": 69,
    "start_time": "2022-01-17T06:32:07.089Z"
   },
   {
    "duration": 6,
    "start_time": "2022-01-17T06:32:07.161Z"
   },
   {
    "duration": 13,
    "start_time": "2022-01-17T06:32:07.169Z"
   },
   {
    "duration": 54,
    "start_time": "2022-01-17T06:32:07.184Z"
   },
   {
    "duration": 37,
    "start_time": "2022-01-17T06:32:07.241Z"
   },
   {
    "duration": 50,
    "start_time": "2022-01-17T06:32:07.281Z"
   },
   {
    "duration": 8,
    "start_time": "2022-01-17T06:32:07.333Z"
   },
   {
    "duration": 954,
    "start_time": "2022-01-17T06:32:07.344Z"
   },
   {
    "duration": 8,
    "start_time": "2022-01-17T06:32:59.344Z"
   },
   {
    "duration": 570,
    "start_time": "2022-01-17T06:33:00.091Z"
   },
   {
    "duration": 9,
    "start_time": "2022-01-17T06:54:22.533Z"
   },
   {
    "duration": 605,
    "start_time": "2022-01-17T06:54:23.214Z"
   },
   {
    "duration": 10,
    "start_time": "2022-01-17T06:55:17.860Z"
   },
   {
    "duration": 584,
    "start_time": "2022-01-17T06:55:18.451Z"
   },
   {
    "duration": 556,
    "start_time": "2022-01-17T06:58:30.228Z"
   },
   {
    "duration": 560,
    "start_time": "2022-01-17T06:58:41.485Z"
   },
   {
    "duration": 188,
    "start_time": "2022-01-17T07:05:57.491Z"
   },
   {
    "duration": 156,
    "start_time": "2022-01-17T07:06:15.730Z"
   },
   {
    "duration": 310,
    "start_time": "2022-01-17T07:06:17.004Z"
   },
   {
    "duration": 299,
    "start_time": "2022-01-17T07:06:24.981Z"
   },
   {
    "duration": 180,
    "start_time": "2022-01-17T07:06:36.270Z"
   },
   {
    "duration": 34,
    "start_time": "2022-01-17T07:06:36.785Z"
   },
   {
    "duration": 744,
    "start_time": "2022-01-17T07:08:04.185Z"
   },
   {
    "duration": 203,
    "start_time": "2022-01-17T07:08:04.931Z"
   },
   {
    "duration": 47,
    "start_time": "2022-01-17T07:08:05.137Z"
   },
   {
    "duration": 195,
    "start_time": "2022-01-17T07:08:05.187Z"
   },
   {
    "duration": 43,
    "start_time": "2022-01-17T07:08:05.385Z"
   },
   {
    "duration": 113,
    "start_time": "2022-01-17T07:08:05.431Z"
   },
   {
    "duration": 27,
    "start_time": "2022-01-17T07:08:05.546Z"
   },
   {
    "duration": 17,
    "start_time": "2022-01-17T07:08:05.577Z"
   },
   {
    "duration": 40,
    "start_time": "2022-01-17T07:08:05.597Z"
   },
   {
    "duration": 24,
    "start_time": "2022-01-17T07:08:05.639Z"
   },
   {
    "duration": 20,
    "start_time": "2022-01-17T07:08:05.666Z"
   },
   {
    "duration": 87,
    "start_time": "2022-01-17T07:08:05.688Z"
   },
   {
    "duration": 28,
    "start_time": "2022-01-17T07:08:05.777Z"
   },
   {
    "duration": 40,
    "start_time": "2022-01-17T07:08:05.824Z"
   },
   {
    "duration": 12,
    "start_time": "2022-01-17T07:08:05.867Z"
   },
   {
    "duration": 63,
    "start_time": "2022-01-17T07:08:05.881Z"
   },
   {
    "duration": 35,
    "start_time": "2022-01-17T07:08:05.947Z"
   },
   {
    "duration": 39,
    "start_time": "2022-01-17T07:08:05.984Z"
   },
   {
    "duration": 15,
    "start_time": "2022-01-17T07:08:06.025Z"
   },
   {
    "duration": 150,
    "start_time": "2022-01-17T07:08:06.042Z"
   },
   {
    "duration": 62,
    "start_time": "2022-01-17T07:08:06.195Z"
   },
   {
    "duration": 66,
    "start_time": "2022-01-17T07:08:06.260Z"
   },
   {
    "duration": 10,
    "start_time": "2022-01-17T07:08:06.330Z"
   },
   {
    "duration": 44,
    "start_time": "2022-01-17T07:08:06.344Z"
   },
   {
    "duration": 47,
    "start_time": "2022-01-17T07:08:06.424Z"
   },
   {
    "duration": 67,
    "start_time": "2022-01-17T07:08:06.474Z"
   },
   {
    "duration": 34,
    "start_time": "2022-01-17T07:08:06.544Z"
   },
   {
    "duration": 63,
    "start_time": "2022-01-17T07:08:06.581Z"
   },
   {
    "duration": 33,
    "start_time": "2022-01-17T07:08:06.648Z"
   },
   {
    "duration": 74,
    "start_time": "2022-01-17T07:08:06.684Z"
   },
   {
    "duration": 7,
    "start_time": "2022-01-17T07:08:06.761Z"
   },
   {
    "duration": 11,
    "start_time": "2022-01-17T07:08:06.771Z"
   },
   {
    "duration": 20,
    "start_time": "2022-01-17T07:08:06.825Z"
   },
   {
    "duration": 87,
    "start_time": "2022-01-17T07:08:06.848Z"
   },
   {
    "duration": 13,
    "start_time": "2022-01-17T07:08:06.939Z"
   },
   {
    "duration": 9,
    "start_time": "2022-01-17T07:08:06.955Z"
   },
   {
    "duration": 579,
    "start_time": "2022-01-17T07:08:06.967Z"
   },
   {
    "duration": 22,
    "start_time": "2022-01-17T07:13:17.767Z"
   },
   {
    "duration": 89,
    "start_time": "2022-01-17T09:21:38.657Z"
   },
   {
    "duration": 363,
    "start_time": "2022-01-17T09:21:53.550Z"
   },
   {
    "duration": 311,
    "start_time": "2022-01-17T09:22:01.829Z"
   },
   {
    "duration": 13,
    "start_time": "2022-01-17T09:22:12.729Z"
   },
   {
    "duration": 21,
    "start_time": "2022-01-17T09:22:24.996Z"
   },
   {
    "duration": 18,
    "start_time": "2022-01-17T09:47:10.575Z"
   },
   {
    "duration": 20,
    "start_time": "2022-01-17T09:47:23.488Z"
   },
   {
    "duration": 18,
    "start_time": "2022-01-17T09:47:47.375Z"
   },
   {
    "duration": 106,
    "start_time": "2022-01-17T09:55:44.861Z"
   },
   {
    "duration": 1656,
    "start_time": "2022-01-17T10:05:27.977Z"
   },
   {
    "duration": 1513,
    "start_time": "2022-01-17T10:05:54.845Z"
   },
   {
    "duration": 1690,
    "start_time": "2022-01-17T10:07:05.510Z"
   },
   {
    "duration": 109,
    "start_time": "2022-01-17T10:07:38.640Z"
   },
   {
    "duration": 576,
    "start_time": "2022-01-17T10:07:45.868Z"
   },
   {
    "duration": 1958,
    "start_time": "2022-01-17T10:07:57.523Z"
   },
   {
    "duration": 1525,
    "start_time": "2022-01-17T10:09:17.400Z"
   },
   {
    "duration": 1453,
    "start_time": "2022-01-17T10:09:50.782Z"
   },
   {
    "duration": 1456,
    "start_time": "2022-01-17T10:10:30.685Z"
   },
   {
    "duration": 1516,
    "start_time": "2022-01-17T10:11:48.870Z"
   },
   {
    "duration": 1457,
    "start_time": "2022-01-17T10:13:08.059Z"
   },
   {
    "duration": 1721,
    "start_time": "2022-01-17T10:13:21.494Z"
   },
   {
    "duration": 2330,
    "start_time": "2022-01-17T10:16:07.169Z"
   },
   {
    "duration": 1633,
    "start_time": "2022-01-17T10:16:27.569Z"
   },
   {
    "duration": 1538,
    "start_time": "2022-01-17T10:16:42.915Z"
   },
   {
    "duration": 29,
    "start_time": "2022-01-17T10:44:09.077Z"
   },
   {
    "duration": 1742,
    "start_time": "2022-01-17T10:48:26.563Z"
   },
   {
    "duration": 98,
    "start_time": "2022-01-17T11:15:38.192Z"
   },
   {
    "duration": 206,
    "start_time": "2022-01-17T11:15:45.799Z"
   },
   {
    "duration": 175,
    "start_time": "2022-01-17T11:16:12.468Z"
   },
   {
    "duration": 103,
    "start_time": "2022-01-17T11:17:11.686Z"
   },
   {
    "duration": 791,
    "start_time": "2022-01-17T11:17:18.629Z"
   },
   {
    "duration": 703,
    "start_time": "2022-01-17T11:17:25.022Z"
   },
   {
    "duration": 750,
    "start_time": "2022-01-17T11:17:32.048Z"
   },
   {
    "duration": 279,
    "start_time": "2022-01-17T11:17:52.375Z"
   },
   {
    "duration": 8013,
    "start_time": "2022-01-17T11:18:00.513Z"
   },
   {
    "duration": 10,
    "start_time": "2022-01-17T11:18:29.376Z"
   },
   {
    "duration": 10,
    "start_time": "2022-01-17T11:18:38.543Z"
   },
   {
    "duration": 8,
    "start_time": "2022-01-17T11:18:50.678Z"
   },
   {
    "duration": 8,
    "start_time": "2022-01-17T11:19:02.499Z"
   },
   {
    "duration": 330,
    "start_time": "2022-01-17T11:25:44.254Z"
   },
   {
    "duration": 288,
    "start_time": "2022-01-17T11:26:03.779Z"
   },
   {
    "duration": 305,
    "start_time": "2022-01-17T11:36:09.243Z"
   },
   {
    "duration": 308,
    "start_time": "2022-01-17T11:36:51.486Z"
   },
   {
    "duration": 271,
    "start_time": "2022-01-17T11:38:22.643Z"
   },
   {
    "duration": 763,
    "start_time": "2022-01-17T11:39:19.225Z"
   },
   {
    "duration": 198,
    "start_time": "2022-01-17T11:39:19.990Z"
   },
   {
    "duration": 57,
    "start_time": "2022-01-17T11:39:20.191Z"
   },
   {
    "duration": 177,
    "start_time": "2022-01-17T11:39:20.251Z"
   },
   {
    "duration": 30,
    "start_time": "2022-01-17T11:39:20.430Z"
   },
   {
    "duration": 136,
    "start_time": "2022-01-17T11:39:20.462Z"
   },
   {
    "duration": 42,
    "start_time": "2022-01-17T11:39:20.601Z"
   },
   {
    "duration": 16,
    "start_time": "2022-01-17T11:39:20.648Z"
   },
   {
    "duration": 24,
    "start_time": "2022-01-17T11:39:20.667Z"
   },
   {
    "duration": 35,
    "start_time": "2022-01-17T11:39:20.694Z"
   },
   {
    "duration": 22,
    "start_time": "2022-01-17T11:39:20.731Z"
   },
   {
    "duration": 86,
    "start_time": "2022-01-17T11:39:20.756Z"
   },
   {
    "duration": 28,
    "start_time": "2022-01-17T11:39:20.844Z"
   },
   {
    "duration": 62,
    "start_time": "2022-01-17T11:39:20.875Z"
   },
   {
    "duration": 14,
    "start_time": "2022-01-17T11:39:20.939Z"
   },
   {
    "duration": 28,
    "start_time": "2022-01-17T11:39:20.956Z"
   },
   {
    "duration": 70,
    "start_time": "2022-01-17T11:39:20.987Z"
   },
   {
    "duration": 15,
    "start_time": "2022-01-17T11:39:21.060Z"
   },
   {
    "duration": 46,
    "start_time": "2022-01-17T11:39:21.077Z"
   },
   {
    "duration": 126,
    "start_time": "2022-01-17T11:39:21.125Z"
   },
   {
    "duration": 51,
    "start_time": "2022-01-17T11:39:21.253Z"
   },
   {
    "duration": 65,
    "start_time": "2022-01-17T11:39:21.307Z"
   },
   {
    "duration": 9,
    "start_time": "2022-01-17T11:39:21.376Z"
   },
   {
    "duration": 72,
    "start_time": "2022-01-17T11:39:21.387Z"
   },
   {
    "duration": 41,
    "start_time": "2022-01-17T11:39:21.462Z"
   },
   {
    "duration": 29,
    "start_time": "2022-01-17T11:39:21.524Z"
   },
   {
    "duration": 31,
    "start_time": "2022-01-17T11:39:21.556Z"
   },
   {
    "duration": 62,
    "start_time": "2022-01-17T11:39:21.590Z"
   },
   {
    "duration": 32,
    "start_time": "2022-01-17T11:39:21.655Z"
   },
   {
    "duration": 67,
    "start_time": "2022-01-17T11:39:21.690Z"
   },
   {
    "duration": 5,
    "start_time": "2022-01-17T11:39:21.760Z"
   },
   {
    "duration": 10,
    "start_time": "2022-01-17T11:39:21.767Z"
   },
   {
    "duration": 52,
    "start_time": "2022-01-17T11:39:21.779Z"
   },
   {
    "duration": 35,
    "start_time": "2022-01-17T11:39:21.834Z"
   },
   {
    "duration": 10,
    "start_time": "2022-01-17T11:39:21.872Z"
   },
   {
    "duration": 45,
    "start_time": "2022-01-17T11:39:21.885Z"
   },
   {
    "duration": 594,
    "start_time": "2022-01-17T11:39:21.933Z"
   },
   {
    "duration": 20,
    "start_time": "2022-01-17T11:39:22.529Z"
   },
   {
    "duration": 18,
    "start_time": "2022-01-17T11:39:22.551Z"
   },
   {
    "duration": 147,
    "start_time": "2022-01-17T11:39:22.571Z"
   },
   {
    "duration": 33,
    "start_time": "2022-01-17T11:39:22.720Z"
   },
   {
    "duration": 1704,
    "start_time": "2022-01-17T11:39:22.756Z"
   },
   {
    "duration": 508,
    "start_time": "2022-01-17T11:39:24.463Z"
   },
   {
    "duration": 23,
    "start_time": "2022-01-17T11:40:54.795Z"
   },
   {
    "duration": 12,
    "start_time": "2022-01-17T11:41:25.554Z"
   },
   {
    "duration": 484,
    "start_time": "2022-01-18T04:32:10.130Z"
   },
   {
    "duration": 815,
    "start_time": "2022-01-18T04:32:20.945Z"
   },
   {
    "duration": 1278,
    "start_time": "2022-01-18T04:32:21.764Z"
   },
   {
    "duration": 44,
    "start_time": "2022-01-18T04:32:23.045Z"
   },
   {
    "duration": 854,
    "start_time": "2022-01-18T04:32:23.091Z"
   },
   {
    "duration": 32,
    "start_time": "2022-01-18T04:32:23.947Z"
   },
   {
    "duration": 112,
    "start_time": "2022-01-18T04:32:23.982Z"
   },
   {
    "duration": 26,
    "start_time": "2022-01-18T04:32:24.097Z"
   },
   {
    "duration": 19,
    "start_time": "2022-01-18T04:32:24.127Z"
   },
   {
    "duration": 17,
    "start_time": "2022-01-18T04:32:24.161Z"
   },
   {
    "duration": 51,
    "start_time": "2022-01-18T04:32:24.181Z"
   },
   {
    "duration": 21,
    "start_time": "2022-01-18T04:32:24.234Z"
   },
   {
    "duration": 60,
    "start_time": "2022-01-18T04:32:24.257Z"
   },
   {
    "duration": 28,
    "start_time": "2022-01-18T04:32:24.319Z"
   },
   {
    "duration": 44,
    "start_time": "2022-01-18T04:32:24.360Z"
   },
   {
    "duration": 12,
    "start_time": "2022-01-18T04:32:24.406Z"
   },
   {
    "duration": 60,
    "start_time": "2022-01-18T04:32:24.421Z"
   },
   {
    "duration": 36,
    "start_time": "2022-01-18T04:32:24.483Z"
   },
   {
    "duration": 14,
    "start_time": "2022-01-18T04:32:24.521Z"
   },
   {
    "duration": 33,
    "start_time": "2022-01-18T04:32:24.538Z"
   },
   {
    "duration": 137,
    "start_time": "2022-01-18T04:32:24.574Z"
   },
   {
    "duration": 66,
    "start_time": "2022-01-18T04:32:24.713Z"
   },
   {
    "duration": 53,
    "start_time": "2022-01-18T04:32:24.782Z"
   },
   {
    "duration": 24,
    "start_time": "2022-01-18T04:32:24.840Z"
   },
   {
    "duration": 41,
    "start_time": "2022-01-18T04:32:24.866Z"
   },
   {
    "duration": 64,
    "start_time": "2022-01-18T04:32:24.909Z"
   },
   {
    "duration": 28,
    "start_time": "2022-01-18T04:32:24.975Z"
   },
   {
    "duration": 31,
    "start_time": "2022-01-18T04:32:25.005Z"
   },
   {
    "duration": 33,
    "start_time": "2022-01-18T04:32:25.060Z"
   },
   {
    "duration": 31,
    "start_time": "2022-01-18T04:32:25.095Z"
   },
   {
    "duration": 66,
    "start_time": "2022-01-18T04:32:25.129Z"
   },
   {
    "duration": 7,
    "start_time": "2022-01-18T04:32:25.198Z"
   },
   {
    "duration": 17,
    "start_time": "2022-01-18T04:32:25.208Z"
   },
   {
    "duration": 20,
    "start_time": "2022-01-18T04:32:25.260Z"
   },
   {
    "duration": 36,
    "start_time": "2022-01-18T04:32:25.283Z"
   },
   {
    "duration": 46,
    "start_time": "2022-01-18T04:32:25.321Z"
   },
   {
    "duration": 9,
    "start_time": "2022-01-18T04:32:25.370Z"
   },
   {
    "duration": 575,
    "start_time": "2022-01-18T04:32:25.381Z"
   },
   {
    "duration": 22,
    "start_time": "2022-01-18T04:32:25.959Z"
   },
   {
    "duration": 20,
    "start_time": "2022-01-18T04:32:25.984Z"
   },
   {
    "duration": 148,
    "start_time": "2022-01-18T04:32:26.007Z"
   },
   {
    "duration": 31,
    "start_time": "2022-01-18T04:32:26.158Z"
   },
   {
    "duration": 23,
    "start_time": "2022-01-18T04:32:26.191Z"
   },
   {
    "duration": 9129,
    "start_time": "2022-01-18T04:32:26.216Z"
   },
   {
    "duration": 12,
    "start_time": "2022-01-18T04:32:49.496Z"
   },
   {
    "duration": 29,
    "start_time": "2022-01-18T04:34:14.286Z"
   },
   {
    "duration": 21,
    "start_time": "2022-01-18T04:35:29.606Z"
   },
   {
    "duration": 30,
    "start_time": "2022-01-18T04:35:34.861Z"
   },
   {
    "duration": 15,
    "start_time": "2022-01-18T04:36:37.575Z"
   },
   {
    "duration": 774,
    "start_time": "2022-01-18T04:36:44.922Z"
   },
   {
    "duration": 198,
    "start_time": "2022-01-18T04:36:45.699Z"
   },
   {
    "duration": 43,
    "start_time": "2022-01-18T04:36:45.900Z"
   },
   {
    "duration": 173,
    "start_time": "2022-01-18T04:36:45.958Z"
   },
   {
    "duration": 35,
    "start_time": "2022-01-18T04:36:46.134Z"
   },
   {
    "duration": 119,
    "start_time": "2022-01-18T04:36:46.172Z"
   },
   {
    "duration": 30,
    "start_time": "2022-01-18T04:36:46.293Z"
   },
   {
    "duration": 35,
    "start_time": "2022-01-18T04:36:46.327Z"
   },
   {
    "duration": 19,
    "start_time": "2022-01-18T04:36:46.365Z"
   },
   {
    "duration": 30,
    "start_time": "2022-01-18T04:36:46.386Z"
   },
   {
    "duration": 22,
    "start_time": "2022-01-18T04:36:46.419Z"
   },
   {
    "duration": 71,
    "start_time": "2022-01-18T04:36:46.443Z"
   },
   {
    "duration": 49,
    "start_time": "2022-01-18T04:36:46.516Z"
   },
   {
    "duration": 41,
    "start_time": "2022-01-18T04:36:46.568Z"
   },
   {
    "duration": 12,
    "start_time": "2022-01-18T04:36:46.612Z"
   },
   {
    "duration": 52,
    "start_time": "2022-01-18T04:36:46.626Z"
   },
   {
    "duration": 36,
    "start_time": "2022-01-18T04:36:46.681Z"
   },
   {
    "duration": 39,
    "start_time": "2022-01-18T04:36:46.720Z"
   },
   {
    "duration": 14,
    "start_time": "2022-01-18T04:36:46.762Z"
   },
   {
    "duration": 138,
    "start_time": "2022-01-18T04:36:46.779Z"
   },
   {
    "duration": 59,
    "start_time": "2022-01-18T04:36:46.920Z"
   },
   {
    "duration": 53,
    "start_time": "2022-01-18T04:36:46.982Z"
   },
   {
    "duration": 25,
    "start_time": "2022-01-18T04:36:47.040Z"
   },
   {
    "duration": 47,
    "start_time": "2022-01-18T04:36:47.068Z"
   },
   {
    "duration": 67,
    "start_time": "2022-01-18T04:36:47.117Z"
   },
   {
    "duration": 28,
    "start_time": "2022-01-18T04:36:47.186Z"
   },
   {
    "duration": 47,
    "start_time": "2022-01-18T04:36:47.217Z"
   },
   {
    "duration": 33,
    "start_time": "2022-01-18T04:36:47.266Z"
   },
   {
    "duration": 30,
    "start_time": "2022-01-18T04:36:47.302Z"
   },
   {
    "duration": 40,
    "start_time": "2022-01-18T04:36:47.360Z"
   },
   {
    "duration": 5,
    "start_time": "2022-01-18T04:36:47.402Z"
   },
   {
    "duration": 9,
    "start_time": "2022-01-18T04:36:47.409Z"
   },
   {
    "duration": 49,
    "start_time": "2022-01-18T04:36:47.420Z"
   },
   {
    "duration": 36,
    "start_time": "2022-01-18T04:36:47.471Z"
   },
   {
    "duration": 11,
    "start_time": "2022-01-18T04:36:47.509Z"
   },
   {
    "duration": 43,
    "start_time": "2022-01-18T04:36:47.522Z"
   },
   {
    "duration": 537,
    "start_time": "2022-01-18T04:36:47.567Z"
   },
   {
    "duration": 21,
    "start_time": "2022-01-18T04:36:48.106Z"
   },
   {
    "duration": 131,
    "start_time": "2022-01-18T04:36:48.129Z"
   },
   {
    "duration": 33,
    "start_time": "2022-01-18T04:36:48.263Z"
   },
   {
    "duration": 15,
    "start_time": "2022-01-18T04:36:48.298Z"
   },
   {
    "duration": 45,
    "start_time": "2022-01-18T04:36:48.316Z"
   },
   {
    "duration": 765,
    "start_time": "2022-01-18T04:44:54.519Z"
   },
   {
    "duration": 198,
    "start_time": "2022-01-18T04:44:55.287Z"
   },
   {
    "duration": 43,
    "start_time": "2022-01-18T04:44:55.488Z"
   },
   {
    "duration": 180,
    "start_time": "2022-01-18T04:44:55.534Z"
   },
   {
    "duration": 31,
    "start_time": "2022-01-18T04:44:55.716Z"
   },
   {
    "duration": 112,
    "start_time": "2022-01-18T04:44:55.760Z"
   },
   {
    "duration": 26,
    "start_time": "2022-01-18T04:44:55.874Z"
   },
   {
    "duration": 18,
    "start_time": "2022-01-18T04:44:55.904Z"
   },
   {
    "duration": 36,
    "start_time": "2022-01-18T04:44:55.925Z"
   },
   {
    "duration": 30,
    "start_time": "2022-01-18T04:44:55.963Z"
   },
   {
    "duration": 20,
    "start_time": "2022-01-18T04:44:55.996Z"
   },
   {
    "duration": 72,
    "start_time": "2022-01-18T04:44:56.018Z"
   },
   {
    "duration": 28,
    "start_time": "2022-01-18T04:44:56.092Z"
   },
   {
    "duration": 66,
    "start_time": "2022-01-18T04:44:56.123Z"
   },
   {
    "duration": 11,
    "start_time": "2022-01-18T04:44:56.191Z"
   },
   {
    "duration": 60,
    "start_time": "2022-01-18T04:44:56.204Z"
   },
   {
    "duration": 34,
    "start_time": "2022-01-18T04:44:56.267Z"
   },
   {
    "duration": 14,
    "start_time": "2022-01-18T04:44:56.303Z"
   },
   {
    "duration": 43,
    "start_time": "2022-01-18T04:44:56.319Z"
   },
   {
    "duration": 125,
    "start_time": "2022-01-18T04:44:56.364Z"
   },
   {
    "duration": 55,
    "start_time": "2022-01-18T04:44:56.491Z"
   },
   {
    "duration": 62,
    "start_time": "2022-01-18T04:44:56.548Z"
   },
   {
    "duration": 10,
    "start_time": "2022-01-18T04:44:56.615Z"
   },
   {
    "duration": 64,
    "start_time": "2022-01-18T04:44:56.628Z"
   },
   {
    "duration": 35,
    "start_time": "2022-01-18T04:44:56.695Z"
   },
   {
    "duration": 48,
    "start_time": "2022-01-18T04:44:56.733Z"
   },
   {
    "duration": 31,
    "start_time": "2022-01-18T04:44:56.784Z"
   },
   {
    "duration": 61,
    "start_time": "2022-01-18T04:44:56.817Z"
   },
   {
    "duration": 30,
    "start_time": "2022-01-18T04:44:56.881Z"
   },
   {
    "duration": 68,
    "start_time": "2022-01-18T04:44:56.913Z"
   },
   {
    "duration": 6,
    "start_time": "2022-01-18T04:44:56.984Z"
   },
   {
    "duration": 11,
    "start_time": "2022-01-18T04:44:56.992Z"
   },
   {
    "duration": 14,
    "start_time": "2022-01-18T04:44:57.005Z"
   },
   {
    "duration": 72,
    "start_time": "2022-01-18T04:44:57.021Z"
   },
   {
    "duration": 13,
    "start_time": "2022-01-18T04:44:57.095Z"
   },
   {
    "duration": 10,
    "start_time": "2022-01-18T04:44:57.111Z"
   },
   {
    "duration": 583,
    "start_time": "2022-01-18T04:44:57.123Z"
   },
   {
    "duration": 20,
    "start_time": "2022-01-18T04:44:57.708Z"
   },
   {
    "duration": 127,
    "start_time": "2022-01-18T04:44:57.730Z"
   },
   {
    "duration": 31,
    "start_time": "2022-01-18T04:44:57.859Z"
   },
   {
    "duration": 14,
    "start_time": "2022-01-18T04:44:57.893Z"
   },
   {
    "duration": 12,
    "start_time": "2022-01-18T04:44:57.910Z"
   },
   {
    "duration": 490,
    "start_time": "2022-01-18T04:44:57.924Z"
   },
   {
    "duration": 388,
    "start_time": "2022-01-18T04:49:31.347Z"
   },
   {
    "duration": 48,
    "start_time": "2022-01-18T04:49:38.016Z"
   },
   {
    "duration": 48,
    "start_time": "2022-01-18T04:50:34.464Z"
   },
   {
    "duration": 351,
    "start_time": "2022-01-18T04:58:06.531Z"
   },
   {
    "duration": 126,
    "start_time": "2022-01-18T04:59:05.598Z"
   },
   {
    "duration": 116,
    "start_time": "2022-01-18T04:59:52.333Z"
   },
   {
    "duration": 129,
    "start_time": "2022-01-18T05:02:53.361Z"
   },
   {
    "duration": 116,
    "start_time": "2022-01-18T05:03:40.335Z"
   },
   {
    "duration": 124,
    "start_time": "2022-01-18T05:04:34.047Z"
   },
   {
    "duration": 117,
    "start_time": "2022-01-18T05:05:53.472Z"
   },
   {
    "duration": 128,
    "start_time": "2022-01-18T05:06:12.470Z"
   },
   {
    "duration": 121,
    "start_time": "2022-01-18T05:06:25.675Z"
   },
   {
    "duration": 111,
    "start_time": "2022-01-18T05:07:24.207Z"
   },
   {
    "duration": 140,
    "start_time": "2022-01-18T05:08:40.747Z"
   },
   {
    "duration": 1038,
    "start_time": "2022-01-18T05:08:59.363Z"
   },
   {
    "duration": 374,
    "start_time": "2022-01-18T05:09:47.046Z"
   },
   {
    "duration": 361,
    "start_time": "2022-01-18T05:11:35.401Z"
   },
   {
    "duration": 371,
    "start_time": "2022-01-18T05:13:07.017Z"
   },
   {
    "duration": 352,
    "start_time": "2022-01-18T05:13:58.766Z"
   },
   {
    "duration": 365,
    "start_time": "2022-01-18T05:14:27.762Z"
   },
   {
    "duration": 685,
    "start_time": "2022-01-18T05:14:36.066Z"
   },
   {
    "duration": 586,
    "start_time": "2022-01-18T05:14:57.591Z"
   },
   {
    "duration": 130,
    "start_time": "2022-01-18T05:16:41.871Z"
   },
   {
    "duration": 885,
    "start_time": "2022-01-18T05:17:28.910Z"
   },
   {
    "duration": 323,
    "start_time": "2022-01-18T05:18:12.381Z"
   },
   {
    "duration": 316,
    "start_time": "2022-01-18T05:19:24.591Z"
   },
   {
    "duration": 621,
    "start_time": "2022-01-18T05:22:16.935Z"
   },
   {
    "duration": 358,
    "start_time": "2022-01-18T05:24:07.401Z"
   },
   {
    "duration": 407,
    "start_time": "2022-01-18T05:24:17.675Z"
   },
   {
    "duration": 683,
    "start_time": "2022-01-18T05:24:37.351Z"
   },
   {
    "duration": 193,
    "start_time": "2022-01-18T05:25:36.558Z"
   },
   {
    "duration": 185,
    "start_time": "2022-01-18T05:32:00.074Z"
   },
   {
    "duration": 343,
    "start_time": "2022-01-18T05:32:06.488Z"
   },
   {
    "duration": 2887,
    "start_time": "2022-01-18T05:35:43.077Z"
   },
   {
    "duration": 832,
    "start_time": "2022-01-18T05:36:02.965Z"
   },
   {
    "duration": 383,
    "start_time": "2022-01-18T05:36:46.050Z"
   },
   {
    "duration": 646,
    "start_time": "2022-01-18T05:37:03.708Z"
   },
   {
    "duration": 627,
    "start_time": "2022-01-18T05:37:21.525Z"
   },
   {
    "duration": 639,
    "start_time": "2022-01-18T05:38:13.972Z"
   },
   {
    "duration": 1488,
    "start_time": "2022-01-18T05:38:46.864Z"
   },
   {
    "duration": 888,
    "start_time": "2022-01-18T05:38:54.347Z"
   },
   {
    "duration": 1027,
    "start_time": "2022-01-18T05:39:35.875Z"
   },
   {
    "duration": 866,
    "start_time": "2022-01-18T05:39:42.253Z"
   },
   {
    "duration": 902,
    "start_time": "2022-01-18T05:40:37.765Z"
   },
   {
    "duration": 1297,
    "start_time": "2022-01-18T05:42:12.800Z"
   },
   {
    "duration": 1542,
    "start_time": "2022-01-18T05:42:30.996Z"
   },
   {
    "duration": 1356,
    "start_time": "2022-01-18T05:42:57.975Z"
   },
   {
    "duration": 1289,
    "start_time": "2022-01-18T05:43:25.714Z"
   },
   {
    "duration": 1266,
    "start_time": "2022-01-18T05:43:54.325Z"
   },
   {
    "duration": 1436,
    "start_time": "2022-01-18T05:44:09.972Z"
   },
   {
    "duration": 734,
    "start_time": "2022-01-18T05:44:43.901Z"
   },
   {
    "duration": 204,
    "start_time": "2022-01-18T05:44:44.638Z"
   },
   {
    "duration": 46,
    "start_time": "2022-01-18T05:44:44.845Z"
   },
   {
    "duration": 185,
    "start_time": "2022-01-18T05:44:44.894Z"
   },
   {
    "duration": 40,
    "start_time": "2022-01-18T05:44:45.082Z"
   },
   {
    "duration": 180,
    "start_time": "2022-01-18T05:44:45.125Z"
   },
   {
    "duration": 54,
    "start_time": "2022-01-18T05:44:45.308Z"
   },
   {
    "duration": 21,
    "start_time": "2022-01-18T05:44:45.365Z"
   },
   {
    "duration": 18,
    "start_time": "2022-01-18T05:44:45.393Z"
   },
   {
    "duration": 44,
    "start_time": "2022-01-18T05:44:45.416Z"
   },
   {
    "duration": 23,
    "start_time": "2022-01-18T05:44:45.462Z"
   },
   {
    "duration": 83,
    "start_time": "2022-01-18T05:44:45.487Z"
   },
   {
    "duration": 28,
    "start_time": "2022-01-18T05:44:45.572Z"
   },
   {
    "duration": 60,
    "start_time": "2022-01-18T05:44:45.602Z"
   },
   {
    "duration": 13,
    "start_time": "2022-01-18T05:44:45.664Z"
   },
   {
    "duration": 29,
    "start_time": "2022-01-18T05:44:45.679Z"
   },
   {
    "duration": 71,
    "start_time": "2022-01-18T05:44:45.711Z"
   },
   {
    "duration": 15,
    "start_time": "2022-01-18T05:44:45.785Z"
   },
   {
    "duration": 15,
    "start_time": "2022-01-18T05:44:45.802Z"
   },
   {
    "duration": 159,
    "start_time": "2022-01-18T05:44:45.820Z"
   },
   {
    "duration": 56,
    "start_time": "2022-01-18T05:44:45.982Z"
   },
   {
    "duration": 60,
    "start_time": "2022-01-18T05:44:46.060Z"
   },
   {
    "duration": 8,
    "start_time": "2022-01-18T05:44:46.123Z"
   },
   {
    "duration": 45,
    "start_time": "2022-01-18T05:44:46.159Z"
   },
   {
    "duration": 65,
    "start_time": "2022-01-18T05:44:46.207Z"
   },
   {
    "duration": 30,
    "start_time": "2022-01-18T05:44:46.275Z"
   },
   {
    "duration": 62,
    "start_time": "2022-01-18T05:44:46.310Z"
   },
   {
    "duration": 33,
    "start_time": "2022-01-18T05:44:46.375Z"
   },
   {
    "duration": 30,
    "start_time": "2022-01-18T05:44:46.410Z"
   },
   {
    "duration": 39,
    "start_time": "2022-01-18T05:44:46.458Z"
   },
   {
    "duration": 5,
    "start_time": "2022-01-18T05:44:46.499Z"
   },
   {
    "duration": 9,
    "start_time": "2022-01-18T05:44:46.506Z"
   },
   {
    "duration": 49,
    "start_time": "2022-01-18T05:44:46.518Z"
   },
   {
    "duration": 38,
    "start_time": "2022-01-18T05:44:46.569Z"
   },
   {
    "duration": 12,
    "start_time": "2022-01-18T05:44:46.610Z"
   },
   {
    "duration": 10,
    "start_time": "2022-01-18T05:44:46.659Z"
   },
   {
    "duration": 590,
    "start_time": "2022-01-18T05:44:46.672Z"
   },
   {
    "duration": 21,
    "start_time": "2022-01-18T05:44:47.264Z"
   },
   {
    "duration": 734,
    "start_time": "2022-01-18T05:44:47.288Z"
   },
   {
    "duration": 38,
    "start_time": "2022-01-18T05:44:48.024Z"
   },
   {
    "duration": 15,
    "start_time": "2022-01-18T05:44:48.065Z"
   },
   {
    "duration": 16,
    "start_time": "2022-01-18T05:44:48.082Z"
   },
   {
    "duration": 73,
    "start_time": "2022-01-18T05:44:48.100Z"
   },
   {
    "duration": 1432,
    "start_time": "2022-01-18T05:44:48.175Z"
   },
   {
    "duration": 1688,
    "start_time": "2022-01-18T05:49:06.720Z"
   },
   {
    "duration": 2717,
    "start_time": "2022-01-18T06:03:34.571Z"
   },
   {
    "duration": 3335,
    "start_time": "2022-01-18T06:05:24.340Z"
   },
   {
    "duration": 2358,
    "start_time": "2022-01-18T06:06:10.097Z"
   },
   {
    "duration": 1195,
    "start_time": "2022-01-18T06:06:30.345Z"
   },
   {
    "duration": 7,
    "start_time": "2022-01-18T06:15:53.766Z"
   },
   {
    "duration": 6,
    "start_time": "2022-01-18T06:16:47.238Z"
   },
   {
    "duration": 929,
    "start_time": "2022-01-18T07:03:50.511Z"
   },
   {
    "duration": 741,
    "start_time": "2022-01-18T07:04:16.557Z"
   },
   {
    "duration": 5045,
    "start_time": "2022-01-18T07:05:03.718Z"
   },
   {
    "duration": 18,
    "start_time": "2022-01-18T07:05:29.599Z"
   },
   {
    "duration": 22,
    "start_time": "2022-01-18T07:06:19.211Z"
   },
   {
    "duration": 21,
    "start_time": "2022-01-18T07:06:49.500Z"
   },
   {
    "duration": 22,
    "start_time": "2022-01-18T07:06:59.051Z"
   },
   {
    "duration": 20,
    "start_time": "2022-01-18T07:07:08.195Z"
   },
   {
    "duration": 18,
    "start_time": "2022-01-18T07:07:45.473Z"
   },
   {
    "duration": 1473,
    "start_time": "2022-01-18T07:40:00.032Z"
   },
   {
    "duration": 17,
    "start_time": "2022-01-18T08:06:19.625Z"
   },
   {
    "duration": 685,
    "start_time": "2022-01-21T10:47:42.547Z"
   },
   {
    "duration": 201,
    "start_time": "2022-01-21T10:47:43.236Z"
   },
   {
    "duration": 61,
    "start_time": "2022-01-21T10:47:43.440Z"
   },
   {
    "duration": 178,
    "start_time": "2022-01-21T10:47:43.504Z"
   },
   {
    "duration": 42,
    "start_time": "2022-01-21T10:47:43.684Z"
   },
   {
    "duration": 125,
    "start_time": "2022-01-21T10:47:43.729Z"
   },
   {
    "duration": 36,
    "start_time": "2022-01-21T10:47:43.857Z"
   },
   {
    "duration": 15,
    "start_time": "2022-01-21T10:47:43.897Z"
   },
   {
    "duration": 21,
    "start_time": "2022-01-21T10:47:43.915Z"
   },
   {
    "duration": 33,
    "start_time": "2022-01-21T10:47:43.939Z"
   },
   {
    "duration": 25,
    "start_time": "2022-01-21T10:47:43.975Z"
   },
   {
    "duration": 90,
    "start_time": "2022-01-21T10:47:44.002Z"
   },
   {
    "duration": 17,
    "start_time": "2022-01-21T10:47:44.095Z"
   },
   {
    "duration": 73,
    "start_time": "2022-01-21T10:47:44.114Z"
   },
   {
    "duration": 11,
    "start_time": "2022-01-21T10:47:44.189Z"
   },
   {
    "duration": 25,
    "start_time": "2022-01-21T10:47:44.204Z"
   },
   {
    "duration": 70,
    "start_time": "2022-01-21T10:47:44.232Z"
   },
   {
    "duration": 19,
    "start_time": "2022-01-21T10:47:44.305Z"
   },
   {
    "duration": 51,
    "start_time": "2022-01-21T10:47:44.327Z"
   },
   {
    "duration": 103,
    "start_time": "2022-01-21T10:47:44.381Z"
   },
   {
    "duration": 57,
    "start_time": "2022-01-21T10:47:44.487Z"
   },
   {
    "duration": 57,
    "start_time": "2022-01-21T10:47:44.547Z"
   },
   {
    "duration": 8,
    "start_time": "2022-01-21T10:47:44.610Z"
   },
   {
    "duration": 70,
    "start_time": "2022-01-21T10:47:44.621Z"
   },
   {
    "duration": 52,
    "start_time": "2022-01-21T10:47:44.694Z"
   },
   {
    "duration": 41,
    "start_time": "2022-01-21T10:47:44.749Z"
   },
   {
    "duration": 30,
    "start_time": "2022-01-21T10:47:44.792Z"
   },
   {
    "duration": 56,
    "start_time": "2022-01-21T10:47:44.825Z"
   },
   {
    "duration": 26,
    "start_time": "2022-01-21T10:47:44.883Z"
   },
   {
    "duration": 59,
    "start_time": "2022-01-21T10:47:44.911Z"
   },
   {
    "duration": 6,
    "start_time": "2022-01-21T10:47:44.973Z"
   },
   {
    "duration": 10,
    "start_time": "2022-01-21T10:47:44.982Z"
   },
   {
    "duration": 14,
    "start_time": "2022-01-21T10:47:44.994Z"
   },
   {
    "duration": 84,
    "start_time": "2022-01-21T10:47:45.011Z"
   },
   {
    "duration": 12,
    "start_time": "2022-01-21T10:47:45.097Z"
   },
   {
    "duration": 12,
    "start_time": "2022-01-21T10:47:45.111Z"
   },
   {
    "duration": 677,
    "start_time": "2022-01-21T10:47:45.127Z"
   },
   {
    "duration": 20,
    "start_time": "2022-01-21T10:47:45.806Z"
   },
   {
    "duration": 1014,
    "start_time": "2022-01-21T10:47:45.828Z"
   },
   {
    "duration": 40,
    "start_time": "2022-01-21T10:47:46.844Z"
   },
   {
    "duration": 17,
    "start_time": "2022-01-21T10:47:46.887Z"
   },
   {
    "duration": 15,
    "start_time": "2022-01-21T10:47:46.906Z"
   },
   {
    "duration": 2762,
    "start_time": "2022-01-21T10:47:46.923Z"
   },
   {
    "duration": 42,
    "start_time": "2022-01-21T10:47:49.688Z"
   },
   {
    "duration": 1781,
    "start_time": "2022-01-21T10:47:49.733Z"
   },
   {
    "duration": 8,
    "start_time": "2022-01-21T10:47:51.516Z"
   },
   {
    "duration": 20,
    "start_time": "2022-01-21T10:47:51.526Z"
   },
   {
    "duration": 194,
    "start_time": "2022-01-21T10:51:41.287Z"
   },
   {
    "duration": 7,
    "start_time": "2022-01-21T10:51:50.424Z"
   },
   {
    "duration": 19,
    "start_time": "2022-01-21T10:51:54.771Z"
   },
   {
    "duration": 7,
    "start_time": "2022-01-21T10:51:58.783Z"
   },
   {
    "duration": 19,
    "start_time": "2022-01-21T10:56:05.392Z"
   },
   {
    "duration": 22,
    "start_time": "2022-01-21T10:57:11.629Z"
   },
   {
    "duration": 281,
    "start_time": "2022-01-24T04:50:50.708Z"
   },
   {
    "duration": 673,
    "start_time": "2022-01-24T04:51:01.489Z"
   },
   {
    "duration": 180,
    "start_time": "2022-01-24T04:51:02.164Z"
   },
   {
    "duration": 34,
    "start_time": "2022-01-24T04:51:02.346Z"
   },
   {
    "duration": 167,
    "start_time": "2022-01-24T04:51:02.382Z"
   },
   {
    "duration": 25,
    "start_time": "2022-01-24T04:51:02.550Z"
   },
   {
    "duration": 737,
    "start_time": "2022-01-24T04:51:02.577Z"
   },
   {
    "duration": 103,
    "start_time": "2022-01-24T04:51:03.316Z"
   },
   {
    "duration": 22,
    "start_time": "2022-01-24T04:51:03.421Z"
   },
   {
    "duration": 18,
    "start_time": "2022-01-24T04:51:03.445Z"
   },
   {
    "duration": 16,
    "start_time": "2022-01-24T04:51:03.465Z"
   },
   {
    "duration": 35,
    "start_time": "2022-01-24T04:51:03.483Z"
   },
   {
    "duration": 70,
    "start_time": "2022-01-24T04:51:03.520Z"
   },
   {
    "duration": 47,
    "start_time": "2022-01-24T04:51:03.592Z"
   },
   {
    "duration": 26,
    "start_time": "2022-01-24T04:51:03.642Z"
   },
   {
    "duration": 60,
    "start_time": "2022-01-24T04:51:03.670Z"
   },
   {
    "duration": 11,
    "start_time": "2022-01-24T04:51:03.732Z"
   },
   {
    "duration": 29,
    "start_time": "2022-01-24T04:51:03.745Z"
   },
   {
    "duration": 59,
    "start_time": "2022-01-24T04:51:03.776Z"
   },
   {
    "duration": 12,
    "start_time": "2022-01-24T04:51:03.837Z"
   },
   {
    "duration": 15,
    "start_time": "2022-01-24T04:51:03.851Z"
   },
   {
    "duration": 140,
    "start_time": "2022-01-24T04:51:03.868Z"
   },
   {
    "duration": 41,
    "start_time": "2022-01-24T04:51:04.010Z"
   },
   {
    "duration": 73,
    "start_time": "2022-01-24T04:51:04.055Z"
   },
   {
    "duration": 6,
    "start_time": "2022-01-24T04:51:04.131Z"
   },
   {
    "duration": 40,
    "start_time": "2022-01-24T04:51:04.139Z"
   },
   {
    "duration": 60,
    "start_time": "2022-01-24T04:51:04.180Z"
   },
   {
    "duration": 27,
    "start_time": "2022-01-24T04:51:04.242Z"
   },
   {
    "duration": 53,
    "start_time": "2022-01-24T04:51:04.271Z"
   },
   {
    "duration": 26,
    "start_time": "2022-01-24T04:51:04.326Z"
   },
   {
    "duration": 26,
    "start_time": "2022-01-24T04:51:04.355Z"
   },
   {
    "duration": 30,
    "start_time": "2022-01-24T04:51:04.408Z"
   },
   {
    "duration": 5,
    "start_time": "2022-01-24T04:51:04.441Z"
   },
   {
    "duration": 12,
    "start_time": "2022-01-24T04:51:04.448Z"
   },
   {
    "duration": 51,
    "start_time": "2022-01-24T04:51:04.462Z"
   },
   {
    "duration": 29,
    "start_time": "2022-01-24T04:51:04.516Z"
   },
   {
    "duration": 11,
    "start_time": "2022-01-24T04:51:04.548Z"
   },
   {
    "duration": 50,
    "start_time": "2022-01-24T04:51:04.562Z"
   },
   {
    "duration": 317,
    "start_time": "2022-01-24T04:51:04.614Z"
   },
   {
    "duration": 18,
    "start_time": "2022-01-24T04:51:04.933Z"
   },
   {
    "duration": 475,
    "start_time": "2022-01-24T04:51:04.953Z"
   },
   {
    "duration": 23,
    "start_time": "2022-01-24T04:51:05.430Z"
   },
   {
    "duration": 33,
    "start_time": "2022-01-24T04:51:05.455Z"
   },
   {
    "duration": 28,
    "start_time": "2022-01-24T04:51:05.490Z"
   },
   {
    "duration": 1028,
    "start_time": "2022-01-24T04:51:05.520Z"
   },
   {
    "duration": 30,
    "start_time": "2022-01-24T04:51:06.550Z"
   },
   {
    "duration": 1303,
    "start_time": "2022-01-24T04:51:06.582Z"
   },
   {
    "duration": 5,
    "start_time": "2022-01-24T04:51:07.887Z"
   },
   {
    "duration": 22,
    "start_time": "2022-01-24T04:51:07.894Z"
   },
   {
    "duration": 259,
    "start_time": "2022-01-24T04:57:55.712Z"
   },
   {
    "duration": 6337,
    "start_time": "2022-01-24T04:58:44.349Z"
   },
   {
    "duration": 278,
    "start_time": "2022-01-24T04:59:13.798Z"
   },
   {
    "duration": 261,
    "start_time": "2022-01-24T05:02:53.856Z"
   },
   {
    "duration": 271,
    "start_time": "2022-01-24T05:03:13.293Z"
   },
   {
    "duration": 16,
    "start_time": "2022-01-24T05:12:18.226Z"
   },
   {
    "duration": 754,
    "start_time": "2022-01-24T05:12:27.419Z"
   },
   {
    "duration": 228,
    "start_time": "2022-01-24T05:12:28.176Z"
   },
   {
    "duration": 50,
    "start_time": "2022-01-24T05:12:28.407Z"
   },
   {
    "duration": 859,
    "start_time": "2022-01-24T05:12:28.460Z"
   },
   {
    "duration": -33,
    "start_time": "2022-01-24T05:12:29.357Z"
   },
   {
    "duration": -38,
    "start_time": "2022-01-24T05:12:29.364Z"
   },
   {
    "duration": -44,
    "start_time": "2022-01-24T05:12:29.371Z"
   },
   {
    "duration": -50,
    "start_time": "2022-01-24T05:12:29.379Z"
   },
   {
    "duration": -54,
    "start_time": "2022-01-24T05:12:29.384Z"
   },
   {
    "duration": -57,
    "start_time": "2022-01-24T05:12:29.388Z"
   },
   {
    "duration": -61,
    "start_time": "2022-01-24T05:12:29.393Z"
   },
   {
    "duration": -64,
    "start_time": "2022-01-24T05:12:29.397Z"
   },
   {
    "duration": -67,
    "start_time": "2022-01-24T05:12:29.401Z"
   },
   {
    "duration": -70,
    "start_time": "2022-01-24T05:12:29.405Z"
   },
   {
    "duration": -79,
    "start_time": "2022-01-24T05:12:29.415Z"
   },
   {
    "duration": -81,
    "start_time": "2022-01-24T05:12:29.418Z"
   },
   {
    "duration": -82,
    "start_time": "2022-01-24T05:12:29.421Z"
   },
   {
    "duration": -83,
    "start_time": "2022-01-24T05:12:29.423Z"
   },
   {
    "duration": -89,
    "start_time": "2022-01-24T05:12:29.429Z"
   },
   {
    "duration": -94,
    "start_time": "2022-01-24T05:12:29.435Z"
   },
   {
    "duration": -95,
    "start_time": "2022-01-24T05:12:29.437Z"
   },
   {
    "duration": -98,
    "start_time": "2022-01-24T05:12:29.441Z"
   },
   {
    "duration": -99,
    "start_time": "2022-01-24T05:12:29.443Z"
   },
   {
    "duration": -101,
    "start_time": "2022-01-24T05:12:29.446Z"
   },
   {
    "duration": -107,
    "start_time": "2022-01-24T05:12:29.453Z"
   },
   {
    "duration": -108,
    "start_time": "2022-01-24T05:12:29.455Z"
   },
   {
    "duration": -110,
    "start_time": "2022-01-24T05:12:29.458Z"
   },
   {
    "duration": -112,
    "start_time": "2022-01-24T05:12:29.460Z"
   },
   {
    "duration": -117,
    "start_time": "2022-01-24T05:12:29.466Z"
   },
   {
    "duration": -118,
    "start_time": "2022-01-24T05:12:29.469Z"
   },
   {
    "duration": -120,
    "start_time": "2022-01-24T05:12:29.472Z"
   },
   {
    "duration": -122,
    "start_time": "2022-01-24T05:12:29.474Z"
   },
   {
    "duration": -124,
    "start_time": "2022-01-24T05:12:29.477Z"
   },
   {
    "duration": -126,
    "start_time": "2022-01-24T05:12:29.480Z"
   },
   {
    "duration": -135,
    "start_time": "2022-01-24T05:12:29.490Z"
   },
   {
    "duration": -136,
    "start_time": "2022-01-24T05:12:29.492Z"
   },
   {
    "duration": -137,
    "start_time": "2022-01-24T05:12:29.494Z"
   },
   {
    "duration": -97,
    "start_time": "2022-01-24T05:12:29.503Z"
   },
   {
    "duration": -99,
    "start_time": "2022-01-24T05:12:29.506Z"
   },
   {
    "duration": -101,
    "start_time": "2022-01-24T05:12:29.509Z"
   },
   {
    "duration": -102,
    "start_time": "2022-01-24T05:12:29.511Z"
   },
   {
    "duration": -108,
    "start_time": "2022-01-24T05:12:29.517Z"
   },
   {
    "duration": -109,
    "start_time": "2022-01-24T05:12:29.519Z"
   },
   {
    "duration": -112,
    "start_time": "2022-01-24T05:12:29.523Z"
   },
   {
    "duration": -115,
    "start_time": "2022-01-24T05:12:29.526Z"
   },
   {
    "duration": -117,
    "start_time": "2022-01-24T05:12:29.529Z"
   },
   {
    "duration": -120,
    "start_time": "2022-01-24T05:12:29.533Z"
   },
   {
    "duration": -121,
    "start_time": "2022-01-24T05:12:29.535Z"
   },
   {
    "duration": -124,
    "start_time": "2022-01-24T05:12:29.538Z"
   },
   {
    "duration": 697,
    "start_time": "2022-01-24T05:15:02.663Z"
   },
   {
    "duration": 174,
    "start_time": "2022-01-24T05:15:03.362Z"
   },
   {
    "duration": 30,
    "start_time": "2022-01-24T05:15:03.538Z"
   },
   {
    "duration": 296,
    "start_time": "2022-01-24T05:15:03.571Z"
   },
   {
    "duration": 144,
    "start_time": "2022-01-24T05:15:03.870Z"
   },
   {
    "duration": 26,
    "start_time": "2022-01-24T05:15:04.016Z"
   },
   {
    "duration": 291,
    "start_time": "2022-01-24T05:15:04.044Z"
   },
   {
    "duration": 110,
    "start_time": "2022-01-24T05:15:04.338Z"
   },
   {
    "duration": 21,
    "start_time": "2022-01-24T05:15:04.451Z"
   },
   {
    "duration": 50,
    "start_time": "2022-01-24T05:15:04.474Z"
   },
   {
    "duration": 35,
    "start_time": "2022-01-24T05:15:04.526Z"
   },
   {
    "duration": 39,
    "start_time": "2022-01-24T05:15:04.563Z"
   },
   {
    "duration": 48,
    "start_time": "2022-01-24T05:15:04.604Z"
   },
   {
    "duration": 59,
    "start_time": "2022-01-24T05:15:04.654Z"
   },
   {
    "duration": 19,
    "start_time": "2022-01-24T05:15:04.715Z"
   },
   {
    "duration": 36,
    "start_time": "2022-01-24T05:15:04.736Z"
   },
   {
    "duration": 43,
    "start_time": "2022-01-24T05:15:04.773Z"
   },
   {
    "duration": 27,
    "start_time": "2022-01-24T05:15:04.818Z"
   },
   {
    "duration": 62,
    "start_time": "2022-01-24T05:15:04.847Z"
   },
   {
    "duration": 12,
    "start_time": "2022-01-24T05:15:04.911Z"
   },
   {
    "duration": 30,
    "start_time": "2022-01-24T05:15:04.924Z"
   },
   {
    "duration": 130,
    "start_time": "2022-01-24T05:15:04.955Z"
   },
   {
    "duration": 47,
    "start_time": "2022-01-24T05:15:05.089Z"
   },
   {
    "duration": 71,
    "start_time": "2022-01-24T05:15:05.139Z"
   },
   {
    "duration": 8,
    "start_time": "2022-01-24T05:15:05.212Z"
   },
   {
    "duration": 49,
    "start_time": "2022-01-24T05:15:05.222Z"
   },
   {
    "duration": 49,
    "start_time": "2022-01-24T05:15:05.274Z"
   },
   {
    "duration": 24,
    "start_time": "2022-01-24T05:15:05.325Z"
   },
   {
    "duration": 29,
    "start_time": "2022-01-24T05:15:05.351Z"
   },
   {
    "duration": 27,
    "start_time": "2022-01-24T05:15:05.408Z"
   },
   {
    "duration": 25,
    "start_time": "2022-01-24T05:15:05.437Z"
   },
   {
    "duration": 61,
    "start_time": "2022-01-24T05:15:05.464Z"
   },
   {
    "duration": 4,
    "start_time": "2022-01-24T05:15:05.527Z"
   },
   {
    "duration": 32,
    "start_time": "2022-01-24T05:15:05.533Z"
   },
   {
    "duration": 33,
    "start_time": "2022-01-24T05:15:05.566Z"
   },
   {
    "duration": 66,
    "start_time": "2022-01-24T05:15:05.601Z"
   },
   {
    "duration": 9,
    "start_time": "2022-01-24T05:15:05.669Z"
   },
   {
    "duration": 23,
    "start_time": "2022-01-24T05:15:05.680Z"
   },
   {
    "duration": 359,
    "start_time": "2022-01-24T05:15:05.705Z"
   },
   {
    "duration": 15,
    "start_time": "2022-01-24T05:15:06.066Z"
   },
   {
    "duration": 539,
    "start_time": "2022-01-24T05:15:06.083Z"
   },
   {
    "duration": 22,
    "start_time": "2022-01-24T05:15:06.624Z"
   },
   {
    "duration": 40,
    "start_time": "2022-01-24T05:15:06.647Z"
   },
   {
    "duration": 26,
    "start_time": "2022-01-24T05:15:06.689Z"
   },
   {
    "duration": 994,
    "start_time": "2022-01-24T05:15:06.717Z"
   },
   {
    "duration": 34,
    "start_time": "2022-01-24T05:15:07.713Z"
   },
   {
    "duration": 1435,
    "start_time": "2022-01-24T05:15:07.750Z"
   },
   {
    "duration": 7,
    "start_time": "2022-01-24T05:15:09.188Z"
   },
   {
    "duration": 28,
    "start_time": "2022-01-24T05:15:09.208Z"
   },
   {
    "duration": 8,
    "start_time": "2022-01-24T05:15:53.569Z"
   },
   {
    "duration": 697,
    "start_time": "2022-01-24T05:16:02.052Z"
   },
   {
    "duration": 176,
    "start_time": "2022-01-24T05:16:02.751Z"
   },
   {
    "duration": 31,
    "start_time": "2022-01-24T05:16:02.929Z"
   },
   {
    "duration": 296,
    "start_time": "2022-01-24T05:16:02.962Z"
   },
   {
    "duration": 149,
    "start_time": "2022-01-24T05:16:03.260Z"
   },
   {
    "duration": 25,
    "start_time": "2022-01-24T05:16:03.411Z"
   },
   {
    "duration": 295,
    "start_time": "2022-01-24T05:16:03.437Z"
   },
   {
    "duration": 99,
    "start_time": "2022-01-24T05:16:03.735Z"
   },
   {
    "duration": 24,
    "start_time": "2022-01-24T05:16:03.836Z"
   },
   {
    "duration": 18,
    "start_time": "2022-01-24T05:16:03.863Z"
   },
   {
    "duration": 32,
    "start_time": "2022-01-24T05:16:03.884Z"
   },
   {
    "duration": 33,
    "start_time": "2022-01-24T05:16:03.919Z"
   },
   {
    "duration": 19,
    "start_time": "2022-01-24T05:16:03.954Z"
   },
   {
    "duration": 61,
    "start_time": "2022-01-24T05:16:03.976Z"
   },
   {
    "duration": 20,
    "start_time": "2022-01-24T05:16:04.039Z"
   },
   {
    "duration": 67,
    "start_time": "2022-01-24T05:16:04.061Z"
   },
   {
    "duration": 12,
    "start_time": "2022-01-24T05:16:04.130Z"
   },
   {
    "duration": 25,
    "start_time": "2022-01-24T05:16:04.144Z"
   },
   {
    "duration": 64,
    "start_time": "2022-01-24T05:16:04.172Z"
   },
   {
    "duration": 13,
    "start_time": "2022-01-24T05:16:04.238Z"
   },
   {
    "duration": 16,
    "start_time": "2022-01-24T05:16:04.253Z"
   },
   {
    "duration": 183,
    "start_time": "2022-01-24T05:16:04.272Z"
   },
   {
    "duration": 76,
    "start_time": "2022-01-24T05:16:04.460Z"
   },
   {
    "duration": 72,
    "start_time": "2022-01-24T05:16:04.539Z"
   },
   {
    "duration": 10,
    "start_time": "2022-01-24T05:16:04.613Z"
   },
   {
    "duration": 39,
    "start_time": "2022-01-24T05:16:04.625Z"
   },
   {
    "duration": 63,
    "start_time": "2022-01-24T05:16:04.667Z"
   },
   {
    "duration": 22,
    "start_time": "2022-01-24T05:16:04.732Z"
   },
   {
    "duration": 28,
    "start_time": "2022-01-24T05:16:04.756Z"
   },
   {
    "duration": 25,
    "start_time": "2022-01-24T05:16:04.807Z"
   },
   {
    "duration": 24,
    "start_time": "2022-01-24T05:16:04.834Z"
   },
   {
    "duration": 64,
    "start_time": "2022-01-24T05:16:04.860Z"
   },
   {
    "duration": 4,
    "start_time": "2022-01-24T05:16:04.926Z"
   },
   {
    "duration": 28,
    "start_time": "2022-01-24T05:16:04.932Z"
   },
   {
    "duration": 24,
    "start_time": "2022-01-24T05:16:04.962Z"
   },
   {
    "duration": 43,
    "start_time": "2022-01-24T05:16:04.988Z"
   },
   {
    "duration": 9,
    "start_time": "2022-01-24T05:16:05.033Z"
   },
   {
    "duration": 17,
    "start_time": "2022-01-24T05:16:05.043Z"
   },
   {
    "duration": 351,
    "start_time": "2022-01-24T05:16:05.061Z"
   },
   {
    "duration": 15,
    "start_time": "2022-01-24T05:16:05.413Z"
   },
   {
    "duration": 507,
    "start_time": "2022-01-24T05:16:05.430Z"
   },
   {
    "duration": 24,
    "start_time": "2022-01-24T05:16:05.939Z"
   },
   {
    "duration": 41,
    "start_time": "2022-01-24T05:16:05.965Z"
   },
   {
    "duration": 11,
    "start_time": "2022-01-24T05:16:06.009Z"
   },
   {
    "duration": 998,
    "start_time": "2022-01-24T05:16:06.022Z"
   },
   {
    "duration": 33,
    "start_time": "2022-01-24T05:16:07.022Z"
   },
   {
    "duration": 1455,
    "start_time": "2022-01-24T05:16:07.056Z"
   },
   {
    "duration": 7,
    "start_time": "2022-01-24T05:16:08.513Z"
   },
   {
    "duration": 22,
    "start_time": "2022-01-24T05:16:08.522Z"
   },
   {
    "duration": 357,
    "start_time": "2022-01-24T05:38:29.726Z"
   },
   {
    "duration": 295,
    "start_time": "2022-01-24T05:39:22.907Z"
   },
   {
    "duration": 1222,
    "start_time": "2022-01-24T05:39:44.819Z"
   },
   {
    "duration": 1317,
    "start_time": "2022-01-24T05:40:10.368Z"
   },
   {
    "duration": 620,
    "start_time": "2022-01-24T05:40:35.282Z"
   },
   {
    "duration": 1231,
    "start_time": "2022-01-24T05:40:55.276Z"
   },
   {
    "duration": 1214,
    "start_time": "2022-01-24T05:41:09.728Z"
   },
   {
    "duration": 1278,
    "start_time": "2022-01-24T05:42:05.845Z"
   },
   {
    "duration": 1237,
    "start_time": "2022-01-24T05:48:46.020Z"
   },
   {
    "duration": 739,
    "start_time": "2022-01-24T05:59:42.846Z"
   },
   {
    "duration": 4430,
    "start_time": "2022-01-24T05:59:52.956Z"
   },
   {
    "duration": 4571,
    "start_time": "2022-01-24T06:01:44.794Z"
   },
   {
    "duration": 3251,
    "start_time": "2022-01-24T06:02:30.368Z"
   },
   {
    "duration": 88,
    "start_time": "2022-01-24T06:21:19.295Z"
   },
   {
    "duration": 1668,
    "start_time": "2022-01-24T06:21:44.922Z"
   },
   {
    "duration": 738,
    "start_time": "2022-01-24T06:26:31.937Z"
   },
   {
    "duration": 187,
    "start_time": "2022-01-24T06:26:32.677Z"
   },
   {
    "duration": 32,
    "start_time": "2022-01-24T06:26:32.866Z"
   },
   {
    "duration": 284,
    "start_time": "2022-01-24T06:26:32.899Z"
   },
   {
    "duration": 148,
    "start_time": "2022-01-24T06:26:33.185Z"
   },
   {
    "duration": 26,
    "start_time": "2022-01-24T06:26:33.335Z"
   },
   {
    "duration": 283,
    "start_time": "2022-01-24T06:26:33.363Z"
   },
   {
    "duration": 98,
    "start_time": "2022-01-24T06:26:33.649Z"
   },
   {
    "duration": 24,
    "start_time": "2022-01-24T06:26:33.749Z"
   },
   {
    "duration": 19,
    "start_time": "2022-01-24T06:26:33.775Z"
   },
   {
    "duration": 22,
    "start_time": "2022-01-24T06:26:33.795Z"
   },
   {
    "duration": 34,
    "start_time": "2022-01-24T06:26:33.820Z"
   },
   {
    "duration": 17,
    "start_time": "2022-01-24T06:26:33.856Z"
   },
   {
    "duration": 64,
    "start_time": "2022-01-24T06:26:33.875Z"
   },
   {
    "duration": 17,
    "start_time": "2022-01-24T06:26:33.941Z"
   },
   {
    "duration": 54,
    "start_time": "2022-01-24T06:26:33.961Z"
   },
   {
    "duration": 9,
    "start_time": "2022-01-24T06:26:34.017Z"
   },
   {
    "duration": 24,
    "start_time": "2022-01-24T06:26:34.028Z"
   },
   {
    "duration": 62,
    "start_time": "2022-01-24T06:26:34.054Z"
   },
   {
    "duration": 12,
    "start_time": "2022-01-24T06:26:34.118Z"
   },
   {
    "duration": 20,
    "start_time": "2022-01-24T06:26:34.132Z"
   },
   {
    "duration": 127,
    "start_time": "2022-01-24T06:26:34.154Z"
   },
   {
    "duration": 54,
    "start_time": "2022-01-24T06:26:34.285Z"
   },
   {
    "duration": 48,
    "start_time": "2022-01-24T06:26:34.342Z"
   },
   {
    "duration": 21,
    "start_time": "2022-01-24T06:26:34.392Z"
   },
   {
    "duration": 39,
    "start_time": "2022-01-24T06:26:34.415Z"
   },
   {
    "duration": 64,
    "start_time": "2022-01-24T06:26:34.457Z"
   },
   {
    "duration": 25,
    "start_time": "2022-01-24T06:26:34.523Z"
   },
   {
    "duration": 28,
    "start_time": "2022-01-24T06:26:34.550Z"
   },
   {
    "duration": 27,
    "start_time": "2022-01-24T06:26:34.608Z"
   },
   {
    "duration": 26,
    "start_time": "2022-01-24T06:26:34.638Z"
   },
   {
    "duration": 63,
    "start_time": "2022-01-24T06:26:34.666Z"
   },
   {
    "duration": 5,
    "start_time": "2022-01-24T06:26:34.731Z"
   },
   {
    "duration": 11,
    "start_time": "2022-01-24T06:26:34.738Z"
   },
   {
    "duration": 13,
    "start_time": "2022-01-24T06:26:34.751Z"
   },
   {
    "duration": 61,
    "start_time": "2022-01-24T06:26:34.766Z"
   },
   {
    "duration": 13,
    "start_time": "2022-01-24T06:26:34.828Z"
   },
   {
    "duration": 8,
    "start_time": "2022-01-24T06:26:34.843Z"
   },
   {
    "duration": 354,
    "start_time": "2022-01-24T06:26:34.853Z"
   },
   {
    "duration": 16,
    "start_time": "2022-01-24T06:26:35.208Z"
   },
   {
    "duration": 511,
    "start_time": "2022-01-24T06:26:35.226Z"
   },
   {
    "duration": 23,
    "start_time": "2022-01-24T06:26:35.739Z"
   },
   {
    "duration": 13,
    "start_time": "2022-01-24T06:26:35.764Z"
   },
   {
    "duration": 35,
    "start_time": "2022-01-24T06:26:35.779Z"
   },
   {
    "duration": 1032,
    "start_time": "2022-01-24T06:26:35.815Z"
   },
   {
    "duration": 1265,
    "start_time": "2022-01-24T06:26:36.849Z"
   },
   {
    "duration": 1504,
    "start_time": "2022-01-24T06:26:38.116Z"
   },
   {
    "duration": 32,
    "start_time": "2022-01-24T06:26:39.621Z"
   },
   {
    "duration": 1370,
    "start_time": "2022-01-24T06:26:39.655Z"
   },
   {
    "duration": 5,
    "start_time": "2022-01-24T06:26:41.027Z"
   },
   {
    "duration": 31,
    "start_time": "2022-01-24T06:26:41.034Z"
   },
   {
    "duration": 1847,
    "start_time": "2022-01-24T06:27:41.107Z"
   },
   {
    "duration": 1701,
    "start_time": "2022-01-24T06:34:16.823Z"
   },
   {
    "duration": 702,
    "start_time": "2022-01-24T06:34:29.956Z"
   },
   {
    "duration": 171,
    "start_time": "2022-01-24T06:34:30.661Z"
   },
   {
    "duration": 31,
    "start_time": "2022-01-24T06:34:30.834Z"
   },
   {
    "duration": 293,
    "start_time": "2022-01-24T06:34:30.867Z"
   },
   {
    "duration": 147,
    "start_time": "2022-01-24T06:34:31.162Z"
   },
   {
    "duration": 26,
    "start_time": "2022-01-24T06:34:31.311Z"
   },
   {
    "duration": 291,
    "start_time": "2022-01-24T06:34:31.339Z"
   },
   {
    "duration": 108,
    "start_time": "2022-01-24T06:34:31.633Z"
   },
   {
    "duration": 23,
    "start_time": "2022-01-24T06:34:31.744Z"
   },
   {
    "duration": 18,
    "start_time": "2022-01-24T06:34:31.769Z"
   },
   {
    "duration": 28,
    "start_time": "2022-01-24T06:34:31.789Z"
   },
   {
    "duration": 55,
    "start_time": "2022-01-24T06:34:31.820Z"
   },
   {
    "duration": 19,
    "start_time": "2022-01-24T06:34:31.877Z"
   },
   {
    "duration": 68,
    "start_time": "2022-01-24T06:34:31.898Z"
   },
   {
    "duration": 17,
    "start_time": "2022-01-24T06:34:31.968Z"
   },
   {
    "duration": 39,
    "start_time": "2022-01-24T06:34:31.987Z"
   },
   {
    "duration": 9,
    "start_time": "2022-01-24T06:34:32.028Z"
   },
   {
    "duration": 32,
    "start_time": "2022-01-24T06:34:32.039Z"
   },
   {
    "duration": 52,
    "start_time": "2022-01-24T06:34:32.073Z"
   },
   {
    "duration": 11,
    "start_time": "2022-01-24T06:34:32.128Z"
   },
   {
    "duration": 19,
    "start_time": "2022-01-24T06:34:32.141Z"
   },
   {
    "duration": 130,
    "start_time": "2022-01-24T06:34:32.167Z"
   },
   {
    "duration": 44,
    "start_time": "2022-01-24T06:34:32.308Z"
   },
   {
    "duration": 71,
    "start_time": "2022-01-24T06:34:32.355Z"
   },
   {
    "duration": 9,
    "start_time": "2022-01-24T06:34:32.429Z"
   },
   {
    "duration": 58,
    "start_time": "2022-01-24T06:34:32.440Z"
   },
   {
    "duration": 37,
    "start_time": "2022-01-24T06:34:32.501Z"
   },
   {
    "duration": 24,
    "start_time": "2022-01-24T06:34:32.541Z"
   },
   {
    "duration": 56,
    "start_time": "2022-01-24T06:34:32.567Z"
   },
   {
    "duration": 26,
    "start_time": "2022-01-24T06:34:32.626Z"
   },
   {
    "duration": 59,
    "start_time": "2022-01-24T06:34:32.655Z"
   },
   {
    "duration": 29,
    "start_time": "2022-01-24T06:34:32.717Z"
   },
   {
    "duration": 5,
    "start_time": "2022-01-24T06:34:32.748Z"
   },
   {
    "duration": 24,
    "start_time": "2022-01-24T06:34:32.755Z"
   },
   {
    "duration": 33,
    "start_time": "2022-01-24T06:34:32.781Z"
   },
   {
    "duration": 28,
    "start_time": "2022-01-24T06:34:32.816Z"
   },
   {
    "duration": 11,
    "start_time": "2022-01-24T06:34:32.846Z"
   },
   {
    "duration": 56,
    "start_time": "2022-01-24T06:34:32.859Z"
   },
   {
    "duration": 329,
    "start_time": "2022-01-24T06:34:32.917Z"
   },
   {
    "duration": 16,
    "start_time": "2022-01-24T06:34:33.248Z"
   },
   {
    "duration": 510,
    "start_time": "2022-01-24T06:34:33.265Z"
   },
   {
    "duration": 32,
    "start_time": "2022-01-24T06:34:33.776Z"
   },
   {
    "duration": 13,
    "start_time": "2022-01-24T06:34:33.810Z"
   },
   {
    "duration": 11,
    "start_time": "2022-01-24T06:34:33.825Z"
   },
   {
    "duration": 998,
    "start_time": "2022-01-24T06:34:33.838Z"
   },
   {
    "duration": 1280,
    "start_time": "2022-01-24T06:34:34.838Z"
   },
   {
    "duration": 1802,
    "start_time": "2022-01-24T06:34:36.120Z"
   },
   {
    "duration": 34,
    "start_time": "2022-01-24T06:34:37.924Z"
   },
   {
    "duration": 1367,
    "start_time": "2022-01-24T06:34:37.960Z"
   },
   {
    "duration": 7,
    "start_time": "2022-01-24T06:34:39.329Z"
   },
   {
    "duration": 39,
    "start_time": "2022-01-24T06:34:39.338Z"
   },
   {
    "duration": 1813,
    "start_time": "2022-01-24T06:42:58.594Z"
   },
   {
    "duration": 1841,
    "start_time": "2022-01-24T06:44:43.476Z"
   },
   {
    "duration": 1947,
    "start_time": "2022-01-24T06:45:04.776Z"
   },
   {
    "duration": 1373,
    "start_time": "2022-01-24T06:46:09.842Z"
   },
   {
    "duration": 1419,
    "start_time": "2022-01-24T06:55:35.429Z"
   },
   {
    "duration": 1518,
    "start_time": "2022-01-24T06:59:52.732Z"
   }
  ],
  "kernelspec": {
   "display_name": "Python 3 (ipykernel)",
   "language": "python",
   "name": "python3"
  },
  "language_info": {
   "codemirror_mode": {
    "name": "ipython",
    "version": 3
   },
   "file_extension": ".py",
   "mimetype": "text/x-python",
   "name": "python",
   "nbconvert_exporter": "python",
   "pygments_lexer": "ipython3",
   "version": "3.9.5"
  },
  "toc": {
   "base_numbering": 1,
   "nav_menu": {},
   "number_sections": true,
   "sideBar": true,
   "skip_h1_title": true,
   "title_cell": "Table of Contents",
   "title_sidebar": "Contents",
   "toc_cell": false,
   "toc_position": {},
   "toc_section_display": true,
   "toc_window_display": false
  }
 },
 "nbformat": 4,
 "nbformat_minor": 2
}
