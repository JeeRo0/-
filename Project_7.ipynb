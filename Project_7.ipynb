{
 "cells": [
  {
   "cell_type": "markdown",
   "metadata": {
    "toc": true
   },
   "source": [
    "<h1>Содержание<span class=\"tocSkip\"></span></h1>\n",
    "<div class=\"toc\"><ul class=\"toc-item\"><li><span><a href=\"#Подготовка-данных\" data-toc-modified-id=\"Подготовка-данных-1\"><span class=\"toc-item-num\">1&nbsp;&nbsp;</span>Подготовка данных</a></span></li><li><span><a href=\"#Исследование-задачи\" data-toc-modified-id=\"Исследование-задачи-2\"><span class=\"toc-item-num\">2&nbsp;&nbsp;</span>Исследование задачи</a></span></li><li><span><a href=\"#Борьба-с-дисбалансом\" data-toc-modified-id=\"Борьба-с-дисбалансом-3\"><span class=\"toc-item-num\">3&nbsp;&nbsp;</span>Борьба с дисбалансом</a></span></li><li><span><a href=\"#Тестирование-модели\" data-toc-modified-id=\"Тестирование-модели-4\"><span class=\"toc-item-num\">4&nbsp;&nbsp;</span>Тестирование модели</a></span></li><li><span><a href=\"#Чек-лист-готовности-проекта\" data-toc-modified-id=\"Чек-лист-готовности-проекта-5\"><span class=\"toc-item-num\">5&nbsp;&nbsp;</span>Чек-лист готовности проекта</a></span></li></ul></div>"
   ]
  },
  {
   "cell_type": "markdown",
   "metadata": {},
   "source": [
    "# Отток клиентов"
   ]
  },
  {
   "cell_type": "markdown",
   "metadata": {},
   "source": [
    "Из «Бета-Банка» стали уходить клиенты. Каждый месяц. Немного, но заметно. Банковские маркетологи посчитали: сохранять текущих клиентов дешевле, чем привлекать новых.\n",
    "\n",
    "Нужно спрогнозировать, уйдёт клиент из банка в ближайшее время или нет. Вам предоставлены исторические данные о поведении клиентов и расторжении договоров с банком. \n",
    "\n",
    "Постройте модель с предельно большим значением *F1*-меры. Чтобы сдать проект успешно, нужно довести метрику до 0.59. Проверьте *F1*-меру на тестовой выборке самостоятельно.\n",
    "\n",
    "Дополнительно измеряйте *AUC-ROC*, сравнивайте её значение с *F1*-мерой.\n",
    "\n",
    "Источник данных: [https://www.kaggle.com/barelydedicated/bank-customer-churn-modeling](https://www.kaggle.com/barelydedicated/bank-customer-churn-modeling)"
   ]
  },
  {
   "cell_type": "markdown",
   "metadata": {},
   "source": [
    "## Подготовка данных"
   ]
  },
  {
   "cell_type": "code",
   "execution_count": 1,
   "metadata": {},
   "outputs": [],
   "source": [
    "import matplotlib.pyplot as plt\n",
    "from sklearn.model_selection import train_test_split\n",
    "from sklearn.preprocessing import StandardScaler\n",
    "from sklearn.linear_model import LogisticRegression\n",
    "from sklearn.metrics import f1_score, precision_score, recall_score, accuracy_score, roc_auc_score, roc_curve\n",
    "from sklearn.utils import shuffle\n",
    "from sklearn.tree import DecisionTreeClassifier\n",
    "from sklearn.ensemble import RandomForestClassifier"
   ]
  },
  {
   "cell_type": "code",
   "execution_count": 2,
   "metadata": {},
   "outputs": [
    {
     "name": "stdout",
     "output_type": "stream",
     "text": [
      "<class 'pandas.core.frame.DataFrame'>\n",
      "RangeIndex: 10000 entries, 0 to 9999\n",
      "Data columns (total 14 columns):\n",
      "RowNumber          10000 non-null int64\n",
      "CustomerId         10000 non-null int64\n",
      "Surname            10000 non-null object\n",
      "CreditScore        10000 non-null int64\n",
      "Geography          10000 non-null object\n",
      "Gender             10000 non-null object\n",
      "Age                10000 non-null int64\n",
      "Tenure             9091 non-null float64\n",
      "Balance            10000 non-null float64\n",
      "NumOfProducts      10000 non-null int64\n",
      "HasCrCard          10000 non-null int64\n",
      "IsActiveMember     10000 non-null int64\n",
      "EstimatedSalary    10000 non-null float64\n",
      "Exited             10000 non-null int64\n",
      "dtypes: float64(3), int64(8), object(3)\n",
      "memory usage: 1.1+ MB\n"
     ]
    }
   ],
   "source": [
    "import pandas as pd\n",
    "df = pd.set_option('display.float_format', '{:,.2f}'.format)\n",
    "df = pd.read_csv('/datasets/Churn.csv')\n",
    "df.info()"
   ]
  },
  {
   "cell_type": "code",
   "execution_count": 3,
   "metadata": {},
   "outputs": [
    {
     "data": {
      "text/html": [
       "<div>\n",
       "<style scoped>\n",
       "    .dataframe tbody tr th:only-of-type {\n",
       "        vertical-align: middle;\n",
       "    }\n",
       "\n",
       "    .dataframe tbody tr th {\n",
       "        vertical-align: top;\n",
       "    }\n",
       "\n",
       "    .dataframe thead th {\n",
       "        text-align: right;\n",
       "    }\n",
       "</style>\n",
       "<table border=\"1\" class=\"dataframe\">\n",
       "  <thead>\n",
       "    <tr style=\"text-align: right;\">\n",
       "      <th></th>\n",
       "      <th>RowNumber</th>\n",
       "      <th>CustomerId</th>\n",
       "      <th>Surname</th>\n",
       "      <th>CreditScore</th>\n",
       "      <th>Geography</th>\n",
       "      <th>Gender</th>\n",
       "      <th>Age</th>\n",
       "      <th>Tenure</th>\n",
       "      <th>Balance</th>\n",
       "      <th>NumOfProducts</th>\n",
       "      <th>HasCrCard</th>\n",
       "      <th>IsActiveMember</th>\n",
       "      <th>EstimatedSalary</th>\n",
       "      <th>Exited</th>\n",
       "    </tr>\n",
       "  </thead>\n",
       "  <tbody>\n",
       "    <tr>\n",
       "      <td>0</td>\n",
       "      <td>1</td>\n",
       "      <td>15634602</td>\n",
       "      <td>Hargrave</td>\n",
       "      <td>619</td>\n",
       "      <td>France</td>\n",
       "      <td>Female</td>\n",
       "      <td>42</td>\n",
       "      <td>2.00</td>\n",
       "      <td>0.00</td>\n",
       "      <td>1</td>\n",
       "      <td>1</td>\n",
       "      <td>1</td>\n",
       "      <td>101,348.88</td>\n",
       "      <td>1</td>\n",
       "    </tr>\n",
       "    <tr>\n",
       "      <td>1</td>\n",
       "      <td>2</td>\n",
       "      <td>15647311</td>\n",
       "      <td>Hill</td>\n",
       "      <td>608</td>\n",
       "      <td>Spain</td>\n",
       "      <td>Female</td>\n",
       "      <td>41</td>\n",
       "      <td>1.00</td>\n",
       "      <td>83,807.86</td>\n",
       "      <td>1</td>\n",
       "      <td>0</td>\n",
       "      <td>1</td>\n",
       "      <td>112,542.58</td>\n",
       "      <td>0</td>\n",
       "    </tr>\n",
       "    <tr>\n",
       "      <td>2</td>\n",
       "      <td>3</td>\n",
       "      <td>15619304</td>\n",
       "      <td>Onio</td>\n",
       "      <td>502</td>\n",
       "      <td>France</td>\n",
       "      <td>Female</td>\n",
       "      <td>42</td>\n",
       "      <td>8.00</td>\n",
       "      <td>159,660.80</td>\n",
       "      <td>3</td>\n",
       "      <td>1</td>\n",
       "      <td>0</td>\n",
       "      <td>113,931.57</td>\n",
       "      <td>1</td>\n",
       "    </tr>\n",
       "    <tr>\n",
       "      <td>3</td>\n",
       "      <td>4</td>\n",
       "      <td>15701354</td>\n",
       "      <td>Boni</td>\n",
       "      <td>699</td>\n",
       "      <td>France</td>\n",
       "      <td>Female</td>\n",
       "      <td>39</td>\n",
       "      <td>1.00</td>\n",
       "      <td>0.00</td>\n",
       "      <td>2</td>\n",
       "      <td>0</td>\n",
       "      <td>0</td>\n",
       "      <td>93,826.63</td>\n",
       "      <td>0</td>\n",
       "    </tr>\n",
       "    <tr>\n",
       "      <td>4</td>\n",
       "      <td>5</td>\n",
       "      <td>15737888</td>\n",
       "      <td>Mitchell</td>\n",
       "      <td>850</td>\n",
       "      <td>Spain</td>\n",
       "      <td>Female</td>\n",
       "      <td>43</td>\n",
       "      <td>2.00</td>\n",
       "      <td>125,510.82</td>\n",
       "      <td>1</td>\n",
       "      <td>1</td>\n",
       "      <td>1</td>\n",
       "      <td>79,084.10</td>\n",
       "      <td>0</td>\n",
       "    </tr>\n",
       "    <tr>\n",
       "      <td>5</td>\n",
       "      <td>6</td>\n",
       "      <td>15574012</td>\n",
       "      <td>Chu</td>\n",
       "      <td>645</td>\n",
       "      <td>Spain</td>\n",
       "      <td>Male</td>\n",
       "      <td>44</td>\n",
       "      <td>8.00</td>\n",
       "      <td>113,755.78</td>\n",
       "      <td>2</td>\n",
       "      <td>1</td>\n",
       "      <td>0</td>\n",
       "      <td>149,756.71</td>\n",
       "      <td>1</td>\n",
       "    </tr>\n",
       "    <tr>\n",
       "      <td>6</td>\n",
       "      <td>7</td>\n",
       "      <td>15592531</td>\n",
       "      <td>Bartlett</td>\n",
       "      <td>822</td>\n",
       "      <td>France</td>\n",
       "      <td>Male</td>\n",
       "      <td>50</td>\n",
       "      <td>7.00</td>\n",
       "      <td>0.00</td>\n",
       "      <td>2</td>\n",
       "      <td>1</td>\n",
       "      <td>1</td>\n",
       "      <td>10,062.80</td>\n",
       "      <td>0</td>\n",
       "    </tr>\n",
       "    <tr>\n",
       "      <td>7</td>\n",
       "      <td>8</td>\n",
       "      <td>15656148</td>\n",
       "      <td>Obinna</td>\n",
       "      <td>376</td>\n",
       "      <td>Germany</td>\n",
       "      <td>Female</td>\n",
       "      <td>29</td>\n",
       "      <td>4.00</td>\n",
       "      <td>115,046.74</td>\n",
       "      <td>4</td>\n",
       "      <td>1</td>\n",
       "      <td>0</td>\n",
       "      <td>119,346.88</td>\n",
       "      <td>1</td>\n",
       "    </tr>\n",
       "    <tr>\n",
       "      <td>8</td>\n",
       "      <td>9</td>\n",
       "      <td>15792365</td>\n",
       "      <td>He</td>\n",
       "      <td>501</td>\n",
       "      <td>France</td>\n",
       "      <td>Male</td>\n",
       "      <td>44</td>\n",
       "      <td>4.00</td>\n",
       "      <td>142,051.07</td>\n",
       "      <td>2</td>\n",
       "      <td>0</td>\n",
       "      <td>1</td>\n",
       "      <td>74,940.50</td>\n",
       "      <td>0</td>\n",
       "    </tr>\n",
       "    <tr>\n",
       "      <td>9</td>\n",
       "      <td>10</td>\n",
       "      <td>15592389</td>\n",
       "      <td>H?</td>\n",
       "      <td>684</td>\n",
       "      <td>France</td>\n",
       "      <td>Male</td>\n",
       "      <td>27</td>\n",
       "      <td>2.00</td>\n",
       "      <td>134,603.88</td>\n",
       "      <td>1</td>\n",
       "      <td>1</td>\n",
       "      <td>1</td>\n",
       "      <td>71,725.73</td>\n",
       "      <td>0</td>\n",
       "    </tr>\n",
       "  </tbody>\n",
       "</table>\n",
       "</div>"
      ],
      "text/plain": [
       "   RowNumber  CustomerId   Surname  CreditScore Geography  Gender  Age  \\\n",
       "0          1    15634602  Hargrave          619    France  Female   42   \n",
       "1          2    15647311      Hill          608     Spain  Female   41   \n",
       "2          3    15619304      Onio          502    France  Female   42   \n",
       "3          4    15701354      Boni          699    France  Female   39   \n",
       "4          5    15737888  Mitchell          850     Spain  Female   43   \n",
       "5          6    15574012       Chu          645     Spain    Male   44   \n",
       "6          7    15592531  Bartlett          822    France    Male   50   \n",
       "7          8    15656148    Obinna          376   Germany  Female   29   \n",
       "8          9    15792365        He          501    France    Male   44   \n",
       "9         10    15592389        H?          684    France    Male   27   \n",
       "\n",
       "   Tenure    Balance  NumOfProducts  HasCrCard  IsActiveMember  \\\n",
       "0    2.00       0.00              1          1               1   \n",
       "1    1.00  83,807.86              1          0               1   \n",
       "2    8.00 159,660.80              3          1               0   \n",
       "3    1.00       0.00              2          0               0   \n",
       "4    2.00 125,510.82              1          1               1   \n",
       "5    8.00 113,755.78              2          1               0   \n",
       "6    7.00       0.00              2          1               1   \n",
       "7    4.00 115,046.74              4          1               0   \n",
       "8    4.00 142,051.07              2          0               1   \n",
       "9    2.00 134,603.88              1          1               1   \n",
       "\n",
       "   EstimatedSalary  Exited  \n",
       "0       101,348.88       1  \n",
       "1       112,542.58       0  \n",
       "2       113,931.57       1  \n",
       "3        93,826.63       0  \n",
       "4        79,084.10       0  \n",
       "5       149,756.71       1  \n",
       "6        10,062.80       0  \n",
       "7       119,346.88       1  \n",
       "8        74,940.50       0  \n",
       "9        71,725.73       0  "
      ]
     },
     "execution_count": 3,
     "metadata": {},
     "output_type": "execute_result"
    }
   ],
   "source": [
    "df.head(10)"
   ]
  },
  {
   "cell_type": "code",
   "execution_count": 4,
   "metadata": {},
   "outputs": [
    {
     "data": {
      "text/plain": [
       "0"
      ]
     },
     "execution_count": 4,
     "metadata": {},
     "output_type": "execute_result"
    }
   ],
   "source": [
    "df.duplicated().sum()"
   ]
  },
  {
   "cell_type": "code",
   "execution_count": 5,
   "metadata": {},
   "outputs": [],
   "source": [
    "df.drop(['RowNumber', 'CustomerId', 'Surname'], axis='columns', inplace=True)"
   ]
  },
  {
   "cell_type": "code",
   "execution_count": 6,
   "metadata": {},
   "outputs": [
    {
     "data": {
      "text/plain": [
       "909"
      ]
     },
     "execution_count": 6,
     "metadata": {},
     "output_type": "execute_result"
    }
   ],
   "source": [
    "df['Tenure'].isna().sum()"
   ]
  },
  {
   "cell_type": "code",
   "execution_count": 7,
   "metadata": {},
   "outputs": [],
   "source": [
    "df['Tenure'] = df['Tenure'].fillna(-1).astype('int')"
   ]
  },
  {
   "cell_type": "code",
   "execution_count": 8,
   "metadata": {},
   "outputs": [
    {
     "data": {
      "text/plain": [
       "array([ 2,  1,  8,  7,  4,  6,  3, 10,  5,  9,  0, -1])"
      ]
     },
     "execution_count": 8,
     "metadata": {},
     "output_type": "execute_result"
    }
   ],
   "source": [
    "df['Tenure'].unique()"
   ]
  },
  {
   "cell_type": "code",
   "execution_count": 9,
   "metadata": {},
   "outputs": [],
   "source": [
    "# Преобразуем данные от дамми-ловушки\n",
    "df_ohe = pd.get_dummies(df, drop_first=True)"
   ]
  },
  {
   "cell_type": "code",
   "execution_count": 10,
   "metadata": {},
   "outputs": [
    {
     "data": {
      "text/html": [
       "<div>\n",
       "<style scoped>\n",
       "    .dataframe tbody tr th:only-of-type {\n",
       "        vertical-align: middle;\n",
       "    }\n",
       "\n",
       "    .dataframe tbody tr th {\n",
       "        vertical-align: top;\n",
       "    }\n",
       "\n",
       "    .dataframe thead th {\n",
       "        text-align: right;\n",
       "    }\n",
       "</style>\n",
       "<table border=\"1\" class=\"dataframe\">\n",
       "  <thead>\n",
       "    <tr style=\"text-align: right;\">\n",
       "      <th></th>\n",
       "      <th>CreditScore</th>\n",
       "      <th>Geography</th>\n",
       "      <th>Gender</th>\n",
       "      <th>Age</th>\n",
       "      <th>Tenure</th>\n",
       "      <th>Balance</th>\n",
       "      <th>NumOfProducts</th>\n",
       "      <th>HasCrCard</th>\n",
       "      <th>IsActiveMember</th>\n",
       "      <th>EstimatedSalary</th>\n",
       "      <th>Exited</th>\n",
       "    </tr>\n",
       "  </thead>\n",
       "  <tbody>\n",
       "    <tr>\n",
       "      <td>9990</td>\n",
       "      <td>714</td>\n",
       "      <td>Germany</td>\n",
       "      <td>Male</td>\n",
       "      <td>33</td>\n",
       "      <td>3</td>\n",
       "      <td>35,016.60</td>\n",
       "      <td>1</td>\n",
       "      <td>1</td>\n",
       "      <td>0</td>\n",
       "      <td>53,667.08</td>\n",
       "      <td>0</td>\n",
       "    </tr>\n",
       "    <tr>\n",
       "      <td>9991</td>\n",
       "      <td>597</td>\n",
       "      <td>France</td>\n",
       "      <td>Female</td>\n",
       "      <td>53</td>\n",
       "      <td>4</td>\n",
       "      <td>88,381.21</td>\n",
       "      <td>1</td>\n",
       "      <td>1</td>\n",
       "      <td>0</td>\n",
       "      <td>69,384.71</td>\n",
       "      <td>1</td>\n",
       "    </tr>\n",
       "    <tr>\n",
       "      <td>9992</td>\n",
       "      <td>726</td>\n",
       "      <td>Spain</td>\n",
       "      <td>Male</td>\n",
       "      <td>36</td>\n",
       "      <td>2</td>\n",
       "      <td>0.00</td>\n",
       "      <td>1</td>\n",
       "      <td>1</td>\n",
       "      <td>0</td>\n",
       "      <td>195,192.40</td>\n",
       "      <td>0</td>\n",
       "    </tr>\n",
       "    <tr>\n",
       "      <td>9993</td>\n",
       "      <td>644</td>\n",
       "      <td>France</td>\n",
       "      <td>Male</td>\n",
       "      <td>28</td>\n",
       "      <td>7</td>\n",
       "      <td>155,060.41</td>\n",
       "      <td>1</td>\n",
       "      <td>1</td>\n",
       "      <td>0</td>\n",
       "      <td>29,179.52</td>\n",
       "      <td>0</td>\n",
       "    </tr>\n",
       "    <tr>\n",
       "      <td>9994</td>\n",
       "      <td>800</td>\n",
       "      <td>France</td>\n",
       "      <td>Female</td>\n",
       "      <td>29</td>\n",
       "      <td>2</td>\n",
       "      <td>0.00</td>\n",
       "      <td>2</td>\n",
       "      <td>0</td>\n",
       "      <td>0</td>\n",
       "      <td>167,773.55</td>\n",
       "      <td>0</td>\n",
       "    </tr>\n",
       "    <tr>\n",
       "      <td>9995</td>\n",
       "      <td>771</td>\n",
       "      <td>France</td>\n",
       "      <td>Male</td>\n",
       "      <td>39</td>\n",
       "      <td>5</td>\n",
       "      <td>0.00</td>\n",
       "      <td>2</td>\n",
       "      <td>1</td>\n",
       "      <td>0</td>\n",
       "      <td>96,270.64</td>\n",
       "      <td>0</td>\n",
       "    </tr>\n",
       "    <tr>\n",
       "      <td>9996</td>\n",
       "      <td>516</td>\n",
       "      <td>France</td>\n",
       "      <td>Male</td>\n",
       "      <td>35</td>\n",
       "      <td>10</td>\n",
       "      <td>57,369.61</td>\n",
       "      <td>1</td>\n",
       "      <td>1</td>\n",
       "      <td>1</td>\n",
       "      <td>101,699.77</td>\n",
       "      <td>0</td>\n",
       "    </tr>\n",
       "    <tr>\n",
       "      <td>9997</td>\n",
       "      <td>709</td>\n",
       "      <td>France</td>\n",
       "      <td>Female</td>\n",
       "      <td>36</td>\n",
       "      <td>7</td>\n",
       "      <td>0.00</td>\n",
       "      <td>1</td>\n",
       "      <td>0</td>\n",
       "      <td>1</td>\n",
       "      <td>42,085.58</td>\n",
       "      <td>1</td>\n",
       "    </tr>\n",
       "    <tr>\n",
       "      <td>9998</td>\n",
       "      <td>772</td>\n",
       "      <td>Germany</td>\n",
       "      <td>Male</td>\n",
       "      <td>42</td>\n",
       "      <td>3</td>\n",
       "      <td>75,075.31</td>\n",
       "      <td>2</td>\n",
       "      <td>1</td>\n",
       "      <td>0</td>\n",
       "      <td>92,888.52</td>\n",
       "      <td>1</td>\n",
       "    </tr>\n",
       "    <tr>\n",
       "      <td>9999</td>\n",
       "      <td>792</td>\n",
       "      <td>France</td>\n",
       "      <td>Female</td>\n",
       "      <td>28</td>\n",
       "      <td>-1</td>\n",
       "      <td>130,142.79</td>\n",
       "      <td>1</td>\n",
       "      <td>1</td>\n",
       "      <td>0</td>\n",
       "      <td>38,190.78</td>\n",
       "      <td>0</td>\n",
       "    </tr>\n",
       "  </tbody>\n",
       "</table>\n",
       "</div>"
      ],
      "text/plain": [
       "      CreditScore Geography  Gender  Age  Tenure    Balance  NumOfProducts  \\\n",
       "9990          714   Germany    Male   33       3  35,016.60              1   \n",
       "9991          597    France  Female   53       4  88,381.21              1   \n",
       "9992          726     Spain    Male   36       2       0.00              1   \n",
       "9993          644    France    Male   28       7 155,060.41              1   \n",
       "9994          800    France  Female   29       2       0.00              2   \n",
       "9995          771    France    Male   39       5       0.00              2   \n",
       "9996          516    France    Male   35      10  57,369.61              1   \n",
       "9997          709    France  Female   36       7       0.00              1   \n",
       "9998          772   Germany    Male   42       3  75,075.31              2   \n",
       "9999          792    France  Female   28      -1 130,142.79              1   \n",
       "\n",
       "      HasCrCard  IsActiveMember  EstimatedSalary  Exited  \n",
       "9990          1               0        53,667.08       0  \n",
       "9991          1               0        69,384.71       1  \n",
       "9992          1               0       195,192.40       0  \n",
       "9993          1               0        29,179.52       0  \n",
       "9994          0               0       167,773.55       0  \n",
       "9995          1               0        96,270.64       0  \n",
       "9996          1               1       101,699.77       0  \n",
       "9997          0               1        42,085.58       1  \n",
       "9998          1               0        92,888.52       1  \n",
       "9999          1               0        38,190.78       0  "
      ]
     },
     "execution_count": 10,
     "metadata": {},
     "output_type": "execute_result"
    }
   ],
   "source": [
    "df.tail(10)"
   ]
  },
  {
   "cell_type": "markdown",
   "metadata": {},
   "source": [
    "<div class=\"alert alert-info\"><b>Комментарий студента:</b> \n",
    "    \n",
    "Вывод: \n",
    "    \n",
    "Датасет имеет 10 000 строк и 14 столбцов. Дубликатов нет. Есть пропуске в стобце 'Tenure'.\n",
    "    \n",
    "Удалил столбци 'RowNumber', 'Surname', 'CustomerId', 'Geography', 'Gender', т.к. для обучения модели они не нужны.\n",
    "    \n",
    "Количество пропусков в стобце 'Tenure' ~ 9% от общего кол-ва данных, заменил на -1 для сохранения других данных.\n",
    "    \n",
    "</div>"
   ]
  },
  {
   "cell_type": "code",
   "execution_count": 11,
   "metadata": {
    "scrolled": true
   },
   "outputs": [
    {
     "data": {
      "image/png": "[encoded data removed]",
      "text/plain": [
       "<Figure size 1080x1080 with 81 Axes>"
      ]
     },
     "metadata": {
      "needs_background": "light"
     },
     "output_type": "display_data"
    }
   ],
   "source": [
    "pd.plotting.scatter_matrix(df, figsize=(15, 15))\n",
    "plt.show()"
   ]
  },
  {
   "cell_type": "code",
   "execution_count": 12,
   "metadata": {},
   "outputs": [],
   "source": [
    "# Признаки\n",
    "features = df_ohe.drop(['Exited'], axis=1)\n",
    "# Целевой признак\n",
    "target = df_ohe['Exited']"
   ]
  },
  {
   "cell_type": "code",
   "execution_count": 13,
   "metadata": {},
   "outputs": [],
   "source": [
    "# Разделил на обучабщую и тестовую выборки\n",
    "features_train, features_valid, target_train, target_valid = train_test_split(features, target, \n",
    "                                                                              test_size=0.25, random_state=12345)\n",
    "features_valid, features_test, target_valid, target_test = train_test_split(features_valid, target_valid, \n",
    "                                                                                test_size=0.5, random_state=12345)"
   ]
  },
  {
   "cell_type": "code",
   "execution_count": 14,
   "metadata": {},
   "outputs": [],
   "source": [
    "# Приведем численные признаки к одному масштабу\n",
    "import warnings\n",
    "warnings.filterwarnings(\"ignore\")\n",
    "numeric = ['CreditScore', 'Age', 'Tenure', 'Balance', 'NumOfProducts', 'HasCrCard', 'IsActiveMember', 'EstimatedSalary']\n",
    "scaler = StandardScaler()\n",
    "scaler.fit(features_train[numeric])\n",
    "features_train[numeric] = scaler.transform(features_train[numeric])\n",
    "features_valid[numeric] = scaler.transform(features_valid[numeric])\n",
    "features_test[numeric] = scaler.transform(features_test[numeric])"
   ]
  },
  {
   "cell_type": "code",
   "execution_count": 15,
   "metadata": {},
   "outputs": [
    {
     "name": "stdout",
     "output_type": "stream",
     "text": [
      "(7500, 11) (1250, 11) (7500,) (1250,)\n"
     ]
    }
   ],
   "source": [
    "print(features_train.shape, features_valid.shape, target_train.shape, target_valid.shape)"
   ]
  },
  {
   "cell_type": "markdown",
   "metadata": {},
   "source": [
    "## Исследование задачи"
   ]
  },
  {
   "cell_type": "markdown",
   "metadata": {},
   "source": [
    "Проверим дисбаланс"
   ]
  },
  {
   "cell_type": "code",
   "execution_count": 16,
   "metadata": {},
   "outputs": [
    {
     "data": {
      "text/plain": [
       "0   0.80\n",
       "1   0.20\n",
       "Name: Exited, dtype: float64"
      ]
     },
     "execution_count": 16,
     "metadata": {},
     "output_type": "execute_result"
    }
   ],
   "source": [
    "df['Exited'].value_counts(normalize=True)"
   ]
  },
  {
   "cell_type": "code",
   "execution_count": 17,
   "metadata": {},
   "outputs": [],
   "source": [
    "model = LogisticRegression(solver='liblinear', random_state=12345)\n",
    "model.fit(features_train, target_train)\n",
    "predicted_valid = model.predict(features_valid)"
   ]
  },
  {
   "cell_type": "code",
   "execution_count": 18,
   "metadata": {},
   "outputs": [
    {
     "data": {
      "text/plain": [
       "0.29213483146067415"
      ]
     },
     "execution_count": 18,
     "metadata": {},
     "output_type": "execute_result"
    }
   ],
   "source": [
    "f1_score(target_valid, predicted_valid)"
   ]
  },
  {
   "cell_type": "markdown",
   "metadata": {},
   "source": [
    "Вывод: Соотношение 0 к 1 явно имеет дисбаланс. F1 мера очень маленькая 0.2 от желаемых 0.59. \n",
    "Проверили самую простую модель LogisticRegression, остальные модели тоже дадут низкие результаты, будем устронять дисбаланс."
   ]
  },
  {
   "cell_type": "markdown",
   "metadata": {},
   "source": [
    "## Борьба с дисбалансом"
   ]
  },
  {
   "cell_type": "code",
   "execution_count": 19,
   "metadata": {},
   "outputs": [],
   "source": [
    "# Увилечение выборки класса 1\n",
    "def upsample(features, target, repeat):\n",
    "    features_zeros = features[target == 0]\n",
    "    features_ones = features[target == 1]\n",
    "    target_zeros = target[target == 0]\n",
    "    target_ones = target[target == 1]\n",
    "\n",
    "    features_upsampled = pd.concat([features_zeros] + [features_ones] * repeat)\n",
    "    target_upsampled = pd.concat([target_zeros] + [target_ones] * repeat)\n",
    "    \n",
    "    features_upsampled, target_upsampled = shuffle(\n",
    "        features_upsampled, target_upsampled, random_state=12345)\n",
    "    \n",
    "    return features_upsampled, target_upsampled"
   ]
  },
  {
   "cell_type": "code",
   "execution_count": 20,
   "metadata": {},
   "outputs": [
    {
     "name": "stdout",
     "output_type": "stream",
     "text": [
      "1    6008\n",
      "0    5998\n",
      "Name: Exited, dtype: int64\n"
     ]
    }
   ],
   "source": [
    "features_upsampled, target_upsampled = upsample(features_train, target_train, 4)\n",
    "print(target_upsampled.value_counts())"
   ]
  },
  {
   "cell_type": "code",
   "execution_count": 21,
   "metadata": {},
   "outputs": [],
   "source": [
    "model = LogisticRegression(solver='liblinear', class_weight='balanced', random_state=12345)\n",
    "model.fit(features_upsampled, target_upsampled)\n",
    "predicted_valid = model.predict(features_valid)"
   ]
  },
  {
   "cell_type": "code",
   "execution_count": 22,
   "metadata": {},
   "outputs": [
    {
     "data": {
      "text/plain": [
       "0.5126162018592297"
      ]
     },
     "execution_count": 22,
     "metadata": {},
     "output_type": "execute_result"
    }
   ],
   "source": [
    "f1_score(target_valid, predicted_valid)"
   ]
  },
  {
   "cell_type": "code",
   "execution_count": 23,
   "metadata": {},
   "outputs": [],
   "source": [
    "# Проверим соотношение auc_roc\n",
    "model = LogisticRegression(solver='liblinear', class_weight='balanced', random_state=12345)\n",
    "model.fit(features_upsampled, target_upsampled)\n",
    "probabilities_valid = model.predict_proba(features_valid)\n",
    "probabilities_one_valid = probabilities_valid[:, 1]"
   ]
  },
  {
   "cell_type": "code",
   "execution_count": 24,
   "metadata": {},
   "outputs": [
    {
     "data": {
      "text/plain": [
       "0.7699253797465917"
      ]
     },
     "execution_count": 24,
     "metadata": {},
     "output_type": "execute_result"
    }
   ],
   "source": [
    "auc_roc = roc_auc_score(target_valid, probabilities_one_valid)\n",
    "auc_roc"
   ]
  },
  {
   "cell_type": "markdown",
   "metadata": {},
   "source": [
    "Вывод: После изменения баланса модель LogisticRegression f1 метрика 0,47, проверим другие модели."
   ]
  },
  {
   "cell_type": "code",
   "execution_count": 25,
   "metadata": {},
   "outputs": [
    {
     "name": "stdout",
     "output_type": "stream",
     "text": [
      "Глубина 1: 0.7432 f1: 0.4864\n",
      "Глубина 2: 0.756 f1: 0.5314900153609832\n",
      "Глубина 3: 0.756 f1: 0.5314900153609832\n",
      "Глубина 4: 0.7216 f1: 0.5359999999999999\n",
      "Глубина 5: 0.8056 f1: 0.6035889070146819\n",
      "Глубина 6: 0.7696 f1: 0.5789473684210527\n",
      "Глубина 7: 0.748 f1: 0.5655172413793105\n",
      "Глубина 8: 0.7664 f1: 0.5667655786350148\n",
      "Глубина 9: 0.7672 f1: 0.5751824817518247\n",
      "Глубина 10: 0.76 f1: 0.5588235294117647\n"
     ]
    }
   ],
   "source": [
    "# Выберим модель Дерево решений\n",
    "for depth in range(1, 11):\n",
    "    model = DecisionTreeClassifier(class_weight='balanced', max_depth=depth, random_state=12345)\n",
    "    model.fit(features_upsampled, target_upsampled)\n",
    "    predicted_valid = model.predict(features_valid)\n",
    "    probabilities_valid = model.predict_proba(features_valid)\n",
    "    probabilities_one_valid = probabilities_valid[:, 1]\n",
    "    print(f'Глубина {depth}:', model.score(features_valid, target_valid), f'f1:',f1_score(target_valid, predicted_valid))"
   ]
  },
  {
   "cell_type": "code",
   "execution_count": 26,
   "metadata": {},
   "outputs": [
    {
     "data": {
      "text/plain": [
       "0.8487890099814701"
      ]
     },
     "execution_count": 26,
     "metadata": {},
     "output_type": "execute_result"
    }
   ],
   "source": [
    "model = DecisionTreeClassifier(class_weight='balanced', max_depth=5, random_state=12345)\n",
    "model.fit(features_upsampled, target_upsampled)\n",
    "probabilities_valid = model.predict_proba(features_valid)\n",
    "probabilities_one_valid = probabilities_valid[:, 1]\n",
    "auc_roc = roc_auc_score(target_valid, probabilities_one_valid)\n",
    "auc_roc"
   ]
  },
  {
   "cell_type": "code",
   "execution_count": 27,
   "metadata": {},
   "outputs": [
    {
     "data": {
      "image/png": "[encoded data removed]",
      "text/plain": [
       "<Figure size 720x360 with 1 Axes>"
      ]
     },
     "metadata": {
      "needs_background": "light"
     },
     "output_type": "display_data"
    }
   ],
   "source": [
    "fpr, tpr, thresholds = roc_curve(target_valid, probabilities_one_valid)\n",
    "plt.figure(figsize=[10,5])\n",
    "plt.plot([0, 1], [0, 1], linestyle='--', label='RandomModel')\n",
    "plt.plot(fpr, tpr, label='DecisionTreeClassifier')\n",
    "plt.xlim([0,1])\n",
    "plt.ylim([0,1])\n",
    "\n",
    "plt.xlabel(\"False Positive Rate\")\n",
    "plt.ylabel(\"True Positive Rate\")\n",
    "\n",
    "plt.legend(loc='lower right', fontsize='x-large')\n",
    "\n",
    "plt.title(\"ROC-кривая\")\n",
    "plt.show()"
   ]
  },
  {
   "cell_type": "markdown",
   "metadata": {},
   "source": [
    "Вывод: После изменения баланса модель DecisionTreeClassifier лучшая f1 метрика 0,596 при глубине дерева 5, проверим другие модели."
   ]
  },
  {
   "cell_type": "code",
   "execution_count": 28,
   "metadata": {},
   "outputs": [
    {
     "name": "stdout",
     "output_type": "stream",
     "text": [
      "Кол-во деревьев 10: 0.82 f1: 0.6218487394957983\n",
      "Кол-во деревьев 20: 0.82 f1: 0.6268656716417911\n",
      "Кол-во деревьев 30: 0.8272 f1: 0.6387959866220737\n",
      "Кол-во деревьев 40: 0.8328 f1: 0.6427350427350428\n",
      "Кол-во деревьев 50: 0.8336 f1: 0.6474576271186441\n",
      "Кол-во деревьев 60: 0.832 f1: 0.6440677966101694\n",
      "Кол-во деревьев 70: 0.8312 f1: 0.6405451448040886\n",
      "Кол-во деревьев 80: 0.828 f1: 0.6374367622259697\n",
      "Кол-во деревьев 90: 0.8328 f1: 0.6451612903225806\n",
      "Кол-во деревьев 100: 0.8336 f1: 0.6474576271186441\n",
      "Кол-во деревьев 110: 0.836 f1: 0.6495726495726495\n",
      "Кол-во деревьев 120: 0.8352 f1: 0.6484641638225257\n",
      "Кол-во деревьев 130: 0.8376 f1: 0.652991452991453\n",
      "Кол-во деревьев 140: 0.8344 f1: 0.6424870466321244\n",
      "Кол-во деревьев 150: 0.836 f1: 0.6447140381282496\n",
      "Кол-во деревьев 160: 0.8304 f1: 0.6332179930795848\n",
      "Кол-во деревьев 170: 0.8312 f1: 0.6380789022298456\n",
      "Кол-во деревьев 180: 0.8336 f1: 0.6438356164383561\n",
      "Кол-во деревьев 190: 0.8352 f1: 0.6472602739726028\n",
      "Кол-во деревьев 200: 0.836 f1: 0.6483704974271012\n"
     ]
    }
   ],
   "source": [
    "# Выберим модель Случайный лес\n",
    "for est in range(10, 201, 10):\n",
    "    model = RandomForestClassifier(class_weight='balanced', n_estimators=est, max_depth=10, random_state=12345)\n",
    "    model.fit(features_upsampled, target_upsampled)\n",
    "    predicted_valid = model.predict(features_valid)\n",
    "    print(f'Кол-во деревьев {est}:', model.score(features_valid, target_valid), f'f1:',f1_score(target_valid, predicted_valid))"
   ]
  },
  {
   "cell_type": "code",
   "execution_count": 29,
   "metadata": {},
   "outputs": [],
   "source": [
    "# Проверим соотношение auc_roc\n",
    "model = RandomForestClassifier(class_weight='balanced', n_estimators=50, max_depth=10, random_state=12345)\n",
    "model.fit(features_upsampled, target_upsampled)\n",
    "probabilities_valid = model.predict_proba(features_valid)\n",
    "probabilities_one_valid = probabilities_valid[:, 1]"
   ]
  },
  {
   "cell_type": "code",
   "execution_count": 30,
   "metadata": {},
   "outputs": [
    {
     "data": {
      "text/plain": [
       "0.8658145241754983"
      ]
     },
     "execution_count": 30,
     "metadata": {},
     "output_type": "execute_result"
    }
   ],
   "source": [
    "auc_roc = roc_auc_score(target_valid, probabilities_one_valid)\n",
    "auc_roc"
   ]
  },
  {
   "cell_type": "code",
   "execution_count": 31,
   "metadata": {},
   "outputs": [
    {
     "name": "stdout",
     "output_type": "stream",
     "text": [
      "f1: 0.6483704974271012\n"
     ]
    }
   ],
   "source": [
    "print(f'f1:',f1_score(target_valid, predicted_valid))"
   ]
  },
  {
   "cell_type": "code",
   "execution_count": 32,
   "metadata": {},
   "outputs": [
    {
     "data": {
      "image/png": "[encoded data removed]",
      "text/plain": [
       "<Figure size 720x360 with 1 Axes>"
      ]
     },
     "metadata": {
      "needs_background": "light"
     },
     "output_type": "display_data"
    }
   ],
   "source": [
    "fpr, tpr, thresholds = roc_curve(target_valid, probabilities_one_valid)\n",
    "plt.figure(figsize=[10,5])\n",
    "plt.plot([0, 1], [0, 1], linestyle='--', label='RandomModel')\n",
    "plt.plot(fpr, tpr, label='RandomForestClassifier')\n",
    "plt.xlim([0,1])\n",
    "plt.ylim([0,1])\n",
    "\n",
    "plt.xlabel(\"False Positive Rate\")\n",
    "plt.ylabel(\"True Positive Rate\")\n",
    "\n",
    "plt.legend(loc='lower right', fontsize='x-large')\n",
    "\n",
    "plt.title(\"ROC-кривая\")\n",
    "plt.show()"
   ]
  },
  {
   "cell_type": "markdown",
   "metadata": {},
   "source": [
    "Вывод: Основным решением для устранения дисбаланса стало увеличение классов 1 в тренировочной выборке.\n",
    "Выравнивание привело к повышению результатов предсказания для всех трех моделей, но лучшие результаты у \"Дерева решений\" и \"Случайного леса\"."
   ]
  },
  {
   "cell_type": "markdown",
   "metadata": {},
   "source": [
    "## Тестирование модели"
   ]
  },
  {
   "cell_type": "code",
   "execution_count": 33,
   "metadata": {},
   "outputs": [],
   "source": [
    "# model = RandomForestClassifier(n_estimators=20, max_depth=10, random_state=12345)\n",
    "# model.fit(features_test, target_test)\n",
    "\n",
    "# predicted_test = model.predict(features_test)\n",
    "# print('test:', f1_score(target_test, predicted_test))"
   ]
  },
  {
   "cell_type": "code",
   "execution_count": 36,
   "metadata": {},
   "outputs": [
    {
     "name": "stdout",
     "output_type": "stream",
     "text": [
      "test: 0.6137184115523466\n"
     ]
    }
   ],
   "source": [
    "#КОД РЕВЬЮЕРА\n",
    "model = RandomForestClassifier(class_weight='balanced', n_estimators=50, max_depth=10, random_state=12345)\n",
    "model.fit(features_train, target_train)\n",
    "\n",
    "predicted_test = model.predict(features_test)\n",
    "print('test:', f1_score(target_test, predicted_test))"
   ]
  },
  {
   "cell_type": "markdown",
   "metadata": {},
   "source": [
    "Вывод: f1 мера тестовой и валидационной модели \"Случайного леса\" достигли цели в 0,59."
   ]
  },
  {
   "cell_type": "markdown",
   "metadata": {},
   "source": [
    "<div class=\"alert alert-info\"><b>Комментарий студента:</b> \n",
    "    \n",
    "Вывод: Была полученна лучшая модель \"Случайного леса\" с AUC_ROC 84% и f1 мерой 0,6.\n",
    "    \n",
    "Оценивая адеватность модели можно заметить, что AUC-ROC дисбалансной модели и модели с весами примерно одинаково предсказывают вероятность ухода клиента.\n",
    "    \n",
    "</div>"
   ]
  }
 ],
 "metadata": {
  "ExecuteTimeLog": [
   {
    "duration": 887,
    "start_time": "2022-02-23T14:24:28.464Z"
   },
   {
    "duration": 39,
    "start_time": "2022-02-23T14:24:43.502Z"
   },
   {
    "duration": 300,
    "start_time": "2022-02-23T14:25:09.309Z"
   },
   {
    "duration": 33,
    "start_time": "2022-02-23T14:25:15.542Z"
   },
   {
    "duration": 33,
    "start_time": "2022-02-23T14:25:24.206Z"
   },
   {
    "duration": 33,
    "start_time": "2022-02-23T14:25:29.729Z"
   },
   {
    "duration": 30,
    "start_time": "2022-02-23T14:28:03.760Z"
   },
   {
    "duration": 12,
    "start_time": "2022-02-23T14:28:14.570Z"
   },
   {
    "duration": 11,
    "start_time": "2022-02-23T14:35:29.131Z"
   },
   {
    "duration": 22672,
    "start_time": "2022-02-23T14:39:12.450Z"
   },
   {
    "duration": 22813,
    "start_time": "2022-02-23T14:40:00.367Z"
   },
   {
    "duration": 5,
    "start_time": "2022-02-23T14:43:45.456Z"
   },
   {
    "duration": 18325,
    "start_time": "2022-02-23T14:44:00.912Z"
   },
   {
    "duration": 4,
    "start_time": "2022-02-23T14:48:03.201Z"
   },
   {
    "duration": 403,
    "start_time": "2022-02-23T14:50:48.175Z"
   },
   {
    "duration": 285,
    "start_time": "2022-02-23T17:41:32.752Z"
   },
   {
    "duration": 694,
    "start_time": "2022-02-23T17:41:39.075Z"
   },
   {
    "duration": 22,
    "start_time": "2022-02-23T17:41:39.771Z"
   },
   {
    "duration": 54,
    "start_time": "2022-02-23T17:41:39.796Z"
   },
   {
    "duration": 10,
    "start_time": "2022-02-23T17:41:39.853Z"
   },
   {
    "duration": 22418,
    "start_time": "2022-02-23T17:41:39.865Z"
   },
   {
    "duration": 5,
    "start_time": "2022-02-23T17:42:02.285Z"
   },
   {
    "duration": 446,
    "start_time": "2022-02-23T17:42:02.292Z"
   },
   {
    "duration": 342,
    "start_time": "2022-02-23T17:42:02.741Z"
   },
   {
    "duration": 83,
    "start_time": "2022-02-23T17:42:31.202Z"
   },
   {
    "duration": 74,
    "start_time": "2022-02-23T17:42:48.446Z"
   },
   {
    "duration": 4,
    "start_time": "2022-02-23T17:42:53.792Z"
   },
   {
    "duration": 420,
    "start_time": "2022-02-24T04:04:10.958Z"
   },
   {
    "duration": 829,
    "start_time": "2022-02-24T04:04:15.867Z"
   },
   {
    "duration": 28,
    "start_time": "2022-02-24T04:04:16.700Z"
   },
   {
    "duration": 31,
    "start_time": "2022-02-24T04:04:16.732Z"
   },
   {
    "duration": 7,
    "start_time": "2022-02-24T04:04:16.766Z"
   },
   {
    "duration": 31226,
    "start_time": "2022-02-24T04:04:16.776Z"
   },
   {
    "duration": 7,
    "start_time": "2022-02-24T04:04:48.004Z"
   },
   {
    "duration": 578,
    "start_time": "2022-02-24T04:04:48.013Z"
   },
   {
    "duration": 4,
    "start_time": "2022-02-24T04:04:48.594Z"
   },
   {
    "duration": 7,
    "start_time": "2022-02-24T04:05:42.291Z"
   },
   {
    "duration": 7,
    "start_time": "2022-02-24T04:07:18.002Z"
   },
   {
    "duration": 7,
    "start_time": "2022-02-24T04:08:10.399Z"
   },
   {
    "duration": 8,
    "start_time": "2022-02-24T04:08:32.092Z"
   },
   {
    "duration": 5,
    "start_time": "2022-02-24T04:08:42.284Z"
   },
   {
    "duration": 7,
    "start_time": "2022-02-24T04:08:42.874Z"
   },
   {
    "duration": 773,
    "start_time": "2022-02-24T04:09:03.786Z"
   },
   {
    "duration": 31,
    "start_time": "2022-02-24T04:09:04.562Z"
   },
   {
    "duration": 17,
    "start_time": "2022-02-24T04:09:04.599Z"
   },
   {
    "duration": 43,
    "start_time": "2022-02-24T04:09:04.618Z"
   },
   {
    "duration": 8,
    "start_time": "2022-02-24T04:09:04.664Z"
   },
   {
    "duration": 8,
    "start_time": "2022-02-24T04:09:04.674Z"
   },
   {
    "duration": 18,
    "start_time": "2022-02-24T04:09:04.686Z"
   },
   {
    "duration": 32020,
    "start_time": "2022-02-24T04:09:04.707Z"
   },
   {
    "duration": 7,
    "start_time": "2022-02-24T04:09:36.729Z"
   },
   {
    "duration": 568,
    "start_time": "2022-02-24T04:09:36.738Z"
   },
   {
    "duration": 4,
    "start_time": "2022-02-24T04:09:37.309Z"
   },
   {
    "duration": 745,
    "start_time": "2022-02-24T04:12:38.287Z"
   },
   {
    "duration": 31,
    "start_time": "2022-02-24T04:12:39.035Z"
   },
   {
    "duration": 16,
    "start_time": "2022-02-24T04:12:39.070Z"
   },
   {
    "duration": 6,
    "start_time": "2022-02-24T04:12:39.088Z"
   },
   {
    "duration": 8,
    "start_time": "2022-02-24T04:12:39.096Z"
   },
   {
    "duration": 5,
    "start_time": "2022-02-24T04:12:39.106Z"
   },
   {
    "duration": 6,
    "start_time": "2022-02-24T04:12:39.161Z"
   },
   {
    "duration": 33915,
    "start_time": "2022-02-24T04:12:39.170Z"
   },
   {
    "duration": 6,
    "start_time": "2022-02-24T04:13:13.087Z"
   },
   {
    "duration": 545,
    "start_time": "2022-02-24T04:13:13.096Z"
   },
   {
    "duration": 5,
    "start_time": "2022-02-24T04:13:13.643Z"
   },
   {
    "duration": 16,
    "start_time": "2022-02-24T04:14:50.599Z"
   },
   {
    "duration": 17,
    "start_time": "2022-02-24T04:15:14.932Z"
   },
   {
    "duration": 468,
    "start_time": "2022-02-24T04:30:32.070Z"
   },
   {
    "duration": 801,
    "start_time": "2022-02-24T04:32:48.034Z"
   },
   {
    "duration": 41,
    "start_time": "2022-02-24T04:32:48.839Z"
   },
   {
    "duration": 19,
    "start_time": "2022-02-24T04:32:48.883Z"
   },
   {
    "duration": 5,
    "start_time": "2022-02-24T04:32:48.905Z"
   },
   {
    "duration": 8,
    "start_time": "2022-02-24T04:32:48.912Z"
   },
   {
    "duration": 43,
    "start_time": "2022-02-24T04:32:48.922Z"
   },
   {
    "duration": 7,
    "start_time": "2022-02-24T04:32:48.968Z"
   },
   {
    "duration": 15,
    "start_time": "2022-02-24T04:32:48.979Z"
   },
   {
    "duration": 30908,
    "start_time": "2022-02-24T04:32:48.996Z"
   },
   {
    "duration": 7,
    "start_time": "2022-02-24T04:33:19.907Z"
   },
   {
    "duration": 603,
    "start_time": "2022-02-24T04:33:19.917Z"
   },
   {
    "duration": 5,
    "start_time": "2022-02-24T04:33:20.523Z"
   },
   {
    "duration": 132,
    "start_time": "2022-02-24T04:33:20.531Z"
   },
   {
    "duration": 11,
    "start_time": "2022-02-24T04:34:49.576Z"
   },
   {
    "duration": 798,
    "start_time": "2022-02-24T04:44:55.179Z"
   },
   {
    "duration": 28,
    "start_time": "2022-02-24T04:44:55.979Z"
   },
   {
    "duration": 16,
    "start_time": "2022-02-24T04:44:56.010Z"
   },
   {
    "duration": 34,
    "start_time": "2022-02-24T04:44:56.029Z"
   },
   {
    "duration": 9,
    "start_time": "2022-02-24T04:44:56.065Z"
   },
   {
    "duration": 6,
    "start_time": "2022-02-24T04:44:56.076Z"
   },
   {
    "duration": 7,
    "start_time": "2022-02-24T04:44:56.084Z"
   },
   {
    "duration": 69,
    "start_time": "2022-02-24T04:44:56.094Z"
   },
   {
    "duration": 25265,
    "start_time": "2022-02-24T04:44:56.165Z"
   },
   {
    "duration": 5,
    "start_time": "2022-02-24T04:45:21.432Z"
   },
   {
    "duration": 671,
    "start_time": "2022-02-24T04:45:21.439Z"
   },
   {
    "duration": 5,
    "start_time": "2022-02-24T04:45:22.112Z"
   },
   {
    "duration": 104,
    "start_time": "2022-02-24T04:45:22.119Z"
   },
   {
    "duration": 100,
    "start_time": "2022-02-24T04:45:22.263Z"
   },
   {
    "duration": 15,
    "start_time": "2022-02-24T04:57:28.935Z"
   },
   {
    "duration": 822,
    "start_time": "2022-02-24T04:58:01.632Z"
   },
   {
    "duration": 29,
    "start_time": "2022-02-24T04:58:02.457Z"
   },
   {
    "duration": 16,
    "start_time": "2022-02-24T04:58:02.489Z"
   },
   {
    "duration": 5,
    "start_time": "2022-02-24T04:58:02.507Z"
   },
   {
    "duration": 47,
    "start_time": "2022-02-24T04:58:02.514Z"
   },
   {
    "duration": 7,
    "start_time": "2022-02-24T04:58:02.563Z"
   },
   {
    "duration": 11,
    "start_time": "2022-02-24T04:58:02.572Z"
   },
   {
    "duration": 17,
    "start_time": "2022-02-24T04:58:02.588Z"
   },
   {
    "duration": 67,
    "start_time": "2022-02-24T04:58:02.608Z"
   },
   {
    "duration": 25265,
    "start_time": "2022-02-24T04:58:02.677Z"
   },
   {
    "duration": 19,
    "start_time": "2022-02-24T04:58:27.945Z"
   },
   {
    "duration": 728,
    "start_time": "2022-02-24T04:58:27.967Z"
   },
   {
    "duration": 5,
    "start_time": "2022-02-24T04:58:28.697Z"
   },
   {
    "duration": 108,
    "start_time": "2022-02-24T04:58:28.705Z"
   },
   {
    "duration": 101,
    "start_time": "2022-02-24T04:58:28.862Z"
   },
   {
    "duration": 443,
    "start_time": "2022-02-24T04:59:01.906Z"
   },
   {
    "duration": 9,
    "start_time": "2022-02-24T04:59:03.019Z"
   },
   {
    "duration": 6,
    "start_time": "2022-02-24T04:59:10.406Z"
   },
   {
    "duration": 8,
    "start_time": "2022-02-24T04:59:12.430Z"
   },
   {
    "duration": 6,
    "start_time": "2022-02-24T04:59:13.436Z"
   },
   {
    "duration": 69,
    "start_time": "2022-02-24T04:59:14.843Z"
   },
   {
    "duration": 9,
    "start_time": "2022-02-24T04:59:15.499Z"
   },
   {
    "duration": 10,
    "start_time": "2022-02-24T05:01:41.324Z"
   },
   {
    "duration": 63,
    "start_time": "2022-02-24T05:05:05.175Z"
   },
   {
    "duration": 9,
    "start_time": "2022-02-24T05:05:05.918Z"
   },
   {
    "duration": 6,
    "start_time": "2022-02-24T05:12:23.242Z"
   },
   {
    "duration": 22,
    "start_time": "2022-02-24T05:12:24.110Z"
   },
   {
    "duration": 134,
    "start_time": "2022-02-24T05:12:24.773Z"
   },
   {
    "duration": 9,
    "start_time": "2022-02-24T05:12:25.381Z"
   },
   {
    "duration": 6,
    "start_time": "2022-02-24T05:15:15.947Z"
   },
   {
    "duration": 16,
    "start_time": "2022-02-24T05:15:16.522Z"
   },
   {
    "duration": 28,
    "start_time": "2022-02-24T05:15:17.027Z"
   },
   {
    "duration": 10,
    "start_time": "2022-02-24T05:15:17.532Z"
   },
   {
    "duration": 306,
    "start_time": "2022-02-24T05:21:13.145Z"
   },
   {
    "duration": 63,
    "start_time": "2022-02-24T05:21:27.325Z"
   },
   {
    "duration": 70,
    "start_time": "2022-02-24T05:21:27.942Z"
   },
   {
    "duration": 283,
    "start_time": "2022-02-24T05:21:28.554Z"
   },
   {
    "duration": 1408,
    "start_time": "2022-02-24T05:21:39.162Z"
   },
   {
    "duration": 5,
    "start_time": "2022-02-24T05:22:13.173Z"
   },
   {
    "duration": 82,
    "start_time": "2022-02-24T05:23:19.497Z"
   },
   {
    "duration": 8,
    "start_time": "2022-02-24T05:25:11.171Z"
   },
   {
    "duration": 82,
    "start_time": "2022-02-24T05:25:12.000Z"
   },
   {
    "duration": 28,
    "start_time": "2022-02-24T05:26:14.184Z"
   },
   {
    "duration": 147,
    "start_time": "2022-02-24T05:26:26.916Z"
   },
   {
    "duration": 8,
    "start_time": "2022-02-24T05:26:27.432Z"
   },
   {
    "duration": 6,
    "start_time": "2022-02-24T05:26:28.004Z"
   },
   {
    "duration": 16,
    "start_time": "2022-02-24T05:26:28.676Z"
   },
   {
    "duration": 25,
    "start_time": "2022-02-24T05:26:29.194Z"
   },
   {
    "duration": 8,
    "start_time": "2022-02-24T05:26:29.857Z"
   },
   {
    "duration": 137,
    "start_time": "2022-02-24T05:27:08.575Z"
   },
   {
    "duration": 12,
    "start_time": "2022-02-24T05:27:10.711Z"
   },
   {
    "duration": 24,
    "start_time": "2022-02-24T05:27:30.207Z"
   },
   {
    "duration": 28,
    "start_time": "2022-02-24T05:27:30.687Z"
   },
   {
    "duration": 9,
    "start_time": "2022-02-24T05:27:31.380Z"
   },
   {
    "duration": 752,
    "start_time": "2022-02-24T05:27:35.998Z"
   },
   {
    "duration": 30,
    "start_time": "2022-02-24T05:27:36.753Z"
   },
   {
    "duration": 19,
    "start_time": "2022-02-24T05:27:36.787Z"
   },
   {
    "duration": 6,
    "start_time": "2022-02-24T05:27:36.810Z"
   },
   {
    "duration": 7,
    "start_time": "2022-02-24T05:27:36.862Z"
   },
   {
    "duration": 7,
    "start_time": "2022-02-24T05:27:36.871Z"
   },
   {
    "duration": 8,
    "start_time": "2022-02-24T05:27:36.881Z"
   },
   {
    "duration": 13,
    "start_time": "2022-02-24T05:27:36.894Z"
   },
   {
    "duration": 59,
    "start_time": "2022-02-24T05:27:36.910Z"
   },
   {
    "duration": 25669,
    "start_time": "2022-02-24T05:27:36.972Z"
   },
   {
    "duration": 17,
    "start_time": "2022-02-24T05:28:02.644Z"
   },
   {
    "duration": 728,
    "start_time": "2022-02-24T05:28:02.665Z"
   },
   {
    "duration": 6,
    "start_time": "2022-02-24T05:28:03.395Z"
   },
   {
    "duration": 10,
    "start_time": "2022-02-24T05:28:03.404Z"
   },
   {
    "duration": 147,
    "start_time": "2022-02-24T05:28:03.417Z"
   },
   {
    "duration": 96,
    "start_time": "2022-02-24T05:28:03.568Z"
   },
   {
    "duration": 6,
    "start_time": "2022-02-24T05:28:03.667Z"
   },
   {
    "duration": 86,
    "start_time": "2022-02-24T05:28:03.676Z"
   },
   {
    "duration": 141,
    "start_time": "2022-02-24T05:28:03.764Z"
   },
   {
    "duration": 9,
    "start_time": "2022-02-24T05:28:03.907Z"
   },
   {
    "duration": 6,
    "start_time": "2022-02-24T05:28:03.919Z"
   },
   {
    "duration": 40,
    "start_time": "2022-02-24T05:28:03.928Z"
   },
   {
    "duration": 27,
    "start_time": "2022-02-24T05:28:03.973Z"
   },
   {
    "duration": 8,
    "start_time": "2022-02-24T05:28:04.002Z"
   },
   {
    "duration": 58,
    "start_time": "2022-02-24T05:28:04.012Z"
   },
   {
    "duration": 165,
    "start_time": "2022-02-24T05:28:04.163Z"
   },
   {
    "duration": 136,
    "start_time": "2022-02-24T05:28:34.042Z"
   },
   {
    "duration": 9,
    "start_time": "2022-02-24T05:28:34.969Z"
   },
   {
    "duration": 26,
    "start_time": "2022-02-24T05:28:40.554Z"
   },
   {
    "duration": 8,
    "start_time": "2022-02-24T05:28:43.878Z"
   },
   {
    "duration": 15,
    "start_time": "2022-02-24T05:28:51.440Z"
   },
   {
    "duration": 78,
    "start_time": "2022-02-24T05:28:52.400Z"
   },
   {
    "duration": 8,
    "start_time": "2022-02-24T05:29:10.928Z"
   },
   {
    "duration": 83,
    "start_time": "2022-02-24T05:29:11.553Z"
   },
   {
    "duration": 9,
    "start_time": "2022-02-24T05:29:33.259Z"
   },
   {
    "duration": 826,
    "start_time": "2022-02-24T05:29:38.038Z"
   },
   {
    "duration": 32,
    "start_time": "2022-02-24T05:29:38.868Z"
   },
   {
    "duration": 19,
    "start_time": "2022-02-24T05:29:38.904Z"
   },
   {
    "duration": 39,
    "start_time": "2022-02-24T05:29:38.925Z"
   },
   {
    "duration": 9,
    "start_time": "2022-02-24T05:29:38.967Z"
   },
   {
    "duration": 7,
    "start_time": "2022-02-24T05:29:38.978Z"
   },
   {
    "duration": 6,
    "start_time": "2022-02-24T05:29:38.988Z"
   },
   {
    "duration": 68,
    "start_time": "2022-02-24T05:29:38.999Z"
   },
   {
    "duration": 17,
    "start_time": "2022-02-24T05:29:39.071Z"
   },
   {
    "duration": 25981,
    "start_time": "2022-02-24T05:29:39.090Z"
   },
   {
    "duration": 6,
    "start_time": "2022-02-24T05:30:05.074Z"
   },
   {
    "duration": 726,
    "start_time": "2022-02-24T05:30:05.082Z"
   },
   {
    "duration": 5,
    "start_time": "2022-02-24T05:30:05.811Z"
   },
   {
    "duration": 42,
    "start_time": "2022-02-24T05:30:05.819Z"
   },
   {
    "duration": 102,
    "start_time": "2022-02-24T05:30:05.864Z"
   },
   {
    "duration": 190,
    "start_time": "2022-02-24T05:30:05.970Z"
   },
   {
    "duration": 8,
    "start_time": "2022-02-24T05:30:06.164Z"
   },
   {
    "duration": 26,
    "start_time": "2022-02-24T05:30:06.175Z"
   },
   {
    "duration": 171,
    "start_time": "2022-02-24T05:30:06.203Z"
   },
   {
    "duration": 88,
    "start_time": "2022-02-24T05:30:06.377Z"
   },
   {
    "duration": 101,
    "start_time": "2022-02-24T05:30:06.468Z"
   },
   {
    "duration": 19,
    "start_time": "2022-02-24T05:30:06.571Z"
   },
   {
    "duration": 76,
    "start_time": "2022-02-24T05:30:06.594Z"
   },
   {
    "duration": 12,
    "start_time": "2022-02-24T05:30:06.762Z"
   },
   {
    "duration": 6,
    "start_time": "2022-02-24T05:30:06.777Z"
   },
   {
    "duration": 253,
    "start_time": "2022-02-24T05:30:06.786Z"
   },
   {
    "duration": 59,
    "start_time": "2022-02-24T05:31:47.768Z"
   },
   {
    "duration": 77,
    "start_time": "2022-02-24T05:31:48.449Z"
   },
   {
    "duration": 93,
    "start_time": "2022-02-24T05:38:19.638Z"
   },
   {
    "duration": 525,
    "start_time": "2022-02-24T05:38:38.202Z"
   },
   {
    "duration": 432,
    "start_time": "2022-02-24T05:40:20.133Z"
   },
   {
    "duration": 502,
    "start_time": "2022-02-24T05:40:27.330Z"
   },
   {
    "duration": 771,
    "start_time": "2022-02-24T05:40:27.929Z"
   },
   {
    "duration": 9,
    "start_time": "2022-02-24T05:40:42.019Z"
   },
   {
    "duration": 121,
    "start_time": "2022-02-24T06:11:09.956Z"
   },
   {
    "duration": 732,
    "start_time": "2022-02-24T06:11:15.304Z"
   },
   {
    "duration": 32,
    "start_time": "2022-02-24T06:11:16.039Z"
   },
   {
    "duration": 16,
    "start_time": "2022-02-24T06:11:16.074Z"
   },
   {
    "duration": 6,
    "start_time": "2022-02-24T06:11:16.092Z"
   },
   {
    "duration": 9,
    "start_time": "2022-02-24T06:11:16.100Z"
   },
   {
    "duration": 48,
    "start_time": "2022-02-24T06:11:16.113Z"
   },
   {
    "duration": 11,
    "start_time": "2022-02-24T06:11:16.164Z"
   },
   {
    "duration": 14,
    "start_time": "2022-02-24T06:11:16.178Z"
   },
   {
    "duration": 15,
    "start_time": "2022-02-24T06:11:16.194Z"
   },
   {
    "duration": 25971,
    "start_time": "2022-02-24T06:11:16.211Z"
   },
   {
    "duration": 5,
    "start_time": "2022-02-24T06:11:42.184Z"
   },
   {
    "duration": 721,
    "start_time": "2022-02-24T06:11:42.192Z"
   },
   {
    "duration": 6,
    "start_time": "2022-02-24T06:11:42.915Z"
   },
   {
    "duration": 13,
    "start_time": "2022-02-24T06:11:42.923Z"
   },
   {
    "duration": 104,
    "start_time": "2022-02-24T06:11:42.962Z"
   },
   {
    "duration": 98,
    "start_time": "2022-02-24T06:11:43.165Z"
   },
   {
    "duration": 6,
    "start_time": "2022-02-24T06:11:43.266Z"
   },
   {
    "duration": 29,
    "start_time": "2022-02-24T06:11:43.276Z"
   },
   {
    "duration": 154,
    "start_time": "2022-02-24T06:11:43.308Z"
   },
   {
    "duration": 101,
    "start_time": "2022-02-24T06:11:43.465Z"
   },
   {
    "duration": 101,
    "start_time": "2022-02-24T06:11:43.571Z"
   },
   {
    "duration": 16,
    "start_time": "2022-02-24T06:11:43.674Z"
   },
   {
    "duration": 69,
    "start_time": "2022-02-24T06:11:43.692Z"
   },
   {
    "duration": 99,
    "start_time": "2022-02-24T06:11:43.765Z"
   },
   {
    "duration": 98,
    "start_time": "2022-02-24T06:11:43.867Z"
   },
   {
    "duration": 249,
    "start_time": "2022-02-24T06:11:43.974Z"
   },
   {
    "duration": 520,
    "start_time": "2022-02-24T06:11:44.226Z"
   },
   {
    "duration": 22,
    "start_time": "2022-02-24T06:11:44.749Z"
   },
   {
    "duration": 8,
    "start_time": "2022-02-24T06:22:37.253Z"
   },
   {
    "duration": 24,
    "start_time": "2022-02-24T06:22:37.819Z"
   },
   {
    "duration": 166,
    "start_time": "2022-02-24T06:22:38.308Z"
   },
   {
    "duration": 9,
    "start_time": "2022-02-24T06:22:38.780Z"
   },
   {
    "duration": 110,
    "start_time": "2022-02-24T06:22:39.351Z"
   },
   {
    "duration": 121,
    "start_time": "2022-02-24T06:22:40.365Z"
   },
   {
    "duration": 545,
    "start_time": "2022-02-24T06:22:41.768Z"
   },
   {
    "duration": 69,
    "start_time": "2022-02-24T06:24:16.209Z"
   },
   {
    "duration": 82,
    "start_time": "2022-02-24T06:24:16.854Z"
   },
   {
    "duration": 516,
    "start_time": "2022-02-24T06:25:07.219Z"
   },
   {
    "duration": 26,
    "start_time": "2022-02-24T06:26:53.600Z"
   },
   {
    "duration": 790,
    "start_time": "2022-02-24T06:28:26.095Z"
   },
   {
    "duration": 33,
    "start_time": "2022-02-24T06:28:26.889Z"
   },
   {
    "duration": 49,
    "start_time": "2022-02-24T06:28:26.926Z"
   },
   {
    "duration": 6,
    "start_time": "2022-02-24T06:28:26.979Z"
   },
   {
    "duration": 8,
    "start_time": "2022-02-24T06:28:26.988Z"
   },
   {
    "duration": 6,
    "start_time": "2022-02-24T06:28:26.999Z"
   },
   {
    "duration": 55,
    "start_time": "2022-02-24T06:28:27.007Z"
   },
   {
    "duration": 13,
    "start_time": "2022-02-24T06:28:27.067Z"
   },
   {
    "duration": 16,
    "start_time": "2022-02-24T06:28:27.083Z"
   },
   {
    "duration": 25671,
    "start_time": "2022-02-24T06:28:27.101Z"
   },
   {
    "duration": 5,
    "start_time": "2022-02-24T06:28:52.774Z"
   },
   {
    "duration": 747,
    "start_time": "2022-02-24T06:28:52.781Z"
   },
   {
    "duration": 5,
    "start_time": "2022-02-24T06:28:53.530Z"
   },
   {
    "duration": 28,
    "start_time": "2022-02-24T06:28:53.538Z"
   },
   {
    "duration": 111,
    "start_time": "2022-02-24T06:28:53.569Z"
   },
   {
    "duration": 176,
    "start_time": "2022-02-24T06:28:53.684Z"
   },
   {
    "duration": 8,
    "start_time": "2022-02-24T06:28:53.863Z"
   },
   {
    "duration": 23,
    "start_time": "2022-02-24T06:28:53.874Z"
   },
   {
    "duration": 172,
    "start_time": "2022-02-24T06:28:53.899Z"
   },
   {
    "duration": 93,
    "start_time": "2022-02-24T06:28:54.074Z"
   },
   {
    "duration": 199,
    "start_time": "2022-02-24T06:28:54.170Z"
   },
   {
    "duration": 247,
    "start_time": "2022-02-24T06:28:54.372Z"
   },
   {
    "duration": 520,
    "start_time": "2022-02-24T06:28:54.624Z"
   },
   {
    "duration": 16,
    "start_time": "2022-02-24T06:28:55.147Z"
   },
   {
    "duration": 27,
    "start_time": "2022-02-24T07:00:33.922Z"
   },
   {
    "duration": 9,
    "start_time": "2022-02-24T07:00:38.107Z"
   },
   {
    "duration": 86,
    "start_time": "2022-02-24T07:00:39.277Z"
   },
   {
    "duration": 9,
    "start_time": "2022-02-24T07:00:40.392Z"
   },
   {
    "duration": 769,
    "start_time": "2022-02-24T07:01:09.385Z"
   },
   {
    "duration": 29,
    "start_time": "2022-02-24T07:01:10.160Z"
   },
   {
    "duration": 24,
    "start_time": "2022-02-24T07:01:10.193Z"
   },
   {
    "duration": 41,
    "start_time": "2022-02-24T07:01:10.220Z"
   },
   {
    "duration": 7,
    "start_time": "2022-02-24T07:01:10.264Z"
   },
   {
    "duration": 6,
    "start_time": "2022-02-24T07:01:10.273Z"
   },
   {
    "duration": 8,
    "start_time": "2022-02-24T07:01:10.281Z"
   },
   {
    "duration": 67,
    "start_time": "2022-02-24T07:01:10.295Z"
   },
   {
    "duration": 19,
    "start_time": "2022-02-24T07:01:10.366Z"
   },
   {
    "duration": 26032,
    "start_time": "2022-02-24T07:01:10.387Z"
   },
   {
    "duration": 6,
    "start_time": "2022-02-24T07:01:36.421Z"
   },
   {
    "duration": 676,
    "start_time": "2022-02-24T07:01:36.430Z"
   },
   {
    "duration": 5,
    "start_time": "2022-02-24T07:01:37.108Z"
   },
   {
    "duration": 52,
    "start_time": "2022-02-24T07:01:37.115Z"
   },
   {
    "duration": 10,
    "start_time": "2022-02-24T07:01:37.170Z"
   },
   {
    "duration": 99,
    "start_time": "2022-02-24T07:01:37.182Z"
   },
   {
    "duration": 84,
    "start_time": "2022-02-24T07:01:37.285Z"
   },
   {
    "duration": 98,
    "start_time": "2022-02-24T07:01:37.371Z"
   },
   {
    "duration": 25,
    "start_time": "2022-02-24T07:01:37.471Z"
   },
   {
    "duration": 170,
    "start_time": "2022-02-24T07:01:37.499Z"
   },
   {
    "duration": 100,
    "start_time": "2022-02-24T07:01:37.763Z"
   },
   {
    "duration": 99,
    "start_time": "2022-02-24T07:01:37.865Z"
   },
   {
    "duration": 220,
    "start_time": "2022-02-24T07:01:37.970Z"
   },
   {
    "duration": 536,
    "start_time": "2022-02-24T07:01:38.193Z"
   },
   {
    "duration": 9,
    "start_time": "2022-02-24T07:01:38.731Z"
   },
   {
    "duration": 93,
    "start_time": "2022-02-24T07:01:38.761Z"
   },
   {
    "duration": 6,
    "start_time": "2022-02-24T07:03:09.628Z"
   },
   {
    "duration": 8,
    "start_time": "2022-02-24T07:03:10.263Z"
   },
   {
    "duration": 5,
    "start_time": "2022-02-24T07:03:10.854Z"
   },
   {
    "duration": 10,
    "start_time": "2022-02-24T07:03:11.580Z"
   },
   {
    "duration": 71,
    "start_time": "2022-02-24T07:03:12.317Z"
   },
   {
    "duration": 8,
    "start_time": "2022-02-24T07:03:12.974Z"
   },
   {
    "duration": 30,
    "start_time": "2022-02-24T07:03:20.896Z"
   },
   {
    "duration": 7,
    "start_time": "2022-02-24T07:03:21.469Z"
   },
   {
    "duration": 25,
    "start_time": "2022-02-24T07:03:22.599Z"
   },
   {
    "duration": 122,
    "start_time": "2022-02-24T07:03:23.084Z"
   },
   {
    "duration": 9,
    "start_time": "2022-02-24T07:03:23.529Z"
   },
   {
    "duration": 69,
    "start_time": "2022-02-24T07:03:24.318Z"
   },
   {
    "duration": 100,
    "start_time": "2022-02-24T07:03:24.961Z"
   },
   {
    "duration": 497,
    "start_time": "2022-02-24T07:03:25.841Z"
   },
   {
    "duration": 8,
    "start_time": "2022-02-24T07:03:27.445Z"
   },
   {
    "duration": 109,
    "start_time": "2022-02-24T07:03:31.064Z"
   },
   {
    "duration": 912,
    "start_time": "2022-02-24T07:10:44.528Z"
   },
   {
    "duration": 34,
    "start_time": "2022-02-24T07:10:45.443Z"
   },
   {
    "duration": 25,
    "start_time": "2022-02-24T07:10:45.480Z"
   },
   {
    "duration": 6,
    "start_time": "2022-02-24T07:10:45.508Z"
   },
   {
    "duration": 44,
    "start_time": "2022-02-24T07:10:45.517Z"
   },
   {
    "duration": 5,
    "start_time": "2022-02-24T07:10:45.564Z"
   },
   {
    "duration": 13,
    "start_time": "2022-02-24T07:10:45.571Z"
   },
   {
    "duration": 15,
    "start_time": "2022-02-24T07:10:45.588Z"
   },
   {
    "duration": 61,
    "start_time": "2022-02-24T07:10:45.607Z"
   },
   {
    "duration": 25677,
    "start_time": "2022-02-24T07:10:45.670Z"
   },
   {
    "duration": 16,
    "start_time": "2022-02-24T07:11:11.349Z"
   },
   {
    "duration": 744,
    "start_time": "2022-02-24T07:11:11.367Z"
   },
   {
    "duration": 28,
    "start_time": "2022-02-24T07:11:12.114Z"
   },
   {
    "duration": 52,
    "start_time": "2022-02-24T07:11:12.145Z"
   },
   {
    "duration": 4,
    "start_time": "2022-02-24T07:11:12.201Z"
   },
   {
    "duration": 24,
    "start_time": "2022-02-24T07:11:12.208Z"
   },
   {
    "duration": 43,
    "start_time": "2022-02-24T07:11:12.261Z"
   },
   {
    "duration": 100,
    "start_time": "2022-02-24T07:11:12.361Z"
   },
   {
    "duration": 6,
    "start_time": "2022-02-24T07:11:12.464Z"
   },
   {
    "duration": 20,
    "start_time": "2022-02-24T07:11:12.473Z"
   },
   {
    "duration": 83,
    "start_time": "2022-02-24T07:11:12.496Z"
   },
   {
    "duration": 91,
    "start_time": "2022-02-24T07:11:12.582Z"
   },
   {
    "duration": 27,
    "start_time": "2022-02-24T07:11:12.767Z"
   },
   {
    "duration": 232,
    "start_time": "2022-02-24T07:11:12.798Z"
   },
   {
    "duration": 508,
    "start_time": "2022-02-24T07:11:13.032Z"
   },
   {
    "duration": 18,
    "start_time": "2022-02-24T07:11:13.543Z"
   },
   {
    "duration": 101,
    "start_time": "2022-02-24T07:11:13.563Z"
   },
   {
    "duration": 16,
    "start_time": "2022-02-24T07:23:57.102Z"
   },
   {
    "duration": 6,
    "start_time": "2022-02-24T07:24:03.234Z"
   },
   {
    "duration": 9,
    "start_time": "2022-02-24T07:24:03.721Z"
   },
   {
    "duration": 27,
    "start_time": "2022-02-24T07:24:04.344Z"
   },
   {
    "duration": 9,
    "start_time": "2022-02-24T07:24:04.848Z"
   },
   {
    "duration": 132,
    "start_time": "2022-02-24T07:26:37.637Z"
   },
   {
    "duration": 431,
    "start_time": "2022-02-24T07:26:47.422Z"
   },
   {
    "duration": 481,
    "start_time": "2022-02-24T07:26:58.611Z"
   },
   {
    "duration": 402,
    "start_time": "2022-02-24T07:28:12.621Z"
   },
   {
    "duration": 492,
    "start_time": "2022-02-24T07:29:07.087Z"
   },
   {
    "duration": 491,
    "start_time": "2022-02-24T07:29:19.077Z"
   },
   {
    "duration": 6,
    "start_time": "2022-02-24T07:30:54.383Z"
   },
   {
    "duration": 15,
    "start_time": "2022-02-24T07:32:25.004Z"
   },
   {
    "duration": 112,
    "start_time": "2022-02-24T07:32:25.472Z"
   },
   {
    "duration": 8,
    "start_time": "2022-02-24T07:32:43.983Z"
   },
   {
    "duration": 781,
    "start_time": "2022-02-24T07:32:50.573Z"
   },
   {
    "duration": 28,
    "start_time": "2022-02-24T07:32:51.361Z"
   },
   {
    "duration": 16,
    "start_time": "2022-02-24T07:32:51.391Z"
   },
   {
    "duration": 4,
    "start_time": "2022-02-24T07:32:51.410Z"
   },
   {
    "duration": 44,
    "start_time": "2022-02-24T07:32:51.417Z"
   },
   {
    "duration": 5,
    "start_time": "2022-02-24T07:32:51.464Z"
   },
   {
    "duration": 7,
    "start_time": "2022-02-24T07:32:51.471Z"
   },
   {
    "duration": 16,
    "start_time": "2022-02-24T07:32:51.481Z"
   },
   {
    "duration": 65,
    "start_time": "2022-02-24T07:32:51.500Z"
   },
   {
    "duration": 25715,
    "start_time": "2022-02-24T07:32:51.567Z"
   },
   {
    "duration": 6,
    "start_time": "2022-02-24T07:33:17.285Z"
   },
   {
    "duration": 702,
    "start_time": "2022-02-24T07:33:17.293Z"
   },
   {
    "duration": 27,
    "start_time": "2022-02-24T07:33:17.998Z"
   },
   {
    "duration": 54,
    "start_time": "2022-02-24T07:33:18.027Z"
   },
   {
    "duration": 5,
    "start_time": "2022-02-24T07:33:18.084Z"
   },
   {
    "duration": 15,
    "start_time": "2022-02-24T07:33:18.091Z"
   },
   {
    "duration": 89,
    "start_time": "2022-02-24T07:33:18.109Z"
   },
   {
    "duration": 99,
    "start_time": "2022-02-24T07:33:18.264Z"
   },
   {
    "duration": 7,
    "start_time": "2022-02-24T07:33:18.366Z"
   },
   {
    "duration": 21,
    "start_time": "2022-02-24T07:33:18.375Z"
   },
   {
    "duration": 79,
    "start_time": "2022-02-24T07:33:18.399Z"
   },
   {
    "duration": 89,
    "start_time": "2022-02-24T07:33:18.481Z"
   },
   {
    "duration": 25,
    "start_time": "2022-02-24T07:33:18.667Z"
   },
   {
    "duration": 234,
    "start_time": "2022-02-24T07:33:18.696Z"
   },
   {
    "duration": 504,
    "start_time": "2022-02-24T07:33:18.932Z"
   },
   {
    "duration": 23,
    "start_time": "2022-02-24T07:33:19.438Z"
   },
   {
    "duration": 524,
    "start_time": "2022-02-24T07:33:19.463Z"
   },
   {
    "duration": 9,
    "start_time": "2022-02-24T07:33:19.990Z"
   },
   {
    "duration": 18,
    "start_time": "2022-02-24T07:33:20.001Z"
   },
   {
    "duration": 140,
    "start_time": "2022-02-24T07:33:20.021Z"
   },
   {
    "duration": 9,
    "start_time": "2022-02-24T07:33:20.163Z"
   },
   {
    "duration": 17,
    "start_time": "2022-02-24T07:34:51.584Z"
   },
   {
    "duration": 106,
    "start_time": "2022-02-24T07:34:52.244Z"
   },
   {
    "duration": 8,
    "start_time": "2022-02-24T07:34:52.937Z"
   },
   {
    "duration": 111,
    "start_time": "2022-02-24T07:35:06.528Z"
   },
   {
    "duration": 9,
    "start_time": "2022-02-24T07:35:07.093Z"
   },
   {
    "duration": 518,
    "start_time": "2022-02-24T07:36:28.677Z"
   },
   {
    "duration": 544,
    "start_time": "2022-02-24T07:38:46.825Z"
   },
   {
    "duration": 108,
    "start_time": "2022-02-24T07:39:07.991Z"
   },
   {
    "duration": 10,
    "start_time": "2022-02-24T07:39:08.971Z"
   },
   {
    "duration": 501,
    "start_time": "2022-02-24T07:39:33.511Z"
   },
   {
    "duration": 289,
    "start_time": "2022-02-24T07:40:39.148Z"
   },
   {
    "duration": 44,
    "start_time": "2022-02-24T07:43:49.681Z"
   },
   {
    "duration": 80,
    "start_time": "2022-02-24T07:43:51.063Z"
   },
   {
    "duration": 455,
    "start_time": "2022-02-24T07:43:55.471Z"
   },
   {
    "duration": 613,
    "start_time": "2022-02-24T07:44:08.569Z"
   },
   {
    "duration": 109,
    "start_time": "2022-02-24T07:44:16.343Z"
   },
   {
    "duration": 13,
    "start_time": "2022-02-24T07:44:17.315Z"
   },
   {
    "duration": 441,
    "start_time": "2022-02-24T07:47:43.697Z"
   },
   {
    "duration": 917,
    "start_time": "2022-02-24T07:47:59.768Z"
   },
   {
    "duration": 349,
    "start_time": "2022-02-24T07:48:54.444Z"
   },
   {
    "duration": 281,
    "start_time": "2022-02-24T07:49:41.224Z"
   },
   {
    "duration": 1370,
    "start_time": "2022-02-24T07:50:17.856Z"
   },
   {
    "duration": 2898,
    "start_time": "2022-02-24T07:50:28.390Z"
   },
   {
    "duration": 30750,
    "start_time": "2022-02-24T07:50:36.851Z"
   },
   {
    "duration": 30992,
    "start_time": "2022-02-24T07:51:14.094Z"
   },
   {
    "duration": 10999,
    "start_time": "2022-02-24T07:52:05.168Z"
   },
   {
    "duration": 44931,
    "start_time": "2022-02-24T07:52:19.339Z"
   },
   {
    "duration": 1049,
    "start_time": "2022-02-24T07:56:45.590Z"
   },
   {
    "duration": 85,
    "start_time": "2022-02-24T07:56:48.090Z"
   },
   {
    "duration": 757,
    "start_time": "2022-02-24T07:56:54.231Z"
   },
   {
    "duration": 138,
    "start_time": "2022-02-24T07:57:18.669Z"
   },
   {
    "duration": 785,
    "start_time": "2022-02-24T07:57:22.565Z"
   },
   {
    "duration": 757,
    "start_time": "2022-02-24T07:58:06.859Z"
   },
   {
    "duration": 266,
    "start_time": "2022-02-24T07:58:46.033Z"
   },
   {
    "duration": 846,
    "start_time": "2022-02-24T07:58:53.830Z"
   },
   {
    "duration": 143,
    "start_time": "2022-02-24T07:59:17.565Z"
   },
   {
    "duration": 744,
    "start_time": "2022-02-24T07:59:21.004Z"
   },
   {
    "duration": 9,
    "start_time": "2022-02-24T08:00:03.273Z"
   },
   {
    "duration": 334,
    "start_time": "2022-02-24T08:03:16.463Z"
   },
   {
    "duration": 210,
    "start_time": "2022-02-24T08:03:25.876Z"
   },
   {
    "duration": 828,
    "start_time": "2022-02-24T08:05:34.523Z"
   },
   {
    "duration": 29,
    "start_time": "2022-02-24T08:05:35.353Z"
   },
   {
    "duration": 20,
    "start_time": "2022-02-24T08:05:35.386Z"
   },
   {
    "duration": 5,
    "start_time": "2022-02-24T08:05:35.409Z"
   },
   {
    "duration": 44,
    "start_time": "2022-02-24T08:05:35.417Z"
   },
   {
    "duration": 6,
    "start_time": "2022-02-24T08:05:35.464Z"
   },
   {
    "duration": 6,
    "start_time": "2022-02-24T08:05:35.473Z"
   },
   {
    "duration": 13,
    "start_time": "2022-02-24T08:05:35.483Z"
   },
   {
    "duration": 71,
    "start_time": "2022-02-24T08:05:35.500Z"
   },
   {
    "duration": 24827,
    "start_time": "2022-02-24T08:05:35.574Z"
   },
   {
    "duration": 9,
    "start_time": "2022-02-24T08:06:00.404Z"
   },
   {
    "duration": 794,
    "start_time": "2022-02-24T08:06:00.416Z"
   },
   {
    "duration": 27,
    "start_time": "2022-02-24T08:06:01.212Z"
   },
   {
    "duration": 48,
    "start_time": "2022-02-24T08:06:01.242Z"
   },
   {
    "duration": 4,
    "start_time": "2022-02-24T08:06:01.293Z"
   },
   {
    "duration": 15,
    "start_time": "2022-02-24T08:06:01.300Z"
   },
   {
    "duration": 145,
    "start_time": "2022-02-24T08:06:01.318Z"
   },
   {
    "duration": 101,
    "start_time": "2022-02-24T08:06:01.466Z"
   },
   {
    "duration": 7,
    "start_time": "2022-02-24T08:06:01.570Z"
   },
   {
    "duration": 48,
    "start_time": "2022-02-24T08:06:01.580Z"
   },
   {
    "duration": 130,
    "start_time": "2022-02-24T08:06:01.631Z"
   },
   {
    "duration": 99,
    "start_time": "2022-02-24T08:06:01.765Z"
   },
   {
    "duration": 94,
    "start_time": "2022-02-24T08:06:01.868Z"
   },
   {
    "duration": 167,
    "start_time": "2022-02-24T08:06:01.966Z"
   },
   {
    "duration": 503,
    "start_time": "2022-02-24T08:06:02.136Z"
   },
   {
    "duration": 7,
    "start_time": "2022-02-24T08:06:02.642Z"
   },
   {
    "duration": 668,
    "start_time": "2022-02-24T08:06:02.662Z"
   },
   {
    "duration": 45037,
    "start_time": "2022-02-24T08:06:03.333Z"
   },
   {
    "duration": 1033,
    "start_time": "2022-02-24T08:06:48.373Z"
   },
   {
    "duration": 137,
    "start_time": "2022-02-24T08:06:49.409Z"
   },
   {
    "duration": 819,
    "start_time": "2022-02-24T08:06:49.560Z"
   },
   {
    "duration": 10,
    "start_time": "2022-02-24T08:06:50.382Z"
   },
   {
    "duration": 249,
    "start_time": "2022-02-24T08:06:50.395Z"
   },
   {
    "duration": 283,
    "start_time": "2022-02-24T08:25:52.604Z"
   },
   {
    "duration": 219,
    "start_time": "2022-02-24T08:26:29.345Z"
   },
   {
    "duration": 206,
    "start_time": "2022-02-24T08:26:53.622Z"
   },
   {
    "duration": 210,
    "start_time": "2022-02-24T08:27:44.171Z"
   },
   {
    "duration": 1072,
    "start_time": "2022-02-24T08:27:55.623Z"
   },
   {
    "duration": 27,
    "start_time": "2022-02-24T08:27:56.698Z"
   },
   {
    "duration": 37,
    "start_time": "2022-02-24T08:27:56.728Z"
   },
   {
    "duration": 5,
    "start_time": "2022-02-24T08:27:56.767Z"
   },
   {
    "duration": 10,
    "start_time": "2022-02-24T08:27:56.774Z"
   },
   {
    "duration": 6,
    "start_time": "2022-02-24T08:27:56.786Z"
   },
   {
    "duration": 6,
    "start_time": "2022-02-24T08:27:56.794Z"
   },
   {
    "duration": 62,
    "start_time": "2022-02-24T08:27:56.802Z"
   },
   {
    "duration": 20,
    "start_time": "2022-02-24T08:27:56.870Z"
   },
   {
    "duration": 30220,
    "start_time": "2022-02-24T08:27:56.894Z"
   },
   {
    "duration": 7,
    "start_time": "2022-02-24T08:28:27.117Z"
   },
   {
    "duration": 680,
    "start_time": "2022-02-24T08:28:27.126Z"
   },
   {
    "duration": 29,
    "start_time": "2022-02-24T08:28:27.808Z"
   },
   {
    "duration": 52,
    "start_time": "2022-02-24T08:28:27.839Z"
   },
   {
    "duration": 5,
    "start_time": "2022-02-24T08:28:27.893Z"
   },
   {
    "duration": 11,
    "start_time": "2022-02-24T08:28:27.900Z"
   },
   {
    "duration": 150,
    "start_time": "2022-02-24T08:28:27.914Z"
   },
   {
    "duration": 100,
    "start_time": "2022-02-24T08:28:28.067Z"
   },
   {
    "duration": 6,
    "start_time": "2022-02-24T08:28:28.170Z"
   },
   {
    "duration": 22,
    "start_time": "2022-02-24T08:28:28.179Z"
   },
   {
    "duration": 82,
    "start_time": "2022-02-24T08:28:28.204Z"
   },
   {
    "duration": 103,
    "start_time": "2022-02-24T08:28:28.361Z"
   },
   {
    "duration": 94,
    "start_time": "2022-02-24T08:28:28.467Z"
   },
   {
    "duration": 170,
    "start_time": "2022-02-24T08:28:28.564Z"
   },
   {
    "duration": 486,
    "start_time": "2022-02-24T08:28:28.738Z"
   },
   {
    "duration": 16,
    "start_time": "2022-02-24T08:28:29.227Z"
   },
   {
    "duration": 723,
    "start_time": "2022-02-24T08:28:29.262Z"
   },
   {
    "duration": 44861,
    "start_time": "2022-02-24T08:28:29.988Z"
   },
   {
    "duration": 1101,
    "start_time": "2022-02-24T08:29:14.852Z"
   },
   {
    "duration": 150,
    "start_time": "2022-02-24T08:29:15.955Z"
   },
   {
    "duration": 729,
    "start_time": "2022-02-24T08:29:16.108Z"
   },
   {
    "duration": 22,
    "start_time": "2022-02-24T08:29:16.839Z"
   },
   {
    "duration": 229,
    "start_time": "2022-02-24T08:29:16.863Z"
   },
   {
    "duration": 188,
    "start_time": "2022-02-24T08:30:51.540Z"
   },
   {
    "duration": 216,
    "start_time": "2022-02-24T08:30:58.825Z"
   },
   {
    "duration": 6,
    "start_time": "2022-02-24T08:33:24.926Z"
   },
   {
    "duration": 215,
    "start_time": "2022-02-24T08:34:00.806Z"
   },
   {
    "duration": 431,
    "start_time": "2022-02-24T08:34:40.420Z"
   },
   {
    "duration": 218,
    "start_time": "2022-02-24T08:34:51.019Z"
   },
   {
    "duration": 834,
    "start_time": "2022-02-24T08:41:32.900Z"
   },
   {
    "duration": 36,
    "start_time": "2022-02-24T08:41:33.737Z"
   },
   {
    "duration": 25,
    "start_time": "2022-02-24T08:41:33.777Z"
   },
   {
    "duration": 7,
    "start_time": "2022-02-24T08:41:33.806Z"
   },
   {
    "duration": 9,
    "start_time": "2022-02-24T08:41:33.815Z"
   },
   {
    "duration": 7,
    "start_time": "2022-02-24T08:41:33.863Z"
   },
   {
    "duration": 9,
    "start_time": "2022-02-24T08:41:33.873Z"
   },
   {
    "duration": 17,
    "start_time": "2022-02-24T08:41:33.888Z"
   },
   {
    "duration": 20,
    "start_time": "2022-02-24T08:41:33.961Z"
   },
   {
    "duration": 28489,
    "start_time": "2022-02-24T08:41:33.984Z"
   },
   {
    "duration": 7,
    "start_time": "2022-02-24T08:42:02.476Z"
   },
   {
    "duration": 728,
    "start_time": "2022-02-24T08:42:02.485Z"
   },
   {
    "duration": 26,
    "start_time": "2022-02-24T08:42:03.215Z"
   },
   {
    "duration": 47,
    "start_time": "2022-02-24T08:42:03.244Z"
   },
   {
    "duration": 5,
    "start_time": "2022-02-24T08:42:03.294Z"
   },
   {
    "duration": 14,
    "start_time": "2022-02-24T08:42:03.301Z"
   },
   {
    "duration": 146,
    "start_time": "2022-02-24T08:42:03.317Z"
   },
   {
    "duration": 100,
    "start_time": "2022-02-24T08:42:03.466Z"
   },
   {
    "duration": 6,
    "start_time": "2022-02-24T08:42:03.568Z"
   },
   {
    "duration": 19,
    "start_time": "2022-02-24T08:42:03.577Z"
   },
   {
    "duration": 97,
    "start_time": "2022-02-24T08:42:03.599Z"
   },
   {
    "duration": 100,
    "start_time": "2022-02-24T08:42:03.763Z"
   },
   {
    "duration": 93,
    "start_time": "2022-02-24T08:42:03.868Z"
   },
   {
    "duration": 165,
    "start_time": "2022-02-24T08:42:03.966Z"
   },
   {
    "duration": 482,
    "start_time": "2022-02-24T08:42:04.133Z"
   },
   {
    "duration": 8,
    "start_time": "2022-02-24T08:42:04.617Z"
   },
   {
    "duration": 619,
    "start_time": "2022-02-24T08:42:04.628Z"
   },
   {
    "duration": 48517,
    "start_time": "2022-02-24T08:42:05.250Z"
   },
   {
    "duration": 1125,
    "start_time": "2022-02-24T08:42:53.769Z"
   },
   {
    "duration": 166,
    "start_time": "2022-02-24T08:42:54.896Z"
   },
   {
    "duration": 786,
    "start_time": "2022-02-24T08:42:55.065Z"
   },
   {
    "duration": 9,
    "start_time": "2022-02-24T08:42:55.861Z"
   },
   {
    "duration": 569,
    "start_time": "2022-02-24T08:42:55.872Z"
   },
   {
    "duration": 240,
    "start_time": "2022-02-24T08:42:56.444Z"
   },
   {
    "duration": 14,
    "start_time": "2022-02-24T08:43:40.011Z"
   },
   {
    "duration": 505,
    "start_time": "2022-02-24T08:43:41.892Z"
   },
   {
    "duration": 34,
    "start_time": "2022-02-24T08:43:43.017Z"
   },
   {
    "duration": 507,
    "start_time": "2022-02-24T08:43:46.467Z"
   },
   {
    "duration": 34,
    "start_time": "2022-02-24T08:43:47.029Z"
   },
   {
    "duration": 9,
    "start_time": "2022-02-24T08:46:54.587Z"
   },
   {
    "duration": 766,
    "start_time": "2022-02-24T08:47:06.488Z"
   },
   {
    "duration": 30,
    "start_time": "2022-02-24T08:47:07.257Z"
   },
   {
    "duration": 19,
    "start_time": "2022-02-24T08:47:07.290Z"
   },
   {
    "duration": 8,
    "start_time": "2022-02-24T08:47:07.312Z"
   },
   {
    "duration": 43,
    "start_time": "2022-02-24T08:47:07.323Z"
   },
   {
    "duration": 6,
    "start_time": "2022-02-24T08:47:07.369Z"
   },
   {
    "duration": 7,
    "start_time": "2022-02-24T08:47:07.378Z"
   },
   {
    "duration": 69,
    "start_time": "2022-02-24T08:47:07.392Z"
   },
   {
    "duration": 24,
    "start_time": "2022-02-24T08:47:07.466Z"
   },
   {
    "duration": 30624,
    "start_time": "2022-02-24T08:47:07.493Z"
   },
   {
    "duration": 7,
    "start_time": "2022-02-24T08:47:38.119Z"
   },
   {
    "duration": 763,
    "start_time": "2022-02-24T08:47:38.128Z"
   },
   {
    "duration": 26,
    "start_time": "2022-02-24T08:47:38.893Z"
   },
   {
    "duration": 55,
    "start_time": "2022-02-24T08:47:38.921Z"
   },
   {
    "duration": 5,
    "start_time": "2022-02-24T08:47:38.979Z"
   },
   {
    "duration": 12,
    "start_time": "2022-02-24T08:47:38.986Z"
   },
   {
    "duration": 84,
    "start_time": "2022-02-24T08:47:39.000Z"
   },
   {
    "duration": 101,
    "start_time": "2022-02-24T08:47:39.163Z"
   },
   {
    "duration": 6,
    "start_time": "2022-02-24T08:47:39.267Z"
   },
   {
    "duration": 15,
    "start_time": "2022-02-24T08:47:39.275Z"
   },
   {
    "duration": 84,
    "start_time": "2022-02-24T08:47:39.292Z"
   },
   {
    "duration": 84,
    "start_time": "2022-02-24T08:47:39.380Z"
   },
   {
    "duration": 133,
    "start_time": "2022-02-24T08:47:39.470Z"
   },
   {
    "duration": 171,
    "start_time": "2022-02-24T08:47:39.662Z"
   },
   {
    "duration": 489,
    "start_time": "2022-02-24T08:47:39.836Z"
   },
   {
    "duration": 9,
    "start_time": "2022-02-24T08:47:40.328Z"
   },
   {
    "duration": 741,
    "start_time": "2022-02-24T08:47:40.339Z"
   },
   {
    "duration": 34832,
    "start_time": "2022-02-24T08:47:41.083Z"
   },
   {
    "duration": -57,
    "start_time": "2022-02-24T08:48:15.975Z"
   },
   {
    "duration": -61,
    "start_time": "2022-02-24T08:48:15.980Z"
   },
   {
    "duration": -71,
    "start_time": "2022-02-24T08:48:15.992Z"
   },
   {
    "duration": -72,
    "start_time": "2022-02-24T08:48:15.994Z"
   },
   {
    "duration": -72,
    "start_time": "2022-02-24T08:48:15.996Z"
   },
   {
    "duration": -78,
    "start_time": "2022-02-24T08:48:16.004Z"
   },
   {
    "duration": -78,
    "start_time": "2022-02-24T08:48:16.006Z"
   },
   {
    "duration": -84,
    "start_time": "2022-02-24T08:48:16.013Z"
   },
   {
    "duration": 396,
    "start_time": "2022-02-24T08:48:48.626Z"
   },
   {
    "duration": 780,
    "start_time": "2022-02-24T08:49:00.296Z"
   },
   {
    "duration": 29,
    "start_time": "2022-02-24T08:49:01.079Z"
   },
   {
    "duration": 22,
    "start_time": "2022-02-24T08:49:01.111Z"
   },
   {
    "duration": 6,
    "start_time": "2022-02-24T08:49:01.160Z"
   },
   {
    "duration": 14,
    "start_time": "2022-02-24T08:49:01.168Z"
   },
   {
    "duration": 15,
    "start_time": "2022-02-24T08:49:01.184Z"
   },
   {
    "duration": 21,
    "start_time": "2022-02-24T08:49:01.201Z"
   },
   {
    "duration": 35,
    "start_time": "2022-02-24T08:49:01.226Z"
   },
   {
    "duration": 15,
    "start_time": "2022-02-24T08:49:01.265Z"
   },
   {
    "duration": 24963,
    "start_time": "2022-02-24T08:49:01.283Z"
   },
   {
    "duration": 7,
    "start_time": "2022-02-24T08:49:26.261Z"
   },
   {
    "duration": 730,
    "start_time": "2022-02-24T08:49:26.270Z"
   },
   {
    "duration": 28,
    "start_time": "2022-02-24T08:49:27.003Z"
   },
   {
    "duration": 52,
    "start_time": "2022-02-24T08:49:27.033Z"
   },
   {
    "duration": 7,
    "start_time": "2022-02-24T08:49:27.088Z"
   },
   {
    "duration": 9,
    "start_time": "2022-02-24T08:49:27.098Z"
   },
   {
    "duration": 152,
    "start_time": "2022-02-24T08:49:27.109Z"
   },
   {
    "duration": 100,
    "start_time": "2022-02-24T08:49:27.264Z"
   },
   {
    "duration": 7,
    "start_time": "2022-02-24T08:49:27.367Z"
   },
   {
    "duration": 21,
    "start_time": "2022-02-24T08:49:27.376Z"
   },
   {
    "duration": 89,
    "start_time": "2022-02-24T08:49:27.399Z"
   },
   {
    "duration": 78,
    "start_time": "2022-02-24T08:49:27.492Z"
   },
   {
    "duration": 44,
    "start_time": "2022-02-24T08:49:27.665Z"
   },
   {
    "duration": 218,
    "start_time": "2022-02-24T08:49:27.713Z"
   },
   {
    "duration": 504,
    "start_time": "2022-02-24T08:49:27.934Z"
   },
   {
    "duration": 23,
    "start_time": "2022-02-24T08:49:28.442Z"
   },
   {
    "duration": 664,
    "start_time": "2022-02-24T08:49:28.469Z"
   },
   {
    "duration": 45310,
    "start_time": "2022-02-24T08:49:29.136Z"
   },
   {
    "duration": 1204,
    "start_time": "2022-02-24T08:50:14.449Z"
   },
   {
    "duration": 140,
    "start_time": "2022-02-24T08:50:15.655Z"
   },
   {
    "duration": 746,
    "start_time": "2022-02-24T08:50:15.798Z"
   },
   {
    "duration": 17,
    "start_time": "2022-02-24T08:50:16.546Z"
   },
   {
    "duration": 531,
    "start_time": "2022-02-24T08:50:16.566Z"
   },
   {
    "duration": 62,
    "start_time": "2022-02-24T08:50:17.100Z"
   },
   {
    "duration": 446,
    "start_time": "2022-02-24T08:50:17.166Z"
   },
   {
    "duration": 5,
    "start_time": "2022-02-24T08:50:17.609Z"
   },
   {
    "duration": -2,
    "start_time": "2022-02-24T08:50:17.618Z"
   },
   {
    "duration": 764,
    "start_time": "2022-02-24T09:38:39.598Z"
   },
   {
    "duration": 30,
    "start_time": "2022-02-24T09:38:40.365Z"
   },
   {
    "duration": 16,
    "start_time": "2022-02-24T09:38:40.398Z"
   },
   {
    "duration": 5,
    "start_time": "2022-02-24T09:38:40.417Z"
   },
   {
    "duration": 41,
    "start_time": "2022-02-24T09:38:40.425Z"
   },
   {
    "duration": 10,
    "start_time": "2022-02-24T09:38:40.468Z"
   },
   {
    "duration": 6,
    "start_time": "2022-02-24T09:38:40.480Z"
   },
   {
    "duration": 14,
    "start_time": "2022-02-24T09:38:40.490Z"
   },
   {
    "duration": 68,
    "start_time": "2022-02-24T09:38:40.508Z"
   },
   {
    "duration": 26805,
    "start_time": "2022-02-24T09:38:40.579Z"
   },
   {
    "duration": 6,
    "start_time": "2022-02-24T09:39:07.387Z"
   },
   {
    "duration": 707,
    "start_time": "2022-02-24T09:39:07.395Z"
   },
   {
    "duration": 28,
    "start_time": "2022-02-24T09:39:08.104Z"
   },
   {
    "duration": 51,
    "start_time": "2022-02-24T09:39:08.134Z"
   },
   {
    "duration": 4,
    "start_time": "2022-02-24T09:39:08.188Z"
   },
   {
    "duration": 14,
    "start_time": "2022-02-24T09:39:08.195Z"
   },
   {
    "duration": 150,
    "start_time": "2022-02-24T09:39:08.211Z"
   },
   {
    "duration": 99,
    "start_time": "2022-02-24T09:39:08.365Z"
   },
   {
    "duration": 7,
    "start_time": "2022-02-24T09:39:08.467Z"
   },
   {
    "duration": 25,
    "start_time": "2022-02-24T09:39:08.476Z"
   },
   {
    "duration": 76,
    "start_time": "2022-02-24T09:39:08.504Z"
   },
   {
    "duration": 85,
    "start_time": "2022-02-24T09:39:08.583Z"
   },
   {
    "duration": 133,
    "start_time": "2022-02-24T09:39:08.675Z"
   },
   {
    "duration": 173,
    "start_time": "2022-02-24T09:39:08.862Z"
   },
   {
    "duration": 489,
    "start_time": "2022-02-24T09:39:09.038Z"
   },
   {
    "duration": 9,
    "start_time": "2022-02-24T09:39:09.530Z"
   },
   {
    "duration": 668,
    "start_time": "2022-02-24T09:39:09.541Z"
   },
   {
    "duration": 47099,
    "start_time": "2022-02-24T09:39:10.211Z"
   },
   {
    "duration": 1083,
    "start_time": "2022-02-24T09:39:57.313Z"
   },
   {
    "duration": 145,
    "start_time": "2022-02-24T09:39:58.398Z"
   },
   {
    "duration": 921,
    "start_time": "2022-02-24T09:39:58.546Z"
   },
   {
    "duration": 9,
    "start_time": "2022-02-24T09:39:59.469Z"
   },
   {
    "duration": 617,
    "start_time": "2022-02-24T09:39:59.480Z"
   },
   {
    "duration": 33,
    "start_time": "2022-02-24T09:40:00.100Z"
   },
   {
    "duration": 436,
    "start_time": "2022-02-24T09:40:00.160Z"
   },
   {
    "duration": -7,
    "start_time": "2022-02-24T09:40:00.606Z"
   },
   {
    "duration": -9,
    "start_time": "2022-02-24T09:40:00.609Z"
   },
   {
    "duration": 547,
    "start_time": "2022-02-24T09:41:15.733Z"
   },
   {
    "duration": 33,
    "start_time": "2022-02-24T09:41:16.378Z"
   },
   {
    "duration": 6,
    "start_time": "2022-02-24T09:41:17.305Z"
   },
   {
    "duration": 360,
    "start_time": "2022-02-24T09:41:17.988Z"
   },
   {
    "duration": 1115,
    "start_time": "2022-02-24T09:41:38.219Z"
   },
   {
    "duration": -30,
    "start_time": "2022-02-24T09:41:39.367Z"
   },
   {
    "duration": 581,
    "start_time": "2022-02-24T09:41:54.107Z"
   },
   {
    "duration": 35,
    "start_time": "2022-02-24T09:41:55.096Z"
   },
   {
    "duration": 6,
    "start_time": "2022-02-24T09:41:55.848Z"
   },
   {
    "duration": 7,
    "start_time": "2022-02-24T09:41:56.474Z"
   },
   {
    "duration": 216,
    "start_time": "2022-02-24T09:42:05.455Z"
   },
   {
    "duration": 205,
    "start_time": "2022-02-24T09:52:23.928Z"
   },
   {
    "duration": 307,
    "start_time": "2022-02-24T10:36:00.704Z"
   },
   {
    "duration": 1046,
    "start_time": "2022-02-24T10:36:04.834Z"
   },
   {
    "duration": 9,
    "start_time": "2022-02-24T10:36:07.840Z"
   },
   {
    "duration": 816,
    "start_time": "2022-02-24T10:36:45.244Z"
   },
   {
    "duration": 30,
    "start_time": "2022-02-24T10:36:46.063Z"
   },
   {
    "duration": 64,
    "start_time": "2022-02-24T10:36:46.099Z"
   },
   {
    "duration": 7,
    "start_time": "2022-02-24T10:36:46.165Z"
   },
   {
    "duration": 11,
    "start_time": "2022-02-24T10:36:46.174Z"
   },
   {
    "duration": 7,
    "start_time": "2022-02-24T10:36:46.187Z"
   },
   {
    "duration": 6,
    "start_time": "2022-02-24T10:36:46.198Z"
   },
   {
    "duration": 64,
    "start_time": "2022-02-24T10:36:46.207Z"
   },
   {
    "duration": 15,
    "start_time": "2022-02-24T10:36:46.274Z"
   },
   {
    "duration": 26581,
    "start_time": "2022-02-24T10:36:46.291Z"
   },
   {
    "duration": 6,
    "start_time": "2022-02-24T10:37:12.875Z"
   },
   {
    "duration": 753,
    "start_time": "2022-02-24T10:37:12.884Z"
   },
   {
    "duration": 39,
    "start_time": "2022-02-24T10:37:13.640Z"
   },
   {
    "duration": 36,
    "start_time": "2022-02-24T10:37:13.682Z"
   },
   {
    "duration": 5,
    "start_time": "2022-02-24T10:37:13.721Z"
   },
   {
    "duration": 38,
    "start_time": "2022-02-24T10:37:13.728Z"
   },
   {
    "duration": 193,
    "start_time": "2022-02-24T10:37:13.768Z"
   },
   {
    "duration": 8,
    "start_time": "2022-02-24T10:37:13.964Z"
   },
   {
    "duration": 6,
    "start_time": "2022-02-24T10:37:13.975Z"
   },
   {
    "duration": 20,
    "start_time": "2022-02-24T10:37:13.984Z"
   },
   {
    "duration": 154,
    "start_time": "2022-02-24T10:37:14.006Z"
   },
   {
    "duration": 96,
    "start_time": "2022-02-24T10:37:14.168Z"
   },
   {
    "duration": 102,
    "start_time": "2022-02-24T10:37:14.268Z"
   },
   {
    "duration": 525,
    "start_time": "2022-02-24T10:37:14.374Z"
   },
   {
    "duration": 5,
    "start_time": "2022-02-24T10:37:14.896Z"
   },
   {
    "duration": 5,
    "start_time": "2022-02-24T10:37:14.898Z"
   },
   {
    "duration": 3,
    "start_time": "2022-02-24T10:37:14.902Z"
   },
   {
    "duration": 0,
    "start_time": "2022-02-24T10:37:14.906Z"
   },
   {
    "duration": -6,
    "start_time": "2022-02-24T10:37:14.914Z"
   },
   {
    "duration": -9,
    "start_time": "2022-02-24T10:37:14.919Z"
   },
   {
    "duration": -13,
    "start_time": "2022-02-24T10:37:14.924Z"
   },
   {
    "duration": -15,
    "start_time": "2022-02-24T10:37:14.928Z"
   },
   {
    "duration": -17,
    "start_time": "2022-02-24T10:37:14.932Z"
   },
   {
    "duration": 58,
    "start_time": "2022-02-24T10:43:36.904Z"
   },
   {
    "duration": 9,
    "start_time": "2022-02-24T10:43:41.767Z"
   },
   {
    "duration": 722,
    "start_time": "2022-02-24T10:43:46.917Z"
   },
   {
    "duration": 50545,
    "start_time": "2022-02-24T10:43:48.921Z"
   },
   {
    "duration": 1297,
    "start_time": "2022-02-24T10:44:42.017Z"
   },
   {
    "duration": 9,
    "start_time": "2022-02-24T10:44:43.318Z"
   },
   {
    "duration": 599,
    "start_time": "2022-02-24T10:44:46.673Z"
   },
   {
    "duration": 35,
    "start_time": "2022-02-24T10:44:47.680Z"
   },
   {
    "duration": 7,
    "start_time": "2022-02-24T10:44:48.521Z"
   },
   {
    "duration": 9,
    "start_time": "2022-02-24T10:44:49.210Z"
   },
   {
    "duration": 215,
    "start_time": "2022-02-24T10:44:53.274Z"
   },
   {
    "duration": 220,
    "start_time": "2022-02-25T17:30:02.999Z"
   },
   {
    "duration": 596,
    "start_time": "2022-02-25T17:30:12.937Z"
   },
   {
    "duration": 16,
    "start_time": "2022-02-25T17:30:13.535Z"
   },
   {
    "duration": 11,
    "start_time": "2022-02-25T17:30:13.553Z"
   },
   {
    "duration": 3,
    "start_time": "2022-02-25T17:30:13.566Z"
   },
   {
    "duration": 6,
    "start_time": "2022-02-25T17:30:13.571Z"
   },
   {
    "duration": 4,
    "start_time": "2022-02-25T17:30:13.578Z"
   },
   {
    "duration": 6,
    "start_time": "2022-02-25T17:30:13.584Z"
   },
   {
    "duration": 10,
    "start_time": "2022-02-25T17:30:13.592Z"
   },
   {
    "duration": 10,
    "start_time": "2022-02-25T17:30:13.632Z"
   },
   {
    "duration": 15479,
    "start_time": "2022-02-25T17:30:13.643Z"
   },
   {
    "duration": 12,
    "start_time": "2022-02-25T17:30:29.124Z"
   },
   {
    "duration": 561,
    "start_time": "2022-02-25T17:30:29.138Z"
   },
   {
    "duration": 19,
    "start_time": "2022-02-25T17:30:29.701Z"
   },
   {
    "duration": 38,
    "start_time": "2022-02-25T17:30:29.722Z"
   },
   {
    "duration": 3,
    "start_time": "2022-02-25T17:30:29.762Z"
   },
   {
    "duration": 15,
    "start_time": "2022-02-25T17:30:29.767Z"
   },
   {
    "duration": 52,
    "start_time": "2022-02-25T17:30:29.783Z"
   },
   {
    "duration": 97,
    "start_time": "2022-02-25T17:30:29.837Z"
   },
   {
    "duration": 7,
    "start_time": "2022-02-25T17:30:29.937Z"
   },
   {
    "duration": 15,
    "start_time": "2022-02-25T17:30:29.946Z"
   },
   {
    "duration": 82,
    "start_time": "2022-02-25T17:30:29.962Z"
   },
   {
    "duration": 91,
    "start_time": "2022-02-25T17:30:30.048Z"
   },
   {
    "duration": 31,
    "start_time": "2022-02-25T17:30:30.232Z"
   },
   {
    "duration": 69,
    "start_time": "2022-02-25T17:30:30.266Z"
   },
   {
    "duration": 474,
    "start_time": "2022-02-25T17:30:30.337Z"
   },
   {
    "duration": 25566,
    "start_time": "2022-02-25T17:30:30.813Z"
   },
   {
    "duration": 612,
    "start_time": "2022-02-25T17:30:56.381Z"
   },
   {
    "duration": 6,
    "start_time": "2022-02-25T17:30:56.994Z"
   },
   {
    "duration": 386,
    "start_time": "2022-02-25T17:30:57.001Z"
   },
   {
    "duration": 23,
    "start_time": "2022-02-25T17:30:57.388Z"
   },
   {
    "duration": 4,
    "start_time": "2022-02-25T17:30:57.412Z"
   },
   {
    "duration": 4,
    "start_time": "2022-02-25T17:30:57.433Z"
   },
   {
    "duration": 144,
    "start_time": "2022-02-25T17:30:57.438Z"
   },
   {
    "duration": 10,
    "start_time": "2022-02-25T17:32:22.285Z"
   },
   {
    "duration": 11,
    "start_time": "2022-02-25T17:32:30.723Z"
   },
   {
    "duration": 11,
    "start_time": "2022-02-25T17:32:35.389Z"
   },
   {
    "duration": 13,
    "start_time": "2022-02-25T17:32:40.380Z"
   },
   {
    "duration": 145,
    "start_time": "2022-02-25T17:32:51.088Z"
   },
   {
    "duration": 6,
    "start_time": "2022-02-25T17:32:51.948Z"
   },
   {
    "duration": 108,
    "start_time": "2022-02-25T17:32:55.085Z"
   },
   {
    "duration": 7,
    "start_time": "2022-02-25T17:32:56.053Z"
   },
   {
    "duration": 537,
    "start_time": "2022-02-25T17:33:04.892Z"
   },
   {
    "duration": 17,
    "start_time": "2022-02-25T17:33:05.431Z"
   },
   {
    "duration": 13,
    "start_time": "2022-02-25T17:33:05.450Z"
   },
   {
    "duration": 4,
    "start_time": "2022-02-25T17:33:05.464Z"
   },
   {
    "duration": 7,
    "start_time": "2022-02-25T17:33:05.470Z"
   },
   {
    "duration": 4,
    "start_time": "2022-02-25T17:33:05.478Z"
   },
   {
    "duration": 8,
    "start_time": "2022-02-25T17:33:05.483Z"
   },
   {
    "duration": 11,
    "start_time": "2022-02-25T17:33:05.494Z"
   },
   {
    "duration": 34,
    "start_time": "2022-02-25T17:33:05.507Z"
   },
   {
    "duration": 15879,
    "start_time": "2022-02-25T17:33:05.543Z"
   },
   {
    "duration": 11,
    "start_time": "2022-02-25T17:33:21.424Z"
   },
   {
    "duration": 559,
    "start_time": "2022-02-25T17:33:21.437Z"
   },
   {
    "duration": 21,
    "start_time": "2022-02-25T17:33:21.997Z"
   },
   {
    "duration": 33,
    "start_time": "2022-02-25T17:33:22.020Z"
   },
   {
    "duration": 4,
    "start_time": "2022-02-25T17:33:22.055Z"
   },
   {
    "duration": 7,
    "start_time": "2022-02-25T17:33:22.061Z"
   },
   {
    "duration": 66,
    "start_time": "2022-02-25T17:33:22.070Z"
   },
   {
    "duration": 95,
    "start_time": "2022-02-25T17:33:22.139Z"
   },
   {
    "duration": 5,
    "start_time": "2022-02-25T17:33:22.235Z"
   },
   {
    "duration": 13,
    "start_time": "2022-02-25T17:33:22.241Z"
   },
   {
    "duration": 77,
    "start_time": "2022-02-25T17:33:22.256Z"
   },
   {
    "duration": 7,
    "start_time": "2022-02-25T17:33:22.336Z"
   },
   {
    "duration": 20,
    "start_time": "2022-02-25T17:33:22.435Z"
   },
   {
    "duration": 81,
    "start_time": "2022-02-25T17:33:22.458Z"
   },
   {
    "duration": 377,
    "start_time": "2022-02-25T17:33:22.542Z"
   },
   {
    "duration": 17908,
    "start_time": "2022-02-25T17:33:22.921Z"
   },
   {
    "duration": 412,
    "start_time": "2022-02-25T17:33:40.832Z"
   },
   {
    "duration": 6,
    "start_time": "2022-02-25T17:33:41.246Z"
   },
   {
    "duration": 382,
    "start_time": "2022-02-25T17:33:41.254Z"
   },
   {
    "duration": 21,
    "start_time": "2022-02-25T17:33:41.638Z"
   },
   {
    "duration": 4,
    "start_time": "2022-02-25T17:33:41.661Z"
   },
   {
    "duration": 6,
    "start_time": "2022-02-25T17:33:41.667Z"
   },
   {
    "duration": 153,
    "start_time": "2022-02-25T17:33:41.674Z"
   },
   {
    "duration": 39,
    "start_time": "2022-02-25T17:34:34.994Z"
   },
   {
    "duration": 5,
    "start_time": "2022-02-25T17:46:13.366Z"
   },
   {
    "duration": 620,
    "start_time": "2022-02-25T17:46:18.657Z"
   },
   {
    "duration": 18,
    "start_time": "2022-02-25T17:46:19.279Z"
   },
   {
    "duration": 14,
    "start_time": "2022-02-25T17:46:19.302Z"
   },
   {
    "duration": 16,
    "start_time": "2022-02-25T17:46:19.317Z"
   },
   {
    "duration": 6,
    "start_time": "2022-02-25T17:46:19.335Z"
   },
   {
    "duration": 6,
    "start_time": "2022-02-25T17:46:19.343Z"
   },
   {
    "duration": 5,
    "start_time": "2022-02-25T17:46:19.352Z"
   },
   {
    "duration": 12,
    "start_time": "2022-02-25T17:46:19.359Z"
   },
   {
    "duration": 9,
    "start_time": "2022-02-25T17:46:19.373Z"
   },
   {
    "duration": 17706,
    "start_time": "2022-02-25T17:46:19.383Z"
   },
   {
    "duration": 5,
    "start_time": "2022-02-25T17:46:37.091Z"
   },
   {
    "duration": 580,
    "start_time": "2022-02-25T17:46:37.098Z"
   },
   {
    "duration": 20,
    "start_time": "2022-02-25T17:46:37.680Z"
   },
   {
    "duration": 32,
    "start_time": "2022-02-25T17:46:37.701Z"
   },
   {
    "duration": 3,
    "start_time": "2022-02-25T17:46:37.735Z"
   },
   {
    "duration": 9,
    "start_time": "2022-02-25T17:46:37.740Z"
   },
   {
    "duration": 25,
    "start_time": "2022-02-25T17:46:37.751Z"
   },
   {
    "duration": 59,
    "start_time": "2022-02-25T17:46:37.779Z"
   },
   {
    "duration": 93,
    "start_time": "2022-02-25T17:46:37.841Z"
   },
   {
    "duration": 13,
    "start_time": "2022-02-25T17:46:37.936Z"
   },
   {
    "duration": 18,
    "start_time": "2022-02-25T17:46:37.951Z"
   },
   {
    "duration": 67,
    "start_time": "2022-02-25T17:46:37.973Z"
   },
   {
    "duration": 22,
    "start_time": "2022-02-25T17:46:38.132Z"
   },
   {
    "duration": 81,
    "start_time": "2022-02-25T17:46:38.156Z"
   },
   {
    "duration": 379,
    "start_time": "2022-02-25T17:46:38.240Z"
   },
   {
    "duration": 14,
    "start_time": "2022-02-25T17:46:38.621Z"
   },
   {
    "duration": 17752,
    "start_time": "2022-02-25T17:46:38.637Z"
   },
   {
    "duration": 410,
    "start_time": "2022-02-25T17:46:56.390Z"
   },
   {
    "duration": 5,
    "start_time": "2022-02-25T17:46:56.802Z"
   },
   {
    "duration": 385,
    "start_time": "2022-02-25T17:46:56.809Z"
   },
   {
    "duration": 21,
    "start_time": "2022-02-25T17:46:57.195Z"
   },
   {
    "duration": 16,
    "start_time": "2022-02-25T17:46:57.217Z"
   },
   {
    "duration": 4,
    "start_time": "2022-02-25T17:46:57.235Z"
   },
   {
    "duration": 145,
    "start_time": "2022-02-25T17:46:57.240Z"
   },
   {
    "duration": 264,
    "start_time": "2022-02-25T17:53:05.036Z"
   },
   {
    "duration": 279,
    "start_time": "2022-02-25T17:53:10.388Z"
   },
   {
    "duration": 596,
    "start_time": "2022-02-25T17:53:15.470Z"
   },
   {
    "duration": 19,
    "start_time": "2022-02-25T17:53:16.068Z"
   },
   {
    "duration": 10,
    "start_time": "2022-02-25T17:53:16.091Z"
   },
   {
    "duration": 4,
    "start_time": "2022-02-25T17:53:16.103Z"
   },
   {
    "duration": 26,
    "start_time": "2022-02-25T17:53:16.108Z"
   },
   {
    "duration": 5,
    "start_time": "2022-02-25T17:53:16.135Z"
   },
   {
    "duration": 4,
    "start_time": "2022-02-25T17:53:16.142Z"
   },
   {
    "duration": 9,
    "start_time": "2022-02-25T17:53:16.148Z"
   },
   {
    "duration": 12,
    "start_time": "2022-02-25T17:53:16.159Z"
   },
   {
    "duration": 16132,
    "start_time": "2022-02-25T17:53:16.173Z"
   },
   {
    "duration": 4,
    "start_time": "2022-02-25T17:53:32.307Z"
   },
   {
    "duration": 581,
    "start_time": "2022-02-25T17:53:32.313Z"
   },
   {
    "duration": 20,
    "start_time": "2022-02-25T17:53:32.896Z"
   },
   {
    "duration": 33,
    "start_time": "2022-02-25T17:53:32.918Z"
   },
   {
    "duration": 3,
    "start_time": "2022-02-25T17:53:32.953Z"
   },
   {
    "duration": 8,
    "start_time": "2022-02-25T17:53:32.958Z"
   },
   {
    "duration": 29,
    "start_time": "2022-02-25T17:53:32.968Z"
   },
   {
    "duration": 100,
    "start_time": "2022-02-25T17:53:33.034Z"
   },
   {
    "duration": 5,
    "start_time": "2022-02-25T17:53:33.136Z"
   },
   {
    "duration": 15,
    "start_time": "2022-02-25T17:53:33.142Z"
   },
   {
    "duration": 20,
    "start_time": "2022-02-25T17:53:33.159Z"
   },
   {
    "duration": 59,
    "start_time": "2022-02-25T17:53:33.183Z"
   },
   {
    "duration": 109,
    "start_time": "2022-02-25T17:53:33.245Z"
   },
   {
    "duration": 79,
    "start_time": "2022-02-25T17:53:33.357Z"
   },
   {
    "duration": 375,
    "start_time": "2022-02-25T17:53:33.438Z"
   },
   {
    "duration": 5,
    "start_time": "2022-02-25T17:53:33.815Z"
   },
   {
    "duration": 17718,
    "start_time": "2022-02-25T17:53:33.821Z"
   },
   {
    "duration": 409,
    "start_time": "2022-02-25T17:53:51.541Z"
   },
   {
    "duration": 6,
    "start_time": "2022-02-25T17:53:51.951Z"
   },
   {
    "duration": 389,
    "start_time": "2022-02-25T17:53:51.959Z"
   },
   {
    "duration": 22,
    "start_time": "2022-02-25T17:53:52.349Z"
   },
   {
    "duration": 4,
    "start_time": "2022-02-25T17:53:52.373Z"
   },
   {
    "duration": 6,
    "start_time": "2022-02-25T17:53:52.379Z"
   },
   {
    "duration": 165,
    "start_time": "2022-02-25T17:53:52.386Z"
   },
   {
    "duration": 277,
    "start_time": "2022-02-25T17:54:38.072Z"
   },
   {
    "duration": 6,
    "start_time": "2022-02-25T17:54:40.476Z"
   },
   {
    "duration": 565,
    "start_time": "2022-02-25T17:55:04.775Z"
   },
   {
    "duration": 18,
    "start_time": "2022-02-25T17:55:05.342Z"
   },
   {
    "duration": 12,
    "start_time": "2022-02-25T17:55:05.362Z"
   },
   {
    "duration": 4,
    "start_time": "2022-02-25T17:55:05.376Z"
   },
   {
    "duration": 8,
    "start_time": "2022-02-25T17:55:05.381Z"
   },
   {
    "duration": 6,
    "start_time": "2022-02-25T17:55:05.391Z"
   },
   {
    "duration": 6,
    "start_time": "2022-02-25T17:55:05.399Z"
   },
   {
    "duration": 32,
    "start_time": "2022-02-25T17:55:05.407Z"
   },
   {
    "duration": 9,
    "start_time": "2022-02-25T17:55:05.440Z"
   },
   {
    "duration": 15522,
    "start_time": "2022-02-25T17:55:05.451Z"
   },
   {
    "duration": 5,
    "start_time": "2022-02-25T17:55:20.975Z"
   },
   {
    "duration": 612,
    "start_time": "2022-02-25T17:55:20.982Z"
   },
   {
    "duration": 20,
    "start_time": "2022-02-25T17:55:21.596Z"
   },
   {
    "duration": 30,
    "start_time": "2022-02-25T17:55:21.618Z"
   },
   {
    "duration": 4,
    "start_time": "2022-02-25T17:55:21.649Z"
   },
   {
    "duration": 8,
    "start_time": "2022-02-25T17:55:21.654Z"
   },
   {
    "duration": 72,
    "start_time": "2022-02-25T17:55:21.664Z"
   },
   {
    "duration": 8,
    "start_time": "2022-02-25T17:55:21.738Z"
   },
   {
    "duration": 4,
    "start_time": "2022-02-25T17:55:21.834Z"
   },
   {
    "duration": 16,
    "start_time": "2022-02-25T17:55:21.840Z"
   },
   {
    "duration": 20,
    "start_time": "2022-02-25T17:55:21.858Z"
   },
   {
    "duration": 57,
    "start_time": "2022-02-25T17:55:21.880Z"
   },
   {
    "duration": 117,
    "start_time": "2022-02-25T17:55:21.941Z"
   },
   {
    "duration": 75,
    "start_time": "2022-02-25T17:55:22.061Z"
   },
   {
    "duration": 377,
    "start_time": "2022-02-25T17:55:22.139Z"
   },
   {
    "duration": 15,
    "start_time": "2022-02-25T17:55:22.518Z"
   },
   {
    "duration": 18467,
    "start_time": "2022-02-25T17:55:22.535Z"
   },
   {
    "duration": 431,
    "start_time": "2022-02-25T17:55:41.004Z"
   },
   {
    "duration": 6,
    "start_time": "2022-02-25T17:55:41.437Z"
   },
   {
    "duration": 383,
    "start_time": "2022-02-25T17:55:41.445Z"
   },
   {
    "duration": 21,
    "start_time": "2022-02-25T17:55:41.830Z"
   },
   {
    "duration": 4,
    "start_time": "2022-02-25T17:55:41.853Z"
   },
   {
    "duration": 4,
    "start_time": "2022-02-25T17:55:41.858Z"
   },
   {
    "duration": 164,
    "start_time": "2022-02-25T17:55:41.864Z"
   },
   {
    "duration": 298,
    "start_time": "2022-02-25T17:56:06.360Z"
   },
   {
    "duration": 543,
    "start_time": "2022-02-25T17:56:11.085Z"
   },
   {
    "duration": 17,
    "start_time": "2022-02-25T17:56:11.630Z"
   },
   {
    "duration": 12,
    "start_time": "2022-02-25T17:56:11.648Z"
   },
   {
    "duration": 4,
    "start_time": "2022-02-25T17:56:11.661Z"
   },
   {
    "duration": 9,
    "start_time": "2022-02-25T17:56:11.667Z"
   },
   {
    "duration": 5,
    "start_time": "2022-02-25T17:56:11.677Z"
   },
   {
    "duration": 6,
    "start_time": "2022-02-25T17:56:11.684Z"
   },
   {
    "duration": 10,
    "start_time": "2022-02-25T17:56:11.693Z"
   },
   {
    "duration": 36,
    "start_time": "2022-02-25T17:56:11.705Z"
   },
   {
    "duration": 15497,
    "start_time": "2022-02-25T17:56:11.743Z"
   },
   {
    "duration": 6,
    "start_time": "2022-02-25T17:56:27.242Z"
   },
   {
    "duration": 539,
    "start_time": "2022-02-25T17:56:27.250Z"
   },
   {
    "duration": 21,
    "start_time": "2022-02-25T17:56:27.790Z"
   },
   {
    "duration": 33,
    "start_time": "2022-02-25T17:56:27.813Z"
   },
   {
    "duration": 3,
    "start_time": "2022-02-25T17:56:27.848Z"
   },
   {
    "duration": 9,
    "start_time": "2022-02-25T17:56:27.853Z"
   },
   {
    "duration": 29,
    "start_time": "2022-02-25T17:56:27.863Z"
   },
   {
    "duration": 99,
    "start_time": "2022-02-25T17:56:27.934Z"
   },
   {
    "duration": 4,
    "start_time": "2022-02-25T17:56:28.035Z"
   },
   {
    "duration": 13,
    "start_time": "2022-02-25T17:56:28.041Z"
   },
   {
    "duration": 80,
    "start_time": "2022-02-25T17:56:28.056Z"
   },
   {
    "duration": 97,
    "start_time": "2022-02-25T17:56:28.138Z"
   },
   {
    "duration": 99,
    "start_time": "2022-02-25T17:56:28.238Z"
   },
   {
    "duration": 96,
    "start_time": "2022-02-25T17:56:28.340Z"
   },
   {
    "duration": 331,
    "start_time": "2022-02-25T17:56:28.438Z"
   },
   {
    "duration": 27,
    "start_time": "2022-02-25T17:56:28.771Z"
   },
   {
    "duration": 17802,
    "start_time": "2022-02-25T17:56:28.800Z"
   },
   {
    "duration": 408,
    "start_time": "2022-02-25T17:56:46.603Z"
   },
   {
    "duration": 6,
    "start_time": "2022-02-25T17:56:47.013Z"
   },
   {
    "duration": 377,
    "start_time": "2022-02-25T17:56:47.020Z"
   },
   {
    "duration": 23,
    "start_time": "2022-02-25T17:56:47.399Z"
   },
   {
    "duration": 4,
    "start_time": "2022-02-25T17:56:47.433Z"
   },
   {
    "duration": 6,
    "start_time": "2022-02-25T17:56:47.438Z"
   },
   {
    "duration": 145,
    "start_time": "2022-02-25T17:56:47.445Z"
   },
   {
    "duration": 596,
    "start_time": "2022-02-25T18:01:53.284Z"
   },
   {
    "duration": 18,
    "start_time": "2022-02-25T18:01:53.882Z"
   },
   {
    "duration": 13,
    "start_time": "2022-02-25T18:01:53.902Z"
   },
   {
    "duration": 16,
    "start_time": "2022-02-25T18:01:53.917Z"
   },
   {
    "duration": 5,
    "start_time": "2022-02-25T18:01:53.935Z"
   },
   {
    "duration": 5,
    "start_time": "2022-02-25T18:01:53.941Z"
   },
   {
    "duration": 5,
    "start_time": "2022-02-25T18:01:53.948Z"
   },
   {
    "duration": 8,
    "start_time": "2022-02-25T18:01:53.955Z"
   },
   {
    "duration": 10,
    "start_time": "2022-02-25T18:01:53.965Z"
   },
   {
    "duration": 15629,
    "start_time": "2022-02-25T18:01:53.977Z"
   },
   {
    "duration": 6,
    "start_time": "2022-02-25T18:02:09.608Z"
   },
   {
    "duration": 581,
    "start_time": "2022-02-25T18:02:09.616Z"
   },
   {
    "duration": 21,
    "start_time": "2022-02-25T18:02:10.199Z"
   },
   {
    "duration": 30,
    "start_time": "2022-02-25T18:02:10.222Z"
   },
   {
    "duration": 3,
    "start_time": "2022-02-25T18:02:10.254Z"
   },
   {
    "duration": 10,
    "start_time": "2022-02-25T18:02:10.259Z"
   },
   {
    "duration": 66,
    "start_time": "2022-02-25T18:02:10.270Z"
   },
   {
    "duration": 98,
    "start_time": "2022-02-25T18:02:10.339Z"
   },
   {
    "duration": 5,
    "start_time": "2022-02-25T18:02:10.439Z"
   },
   {
    "duration": 16,
    "start_time": "2022-02-25T18:02:10.446Z"
   },
   {
    "duration": 70,
    "start_time": "2022-02-25T18:02:10.463Z"
   },
   {
    "duration": 99,
    "start_time": "2022-02-25T18:02:10.535Z"
   },
   {
    "duration": 19,
    "start_time": "2022-02-25T18:02:10.637Z"
   },
   {
    "duration": 80,
    "start_time": "2022-02-25T18:02:10.659Z"
   },
   {
    "duration": 392,
    "start_time": "2022-02-25T18:02:10.741Z"
   },
   {
    "duration": 29,
    "start_time": "2022-02-25T18:02:11.135Z"
   },
   {
    "duration": 17919,
    "start_time": "2022-02-25T18:02:11.165Z"
   },
   {
    "duration": 428,
    "start_time": "2022-02-25T18:02:29.085Z"
   },
   {
    "duration": 6,
    "start_time": "2022-02-25T18:02:29.515Z"
   },
   {
    "duration": 178,
    "start_time": "2022-02-25T18:02:29.523Z"
   },
   {
    "duration": 396,
    "start_time": "2022-02-25T18:02:29.702Z"
   },
   {
    "duration": 23,
    "start_time": "2022-02-25T18:02:30.100Z"
   },
   {
    "duration": 11,
    "start_time": "2022-02-25T18:02:30.124Z"
   },
   {
    "duration": 9,
    "start_time": "2022-02-25T18:02:30.137Z"
   },
   {
    "duration": 147,
    "start_time": "2022-02-25T18:02:30.148Z"
   },
   {
    "duration": 626,
    "start_time": "2022-02-25T18:06:19.636Z"
   },
   {
    "duration": 18,
    "start_time": "2022-02-25T18:06:20.264Z"
   },
   {
    "duration": 14,
    "start_time": "2022-02-25T18:06:20.284Z"
   },
   {
    "duration": 4,
    "start_time": "2022-02-25T18:06:20.299Z"
   },
   {
    "duration": 6,
    "start_time": "2022-02-25T18:06:20.305Z"
   },
   {
    "duration": 23,
    "start_time": "2022-02-25T18:06:20.313Z"
   },
   {
    "duration": 13,
    "start_time": "2022-02-25T18:06:20.338Z"
   },
   {
    "duration": 10,
    "start_time": "2022-02-25T18:06:20.354Z"
   },
   {
    "duration": 16,
    "start_time": "2022-02-25T18:06:20.366Z"
   },
   {
    "duration": 15621,
    "start_time": "2022-02-25T18:06:20.383Z"
   },
   {
    "duration": 5,
    "start_time": "2022-02-25T18:06:36.006Z"
   },
   {
    "duration": 575,
    "start_time": "2022-02-25T18:06:36.013Z"
   },
   {
    "duration": 19,
    "start_time": "2022-02-25T18:06:36.590Z"
   },
   {
    "duration": 33,
    "start_time": "2022-02-25T18:06:36.610Z"
   },
   {
    "duration": 4,
    "start_time": "2022-02-25T18:06:36.644Z"
   },
   {
    "duration": 9,
    "start_time": "2022-02-25T18:06:36.649Z"
   },
   {
    "duration": 78,
    "start_time": "2022-02-25T18:06:36.659Z"
   },
   {
    "duration": 97,
    "start_time": "2022-02-25T18:06:36.740Z"
   },
   {
    "duration": 4,
    "start_time": "2022-02-25T18:06:36.839Z"
   },
   {
    "duration": 16,
    "start_time": "2022-02-25T18:06:36.844Z"
   },
   {
    "duration": 73,
    "start_time": "2022-02-25T18:06:36.861Z"
   },
   {
    "duration": 98,
    "start_time": "2022-02-25T18:06:36.936Z"
   },
   {
    "duration": 26,
    "start_time": "2022-02-25T18:06:37.038Z"
   },
   {
    "duration": 69,
    "start_time": "2022-02-25T18:06:37.068Z"
   },
   {
    "duration": 378,
    "start_time": "2022-02-25T18:06:37.139Z"
   },
   {
    "duration": 36,
    "start_time": "2022-02-25T18:06:37.518Z"
   },
   {
    "duration": 17627,
    "start_time": "2022-02-25T18:06:37.556Z"
   },
   {
    "duration": 409,
    "start_time": "2022-02-25T18:06:55.185Z"
   },
   {
    "duration": 6,
    "start_time": "2022-02-25T18:06:55.596Z"
   },
   {
    "duration": 6,
    "start_time": "2022-02-25T18:06:55.603Z"
   },
   {
    "duration": 270,
    "start_time": "2022-02-25T18:06:55.611Z"
   },
   {
    "duration": 382,
    "start_time": "2022-02-25T18:06:55.883Z"
   },
   {
    "duration": 22,
    "start_time": "2022-02-25T18:06:56.267Z"
   },
   {
    "duration": 4,
    "start_time": "2022-02-25T18:06:56.291Z"
   },
   {
    "duration": 5,
    "start_time": "2022-02-25T18:06:56.297Z"
   },
   {
    "duration": 174,
    "start_time": "2022-02-25T18:06:56.303Z"
   },
   {
    "duration": 295,
    "start_time": "2022-02-25T18:12:34.633Z"
   },
   {
    "duration": 575,
    "start_time": "2022-02-25T18:15:18.556Z"
   },
   {
    "duration": 19,
    "start_time": "2022-02-25T18:15:19.133Z"
   },
   {
    "duration": 11,
    "start_time": "2022-02-25T18:15:19.155Z"
   },
   {
    "duration": 4,
    "start_time": "2022-02-25T18:15:19.169Z"
   },
   {
    "duration": 6,
    "start_time": "2022-02-25T18:15:19.175Z"
   },
   {
    "duration": 4,
    "start_time": "2022-02-25T18:15:19.182Z"
   },
   {
    "duration": 4,
    "start_time": "2022-02-25T18:15:19.188Z"
   },
   {
    "duration": 42,
    "start_time": "2022-02-25T18:15:19.194Z"
   },
   {
    "duration": 12,
    "start_time": "2022-02-25T18:15:19.238Z"
   },
   {
    "duration": 16082,
    "start_time": "2022-02-25T18:15:19.251Z"
   },
   {
    "duration": 5,
    "start_time": "2022-02-25T18:15:35.335Z"
   },
   {
    "duration": 553,
    "start_time": "2022-02-25T18:15:35.342Z"
   },
   {
    "duration": 20,
    "start_time": "2022-02-25T18:15:35.897Z"
   },
   {
    "duration": 32,
    "start_time": "2022-02-25T18:15:35.918Z"
   },
   {
    "duration": 3,
    "start_time": "2022-02-25T18:15:35.952Z"
   },
   {
    "duration": 14,
    "start_time": "2022-02-25T18:15:35.957Z"
   },
   {
    "duration": 26,
    "start_time": "2022-02-25T18:15:35.973Z"
   },
   {
    "duration": 100,
    "start_time": "2022-02-25T18:15:36.033Z"
   },
   {
    "duration": 5,
    "start_time": "2022-02-25T18:15:36.135Z"
   },
   {
    "duration": 20,
    "start_time": "2022-02-25T18:15:36.142Z"
   },
   {
    "duration": 19,
    "start_time": "2022-02-25T18:15:36.164Z"
   },
   {
    "duration": 53,
    "start_time": "2022-02-25T18:15:36.186Z"
   },
   {
    "duration": 111,
    "start_time": "2022-02-25T18:15:36.243Z"
   },
   {
    "duration": 81,
    "start_time": "2022-02-25T18:15:36.357Z"
   },
   {
    "duration": 383,
    "start_time": "2022-02-25T18:15:36.440Z"
   },
   {
    "duration": 34,
    "start_time": "2022-02-25T18:15:36.825Z"
   },
   {
    "duration": 216,
    "start_time": "2022-02-25T18:15:36.861Z"
   },
   {
    "duration": 17698,
    "start_time": "2022-02-25T18:15:37.079Z"
   },
   {
    "duration": 433,
    "start_time": "2022-02-25T18:15:54.780Z"
   },
   {
    "duration": 5,
    "start_time": "2022-02-25T18:15:55.215Z"
   },
   {
    "duration": 13,
    "start_time": "2022-02-25T18:15:55.222Z"
   },
   {
    "duration": 203,
    "start_time": "2022-02-25T18:15:55.237Z"
   },
   {
    "duration": 146,
    "start_time": "2022-02-25T18:15:55.442Z"
   },
   {
    "duration": 631,
    "start_time": "2022-02-27T08:12:06.071Z"
   },
   {
    "duration": 20,
    "start_time": "2022-02-27T08:12:06.704Z"
   },
   {
    "duration": 12,
    "start_time": "2022-02-27T08:12:06.730Z"
   },
   {
    "duration": 19,
    "start_time": "2022-02-27T08:12:06.744Z"
   },
   {
    "duration": 6,
    "start_time": "2022-02-27T08:12:06.764Z"
   },
   {
    "duration": 5,
    "start_time": "2022-02-27T08:12:06.772Z"
   },
   {
    "duration": 8,
    "start_time": "2022-02-27T08:12:06.781Z"
   },
   {
    "duration": 11,
    "start_time": "2022-02-27T08:12:06.791Z"
   },
   {
    "duration": 11,
    "start_time": "2022-02-27T08:12:06.804Z"
   },
   {
    "duration": 15926,
    "start_time": "2022-02-27T08:12:06.817Z"
   },
   {
    "duration": 14,
    "start_time": "2022-02-27T08:12:22.745Z"
   },
   {
    "duration": 552,
    "start_time": "2022-02-27T08:12:22.760Z"
   },
   {
    "duration": 19,
    "start_time": "2022-02-27T08:12:23.314Z"
   },
   {
    "duration": 32,
    "start_time": "2022-02-27T08:12:23.334Z"
   },
   {
    "duration": 3,
    "start_time": "2022-02-27T08:12:23.368Z"
   },
   {
    "duration": 8,
    "start_time": "2022-02-27T08:12:23.373Z"
   },
   {
    "duration": 29,
    "start_time": "2022-02-27T08:12:23.382Z"
   },
   {
    "duration": 97,
    "start_time": "2022-02-27T08:12:23.463Z"
   },
   {
    "duration": 4,
    "start_time": "2022-02-27T08:12:23.562Z"
   },
   {
    "duration": 12,
    "start_time": "2022-02-27T08:12:23.567Z"
   },
   {
    "duration": 18,
    "start_time": "2022-02-27T08:12:23.580Z"
   },
   {
    "duration": 99,
    "start_time": "2022-02-27T08:12:23.660Z"
   },
   {
    "duration": 19,
    "start_time": "2022-02-27T08:12:23.761Z"
   },
   {
    "duration": 83,
    "start_time": "2022-02-27T08:12:23.782Z"
   },
   {
    "duration": 496,
    "start_time": "2022-02-27T08:12:23.868Z"
   },
   {
    "duration": 68992,
    "start_time": "2022-02-27T08:11:15.374Z"
   },
   {
    "duration": 68977,
    "start_time": "2022-02-27T08:11:15.390Z"
   },
   {
    "duration": 68966,
    "start_time": "2022-02-27T08:11:15.402Z"
   },
   {
    "duration": 68961,
    "start_time": "2022-02-27T08:11:15.408Z"
   },
   {
    "duration": 68942,
    "start_time": "2022-02-27T08:11:15.427Z"
   },
   {
    "duration": 68932,
    "start_time": "2022-02-27T08:11:15.438Z"
   },
   {
    "duration": 68911,
    "start_time": "2022-02-27T08:11:15.461Z"
   },
   {
    "duration": 68864,
    "start_time": "2022-02-27T08:11:15.509Z"
   },
   {
    "duration": 527,
    "start_time": "2022-02-27T08:12:42.013Z"
   },
   {
    "duration": 17,
    "start_time": "2022-02-27T08:12:42.541Z"
   },
   {
    "duration": 10,
    "start_time": "2022-02-27T08:12:42.562Z"
   },
   {
    "duration": 4,
    "start_time": "2022-02-27T08:12:42.573Z"
   },
   {
    "duration": 6,
    "start_time": "2022-02-27T08:12:42.579Z"
   },
   {
    "duration": 4,
    "start_time": "2022-02-27T08:12:42.587Z"
   },
   {
    "duration": 5,
    "start_time": "2022-02-27T08:12:42.593Z"
   },
   {
    "duration": 10,
    "start_time": "2022-02-27T08:12:42.600Z"
   },
   {
    "duration": 11,
    "start_time": "2022-02-27T08:12:42.611Z"
   },
   {
    "duration": 15377,
    "start_time": "2022-02-27T08:12:42.624Z"
   },
   {
    "duration": 4,
    "start_time": "2022-02-27T08:12:58.003Z"
   },
   {
    "duration": 499,
    "start_time": "2022-02-27T08:12:58.009Z"
   },
   {
    "duration": 25,
    "start_time": "2022-02-27T08:12:58.510Z"
   },
   {
    "duration": 33,
    "start_time": "2022-02-27T08:12:58.536Z"
   },
   {
    "duration": 3,
    "start_time": "2022-02-27T08:12:58.570Z"
   },
   {
    "duration": 8,
    "start_time": "2022-02-27T08:12:58.574Z"
   },
   {
    "duration": 79,
    "start_time": "2022-02-27T08:12:58.584Z"
   },
   {
    "duration": 6,
    "start_time": "2022-02-27T08:12:58.758Z"
   },
   {
    "duration": 5,
    "start_time": "2022-02-27T08:12:58.766Z"
   },
   {
    "duration": 12,
    "start_time": "2022-02-27T08:12:58.772Z"
   },
   {
    "duration": 27,
    "start_time": "2022-02-27T08:12:58.786Z"
   },
   {
    "duration": 98,
    "start_time": "2022-02-27T08:12:58.862Z"
   },
   {
    "duration": 28,
    "start_time": "2022-02-27T08:12:58.962Z"
   },
   {
    "duration": 167,
    "start_time": "2022-02-27T08:12:58.992Z"
   },
   {
    "duration": 314,
    "start_time": "2022-02-27T08:12:59.161Z"
   },
   {
    "duration": 28,
    "start_time": "2022-02-27T08:12:59.477Z"
   },
   {
    "duration": 226,
    "start_time": "2022-02-27T08:12:59.507Z"
   },
   {
    "duration": 20098,
    "start_time": "2022-02-27T08:12:59.734Z"
   },
   {
    "duration": 465,
    "start_time": "2022-02-27T08:13:19.834Z"
   },
   {
    "duration": 5,
    "start_time": "2022-02-27T08:13:20.301Z"
   },
   {
    "duration": 7,
    "start_time": "2022-02-27T08:13:20.307Z"
   },
   {
    "duration": 220,
    "start_time": "2022-02-27T08:13:20.316Z"
   },
   {
    "duration": 164,
    "start_time": "2022-02-27T08:13:20.538Z"
   },
   {
    "duration": 10,
    "start_time": "2022-02-27T08:15:39.174Z"
   },
   {
    "duration": 4,
    "start_time": "2022-02-27T08:19:42.329Z"
   },
   {
    "duration": 890,
    "start_time": "2022-02-27T08:19:48.669Z"
   },
   {
    "duration": 243,
    "start_time": "2022-02-27T08:19:49.561Z"
   },
   {
    "duration": 15,
    "start_time": "2022-02-27T08:19:49.806Z"
   },
   {
    "duration": 14,
    "start_time": "2022-02-27T08:19:49.822Z"
   },
   {
    "duration": 4,
    "start_time": "2022-02-27T08:19:49.837Z"
   },
   {
    "duration": 19,
    "start_time": "2022-02-27T08:19:49.842Z"
   },
   {
    "duration": 4,
    "start_time": "2022-02-27T08:19:49.863Z"
   },
   {
    "duration": 4,
    "start_time": "2022-02-27T08:19:49.869Z"
   },
   {
    "duration": 14,
    "start_time": "2022-02-27T08:19:49.875Z"
   },
   {
    "duration": 10,
    "start_time": "2022-02-27T08:19:49.891Z"
   },
   {
    "duration": 15634,
    "start_time": "2022-02-27T08:19:49.902Z"
   },
   {
    "duration": 5,
    "start_time": "2022-02-27T08:20:05.538Z"
   },
   {
    "duration": 17,
    "start_time": "2022-02-27T08:20:05.546Z"
   },
   {
    "duration": 28,
    "start_time": "2022-02-27T08:20:05.564Z"
   },
   {
    "duration": 4,
    "start_time": "2022-02-27T08:20:05.594Z"
   },
   {
    "duration": 9,
    "start_time": "2022-02-27T08:20:05.599Z"
   },
   {
    "duration": 56,
    "start_time": "2022-02-27T08:20:05.610Z"
   },
   {
    "duration": 6,
    "start_time": "2022-02-27T08:20:05.759Z"
   },
   {
    "duration": 4,
    "start_time": "2022-02-27T08:20:05.766Z"
   },
   {
    "duration": 23,
    "start_time": "2022-02-27T08:20:05.772Z"
   },
   {
    "duration": 63,
    "start_time": "2022-02-27T08:20:05.796Z"
   },
   {
    "duration": 99,
    "start_time": "2022-02-27T08:20:05.861Z"
   },
   {
    "duration": 24,
    "start_time": "2022-02-27T08:20:05.963Z"
   },
   {
    "duration": 71,
    "start_time": "2022-02-27T08:20:05.990Z"
   },
   {
    "duration": 398,
    "start_time": "2022-02-27T08:20:06.064Z"
   },
   {
    "duration": 29,
    "start_time": "2022-02-27T08:20:06.464Z"
   },
   {
    "duration": 234,
    "start_time": "2022-02-27T08:20:06.494Z"
   },
   {
    "duration": 19625,
    "start_time": "2022-02-27T08:20:06.730Z"
   },
   {
    "duration": 467,
    "start_time": "2022-02-27T08:20:26.356Z"
   },
   {
    "duration": 6,
    "start_time": "2022-02-27T08:20:26.825Z"
   },
   {
    "duration": 7,
    "start_time": "2022-02-27T08:20:26.832Z"
   },
   {
    "duration": 230,
    "start_time": "2022-02-27T08:20:26.841Z"
   },
   {
    "duration": 290,
    "start_time": "2022-02-27T08:20:27.073Z"
   },
   {
    "duration": 363,
    "start_time": "2022-02-27T08:21:20.641Z"
   },
   {
    "duration": 883,
    "start_time": "2022-02-27T08:21:26.578Z"
   },
   {
    "duration": 249,
    "start_time": "2022-02-27T08:21:27.463Z"
   },
   {
    "duration": 14,
    "start_time": "2022-02-27T08:21:27.714Z"
   },
   {
    "duration": 18,
    "start_time": "2022-02-27T08:21:27.730Z"
   },
   {
    "duration": 4,
    "start_time": "2022-02-27T08:21:27.749Z"
   },
   {
    "duration": 12,
    "start_time": "2022-02-27T08:21:27.754Z"
   },
   {
    "duration": 10,
    "start_time": "2022-02-27T08:21:27.768Z"
   },
   {
    "duration": 12,
    "start_time": "2022-02-27T08:21:27.781Z"
   },
   {
    "duration": 19,
    "start_time": "2022-02-27T08:21:27.795Z"
   },
   {
    "duration": 9,
    "start_time": "2022-02-27T08:21:27.816Z"
   },
   {
    "duration": 15547,
    "start_time": "2022-02-27T08:21:27.826Z"
   },
   {
    "duration": 4,
    "start_time": "2022-02-27T08:21:43.375Z"
   },
   {
    "duration": 24,
    "start_time": "2022-02-27T08:21:43.381Z"
   },
   {
    "duration": 22,
    "start_time": "2022-02-27T08:21:43.407Z"
   },
   {
    "duration": 3,
    "start_time": "2022-02-27T08:21:43.431Z"
   },
   {
    "duration": 8,
    "start_time": "2022-02-27T08:21:43.435Z"
   },
   {
    "duration": 39,
    "start_time": "2022-02-27T08:21:43.444Z"
   },
   {
    "duration": 76,
    "start_time": "2022-02-27T08:21:43.485Z"
   },
   {
    "duration": 95,
    "start_time": "2022-02-27T08:21:43.564Z"
   },
   {
    "duration": 16,
    "start_time": "2022-02-27T08:21:43.661Z"
   },
   {
    "duration": 25,
    "start_time": "2022-02-27T08:21:43.678Z"
   },
   {
    "duration": 58,
    "start_time": "2022-02-27T08:21:43.705Z"
   },
   {
    "duration": 111,
    "start_time": "2022-02-27T08:21:43.768Z"
   },
   {
    "duration": 922,
    "start_time": "2022-02-27T08:21:56.627Z"
   },
   {
    "duration": 238,
    "start_time": "2022-02-27T08:21:57.551Z"
   },
   {
    "duration": 15,
    "start_time": "2022-02-27T08:21:57.791Z"
   },
   {
    "duration": 13,
    "start_time": "2022-02-27T08:21:57.807Z"
   },
   {
    "duration": 4,
    "start_time": "2022-02-27T08:21:57.822Z"
   },
   {
    "duration": 5,
    "start_time": "2022-02-27T08:21:57.828Z"
   },
   {
    "duration": 24,
    "start_time": "2022-02-27T08:21:57.835Z"
   },
   {
    "duration": 4,
    "start_time": "2022-02-27T08:21:57.862Z"
   },
   {
    "duration": 14,
    "start_time": "2022-02-27T08:21:57.868Z"
   },
   {
    "duration": 9,
    "start_time": "2022-02-27T08:21:57.884Z"
   },
   {
    "duration": 15536,
    "start_time": "2022-02-27T08:21:57.895Z"
   },
   {
    "duration": 6,
    "start_time": "2022-02-27T08:22:13.432Z"
   },
   {
    "duration": 21,
    "start_time": "2022-02-27T08:22:13.440Z"
   },
   {
    "duration": 23,
    "start_time": "2022-02-27T08:22:13.463Z"
   },
   {
    "duration": 3,
    "start_time": "2022-02-27T08:22:13.487Z"
   },
   {
    "duration": 8,
    "start_time": "2022-02-27T08:22:13.492Z"
   },
   {
    "duration": 65,
    "start_time": "2022-02-27T08:22:13.501Z"
   },
   {
    "duration": 94,
    "start_time": "2022-02-27T08:22:13.568Z"
   },
   {
    "duration": 4,
    "start_time": "2022-02-27T08:22:13.664Z"
   },
   {
    "duration": 17,
    "start_time": "2022-02-27T08:22:13.670Z"
   },
   {
    "duration": 70,
    "start_time": "2022-02-27T08:22:13.689Z"
   },
   {
    "duration": 97,
    "start_time": "2022-02-27T08:22:13.762Z"
   },
   {
    "duration": 26,
    "start_time": "2022-02-27T08:22:13.862Z"
   },
   {
    "duration": 101,
    "start_time": "2022-02-27T08:22:13.958Z"
   },
   {
    "duration": 298,
    "start_time": "2022-02-27T08:22:14.061Z"
   },
   {
    "duration": 29,
    "start_time": "2022-02-27T08:22:14.360Z"
   },
   {
    "duration": 228,
    "start_time": "2022-02-27T08:22:14.392Z"
   },
   {
    "duration": 19226,
    "start_time": "2022-02-27T08:22:14.622Z"
   },
   {
    "duration": 450,
    "start_time": "2022-02-27T08:22:33.850Z"
   },
   {
    "duration": 6,
    "start_time": "2022-02-27T08:22:34.301Z"
   },
   {
    "duration": 9,
    "start_time": "2022-02-27T08:22:34.308Z"
   },
   {
    "duration": 219,
    "start_time": "2022-02-27T08:22:34.318Z"
   },
   {
    "duration": 154,
    "start_time": "2022-02-27T08:22:34.538Z"
   },
   {
    "duration": 138,
    "start_time": "2022-02-27T08:39:46.585Z"
   },
   {
    "duration": 145,
    "start_time": "2022-02-27T08:40:59.339Z"
   },
   {
    "duration": 141,
    "start_time": "2022-02-27T08:41:46.740Z"
   },
   {
    "duration": 855,
    "start_time": "2022-02-27T08:45:27.590Z"
   },
   {
    "duration": 241,
    "start_time": "2022-02-27T08:45:28.447Z"
   },
   {
    "duration": 17,
    "start_time": "2022-02-27T08:45:28.693Z"
   },
   {
    "duration": 13,
    "start_time": "2022-02-27T08:45:28.712Z"
   },
   {
    "duration": 4,
    "start_time": "2022-02-27T08:45:28.727Z"
   },
   {
    "duration": 28,
    "start_time": "2022-02-27T08:45:28.732Z"
   },
   {
    "duration": 4,
    "start_time": "2022-02-27T08:45:28.763Z"
   },
   {
    "duration": 5,
    "start_time": "2022-02-27T08:45:28.769Z"
   },
   {
    "duration": 15,
    "start_time": "2022-02-27T08:45:28.776Z"
   },
   {
    "duration": 12,
    "start_time": "2022-02-27T08:45:28.792Z"
   },
   {
    "duration": 16092,
    "start_time": "2022-02-27T08:45:28.806Z"
   },
   {
    "duration": 6,
    "start_time": "2022-02-27T08:45:44.899Z"
   },
   {
    "duration": 9,
    "start_time": "2022-02-27T08:45:44.906Z"
   },
   {
    "duration": 45,
    "start_time": "2022-02-27T08:45:44.917Z"
   },
   {
    "duration": 3,
    "start_time": "2022-02-27T08:45:44.964Z"
   },
   {
    "duration": 7,
    "start_time": "2022-02-27T08:45:44.969Z"
   },
   {
    "duration": 20,
    "start_time": "2022-02-27T08:45:44.978Z"
   },
   {
    "duration": 68,
    "start_time": "2022-02-27T08:45:45.000Z"
   },
   {
    "duration": 4,
    "start_time": "2022-02-27T08:45:45.160Z"
   },
   {
    "duration": 17,
    "start_time": "2022-02-27T08:45:45.166Z"
   },
   {
    "duration": 74,
    "start_time": "2022-02-27T08:45:45.185Z"
   },
   {
    "duration": 96,
    "start_time": "2022-02-27T08:45:45.264Z"
   },
   {
    "duration": 24,
    "start_time": "2022-02-27T08:45:45.362Z"
   },
   {
    "duration": 77,
    "start_time": "2022-02-27T08:45:45.388Z"
   },
   {
    "duration": 381,
    "start_time": "2022-02-27T08:45:45.467Z"
   },
   {
    "duration": 36,
    "start_time": "2022-02-27T08:45:45.850Z"
   },
   {
    "duration": 225,
    "start_time": "2022-02-27T08:45:45.888Z"
   },
   {
    "duration": 19144,
    "start_time": "2022-02-27T08:45:46.114Z"
   },
   {
    "duration": 501,
    "start_time": "2022-02-27T08:46:05.260Z"
   },
   {
    "duration": 5,
    "start_time": "2022-02-27T08:46:05.763Z"
   },
   {
    "duration": 5,
    "start_time": "2022-02-27T08:46:05.770Z"
   },
   {
    "duration": 242,
    "start_time": "2022-02-27T08:46:05.776Z"
   },
   {
    "duration": 165,
    "start_time": "2022-02-27T08:46:06.020Z"
   },
   {
    "duration": 1157,
    "start_time": "2022-02-27T11:39:34.517Z"
   },
   {
    "duration": 338,
    "start_time": "2022-02-27T11:39:35.676Z"
   },
   {
    "duration": 25,
    "start_time": "2022-02-27T11:39:36.017Z"
   },
   {
    "duration": 30,
    "start_time": "2022-02-27T11:39:36.044Z"
   },
   {
    "duration": 6,
    "start_time": "2022-02-27T11:39:36.076Z"
   },
   {
    "duration": 7,
    "start_time": "2022-02-27T11:39:36.086Z"
   },
   {
    "duration": 10,
    "start_time": "2022-02-27T11:39:36.096Z"
   },
   {
    "duration": 6,
    "start_time": "2022-02-27T11:39:36.109Z"
   },
   {
    "duration": 57,
    "start_time": "2022-02-27T11:39:36.118Z"
   },
   {
    "duration": 17,
    "start_time": "2022-02-27T11:39:36.177Z"
   },
   {
    "duration": 25487,
    "start_time": "2022-02-27T11:39:36.196Z"
   },
   {
    "duration": 8,
    "start_time": "2022-02-27T11:40:01.686Z"
   },
   {
    "duration": 22,
    "start_time": "2022-02-27T11:40:01.696Z"
   },
   {
    "duration": 67,
    "start_time": "2022-02-27T11:40:01.720Z"
   },
   {
    "duration": 5,
    "start_time": "2022-02-27T11:40:01.789Z"
   },
   {
    "duration": 19,
    "start_time": "2022-02-27T11:40:01.796Z"
   },
   {
    "duration": 65,
    "start_time": "2022-02-27T11:40:01.817Z"
   },
   {
    "duration": 98,
    "start_time": "2022-02-27T11:40:01.981Z"
   },
   {
    "duration": 12,
    "start_time": "2022-02-27T11:40:02.081Z"
   },
   {
    "duration": 57,
    "start_time": "2022-02-27T11:40:02.095Z"
   },
   {
    "duration": 48,
    "start_time": "2022-02-27T11:40:02.154Z"
   },
   {
    "duration": 102,
    "start_time": "2022-02-27T11:40:02.273Z"
   },
   {
    "duration": 43,
    "start_time": "2022-02-27T11:40:02.379Z"
   },
   {
    "duration": 53,
    "start_time": "2022-02-27T11:40:02.425Z"
   },
   {
    "duration": 552,
    "start_time": "2022-02-27T11:40:02.481Z"
   },
   {
    "duration": 59,
    "start_time": "2022-02-27T11:40:03.036Z"
   },
   {
    "duration": 358,
    "start_time": "2022-02-27T11:40:03.098Z"
   },
   {
    "duration": 31571,
    "start_time": "2022-02-27T11:40:03.459Z"
   },
   {
    "duration": 764,
    "start_time": "2022-02-27T11:40:35.032Z"
   },
   {
    "duration": 8,
    "start_time": "2022-02-27T11:40:35.798Z"
   },
   {
    "duration": 8,
    "start_time": "2022-02-27T11:40:35.809Z"
   },
   {
    "duration": 358,
    "start_time": "2022-02-27T11:40:35.819Z"
   },
   {
    "duration": 239,
    "start_time": "2022-02-27T11:40:36.180Z"
   },
   {
    "duration": 646,
    "start_time": "2022-02-27T11:43:54.216Z"
   },
   {
    "duration": 253,
    "start_time": "2022-02-27T11:44:09.161Z"
   },
   {
    "duration": 243,
    "start_time": "2022-02-27T11:44:17.733Z"
   },
   {
    "duration": 516,
    "start_time": "2022-02-27T11:46:07.990Z"
   },
   {
    "duration": 1277,
    "start_time": "2022-02-27T11:47:51.937Z"
   },
   {
    "duration": 333,
    "start_time": "2022-02-27T11:47:53.217Z"
   },
   {
    "duration": 27,
    "start_time": "2022-02-27T11:47:53.553Z"
   },
   {
    "duration": 19,
    "start_time": "2022-02-27T11:47:53.583Z"
   },
   {
    "duration": 5,
    "start_time": "2022-02-27T11:47:53.604Z"
   },
   {
    "duration": 8,
    "start_time": "2022-02-27T11:47:53.611Z"
   },
   {
    "duration": 7,
    "start_time": "2022-02-27T11:47:53.622Z"
   },
   {
    "duration": 43,
    "start_time": "2022-02-27T11:47:53.632Z"
   },
   {
    "duration": 23,
    "start_time": "2022-02-27T11:47:53.677Z"
   },
   {
    "duration": 16,
    "start_time": "2022-02-27T11:47:53.703Z"
   },
   {
    "duration": 24970,
    "start_time": "2022-02-27T11:47:53.722Z"
   },
   {
    "duration": 8,
    "start_time": "2022-02-27T11:48:18.694Z"
   },
   {
    "duration": 12,
    "start_time": "2022-02-27T11:48:18.704Z"
   },
   {
    "duration": 82,
    "start_time": "2022-02-27T11:48:18.719Z"
   },
   {
    "duration": 5,
    "start_time": "2022-02-27T11:48:18.803Z"
   },
   {
    "duration": 18,
    "start_time": "2022-02-27T11:48:18.810Z"
   },
   {
    "duration": 66,
    "start_time": "2022-02-27T11:48:18.831Z"
   },
   {
    "duration": 100,
    "start_time": "2022-02-27T11:48:18.975Z"
   },
   {
    "duration": 6,
    "start_time": "2022-02-27T11:48:19.077Z"
   },
   {
    "duration": 18,
    "start_time": "2022-02-27T11:48:19.086Z"
   },
   {
    "duration": 73,
    "start_time": "2022-02-27T11:48:19.106Z"
   },
   {
    "duration": 193,
    "start_time": "2022-02-27T11:48:19.182Z"
   },
   {
    "duration": 42,
    "start_time": "2022-02-27T11:48:19.381Z"
   },
   {
    "duration": 99,
    "start_time": "2022-02-27T11:48:19.476Z"
   },
   {
    "duration": 465,
    "start_time": "2022-02-27T11:48:19.578Z"
   },
   {
    "duration": 57,
    "start_time": "2022-02-27T11:48:20.046Z"
   },
   {
    "duration": 357,
    "start_time": "2022-02-27T11:48:20.106Z"
   },
   {
    "duration": 32196,
    "start_time": "2022-02-27T11:48:20.473Z"
   },
   {
    "duration": 745,
    "start_time": "2022-02-27T11:48:52.674Z"
   },
   {
    "duration": 10,
    "start_time": "2022-02-27T11:48:53.422Z"
   },
   {
    "duration": 8,
    "start_time": "2022-02-27T11:48:53.435Z"
   },
   {
    "duration": 381,
    "start_time": "2022-02-27T11:48:53.446Z"
   },
   {
    "duration": 287,
    "start_time": "2022-02-27T11:48:53.830Z"
   },
   {
    "duration": 275,
    "start_time": "2022-02-27T11:50:21.223Z"
   },
   {
    "duration": 273,
    "start_time": "2022-02-27T11:50:52.663Z"
   },
   {
    "duration": 94,
    "start_time": "2022-02-27T11:51:31.638Z"
   },
   {
    "duration": 483,
    "start_time": "2022-02-27T11:52:18.393Z"
   },
   {
    "duration": 107,
    "start_time": "2022-02-27T11:52:33.443Z"
   },
   {
    "duration": 89,
    "start_time": "2022-02-27T12:01:42.562Z"
   },
   {
    "duration": 83,
    "start_time": "2022-02-27T12:01:54.237Z"
   },
   {
    "duration": 73,
    "start_time": "2022-02-27T12:03:10.635Z"
   },
   {
    "duration": 79,
    "start_time": "2022-02-27T12:03:18.093Z"
   },
   {
    "duration": 1137,
    "start_time": "2022-02-27T12:12:20.624Z"
   },
   {
    "duration": 359,
    "start_time": "2022-02-27T12:12:21.764Z"
   },
   {
    "duration": 22,
    "start_time": "2022-02-27T12:12:22.125Z"
   },
   {
    "duration": 23,
    "start_time": "2022-02-27T12:12:22.150Z"
   },
   {
    "duration": 13,
    "start_time": "2022-02-27T12:12:22.175Z"
   },
   {
    "duration": 11,
    "start_time": "2022-02-27T12:12:22.191Z"
   },
   {
    "duration": 14,
    "start_time": "2022-02-27T12:12:22.207Z"
   },
   {
    "duration": 7,
    "start_time": "2022-02-27T12:12:22.227Z"
   },
   {
    "duration": 51,
    "start_time": "2022-02-27T12:12:22.237Z"
   },
   {
    "duration": 18,
    "start_time": "2022-02-27T12:12:22.291Z"
   },
   {
    "duration": 28185,
    "start_time": "2022-02-27T12:12:22.311Z"
   },
   {
    "duration": 8,
    "start_time": "2022-02-27T12:12:50.499Z"
   },
   {
    "duration": 14,
    "start_time": "2022-02-27T12:12:50.509Z"
   },
   {
    "duration": 75,
    "start_time": "2022-02-27T12:12:50.525Z"
   },
   {
    "duration": 5,
    "start_time": "2022-02-27T12:12:50.602Z"
   },
   {
    "duration": 17,
    "start_time": "2022-02-27T12:12:50.609Z"
   },
   {
    "duration": 61,
    "start_time": "2022-02-27T12:12:50.628Z"
   },
   {
    "duration": 102,
    "start_time": "2022-02-27T12:12:50.693Z"
   },
   {
    "duration": 11,
    "start_time": "2022-02-27T12:12:50.797Z"
   },
   {
    "duration": 91,
    "start_time": "2022-02-27T12:12:50.810Z"
   },
   {
    "duration": 41,
    "start_time": "2022-02-27T12:12:50.903Z"
   },
   {
    "duration": 102,
    "start_time": "2022-02-27T12:12:50.990Z"
   },
   {
    "duration": 39,
    "start_time": "2022-02-27T12:12:51.100Z"
   },
   {
    "duration": 99,
    "start_time": "2022-02-27T12:12:51.189Z"
   },
   {
    "duration": 456,
    "start_time": "2022-02-27T12:12:51.291Z"
   },
   {
    "duration": 61,
    "start_time": "2022-02-27T12:12:51.750Z"
   },
   {
    "duration": 444,
    "start_time": "2022-02-27T12:12:51.814Z"
   },
   {
    "duration": 31397,
    "start_time": "2022-02-27T12:12:52.261Z"
   },
   {
    "duration": 753,
    "start_time": "2022-02-27T12:13:23.661Z"
   },
   {
    "duration": 8,
    "start_time": "2022-02-27T12:13:24.416Z"
   },
   {
    "duration": 7,
    "start_time": "2022-02-27T12:13:24.427Z"
   },
   {
    "duration": 387,
    "start_time": "2022-02-27T12:13:24.437Z"
   },
   {
    "duration": 3,
    "start_time": "2022-02-27T12:13:24.827Z"
   },
   {
    "duration": 240,
    "start_time": "2022-02-27T12:13:24.832Z"
   },
   {
    "duration": 203,
    "start_time": "2022-02-27T12:13:55.751Z"
   },
   {
    "duration": 480,
    "start_time": "2022-02-27T12:14:22.316Z"
   }
  ],
  "kernelspec": {
   "display_name": "Python 3 (ipykernel)",
   "language": "python",
   "name": "python3"
  },
  "language_info": {
   "codemirror_mode": {
    "name": "ipython",
    "version": 3
   },
   "file_extension": ".py",
   "mimetype": "text/x-python",
   "name": "python",
   "nbconvert_exporter": "python",
   "pygments_lexer": "ipython3",
   "version": "3.9.5"
  },
  "toc": {
   "base_numbering": 1,
   "nav_menu": {},
   "number_sections": true,
   "sideBar": true,
   "skip_h1_title": true,
   "title_cell": "Содержание",
   "title_sidebar": "Contents",
   "toc_cell": true,
   "toc_position": {},
   "toc_section_display": true,
   "toc_window_display": true
  }
 },
 "nbformat": 4,
 "nbformat_minor": 2
}
