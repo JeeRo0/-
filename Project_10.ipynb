{
 "cells": [
  {
   "cell_type": "markdown",
   "metadata": {
    "toc": true
   },
   "source": [
    "<h1>Содержание<span class=\"tocSkip\"></span></h1>\n",
    "<div class=\"toc\"><ul class=\"toc-item\"><li><span><a href=\"#Загрузка-данных\" data-toc-modified-id=\"Загрузка-данных-1\"><span class=\"toc-item-num\">1&nbsp;&nbsp;</span>Загрузка данных</a></span></li><li><span><a href=\"#Умножение-матриц\" data-toc-modified-id=\"Умножение-матриц-2\"><span class=\"toc-item-num\">2&nbsp;&nbsp;</span>Умножение матриц</a></span></li><li><span><a href=\"#Алгоритм-преобразования\" data-toc-modified-id=\"Алгоритм-преобразования-3\"><span class=\"toc-item-num\">3&nbsp;&nbsp;</span>Алгоритм преобразования</a></span></li><li><span><a href=\"#Проверка-алгоритма\" data-toc-modified-id=\"Проверка-алгоритма-4\"><span class=\"toc-item-num\">4&nbsp;&nbsp;</span>Проверка алгоритма</a></span></li><li><span><a href=\"#Чек-лист-проверки\" data-toc-modified-id=\"Чек-лист-проверки-5\"><span class=\"toc-item-num\">5&nbsp;&nbsp;</span>Чек-лист проверки</a></span></li></ul></div>"
   ]
  },
  {
   "cell_type": "markdown",
   "metadata": {},
   "source": [
    "# Защита персональных данных клиентов"
   ]
  },
  {
   "cell_type": "markdown",
   "metadata": {},
   "source": [
    "Вам нужно защитить данные клиентов страховой компании «Хоть потоп». Разработайте такой метод преобразования данных, чтобы по ним было сложно восстановить персональную информацию. Обоснуйте корректность его работы.\n",
    "\n",
    "Нужно защитить данные, чтобы при преобразовании качество моделей машинного обучения не ухудшилось. Подбирать наилучшую модель не требуется."
   ]
  },
  {
   "cell_type": "markdown",
   "metadata": {},
   "source": [
    "## Загрузка данных"
   ]
  },
  {
   "cell_type": "code",
   "execution_count": 1,
   "metadata": {},
   "outputs": [],
   "source": [
    "import pandas as pd\n",
    "import numpy as np\n",
    "import matplotlib.pyplot as plt\n",
    "import seaborn as sns\n",
    "from sklearn.linear_model import LinearRegression\n",
    "from sklearn.metrics import r2_score\n",
    "import warnings\n",
    "warnings.filterwarnings('ignore')"
   ]
  },
  {
   "cell_type": "code",
   "execution_count": 2,
   "metadata": {},
   "outputs": [],
   "source": [
    "data = pd.set_option('display.float_format', '{:,.2f}'.format)\n",
    "data = pd.read_csv('/datasets/insurance.csv')"
   ]
  },
  {
   "cell_type": "code",
   "execution_count": 3,
   "metadata": {},
   "outputs": [
    {
     "data": {
      "text/html": [
       "<div>\n",
       "<style scoped>\n",
       "    .dataframe tbody tr th:only-of-type {\n",
       "        vertical-align: middle;\n",
       "    }\n",
       "\n",
       "    .dataframe tbody tr th {\n",
       "        vertical-align: top;\n",
       "    }\n",
       "\n",
       "    .dataframe thead th {\n",
       "        text-align: right;\n",
       "    }\n",
       "</style>\n",
       "<table border=\"1\" class=\"dataframe\">\n",
       "  <thead>\n",
       "    <tr style=\"text-align: right;\">\n",
       "      <th></th>\n",
       "      <th>Пол</th>\n",
       "      <th>Возраст</th>\n",
       "      <th>Зарплата</th>\n",
       "      <th>Члены семьи</th>\n",
       "      <th>Страховые выплаты</th>\n",
       "    </tr>\n",
       "  </thead>\n",
       "  <tbody>\n",
       "    <tr>\n",
       "      <th>0</th>\n",
       "      <td>1</td>\n",
       "      <td>41.00</td>\n",
       "      <td>49,600.00</td>\n",
       "      <td>1</td>\n",
       "      <td>0</td>\n",
       "    </tr>\n",
       "    <tr>\n",
       "      <th>1</th>\n",
       "      <td>0</td>\n",
       "      <td>46.00</td>\n",
       "      <td>38,000.00</td>\n",
       "      <td>1</td>\n",
       "      <td>1</td>\n",
       "    </tr>\n",
       "    <tr>\n",
       "      <th>2</th>\n",
       "      <td>0</td>\n",
       "      <td>29.00</td>\n",
       "      <td>21,000.00</td>\n",
       "      <td>0</td>\n",
       "      <td>0</td>\n",
       "    </tr>\n",
       "    <tr>\n",
       "      <th>3</th>\n",
       "      <td>0</td>\n",
       "      <td>21.00</td>\n",
       "      <td>41,700.00</td>\n",
       "      <td>2</td>\n",
       "      <td>0</td>\n",
       "    </tr>\n",
       "    <tr>\n",
       "      <th>4</th>\n",
       "      <td>1</td>\n",
       "      <td>28.00</td>\n",
       "      <td>26,100.00</td>\n",
       "      <td>0</td>\n",
       "      <td>0</td>\n",
       "    </tr>\n",
       "    <tr>\n",
       "      <th>5</th>\n",
       "      <td>1</td>\n",
       "      <td>43.00</td>\n",
       "      <td>41,000.00</td>\n",
       "      <td>2</td>\n",
       "      <td>1</td>\n",
       "    </tr>\n",
       "    <tr>\n",
       "      <th>6</th>\n",
       "      <td>1</td>\n",
       "      <td>39.00</td>\n",
       "      <td>39,700.00</td>\n",
       "      <td>2</td>\n",
       "      <td>0</td>\n",
       "    </tr>\n",
       "    <tr>\n",
       "      <th>7</th>\n",
       "      <td>1</td>\n",
       "      <td>25.00</td>\n",
       "      <td>38,600.00</td>\n",
       "      <td>4</td>\n",
       "      <td>0</td>\n",
       "    </tr>\n",
       "    <tr>\n",
       "      <th>8</th>\n",
       "      <td>1</td>\n",
       "      <td>36.00</td>\n",
       "      <td>49,700.00</td>\n",
       "      <td>1</td>\n",
       "      <td>0</td>\n",
       "    </tr>\n",
       "    <tr>\n",
       "      <th>9</th>\n",
       "      <td>1</td>\n",
       "      <td>32.00</td>\n",
       "      <td>51,700.00</td>\n",
       "      <td>1</td>\n",
       "      <td>0</td>\n",
       "    </tr>\n",
       "  </tbody>\n",
       "</table>\n",
       "</div>"
      ],
      "text/plain": [
       "   Пол  Возраст  Зарплата  Члены семьи  Страховые выплаты\n",
       "0    1    41.00 49,600.00            1                  0\n",
       "1    0    46.00 38,000.00            1                  1\n",
       "2    0    29.00 21,000.00            0                  0\n",
       "3    0    21.00 41,700.00            2                  0\n",
       "4    1    28.00 26,100.00            0                  0\n",
       "5    1    43.00 41,000.00            2                  1\n",
       "6    1    39.00 39,700.00            2                  0\n",
       "7    1    25.00 38,600.00            4                  0\n",
       "8    1    36.00 49,700.00            1                  0\n",
       "9    1    32.00 51,700.00            1                  0"
      ]
     },
     "execution_count": 3,
     "metadata": {},
     "output_type": "execute_result"
    }
   ],
   "source": [
    "data.head(10)"
   ]
  },
  {
   "cell_type": "code",
   "execution_count": 4,
   "metadata": {},
   "outputs": [
    {
     "data": {
      "text/plain": [
       "(5000, 5)"
      ]
     },
     "execution_count": 4,
     "metadata": {},
     "output_type": "execute_result"
    }
   ],
   "source": [
    "data.shape"
   ]
  },
  {
   "cell_type": "code",
   "execution_count": 5,
   "metadata": {},
   "outputs": [
    {
     "data": {
      "text/html": [
       "<div>\n",
       "<style scoped>\n",
       "    .dataframe tbody tr th:only-of-type {\n",
       "        vertical-align: middle;\n",
       "    }\n",
       "\n",
       "    .dataframe tbody tr th {\n",
       "        vertical-align: top;\n",
       "    }\n",
       "\n",
       "    .dataframe thead th {\n",
       "        text-align: right;\n",
       "    }\n",
       "</style>\n",
       "<table border=\"1\" class=\"dataframe\">\n",
       "  <thead>\n",
       "    <tr style=\"text-align: right;\">\n",
       "      <th></th>\n",
       "      <th>Пол</th>\n",
       "      <th>Возраст</th>\n",
       "      <th>Зарплата</th>\n",
       "      <th>Члены семьи</th>\n",
       "      <th>Страховые выплаты</th>\n",
       "    </tr>\n",
       "  </thead>\n",
       "  <tbody>\n",
       "    <tr>\n",
       "      <th>count</th>\n",
       "      <td>5,000.00</td>\n",
       "      <td>5,000.00</td>\n",
       "      <td>5,000.00</td>\n",
       "      <td>5,000.00</td>\n",
       "      <td>5,000.00</td>\n",
       "    </tr>\n",
       "    <tr>\n",
       "      <th>mean</th>\n",
       "      <td>0.50</td>\n",
       "      <td>30.95</td>\n",
       "      <td>39,916.36</td>\n",
       "      <td>1.19</td>\n",
       "      <td>0.15</td>\n",
       "    </tr>\n",
       "    <tr>\n",
       "      <th>std</th>\n",
       "      <td>0.50</td>\n",
       "      <td>8.44</td>\n",
       "      <td>9,900.08</td>\n",
       "      <td>1.09</td>\n",
       "      <td>0.46</td>\n",
       "    </tr>\n",
       "    <tr>\n",
       "      <th>min</th>\n",
       "      <td>0.00</td>\n",
       "      <td>18.00</td>\n",
       "      <td>5,300.00</td>\n",
       "      <td>0.00</td>\n",
       "      <td>0.00</td>\n",
       "    </tr>\n",
       "    <tr>\n",
       "      <th>25%</th>\n",
       "      <td>0.00</td>\n",
       "      <td>24.00</td>\n",
       "      <td>33,300.00</td>\n",
       "      <td>0.00</td>\n",
       "      <td>0.00</td>\n",
       "    </tr>\n",
       "    <tr>\n",
       "      <th>50%</th>\n",
       "      <td>0.00</td>\n",
       "      <td>30.00</td>\n",
       "      <td>40,200.00</td>\n",
       "      <td>1.00</td>\n",
       "      <td>0.00</td>\n",
       "    </tr>\n",
       "    <tr>\n",
       "      <th>75%</th>\n",
       "      <td>1.00</td>\n",
       "      <td>37.00</td>\n",
       "      <td>46,600.00</td>\n",
       "      <td>2.00</td>\n",
       "      <td>0.00</td>\n",
       "    </tr>\n",
       "    <tr>\n",
       "      <th>max</th>\n",
       "      <td>1.00</td>\n",
       "      <td>65.00</td>\n",
       "      <td>79,000.00</td>\n",
       "      <td>6.00</td>\n",
       "      <td>5.00</td>\n",
       "    </tr>\n",
       "  </tbody>\n",
       "</table>\n",
       "</div>"
      ],
      "text/plain": [
       "           Пол  Возраст  Зарплата  Члены семьи  Страховые выплаты\n",
       "count 5,000.00 5,000.00  5,000.00     5,000.00           5,000.00\n",
       "mean      0.50    30.95 39,916.36         1.19               0.15\n",
       "std       0.50     8.44  9,900.08         1.09               0.46\n",
       "min       0.00    18.00  5,300.00         0.00               0.00\n",
       "25%       0.00    24.00 33,300.00         0.00               0.00\n",
       "50%       0.00    30.00 40,200.00         1.00               0.00\n",
       "75%       1.00    37.00 46,600.00         2.00               0.00\n",
       "max       1.00    65.00 79,000.00         6.00               5.00"
      ]
     },
     "execution_count": 5,
     "metadata": {},
     "output_type": "execute_result"
    }
   ],
   "source": [
    "data.describe()"
   ]
  },
  {
   "cell_type": "code",
   "execution_count": 6,
   "metadata": {},
   "outputs": [
    {
     "data": {
      "text/plain": [
       "153"
      ]
     },
     "execution_count": 6,
     "metadata": {},
     "output_type": "execute_result"
    }
   ],
   "source": [
    "data.duplicated().sum()"
   ]
  },
  {
   "cell_type": "code",
   "execution_count": 7,
   "metadata": {},
   "outputs": [
    {
     "data": {
      "text/plain": [
       "0"
      ]
     },
     "execution_count": 7,
     "metadata": {},
     "output_type": "execute_result"
    }
   ],
   "source": [
    "data.drop_duplicates(inplace=True)\n",
    "data.duplicated().sum()"
   ]
  },
  {
   "cell_type": "code",
   "execution_count": 8,
   "metadata": {},
   "outputs": [
    {
     "data": {
      "text/plain": [
       "<AxesSubplot:>"
      ]
     },
     "execution_count": 8,
     "metadata": {},
     "output_type": "execute_result"
    },
    {
     "data": {
      "image/png": "[encoded data removed]",
      "text/plain": [
       "<Figure size 504x504 with 2 Axes>"
      ]
     },
     "metadata": {
      "needs_background": "light"
     },
     "output_type": "display_data"
    }
   ],
   "source": [
    "plt.rcParams['figure.figsize'] = (7.0, 7.0)\n",
    "sns.heatmap(data.corr(), annot=True, linewidths=3, linecolor='white')"
   ]
  },
  {
   "cell_type": "markdown",
   "metadata": {},
   "source": [
    "<div class=\"alert alert-info\"> <b>Комментарий студента:</b> \n",
    "\n",
    "- Пропусков, дубликатов нет, данные выглядят нормально.\n",
    "\n",
    "    \n",
    "</div>"
   ]
  },
  {
   "cell_type": "markdown",
   "metadata": {},
   "source": [
    "## Умножение матриц"
   ]
  },
  {
   "cell_type": "markdown",
   "metadata": {},
   "source": [
    "В этом задании вы можете записывать формулы в *Jupyter Notebook.*\n",
    "\n",
    "Чтобы записать формулу внутри текста, окружите её символами доллара \\\\$; если снаружи —  двойными символами \\\\$\\\\$. Эти формулы записываются на языке вёрстки *LaTeX.* \n",
    "\n",
    "Для примера мы записали формулы линейной регрессии. Можете их скопировать и отредактировать, чтобы решить задачу.\n",
    "\n",
    "Работать в *LaTeX* необязательно."
   ]
  },
  {
   "cell_type": "markdown",
   "metadata": {},
   "source": [
    "Обозначения:\n",
    "\n",
    "- $X$ — матрица признаков (нулевой столбец состоит из единиц)\n",
    "\n",
    "- $y$ — вектор целевого признака\n",
    "\n",
    "- $P$ — матрица, на которую умножаются признаки\n",
    "\n",
    "- $w$ — вектор весов линейной регрессии (нулевой элемент равен сдвигу)"
   ]
  },
  {
   "cell_type": "markdown",
   "metadata": {},
   "source": [
    "Предсказания:\n",
    "\n",
    "$$\n",
    "a = Xw\n",
    "$$\n",
    "\n",
    "Задача обучения:\n",
    "\n",
    "$$\n",
    "w = \\arg\\min_w MSE(Xw, y)\n",
    "$$\n",
    "\n",
    "Формула обучения:\n",
    "\n",
    "$$\n",
    "w = (X^T X)^{-1} X^T y\n",
    "$$"
   ]
  },
  {
   "cell_type": "markdown",
   "metadata": {},
   "source": [
    "**Ответ:** Не изменится.\n",
    "\n",
    "**Обоснование:** "
   ]
  },
  {
   "cell_type": "markdown",
   "metadata": {},
   "source": [
    "Уравнение линейной регрессии имеет вид:\n",
    "$f(w,X) = X \\vec{w}$"
   ]
  },
  {
   "cell_type": "markdown",
   "metadata": {},
   "source": [
    "Обозначим значения целевых показателей (все $y_i$) за вектор $\\vec{y}$ размерностью $(n \\times 1)$:\n",
    "$\\vec{y} = \\begin{pmatrix} y_{0} \\\\ y_{1} \\\\ ... \\\\ y_{n} \\end{pmatrix} \\qquad$"
   ]
  },
  {
   "cell_type": "markdown",
   "metadata": {},
   "source": [
    "Теперь мы можем записать в матричном формате уравнение оценки качества линейной модели:\n",
    "$Err = (X \\vec{w} - \\vec{y})^2\\rightarrow min$"
   ]
  },
  {
   "cell_type": "markdown",
   "metadata": {},
   "source": [
    "Раскроем скобки:\n",
    "\n",
    "$(X \\vec{w} - \\vec{y})^2 = (X \\vec{w} - \\vec{y})^T(X \\vec{w} - \\vec{y})$\n",
    "\n",
    "$=(X\\vec{w})^TX\\vec{w} - \\vec{y}^TX\\vec{w} - (X\\vec{w})^T\\vec{y} + \\vec{y}^T\\vec{y}$"
   ]
  },
  {
   "cell_type": "markdown",
   "metadata": {},
   "source": [
    "Подготовим уравнение для дифференцирования:"
   ]
  },
  {
   "cell_type": "markdown",
   "metadata": {},
   "source": [
    "Перемножим матрицы $\\vec{y}^TX\\vec{w} = (X\\vec{w})^T\\vec{y} = \\vec{w}^TX^T\\vec{y}$"
   ]
  },
  {
   "cell_type": "markdown",
   "metadata": {},
   "source": [
    "аналогичо $(X\\vec{w})^TX\\vec{w} = \\vec{w}^TX^TX\\vec{w}$"
   ]
  },
  {
   "cell_type": "markdown",
   "metadata": {},
   "source": [
    "На выходе получаем уравнение, которое нам предстоит продифференцировать:\n",
    "$Err = \\vec{w}^TX^TX\\vec{w} - 2\\vec{w}^TX^T\\vec{y} + \\vec{y}^T\\vec{y}$"
   ]
  },
  {
   "cell_type": "markdown",
   "metadata": {},
   "source": [
    "Продифференцируем по вектору $\\vec{w}$:\n",
    "\n",
    "$\\frac{d(\\vec{w}^TX^TX\\vec{w} - 2\\vec{w}^TX^T\\vec{y} + \\vec{y}^T\\vec{y})}{d\\vec{w}}$"
   ]
  },
  {
   "cell_type": "markdown",
   "metadata": {},
   "source": [
    "$(\\vec{w}^TX^TX\\vec{w})' - (2\\vec{w}^TX^T\\vec{y})' + (\\vec{y}^T\\vec{y})' = 0$\n",
    "\n",
    "$2X^TX\\vec{w} - 2X^T\\vec{y} + 0 = 0$\n",
    "\n",
    "$X^TX\\vec{w}=X^T\\vec{y}$\n"
   ]
  },
  {
   "cell_type": "markdown",
   "metadata": {},
   "source": [
    "<div class=\"alert alert-info\"> <b>Комментарий студента:</b> \n",
    "\n",
    "Вывод:    \n",
    "- После произведения получим аналогичную формулу предсказаний, что и была в начале, значит домножение признаков на обратимую матрицу не влияет на предсказания модели.\n",
    "\n",
    "    \n",
    "</div>"
   ]
  },
  {
   "cell_type": "markdown",
   "metadata": {},
   "source": [
    "$$\n",
    "a = Xw = XEw = XPP^{-1}w = (XP)P^{-1}w = (XP)w'\n",
    "$$\n",
    "\n",
    "$$\n",
    "w' = ((XP)^T XP)^{-1} (XP)^T y\n",
    "$$\n",
    "$$\n",
    "w' = (P^T (X^T X) P)^{-1} (XP)^T y\n",
    "$$\n",
    "$$\n",
    "w' = (P^T (X^T X) P)^{-1} P^T X^T y\n",
    "$$\n",
    "$$\n",
    "w' = P^{-1} (X^T X)^{-1} (P^T)^{-1} P^T X^T y\n",
    "$$\n",
    "$$\n",
    "w' = P^{-1} (X^T X)^{-1} E X^T y\n",
    "$$\n",
    "$$\n",
    "w' = P^{-1}w\n",
    "$$"
   ]
  },
  {
   "cell_type": "markdown",
   "metadata": {},
   "source": [
    "<div class=\"alert alert-info\"> <b>Комментарий студентаV2:</b>   \n",
    "    \n",
    "Да, можно использовать свойство обратной матрицы\n",
    "    \n",
    "$(A B)^{-1} =B^{-1} A^{-1}$    \n",
    "    \n",
    "$(A B)^{T} =B^{T} A^{T}$       \n",
    "    \n",
    "$A A^{-1}=E$\n",
    "    \n",
    "$A E=E A=A$\n",
    "    \n",
    "Но обратная матрица может браться только от квадратной матрицы, то для раскрытия скобок данного произведения нам надо сгруппировать его множители так, чтобы они были квадратными матрицами, используя свойство сочитаемости $A(BC) = (AB)C$.\n",
    "    \n",
    "По этому показалось что через уравнение среднеквадратичной ошибки проще.\n",
    "    \n",
    "</div>"
   ]
  },
  {
   "cell_type": "markdown",
   "metadata": {},
   "source": [
    "## Алгоритм преобразования"
   ]
  },
  {
   "cell_type": "markdown",
   "metadata": {},
   "source": [
    "**Алгоритм**\n",
    "\n",
    "В качестве алгоритма преобразования примем умножение обучающих признаков X на случайную обратимую матрицу P. Создадим модель линейной регрессии до преобразования и посчитаем метрику R2. Далее умножим исходные признаки на обратимую матрицу и на основе полученных значений вновь посчитаем метрику R2. Метрики R2 по итогу должны быть равны."
   ]
  },
  {
   "cell_type": "markdown",
   "metadata": {},
   "source": [
    "**Обоснование**\n",
    "\n",
    "Как было показано в предыдущем пункте, умножение признаков на какую-либо обратимую матрицу не приводит к изменению предсказаний, поэтому R2 равны."
   ]
  },
  {
   "cell_type": "markdown",
   "metadata": {},
   "source": [
    "## Проверка алгоритма"
   ]
  },
  {
   "cell_type": "markdown",
   "metadata": {},
   "source": [
    "Выделим обучающие признаки, целевой признак, матрицу для умножения, обучающие признаки после умножения. Проведем обучение с помощью алгоритма линейной регрессии для признаков до умножения и после. Сделаем в каждом случае предсказания и определим метрики r2."
   ]
  },
  {
   "cell_type": "code",
   "execution_count": 9,
   "metadata": {},
   "outputs": [
    {
     "name": "stdout",
     "output_type": "stream",
     "text": [
      "(4847, 4)\n",
      "(4847,)\n"
     ]
    }
   ],
   "source": [
    "features = data.drop('Страховые выплаты', axis=1)\n",
    "target = data['Страховые выплаты']\n",
    "print(features.shape)\n",
    "print(target.shape)"
   ]
  },
  {
   "cell_type": "code",
   "execution_count": 10,
   "metadata": {},
   "outputs": [
    {
     "name": "stdout",
     "output_type": "stream",
     "text": [
      "Метрика R2 : 0.43\n"
     ]
    }
   ],
   "source": [
    "model = LinearRegression()\n",
    "model.fit(features, target)\n",
    "predictions = model.predict(features)\n",
    "R2 = r2_score(target, predictions)\n",
    "print(f'Метрика R2 : {R2:.2f}')"
   ]
  },
  {
   "cell_type": "code",
   "execution_count": 26,
   "metadata": {},
   "outputs": [
    {
     "data": {
      "text/plain": [
       "array([[-1.36440011,  0.79349295, -0.40343924,  0.50143131],\n",
       "       [ 0.35580765, -0.2498787 , -0.53791584,  1.46923099],\n",
       "       [ 0.5041208 , -1.01261472,  1.87002566,  1.26672569],\n",
       "       [-1.58596571,  1.28041904, -0.97827024, -0.93323222]])"
      ]
     },
     "execution_count": 26,
     "metadata": {},
     "output_type": "execute_result"
    }
   ],
   "source": [
    "# Создадим обратную матрицу\n",
    "det = 0\n",
    "w = 0\n",
    "while det == 0:\n",
    "    w = np.random.normal(size=(4, 4))\n",
    "    det = np.linalg.det(w)\n",
    "w"
   ]
  },
  {
   "cell_type": "raw",
   "metadata": {},
   "source": [
    "\n",
    "def generate_invertible_matrix(size):\n",
    "    try:\n",
    "        matrix = np.random.normal(size=(size, size))\n",
    "        # проверим матрицу на обратимость, если нет, пробуем сгенерировать еще раз\n",
    "        # таким образом гарантируем, что матрица стопроцентно будет обратимой\n",
    "        np.linalg.inv(matrix)\n",
    "    except np.linalg.LinAlgError:\n",
    "        matrix = generate_invertible_matrix()\n",
    "    \n",
    "    return matrix"
   ]
  },
  {
   "cell_type": "code",
   "execution_count": 12,
   "metadata": {},
   "outputs": [
    {
     "data": {
      "text/html": [
       "<div>\n",
       "<style scoped>\n",
       "    .dataframe tbody tr th:only-of-type {\n",
       "        vertical-align: middle;\n",
       "    }\n",
       "\n",
       "    .dataframe tbody tr th {\n",
       "        vertical-align: top;\n",
       "    }\n",
       "\n",
       "    .dataframe thead th {\n",
       "        text-align: right;\n",
       "    }\n",
       "</style>\n",
       "<table border=\"1\" class=\"dataframe\">\n",
       "  <thead>\n",
       "    <tr style=\"text-align: right;\">\n",
       "      <th></th>\n",
       "      <th>0</th>\n",
       "      <th>1</th>\n",
       "      <th>2</th>\n",
       "      <th>3</th>\n",
       "    </tr>\n",
       "  </thead>\n",
       "  <tbody>\n",
       "    <tr>\n",
       "      <th>0</th>\n",
       "      <td>-38,155.47</td>\n",
       "      <td>13,550.37</td>\n",
       "      <td>16,136.31</td>\n",
       "      <td>47,964.79</td>\n",
       "    </tr>\n",
       "    <tr>\n",
       "      <th>1</th>\n",
       "      <td>-29,207.95</td>\n",
       "      <td>10,367.76</td>\n",
       "      <td>12,357.82</td>\n",
       "      <td>36,755.17</td>\n",
       "    </tr>\n",
       "    <tr>\n",
       "      <th>2</th>\n",
       "      <td>-16,135.89</td>\n",
       "      <td>5,725.68</td>\n",
       "      <td>6,828.34</td>\n",
       "      <td>20,313.92</td>\n",
       "    </tr>\n",
       "    <tr>\n",
       "      <th>3</th>\n",
       "      <td>-32,097.24</td>\n",
       "      <td>11,406.85</td>\n",
       "      <td>13,570.08</td>\n",
       "      <td>40,316.89</td>\n",
       "    </tr>\n",
       "    <tr>\n",
       "      <th>4</th>\n",
       "      <td>-20,068.85</td>\n",
       "      <td>7,123.28</td>\n",
       "      <td>8,489.23</td>\n",
       "      <td>25,243.61</td>\n",
       "    </tr>\n",
       "    <tr>\n",
       "      <th>...</th>\n",
       "      <td>...</td>\n",
       "      <td>...</td>\n",
       "      <td>...</td>\n",
       "      <td>...</td>\n",
       "    </tr>\n",
       "    <tr>\n",
       "      <th>4995</th>\n",
       "      <td>-27,463.29</td>\n",
       "      <td>9,755.89</td>\n",
       "      <td>11,614.34</td>\n",
       "      <td>34,522.00</td>\n",
       "    </tr>\n",
       "    <tr>\n",
       "      <th>4996</th>\n",
       "      <td>-40,321.98</td>\n",
       "      <td>14,325.33</td>\n",
       "      <td>17,050.09</td>\n",
       "      <td>50,665.76</td>\n",
       "    </tr>\n",
       "    <tr>\n",
       "      <th>4997</th>\n",
       "      <td>-26,088.76</td>\n",
       "      <td>9,270.55</td>\n",
       "      <td>11,030.78</td>\n",
       "      <td>32,777.52</td>\n",
       "    </tr>\n",
       "    <tr>\n",
       "      <th>4998</th>\n",
       "      <td>-25,162.45</td>\n",
       "      <td>8,939.57</td>\n",
       "      <td>10,639.25</td>\n",
       "      <td>31,620.49</td>\n",
       "    </tr>\n",
       "    <tr>\n",
       "      <th>4999</th>\n",
       "      <td>-31,240.97</td>\n",
       "      <td>11,097.07</td>\n",
       "      <td>13,210.05</td>\n",
       "      <td>39,258.49</td>\n",
       "    </tr>\n",
       "  </tbody>\n",
       "</table>\n",
       "<p>4847 rows × 4 columns</p>\n",
       "</div>"
      ],
      "text/plain": [
       "              0         1         2         3\n",
       "0    -38,155.47 13,550.37 16,136.31 47,964.79\n",
       "1    -29,207.95 10,367.76 12,357.82 36,755.17\n",
       "2    -16,135.89  5,725.68  6,828.34 20,313.92\n",
       "3    -32,097.24 11,406.85 13,570.08 40,316.89\n",
       "4    -20,068.85  7,123.28  8,489.23 25,243.61\n",
       "...         ...       ...       ...       ...\n",
       "4995 -27,463.29  9,755.89 11,614.34 34,522.00\n",
       "4996 -40,321.98 14,325.33 17,050.09 50,665.76\n",
       "4997 -26,088.76  9,270.55 11,030.78 32,777.52\n",
       "4998 -25,162.45  8,939.57 10,639.25 31,620.49\n",
       "4999 -31,240.97 11,097.07 13,210.05 39,258.49\n",
       "\n",
       "[4847 rows x 4 columns]"
      ]
     },
     "execution_count": 12,
     "metadata": {},
     "output_type": "execute_result"
    }
   ],
   "source": [
    "# Умножим признаки на обратную матрицу\n",
    "new_features = features @ w\n",
    "new_features"
   ]
  },
  {
   "cell_type": "code",
   "execution_count": 13,
   "metadata": {},
   "outputs": [
    {
     "name": "stdout",
     "output_type": "stream",
     "text": [
      "Метрика R2 : 0.43\n"
     ]
    }
   ],
   "source": [
    "# Обучим модель с новыми признаками\n",
    "model.fit(new_features, target)\n",
    "predictions = model.predict(new_features)\n",
    "R2 = r2_score(target, predictions)\n",
    "print(f'Метрика R2 : {R2:.2f}')"
   ]
  },
  {
   "cell_type": "markdown",
   "metadata": {},
   "source": [
    "<div class=\"alert alert-info\"> <b>Комментарий студента:</b> \n",
    "\n",
    "Вывод:    \n",
    "- Так как метрики R2 одинаковые, преобразование исходных данных в случайную обратную матрицу возможно для шифрование данных клиентов.\n",
    "\n",
    "    \n",
    "</div>"
   ]
  },
  {
   "cell_type": "markdown",
   "metadata": {},
   "source": [
    "<div class=\"alert alert-info\"> <b>Комментарий студентаV2:</b> \n",
    "\n",
    "Спасибо за комментарии и за функцию(очень удобно) =) \n",
    "    \n",
    "Для меня это все новое, информации море.\n",
    "\n",
    "    \n",
    "</div>"
   ]
  }
 ],
 "metadata": {
  "ExecuteTimeLog": [
   {
    "duration": 117,
    "start_time": "2022-04-07T06:50:26.298Z"
   },
   {
    "duration": 10,
    "start_time": "2022-04-07T06:50:30.257Z"
   },
   {
    "duration": 9,
    "start_time": "2022-04-07T06:50:30.703Z"
   },
   {
    "duration": 510,
    "start_time": "2022-04-07T06:50:41.932Z"
   },
   {
    "duration": 20,
    "start_time": "2022-04-07T06:50:42.650Z"
   },
   {
    "duration": 13,
    "start_time": "2022-04-07T06:50:43.319Z"
   },
   {
    "duration": 17,
    "start_time": "2022-04-07T06:51:56.305Z"
   },
   {
    "duration": 8,
    "start_time": "2022-04-07T06:52:50.854Z"
   },
   {
    "duration": 17,
    "start_time": "2022-04-07T06:53:03.915Z"
   },
   {
    "duration": 715,
    "start_time": "2022-04-07T06:54:33.641Z"
   },
   {
    "duration": 12,
    "start_time": "2022-04-07T06:54:34.359Z"
   },
   {
    "duration": 4,
    "start_time": "2022-04-07T06:55:00.258Z"
   },
   {
    "duration": 108,
    "start_time": "2022-04-07T06:55:19.472Z"
   },
   {
    "duration": 29114,
    "start_time": "2022-04-07T06:55:30.447Z"
   },
   {
    "duration": 2916,
    "start_time": "2022-04-07T06:56:24.120Z"
   },
   {
    "duration": 4735,
    "start_time": "2022-04-07T06:56:51.907Z"
   },
   {
    "duration": 1653,
    "start_time": "2022-04-07T06:56:56.645Z"
   },
   {
    "duration": 649,
    "start_time": "2022-04-07T06:57:09.915Z"
   },
   {
    "duration": 17,
    "start_time": "2022-04-07T06:57:10.567Z"
   },
   {
    "duration": 4754,
    "start_time": "2022-04-07T06:57:10.586Z"
   },
   {
    "duration": 2429,
    "start_time": "2022-04-07T06:57:15.343Z"
   },
   {
    "duration": 0,
    "start_time": "2022-04-07T06:57:17.774Z"
   },
   {
    "duration": 0,
    "start_time": "2022-04-07T06:57:17.776Z"
   },
   {
    "duration": 0,
    "start_time": "2022-04-07T06:57:17.778Z"
   },
   {
    "duration": 518,
    "start_time": "2022-04-07T06:58:41.031Z"
   },
   {
    "duration": 17,
    "start_time": "2022-04-07T06:58:41.552Z"
   },
   {
    "duration": 105,
    "start_time": "2022-04-07T06:58:41.571Z"
   },
   {
    "duration": 0,
    "start_time": "2022-04-07T06:58:41.678Z"
   },
   {
    "duration": 1,
    "start_time": "2022-04-07T06:58:41.680Z"
   },
   {
    "duration": 0,
    "start_time": "2022-04-07T06:58:41.683Z"
   },
   {
    "duration": 0,
    "start_time": "2022-04-07T06:58:41.684Z"
   },
   {
    "duration": 3438,
    "start_time": "2022-04-07T06:58:50.220Z"
   },
   {
    "duration": 2598,
    "start_time": "2022-04-07T06:58:56.181Z"
   },
   {
    "duration": 100,
    "start_time": "2022-04-07T07:00:07.844Z"
   },
   {
    "duration": 109,
    "start_time": "2022-04-07T07:00:19.472Z"
   },
   {
    "duration": 14600,
    "start_time": "2022-04-07T07:00:26.624Z"
   },
   {
    "duration": 1634,
    "start_time": "2022-04-07T07:01:42.881Z"
   },
   {
    "duration": 528,
    "start_time": "2022-04-07T07:02:24.372Z"
   },
   {
    "duration": 21,
    "start_time": "2022-04-07T07:02:24.903Z"
   },
   {
    "duration": 3670,
    "start_time": "2022-04-07T07:02:24.926Z"
   },
   {
    "duration": 961,
    "start_time": "2022-04-07T07:02:28.598Z"
   },
   {
    "duration": 0,
    "start_time": "2022-04-07T07:02:29.561Z"
   },
   {
    "duration": 0,
    "start_time": "2022-04-07T07:02:29.563Z"
   },
   {
    "duration": 0,
    "start_time": "2022-04-07T07:02:29.565Z"
   },
   {
    "duration": 1534,
    "start_time": "2022-04-07T07:02:48.279Z"
   },
   {
    "duration": 260,
    "start_time": "2022-04-07T07:03:30.127Z"
   },
   {
    "duration": 268,
    "start_time": "2022-04-07T07:03:44.070Z"
   },
   {
    "duration": 1534,
    "start_time": "2022-04-07T07:03:56.671Z"
   },
   {
    "duration": 45749,
    "start_time": "2022-04-07T07:04:53.655Z"
   },
   {
    "duration": 28,
    "start_time": "2022-04-07T07:05:39.407Z"
   },
   {
    "duration": 20,
    "start_time": "2022-04-07T07:06:27.857Z"
   },
   {
    "duration": 8358,
    "start_time": "2022-04-07T07:07:01.336Z"
   },
   {
    "duration": 29,
    "start_time": "2022-04-07T07:07:20.968Z"
   },
   {
    "duration": 7,
    "start_time": "2022-04-07T07:07:23.338Z"
   },
   {
    "duration": 20,
    "start_time": "2022-04-07T07:07:24.025Z"
   },
   {
    "duration": 16,
    "start_time": "2022-04-07T07:07:51.451Z"
   },
   {
    "duration": 33,
    "start_time": "2022-04-07T07:07:58.299Z"
   },
   {
    "duration": 508,
    "start_time": "2022-04-07T07:09:30.809Z"
   },
   {
    "duration": 21,
    "start_time": "2022-04-07T07:09:31.320Z"
   },
   {
    "duration": 24,
    "start_time": "2022-04-07T07:09:31.343Z"
   },
   {
    "duration": 16,
    "start_time": "2022-04-07T07:09:31.370Z"
   },
   {
    "duration": 39,
    "start_time": "2022-04-07T07:09:31.388Z"
   },
   {
    "duration": 4,
    "start_time": "2022-04-07T07:15:00.098Z"
   },
   {
    "duration": 95,
    "start_time": "2022-04-07T07:17:15.018Z"
   },
   {
    "duration": 9,
    "start_time": "2022-04-07T07:17:35.300Z"
   },
   {
    "duration": 8,
    "start_time": "2022-04-07T07:20:10.785Z"
   },
   {
    "duration": 12,
    "start_time": "2022-04-07T07:20:26.129Z"
   },
   {
    "duration": 2843,
    "start_time": "2022-04-07T07:21:11.089Z"
   },
   {
    "duration": 525,
    "start_time": "2022-04-07T07:23:01.396Z"
   },
   {
    "duration": 12,
    "start_time": "2022-04-07T07:23:08.554Z"
   },
   {
    "duration": 574,
    "start_time": "2022-04-07T07:23:51.843Z"
   },
   {
    "duration": 126,
    "start_time": "2022-04-07T09:35:30.569Z"
   },
   {
    "duration": 43,
    "start_time": "2022-04-08T04:43:13.409Z"
   },
   {
    "duration": 1602,
    "start_time": "2022-04-08T04:43:18.896Z"
   },
   {
    "duration": 36,
    "start_time": "2022-04-08T04:43:20.500Z"
   },
   {
    "duration": 12,
    "start_time": "2022-04-08T04:43:20.538Z"
   },
   {
    "duration": 4,
    "start_time": "2022-04-08T04:43:20.552Z"
   },
   {
    "duration": 21,
    "start_time": "2022-04-08T04:43:20.558Z"
   },
   {
    "duration": 7,
    "start_time": "2022-04-08T04:43:20.580Z"
   },
   {
    "duration": 9,
    "start_time": "2022-04-08T04:43:20.588Z"
   },
   {
    "duration": 370,
    "start_time": "2022-04-08T04:43:20.599Z"
   },
   {
    "duration": 4,
    "start_time": "2022-04-08T04:43:20.971Z"
   },
   {
    "duration": 5,
    "start_time": "2022-04-08T04:43:56.634Z"
   },
   {
    "duration": 5,
    "start_time": "2022-04-08T04:44:13.284Z"
   },
   {
    "duration": 9,
    "start_time": "2022-04-08T04:49:43.981Z"
   },
   {
    "duration": 11,
    "start_time": "2022-04-08T04:50:03.294Z"
   },
   {
    "duration": 96,
    "start_time": "2022-04-08T04:53:27.133Z"
   },
   {
    "duration": 1913,
    "start_time": "2022-04-08T04:55:44.461Z"
   },
   {
    "duration": 20,
    "start_time": "2022-04-08T04:55:46.377Z"
   },
   {
    "duration": 11,
    "start_time": "2022-04-08T04:55:46.399Z"
   },
   {
    "duration": 3,
    "start_time": "2022-04-08T04:55:46.412Z"
   },
   {
    "duration": 21,
    "start_time": "2022-04-08T04:55:46.417Z"
   },
   {
    "duration": 6,
    "start_time": "2022-04-08T04:55:46.439Z"
   },
   {
    "duration": 7,
    "start_time": "2022-04-08T04:55:46.446Z"
   },
   {
    "duration": 366,
    "start_time": "2022-04-08T04:55:46.454Z"
   },
   {
    "duration": 5,
    "start_time": "2022-04-08T04:55:46.822Z"
   },
   {
    "duration": 59,
    "start_time": "2022-04-08T04:55:46.829Z"
   },
   {
    "duration": 247,
    "start_time": "2022-04-08T04:55:46.891Z"
   },
   {
    "duration": 11,
    "start_time": "2022-04-08T04:56:01.923Z"
   },
   {
    "duration": 9,
    "start_time": "2022-04-08T04:57:03.233Z"
   },
   {
    "duration": 5,
    "start_time": "2022-04-08T04:57:27.819Z"
   },
   {
    "duration": 5,
    "start_time": "2022-04-08T04:58:48.154Z"
   },
   {
    "duration": 9,
    "start_time": "2022-04-08T04:59:43.795Z"
   },
   {
    "duration": 10,
    "start_time": "2022-04-08T05:11:54.259Z"
   },
   {
    "duration": 1458,
    "start_time": "2022-04-08T05:12:02.755Z"
   },
   {
    "duration": 30,
    "start_time": "2022-04-08T05:12:04.215Z"
   },
   {
    "duration": 11,
    "start_time": "2022-04-08T05:12:04.246Z"
   },
   {
    "duration": 9,
    "start_time": "2022-04-08T05:12:04.258Z"
   },
   {
    "duration": 21,
    "start_time": "2022-04-08T05:12:04.268Z"
   },
   {
    "duration": 5,
    "start_time": "2022-04-08T05:12:04.290Z"
   },
   {
    "duration": 8,
    "start_time": "2022-04-08T05:12:04.297Z"
   },
   {
    "duration": 336,
    "start_time": "2022-04-08T05:12:04.306Z"
   },
   {
    "duration": 4,
    "start_time": "2022-04-08T05:12:04.644Z"
   },
   {
    "duration": 34,
    "start_time": "2022-04-08T05:12:04.650Z"
   },
   {
    "duration": 96,
    "start_time": "2022-04-08T05:12:04.686Z"
   },
   {
    "duration": 102,
    "start_time": "2022-04-08T05:12:04.784Z"
   },
   {
    "duration": 9,
    "start_time": "2022-04-08T05:12:04.888Z"
   },
   {
    "duration": 1514,
    "start_time": "2022-04-08T05:15:56.584Z"
   },
   {
    "duration": 31,
    "start_time": "2022-04-08T05:15:58.100Z"
   },
   {
    "duration": 12,
    "start_time": "2022-04-08T05:15:58.132Z"
   },
   {
    "duration": 7,
    "start_time": "2022-04-08T05:15:58.147Z"
   },
   {
    "duration": 30,
    "start_time": "2022-04-08T05:15:58.155Z"
   },
   {
    "duration": 6,
    "start_time": "2022-04-08T05:15:58.187Z"
   },
   {
    "duration": 14,
    "start_time": "2022-04-08T05:15:58.195Z"
   },
   {
    "duration": 336,
    "start_time": "2022-04-08T05:15:58.210Z"
   },
   {
    "duration": 4,
    "start_time": "2022-04-08T05:15:58.548Z"
   },
   {
    "duration": 49,
    "start_time": "2022-04-08T05:15:58.554Z"
   },
   {
    "duration": 99,
    "start_time": "2022-04-08T05:15:58.682Z"
   },
   {
    "duration": 9,
    "start_time": "2022-04-08T05:15:58.783Z"
   },
   {
    "duration": 11,
    "start_time": "2022-04-08T05:15:58.793Z"
   },
   {
    "duration": 71956,
    "start_time": "2022-04-08T06:22:18.367Z"
   },
   {
    "duration": 22,
    "start_time": "2022-04-08T06:23:30.326Z"
   },
   {
    "duration": 17,
    "start_time": "2022-04-08T06:23:30.350Z"
   },
   {
    "duration": 7,
    "start_time": "2022-04-08T06:23:30.369Z"
   },
   {
    "duration": 53,
    "start_time": "2022-04-08T06:23:30.378Z"
   },
   {
    "duration": 7,
    "start_time": "2022-04-08T06:23:30.434Z"
   },
   {
    "duration": 53,
    "start_time": "2022-04-08T06:23:30.443Z"
   },
   {
    "duration": 576,
    "start_time": "2022-04-08T06:23:30.497Z"
   },
   {
    "duration": 7,
    "start_time": "2022-04-08T06:26:37.201Z"
   },
   {
    "duration": 14,
    "start_time": "2022-04-08T06:26:37.889Z"
   },
   {
    "duration": 7,
    "start_time": "2022-04-08T06:26:38.633Z"
   },
   {
    "duration": 203,
    "start_time": "2022-04-08T07:21:50.565Z"
   },
   {
    "duration": 192,
    "start_time": "2022-04-08T07:22:08.573Z"
   },
   {
    "duration": 209,
    "start_time": "2022-04-08T07:22:22.876Z"
   },
   {
    "duration": 3,
    "start_time": "2022-04-08T07:22:45.724Z"
   },
   {
    "duration": 193,
    "start_time": "2022-04-08T07:23:10.658Z"
   },
   {
    "duration": 257,
    "start_time": "2022-04-08T07:23:46.740Z"
   },
   {
    "duration": 193,
    "start_time": "2022-04-08T07:24:16.664Z"
   },
   {
    "duration": 225,
    "start_time": "2022-04-08T07:25:02.734Z"
   },
   {
    "duration": 185,
    "start_time": "2022-04-08T07:26:31.596Z"
   },
   {
    "duration": 181,
    "start_time": "2022-04-08T07:27:04.058Z"
   },
   {
    "duration": 197,
    "start_time": "2022-04-08T07:27:39.668Z"
   },
   {
    "duration": 5,
    "start_time": "2022-04-08T07:37:53.774Z"
   }
  ],
  "kernelspec": {
   "display_name": "Python 3 (ipykernel)",
   "language": "python",
   "name": "python3"
  },
  "language_info": {
   "codemirror_mode": {
    "name": "ipython",
    "version": 3
   },
   "file_extension": ".py",
   "mimetype": "text/x-python",
   "name": "python",
   "nbconvert_exporter": "python",
   "pygments_lexer": "ipython3",
   "version": "3.9.5"
  },
  "toc": {
   "base_numbering": 1,
   "nav_menu": {},
   "number_sections": true,
   "sideBar": true,
   "skip_h1_title": true,
   "title_cell": "Содержание",
   "title_sidebar": "Contents",
   "toc_cell": true,
   "toc_position": {},
   "toc_section_display": true,
   "toc_window_display": false
  }
 },
 "nbformat": 4,
 "nbformat_minor": 2
}
