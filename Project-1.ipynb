{
 "cells": [
  {
   "cell_type": "markdown",
   "metadata": {},
   "source": [
    "# Исследование надёжности заёмщиков\n",
    "\n",
    "Заказчик — кредитный отдел банка. Нужно разобраться, влияет ли семейное положение и количество детей клиента на факт погашения кредита в срок. Входные данные от банка — статистика о платёжеспособности клиентов.\n",
    "\n",
    "Результаты исследования будут учтены при построении модели **кредитного скоринга** — специальной системы, которая оценивает способность потенциального заёмщика вернуть кредит банку."
   ]
  },
  {
   "cell_type": "markdown",
   "metadata": {},
   "source": [
    "<div class=\"alert alert-success\" style=\"border-radius: 15px; box-shadow: 4px 4px 4px; border: 1px solid \">\n",
    "<h2> Комментарий ревьюера</h2>\n",
    "    \n",
    "Правильно делаешь, что не убираешь краткое описание задачи. Это поможет быстро вспомнить, о чем проект, если ты к нему вернешься спустя какое-то время.\n",
    "</div>"
   ]
  },
  {
   "cell_type": "markdown",
   "metadata": {},
   "source": [
    "## Шаг 1. Откройте файл с данными и изучите общую информацию"
   ]
  },
  {
   "cell_type": "code",
   "execution_count": 1,
   "metadata": {},
   "outputs": [],
   "source": [
    "import pandas as pd\n",
    "df = pd.read_csv('/datasets/data.csv')\n"
   ]
  },
  {
   "cell_type": "markdown",
   "metadata": {},
   "source": [
    "Получаем информацию по датасету."
   ]
  },
  {
   "cell_type": "code",
   "execution_count": 2,
   "metadata": {},
   "outputs": [
    {
     "name": "stdout",
     "output_type": "stream",
     "text": [
      "<class 'pandas.core.frame.DataFrame'>\n",
      "RangeIndex: 21525 entries, 0 to 21524\n",
      "Data columns (total 12 columns):\n",
      "children            21525 non-null int64\n",
      "days_employed       19351 non-null float64\n",
      "dob_years           21525 non-null int64\n",
      "education           21525 non-null object\n",
      "education_id        21525 non-null int64\n",
      "family_status       21525 non-null object\n",
      "family_status_id    21525 non-null int64\n",
      "gender              21525 non-null object\n",
      "income_type         21525 non-null object\n",
      "debt                21525 non-null int64\n",
      "total_income        19351 non-null float64\n",
      "purpose             21525 non-null object\n",
      "dtypes: float64(2), int64(5), object(5)\n",
      "memory usage: 2.0+ MB\n"
     ]
    },
    {
     "data": {
      "text/html": [
       "<div>\n",
       "<style scoped>\n",
       "    .dataframe tbody tr th:only-of-type {\n",
       "        vertical-align: middle;\n",
       "    }\n",
       "\n",
       "    .dataframe tbody tr th {\n",
       "        vertical-align: top;\n",
       "    }\n",
       "\n",
       "    .dataframe thead th {\n",
       "        text-align: right;\n",
       "    }\n",
       "</style>\n",
       "<table border=\"1\" class=\"dataframe\">\n",
       "  <thead>\n",
       "    <tr style=\"text-align: right;\">\n",
       "      <th></th>\n",
       "      <th>children</th>\n",
       "      <th>days_employed</th>\n",
       "      <th>dob_years</th>\n",
       "      <th>education</th>\n",
       "      <th>education_id</th>\n",
       "      <th>family_status</th>\n",
       "      <th>family_status_id</th>\n",
       "      <th>gender</th>\n",
       "      <th>income_type</th>\n",
       "      <th>debt</th>\n",
       "      <th>total_income</th>\n",
       "      <th>purpose</th>\n",
       "    </tr>\n",
       "  </thead>\n",
       "  <tbody>\n",
       "    <tr>\n",
       "      <td>0</td>\n",
       "      <td>1</td>\n",
       "      <td>-8437.673028</td>\n",
       "      <td>42</td>\n",
       "      <td>высшее</td>\n",
       "      <td>0</td>\n",
       "      <td>женат / замужем</td>\n",
       "      <td>0</td>\n",
       "      <td>F</td>\n",
       "      <td>сотрудник</td>\n",
       "      <td>0</td>\n",
       "      <td>253875.639453</td>\n",
       "      <td>покупка жилья</td>\n",
       "    </tr>\n",
       "    <tr>\n",
       "      <td>1</td>\n",
       "      <td>1</td>\n",
       "      <td>-4024.803754</td>\n",
       "      <td>36</td>\n",
       "      <td>среднее</td>\n",
       "      <td>1</td>\n",
       "      <td>женат / замужем</td>\n",
       "      <td>0</td>\n",
       "      <td>F</td>\n",
       "      <td>сотрудник</td>\n",
       "      <td>0</td>\n",
       "      <td>112080.014102</td>\n",
       "      <td>приобретение автомобиля</td>\n",
       "    </tr>\n",
       "    <tr>\n",
       "      <td>2</td>\n",
       "      <td>0</td>\n",
       "      <td>-5623.422610</td>\n",
       "      <td>33</td>\n",
       "      <td>Среднее</td>\n",
       "      <td>1</td>\n",
       "      <td>женат / замужем</td>\n",
       "      <td>0</td>\n",
       "      <td>M</td>\n",
       "      <td>сотрудник</td>\n",
       "      <td>0</td>\n",
       "      <td>145885.952297</td>\n",
       "      <td>покупка жилья</td>\n",
       "    </tr>\n",
       "    <tr>\n",
       "      <td>3</td>\n",
       "      <td>3</td>\n",
       "      <td>-4124.747207</td>\n",
       "      <td>32</td>\n",
       "      <td>среднее</td>\n",
       "      <td>1</td>\n",
       "      <td>женат / замужем</td>\n",
       "      <td>0</td>\n",
       "      <td>M</td>\n",
       "      <td>сотрудник</td>\n",
       "      <td>0</td>\n",
       "      <td>267628.550329</td>\n",
       "      <td>дополнительное образование</td>\n",
       "    </tr>\n",
       "    <tr>\n",
       "      <td>4</td>\n",
       "      <td>0</td>\n",
       "      <td>340266.072047</td>\n",
       "      <td>53</td>\n",
       "      <td>среднее</td>\n",
       "      <td>1</td>\n",
       "      <td>гражданский брак</td>\n",
       "      <td>1</td>\n",
       "      <td>F</td>\n",
       "      <td>пенсионер</td>\n",
       "      <td>0</td>\n",
       "      <td>158616.077870</td>\n",
       "      <td>сыграть свадьбу</td>\n",
       "    </tr>\n",
       "    <tr>\n",
       "      <td>5</td>\n",
       "      <td>0</td>\n",
       "      <td>-926.185831</td>\n",
       "      <td>27</td>\n",
       "      <td>высшее</td>\n",
       "      <td>0</td>\n",
       "      <td>гражданский брак</td>\n",
       "      <td>1</td>\n",
       "      <td>M</td>\n",
       "      <td>компаньон</td>\n",
       "      <td>0</td>\n",
       "      <td>255763.565419</td>\n",
       "      <td>покупка жилья</td>\n",
       "    </tr>\n",
       "    <tr>\n",
       "      <td>6</td>\n",
       "      <td>0</td>\n",
       "      <td>-2879.202052</td>\n",
       "      <td>43</td>\n",
       "      <td>высшее</td>\n",
       "      <td>0</td>\n",
       "      <td>женат / замужем</td>\n",
       "      <td>0</td>\n",
       "      <td>F</td>\n",
       "      <td>компаньон</td>\n",
       "      <td>0</td>\n",
       "      <td>240525.971920</td>\n",
       "      <td>операции с жильем</td>\n",
       "    </tr>\n",
       "    <tr>\n",
       "      <td>7</td>\n",
       "      <td>0</td>\n",
       "      <td>-152.779569</td>\n",
       "      <td>50</td>\n",
       "      <td>СРЕДНЕЕ</td>\n",
       "      <td>1</td>\n",
       "      <td>женат / замужем</td>\n",
       "      <td>0</td>\n",
       "      <td>M</td>\n",
       "      <td>сотрудник</td>\n",
       "      <td>0</td>\n",
       "      <td>135823.934197</td>\n",
       "      <td>образование</td>\n",
       "    </tr>\n",
       "    <tr>\n",
       "      <td>8</td>\n",
       "      <td>2</td>\n",
       "      <td>-6929.865299</td>\n",
       "      <td>35</td>\n",
       "      <td>ВЫСШЕЕ</td>\n",
       "      <td>0</td>\n",
       "      <td>гражданский брак</td>\n",
       "      <td>1</td>\n",
       "      <td>F</td>\n",
       "      <td>сотрудник</td>\n",
       "      <td>0</td>\n",
       "      <td>95856.832424</td>\n",
       "      <td>на проведение свадьбы</td>\n",
       "    </tr>\n",
       "    <tr>\n",
       "      <td>9</td>\n",
       "      <td>0</td>\n",
       "      <td>-2188.756445</td>\n",
       "      <td>41</td>\n",
       "      <td>среднее</td>\n",
       "      <td>1</td>\n",
       "      <td>женат / замужем</td>\n",
       "      <td>0</td>\n",
       "      <td>M</td>\n",
       "      <td>сотрудник</td>\n",
       "      <td>0</td>\n",
       "      <td>144425.938277</td>\n",
       "      <td>покупка жилья для семьи</td>\n",
       "    </tr>\n",
       "  </tbody>\n",
       "</table>\n",
       "</div>"
      ],
      "text/plain": [
       "   children  days_employed  dob_years education  education_id  \\\n",
       "0         1   -8437.673028         42    высшее             0   \n",
       "1         1   -4024.803754         36   среднее             1   \n",
       "2         0   -5623.422610         33   Среднее             1   \n",
       "3         3   -4124.747207         32   среднее             1   \n",
       "4         0  340266.072047         53   среднее             1   \n",
       "5         0    -926.185831         27    высшее             0   \n",
       "6         0   -2879.202052         43    высшее             0   \n",
       "7         0    -152.779569         50   СРЕДНЕЕ             1   \n",
       "8         2   -6929.865299         35    ВЫСШЕЕ             0   \n",
       "9         0   -2188.756445         41   среднее             1   \n",
       "\n",
       "      family_status  family_status_id gender income_type  debt   total_income  \\\n",
       "0   женат / замужем                 0      F   сотрудник     0  253875.639453   \n",
       "1   женат / замужем                 0      F   сотрудник     0  112080.014102   \n",
       "2   женат / замужем                 0      M   сотрудник     0  145885.952297   \n",
       "3   женат / замужем                 0      M   сотрудник     0  267628.550329   \n",
       "4  гражданский брак                 1      F   пенсионер     0  158616.077870   \n",
       "5  гражданский брак                 1      M   компаньон     0  255763.565419   \n",
       "6   женат / замужем                 0      F   компаньон     0  240525.971920   \n",
       "7   женат / замужем                 0      M   сотрудник     0  135823.934197   \n",
       "8  гражданский брак                 1      F   сотрудник     0   95856.832424   \n",
       "9   женат / замужем                 0      M   сотрудник     0  144425.938277   \n",
       "\n",
       "                      purpose  \n",
       "0               покупка жилья  \n",
       "1     приобретение автомобиля  \n",
       "2               покупка жилья  \n",
       "3  дополнительное образование  \n",
       "4             сыграть свадьбу  \n",
       "5               покупка жилья  \n",
       "6           операции с жильем  \n",
       "7                 образование  \n",
       "8       на проведение свадьбы  \n",
       "9     покупка жилья для семьи  "
      ]
     },
     "execution_count": 2,
     "metadata": {},
     "output_type": "execute_result"
    }
   ],
   "source": [
    "df.info()\n",
    "df.head(10)"
   ]
  },
  {
   "cell_type": "markdown",
   "metadata": {},
   "source": [
    "Датасет содержит всю необходимую для исследования информацию. В важном для нас столбце \"доход в месяц\" есть пропуски, которые необходимо восстановить. Столбец \"трудовой стаж\" имеет пропущенные значение и данные с отрицательными значениями, которые не возможно интерпретировать."
   ]
  },
  {
   "cell_type": "markdown",
   "metadata": {},
   "source": [
    "<div class=\"alert alert-success\" style=\"border-radius: 15px; box-shadow: 4px 4px 4px; border: 1px solid \">\n",
    "<h2> Комментарий ревьюера</h2>\n",
    "    \n",
    "Причем, по модулю числа в столбце стажа кажутся нормальными. Так что минус мог быть просто тире. А вот огромные вызывают много вопросов. Это могут быть часы, а могут быть и пропуски, которые при выгрузке трансформировались в аномальные для конкретного столбца числа.\n",
    "</div>"
   ]
  },
  {
   "cell_type": "markdown",
   "metadata": {},
   "source": [
    "## Шаг 2. Предобработка "
   ]
  },
  {
   "cell_type": "markdown",
   "metadata": {},
   "source": [
    "### Обработка пропусков"
   ]
  },
  {
   "cell_type": "markdown",
   "metadata": {},
   "source": [
    "Проверим на пропуски."
   ]
  },
  {
   "cell_type": "code",
   "execution_count": 3,
   "metadata": {},
   "outputs": [
    {
     "data": {
      "text/plain": [
       "children               0\n",
       "days_employed       2174\n",
       "dob_years              0\n",
       "education              0\n",
       "education_id           0\n",
       "family_status          0\n",
       "family_status_id       0\n",
       "gender                 0\n",
       "income_type            0\n",
       "debt                   0\n",
       "total_income        2174\n",
       "purpose                0\n",
       "dtype: int64"
      ]
     },
     "execution_count": 3,
     "metadata": {},
     "output_type": "execute_result"
    }
   ],
   "source": [
    "df.isna().sum()"
   ]
  },
  {
   "cell_type": "markdown",
   "metadata": {},
   "source": [
    "Столбец 'days_employed' удалим, так как для нашего исследования он не нужен."
   ]
  },
  {
   "cell_type": "code",
   "execution_count": 4,
   "metadata": {},
   "outputs": [],
   "source": [
    "del df['days_employed'] "
   ]
  },
  {
   "cell_type": "markdown",
   "metadata": {},
   "source": [
    "Для заполнения пропусков в столбце доход в месяц, посчитаем медианный доход по категории занятости."
   ]
  },
  {
   "cell_type": "code",
   "execution_count": 5,
   "metadata": {},
   "outputs": [],
   "source": [
    "median_total_income = df.groupby('income_type')['total_income'].transform('median')"
   ]
  },
  {
   "cell_type": "markdown",
   "metadata": {},
   "source": [
    "<div class=\"alert alert-success\" style=\"border-radius: 15px; box-shadow: 4px 4px 4px; border: 1px solid \">\n",
    "<h2> Комментарий ревьюера</h2>\n",
    "    \n",
    "Отличный код! При желании, можно будет легко заполнить пропуски в группировке по 2-3 признакам. </div>"
   ]
  },
  {
   "cell_type": "markdown",
   "metadata": {},
   "source": [
    "Заменим пропущенные значения."
   ]
  },
  {
   "cell_type": "code",
   "execution_count": 6,
   "metadata": {},
   "outputs": [],
   "source": [
    "df['total_income'].fillna(median_total_income, inplace=True)"
   ]
  },
  {
   "cell_type": "markdown",
   "metadata": {},
   "source": [
    "Проверияем наличие пропусков."
   ]
  },
  {
   "cell_type": "code",
   "execution_count": 7,
   "metadata": {},
   "outputs": [
    {
     "data": {
      "text/html": [
       "<div>\n",
       "<style scoped>\n",
       "    .dataframe tbody tr th:only-of-type {\n",
       "        vertical-align: middle;\n",
       "    }\n",
       "\n",
       "    .dataframe tbody tr th {\n",
       "        vertical-align: top;\n",
       "    }\n",
       "\n",
       "    .dataframe thead th {\n",
       "        text-align: right;\n",
       "    }\n",
       "</style>\n",
       "<table border=\"1\" class=\"dataframe\">\n",
       "  <thead>\n",
       "    <tr style=\"text-align: right;\">\n",
       "      <th></th>\n",
       "      <th>children</th>\n",
       "      <th>dob_years</th>\n",
       "      <th>education</th>\n",
       "      <th>education_id</th>\n",
       "      <th>family_status</th>\n",
       "      <th>family_status_id</th>\n",
       "      <th>gender</th>\n",
       "      <th>income_type</th>\n",
       "      <th>debt</th>\n",
       "      <th>total_income</th>\n",
       "      <th>purpose</th>\n",
       "    </tr>\n",
       "  </thead>\n",
       "  <tbody>\n",
       "    <tr>\n",
       "      <td>21510</td>\n",
       "      <td>2</td>\n",
       "      <td>28</td>\n",
       "      <td>среднее</td>\n",
       "      <td>1</td>\n",
       "      <td>женат / замужем</td>\n",
       "      <td>0</td>\n",
       "      <td>F</td>\n",
       "      <td>сотрудник</td>\n",
       "      <td>0</td>\n",
       "      <td>142594.396847</td>\n",
       "      <td>приобретение автомобиля</td>\n",
       "    </tr>\n",
       "    <tr>\n",
       "      <td>21511</td>\n",
       "      <td>0</td>\n",
       "      <td>29</td>\n",
       "      <td>высшее</td>\n",
       "      <td>0</td>\n",
       "      <td>гражданский брак</td>\n",
       "      <td>1</td>\n",
       "      <td>F</td>\n",
       "      <td>сотрудник</td>\n",
       "      <td>1</td>\n",
       "      <td>140068.472941</td>\n",
       "      <td>покупка жилья для сдачи</td>\n",
       "    </tr>\n",
       "    <tr>\n",
       "      <td>21512</td>\n",
       "      <td>0</td>\n",
       "      <td>26</td>\n",
       "      <td>высшее</td>\n",
       "      <td>0</td>\n",
       "      <td>Не женат / не замужем</td>\n",
       "      <td>4</td>\n",
       "      <td>M</td>\n",
       "      <td>компаньон</td>\n",
       "      <td>0</td>\n",
       "      <td>147301.457769</td>\n",
       "      <td>получение дополнительного образования</td>\n",
       "    </tr>\n",
       "    <tr>\n",
       "      <td>21513</td>\n",
       "      <td>0</td>\n",
       "      <td>35</td>\n",
       "      <td>среднее</td>\n",
       "      <td>1</td>\n",
       "      <td>женат / замужем</td>\n",
       "      <td>0</td>\n",
       "      <td>F</td>\n",
       "      <td>сотрудник</td>\n",
       "      <td>0</td>\n",
       "      <td>250986.142309</td>\n",
       "      <td>покупка жилья</td>\n",
       "    </tr>\n",
       "    <tr>\n",
       "      <td>21514</td>\n",
       "      <td>0</td>\n",
       "      <td>27</td>\n",
       "      <td>неоконченное высшее</td>\n",
       "      <td>2</td>\n",
       "      <td>Не женат / не замужем</td>\n",
       "      <td>4</td>\n",
       "      <td>M</td>\n",
       "      <td>компаньон</td>\n",
       "      <td>0</td>\n",
       "      <td>355988.407188</td>\n",
       "      <td>строительство недвижимости</td>\n",
       "    </tr>\n",
       "    <tr>\n",
       "      <td>21515</td>\n",
       "      <td>1</td>\n",
       "      <td>28</td>\n",
       "      <td>среднее</td>\n",
       "      <td>1</td>\n",
       "      <td>женат / замужем</td>\n",
       "      <td>0</td>\n",
       "      <td>F</td>\n",
       "      <td>сотрудник</td>\n",
       "      <td>1</td>\n",
       "      <td>109486.327999</td>\n",
       "      <td>заняться образованием</td>\n",
       "    </tr>\n",
       "    <tr>\n",
       "      <td>21516</td>\n",
       "      <td>0</td>\n",
       "      <td>42</td>\n",
       "      <td>высшее</td>\n",
       "      <td>0</td>\n",
       "      <td>женат / замужем</td>\n",
       "      <td>0</td>\n",
       "      <td>F</td>\n",
       "      <td>компаньон</td>\n",
       "      <td>0</td>\n",
       "      <td>322807.776603</td>\n",
       "      <td>покупка своего жилья</td>\n",
       "    </tr>\n",
       "    <tr>\n",
       "      <td>21517</td>\n",
       "      <td>0</td>\n",
       "      <td>42</td>\n",
       "      <td>высшее</td>\n",
       "      <td>0</td>\n",
       "      <td>гражданский брак</td>\n",
       "      <td>1</td>\n",
       "      <td>F</td>\n",
       "      <td>компаньон</td>\n",
       "      <td>0</td>\n",
       "      <td>178059.553491</td>\n",
       "      <td>на покупку своего автомобиля</td>\n",
       "    </tr>\n",
       "    <tr>\n",
       "      <td>21518</td>\n",
       "      <td>0</td>\n",
       "      <td>59</td>\n",
       "      <td>СРЕДНЕЕ</td>\n",
       "      <td>1</td>\n",
       "      <td>женат / замужем</td>\n",
       "      <td>0</td>\n",
       "      <td>F</td>\n",
       "      <td>пенсионер</td>\n",
       "      <td>0</td>\n",
       "      <td>153864.650328</td>\n",
       "      <td>сделка с автомобилем</td>\n",
       "    </tr>\n",
       "    <tr>\n",
       "      <td>21519</td>\n",
       "      <td>1</td>\n",
       "      <td>37</td>\n",
       "      <td>ученая степень</td>\n",
       "      <td>4</td>\n",
       "      <td>в разводе</td>\n",
       "      <td>3</td>\n",
       "      <td>M</td>\n",
       "      <td>сотрудник</td>\n",
       "      <td>0</td>\n",
       "      <td>115949.039788</td>\n",
       "      <td>покупка коммерческой недвижимости</td>\n",
       "    </tr>\n",
       "    <tr>\n",
       "      <td>21520</td>\n",
       "      <td>1</td>\n",
       "      <td>43</td>\n",
       "      <td>среднее</td>\n",
       "      <td>1</td>\n",
       "      <td>гражданский брак</td>\n",
       "      <td>1</td>\n",
       "      <td>F</td>\n",
       "      <td>компаньон</td>\n",
       "      <td>0</td>\n",
       "      <td>224791.862382</td>\n",
       "      <td>операции с жильем</td>\n",
       "    </tr>\n",
       "    <tr>\n",
       "      <td>21521</td>\n",
       "      <td>0</td>\n",
       "      <td>67</td>\n",
       "      <td>среднее</td>\n",
       "      <td>1</td>\n",
       "      <td>женат / замужем</td>\n",
       "      <td>0</td>\n",
       "      <td>F</td>\n",
       "      <td>пенсионер</td>\n",
       "      <td>0</td>\n",
       "      <td>155999.806512</td>\n",
       "      <td>сделка с автомобилем</td>\n",
       "    </tr>\n",
       "    <tr>\n",
       "      <td>21522</td>\n",
       "      <td>1</td>\n",
       "      <td>38</td>\n",
       "      <td>среднее</td>\n",
       "      <td>1</td>\n",
       "      <td>гражданский брак</td>\n",
       "      <td>1</td>\n",
       "      <td>M</td>\n",
       "      <td>сотрудник</td>\n",
       "      <td>1</td>\n",
       "      <td>89672.561153</td>\n",
       "      <td>недвижимость</td>\n",
       "    </tr>\n",
       "    <tr>\n",
       "      <td>21523</td>\n",
       "      <td>3</td>\n",
       "      <td>38</td>\n",
       "      <td>среднее</td>\n",
       "      <td>1</td>\n",
       "      <td>женат / замужем</td>\n",
       "      <td>0</td>\n",
       "      <td>M</td>\n",
       "      <td>сотрудник</td>\n",
       "      <td>1</td>\n",
       "      <td>244093.050500</td>\n",
       "      <td>на покупку своего автомобиля</td>\n",
       "    </tr>\n",
       "    <tr>\n",
       "      <td>21524</td>\n",
       "      <td>2</td>\n",
       "      <td>40</td>\n",
       "      <td>среднее</td>\n",
       "      <td>1</td>\n",
       "      <td>женат / замужем</td>\n",
       "      <td>0</td>\n",
       "      <td>F</td>\n",
       "      <td>сотрудник</td>\n",
       "      <td>0</td>\n",
       "      <td>82047.418899</td>\n",
       "      <td>на покупку автомобиля</td>\n",
       "    </tr>\n",
       "  </tbody>\n",
       "</table>\n",
       "</div>"
      ],
      "text/plain": [
       "       children  dob_years            education  education_id  \\\n",
       "21510         2         28              среднее             1   \n",
       "21511         0         29               высшее             0   \n",
       "21512         0         26               высшее             0   \n",
       "21513         0         35              среднее             1   \n",
       "21514         0         27  неоконченное высшее             2   \n",
       "21515         1         28              среднее             1   \n",
       "21516         0         42               высшее             0   \n",
       "21517         0         42               высшее             0   \n",
       "21518         0         59              СРЕДНЕЕ             1   \n",
       "21519         1         37       ученая степень             4   \n",
       "21520         1         43              среднее             1   \n",
       "21521         0         67              среднее             1   \n",
       "21522         1         38              среднее             1   \n",
       "21523         3         38              среднее             1   \n",
       "21524         2         40              среднее             1   \n",
       "\n",
       "               family_status  family_status_id gender income_type  debt  \\\n",
       "21510        женат / замужем                 0      F   сотрудник     0   \n",
       "21511       гражданский брак                 1      F   сотрудник     1   \n",
       "21512  Не женат / не замужем                 4      M   компаньон     0   \n",
       "21513        женат / замужем                 0      F   сотрудник     0   \n",
       "21514  Не женат / не замужем                 4      M   компаньон     0   \n",
       "21515        женат / замужем                 0      F   сотрудник     1   \n",
       "21516        женат / замужем                 0      F   компаньон     0   \n",
       "21517       гражданский брак                 1      F   компаньон     0   \n",
       "21518        женат / замужем                 0      F   пенсионер     0   \n",
       "21519              в разводе                 3      M   сотрудник     0   \n",
       "21520       гражданский брак                 1      F   компаньон     0   \n",
       "21521        женат / замужем                 0      F   пенсионер     0   \n",
       "21522       гражданский брак                 1      M   сотрудник     1   \n",
       "21523        женат / замужем                 0      M   сотрудник     1   \n",
       "21524        женат / замужем                 0      F   сотрудник     0   \n",
       "\n",
       "        total_income                                purpose  \n",
       "21510  142594.396847                приобретение автомобиля  \n",
       "21511  140068.472941                покупка жилья для сдачи  \n",
       "21512  147301.457769  получение дополнительного образования  \n",
       "21513  250986.142309                          покупка жилья  \n",
       "21514  355988.407188             строительство недвижимости  \n",
       "21515  109486.327999                  заняться образованием  \n",
       "21516  322807.776603                   покупка своего жилья  \n",
       "21517  178059.553491           на покупку своего автомобиля  \n",
       "21518  153864.650328                   сделка с автомобилем  \n",
       "21519  115949.039788      покупка коммерческой недвижимости  \n",
       "21520  224791.862382                      операции с жильем  \n",
       "21521  155999.806512                   сделка с автомобилем  \n",
       "21522   89672.561153                           недвижимость  \n",
       "21523  244093.050500           на покупку своего автомобиля  \n",
       "21524   82047.418899                  на покупку автомобиля  "
      ]
     },
     "execution_count": 7,
     "metadata": {},
     "output_type": "execute_result"
    }
   ],
   "source": [
    "df.isna().sum()\n",
    "df.tail(15)"
   ]
  },
  {
   "cell_type": "markdown",
   "metadata": {},
   "source": [
    "В столбцах 'gender', 'children', 'dob_years' есть не допустимые значения."
   ]
  },
  {
   "cell_type": "code",
   "execution_count": 8,
   "metadata": {},
   "outputs": [
    {
     "data": {
      "text/plain": [
       "F      14236\n",
       "M       7288\n",
       "XNA        1\n",
       "Name: gender, dtype: int64"
      ]
     },
     "execution_count": 8,
     "metadata": {},
     "output_type": "execute_result"
    }
   ],
   "source": [
    "df['gender'].value_counts()"
   ]
  },
  {
   "cell_type": "markdown",
   "metadata": {},
   "source": [
    "В столбце \"пол\" есть лишнее значение, удалим его. "
   ]
  },
  {
   "cell_type": "code",
   "execution_count": 9,
   "metadata": {},
   "outputs": [],
   "source": [
    "df = df.drop(df[df['gender'] == 'XNA'].index)"
   ]
  },
  {
   "cell_type": "markdown",
   "metadata": {},
   "source": [
    "В столбце 'children' есть опечатки."
   ]
  },
  {
   "cell_type": "code",
   "execution_count": 10,
   "metadata": {},
   "outputs": [
    {
     "data": {
      "text/plain": [
       " 0     14148\n",
       " 1      4818\n",
       " 2      2055\n",
       " 3       330\n",
       " 20       76\n",
       "-1        47\n",
       " 4        41\n",
       " 5         9\n",
       "Name: children, dtype: int64"
      ]
     },
     "execution_count": 10,
     "metadata": {},
     "output_type": "execute_result"
    }
   ],
   "source": [
    "df['children'].value_counts()"
   ]
  },
  {
   "cell_type": "code",
   "execution_count": 11,
   "metadata": {},
   "outputs": [],
   "source": [
    "# Заменим -1 на 1, 20 на 2\n",
    "df['children'] = df['children'].replace(-1, 1)\n",
    "df['children'] = df['children'].replace(20, 2)"
   ]
  },
  {
   "cell_type": "markdown",
   "metadata": {},
   "source": [
    "<div class=\"alert alert-success\" style=\"border-radius: 15px; box-shadow: 4px 4px 4px; border: 1px solid \">\n",
    "<h2> Комментарий ревьюера</h2>\n",
    "    \n",
    "Ну да. Учитывая отсутствие клиентов с 6-19 детьми, а так же число 76, я склоняюсь к тому, что это ошибка. Скорее всего там либо 2, либо 20 это маркер пропущенного значения. </div>"
   ]
  },
  {
   "cell_type": "markdown",
   "metadata": {},
   "source": [
    "Столбец 'dob_years' имеет явно ошибочное значение \"0\", установить правильное значение нет возможности, поэтому удалим его. "
   ]
  },
  {
   "cell_type": "code",
   "execution_count": 12,
   "metadata": {},
   "outputs": [
    {
     "data": {
      "text/plain": [
       "35    617\n",
       "40    609\n",
       "41    607\n",
       "34    603\n",
       "38    598\n",
       "42    597\n",
       "33    581\n",
       "39    573\n",
       "31    560\n",
       "36    555\n",
       "44    547\n",
       "29    545\n",
       "30    540\n",
       "48    538\n",
       "37    537\n",
       "50    514\n",
       "43    513\n",
       "32    510\n",
       "49    508\n",
       "28    503\n",
       "45    497\n",
       "27    493\n",
       "56    487\n",
       "52    484\n",
       "47    480\n",
       "54    479\n",
       "46    475\n",
       "58    461\n",
       "57    460\n",
       "53    459\n",
       "51    448\n",
       "59    444\n",
       "55    443\n",
       "26    408\n",
       "60    377\n",
       "25    357\n",
       "61    355\n",
       "62    352\n",
       "63    269\n",
       "64    265\n",
       "24    263\n",
       "23    254\n",
       "65    194\n",
       "66    183\n",
       "22    183\n",
       "67    167\n",
       "21    111\n",
       "0     101\n",
       "68     99\n",
       "69     85\n",
       "70     65\n",
       "71     58\n",
       "20     51\n",
       "72     33\n",
       "19     14\n",
       "73      8\n",
       "74      6\n",
       "75      1\n",
       "Name: dob_years, dtype: int64"
      ]
     },
     "execution_count": 12,
     "metadata": {},
     "output_type": "execute_result"
    }
   ],
   "source": [
    "df['dob_years'].value_counts()"
   ]
  },
  {
   "cell_type": "markdown",
   "metadata": {},
   "source": [
    "<font color='blue'> Я изначально тоже сомневался, удалять или нет. Но с вами согласен 101 человек может добавить статистики. </font>  "
   ]
  },
  {
   "cell_type": "markdown",
   "metadata": {},
   "source": [
    "Для обработки пропусков: удалили столбец 'days_employed'; в столбце 'total_income' посчитали медианный доход по типу занятости; в столбцах 'gender', 'children', 'dob_years' удалили не допустимые значения."
   ]
  },
  {
   "cell_type": "markdown",
   "metadata": {},
   "source": [
    "<div class=\"alert alert-warning\" style=\"border-radius: 15px; box-shadow: 4px 4px 4px; border: 1px solid \">\n",
    "<h2> Комментарий ревьюера</h2>\n",
    "    \n",
    "А надо ли их удалять? Ну, нули и ладно. Не мешают же :)</div>"
   ]
  },
  {
   "cell_type": "markdown",
   "metadata": {},
   "source": [
    "### Замена типа данных"
   ]
  },
  {
   "cell_type": "markdown",
   "metadata": {},
   "source": [
    "Столбец 'total_income' имеет тип float64, переведем в тип int64. "
   ]
  },
  {
   "cell_type": "code",
   "execution_count": 13,
   "metadata": {
    "scrolled": true
   },
   "outputs": [],
   "source": [
    "df['total_income'] = df['total_income'].astype('int')"
   ]
  },
  {
   "cell_type": "code",
   "execution_count": 14,
   "metadata": {},
   "outputs": [
    {
     "data": {
      "text/html": [
       "<div>\n",
       "<style scoped>\n",
       "    .dataframe tbody tr th:only-of-type {\n",
       "        vertical-align: middle;\n",
       "    }\n",
       "\n",
       "    .dataframe tbody tr th {\n",
       "        vertical-align: top;\n",
       "    }\n",
       "\n",
       "    .dataframe thead th {\n",
       "        text-align: right;\n",
       "    }\n",
       "</style>\n",
       "<table border=\"1\" class=\"dataframe\">\n",
       "  <thead>\n",
       "    <tr style=\"text-align: right;\">\n",
       "      <th></th>\n",
       "      <th>children</th>\n",
       "      <th>dob_years</th>\n",
       "      <th>education</th>\n",
       "      <th>education_id</th>\n",
       "      <th>family_status</th>\n",
       "      <th>family_status_id</th>\n",
       "      <th>gender</th>\n",
       "      <th>income_type</th>\n",
       "      <th>debt</th>\n",
       "      <th>total_income</th>\n",
       "      <th>purpose</th>\n",
       "    </tr>\n",
       "  </thead>\n",
       "  <tbody>\n",
       "    <tr>\n",
       "      <td>0</td>\n",
       "      <td>1</td>\n",
       "      <td>42</td>\n",
       "      <td>высшее</td>\n",
       "      <td>0</td>\n",
       "      <td>женат / замужем</td>\n",
       "      <td>0</td>\n",
       "      <td>F</td>\n",
       "      <td>сотрудник</td>\n",
       "      <td>0</td>\n",
       "      <td>253875</td>\n",
       "      <td>покупка жилья</td>\n",
       "    </tr>\n",
       "    <tr>\n",
       "      <td>1</td>\n",
       "      <td>1</td>\n",
       "      <td>36</td>\n",
       "      <td>среднее</td>\n",
       "      <td>1</td>\n",
       "      <td>женат / замужем</td>\n",
       "      <td>0</td>\n",
       "      <td>F</td>\n",
       "      <td>сотрудник</td>\n",
       "      <td>0</td>\n",
       "      <td>112080</td>\n",
       "      <td>приобретение автомобиля</td>\n",
       "    </tr>\n",
       "    <tr>\n",
       "      <td>2</td>\n",
       "      <td>0</td>\n",
       "      <td>33</td>\n",
       "      <td>Среднее</td>\n",
       "      <td>1</td>\n",
       "      <td>женат / замужем</td>\n",
       "      <td>0</td>\n",
       "      <td>M</td>\n",
       "      <td>сотрудник</td>\n",
       "      <td>0</td>\n",
       "      <td>145885</td>\n",
       "      <td>покупка жилья</td>\n",
       "    </tr>\n",
       "    <tr>\n",
       "      <td>3</td>\n",
       "      <td>3</td>\n",
       "      <td>32</td>\n",
       "      <td>среднее</td>\n",
       "      <td>1</td>\n",
       "      <td>женат / замужем</td>\n",
       "      <td>0</td>\n",
       "      <td>M</td>\n",
       "      <td>сотрудник</td>\n",
       "      <td>0</td>\n",
       "      <td>267628</td>\n",
       "      <td>дополнительное образование</td>\n",
       "    </tr>\n",
       "    <tr>\n",
       "      <td>4</td>\n",
       "      <td>0</td>\n",
       "      <td>53</td>\n",
       "      <td>среднее</td>\n",
       "      <td>1</td>\n",
       "      <td>гражданский брак</td>\n",
       "      <td>1</td>\n",
       "      <td>F</td>\n",
       "      <td>пенсионер</td>\n",
       "      <td>0</td>\n",
       "      <td>158616</td>\n",
       "      <td>сыграть свадьбу</td>\n",
       "    </tr>\n",
       "    <tr>\n",
       "      <td>5</td>\n",
       "      <td>0</td>\n",
       "      <td>27</td>\n",
       "      <td>высшее</td>\n",
       "      <td>0</td>\n",
       "      <td>гражданский брак</td>\n",
       "      <td>1</td>\n",
       "      <td>M</td>\n",
       "      <td>компаньон</td>\n",
       "      <td>0</td>\n",
       "      <td>255763</td>\n",
       "      <td>покупка жилья</td>\n",
       "    </tr>\n",
       "    <tr>\n",
       "      <td>6</td>\n",
       "      <td>0</td>\n",
       "      <td>43</td>\n",
       "      <td>высшее</td>\n",
       "      <td>0</td>\n",
       "      <td>женат / замужем</td>\n",
       "      <td>0</td>\n",
       "      <td>F</td>\n",
       "      <td>компаньон</td>\n",
       "      <td>0</td>\n",
       "      <td>240525</td>\n",
       "      <td>операции с жильем</td>\n",
       "    </tr>\n",
       "    <tr>\n",
       "      <td>7</td>\n",
       "      <td>0</td>\n",
       "      <td>50</td>\n",
       "      <td>СРЕДНЕЕ</td>\n",
       "      <td>1</td>\n",
       "      <td>женат / замужем</td>\n",
       "      <td>0</td>\n",
       "      <td>M</td>\n",
       "      <td>сотрудник</td>\n",
       "      <td>0</td>\n",
       "      <td>135823</td>\n",
       "      <td>образование</td>\n",
       "    </tr>\n",
       "    <tr>\n",
       "      <td>8</td>\n",
       "      <td>2</td>\n",
       "      <td>35</td>\n",
       "      <td>ВЫСШЕЕ</td>\n",
       "      <td>0</td>\n",
       "      <td>гражданский брак</td>\n",
       "      <td>1</td>\n",
       "      <td>F</td>\n",
       "      <td>сотрудник</td>\n",
       "      <td>0</td>\n",
       "      <td>95856</td>\n",
       "      <td>на проведение свадьбы</td>\n",
       "    </tr>\n",
       "    <tr>\n",
       "      <td>9</td>\n",
       "      <td>0</td>\n",
       "      <td>41</td>\n",
       "      <td>среднее</td>\n",
       "      <td>1</td>\n",
       "      <td>женат / замужем</td>\n",
       "      <td>0</td>\n",
       "      <td>M</td>\n",
       "      <td>сотрудник</td>\n",
       "      <td>0</td>\n",
       "      <td>144425</td>\n",
       "      <td>покупка жилья для семьи</td>\n",
       "    </tr>\n",
       "    <tr>\n",
       "      <td>10</td>\n",
       "      <td>2</td>\n",
       "      <td>36</td>\n",
       "      <td>высшее</td>\n",
       "      <td>0</td>\n",
       "      <td>женат / замужем</td>\n",
       "      <td>0</td>\n",
       "      <td>M</td>\n",
       "      <td>компаньон</td>\n",
       "      <td>0</td>\n",
       "      <td>113943</td>\n",
       "      <td>покупка недвижимости</td>\n",
       "    </tr>\n",
       "    <tr>\n",
       "      <td>11</td>\n",
       "      <td>0</td>\n",
       "      <td>40</td>\n",
       "      <td>среднее</td>\n",
       "      <td>1</td>\n",
       "      <td>женат / замужем</td>\n",
       "      <td>0</td>\n",
       "      <td>F</td>\n",
       "      <td>сотрудник</td>\n",
       "      <td>0</td>\n",
       "      <td>77069</td>\n",
       "      <td>покупка коммерческой недвижимости</td>\n",
       "    </tr>\n",
       "    <tr>\n",
       "      <td>12</td>\n",
       "      <td>0</td>\n",
       "      <td>65</td>\n",
       "      <td>среднее</td>\n",
       "      <td>1</td>\n",
       "      <td>гражданский брак</td>\n",
       "      <td>1</td>\n",
       "      <td>M</td>\n",
       "      <td>пенсионер</td>\n",
       "      <td>0</td>\n",
       "      <td>118514</td>\n",
       "      <td>сыграть свадьбу</td>\n",
       "    </tr>\n",
       "    <tr>\n",
       "      <td>13</td>\n",
       "      <td>0</td>\n",
       "      <td>54</td>\n",
       "      <td>неоконченное высшее</td>\n",
       "      <td>2</td>\n",
       "      <td>женат / замужем</td>\n",
       "      <td>0</td>\n",
       "      <td>F</td>\n",
       "      <td>сотрудник</td>\n",
       "      <td>0</td>\n",
       "      <td>130458</td>\n",
       "      <td>приобретение автомобиля</td>\n",
       "    </tr>\n",
       "    <tr>\n",
       "      <td>14</td>\n",
       "      <td>0</td>\n",
       "      <td>56</td>\n",
       "      <td>высшее</td>\n",
       "      <td>0</td>\n",
       "      <td>гражданский брак</td>\n",
       "      <td>1</td>\n",
       "      <td>F</td>\n",
       "      <td>компаньон</td>\n",
       "      <td>1</td>\n",
       "      <td>165127</td>\n",
       "      <td>покупка жилой недвижимости</td>\n",
       "    </tr>\n",
       "  </tbody>\n",
       "</table>\n",
       "</div>"
      ],
      "text/plain": [
       "    children  dob_years            education  education_id     family_status  \\\n",
       "0          1         42               высшее             0   женат / замужем   \n",
       "1          1         36              среднее             1   женат / замужем   \n",
       "2          0         33              Среднее             1   женат / замужем   \n",
       "3          3         32              среднее             1   женат / замужем   \n",
       "4          0         53              среднее             1  гражданский брак   \n",
       "5          0         27               высшее             0  гражданский брак   \n",
       "6          0         43               высшее             0   женат / замужем   \n",
       "7          0         50              СРЕДНЕЕ             1   женат / замужем   \n",
       "8          2         35               ВЫСШЕЕ             0  гражданский брак   \n",
       "9          0         41              среднее             1   женат / замужем   \n",
       "10         2         36               высшее             0   женат / замужем   \n",
       "11         0         40              среднее             1   женат / замужем   \n",
       "12         0         65              среднее             1  гражданский брак   \n",
       "13         0         54  неоконченное высшее             2   женат / замужем   \n",
       "14         0         56               высшее             0  гражданский брак   \n",
       "\n",
       "    family_status_id gender income_type  debt  total_income  \\\n",
       "0                  0      F   сотрудник     0        253875   \n",
       "1                  0      F   сотрудник     0        112080   \n",
       "2                  0      M   сотрудник     0        145885   \n",
       "3                  0      M   сотрудник     0        267628   \n",
       "4                  1      F   пенсионер     0        158616   \n",
       "5                  1      M   компаньон     0        255763   \n",
       "6                  0      F   компаньон     0        240525   \n",
       "7                  0      M   сотрудник     0        135823   \n",
       "8                  1      F   сотрудник     0         95856   \n",
       "9                  0      M   сотрудник     0        144425   \n",
       "10                 0      M   компаньон     0        113943   \n",
       "11                 0      F   сотрудник     0         77069   \n",
       "12                 1      M   пенсионер     0        118514   \n",
       "13                 0      F   сотрудник     0        130458   \n",
       "14                 1      F   компаньон     1        165127   \n",
       "\n",
       "                              purpose  \n",
       "0                       покупка жилья  \n",
       "1             приобретение автомобиля  \n",
       "2                       покупка жилья  \n",
       "3          дополнительное образование  \n",
       "4                     сыграть свадьбу  \n",
       "5                       покупка жилья  \n",
       "6                   операции с жильем  \n",
       "7                         образование  \n",
       "8               на проведение свадьбы  \n",
       "9             покупка жилья для семьи  \n",
       "10               покупка недвижимости  \n",
       "11  покупка коммерческой недвижимости  \n",
       "12                    сыграть свадьбу  \n",
       "13            приобретение автомобиля  \n",
       "14         покупка жилой недвижимости  "
      ]
     },
     "execution_count": 14,
     "metadata": {},
     "output_type": "execute_result"
    }
   ],
   "source": [
    "df.head(15)"
   ]
  },
  {
   "cell_type": "markdown",
   "metadata": {},
   "source": [
    "Чтобы получить более читаемый вид, изменили тип 'total_income' с float на int."
   ]
  },
  {
   "cell_type": "markdown",
   "metadata": {},
   "source": [
    "### Обработка дубликатов"
   ]
  },
  {
   "cell_type": "markdown",
   "metadata": {},
   "source": [
    "Проверяем количество дубликатов"
   ]
  },
  {
   "cell_type": "code",
   "execution_count": 15,
   "metadata": {},
   "outputs": [
    {
     "data": {
      "text/plain": [
       "54"
      ]
     },
     "execution_count": 15,
     "metadata": {},
     "output_type": "execute_result"
    }
   ],
   "source": [
    "df.duplicated().sum()"
   ]
  },
  {
   "cell_type": "markdown",
   "metadata": {},
   "source": [
    "Проверяем уникальные значения в столбцах. "
   ]
  },
  {
   "cell_type": "code",
   "execution_count": 16,
   "metadata": {},
   "outputs": [
    {
     "data": {
      "text/plain": [
       "array(['высшее', 'среднее', 'Среднее', 'СРЕДНЕЕ', 'ВЫСШЕЕ',\n",
       "       'неоконченное высшее', 'начальное', 'Высшее',\n",
       "       'НЕОКОНЧЕННОЕ ВЫСШЕЕ', 'Неоконченное высшее', 'НАЧАЛЬНОЕ',\n",
       "       'Начальное', 'Ученая степень', 'УЧЕНАЯ СТЕПЕНЬ', 'ученая степень'],\n",
       "      dtype=object)"
      ]
     },
     "execution_count": 16,
     "metadata": {},
     "output_type": "execute_result"
    }
   ],
   "source": [
    "df['education'].unique()"
   ]
  },
  {
   "cell_type": "markdown",
   "metadata": {},
   "source": [
    "Приводим стоки 'education' к одному регистру."
   ]
  },
  {
   "cell_type": "code",
   "execution_count": 17,
   "metadata": {},
   "outputs": [
    {
     "data": {
      "text/plain": [
       "среднее                15233\n",
       "высшее                  5260\n",
       "неоконченное высшее      743\n",
       "начальное                282\n",
       "ученая степень             6\n",
       "Name: education, dtype: int64"
      ]
     },
     "execution_count": 17,
     "metadata": {},
     "output_type": "execute_result"
    }
   ],
   "source": [
    "df['education'] = df['education'].str.lower()\n",
    "df['education'].value_counts()"
   ]
  },
  {
   "cell_type": "markdown",
   "metadata": {},
   "source": [
    "Удаляем дубликаты"
   ]
  },
  {
   "cell_type": "code",
   "execution_count": 18,
   "metadata": {},
   "outputs": [],
   "source": [
    "df = df.drop_duplicates().reset_index(drop=True)"
   ]
  },
  {
   "cell_type": "markdown",
   "metadata": {},
   "source": [
    "<div class=\"alert alert-success\" style=\"border-radius: 15px; box-shadow: 4px 4px 4px; border: 1px solid \">\n",
    "<h2> Комментарий ревьюера</h2>\n",
    "    \n",
    "Поскольку у нас нет уникальных идентификаторов пользователей, полные дубликаты вполне могут быть разными людьми. А вот дубликаты записей в столбцах вроде **Среднее** образование и **среднее** образование удалить надо было (путем приведения к одному регистру), это верно. </div>"
   ]
  },
  {
   "cell_type": "code",
   "execution_count": 19,
   "metadata": {},
   "outputs": [
    {
     "data": {
      "text/plain": [
       "0"
      ]
     },
     "execution_count": 19,
     "metadata": {},
     "output_type": "execute_result"
    }
   ],
   "source": [
    "df.duplicated().sum()"
   ]
  },
  {
   "cell_type": "markdown",
   "metadata": {},
   "source": [
    "В столбце 'education' названия категорий имеели разный регист записи. "
   ]
  },
  {
   "cell_type": "markdown",
   "metadata": {},
   "source": [
    "### Лемматизация"
   ]
  },
  {
   "cell_type": "markdown",
   "metadata": {},
   "source": [
    "В столбце 'purpose' цели кредита целые предложения, сокротим для лучшей читаемости."
   ]
  },
  {
   "cell_type": "markdown",
   "metadata": {},
   "source": [
    "Импортируем библиатеку pymystem3"
   ]
  },
  {
   "cell_type": "code",
   "execution_count": 20,
   "metadata": {},
   "outputs": [],
   "source": [
    "from pymystem3 import Mystem\n",
    "m = Mystem()                # присваеваем m функцию Mystem()"
   ]
  },
  {
   "cell_type": "markdown",
   "metadata": {},
   "source": [
    "Посмотрим на какие цели берут кредит."
   ]
  },
  {
   "cell_type": "code",
   "execution_count": 21,
   "metadata": {},
   "outputs": [
    {
     "data": {
      "text/plain": [
       "свадьба                                   791\n",
       "на проведение свадьбы                     768\n",
       "сыграть свадьбу                           765\n",
       "операции с недвижимостью                  675\n",
       "покупка коммерческой недвижимости         661\n",
       "операции с жильем                         652\n",
       "покупка жилья для сдачи                   651\n",
       "операции с коммерческой недвижимостью     650\n",
       "жилье                                     646\n",
       "покупка жилья                             646\n",
       "покупка жилья для семьи                   638\n",
       "строительство собственной недвижимости    635\n",
       "недвижимость                              633\n",
       "операции со своей недвижимостью           627\n",
       "строительство жилой недвижимости          624\n",
       "покупка недвижимости                      620\n",
       "покупка своего жилья                      620\n",
       "строительство недвижимости                619\n",
       "ремонт жилью                              607\n",
       "покупка жилой недвижимости                606\n",
       "на покупку своего автомобиля              505\n",
       "заняться высшим образованием              496\n",
       "автомобиль                                494\n",
       "сделка с подержанным автомобилем          486\n",
       "свой автомобиль                           478\n",
       "автомобили                                478\n",
       "на покупку подержанного автомобиля        478\n",
       "на покупку автомобиля                     471\n",
       "приобретение автомобиля                   461\n",
       "дополнительное образование                460\n",
       "сделка с автомобилем                      455\n",
       "высшее образование                        452\n",
       "образование                               447\n",
       "получение дополнительного образования     446\n",
       "получение образования                     442\n",
       "профильное образование                    436\n",
       "получение высшего образования             426\n",
       "заняться образованием                     408\n",
       "Name: purpose, dtype: int64"
      ]
     },
     "execution_count": 21,
     "metadata": {},
     "output_type": "execute_result"
    }
   ],
   "source": [
    "df['purpose'].value_counts() "
   ]
  },
  {
   "cell_type": "markdown",
   "metadata": {},
   "source": [
    "Из общего списка целей выделяем ключевые слова: жилье, недвижимость, свадьба, автомобиль, образование. "
   ]
  },
  {
   "cell_type": "markdown",
   "metadata": {},
   "source": [
    "<div class=\"alert alert-success\" style=\"border-radius: 15px; box-shadow: 4px 4px 4px; border: 1px solid \">\n",
    "<h2> Комментарий ревьюера</h2>\n",
    "    \n",
    "Согласна.</div>"
   ]
  },
  {
   "cell_type": "markdown",
   "metadata": {},
   "source": [
    "Напишем функцию для поиска ключевого слова в строке столбца 'purpose'."
   ]
  },
  {
   "cell_type": "code",
   "execution_count": 22,
   "metadata": {},
   "outputs": [],
   "source": [
    "def lemmas(purpose):\n",
    "    lemma = m.lemmatize(purpose)\n",
    "    if ('жилье' in lemma) or ('недвижимость' in lemma):\n",
    "        find_lemmas = 'жилье'\n",
    "        return find_lemmas\n",
    "    elif 'свадьба' in lemma:\n",
    "        find_lemmas = 'свадьба'\n",
    "        return find_lemmas\n",
    "    elif 'автомобиль' in lemma:\n",
    "        find_lemmas = 'автомобиль'\n",
    "        return find_lemmas\n",
    "    elif 'образование' in lemma:\n",
    "        find_lemmas = 'образование'\n",
    "        return find_lemmas"
   ]
  },
  {
   "cell_type": "markdown",
   "metadata": {},
   "source": [
    "Присвоим соответсвующим предложениям короткие значения в столбце 'purpose'"
   ]
  },
  {
   "cell_type": "code",
   "execution_count": 23,
   "metadata": {},
   "outputs": [
    {
     "data": {
      "text/html": [
       "<div>\n",
       "<style scoped>\n",
       "    .dataframe tbody tr th:only-of-type {\n",
       "        vertical-align: middle;\n",
       "    }\n",
       "\n",
       "    .dataframe tbody tr th {\n",
       "        vertical-align: top;\n",
       "    }\n",
       "\n",
       "    .dataframe thead th {\n",
       "        text-align: right;\n",
       "    }\n",
       "</style>\n",
       "<table border=\"1\" class=\"dataframe\">\n",
       "  <thead>\n",
       "    <tr style=\"text-align: right;\">\n",
       "      <th></th>\n",
       "      <th>children</th>\n",
       "      <th>dob_years</th>\n",
       "      <th>education</th>\n",
       "      <th>education_id</th>\n",
       "      <th>family_status</th>\n",
       "      <th>family_status_id</th>\n",
       "      <th>gender</th>\n",
       "      <th>income_type</th>\n",
       "      <th>debt</th>\n",
       "      <th>total_income</th>\n",
       "      <th>purpose</th>\n",
       "    </tr>\n",
       "  </thead>\n",
       "  <tbody>\n",
       "    <tr>\n",
       "      <td>0</td>\n",
       "      <td>1</td>\n",
       "      <td>42</td>\n",
       "      <td>высшее</td>\n",
       "      <td>0</td>\n",
       "      <td>женат / замужем</td>\n",
       "      <td>0</td>\n",
       "      <td>F</td>\n",
       "      <td>сотрудник</td>\n",
       "      <td>0</td>\n",
       "      <td>253875</td>\n",
       "      <td>жилье</td>\n",
       "    </tr>\n",
       "    <tr>\n",
       "      <td>1</td>\n",
       "      <td>1</td>\n",
       "      <td>36</td>\n",
       "      <td>среднее</td>\n",
       "      <td>1</td>\n",
       "      <td>женат / замужем</td>\n",
       "      <td>0</td>\n",
       "      <td>F</td>\n",
       "      <td>сотрудник</td>\n",
       "      <td>0</td>\n",
       "      <td>112080</td>\n",
       "      <td>автомобиль</td>\n",
       "    </tr>\n",
       "    <tr>\n",
       "      <td>2</td>\n",
       "      <td>0</td>\n",
       "      <td>33</td>\n",
       "      <td>среднее</td>\n",
       "      <td>1</td>\n",
       "      <td>женат / замужем</td>\n",
       "      <td>0</td>\n",
       "      <td>M</td>\n",
       "      <td>сотрудник</td>\n",
       "      <td>0</td>\n",
       "      <td>145885</td>\n",
       "      <td>жилье</td>\n",
       "    </tr>\n",
       "    <tr>\n",
       "      <td>3</td>\n",
       "      <td>3</td>\n",
       "      <td>32</td>\n",
       "      <td>среднее</td>\n",
       "      <td>1</td>\n",
       "      <td>женат / замужем</td>\n",
       "      <td>0</td>\n",
       "      <td>M</td>\n",
       "      <td>сотрудник</td>\n",
       "      <td>0</td>\n",
       "      <td>267628</td>\n",
       "      <td>образование</td>\n",
       "    </tr>\n",
       "    <tr>\n",
       "      <td>4</td>\n",
       "      <td>0</td>\n",
       "      <td>53</td>\n",
       "      <td>среднее</td>\n",
       "      <td>1</td>\n",
       "      <td>гражданский брак</td>\n",
       "      <td>1</td>\n",
       "      <td>F</td>\n",
       "      <td>пенсионер</td>\n",
       "      <td>0</td>\n",
       "      <td>158616</td>\n",
       "      <td>свадьба</td>\n",
       "    </tr>\n",
       "    <tr>\n",
       "      <td>5</td>\n",
       "      <td>0</td>\n",
       "      <td>27</td>\n",
       "      <td>высшее</td>\n",
       "      <td>0</td>\n",
       "      <td>гражданский брак</td>\n",
       "      <td>1</td>\n",
       "      <td>M</td>\n",
       "      <td>компаньон</td>\n",
       "      <td>0</td>\n",
       "      <td>255763</td>\n",
       "      <td>жилье</td>\n",
       "    </tr>\n",
       "    <tr>\n",
       "      <td>6</td>\n",
       "      <td>0</td>\n",
       "      <td>43</td>\n",
       "      <td>высшее</td>\n",
       "      <td>0</td>\n",
       "      <td>женат / замужем</td>\n",
       "      <td>0</td>\n",
       "      <td>F</td>\n",
       "      <td>компаньон</td>\n",
       "      <td>0</td>\n",
       "      <td>240525</td>\n",
       "      <td>жилье</td>\n",
       "    </tr>\n",
       "    <tr>\n",
       "      <td>7</td>\n",
       "      <td>0</td>\n",
       "      <td>50</td>\n",
       "      <td>среднее</td>\n",
       "      <td>1</td>\n",
       "      <td>женат / замужем</td>\n",
       "      <td>0</td>\n",
       "      <td>M</td>\n",
       "      <td>сотрудник</td>\n",
       "      <td>0</td>\n",
       "      <td>135823</td>\n",
       "      <td>образование</td>\n",
       "    </tr>\n",
       "    <tr>\n",
       "      <td>8</td>\n",
       "      <td>2</td>\n",
       "      <td>35</td>\n",
       "      <td>высшее</td>\n",
       "      <td>0</td>\n",
       "      <td>гражданский брак</td>\n",
       "      <td>1</td>\n",
       "      <td>F</td>\n",
       "      <td>сотрудник</td>\n",
       "      <td>0</td>\n",
       "      <td>95856</td>\n",
       "      <td>свадьба</td>\n",
       "    </tr>\n",
       "    <tr>\n",
       "      <td>9</td>\n",
       "      <td>0</td>\n",
       "      <td>41</td>\n",
       "      <td>среднее</td>\n",
       "      <td>1</td>\n",
       "      <td>женат / замужем</td>\n",
       "      <td>0</td>\n",
       "      <td>M</td>\n",
       "      <td>сотрудник</td>\n",
       "      <td>0</td>\n",
       "      <td>144425</td>\n",
       "      <td>жилье</td>\n",
       "    </tr>\n",
       "  </tbody>\n",
       "</table>\n",
       "</div>"
      ],
      "text/plain": [
       "   children  dob_years education  education_id     family_status  \\\n",
       "0         1         42    высшее             0   женат / замужем   \n",
       "1         1         36   среднее             1   женат / замужем   \n",
       "2         0         33   среднее             1   женат / замужем   \n",
       "3         3         32   среднее             1   женат / замужем   \n",
       "4         0         53   среднее             1  гражданский брак   \n",
       "5         0         27    высшее             0  гражданский брак   \n",
       "6         0         43    высшее             0   женат / замужем   \n",
       "7         0         50   среднее             1   женат / замужем   \n",
       "8         2         35    высшее             0  гражданский брак   \n",
       "9         0         41   среднее             1   женат / замужем   \n",
       "\n",
       "   family_status_id gender income_type  debt  total_income      purpose  \n",
       "0                 0      F   сотрудник     0        253875        жилье  \n",
       "1                 0      F   сотрудник     0        112080   автомобиль  \n",
       "2                 0      M   сотрудник     0        145885        жилье  \n",
       "3                 0      M   сотрудник     0        267628  образование  \n",
       "4                 1      F   пенсионер     0        158616      свадьба  \n",
       "5                 1      M   компаньон     0        255763        жилье  \n",
       "6                 0      F   компаньон     0        240525        жилье  \n",
       "7                 0      M   сотрудник     0        135823  образование  \n",
       "8                 1      F   сотрудник     0         95856      свадьба  \n",
       "9                 0      M   сотрудник     0        144425        жилье  "
      ]
     },
     "execution_count": 23,
     "metadata": {},
     "output_type": "execute_result"
    }
   ],
   "source": [
    "purpose_lemma = df['purpose'].apply(lemmas)\n",
    "df['purpose'] = purpose_lemma\n",
    "df.head(10)"
   ]
  },
  {
   "cell_type": "markdown",
   "metadata": {},
   "source": [
    "Получили более читаемую таблицу."
   ]
  },
  {
   "cell_type": "markdown",
   "metadata": {},
   "source": [
    "### Категоризация данных"
   ]
  },
  {
   "cell_type": "markdown",
   "metadata": {},
   "source": [
    "Добавим две категории по возросту и доходам."
   ]
  },
  {
   "cell_type": "code",
   "execution_count": 24,
   "metadata": {},
   "outputs": [
    {
     "data": {
      "text/html": [
       "<div>\n",
       "<style scoped>\n",
       "    .dataframe tbody tr th:only-of-type {\n",
       "        vertical-align: middle;\n",
       "    }\n",
       "\n",
       "    .dataframe tbody tr th {\n",
       "        vertical-align: top;\n",
       "    }\n",
       "\n",
       "    .dataframe thead th {\n",
       "        text-align: right;\n",
       "    }\n",
       "</style>\n",
       "<table border=\"1\" class=\"dataframe\">\n",
       "  <thead>\n",
       "    <tr style=\"text-align: right;\">\n",
       "      <th></th>\n",
       "      <th>children</th>\n",
       "      <th>dob_years</th>\n",
       "      <th>education</th>\n",
       "      <th>education_id</th>\n",
       "      <th>family_status</th>\n",
       "      <th>family_status_id</th>\n",
       "      <th>gender</th>\n",
       "      <th>income_type</th>\n",
       "      <th>debt</th>\n",
       "      <th>total_income</th>\n",
       "      <th>purpose</th>\n",
       "    </tr>\n",
       "  </thead>\n",
       "  <tbody>\n",
       "    <tr>\n",
       "      <td>1890</td>\n",
       "      <td>0</td>\n",
       "      <td>0</td>\n",
       "      <td>высшее</td>\n",
       "      <td>0</td>\n",
       "      <td>Не женат / не замужем</td>\n",
       "      <td>4</td>\n",
       "      <td>F</td>\n",
       "      <td>сотрудник</td>\n",
       "      <td>0</td>\n",
       "      <td>142594</td>\n",
       "      <td>жилье</td>\n",
       "    </tr>\n",
       "    <tr>\n",
       "      <td>19769</td>\n",
       "      <td>0</td>\n",
       "      <td>0</td>\n",
       "      <td>среднее</td>\n",
       "      <td>1</td>\n",
       "      <td>женат / замужем</td>\n",
       "      <td>0</td>\n",
       "      <td>F</td>\n",
       "      <td>сотрудник</td>\n",
       "      <td>0</td>\n",
       "      <td>142594</td>\n",
       "      <td>жилье</td>\n",
       "    </tr>\n",
       "    <tr>\n",
       "      <td>13398</td>\n",
       "      <td>1</td>\n",
       "      <td>0</td>\n",
       "      <td>высшее</td>\n",
       "      <td>0</td>\n",
       "      <td>гражданский брак</td>\n",
       "      <td>1</td>\n",
       "      <td>F</td>\n",
       "      <td>сотрудник</td>\n",
       "      <td>0</td>\n",
       "      <td>91924</td>\n",
       "      <td>свадьба</td>\n",
       "    </tr>\n",
       "    <tr>\n",
       "      <td>13207</td>\n",
       "      <td>0</td>\n",
       "      <td>0</td>\n",
       "      <td>высшее</td>\n",
       "      <td>0</td>\n",
       "      <td>женат / замужем</td>\n",
       "      <td>0</td>\n",
       "      <td>M</td>\n",
       "      <td>сотрудник</td>\n",
       "      <td>0</td>\n",
       "      <td>131782</td>\n",
       "      <td>образование</td>\n",
       "    </tr>\n",
       "    <tr>\n",
       "      <td>11644</td>\n",
       "      <td>0</td>\n",
       "      <td>0</td>\n",
       "      <td>среднее</td>\n",
       "      <td>1</td>\n",
       "      <td>женат / замужем</td>\n",
       "      <td>0</td>\n",
       "      <td>F</td>\n",
       "      <td>компаньон</td>\n",
       "      <td>0</td>\n",
       "      <td>73338</td>\n",
       "      <td>образование</td>\n",
       "    </tr>\n",
       "    <tr>\n",
       "      <td>...</td>\n",
       "      <td>...</td>\n",
       "      <td>...</td>\n",
       "      <td>...</td>\n",
       "      <td>...</td>\n",
       "      <td>...</td>\n",
       "      <td>...</td>\n",
       "      <td>...</td>\n",
       "      <td>...</td>\n",
       "      <td>...</td>\n",
       "      <td>...</td>\n",
       "      <td>...</td>\n",
       "    </tr>\n",
       "    <tr>\n",
       "      <td>4891</td>\n",
       "      <td>0</td>\n",
       "      <td>74</td>\n",
       "      <td>высшее</td>\n",
       "      <td>0</td>\n",
       "      <td>женат / замужем</td>\n",
       "      <td>0</td>\n",
       "      <td>F</td>\n",
       "      <td>пенсионер</td>\n",
       "      <td>0</td>\n",
       "      <td>134935</td>\n",
       "      <td>жилье</td>\n",
       "    </tr>\n",
       "    <tr>\n",
       "      <td>12296</td>\n",
       "      <td>0</td>\n",
       "      <td>74</td>\n",
       "      <td>среднее</td>\n",
       "      <td>1</td>\n",
       "      <td>женат / замужем</td>\n",
       "      <td>0</td>\n",
       "      <td>M</td>\n",
       "      <td>компаньон</td>\n",
       "      <td>0</td>\n",
       "      <td>124830</td>\n",
       "      <td>жилье</td>\n",
       "    </tr>\n",
       "    <tr>\n",
       "      <td>3458</td>\n",
       "      <td>0</td>\n",
       "      <td>74</td>\n",
       "      <td>среднее</td>\n",
       "      <td>1</td>\n",
       "      <td>женат / замужем</td>\n",
       "      <td>0</td>\n",
       "      <td>M</td>\n",
       "      <td>пенсионер</td>\n",
       "      <td>0</td>\n",
       "      <td>54754</td>\n",
       "      <td>жилье</td>\n",
       "    </tr>\n",
       "    <tr>\n",
       "      <td>11512</td>\n",
       "      <td>0</td>\n",
       "      <td>74</td>\n",
       "      <td>среднее</td>\n",
       "      <td>1</td>\n",
       "      <td>гражданский брак</td>\n",
       "      <td>1</td>\n",
       "      <td>F</td>\n",
       "      <td>сотрудник</td>\n",
       "      <td>0</td>\n",
       "      <td>98945</td>\n",
       "      <td>свадьба</td>\n",
       "    </tr>\n",
       "    <tr>\n",
       "      <td>8870</td>\n",
       "      <td>0</td>\n",
       "      <td>75</td>\n",
       "      <td>среднее</td>\n",
       "      <td>1</td>\n",
       "      <td>вдовец / вдова</td>\n",
       "      <td>2</td>\n",
       "      <td>F</td>\n",
       "      <td>госслужащий</td>\n",
       "      <td>0</td>\n",
       "      <td>153282</td>\n",
       "      <td>образование</td>\n",
       "    </tr>\n",
       "  </tbody>\n",
       "</table>\n",
       "<p>21453 rows × 11 columns</p>\n",
       "</div>"
      ],
      "text/plain": [
       "       children  dob_years education  education_id          family_status  \\\n",
       "1890          0          0    высшее             0  Не женат / не замужем   \n",
       "19769         0          0   среднее             1        женат / замужем   \n",
       "13398         1          0    высшее             0       гражданский брак   \n",
       "13207         0          0    высшее             0        женат / замужем   \n",
       "11644         0          0   среднее             1        женат / замужем   \n",
       "...         ...        ...       ...           ...                    ...   \n",
       "4891          0         74    высшее             0        женат / замужем   \n",
       "12296         0         74   среднее             1        женат / замужем   \n",
       "3458          0         74   среднее             1        женат / замужем   \n",
       "11512         0         74   среднее             1       гражданский брак   \n",
       "8870          0         75   среднее             1         вдовец / вдова   \n",
       "\n",
       "       family_status_id gender  income_type  debt  total_income      purpose  \n",
       "1890                  4      F    сотрудник     0        142594        жилье  \n",
       "19769                 0      F    сотрудник     0        142594        жилье  \n",
       "13398                 1      F    сотрудник     0         91924      свадьба  \n",
       "13207                 0      M    сотрудник     0        131782  образование  \n",
       "11644                 0      F    компаньон     0         73338  образование  \n",
       "...                 ...    ...          ...   ...           ...          ...  \n",
       "4891                  0      F    пенсионер     0        134935        жилье  \n",
       "12296                 0      M    компаньон     0        124830        жилье  \n",
       "3458                  0      M    пенсионер     0         54754        жилье  \n",
       "11512                 1      F    сотрудник     0         98945      свадьба  \n",
       "8870                  2      F  госслужащий     0        153282  образование  \n",
       "\n",
       "[21453 rows x 11 columns]"
      ]
     },
     "execution_count": 24,
     "metadata": {},
     "output_type": "execute_result"
    }
   ],
   "source": [
    "# Сортируем таблицу по возросту\n",
    "df.sort_values('dob_years')"
   ]
  },
  {
   "cell_type": "markdown",
   "metadata": {},
   "source": [
    "Возрост от 19 до 75 лет. Разделим на 3 возростные группы."
   ]
  },
  {
   "cell_type": "code",
   "execution_count": 25,
   "metadata": {},
   "outputs": [],
   "source": [
    "def dob_years_grouped(age):\n",
    "    if 19 <= age <= 35: return 'молодые'\n",
    "    elif 36 < age < 59: return 'взрослые'\n",
    "    return 'пенсионеры'"
   ]
  },
  {
   "cell_type": "code",
   "execution_count": 26,
   "metadata": {},
   "outputs": [
    {
     "data": {
      "text/html": [
       "<div>\n",
       "<style scoped>\n",
       "    .dataframe tbody tr th:only-of-type {\n",
       "        vertical-align: middle;\n",
       "    }\n",
       "\n",
       "    .dataframe tbody tr th {\n",
       "        vertical-align: top;\n",
       "    }\n",
       "\n",
       "    .dataframe thead th {\n",
       "        text-align: right;\n",
       "    }\n",
       "</style>\n",
       "<table border=\"1\" class=\"dataframe\">\n",
       "  <thead>\n",
       "    <tr style=\"text-align: right;\">\n",
       "      <th></th>\n",
       "      <th>children</th>\n",
       "      <th>dob_years</th>\n",
       "      <th>education</th>\n",
       "      <th>education_id</th>\n",
       "      <th>family_status</th>\n",
       "      <th>family_status_id</th>\n",
       "      <th>gender</th>\n",
       "      <th>income_type</th>\n",
       "      <th>debt</th>\n",
       "      <th>total_income</th>\n",
       "      <th>purpose</th>\n",
       "    </tr>\n",
       "  </thead>\n",
       "  <tbody>\n",
       "    <tr>\n",
       "      <td>0</td>\n",
       "      <td>1</td>\n",
       "      <td>взрослые</td>\n",
       "      <td>высшее</td>\n",
       "      <td>0</td>\n",
       "      <td>женат / замужем</td>\n",
       "      <td>0</td>\n",
       "      <td>F</td>\n",
       "      <td>сотрудник</td>\n",
       "      <td>0</td>\n",
       "      <td>253875</td>\n",
       "      <td>жилье</td>\n",
       "    </tr>\n",
       "    <tr>\n",
       "      <td>1</td>\n",
       "      <td>1</td>\n",
       "      <td>пенсионеры</td>\n",
       "      <td>среднее</td>\n",
       "      <td>1</td>\n",
       "      <td>женат / замужем</td>\n",
       "      <td>0</td>\n",
       "      <td>F</td>\n",
       "      <td>сотрудник</td>\n",
       "      <td>0</td>\n",
       "      <td>112080</td>\n",
       "      <td>автомобиль</td>\n",
       "    </tr>\n",
       "    <tr>\n",
       "      <td>2</td>\n",
       "      <td>0</td>\n",
       "      <td>молодые</td>\n",
       "      <td>среднее</td>\n",
       "      <td>1</td>\n",
       "      <td>женат / замужем</td>\n",
       "      <td>0</td>\n",
       "      <td>M</td>\n",
       "      <td>сотрудник</td>\n",
       "      <td>0</td>\n",
       "      <td>145885</td>\n",
       "      <td>жилье</td>\n",
       "    </tr>\n",
       "    <tr>\n",
       "      <td>3</td>\n",
       "      <td>3</td>\n",
       "      <td>молодые</td>\n",
       "      <td>среднее</td>\n",
       "      <td>1</td>\n",
       "      <td>женат / замужем</td>\n",
       "      <td>0</td>\n",
       "      <td>M</td>\n",
       "      <td>сотрудник</td>\n",
       "      <td>0</td>\n",
       "      <td>267628</td>\n",
       "      <td>образование</td>\n",
       "    </tr>\n",
       "    <tr>\n",
       "      <td>4</td>\n",
       "      <td>0</td>\n",
       "      <td>взрослые</td>\n",
       "      <td>среднее</td>\n",
       "      <td>1</td>\n",
       "      <td>гражданский брак</td>\n",
       "      <td>1</td>\n",
       "      <td>F</td>\n",
       "      <td>пенсионер</td>\n",
       "      <td>0</td>\n",
       "      <td>158616</td>\n",
       "      <td>свадьба</td>\n",
       "    </tr>\n",
       "    <tr>\n",
       "      <td>...</td>\n",
       "      <td>...</td>\n",
       "      <td>...</td>\n",
       "      <td>...</td>\n",
       "      <td>...</td>\n",
       "      <td>...</td>\n",
       "      <td>...</td>\n",
       "      <td>...</td>\n",
       "      <td>...</td>\n",
       "      <td>...</td>\n",
       "      <td>...</td>\n",
       "      <td>...</td>\n",
       "    </tr>\n",
       "    <tr>\n",
       "      <td>21448</td>\n",
       "      <td>1</td>\n",
       "      <td>взрослые</td>\n",
       "      <td>среднее</td>\n",
       "      <td>1</td>\n",
       "      <td>гражданский брак</td>\n",
       "      <td>1</td>\n",
       "      <td>F</td>\n",
       "      <td>компаньон</td>\n",
       "      <td>0</td>\n",
       "      <td>224791</td>\n",
       "      <td>жилье</td>\n",
       "    </tr>\n",
       "    <tr>\n",
       "      <td>21449</td>\n",
       "      <td>0</td>\n",
       "      <td>пенсионеры</td>\n",
       "      <td>среднее</td>\n",
       "      <td>1</td>\n",
       "      <td>женат / замужем</td>\n",
       "      <td>0</td>\n",
       "      <td>F</td>\n",
       "      <td>пенсионер</td>\n",
       "      <td>0</td>\n",
       "      <td>155999</td>\n",
       "      <td>автомобиль</td>\n",
       "    </tr>\n",
       "    <tr>\n",
       "      <td>21450</td>\n",
       "      <td>1</td>\n",
       "      <td>взрослые</td>\n",
       "      <td>среднее</td>\n",
       "      <td>1</td>\n",
       "      <td>гражданский брак</td>\n",
       "      <td>1</td>\n",
       "      <td>M</td>\n",
       "      <td>сотрудник</td>\n",
       "      <td>1</td>\n",
       "      <td>89672</td>\n",
       "      <td>жилье</td>\n",
       "    </tr>\n",
       "    <tr>\n",
       "      <td>21451</td>\n",
       "      <td>3</td>\n",
       "      <td>взрослые</td>\n",
       "      <td>среднее</td>\n",
       "      <td>1</td>\n",
       "      <td>женат / замужем</td>\n",
       "      <td>0</td>\n",
       "      <td>M</td>\n",
       "      <td>сотрудник</td>\n",
       "      <td>1</td>\n",
       "      <td>244093</td>\n",
       "      <td>автомобиль</td>\n",
       "    </tr>\n",
       "    <tr>\n",
       "      <td>21452</td>\n",
       "      <td>2</td>\n",
       "      <td>взрослые</td>\n",
       "      <td>среднее</td>\n",
       "      <td>1</td>\n",
       "      <td>женат / замужем</td>\n",
       "      <td>0</td>\n",
       "      <td>F</td>\n",
       "      <td>сотрудник</td>\n",
       "      <td>0</td>\n",
       "      <td>82047</td>\n",
       "      <td>автомобиль</td>\n",
       "    </tr>\n",
       "  </tbody>\n",
       "</table>\n",
       "<p>21453 rows × 11 columns</p>\n",
       "</div>"
      ],
      "text/plain": [
       "       children   dob_years education  education_id     family_status  \\\n",
       "0             1    взрослые    высшее             0   женат / замужем   \n",
       "1             1  пенсионеры   среднее             1   женат / замужем   \n",
       "2             0     молодые   среднее             1   женат / замужем   \n",
       "3             3     молодые   среднее             1   женат / замужем   \n",
       "4             0    взрослые   среднее             1  гражданский брак   \n",
       "...         ...         ...       ...           ...               ...   \n",
       "21448         1    взрослые   среднее             1  гражданский брак   \n",
       "21449         0  пенсионеры   среднее             1   женат / замужем   \n",
       "21450         1    взрослые   среднее             1  гражданский брак   \n",
       "21451         3    взрослые   среднее             1   женат / замужем   \n",
       "21452         2    взрослые   среднее             1   женат / замужем   \n",
       "\n",
       "       family_status_id gender income_type  debt  total_income      purpose  \n",
       "0                     0      F   сотрудник     0        253875        жилье  \n",
       "1                     0      F   сотрудник     0        112080   автомобиль  \n",
       "2                     0      M   сотрудник     0        145885        жилье  \n",
       "3                     0      M   сотрудник     0        267628  образование  \n",
       "4                     1      F   пенсионер     0        158616      свадьба  \n",
       "...                 ...    ...         ...   ...           ...          ...  \n",
       "21448                 1      F   компаньон     0        224791        жилье  \n",
       "21449                 0      F   пенсионер     0        155999   автомобиль  \n",
       "21450                 1      M   сотрудник     1         89672        жилье  \n",
       "21451                 0      M   сотрудник     1        244093   автомобиль  \n",
       "21452                 0      F   сотрудник     0         82047   автомобиль  \n",
       "\n",
       "[21453 rows x 11 columns]"
      ]
     },
     "execution_count": 26,
     "metadata": {},
     "output_type": "execute_result"
    }
   ],
   "source": [
    "dob_years_grouped = df['dob_years'].apply(dob_years_grouped)\n",
    "df['dob_years'] = dob_years_grouped\n",
    "df"
   ]
  },
  {
   "cell_type": "code",
   "execution_count": 27,
   "metadata": {},
   "outputs": [
    {
     "data": {
      "text/html": [
       "<div>\n",
       "<style scoped>\n",
       "    .dataframe tbody tr th:only-of-type {\n",
       "        vertical-align: middle;\n",
       "    }\n",
       "\n",
       "    .dataframe tbody tr th {\n",
       "        vertical-align: top;\n",
       "    }\n",
       "\n",
       "    .dataframe thead th {\n",
       "        text-align: right;\n",
       "    }\n",
       "</style>\n",
       "<table border=\"1\" class=\"dataframe\">\n",
       "  <thead>\n",
       "    <tr style=\"text-align: right;\">\n",
       "      <th></th>\n",
       "      <th>children</th>\n",
       "      <th>dob_years</th>\n",
       "      <th>education</th>\n",
       "      <th>education_id</th>\n",
       "      <th>family_status</th>\n",
       "      <th>family_status_id</th>\n",
       "      <th>gender</th>\n",
       "      <th>income_type</th>\n",
       "      <th>debt</th>\n",
       "      <th>total_income</th>\n",
       "      <th>purpose</th>\n",
       "    </tr>\n",
       "  </thead>\n",
       "  <tbody>\n",
       "    <tr>\n",
       "      <td>14554</td>\n",
       "      <td>0</td>\n",
       "      <td>взрослые</td>\n",
       "      <td>среднее</td>\n",
       "      <td>1</td>\n",
       "      <td>женат / замужем</td>\n",
       "      <td>0</td>\n",
       "      <td>F</td>\n",
       "      <td>пенсионер</td>\n",
       "      <td>1</td>\n",
       "      <td>20667</td>\n",
       "      <td>жилье</td>\n",
       "    </tr>\n",
       "    <tr>\n",
       "      <td>12982</td>\n",
       "      <td>0</td>\n",
       "      <td>взрослые</td>\n",
       "      <td>среднее</td>\n",
       "      <td>1</td>\n",
       "      <td>гражданский брак</td>\n",
       "      <td>1</td>\n",
       "      <td>M</td>\n",
       "      <td>пенсионер</td>\n",
       "      <td>0</td>\n",
       "      <td>21205</td>\n",
       "      <td>образование</td>\n",
       "    </tr>\n",
       "    <tr>\n",
       "      <td>16137</td>\n",
       "      <td>1</td>\n",
       "      <td>взрослые</td>\n",
       "      <td>среднее</td>\n",
       "      <td>1</td>\n",
       "      <td>женат / замужем</td>\n",
       "      <td>0</td>\n",
       "      <td>M</td>\n",
       "      <td>сотрудник</td>\n",
       "      <td>0</td>\n",
       "      <td>21367</td>\n",
       "      <td>автомобиль</td>\n",
       "    </tr>\n",
       "    <tr>\n",
       "      <td>1598</td>\n",
       "      <td>0</td>\n",
       "      <td>пенсионеры</td>\n",
       "      <td>среднее</td>\n",
       "      <td>1</td>\n",
       "      <td>гражданский брак</td>\n",
       "      <td>1</td>\n",
       "      <td>M</td>\n",
       "      <td>пенсионер</td>\n",
       "      <td>0</td>\n",
       "      <td>21695</td>\n",
       "      <td>свадьба</td>\n",
       "    </tr>\n",
       "    <tr>\n",
       "      <td>14246</td>\n",
       "      <td>0</td>\n",
       "      <td>пенсионеры</td>\n",
       "      <td>среднее</td>\n",
       "      <td>1</td>\n",
       "      <td>женат / замужем</td>\n",
       "      <td>0</td>\n",
       "      <td>F</td>\n",
       "      <td>пенсионер</td>\n",
       "      <td>0</td>\n",
       "      <td>21895</td>\n",
       "      <td>жилье</td>\n",
       "    </tr>\n",
       "    <tr>\n",
       "      <td>...</td>\n",
       "      <td>...</td>\n",
       "      <td>...</td>\n",
       "      <td>...</td>\n",
       "      <td>...</td>\n",
       "      <td>...</td>\n",
       "      <td>...</td>\n",
       "      <td>...</td>\n",
       "      <td>...</td>\n",
       "      <td>...</td>\n",
       "      <td>...</td>\n",
       "      <td>...</td>\n",
       "    </tr>\n",
       "    <tr>\n",
       "      <td>17136</td>\n",
       "      <td>0</td>\n",
       "      <td>взрослые</td>\n",
       "      <td>высшее</td>\n",
       "      <td>0</td>\n",
       "      <td>гражданский брак</td>\n",
       "      <td>1</td>\n",
       "      <td>M</td>\n",
       "      <td>компаньон</td>\n",
       "      <td>0</td>\n",
       "      <td>1711309</td>\n",
       "      <td>свадьба</td>\n",
       "    </tr>\n",
       "    <tr>\n",
       "      <td>20741</td>\n",
       "      <td>0</td>\n",
       "      <td>пенсионеры</td>\n",
       "      <td>среднее</td>\n",
       "      <td>1</td>\n",
       "      <td>Не женат / не замужем</td>\n",
       "      <td>4</td>\n",
       "      <td>F</td>\n",
       "      <td>сотрудник</td>\n",
       "      <td>0</td>\n",
       "      <td>1715018</td>\n",
       "      <td>жилье</td>\n",
       "    </tr>\n",
       "    <tr>\n",
       "      <td>9159</td>\n",
       "      <td>1</td>\n",
       "      <td>молодые</td>\n",
       "      <td>среднее</td>\n",
       "      <td>1</td>\n",
       "      <td>гражданский брак</td>\n",
       "      <td>1</td>\n",
       "      <td>M</td>\n",
       "      <td>сотрудник</td>\n",
       "      <td>0</td>\n",
       "      <td>1726276</td>\n",
       "      <td>образование</td>\n",
       "    </tr>\n",
       "    <tr>\n",
       "      <td>19547</td>\n",
       "      <td>1</td>\n",
       "      <td>взрослые</td>\n",
       "      <td>высшее</td>\n",
       "      <td>0</td>\n",
       "      <td>женат / замужем</td>\n",
       "      <td>0</td>\n",
       "      <td>M</td>\n",
       "      <td>компаньон</td>\n",
       "      <td>1</td>\n",
       "      <td>2200852</td>\n",
       "      <td>жилье</td>\n",
       "    </tr>\n",
       "    <tr>\n",
       "      <td>12389</td>\n",
       "      <td>0</td>\n",
       "      <td>взрослые</td>\n",
       "      <td>высшее</td>\n",
       "      <td>0</td>\n",
       "      <td>женат / замужем</td>\n",
       "      <td>0</td>\n",
       "      <td>M</td>\n",
       "      <td>компаньон</td>\n",
       "      <td>0</td>\n",
       "      <td>2265604</td>\n",
       "      <td>жилье</td>\n",
       "    </tr>\n",
       "  </tbody>\n",
       "</table>\n",
       "<p>21453 rows × 11 columns</p>\n",
       "</div>"
      ],
      "text/plain": [
       "       children   dob_years education  education_id          family_status  \\\n",
       "14554         0    взрослые   среднее             1        женат / замужем   \n",
       "12982         0    взрослые   среднее             1       гражданский брак   \n",
       "16137         1    взрослые   среднее             1        женат / замужем   \n",
       "1598          0  пенсионеры   среднее             1       гражданский брак   \n",
       "14246         0  пенсионеры   среднее             1        женат / замужем   \n",
       "...         ...         ...       ...           ...                    ...   \n",
       "17136         0    взрослые    высшее             0       гражданский брак   \n",
       "20741         0  пенсионеры   среднее             1  Не женат / не замужем   \n",
       "9159          1     молодые   среднее             1       гражданский брак   \n",
       "19547         1    взрослые    высшее             0        женат / замужем   \n",
       "12389         0    взрослые    высшее             0        женат / замужем   \n",
       "\n",
       "       family_status_id gender income_type  debt  total_income      purpose  \n",
       "14554                 0      F   пенсионер     1         20667        жилье  \n",
       "12982                 1      M   пенсионер     0         21205  образование  \n",
       "16137                 0      M   сотрудник     0         21367   автомобиль  \n",
       "1598                  1      M   пенсионер     0         21695      свадьба  \n",
       "14246                 0      F   пенсионер     0         21895        жилье  \n",
       "...                 ...    ...         ...   ...           ...          ...  \n",
       "17136                 1      M   компаньон     0       1711309      свадьба  \n",
       "20741                 4      F   сотрудник     0       1715018        жилье  \n",
       "9159                  1      M   сотрудник     0       1726276  образование  \n",
       "19547                 0      M   компаньон     1       2200852        жилье  \n",
       "12389                 0      M   компаньон     0       2265604        жилье  \n",
       "\n",
       "[21453 rows x 11 columns]"
      ]
     },
     "execution_count": 27,
     "metadata": {},
     "output_type": "execute_result"
    }
   ],
   "source": [
    "# Сортируем таблицу по доходу\n",
    "df.sort_values('total_income')"
   ]
  },
  {
   "cell_type": "markdown",
   "metadata": {},
   "source": [
    "Уровень доходов от 20 т. руб. до 2.26 млн. руб."
   ]
  },
  {
   "cell_type": "markdown",
   "metadata": {},
   "source": [
    "<font color='blue'> Поменял для справедливости, хотя и не согласен. </font>  "
   ]
  },
  {
   "cell_type": "code",
   "execution_count": 28,
   "metadata": {},
   "outputs": [],
   "source": [
    "# Создадим функцию для разделениям по категориям\n",
    "def total_income_grouped(income):\n",
    "    if 20000 <= income <= 70000: return 'низкий'\n",
    "    elif 70000 < income <= 120000: return 'средний'\n",
    "    elif 120000 < income <= 200000: return 'высокий'\n",
    "    return 'очень высокий'"
   ]
  },
  {
   "cell_type": "code",
   "execution_count": 29,
   "metadata": {},
   "outputs": [
    {
     "data": {
      "text/html": [
       "<div>\n",
       "<style scoped>\n",
       "    .dataframe tbody tr th:only-of-type {\n",
       "        vertical-align: middle;\n",
       "    }\n",
       "\n",
       "    .dataframe tbody tr th {\n",
       "        vertical-align: top;\n",
       "    }\n",
       "\n",
       "    .dataframe thead th {\n",
       "        text-align: right;\n",
       "    }\n",
       "</style>\n",
       "<table border=\"1\" class=\"dataframe\">\n",
       "  <thead>\n",
       "    <tr style=\"text-align: right;\">\n",
       "      <th></th>\n",
       "      <th>children</th>\n",
       "      <th>dob_years</th>\n",
       "      <th>education</th>\n",
       "      <th>education_id</th>\n",
       "      <th>family_status</th>\n",
       "      <th>family_status_id</th>\n",
       "      <th>gender</th>\n",
       "      <th>income_type</th>\n",
       "      <th>debt</th>\n",
       "      <th>total_income</th>\n",
       "      <th>purpose</th>\n",
       "    </tr>\n",
       "  </thead>\n",
       "  <tbody>\n",
       "    <tr>\n",
       "      <td>0</td>\n",
       "      <td>1</td>\n",
       "      <td>взрослые</td>\n",
       "      <td>высшее</td>\n",
       "      <td>0</td>\n",
       "      <td>женат / замужем</td>\n",
       "      <td>0</td>\n",
       "      <td>F</td>\n",
       "      <td>сотрудник</td>\n",
       "      <td>0</td>\n",
       "      <td>очень высокий</td>\n",
       "      <td>жилье</td>\n",
       "    </tr>\n",
       "    <tr>\n",
       "      <td>1</td>\n",
       "      <td>1</td>\n",
       "      <td>пенсионеры</td>\n",
       "      <td>среднее</td>\n",
       "      <td>1</td>\n",
       "      <td>женат / замужем</td>\n",
       "      <td>0</td>\n",
       "      <td>F</td>\n",
       "      <td>сотрудник</td>\n",
       "      <td>0</td>\n",
       "      <td>средний</td>\n",
       "      <td>автомобиль</td>\n",
       "    </tr>\n",
       "    <tr>\n",
       "      <td>2</td>\n",
       "      <td>0</td>\n",
       "      <td>молодые</td>\n",
       "      <td>среднее</td>\n",
       "      <td>1</td>\n",
       "      <td>женат / замужем</td>\n",
       "      <td>0</td>\n",
       "      <td>M</td>\n",
       "      <td>сотрудник</td>\n",
       "      <td>0</td>\n",
       "      <td>высокий</td>\n",
       "      <td>жилье</td>\n",
       "    </tr>\n",
       "    <tr>\n",
       "      <td>3</td>\n",
       "      <td>3</td>\n",
       "      <td>молодые</td>\n",
       "      <td>среднее</td>\n",
       "      <td>1</td>\n",
       "      <td>женат / замужем</td>\n",
       "      <td>0</td>\n",
       "      <td>M</td>\n",
       "      <td>сотрудник</td>\n",
       "      <td>0</td>\n",
       "      <td>очень высокий</td>\n",
       "      <td>образование</td>\n",
       "    </tr>\n",
       "    <tr>\n",
       "      <td>4</td>\n",
       "      <td>0</td>\n",
       "      <td>взрослые</td>\n",
       "      <td>среднее</td>\n",
       "      <td>1</td>\n",
       "      <td>гражданский брак</td>\n",
       "      <td>1</td>\n",
       "      <td>F</td>\n",
       "      <td>пенсионер</td>\n",
       "      <td>0</td>\n",
       "      <td>высокий</td>\n",
       "      <td>свадьба</td>\n",
       "    </tr>\n",
       "    <tr>\n",
       "      <td>...</td>\n",
       "      <td>...</td>\n",
       "      <td>...</td>\n",
       "      <td>...</td>\n",
       "      <td>...</td>\n",
       "      <td>...</td>\n",
       "      <td>...</td>\n",
       "      <td>...</td>\n",
       "      <td>...</td>\n",
       "      <td>...</td>\n",
       "      <td>...</td>\n",
       "      <td>...</td>\n",
       "    </tr>\n",
       "    <tr>\n",
       "      <td>21448</td>\n",
       "      <td>1</td>\n",
       "      <td>взрослые</td>\n",
       "      <td>среднее</td>\n",
       "      <td>1</td>\n",
       "      <td>гражданский брак</td>\n",
       "      <td>1</td>\n",
       "      <td>F</td>\n",
       "      <td>компаньон</td>\n",
       "      <td>0</td>\n",
       "      <td>очень высокий</td>\n",
       "      <td>жилье</td>\n",
       "    </tr>\n",
       "    <tr>\n",
       "      <td>21449</td>\n",
       "      <td>0</td>\n",
       "      <td>пенсионеры</td>\n",
       "      <td>среднее</td>\n",
       "      <td>1</td>\n",
       "      <td>женат / замужем</td>\n",
       "      <td>0</td>\n",
       "      <td>F</td>\n",
       "      <td>пенсионер</td>\n",
       "      <td>0</td>\n",
       "      <td>высокий</td>\n",
       "      <td>автомобиль</td>\n",
       "    </tr>\n",
       "    <tr>\n",
       "      <td>21450</td>\n",
       "      <td>1</td>\n",
       "      <td>взрослые</td>\n",
       "      <td>среднее</td>\n",
       "      <td>1</td>\n",
       "      <td>гражданский брак</td>\n",
       "      <td>1</td>\n",
       "      <td>M</td>\n",
       "      <td>сотрудник</td>\n",
       "      <td>1</td>\n",
       "      <td>средний</td>\n",
       "      <td>жилье</td>\n",
       "    </tr>\n",
       "    <tr>\n",
       "      <td>21451</td>\n",
       "      <td>3</td>\n",
       "      <td>взрослые</td>\n",
       "      <td>среднее</td>\n",
       "      <td>1</td>\n",
       "      <td>женат / замужем</td>\n",
       "      <td>0</td>\n",
       "      <td>M</td>\n",
       "      <td>сотрудник</td>\n",
       "      <td>1</td>\n",
       "      <td>очень высокий</td>\n",
       "      <td>автомобиль</td>\n",
       "    </tr>\n",
       "    <tr>\n",
       "      <td>21452</td>\n",
       "      <td>2</td>\n",
       "      <td>взрослые</td>\n",
       "      <td>среднее</td>\n",
       "      <td>1</td>\n",
       "      <td>женат / замужем</td>\n",
       "      <td>0</td>\n",
       "      <td>F</td>\n",
       "      <td>сотрудник</td>\n",
       "      <td>0</td>\n",
       "      <td>средний</td>\n",
       "      <td>автомобиль</td>\n",
       "    </tr>\n",
       "  </tbody>\n",
       "</table>\n",
       "<p>21453 rows × 11 columns</p>\n",
       "</div>"
      ],
      "text/plain": [
       "       children   dob_years education  education_id     family_status  \\\n",
       "0             1    взрослые    высшее             0   женат / замужем   \n",
       "1             1  пенсионеры   среднее             1   женат / замужем   \n",
       "2             0     молодые   среднее             1   женат / замужем   \n",
       "3             3     молодые   среднее             1   женат / замужем   \n",
       "4             0    взрослые   среднее             1  гражданский брак   \n",
       "...         ...         ...       ...           ...               ...   \n",
       "21448         1    взрослые   среднее             1  гражданский брак   \n",
       "21449         0  пенсионеры   среднее             1   женат / замужем   \n",
       "21450         1    взрослые   среднее             1  гражданский брак   \n",
       "21451         3    взрослые   среднее             1   женат / замужем   \n",
       "21452         2    взрослые   среднее             1   женат / замужем   \n",
       "\n",
       "       family_status_id gender income_type  debt   total_income      purpose  \n",
       "0                     0      F   сотрудник     0  очень высокий        жилье  \n",
       "1                     0      F   сотрудник     0        средний   автомобиль  \n",
       "2                     0      M   сотрудник     0        высокий        жилье  \n",
       "3                     0      M   сотрудник     0  очень высокий  образование  \n",
       "4                     1      F   пенсионер     0        высокий      свадьба  \n",
       "...                 ...    ...         ...   ...            ...          ...  \n",
       "21448                 1      F   компаньон     0  очень высокий        жилье  \n",
       "21449                 0      F   пенсионер     0        высокий   автомобиль  \n",
       "21450                 1      M   сотрудник     1        средний        жилье  \n",
       "21451                 0      M   сотрудник     1  очень высокий   автомобиль  \n",
       "21452                 0      F   сотрудник     0        средний   автомобиль  \n",
       "\n",
       "[21453 rows x 11 columns]"
      ]
     },
     "execution_count": 29,
     "metadata": {},
     "output_type": "execute_result"
    }
   ],
   "source": [
    "total_income_grouped = df['total_income'].apply(total_income_grouped)\n",
    "df['total_income'] = total_income_grouped\n",
    "df"
   ]
  },
  {
   "cell_type": "markdown",
   "metadata": {},
   "source": [
    "<div class=\"alert alert-info\">\n",
    "<h2> Комментарий студента</h2>\n",
    "\n",
    "Если взять нашу страну, то доход в 50 000 р., это да же выше среднего.\n",
    "Людям с низким доходом чаще отказывают в выдаче крупных кредитов, а с высоким наоборот чаще выдают.\n",
    "Если бы мы взяли микрозаймы, то там скорей всего инстория была бы другая. Но у нас другие цели, а там суммы значительные.\n",
    "</div>\n",
    "\n",
    "\n",
    "<font color='blue'> </font>     "
   ]
  },
  {
   "cell_type": "markdown",
   "metadata": {},
   "source": [
    "<div class=\"alert alert-success\" style=\"border-radius: 15px; box-shadow: 4px 4px 4px; border: 1px solid \">\n",
    "<h2> Комментарий ревьюера 2</h2>\n",
    "    \n",
    "Тут еще вот какая ситуация: мы не можем быть уверены, что речь о нашей стране. Очень странная выборка.  Совсем не ясно, на какие группы делить, поэтому лучше отталкиваться от распределения, чтобы эти группы хотя бы можно было сравнивать между собой. Могу предложить в таких ситуациях просто больше категорий делать.</div>\n",
    "<div class=\"alert alert-warning\" style=\"border-radius: 15px; box-shadow: 4px 4px 4px; border: 1px solid \">\n",
    "<b> Комментарий ревьюера</b>\n",
    "    \n",
    "Не самое честное распределение. Людей с высоким доходом 16 тысяч, 4 тысячи со средним и всего 370 человек с низким. </div>"
   ]
  },
  {
   "cell_type": "code",
   "execution_count": 30,
   "metadata": {},
   "outputs": [
    {
     "data": {
      "text/plain": [
       "высокий          9156\n",
       "средний          5757\n",
       "очень высокий    5066\n",
       "низкий           1474\n",
       "Name: total_income, dtype: int64"
      ]
     },
     "execution_count": 30,
     "metadata": {},
     "output_type": "execute_result"
    }
   ],
   "source": [
    "# КОД РЕВЬЮЕРА\n",
    "\n",
    "df['total_income'].value_counts()"
   ]
  },
  {
   "cell_type": "markdown",
   "metadata": {},
   "source": [
    "Для дальнейшего исследования сгрупперовали по возросту и доходам. "
   ]
  },
  {
   "cell_type": "markdown",
   "metadata": {},
   "source": [
    "## Шаг 3. Ответьте на вопросы"
   ]
  },
  {
   "cell_type": "markdown",
   "metadata": {},
   "source": [
    "- Есть ли зависимость между наличием детей и возвратом кредита в срок?"
   ]
  },
  {
   "cell_type": "code",
   "execution_count": 31,
   "metadata": {},
   "outputs": [
    {
     "data": {
      "text/html": [
       "<div>\n",
       "<style scoped>\n",
       "    .dataframe tbody tr th:only-of-type {\n",
       "        vertical-align: middle;\n",
       "    }\n",
       "\n",
       "    .dataframe tbody tr th {\n",
       "        vertical-align: top;\n",
       "    }\n",
       "\n",
       "    .dataframe thead tr th {\n",
       "        text-align: left;\n",
       "    }\n",
       "\n",
       "    .dataframe thead tr:last-of-type th {\n",
       "        text-align: right;\n",
       "    }\n",
       "</style>\n",
       "<table border=\"1\" class=\"dataframe\">\n",
       "  <thead>\n",
       "    <tr>\n",
       "      <th></th>\n",
       "      <th colspan=\"2\" halign=\"left\">debt</th>\n",
       "    </tr>\n",
       "    <tr>\n",
       "      <th></th>\n",
       "      <th>count</th>\n",
       "      <th>sum</th>\n",
       "    </tr>\n",
       "    <tr>\n",
       "      <th>children</th>\n",
       "      <th></th>\n",
       "      <th></th>\n",
       "    </tr>\n",
       "  </thead>\n",
       "  <tbody>\n",
       "    <tr>\n",
       "      <td>0</td>\n",
       "      <td>14090</td>\n",
       "      <td>1063</td>\n",
       "    </tr>\n",
       "    <tr>\n",
       "      <td>1</td>\n",
       "      <td>4855</td>\n",
       "      <td>445</td>\n",
       "    </tr>\n",
       "    <tr>\n",
       "      <td>2</td>\n",
       "      <td>2128</td>\n",
       "      <td>202</td>\n",
       "    </tr>\n",
       "    <tr>\n",
       "      <td>3</td>\n",
       "      <td>330</td>\n",
       "      <td>27</td>\n",
       "    </tr>\n",
       "    <tr>\n",
       "      <td>4</td>\n",
       "      <td>41</td>\n",
       "      <td>4</td>\n",
       "    </tr>\n",
       "    <tr>\n",
       "      <td>5</td>\n",
       "      <td>9</td>\n",
       "      <td>0</td>\n",
       "    </tr>\n",
       "  </tbody>\n",
       "</table>\n",
       "</div>"
      ],
      "text/plain": [
       "           debt      \n",
       "          count   sum\n",
       "children             \n",
       "0         14090  1063\n",
       "1          4855   445\n",
       "2          2128   202\n",
       "3           330    27\n",
       "4            41     4\n",
       "5             9     0"
      ]
     },
     "execution_count": 31,
     "metadata": {},
     "output_type": "execute_result"
    }
   ],
   "source": [
    "# вызовем функцию для зависимости дети/просрочка\n",
    "df.groupby('children').agg({'debt':['count', 'sum']})"
   ]
  },
  {
   "cell_type": "markdown",
   "metadata": {},
   "source": [
    "<font color='blue'> Спасибо за подсказку. Улучшил код. </font>  "
   ]
  },
  {
   "cell_type": "code",
   "execution_count": 32,
   "metadata": {},
   "outputs": [
    {
     "data": {
      "text/plain": [
       "children\n",
       "0    0.075444\n",
       "1    0.091658\n",
       "2    0.094925\n",
       "3    0.081818\n",
       "4    0.097561\n",
       "5    0.000000\n",
       "Name: debt, dtype: float64"
      ]
     },
     "execution_count": 32,
     "metadata": {},
     "output_type": "execute_result"
    }
   ],
   "source": [
    "df.groupby('children')['debt'].mean()"
   ]
  },
  {
   "cell_type": "markdown",
   "metadata": {},
   "source": [
    "<div class=\"alert alert-success\" style=\"border-radius: 15px; box-shadow: 4px 4px 4px; border: 1px solid \">\n",
    "<h2> Комментарий ревьюера</h2>\n",
    "    \n",
    "Обрати внимание на то, что ты делишь сумму на количество, а это не что иное, как среднее. Так что это все можно сделать в группировке:\n",
    "</div>"
   ]
  },
  {
   "cell_type": "code",
   "execution_count": 33,
   "metadata": {},
   "outputs": [
    {
     "data": {
      "text/html": [
       "<div>\n",
       "<style scoped>\n",
       "    .dataframe tbody tr th:only-of-type {\n",
       "        vertical-align: middle;\n",
       "    }\n",
       "\n",
       "    .dataframe tbody tr th {\n",
       "        vertical-align: top;\n",
       "    }\n",
       "\n",
       "    .dataframe thead th {\n",
       "        text-align: right;\n",
       "    }\n",
       "</style>\n",
       "<table border=\"1\" class=\"dataframe\">\n",
       "  <thead>\n",
       "    <tr style=\"text-align: right;\">\n",
       "      <th></th>\n",
       "      <th>count</th>\n",
       "      <th>sum</th>\n",
       "      <th>&lt;lambda_0&gt;</th>\n",
       "    </tr>\n",
       "    <tr>\n",
       "      <th>children</th>\n",
       "      <th></th>\n",
       "      <th></th>\n",
       "      <th></th>\n",
       "    </tr>\n",
       "  </thead>\n",
       "  <tbody>\n",
       "    <tr>\n",
       "      <td>0</td>\n",
       "      <td>14090</td>\n",
       "      <td>1063</td>\n",
       "      <td>0.075444</td>\n",
       "    </tr>\n",
       "    <tr>\n",
       "      <td>1</td>\n",
       "      <td>4855</td>\n",
       "      <td>445</td>\n",
       "      <td>0.091658</td>\n",
       "    </tr>\n",
       "    <tr>\n",
       "      <td>2</td>\n",
       "      <td>2128</td>\n",
       "      <td>202</td>\n",
       "      <td>0.094925</td>\n",
       "    </tr>\n",
       "    <tr>\n",
       "      <td>3</td>\n",
       "      <td>330</td>\n",
       "      <td>27</td>\n",
       "      <td>0.081818</td>\n",
       "    </tr>\n",
       "    <tr>\n",
       "      <td>4</td>\n",
       "      <td>41</td>\n",
       "      <td>4</td>\n",
       "      <td>0.097561</td>\n",
       "    </tr>\n",
       "    <tr>\n",
       "      <td>5</td>\n",
       "      <td>9</td>\n",
       "      <td>0</td>\n",
       "      <td>0.000000</td>\n",
       "    </tr>\n",
       "  </tbody>\n",
       "</table>\n",
       "</div>"
      ],
      "text/plain": [
       "          count   sum  <lambda_0>\n",
       "children                         \n",
       "0         14090  1063    0.075444\n",
       "1          4855   445    0.091658\n",
       "2          2128   202    0.094925\n",
       "3           330    27    0.081818\n",
       "4            41     4    0.097561\n",
       "5             9     0    0.000000"
      ]
     },
     "execution_count": 33,
     "metadata": {},
     "output_type": "execute_result"
    }
   ],
   "source": [
    "# КОД РЕВЬЮЕРА\n",
    "\n",
    "# Или просто форматируем вывод\n",
    "df.groupby('children')['debt'].agg(['count', 'sum', lambda x: x.mean()])"
   ]
  },
  {
   "cell_type": "markdown",
   "metadata": {},
   "source": [
    " Зависимость между наличием детей и возваратом кредита в срок есть. Чем больше детей, тем меньше берут кредит."
   ]
  },
  {
   "cell_type": "markdown",
   "metadata": {},
   "source": [
    "<div class=\"alert alert-info\">\n",
    "<h2> Комментарий студента</h2>\n",
    "\n",
    "Больше всего просрочек у семей с 1-4 детьми, скорей всего из-за больших расходов на детей . Нет просрочек у семей с 5 детьми. Так как такие семьи практически не берут кредиты из-за финансовой нагрузки.\n",
    "</div>\n",
    "\n",
    "\n"
   ]
  },
  {
   "cell_type": "markdown",
   "metadata": {},
   "source": [
    "<div class=\"alert alert-danger\" style=\"border-radius: 15px; box-shadow: 4px 4px 4px; border: 1px solid \">\n",
    "<h2> Комментарий ревьюера</h2>\n",
    "    \n",
    "> Зависимость между наличием детей и возваратом кредита в срок есть.\n",
    "    \n",
    "    \n",
    "    \n",
    "> Чем больше детей, тем меньше берут кредит.\n",
    "    \n",
    "    \n",
    "Хорошо, кредиты с детьми берут реже. А что с возвратами?    \n",
    "</div>"
   ]
  },
  {
   "cell_type": "markdown",
   "metadata": {},
   "source": [
    "- Есть ли зависимость между семейным положением и возвратом кредита в срок?"
   ]
  },
  {
   "cell_type": "code",
   "execution_count": 34,
   "metadata": {},
   "outputs": [
    {
     "data": {
      "text/html": [
       "<div>\n",
       "<style scoped>\n",
       "    .dataframe tbody tr th:only-of-type {\n",
       "        vertical-align: middle;\n",
       "    }\n",
       "\n",
       "    .dataframe tbody tr th {\n",
       "        vertical-align: top;\n",
       "    }\n",
       "\n",
       "    .dataframe thead tr th {\n",
       "        text-align: left;\n",
       "    }\n",
       "\n",
       "    .dataframe thead tr:last-of-type th {\n",
       "        text-align: right;\n",
       "    }\n",
       "</style>\n",
       "<table border=\"1\" class=\"dataframe\">\n",
       "  <thead>\n",
       "    <tr>\n",
       "      <th></th>\n",
       "      <th colspan=\"2\" halign=\"left\">debt</th>\n",
       "    </tr>\n",
       "    <tr>\n",
       "      <th></th>\n",
       "      <th>count</th>\n",
       "      <th>sum</th>\n",
       "    </tr>\n",
       "    <tr>\n",
       "      <th>family_status</th>\n",
       "      <th></th>\n",
       "      <th></th>\n",
       "    </tr>\n",
       "  </thead>\n",
       "  <tbody>\n",
       "    <tr>\n",
       "      <td>Не женат / не замужем</td>\n",
       "      <td>2810</td>\n",
       "      <td>274</td>\n",
       "    </tr>\n",
       "    <tr>\n",
       "      <td>в разводе</td>\n",
       "      <td>1195</td>\n",
       "      <td>85</td>\n",
       "    </tr>\n",
       "    <tr>\n",
       "      <td>вдовец / вдова</td>\n",
       "      <td>959</td>\n",
       "      <td>63</td>\n",
       "    </tr>\n",
       "    <tr>\n",
       "      <td>гражданский брак</td>\n",
       "      <td>4150</td>\n",
       "      <td>388</td>\n",
       "    </tr>\n",
       "    <tr>\n",
       "      <td>женат / замужем</td>\n",
       "      <td>12339</td>\n",
       "      <td>931</td>\n",
       "    </tr>\n",
       "  </tbody>\n",
       "</table>\n",
       "</div>"
      ],
      "text/plain": [
       "                        debt     \n",
       "                       count  sum\n",
       "family_status                    \n",
       "Не женат / не замужем   2810  274\n",
       "в разводе               1195   85\n",
       "вдовец / вдова           959   63\n",
       "гражданский брак        4150  388\n",
       "женат / замужем        12339  931"
      ]
     },
     "execution_count": 34,
     "metadata": {},
     "output_type": "execute_result"
    }
   ],
   "source": [
    "df.groupby('family_status').agg({'debt':['count', 'sum']})"
   ]
  },
  {
   "cell_type": "code",
   "execution_count": 35,
   "metadata": {},
   "outputs": [
    {
     "data": {
      "text/plain": [
       "family_status\n",
       "Не женат / не замужем    0.097509\n",
       "в разводе                0.071130\n",
       "вдовец / вдова           0.065693\n",
       "гражданский брак         0.093494\n",
       "женат / замужем          0.075452\n",
       "Name: debt, dtype: float64"
      ]
     },
     "execution_count": 35,
     "metadata": {},
     "output_type": "execute_result"
    }
   ],
   "source": [
    "df.groupby('family_status')['debt'].mean()"
   ]
  },
  {
   "cell_type": "markdown",
   "metadata": {},
   "source": [
    "Больше всего просрочек у холостых и тех кто живет в гражданском браке. Меньше просрочек у вдовед/вдова. Гипотеза не подтвердилась."
   ]
  },
  {
   "cell_type": "markdown",
   "metadata": {},
   "source": [
    "<div class=\"alert alert-info\">\n",
    "<h2> Комментарий студента</h2>\n",
    "\n",
    "Хуже всего показатель у \"не женатых / не замужем\", чаще всего это молодые люди до 30 лет, берут кредит не правильно оценивая свои издержки. Люди в \"гражданском браке\", в виду того что нет такого юдрического статутса, часто такие союзы распадаются и люди перестают платить кредиту.\n",
    "Зависимоть есть, люди с семейным статусом лучше платят по кредиту.\n",
    "</div>"
   ]
  },
  {
   "cell_type": "markdown",
   "metadata": {},
   "source": [
    "<div class=\"alert alert-danger\" style=\"border-radius: 15px; box-shadow: 4px 4px 4px; border: 1px solid \">\n",
    "<b> Комментарий ревьюера</b>\n",
    "    \n",
    "> Гипотеза не подтвердилась.\n",
    "    \n",
    "    \n",
    "Почему?    \n",
    "</div>\n",
    "\n",
    "<div class=\"alert alert-success\" style=\"border-radius: 15px; box-shadow: 4px 4px 4px; border: 1px solid \">\n",
    "<h2> Комментарий ревьюера 2</h2>\n",
    "    \n",
    "То есть зависимость есть, а значит, гипотеза о ее наличии подтвердилась :) </div>"
   ]
  },
  {
   "cell_type": "markdown",
   "metadata": {},
   "source": [
    "- Есть ли зависимость между уровнем дохода и возвратом кредита в срок?"
   ]
  },
  {
   "cell_type": "code",
   "execution_count": 36,
   "metadata": {},
   "outputs": [
    {
     "data": {
      "text/html": [
       "<div>\n",
       "<style scoped>\n",
       "    .dataframe tbody tr th:only-of-type {\n",
       "        vertical-align: middle;\n",
       "    }\n",
       "\n",
       "    .dataframe tbody tr th {\n",
       "        vertical-align: top;\n",
       "    }\n",
       "\n",
       "    .dataframe thead tr th {\n",
       "        text-align: left;\n",
       "    }\n",
       "\n",
       "    .dataframe thead tr:last-of-type th {\n",
       "        text-align: right;\n",
       "    }\n",
       "</style>\n",
       "<table border=\"1\" class=\"dataframe\">\n",
       "  <thead>\n",
       "    <tr>\n",
       "      <th></th>\n",
       "      <th colspan=\"2\" halign=\"left\">debt</th>\n",
       "    </tr>\n",
       "    <tr>\n",
       "      <th></th>\n",
       "      <th>count</th>\n",
       "      <th>sum</th>\n",
       "    </tr>\n",
       "    <tr>\n",
       "      <th>total_income</th>\n",
       "      <th></th>\n",
       "      <th></th>\n",
       "    </tr>\n",
       "  </thead>\n",
       "  <tbody>\n",
       "    <tr>\n",
       "      <td>высокий</td>\n",
       "      <td>9156</td>\n",
       "      <td>797</td>\n",
       "    </tr>\n",
       "    <tr>\n",
       "      <td>низкий</td>\n",
       "      <td>1474</td>\n",
       "      <td>101</td>\n",
       "    </tr>\n",
       "    <tr>\n",
       "      <td>очень высокий</td>\n",
       "      <td>5066</td>\n",
       "      <td>358</td>\n",
       "    </tr>\n",
       "    <tr>\n",
       "      <td>средний</td>\n",
       "      <td>5757</td>\n",
       "      <td>485</td>\n",
       "    </tr>\n",
       "  </tbody>\n",
       "</table>\n",
       "</div>"
      ],
      "text/plain": [
       "               debt     \n",
       "              count  sum\n",
       "total_income            \n",
       "высокий        9156  797\n",
       "низкий         1474  101\n",
       "очень высокий  5066  358\n",
       "средний        5757  485"
      ]
     },
     "execution_count": 36,
     "metadata": {},
     "output_type": "execute_result"
    }
   ],
   "source": [
    "df.groupby('total_income').agg({'debt':['count', 'sum']})"
   ]
  },
  {
   "cell_type": "code",
   "execution_count": 37,
   "metadata": {},
   "outputs": [
    {
     "data": {
      "text/plain": [
       "total_income\n",
       "высокий          0.087047\n",
       "низкий           0.068521\n",
       "очень высокий    0.070667\n",
       "средний          0.084245\n",
       "Name: debt, dtype: float64"
      ]
     },
     "execution_count": 37,
     "metadata": {},
     "output_type": "execute_result"
    }
   ],
   "source": [
    "df.groupby('total_income')['debt'].mean()"
   ]
  },
  {
   "cell_type": "markdown",
   "metadata": {},
   "source": [
    "Люди с низким доходом меньше всего допускают просрочку по кредиту, а с средним и высоким доходом допускают просрочку больше. "
   ]
  },
  {
   "cell_type": "markdown",
   "metadata": {},
   "source": [
    "- Как разные цели кредита влияют на его возврат в срок?"
   ]
  },
  {
   "cell_type": "code",
   "execution_count": 38,
   "metadata": {},
   "outputs": [
    {
     "data": {
      "text/html": [
       "<div>\n",
       "<style scoped>\n",
       "    .dataframe tbody tr th:only-of-type {\n",
       "        vertical-align: middle;\n",
       "    }\n",
       "\n",
       "    .dataframe tbody tr th {\n",
       "        vertical-align: top;\n",
       "    }\n",
       "\n",
       "    .dataframe thead tr th {\n",
       "        text-align: left;\n",
       "    }\n",
       "\n",
       "    .dataframe thead tr:last-of-type th {\n",
       "        text-align: right;\n",
       "    }\n",
       "</style>\n",
       "<table border=\"1\" class=\"dataframe\">\n",
       "  <thead>\n",
       "    <tr>\n",
       "      <th></th>\n",
       "      <th colspan=\"2\" halign=\"left\">debt</th>\n",
       "    </tr>\n",
       "    <tr>\n",
       "      <th></th>\n",
       "      <th>count</th>\n",
       "      <th>sum</th>\n",
       "    </tr>\n",
       "    <tr>\n",
       "      <th>purpose</th>\n",
       "      <th></th>\n",
       "      <th></th>\n",
       "    </tr>\n",
       "  </thead>\n",
       "  <tbody>\n",
       "    <tr>\n",
       "      <td>автомобиль</td>\n",
       "      <td>4306</td>\n",
       "      <td>403</td>\n",
       "    </tr>\n",
       "    <tr>\n",
       "      <td>жилье</td>\n",
       "      <td>10810</td>\n",
       "      <td>782</td>\n",
       "    </tr>\n",
       "    <tr>\n",
       "      <td>образование</td>\n",
       "      <td>4013</td>\n",
       "      <td>370</td>\n",
       "    </tr>\n",
       "    <tr>\n",
       "      <td>свадьба</td>\n",
       "      <td>2324</td>\n",
       "      <td>186</td>\n",
       "    </tr>\n",
       "  </tbody>\n",
       "</table>\n",
       "</div>"
      ],
      "text/plain": [
       "              debt     \n",
       "             count  sum\n",
       "purpose                \n",
       "автомобиль    4306  403\n",
       "жилье        10810  782\n",
       "образование   4013  370\n",
       "свадьба       2324  186"
      ]
     },
     "execution_count": 38,
     "metadata": {},
     "output_type": "execute_result"
    }
   ],
   "source": [
    "df.groupby('purpose').agg({'debt':['count', 'sum']})"
   ]
  },
  {
   "cell_type": "code",
   "execution_count": 39,
   "metadata": {},
   "outputs": [
    {
     "data": {
      "text/plain": [
       "purpose\n",
       "автомобиль     0.093590\n",
       "жилье          0.072340\n",
       "образование    0.092200\n",
       "свадьба        0.080034\n",
       "Name: debt, dtype: float64"
      ]
     },
     "execution_count": 39,
     "metadata": {},
     "output_type": "execute_result"
    }
   ],
   "source": [
    "df.groupby('purpose')['debt'].mean()"
   ]
  },
  {
   "cell_type": "markdown",
   "metadata": {},
   "source": [
    "По кредитам на автомобиль и образование чаще допускают просрочку, а на покупку жилья просрочку допускают реже."
   ]
  },
  {
   "cell_type": "markdown",
   "metadata": {},
   "source": [
    "## Шаг 4. Общий вывод"
   ]
  },
  {
   "cell_type": "markdown",
   "metadata": {},
   "source": [
    "<font color='blue'> Прошу прощения, почему то не сохранилось. </font>  "
   ]
  },
  {
   "cell_type": "markdown",
   "metadata": {},
   "source": [
    "Из анализа полученных данных можно сделать вывод:\n",
    "\n",
    "1. Люди бывшие в оциальных отношениях \"вдова/вдовец\" имеют наименьше процент просрочки - 6.5%. Похожий результат у людей в \"разводе\" - 7.2%. Семейные люди \"женат/замужем\" близки к тем кто в \"разводе\" 7.5%. Самый плохой показакель у \"не женат/ не замужем\" 9.7% и \"гражданский брак\" 9.3%.\n",
    "2. Больше всего выдано кредитов людям в статусе \"женат / замужем\" 12290 раз, с долей просрочки в 7.5%. Можно предположить что цель кредита этой группы покупка жилья, так как доля просрочки в категории желье 7.2%. \n",
    "3. Вывод: человек в статусе \"женат / замужем\" желающий взять кред на покупку желья является самым привликательным для банка. А \"не женат / не замужем\" желающий взять кредит на покупку автомобиля или образование самым не надежным.\n"
   ]
  },
  {
   "cell_type": "markdown",
   "metadata": {},
   "source": [
    "<div class=\"alert alert-danger\" style=\"border-radius: 15px; box-shadow: 4px 4px 4px; border: 1px solid\">\n",
    "<b> Комментарий ревьюера</b>\n",
    "    \n",
    "Похоже, вывод не сохранился :) В идеале надо бы привести проценты невозврата в срок у самых надежных и самых безответственных клиентов для каждой группы. Например: самые надежные клиенты это люди, берущие кредит на операции с недвижимостью (такой-то процент невозврата в срок), а самые безответственные те, кто обращается в банк с целью получить деньги на покупку автомобиля (такой-то процент). И так для каждой группы. Это хороший тон, — подкреплять вывод полученными ранее результатами. Кроме того, так ты не оставляешь заказчику шансов неверно интерпретировать вывод.\n",
    "</div>"
   ]
  },
  {
   "cell_type": "markdown",
   "metadata": {},
   "source": [
    "## Чек-лист готовности проекта\n",
    "\n",
    "Поставьте 'x' в выполненных пунктах. Далее нажмите Shift+Enter."
   ]
  },
  {
   "cell_type": "markdown",
   "metadata": {},
   "source": [
    "- [x]  открыт файл;\n",
    "- [ ]  файл изучен;\n",
    "- [ ]  определены пропущенные значения;\n",
    "- [ ]  заполнены пропущенные значения;\n",
    "- [ ]  есть пояснение, какие пропущенные значения обнаружены;\n",
    "- [ ]  описаны возможные причины появления пропусков в данных;\n",
    "- [ ]  объяснено, по какому принципу заполнены пропуски;\n",
    "- [ ]  заменен вещественный тип данных на целочисленный;\n",
    "- [ ]  есть пояснение, какой метод используется для изменения типа данных и почему;\n",
    "- [ ]  удалены дубликаты;\n",
    "- [ ]  есть пояснение, какой метод используется для поиска и удаления дубликатов;\n",
    "- [ ]  описаны возможные причины появления дубликатов в данных;\n",
    "- [ ]  выделены леммы в значениях столбца с целями получения кредита;\n",
    "- [ ]  описан процесс лемматизации;\n",
    "- [ ]  данные категоризированы;\n",
    "- [ ]  есть объяснение принципа категоризации данных;\n",
    "- [ ]  есть ответ на вопрос: \"Есть ли зависимость между наличием детей и возвратом кредита в срок?\";\n",
    "- [ ]  есть ответ на вопрос: \"Есть ли зависимость между семейным положением и возвратом кредита в срок?\";\n",
    "- [ ]  есть ответ на вопрос: \"Есть ли зависимость между уровнем дохода и возвратом кредита в срок?\";\n",
    "- [ ]  есть ответ на вопрос: \"Как разные цели кредита влияют на его возврат в срок?\";\n",
    "- [ ]  в каждом этапе есть выводы;\n",
    "- [ ]  есть общий вывод."
   ]
  }
 ],
 "metadata": {
  "ExecuteTimeLog": [
   {
    "duration": 645,
    "start_time": "2021-12-09T11:27:34.281Z"
   },
   {
    "duration": 50,
    "start_time": "2021-12-09T11:29:16.902Z"
   },
   {
    "duration": 58,
    "start_time": "2021-12-09T11:30:40.331Z"
   },
   {
    "duration": 12,
    "start_time": "2021-12-09T11:58:23.193Z"
   },
   {
    "duration": 8,
    "start_time": "2021-12-09T11:59:48.563Z"
   },
   {
    "duration": 436,
    "start_time": "2021-12-10T04:07:27.790Z"
   },
   {
    "duration": 441,
    "start_time": "2021-12-10T04:07:32.982Z"
   },
   {
    "duration": 805,
    "start_time": "2021-12-10T04:07:40.100Z"
   },
   {
    "duration": 12,
    "start_time": "2021-12-10T04:07:43.685Z"
   },
   {
    "duration": 33,
    "start_time": "2021-12-10T04:09:51.180Z"
   },
   {
    "duration": 21,
    "start_time": "2021-12-10T04:11:10.049Z"
   },
   {
    "duration": 420,
    "start_time": "2021-12-10T04:15:42.457Z"
   },
   {
    "duration": 499,
    "start_time": "2021-12-10T04:18:52.286Z"
   },
   {
    "duration": 21,
    "start_time": "2021-12-10T04:19:25.326Z"
   },
   {
    "duration": 12,
    "start_time": "2021-12-10T04:23:17.909Z"
   },
   {
    "duration": 61,
    "start_time": "2021-12-10T04:24:10.078Z"
   },
   {
    "duration": 60,
    "start_time": "2021-12-10T04:25:28.114Z"
   },
   {
    "duration": 14,
    "start_time": "2021-12-10T04:25:30.562Z"
   },
   {
    "duration": 22,
    "start_time": "2021-12-10T04:28:34.754Z"
   },
   {
    "duration": 11929,
    "start_time": "2021-12-10T04:33:04.888Z"
   },
   {
    "duration": -25,
    "start_time": "2021-12-10T04:33:16.845Z"
   },
   {
    "duration": 13,
    "start_time": "2021-12-10T04:33:23.188Z"
   },
   {
    "duration": 10307,
    "start_time": "2021-12-10T04:33:26.612Z"
   },
   {
    "duration": 12,
    "start_time": "2021-12-10T04:33:41.587Z"
   },
   {
    "duration": 387,
    "start_time": "2021-12-10T04:33:58.804Z"
   },
   {
    "duration": 17,
    "start_time": "2021-12-10T04:34:08.262Z"
   },
   {
    "duration": 16,
    "start_time": "2021-12-10T04:34:23.634Z"
   },
   {
    "duration": 8,
    "start_time": "2021-12-10T04:41:07.821Z"
   },
   {
    "duration": 16,
    "start_time": "2021-12-10T04:41:09.617Z"
   },
   {
    "duration": 23,
    "start_time": "2021-12-10T04:41:24.190Z"
   },
   {
    "duration": 16,
    "start_time": "2021-12-10T04:41:37.685Z"
   },
   {
    "duration": 8,
    "start_time": "2021-12-10T04:41:38.958Z"
   },
   {
    "duration": 11,
    "start_time": "2021-12-10T04:41:43.049Z"
   },
   {
    "duration": 25,
    "start_time": "2021-12-10T04:41:48.588Z"
   },
   {
    "duration": 900,
    "start_time": "2021-12-10T04:42:13.457Z"
   },
   {
    "duration": 45,
    "start_time": "2021-12-10T04:42:16.324Z"
   },
   {
    "duration": 13,
    "start_time": "2021-12-10T04:42:21.569Z"
   },
   {
    "duration": 5,
    "start_time": "2021-12-10T04:42:24.380Z"
   },
   {
    "duration": 24,
    "start_time": "2021-12-10T04:42:31.937Z"
   },
   {
    "duration": 845,
    "start_time": "2021-12-10T04:43:24.523Z"
   },
   {
    "duration": 897,
    "start_time": "2021-12-10T04:43:32.151Z"
   },
   {
    "duration": 22,
    "start_time": "2021-12-10T04:43:39.983Z"
   },
   {
    "duration": 31,
    "start_time": "2021-12-10T04:51:44.653Z"
   },
   {
    "duration": 14,
    "start_time": "2021-12-10T05:11:19.742Z"
   },
   {
    "duration": 61,
    "start_time": "2021-12-10T05:11:23.557Z"
   },
   {
    "duration": 15,
    "start_time": "2021-12-10T05:11:25.307Z"
   },
   {
    "duration": 26,
    "start_time": "2021-12-10T05:32:46.649Z"
   },
   {
    "duration": 19,
    "start_time": "2021-12-10T05:41:55.552Z"
   },
   {
    "duration": 19,
    "start_time": "2021-12-10T05:41:59.723Z"
   },
   {
    "duration": 61,
    "start_time": "2021-12-10T05:43:27.035Z"
   },
   {
    "duration": 834,
    "start_time": "2021-12-10T05:43:34.189Z"
   },
   {
    "duration": 16,
    "start_time": "2021-12-10T05:43:37.605Z"
   },
   {
    "duration": 22,
    "start_time": "2021-12-10T05:43:42.781Z"
   },
   {
    "duration": 7,
    "start_time": "2021-12-10T05:43:46.083Z"
   },
   {
    "duration": 25,
    "start_time": "2021-12-10T05:43:52.862Z"
   },
   {
    "duration": 14,
    "start_time": "2021-12-10T05:44:00.553Z"
   },
   {
    "duration": 668,
    "start_time": "2021-12-10T05:47:44.645Z"
   },
   {
    "duration": 5,
    "start_time": "2021-12-10T05:48:57.357Z"
   },
   {
    "duration": 23,
    "start_time": "2021-12-10T05:49:25.849Z"
   },
   {
    "duration": 33,
    "start_time": "2021-12-10T05:49:40.068Z"
   },
   {
    "duration": 21,
    "start_time": "2021-12-10T05:52:48.265Z"
   },
   {
    "duration": 23,
    "start_time": "2021-12-10T06:17:30.463Z"
   },
   {
    "duration": 22,
    "start_time": "2021-12-10T06:17:44.279Z"
   },
   {
    "duration": 23,
    "start_time": "2021-12-10T06:19:03.451Z"
   },
   {
    "duration": 46,
    "start_time": "2021-12-10T06:19:20.757Z"
   },
   {
    "duration": 66,
    "start_time": "2021-12-10T06:20:50.013Z"
   },
   {
    "duration": 16,
    "start_time": "2021-12-10T06:26:31.938Z"
   },
   {
    "duration": 26,
    "start_time": "2021-12-10T06:27:17.987Z"
   },
   {
    "duration": 21,
    "start_time": "2021-12-10T06:27:53.492Z"
   },
   {
    "duration": 23,
    "start_time": "2021-12-10T06:28:07.339Z"
   },
   {
    "duration": 805,
    "start_time": "2021-12-10T06:31:16.653Z"
   },
   {
    "duration": 549,
    "start_time": "2021-12-10T06:31:46.410Z"
   },
   {
    "duration": 595,
    "start_time": "2021-12-10T06:32:06.833Z"
   },
   {
    "duration": 619,
    "start_time": "2021-12-10T06:32:27.343Z"
   },
   {
    "duration": 9,
    "start_time": "2021-12-10T06:32:42.921Z"
   },
   {
    "duration": 571,
    "start_time": "2021-12-10T06:37:13.972Z"
   },
   {
    "duration": 7,
    "start_time": "2021-12-10T06:37:30.415Z"
   },
   {
    "duration": 7,
    "start_time": "2021-12-10T06:37:44.500Z"
   },
   {
    "duration": 6,
    "start_time": "2021-12-10T06:38:31.979Z"
   },
   {
    "duration": 15,
    "start_time": "2021-12-10T06:40:03.562Z"
   },
   {
    "duration": 60,
    "start_time": "2021-12-10T06:40:08.922Z"
   },
   {
    "duration": 16,
    "start_time": "2021-12-10T06:40:10.769Z"
   },
   {
    "duration": 19,
    "start_time": "2021-12-10T06:41:54.864Z"
   },
   {
    "duration": 7,
    "start_time": "2021-12-10T06:44:47.567Z"
   },
   {
    "duration": 6,
    "start_time": "2021-12-10T06:45:32.641Z"
   },
   {
    "duration": 28,
    "start_time": "2021-12-10T06:51:20.089Z"
   },
   {
    "duration": 33,
    "start_time": "2021-12-10T06:52:53.926Z"
   },
   {
    "duration": 11,
    "start_time": "2021-12-10T06:53:18.885Z"
   },
   {
    "duration": 35,
    "start_time": "2021-12-10T06:53:33.133Z"
   },
   {
    "duration": 12,
    "start_time": "2021-12-10T06:54:30.330Z"
   },
   {
    "duration": 6,
    "start_time": "2021-12-10T07:01:36.769Z"
   },
   {
    "duration": 791,
    "start_time": "2021-12-10T07:03:33.558Z"
   },
   {
    "duration": 1138,
    "start_time": "2021-12-10T07:03:39.233Z"
   },
   {
    "duration": 67,
    "start_time": "2021-12-10T07:03:46.290Z"
   },
   {
    "duration": 969,
    "start_time": "2021-12-10T07:03:53.103Z"
   },
   {
    "duration": 16,
    "start_time": "2021-12-10T07:03:56.927Z"
   },
   {
    "duration": 22,
    "start_time": "2021-12-10T07:04:04.831Z"
   },
   {
    "duration": 6,
    "start_time": "2021-12-10T07:04:08.074Z"
   },
   {
    "duration": 22,
    "start_time": "2021-12-10T07:04:09.593Z"
   },
   {
    "duration": 13,
    "start_time": "2021-12-10T07:04:32.105Z"
   },
   {
    "duration": 499,
    "start_time": "2021-12-10T07:49:22.354Z"
   },
   {
    "duration": 880,
    "start_time": "2021-12-10T07:49:32.528Z"
   },
   {
    "duration": 15,
    "start_time": "2021-12-10T07:49:33.411Z"
   },
   {
    "duration": 40,
    "start_time": "2021-12-10T07:49:33.429Z"
   },
   {
    "duration": 6,
    "start_time": "2021-12-10T07:49:33.471Z"
   },
   {
    "duration": 13,
    "start_time": "2021-12-10T07:49:33.479Z"
   },
   {
    "duration": 14,
    "start_time": "2021-12-10T07:49:33.494Z"
   },
   {
    "duration": 4,
    "start_time": "2021-12-10T07:49:33.510Z"
   },
   {
    "duration": 46,
    "start_time": "2021-12-10T07:49:33.518Z"
   },
   {
    "duration": 5,
    "start_time": "2021-12-10T08:05:19.928Z"
   },
   {
    "duration": 15,
    "start_time": "2021-12-10T08:05:24.929Z"
   },
   {
    "duration": 17,
    "start_time": "2021-12-10T08:05:29.795Z"
   },
   {
    "duration": 61,
    "start_time": "2021-12-10T08:05:33.445Z"
   },
   {
    "duration": 21,
    "start_time": "2021-12-10T08:05:35.009Z"
   },
   {
    "duration": 13,
    "start_time": "2021-12-10T08:05:46.097Z"
   },
   {
    "duration": 5,
    "start_time": "2021-12-10T08:05:49.165Z"
   },
   {
    "duration": 13,
    "start_time": "2021-12-10T08:05:51.143Z"
   },
   {
    "duration": 555,
    "start_time": "2021-12-10T08:15:46.057Z"
   },
   {
    "duration": 12,
    "start_time": "2021-12-10T08:15:52.244Z"
   },
   {
    "duration": 9,
    "start_time": "2021-12-10T08:18:36.706Z"
   },
   {
    "duration": 141,
    "start_time": "2021-12-10T08:19:40.292Z"
   },
   {
    "duration": 5,
    "start_time": "2021-12-10T08:20:16.932Z"
   },
   {
    "duration": 35,
    "start_time": "2021-12-10T08:20:48.096Z"
   },
   {
    "duration": 27,
    "start_time": "2021-12-10T08:21:05.174Z"
   },
   {
    "duration": 12,
    "start_time": "2021-12-10T08:21:10.921Z"
   },
   {
    "duration": 35,
    "start_time": "2021-12-10T08:29:31.230Z"
   },
   {
    "duration": 4,
    "start_time": "2021-12-10T08:31:42.254Z"
   },
   {
    "duration": 13,
    "start_time": "2021-12-10T08:31:49.665Z"
   },
   {
    "duration": 28,
    "start_time": "2021-12-10T08:33:03.906Z"
   },
   {
    "duration": 27,
    "start_time": "2021-12-10T08:33:33.796Z"
   },
   {
    "duration": 5,
    "start_time": "2021-12-10T09:07:07.630Z"
   },
   {
    "duration": 20,
    "start_time": "2021-12-10T09:08:53.465Z"
   },
   {
    "duration": 10,
    "start_time": "2021-12-10T09:11:52.269Z"
   },
   {
    "duration": 16,
    "start_time": "2021-12-10T09:13:25.027Z"
   },
   {
    "duration": 24,
    "start_time": "2021-12-10T09:13:52.848Z"
   },
   {
    "duration": 25,
    "start_time": "2021-12-10T09:16:22.785Z"
   },
   {
    "duration": 26,
    "start_time": "2021-12-10T09:18:01.647Z"
   },
   {
    "duration": 49,
    "start_time": "2021-12-10T09:19:24.756Z"
   },
   {
    "duration": 26,
    "start_time": "2021-12-10T09:20:01.578Z"
   },
   {
    "duration": 959,
    "start_time": "2021-12-10T09:20:17.531Z"
   },
   {
    "duration": 41,
    "start_time": "2021-12-10T09:20:18.492Z"
   },
   {
    "duration": 34,
    "start_time": "2021-12-10T09:20:18.539Z"
   },
   {
    "duration": 4,
    "start_time": "2021-12-10T09:20:18.575Z"
   },
   {
    "duration": 17,
    "start_time": "2021-12-10T09:20:18.581Z"
   },
   {
    "duration": 12,
    "start_time": "2021-12-10T09:20:18.600Z"
   },
   {
    "duration": 57,
    "start_time": "2021-12-10T09:20:18.616Z"
   },
   {
    "duration": 5,
    "start_time": "2021-12-10T09:20:18.676Z"
   },
   {
    "duration": 22,
    "start_time": "2021-12-10T09:20:18.683Z"
   },
   {
    "duration": 24,
    "start_time": "2021-12-10T09:20:18.707Z"
   },
   {
    "duration": 10,
    "start_time": "2021-12-10T09:20:18.760Z"
   },
   {
    "duration": 36,
    "start_time": "2021-12-10T09:20:18.773Z"
   },
   {
    "duration": 64,
    "start_time": "2021-12-10T09:20:18.811Z"
   },
   {
    "duration": 22,
    "start_time": "2021-12-10T09:20:18.877Z"
   },
   {
    "duration": 25,
    "start_time": "2021-12-10T09:21:10.906Z"
   },
   {
    "duration": 21,
    "start_time": "2021-12-10T09:21:13.433Z"
   },
   {
    "duration": 132,
    "start_time": "2021-12-10T09:22:52.179Z"
   },
   {
    "duration": 7,
    "start_time": "2021-12-10T09:23:00.639Z"
   },
   {
    "duration": 827,
    "start_time": "2021-12-10T09:28:49.922Z"
   },
   {
    "duration": 39,
    "start_time": "2021-12-10T09:28:50.752Z"
   },
   {
    "duration": 14,
    "start_time": "2021-12-10T09:28:50.794Z"
   },
   {
    "duration": 4,
    "start_time": "2021-12-10T09:28:50.810Z"
   },
   {
    "duration": 12,
    "start_time": "2021-12-10T09:28:50.817Z"
   },
   {
    "duration": 29,
    "start_time": "2021-12-10T09:28:50.832Z"
   },
   {
    "duration": 27,
    "start_time": "2021-12-10T09:28:50.863Z"
   },
   {
    "duration": 5,
    "start_time": "2021-12-10T09:28:50.893Z"
   },
   {
    "duration": 22,
    "start_time": "2021-12-10T09:28:50.901Z"
   },
   {
    "duration": 53,
    "start_time": "2021-12-10T09:28:50.925Z"
   },
   {
    "duration": 7,
    "start_time": "2021-12-10T09:28:50.981Z"
   },
   {
    "duration": 12,
    "start_time": "2021-12-10T09:28:50.991Z"
   },
   {
    "duration": 64,
    "start_time": "2021-12-10T09:28:51.005Z"
   },
   {
    "duration": 27,
    "start_time": "2021-12-10T09:28:51.071Z"
   },
   {
    "duration": 21,
    "start_time": "2021-12-10T09:28:51.100Z"
   },
   {
    "duration": 10,
    "start_time": "2021-12-10T09:39:16.400Z"
   },
   {
    "duration": 621,
    "start_time": "2021-12-10T10:26:14.142Z"
   },
   {
    "duration": 7,
    "start_time": "2021-12-10T10:26:19.264Z"
   },
   {
    "duration": 3724,
    "start_time": "2021-12-10T10:26:21.793Z"
   },
   {
    "duration": 941,
    "start_time": "2021-12-10T10:26:43.930Z"
   },
   {
    "duration": 43,
    "start_time": "2021-12-10T10:26:44.874Z"
   },
   {
    "duration": 40,
    "start_time": "2021-12-10T10:26:44.921Z"
   },
   {
    "duration": 5,
    "start_time": "2021-12-10T10:26:44.964Z"
   },
   {
    "duration": 10,
    "start_time": "2021-12-10T10:26:44.972Z"
   },
   {
    "duration": 6,
    "start_time": "2021-12-10T10:26:44.984Z"
   },
   {
    "duration": 28,
    "start_time": "2021-12-10T10:26:44.992Z"
   },
   {
    "duration": 38,
    "start_time": "2021-12-10T10:26:45.024Z"
   },
   {
    "duration": 23,
    "start_time": "2021-12-10T10:26:45.064Z"
   },
   {
    "duration": 25,
    "start_time": "2021-12-10T10:26:45.090Z"
   },
   {
    "duration": 45,
    "start_time": "2021-12-10T10:26:45.119Z"
   },
   {
    "duration": 25,
    "start_time": "2021-12-10T10:26:45.167Z"
   },
   {
    "duration": 72,
    "start_time": "2021-12-10T10:26:45.195Z"
   },
   {
    "duration": 26,
    "start_time": "2021-12-10T10:26:45.270Z"
   },
   {
    "duration": 6,
    "start_time": "2021-12-10T10:26:45.299Z"
   },
   {
    "duration": 15,
    "start_time": "2021-12-10T10:26:45.308Z"
   },
   {
    "duration": 35,
    "start_time": "2021-12-10T10:26:45.326Z"
   },
   {
    "duration": 5532,
    "start_time": "2021-12-10T10:26:45.364Z"
   },
   {
    "duration": -26,
    "start_time": "2021-12-10T10:48:19.352Z"
   },
   {
    "duration": 12763,
    "start_time": "2021-12-10T10:48:21.374Z"
   },
   {
    "duration": 26,
    "start_time": "2021-12-10T10:48:38.799Z"
   },
   {
    "duration": 11,
    "start_time": "2021-12-10T10:50:44.625Z"
   },
   {
    "duration": 11,
    "start_time": "2021-12-10T11:07:44.278Z"
   },
   {
    "duration": 18,
    "start_time": "2021-12-10T11:07:51.341Z"
   },
   {
    "duration": 18,
    "start_time": "2021-12-10T11:08:02.716Z"
   },
   {
    "duration": 12,
    "start_time": "2021-12-10T11:08:13.868Z"
   },
   {
    "duration": 11,
    "start_time": "2021-12-10T11:10:27.459Z"
   },
   {
    "duration": 7,
    "start_time": "2021-12-10T11:12:23.186Z"
   },
   {
    "duration": 11,
    "start_time": "2021-12-10T11:13:59.371Z"
   },
   {
    "duration": 6,
    "start_time": "2021-12-10T11:14:13.169Z"
   },
   {
    "duration": 7,
    "start_time": "2021-12-10T11:16:06.170Z"
   },
   {
    "duration": 14,
    "start_time": "2021-12-10T11:17:15.639Z"
   },
   {
    "duration": 11,
    "start_time": "2021-12-10T11:17:26.668Z"
   },
   {
    "duration": 937,
    "start_time": "2021-12-10T11:19:09.008Z"
   },
   {
    "duration": 41,
    "start_time": "2021-12-10T11:19:09.948Z"
   },
   {
    "duration": 15,
    "start_time": "2021-12-10T11:19:09.993Z"
   },
   {
    "duration": 6,
    "start_time": "2021-12-10T11:19:10.011Z"
   },
   {
    "duration": 44,
    "start_time": "2021-12-10T11:19:10.020Z"
   },
   {
    "duration": 12,
    "start_time": "2021-12-10T11:19:10.067Z"
   },
   {
    "duration": 37,
    "start_time": "2021-12-10T11:19:10.082Z"
   },
   {
    "duration": 9,
    "start_time": "2021-12-10T11:19:10.123Z"
   },
   {
    "duration": 33,
    "start_time": "2021-12-10T11:19:10.135Z"
   },
   {
    "duration": 9,
    "start_time": "2021-12-10T11:19:10.172Z"
   },
   {
    "duration": 6,
    "start_time": "2021-12-10T11:19:10.185Z"
   },
   {
    "duration": 8,
    "start_time": "2021-12-10T11:19:10.194Z"
   },
   {
    "duration": 57,
    "start_time": "2021-12-10T11:19:10.206Z"
   },
   {
    "duration": 6,
    "start_time": "2021-12-10T11:19:10.266Z"
   },
   {
    "duration": 30,
    "start_time": "2021-12-10T11:19:10.274Z"
   },
   {
    "duration": 58,
    "start_time": "2021-12-10T11:19:10.307Z"
   },
   {
    "duration": 9,
    "start_time": "2021-12-10T11:19:10.368Z"
   },
   {
    "duration": 37,
    "start_time": "2021-12-10T11:19:10.380Z"
   },
   {
    "duration": 54,
    "start_time": "2021-12-10T11:19:10.420Z"
   },
   {
    "duration": 20,
    "start_time": "2021-12-10T11:19:10.477Z"
   },
   {
    "duration": 10,
    "start_time": "2021-12-10T11:19:10.500Z"
   },
   {
    "duration": 9,
    "start_time": "2021-12-10T11:19:10.513Z"
   },
   {
    "duration": 5,
    "start_time": "2021-12-10T11:19:10.562Z"
   },
   {
    "duration": 5193,
    "start_time": "2021-12-10T11:19:10.569Z"
   },
   {
    "duration": 50,
    "start_time": "2021-12-10T11:26:02.445Z"
   },
   {
    "duration": 4,
    "start_time": "2021-12-10T11:37:16.388Z"
   },
   {
    "duration": 198,
    "start_time": "2021-12-10T11:37:17.843Z"
   },
   {
    "duration": 37,
    "start_time": "2021-12-10T11:37:27.336Z"
   },
   {
    "duration": 2804,
    "start_time": "2021-12-10T11:38:03.448Z"
   },
   {
    "duration": 2111,
    "start_time": "2021-12-10T11:38:15.437Z"
   },
   {
    "duration": 2114,
    "start_time": "2021-12-10T11:38:34.795Z"
   },
   {
    "duration": 4,
    "start_time": "2021-12-10T11:38:39.657Z"
   },
   {
    "duration": 2673,
    "start_time": "2021-12-10T11:38:41.044Z"
   },
   {
    "duration": 2038,
    "start_time": "2021-12-10T11:38:51.376Z"
   },
   {
    "duration": 910,
    "start_time": "2021-12-10T11:39:45.657Z"
   },
   {
    "duration": 44,
    "start_time": "2021-12-10T11:39:46.570Z"
   },
   {
    "duration": 41,
    "start_time": "2021-12-10T11:39:46.620Z"
   },
   {
    "duration": 6,
    "start_time": "2021-12-10T11:39:46.664Z"
   },
   {
    "duration": 14,
    "start_time": "2021-12-10T11:39:46.673Z"
   },
   {
    "duration": 5,
    "start_time": "2021-12-10T11:39:46.690Z"
   },
   {
    "duration": 60,
    "start_time": "2021-12-10T11:39:46.699Z"
   },
   {
    "duration": 10,
    "start_time": "2021-12-10T11:39:46.763Z"
   },
   {
    "duration": 16,
    "start_time": "2021-12-10T11:39:46.776Z"
   },
   {
    "duration": 10,
    "start_time": "2021-12-10T11:39:46.796Z"
   },
   {
    "duration": 8,
    "start_time": "2021-12-10T11:39:46.809Z"
   },
   {
    "duration": 44,
    "start_time": "2021-12-10T11:39:46.820Z"
   },
   {
    "duration": 15,
    "start_time": "2021-12-10T11:39:46.867Z"
   },
   {
    "duration": 6,
    "start_time": "2021-12-10T11:39:46.885Z"
   },
   {
    "duration": 66,
    "start_time": "2021-12-10T11:39:46.895Z"
   },
   {
    "duration": 28,
    "start_time": "2021-12-10T11:39:46.964Z"
   },
   {
    "duration": 6,
    "start_time": "2021-12-10T11:39:46.995Z"
   },
   {
    "duration": 56,
    "start_time": "2021-12-10T11:39:47.004Z"
   },
   {
    "duration": 29,
    "start_time": "2021-12-10T11:39:47.063Z"
   },
   {
    "duration": 21,
    "start_time": "2021-12-10T11:39:47.094Z"
   },
   {
    "duration": 12,
    "start_time": "2021-12-10T11:39:47.117Z"
   },
   {
    "duration": 34,
    "start_time": "2021-12-10T11:39:47.134Z"
   },
   {
    "duration": 7,
    "start_time": "2021-12-10T11:39:47.171Z"
   },
   {
    "duration": 5105,
    "start_time": "2021-12-10T11:39:47.181Z"
   },
   {
    "duration": 37,
    "start_time": "2021-12-10T11:39:52.290Z"
   },
   {
    "duration": 30,
    "start_time": "2021-12-10T11:39:52.330Z"
   },
   {
    "duration": 40,
    "start_time": "2021-12-10T11:39:52.362Z"
   },
   {
    "duration": 46,
    "start_time": "2021-12-10T11:41:43.460Z"
   },
   {
    "duration": 34,
    "start_time": "2021-12-10T11:42:07.749Z"
   },
   {
    "duration": 982,
    "start_time": "2021-12-10T11:50:55.550Z"
   },
   {
    "duration": 39,
    "start_time": "2021-12-10T11:50:56.535Z"
   },
   {
    "duration": 13,
    "start_time": "2021-12-10T11:50:56.577Z"
   },
   {
    "duration": 4,
    "start_time": "2021-12-10T11:50:56.593Z"
   },
   {
    "duration": 10,
    "start_time": "2021-12-10T11:50:56.600Z"
   },
   {
    "duration": 4,
    "start_time": "2021-12-10T11:50:56.613Z"
   },
   {
    "duration": 27,
    "start_time": "2021-12-10T11:50:56.660Z"
   },
   {
    "duration": 9,
    "start_time": "2021-12-10T11:50:56.690Z"
   },
   {
    "duration": 12,
    "start_time": "2021-12-10T11:50:56.702Z"
   },
   {
    "duration": 7,
    "start_time": "2021-12-10T11:50:56.716Z"
   },
   {
    "duration": 8,
    "start_time": "2021-12-10T11:50:56.760Z"
   },
   {
    "duration": 7,
    "start_time": "2021-12-10T11:50:56.771Z"
   },
   {
    "duration": 12,
    "start_time": "2021-12-10T11:50:56.781Z"
   },
   {
    "duration": 6,
    "start_time": "2021-12-10T11:50:56.796Z"
   },
   {
    "duration": 74,
    "start_time": "2021-12-10T11:50:56.805Z"
   },
   {
    "duration": 23,
    "start_time": "2021-12-10T11:50:56.883Z"
   },
   {
    "duration": 9,
    "start_time": "2021-12-10T11:50:56.908Z"
   },
   {
    "duration": 61,
    "start_time": "2021-12-10T11:50:56.920Z"
   },
   {
    "duration": 31,
    "start_time": "2021-12-10T11:50:56.984Z"
   },
   {
    "duration": 53,
    "start_time": "2021-12-10T11:50:57.018Z"
   },
   {
    "duration": 6,
    "start_time": "2021-12-10T11:50:57.073Z"
   },
   {
    "duration": 12,
    "start_time": "2021-12-10T11:50:57.081Z"
   },
   {
    "duration": 6,
    "start_time": "2021-12-10T11:50:57.098Z"
   },
   {
    "duration": 5219,
    "start_time": "2021-12-10T11:50:57.107Z"
   },
   {
    "duration": 51,
    "start_time": "2021-12-10T11:51:02.329Z"
   },
   {
    "duration": 4,
    "start_time": "2021-12-10T11:51:02.383Z"
   },
   {
    "duration": 36,
    "start_time": "2021-12-10T11:51:02.389Z"
   },
   {
    "duration": 62,
    "start_time": "2021-12-10T11:51:02.428Z"
   },
   {
    "duration": 5,
    "start_time": "2021-12-10T11:51:02.492Z"
   },
   {
    "duration": 2200,
    "start_time": "2021-12-10T11:51:02.500Z"
   },
   {
    "duration": 5,
    "start_time": "2021-12-10T11:51:15.947Z"
   },
   {
    "duration": 41,
    "start_time": "2021-12-10T11:51:16.996Z"
   },
   {
    "duration": 1632,
    "start_time": "2021-12-10T11:51:30.964Z"
   },
   {
    "duration": 1645,
    "start_time": "2021-12-10T11:51:45.579Z"
   },
   {
    "duration": 4,
    "start_time": "2021-12-10T11:51:49.628Z"
   },
   {
    "duration": 41,
    "start_time": "2021-12-10T11:51:50.317Z"
   },
   {
    "duration": 25,
    "start_time": "2021-12-10T12:05:12.399Z"
   },
   {
    "duration": 20,
    "start_time": "2021-12-10T12:10:21.467Z"
   },
   {
    "duration": 402,
    "start_time": "2021-12-10T12:19:20.453Z"
   },
   {
    "duration": 18,
    "start_time": "2021-12-10T12:19:45.408Z"
   },
   {
    "duration": 14,
    "start_time": "2021-12-10T12:21:23.992Z"
   },
   {
    "duration": 290,
    "start_time": "2021-12-10T15:49:29.947Z"
   },
   {
    "duration": 648,
    "start_time": "2021-12-10T15:50:09.364Z"
   },
   {
    "duration": 27,
    "start_time": "2021-12-10T15:50:10.014Z"
   },
   {
    "duration": 10,
    "start_time": "2021-12-10T15:50:10.044Z"
   },
   {
    "duration": 3,
    "start_time": "2021-12-10T15:50:10.056Z"
   },
   {
    "duration": 30,
    "start_time": "2021-12-10T15:50:10.061Z"
   },
   {
    "duration": 4,
    "start_time": "2021-12-10T15:50:10.093Z"
   },
   {
    "duration": 19,
    "start_time": "2021-12-10T15:50:10.099Z"
   },
   {
    "duration": 6,
    "start_time": "2021-12-10T15:50:10.121Z"
   },
   {
    "duration": 8,
    "start_time": "2021-12-10T15:50:10.128Z"
   },
   {
    "duration": 5,
    "start_time": "2021-12-10T15:50:10.137Z"
   },
   {
    "duration": 5,
    "start_time": "2021-12-10T15:50:10.143Z"
   },
   {
    "duration": 8,
    "start_time": "2021-12-10T15:50:10.149Z"
   },
   {
    "duration": 34,
    "start_time": "2021-12-10T15:50:10.158Z"
   },
   {
    "duration": 3,
    "start_time": "2021-12-10T15:50:10.194Z"
   },
   {
    "duration": 13,
    "start_time": "2021-12-10T15:50:10.198Z"
   },
   {
    "duration": 15,
    "start_time": "2021-12-10T15:50:10.213Z"
   },
   {
    "duration": 4,
    "start_time": "2021-12-10T15:50:10.229Z"
   },
   {
    "duration": 17,
    "start_time": "2021-12-10T15:50:10.235Z"
   },
   {
    "duration": 47,
    "start_time": "2021-12-10T15:50:10.253Z"
   },
   {
    "duration": 13,
    "start_time": "2021-12-10T15:50:10.302Z"
   },
   {
    "duration": 4,
    "start_time": "2021-12-10T15:50:10.316Z"
   },
   {
    "duration": 12,
    "start_time": "2021-12-10T15:50:10.321Z"
   },
   {
    "duration": 4,
    "start_time": "2021-12-10T15:50:10.336Z"
   },
   {
    "duration": 3323,
    "start_time": "2021-12-10T15:50:10.341Z"
   },
   {
    "duration": 33,
    "start_time": "2021-12-10T15:50:13.666Z"
   },
   {
    "duration": 3,
    "start_time": "2021-12-10T15:50:13.701Z"
   },
   {
    "duration": 37,
    "start_time": "2021-12-10T15:50:13.706Z"
   },
   {
    "duration": 24,
    "start_time": "2021-12-10T15:50:13.744Z"
   },
   {
    "duration": 2,
    "start_time": "2021-12-10T15:50:13.770Z"
   },
   {
    "duration": 30,
    "start_time": "2021-12-10T15:50:13.774Z"
   },
   {
    "duration": 14,
    "start_time": "2021-12-10T15:50:13.805Z"
   },
   {
    "duration": 11,
    "start_time": "2021-12-10T15:50:13.821Z"
   },
   {
    "duration": 26,
    "start_time": "2021-12-10T15:50:13.834Z"
   },
   {
    "duration": 27,
    "start_time": "2021-12-10T15:50:13.862Z"
   },
   {
    "duration": 12,
    "start_time": "2021-12-10T15:50:13.890Z"
   },
   {
    "duration": 796,
    "start_time": "2021-12-10T18:17:43.509Z"
   },
   {
    "duration": 37,
    "start_time": "2021-12-10T18:17:44.308Z"
   },
   {
    "duration": 11,
    "start_time": "2021-12-10T18:17:44.348Z"
   },
   {
    "duration": 8,
    "start_time": "2021-12-10T18:17:44.361Z"
   },
   {
    "duration": 10,
    "start_time": "2021-12-10T18:17:44.371Z"
   },
   {
    "duration": 4,
    "start_time": "2021-12-10T18:17:44.383Z"
   },
   {
    "duration": 52,
    "start_time": "2021-12-10T18:17:44.390Z"
   },
   {
    "duration": 9,
    "start_time": "2021-12-10T18:17:44.445Z"
   },
   {
    "duration": 10,
    "start_time": "2021-12-10T18:17:44.457Z"
   },
   {
    "duration": 8,
    "start_time": "2021-12-10T18:17:44.469Z"
   },
   {
    "duration": 6,
    "start_time": "2021-12-10T18:17:44.479Z"
   },
   {
    "duration": 6,
    "start_time": "2021-12-10T18:17:44.524Z"
   },
   {
    "duration": 12,
    "start_time": "2021-12-10T18:17:44.532Z"
   },
   {
    "duration": 4,
    "start_time": "2021-12-10T18:17:44.546Z"
   },
   {
    "duration": 20,
    "start_time": "2021-12-10T18:17:44.552Z"
   },
   {
    "duration": 55,
    "start_time": "2021-12-10T18:17:44.574Z"
   },
   {
    "duration": 6,
    "start_time": "2021-12-10T18:17:44.631Z"
   },
   {
    "duration": 23,
    "start_time": "2021-12-10T18:17:44.639Z"
   },
   {
    "duration": 27,
    "start_time": "2021-12-10T18:17:44.664Z"
   },
   {
    "duration": 50,
    "start_time": "2021-12-10T18:17:44.693Z"
   },
   {
    "duration": 5,
    "start_time": "2021-12-10T18:17:44.745Z"
   },
   {
    "duration": 10,
    "start_time": "2021-12-10T18:17:44.752Z"
   },
   {
    "duration": 8,
    "start_time": "2021-12-10T18:17:44.766Z"
   },
   {
    "duration": 4569,
    "start_time": "2021-12-10T18:17:44.776Z"
   },
   {
    "duration": 34,
    "start_time": "2021-12-10T18:17:49.348Z"
   },
   {
    "duration": 3,
    "start_time": "2021-12-10T18:17:49.384Z"
   },
   {
    "duration": 62,
    "start_time": "2021-12-10T18:17:49.389Z"
   },
   {
    "duration": 33,
    "start_time": "2021-12-10T18:17:49.454Z"
   },
   {
    "duration": 4,
    "start_time": "2021-12-10T18:17:49.489Z"
   },
   {
    "duration": 56,
    "start_time": "2021-12-10T18:17:49.495Z"
   },
   {
    "duration": 22,
    "start_time": "2021-12-10T18:17:49.553Z"
   },
   {
    "duration": 15,
    "start_time": "2021-12-10T18:17:49.577Z"
   },
   {
    "duration": 40,
    "start_time": "2021-12-10T18:17:49.594Z"
   },
   {
    "duration": 13,
    "start_time": "2021-12-10T18:17:49.637Z"
   },
   {
    "duration": 16,
    "start_time": "2021-12-10T18:17:49.652Z"
   },
   {
    "duration": 14,
    "start_time": "2021-12-10T18:19:13.736Z"
   },
   {
    "duration": 989,
    "start_time": "2021-12-10T18:32:41.605Z"
   },
   {
    "duration": 41,
    "start_time": "2021-12-10T18:32:42.596Z"
   },
   {
    "duration": 13,
    "start_time": "2021-12-10T18:32:42.640Z"
   },
   {
    "duration": 15,
    "start_time": "2021-12-10T18:32:42.655Z"
   },
   {
    "duration": 28,
    "start_time": "2021-12-10T18:32:42.672Z"
   },
   {
    "duration": 10,
    "start_time": "2021-12-10T18:32:42.702Z"
   },
   {
    "duration": 39,
    "start_time": "2021-12-10T18:32:42.714Z"
   },
   {
    "duration": 15,
    "start_time": "2021-12-10T18:32:42.759Z"
   },
   {
    "duration": 19,
    "start_time": "2021-12-10T18:32:42.779Z"
   },
   {
    "duration": 25,
    "start_time": "2021-12-10T18:32:42.801Z"
   },
   {
    "duration": 7,
    "start_time": "2021-12-10T18:32:42.829Z"
   },
   {
    "duration": 16,
    "start_time": "2021-12-10T18:32:42.838Z"
   },
   {
    "duration": 22,
    "start_time": "2021-12-10T18:32:42.856Z"
   },
   {
    "duration": 4,
    "start_time": "2021-12-10T18:32:42.880Z"
   },
   {
    "duration": 41,
    "start_time": "2021-12-10T18:32:42.887Z"
   },
   {
    "duration": 32,
    "start_time": "2021-12-10T18:32:42.931Z"
   },
   {
    "duration": 7,
    "start_time": "2021-12-10T18:32:42.965Z"
   },
   {
    "duration": 37,
    "start_time": "2021-12-10T18:32:42.974Z"
   },
   {
    "duration": 35,
    "start_time": "2021-12-10T18:32:43.013Z"
   },
   {
    "duration": 21,
    "start_time": "2021-12-10T18:32:43.050Z"
   },
   {
    "duration": 11,
    "start_time": "2021-12-10T18:32:43.073Z"
   },
   {
    "duration": 37,
    "start_time": "2021-12-10T18:32:43.087Z"
   },
   {
    "duration": 5,
    "start_time": "2021-12-10T18:32:43.130Z"
   },
   {
    "duration": 4808,
    "start_time": "2021-12-10T18:32:43.137Z"
   },
   {
    "duration": 34,
    "start_time": "2021-12-10T18:32:47.948Z"
   },
   {
    "duration": 4,
    "start_time": "2021-12-10T18:32:47.984Z"
   },
   {
    "duration": 64,
    "start_time": "2021-12-10T18:32:47.991Z"
   },
   {
    "duration": 38,
    "start_time": "2021-12-10T18:32:48.057Z"
   },
   {
    "duration": 3,
    "start_time": "2021-12-10T18:32:48.098Z"
   },
   {
    "duration": 42,
    "start_time": "2021-12-10T18:32:48.124Z"
   },
   {
    "duration": 23,
    "start_time": "2021-12-10T18:32:48.168Z"
   },
   {
    "duration": 80,
    "start_time": "2021-12-10T18:32:48.194Z"
   },
   {
    "duration": 17,
    "start_time": "2021-12-10T18:32:48.276Z"
   },
   {
    "duration": 14,
    "start_time": "2021-12-10T18:32:48.295Z"
   },
   {
    "duration": 15,
    "start_time": "2021-12-10T18:32:48.311Z"
   },
   {
    "duration": 11,
    "start_time": "2021-12-10T18:32:48.328Z"
   },
   {
    "duration": 26,
    "start_time": "2021-12-10T18:35:25.629Z"
   },
   {
    "duration": 12,
    "start_time": "2021-12-10T18:36:14.771Z"
   },
   {
    "duration": 925,
    "start_time": "2021-12-11T12:03:24.187Z"
   },
   {
    "duration": 44,
    "start_time": "2021-12-11T12:03:25.115Z"
   },
   {
    "duration": 15,
    "start_time": "2021-12-11T12:03:25.163Z"
   },
   {
    "duration": 5,
    "start_time": "2021-12-11T12:03:25.181Z"
   },
   {
    "duration": 44,
    "start_time": "2021-12-11T12:03:25.188Z"
   },
   {
    "duration": 17,
    "start_time": "2021-12-11T12:03:25.234Z"
   },
   {
    "duration": 39,
    "start_time": "2021-12-11T12:03:25.254Z"
   },
   {
    "duration": 10,
    "start_time": "2021-12-11T12:03:25.298Z"
   },
   {
    "duration": 33,
    "start_time": "2021-12-11T12:03:25.311Z"
   },
   {
    "duration": 11,
    "start_time": "2021-12-11T12:03:25.347Z"
   },
   {
    "duration": 17,
    "start_time": "2021-12-11T12:03:25.360Z"
   },
   {
    "duration": 26,
    "start_time": "2021-12-11T12:03:25.379Z"
   },
   {
    "duration": 26,
    "start_time": "2021-12-11T12:03:25.408Z"
   },
   {
    "duration": 22,
    "start_time": "2021-12-11T12:03:25.436Z"
   },
   {
    "duration": 33,
    "start_time": "2021-12-11T12:03:25.461Z"
   },
   {
    "duration": 39,
    "start_time": "2021-12-11T12:03:25.496Z"
   },
   {
    "duration": 7,
    "start_time": "2021-12-11T12:03:25.538Z"
   },
   {
    "duration": 53,
    "start_time": "2021-12-11T12:03:25.548Z"
   },
   {
    "duration": 38,
    "start_time": "2021-12-11T12:03:25.604Z"
   },
   {
    "duration": 20,
    "start_time": "2021-12-11T12:03:25.644Z"
   },
   {
    "duration": 21,
    "start_time": "2021-12-11T12:03:25.667Z"
   },
   {
    "duration": 12,
    "start_time": "2021-12-11T12:03:25.690Z"
   },
   {
    "duration": 11,
    "start_time": "2021-12-11T12:03:25.707Z"
   },
   {
    "duration": 5438,
    "start_time": "2021-12-11T12:03:25.726Z"
   },
   {
    "duration": 35,
    "start_time": "2021-12-11T12:03:31.167Z"
   },
   {
    "duration": 28,
    "start_time": "2021-12-11T12:03:31.204Z"
   },
   {
    "duration": 53,
    "start_time": "2021-12-11T12:03:31.235Z"
   },
   {
    "duration": 46,
    "start_time": "2021-12-11T12:03:31.290Z"
   },
   {
    "duration": 4,
    "start_time": "2021-12-11T12:03:31.339Z"
   },
   {
    "duration": 60,
    "start_time": "2021-12-11T12:03:31.345Z"
   },
   {
    "duration": 32,
    "start_time": "2021-12-11T12:03:31.407Z"
   },
   {
    "duration": 20,
    "start_time": "2021-12-11T12:03:31.441Z"
   },
   {
    "duration": 18,
    "start_time": "2021-12-11T12:03:31.466Z"
   },
   {
    "duration": 13,
    "start_time": "2021-12-11T12:03:31.487Z"
   },
   {
    "duration": 21,
    "start_time": "2021-12-11T12:03:31.523Z"
   },
   {
    "duration": 19,
    "start_time": "2021-12-11T12:03:31.546Z"
   },
   {
    "duration": 21,
    "start_time": "2021-12-11T12:03:31.568Z"
   },
   {
    "duration": 42,
    "start_time": "2021-12-11T12:03:31.592Z"
   },
   {
    "duration": 10,
    "start_time": "2021-12-11T12:06:05.623Z"
   },
   {
    "duration": 7,
    "start_time": "2021-12-11T12:06:18.678Z"
   },
   {
    "duration": 9,
    "start_time": "2021-12-11T12:06:39.864Z"
   },
   {
    "duration": 463,
    "start_time": "2021-12-11T12:07:52.177Z"
   },
   {
    "duration": 20,
    "start_time": "2021-12-11T12:07:56.338Z"
   },
   {
    "duration": 19,
    "start_time": "2021-12-11T12:08:16.566Z"
   },
   {
    "duration": 214,
    "start_time": "2021-12-13T04:11:47.279Z"
   },
   {
    "duration": 629,
    "start_time": "2021-12-13T04:12:05.840Z"
   },
   {
    "duration": 25,
    "start_time": "2021-12-13T04:12:06.471Z"
   },
   {
    "duration": 9,
    "start_time": "2021-12-13T04:12:06.498Z"
   },
   {
    "duration": 12,
    "start_time": "2021-12-13T04:12:06.509Z"
   },
   {
    "duration": 26,
    "start_time": "2021-12-13T04:12:06.523Z"
   },
   {
    "duration": 25,
    "start_time": "2021-12-13T04:12:06.551Z"
   },
   {
    "duration": 25,
    "start_time": "2021-12-13T04:12:06.578Z"
   },
   {
    "duration": 9,
    "start_time": "2021-12-13T04:12:06.605Z"
   },
   {
    "duration": 8,
    "start_time": "2021-12-13T04:12:06.616Z"
   },
   {
    "duration": 9,
    "start_time": "2021-12-13T04:12:06.625Z"
   },
   {
    "duration": 24,
    "start_time": "2021-12-13T04:12:06.636Z"
   },
   {
    "duration": 26,
    "start_time": "2021-12-13T04:12:06.662Z"
   },
   {
    "duration": 41,
    "start_time": "2021-12-13T04:12:06.689Z"
   },
   {
    "duration": 17,
    "start_time": "2021-12-13T04:12:06.732Z"
   },
   {
    "duration": 51,
    "start_time": "2021-12-13T04:12:06.750Z"
   },
   {
    "duration": 33,
    "start_time": "2021-12-13T04:12:06.802Z"
   },
   {
    "duration": 5,
    "start_time": "2021-12-13T04:12:06.837Z"
   },
   {
    "duration": 19,
    "start_time": "2021-12-13T04:12:06.843Z"
   },
   {
    "duration": 27,
    "start_time": "2021-12-13T04:12:06.864Z"
   },
   {
    "duration": 16,
    "start_time": "2021-12-13T04:12:06.893Z"
   },
   {
    "duration": 4,
    "start_time": "2021-12-13T04:12:06.910Z"
   },
   {
    "duration": 36,
    "start_time": "2021-12-13T04:12:06.916Z"
   },
   {
    "duration": 9,
    "start_time": "2021-12-13T04:12:06.955Z"
   },
   {
    "duration": 3381,
    "start_time": "2021-12-13T04:12:06.965Z"
   },
   {
    "duration": 44,
    "start_time": "2021-12-13T04:12:10.348Z"
   },
   {
    "duration": 4,
    "start_time": "2021-12-13T04:12:10.395Z"
   },
   {
    "duration": 30,
    "start_time": "2021-12-13T04:12:10.401Z"
   },
   {
    "duration": 24,
    "start_time": "2021-12-13T04:12:10.433Z"
   },
   {
    "duration": 3,
    "start_time": "2021-12-13T04:12:10.459Z"
   },
   {
    "duration": 50,
    "start_time": "2021-12-13T04:12:10.463Z"
   },
   {
    "duration": 7,
    "start_time": "2021-12-13T04:12:10.515Z"
   },
   {
    "duration": 18,
    "start_time": "2021-12-13T04:12:10.524Z"
   },
   {
    "duration": 9,
    "start_time": "2021-12-13T04:12:10.544Z"
   },
   {
    "duration": 41,
    "start_time": "2021-12-13T04:12:10.554Z"
   },
   {
    "duration": 12,
    "start_time": "2021-12-13T04:12:10.597Z"
   },
   {
    "duration": 9,
    "start_time": "2021-12-13T04:12:10.611Z"
   },
   {
    "duration": 11,
    "start_time": "2021-12-13T04:12:10.622Z"
   },
   {
    "duration": 8,
    "start_time": "2021-12-13T04:12:10.634Z"
   },
   {
    "duration": 12,
    "start_time": "2021-12-13T04:12:10.644Z"
   },
   {
    "duration": 11,
    "start_time": "2021-12-13T04:12:10.691Z"
   },
   {
    "duration": 4,
    "start_time": "2021-12-13T04:22:43.832Z"
   },
   {
    "duration": 594,
    "start_time": "2021-12-13T04:23:16.014Z"
   },
   {
    "duration": 32,
    "start_time": "2021-12-13T04:23:16.610Z"
   },
   {
    "duration": 9,
    "start_time": "2021-12-13T04:23:16.644Z"
   },
   {
    "duration": 3,
    "start_time": "2021-12-13T04:23:16.655Z"
   },
   {
    "duration": 7,
    "start_time": "2021-12-13T04:23:16.660Z"
   },
   {
    "duration": 24,
    "start_time": "2021-12-13T04:23:16.669Z"
   },
   {
    "duration": 21,
    "start_time": "2021-12-13T04:23:16.695Z"
   },
   {
    "duration": 7,
    "start_time": "2021-12-13T04:23:16.718Z"
   },
   {
    "duration": 8,
    "start_time": "2021-12-13T04:23:16.728Z"
   },
   {
    "duration": 7,
    "start_time": "2021-12-13T04:23:16.738Z"
   },
   {
    "duration": 5,
    "start_time": "2021-12-13T04:23:16.747Z"
   },
   {
    "duration": 7,
    "start_time": "2021-12-13T04:23:16.792Z"
   },
   {
    "duration": 8,
    "start_time": "2021-12-13T04:23:16.801Z"
   },
   {
    "duration": 4,
    "start_time": "2021-12-13T04:23:16.811Z"
   },
   {
    "duration": 14,
    "start_time": "2021-12-13T04:23:16.817Z"
   },
   {
    "duration": 17,
    "start_time": "2021-12-13T04:23:16.833Z"
   },
   {
    "duration": 42,
    "start_time": "2021-12-13T04:23:16.853Z"
   },
   {
    "duration": 17,
    "start_time": "2021-12-13T04:23:16.896Z"
   },
   {
    "duration": 20,
    "start_time": "2021-12-13T04:23:16.915Z"
   },
   {
    "duration": 15,
    "start_time": "2021-12-13T04:23:16.937Z"
   },
   {
    "duration": 4,
    "start_time": "2021-12-13T04:23:16.954Z"
   },
   {
    "duration": 39,
    "start_time": "2021-12-13T04:23:16.959Z"
   },
   {
    "duration": 3,
    "start_time": "2021-12-13T04:23:17.001Z"
   },
   {
    "duration": 3642,
    "start_time": "2021-12-13T04:23:17.006Z"
   },
   {
    "duration": 25,
    "start_time": "2021-12-13T04:23:20.650Z"
   },
   {
    "duration": 3,
    "start_time": "2021-12-13T04:23:20.692Z"
   },
   {
    "duration": 27,
    "start_time": "2021-12-13T04:23:20.697Z"
   },
   {
    "duration": 26,
    "start_time": "2021-12-13T04:23:20.726Z"
   },
   {
    "duration": 3,
    "start_time": "2021-12-13T04:23:20.754Z"
   },
   {
    "duration": 51,
    "start_time": "2021-12-13T04:23:20.758Z"
   },
   {
    "duration": 7,
    "start_time": "2021-12-13T04:23:20.811Z"
   },
   {
    "duration": 19,
    "start_time": "2021-12-13T04:23:20.819Z"
   },
   {
    "duration": 9,
    "start_time": "2021-12-13T04:23:20.840Z"
   },
   {
    "duration": 42,
    "start_time": "2021-12-13T04:23:20.851Z"
   },
   {
    "duration": 13,
    "start_time": "2021-12-13T04:23:20.894Z"
   },
   {
    "duration": 10,
    "start_time": "2021-12-13T04:23:20.909Z"
   },
   {
    "duration": 12,
    "start_time": "2021-12-13T04:23:20.921Z"
   },
   {
    "duration": 9,
    "start_time": "2021-12-13T04:23:20.935Z"
   },
   {
    "duration": 47,
    "start_time": "2021-12-13T04:23:20.945Z"
   },
   {
    "duration": 10,
    "start_time": "2021-12-13T04:23:20.994Z"
   },
   {
    "duration": 7,
    "start_time": "2021-12-13T04:24:25.630Z"
   },
   {
    "duration": 7,
    "start_time": "2021-12-13T04:24:29.662Z"
   },
   {
    "duration": 9,
    "start_time": "2021-12-13T04:31:03.806Z"
   },
   {
    "duration": 604,
    "start_time": "2021-12-13T04:31:11.846Z"
   },
   {
    "duration": 26,
    "start_time": "2021-12-13T04:31:12.452Z"
   },
   {
    "duration": 13,
    "start_time": "2021-12-13T04:31:12.479Z"
   },
   {
    "duration": 9,
    "start_time": "2021-12-13T04:31:12.494Z"
   },
   {
    "duration": 11,
    "start_time": "2021-12-13T04:31:12.505Z"
   },
   {
    "duration": 4,
    "start_time": "2021-12-13T04:31:12.517Z"
   },
   {
    "duration": 18,
    "start_time": "2021-12-13T04:31:12.522Z"
   },
   {
    "duration": 6,
    "start_time": "2021-12-13T04:31:12.543Z"
   },
   {
    "duration": 7,
    "start_time": "2021-12-13T04:31:12.551Z"
   },
   {
    "duration": 5,
    "start_time": "2021-12-13T04:31:12.560Z"
   },
   {
    "duration": 6,
    "start_time": "2021-12-13T04:31:12.591Z"
   },
   {
    "duration": 7,
    "start_time": "2021-12-13T04:31:12.599Z"
   },
   {
    "duration": 7,
    "start_time": "2021-12-13T04:31:12.607Z"
   },
   {
    "duration": 3,
    "start_time": "2021-12-13T04:31:12.616Z"
   },
   {
    "duration": 13,
    "start_time": "2021-12-13T04:31:12.620Z"
   },
   {
    "duration": 14,
    "start_time": "2021-12-13T04:31:12.635Z"
   },
   {
    "duration": 4,
    "start_time": "2021-12-13T04:31:12.651Z"
   },
   {
    "duration": 17,
    "start_time": "2021-12-13T04:31:12.692Z"
   },
   {
    "duration": 21,
    "start_time": "2021-12-13T04:31:12.710Z"
   },
   {
    "duration": 15,
    "start_time": "2021-12-13T04:31:12.732Z"
   },
   {
    "duration": 4,
    "start_time": "2021-12-13T04:31:12.748Z"
   },
   {
    "duration": 7,
    "start_time": "2021-12-13T04:31:12.754Z"
   },
   {
    "duration": 28,
    "start_time": "2021-12-13T04:31:12.764Z"
   },
   {
    "duration": 3442,
    "start_time": "2021-12-13T04:31:12.794Z"
   },
   {
    "duration": 23,
    "start_time": "2021-12-13T04:31:16.238Z"
   },
   {
    "duration": 3,
    "start_time": "2021-12-13T04:31:16.262Z"
   },
   {
    "duration": 40,
    "start_time": "2021-12-13T04:31:16.267Z"
   },
   {
    "duration": 23,
    "start_time": "2021-12-13T04:31:16.309Z"
   },
   {
    "duration": 3,
    "start_time": "2021-12-13T04:31:16.334Z"
   },
   {
    "duration": 27,
    "start_time": "2021-12-13T04:31:16.338Z"
   },
   {
    "duration": 28,
    "start_time": "2021-12-13T04:31:16.367Z"
   },
   {
    "duration": 18,
    "start_time": "2021-12-13T04:31:16.397Z"
   },
   {
    "duration": 6,
    "start_time": "2021-12-13T04:31:16.416Z"
   },
   {
    "duration": 13,
    "start_time": "2021-12-13T04:31:16.424Z"
   },
   {
    "duration": 12,
    "start_time": "2021-12-13T04:31:16.438Z"
   },
   {
    "duration": 40,
    "start_time": "2021-12-13T04:31:16.452Z"
   },
   {
    "duration": 11,
    "start_time": "2021-12-13T04:31:16.494Z"
   },
   {
    "duration": 10,
    "start_time": "2021-12-13T04:31:16.507Z"
   },
   {
    "duration": 11,
    "start_time": "2021-12-13T04:31:16.519Z"
   },
   {
    "duration": 8,
    "start_time": "2021-12-13T04:31:16.532Z"
   },
   {
    "duration": 8,
    "start_time": "2021-12-13T04:51:20.420Z"
   },
   {
    "duration": 8,
    "start_time": "2021-12-13T04:51:56.353Z"
   },
   {
    "duration": 660,
    "start_time": "2021-12-13T06:05:36.094Z"
   },
   {
    "duration": 27,
    "start_time": "2021-12-13T06:05:36.756Z"
   },
   {
    "duration": 9,
    "start_time": "2021-12-13T06:05:36.785Z"
   },
   {
    "duration": 3,
    "start_time": "2021-12-13T06:05:36.796Z"
   },
   {
    "duration": 9,
    "start_time": "2021-12-13T06:05:36.801Z"
   },
   {
    "duration": 4,
    "start_time": "2021-12-13T06:05:36.811Z"
   },
   {
    "duration": 21,
    "start_time": "2021-12-13T06:05:36.816Z"
   },
   {
    "duration": 7,
    "start_time": "2021-12-13T06:05:36.841Z"
   },
   {
    "duration": 40,
    "start_time": "2021-12-13T06:05:36.851Z"
   },
   {
    "duration": 6,
    "start_time": "2021-12-13T06:05:36.893Z"
   },
   {
    "duration": 6,
    "start_time": "2021-12-13T06:05:36.901Z"
   },
   {
    "duration": 7,
    "start_time": "2021-12-13T06:05:36.908Z"
   },
   {
    "duration": 5,
    "start_time": "2021-12-13T06:05:36.917Z"
   },
   {
    "duration": 16,
    "start_time": "2021-12-13T06:05:36.924Z"
   },
   {
    "duration": 18,
    "start_time": "2021-12-13T06:05:36.942Z"
   },
   {
    "duration": 33,
    "start_time": "2021-12-13T06:05:36.962Z"
   },
   {
    "duration": 26,
    "start_time": "2021-12-13T06:05:36.996Z"
   },
   {
    "duration": 20,
    "start_time": "2021-12-13T06:05:37.023Z"
   },
   {
    "duration": 13,
    "start_time": "2021-12-13T06:05:37.044Z"
   },
   {
    "duration": 33,
    "start_time": "2021-12-13T06:05:37.059Z"
   },
   {
    "duration": 11,
    "start_time": "2021-12-13T06:05:37.093Z"
   },
   {
    "duration": 4,
    "start_time": "2021-12-13T06:05:37.106Z"
   },
   {
    "duration": 3794,
    "start_time": "2021-12-13T06:05:37.113Z"
   },
   {
    "duration": 22,
    "start_time": "2021-12-13T06:05:40.909Z"
   },
   {
    "duration": 2,
    "start_time": "2021-12-13T06:05:40.933Z"
   },
   {
    "duration": 23,
    "start_time": "2021-12-13T06:05:40.937Z"
   },
   {
    "duration": 51,
    "start_time": "2021-12-13T06:05:40.961Z"
   },
   {
    "duration": 3,
    "start_time": "2021-12-13T06:05:41.013Z"
   },
   {
    "duration": 27,
    "start_time": "2021-12-13T06:05:41.019Z"
   },
   {
    "duration": 7,
    "start_time": "2021-12-13T06:05:41.048Z"
   },
   {
    "duration": 44,
    "start_time": "2021-12-13T06:05:41.057Z"
   },
   {
    "duration": 6,
    "start_time": "2021-12-13T06:05:41.103Z"
   },
   {
    "duration": 12,
    "start_time": "2021-12-13T06:05:41.111Z"
   },
   {
    "duration": 11,
    "start_time": "2021-12-13T06:05:41.125Z"
   },
   {
    "duration": 6,
    "start_time": "2021-12-13T06:05:41.138Z"
   },
   {
    "duration": 46,
    "start_time": "2021-12-13T06:05:41.146Z"
   },
   {
    "duration": 6,
    "start_time": "2021-12-13T06:05:41.194Z"
   },
   {
    "duration": 11,
    "start_time": "2021-12-13T06:05:41.202Z"
   },
   {
    "duration": 6,
    "start_time": "2021-12-13T06:05:41.214Z"
   },
   {
    "duration": 628,
    "start_time": "2021-12-13T06:09:43.265Z"
   },
   {
    "duration": 31,
    "start_time": "2021-12-13T06:09:43.894Z"
   },
   {
    "duration": 10,
    "start_time": "2021-12-13T06:09:43.930Z"
   },
   {
    "duration": 3,
    "start_time": "2021-12-13T06:09:43.942Z"
   },
   {
    "duration": 11,
    "start_time": "2021-12-13T06:09:43.947Z"
   },
   {
    "duration": 33,
    "start_time": "2021-12-13T06:09:43.960Z"
   },
   {
    "duration": 21,
    "start_time": "2021-12-13T06:09:43.996Z"
   },
   {
    "duration": 7,
    "start_time": "2021-12-13T06:09:44.019Z"
   },
   {
    "duration": 9,
    "start_time": "2021-12-13T06:09:44.027Z"
   },
   {
    "duration": 5,
    "start_time": "2021-12-13T06:09:44.038Z"
   },
   {
    "duration": 6,
    "start_time": "2021-12-13T06:09:44.044Z"
   },
   {
    "duration": 40,
    "start_time": "2021-12-13T06:09:44.051Z"
   },
   {
    "duration": 5,
    "start_time": "2021-12-13T06:09:44.093Z"
   },
   {
    "duration": 21,
    "start_time": "2021-12-13T06:09:44.099Z"
   },
   {
    "duration": 30,
    "start_time": "2021-12-13T06:09:44.122Z"
   },
   {
    "duration": 5,
    "start_time": "2021-12-13T06:09:44.155Z"
   },
   {
    "duration": 43,
    "start_time": "2021-12-13T06:09:44.162Z"
   },
   {
    "duration": 27,
    "start_time": "2021-12-13T06:09:44.207Z"
   },
   {
    "duration": 18,
    "start_time": "2021-12-13T06:09:44.237Z"
   },
   {
    "duration": 4,
    "start_time": "2021-12-13T06:09:44.257Z"
   },
   {
    "duration": 34,
    "start_time": "2021-12-13T06:09:44.263Z"
   },
   {
    "duration": 5,
    "start_time": "2021-12-13T06:09:44.301Z"
   },
   {
    "duration": 3996,
    "start_time": "2021-12-13T06:09:44.308Z"
   },
   {
    "duration": 24,
    "start_time": "2021-12-13T06:09:48.307Z"
   },
   {
    "duration": 4,
    "start_time": "2021-12-13T06:09:48.333Z"
   },
   {
    "duration": 26,
    "start_time": "2021-12-13T06:09:48.339Z"
   },
   {
    "duration": 26,
    "start_time": "2021-12-13T06:09:48.390Z"
   },
   {
    "duration": 3,
    "start_time": "2021-12-13T06:09:48.418Z"
   },
   {
    "duration": 27,
    "start_time": "2021-12-13T06:09:48.422Z"
   },
   {
    "duration": 7,
    "start_time": "2021-12-13T06:09:48.450Z"
   },
   {
    "duration": 48,
    "start_time": "2021-12-13T06:09:48.459Z"
   },
   {
    "duration": 6,
    "start_time": "2021-12-13T06:09:48.509Z"
   },
   {
    "duration": 14,
    "start_time": "2021-12-13T06:09:48.517Z"
   },
   {
    "duration": 11,
    "start_time": "2021-12-13T06:09:48.533Z"
   },
   {
    "duration": 6,
    "start_time": "2021-12-13T06:09:48.546Z"
   },
   {
    "duration": 41,
    "start_time": "2021-12-13T06:09:48.553Z"
   },
   {
    "duration": 8,
    "start_time": "2021-12-13T06:09:48.596Z"
   },
   {
    "duration": 12,
    "start_time": "2021-12-13T06:09:48.606Z"
   },
   {
    "duration": 7,
    "start_time": "2021-12-13T06:09:48.620Z"
   }
  ],
  "kernelspec": {
   "display_name": "Python 3",
   "language": "python",
   "name": "python3"
  },
  "language_info": {
   "codemirror_mode": {
    "name": "ipython",
    "version": 3
   },
   "file_extension": ".py",
   "mimetype": "text/x-python",
   "name": "python",
   "nbconvert_exporter": "python",
   "pygments_lexer": "ipython3",
   "version": "3.7.8"
  },
  "toc": {
   "base_numbering": 1,
   "nav_menu": {
    "height": "339px",
    "width": "383px"
   },
   "number_sections": true,
   "sideBar": true,
   "skip_h1_title": true,
   "title_cell": "Table of Contents",
   "title_sidebar": "Contents",
   "toc_cell": false,
   "toc_position": {
    "height": "calc(100% - 180px)",
    "left": "10px",
    "top": "150px",
    "width": "292px"
   },
   "toc_section_display": true,
   "toc_window_display": true
  }
 },
 "nbformat": 4,
 "nbformat_minor": 2
}
