{
 "cells": [
  {
   "cell_type": "markdown",
   "metadata": {},
   "source": [
    "<div style=\"border:solid green 2px; padding: 20px\">\n",
    "<b>Привет, Виталий!</b>\n",
    "\n",
    "Меня зовут Лутченкова Екатерина, и я буду проверять твой проект. Предлагаю общаться на «ты», но если это не удобно - дай знать, и мы перейдем на \"вы\". Моя основная цель — помочь тебе разобраться в материале, поделиться своим опытом и помочь тебе стать крутым специалистом.\n",
    "\n",
    "Ниже ты найдешь мои комментарии, они будут в отдельных ячейках Markdown с заголовком «Комментарий ревьюера». **Пожалуйста, не перемещай, не изменяй и не удаляй их**. Я буду использовать цветовую разметку:\n",
    "\n",
    "<div class=\"alert alert-danger\">\n",
    "<b>Комментарий ревьюера ❌:</b> Так выделены самые важные замечания. Без их отработки я не смогу принять твой проект. </div>\n",
    "\n",
    "<div class=\"alert alert-warning\">\n",
    "<b>Комментарий ревьюера ⚠️:</b> Так выделены небольшие замечания. Я надеюсь, что их ты тоже учтешь - твой проект от этого станет только лучше. Но настаивать на их отработке не буду.\n",
    "\n",
    "</div>\n",
    "\n",
    "<div class=\"alert alert-success\">\n",
    "<b>Комментарий ревьюера ✔️:</b> Так я выделяю все остальные комментарии.</div>\n",
    "\n",
    "Давай работать над проектом в диалоге: **если ты что-то меняешь в проекте или отвечаешь на мои комменатри — пиши об этом.** Мне будет легче отследить изменения, если ты выделишь свои комментарии:\n",
    "<div class=\"alert alert-info\"> <b>Комментарий студента:</b> Например, вот так.</div>\n",
    "\n",
    "Всё это поможет выполнить повторную проверку твоего проекта оперативнее."
   ]
  },
  {
   "cell_type": "markdown",
   "metadata": {
    "toc": true
   },
   "source": [
    "<h1>Содержание<span class=\"tocSkip\"></span></h1>\n",
    "<div class=\"toc\"><ul class=\"toc-item\"><li><span><a href=\"#Подготовка\" data-toc-modified-id=\"Подготовка-1\"><span class=\"toc-item-num\">1&nbsp;&nbsp;</span>Подготовка</a></span></li><li><span><a href=\"#Анализ\" data-toc-modified-id=\"Анализ-2\"><span class=\"toc-item-num\">2&nbsp;&nbsp;</span>Анализ</a></span></li><li><span><a href=\"#Обучение\" data-toc-modified-id=\"Обучение-3\"><span class=\"toc-item-num\">3&nbsp;&nbsp;</span>Обучение</a></span><ul class=\"toc-item\"><li><span><a href=\"#Модель-LinearRegression\" data-toc-modified-id=\"Модель-LinearRegression-3.1\"><span class=\"toc-item-num\">3.1&nbsp;&nbsp;</span>Модель LinearRegression</a></span></li><li><span><a href=\"#Dummy-модель\" data-toc-modified-id=\"Dummy-модель-3.2\"><span class=\"toc-item-num\">3.2&nbsp;&nbsp;</span>Dummy модель</a></span></li><li><span><a href=\"#Модель-LGBMR\" data-toc-modified-id=\"Модель-LGBMR-3.3\"><span class=\"toc-item-num\">3.3&nbsp;&nbsp;</span>Модель LGBMR</a></span></li><li><span><a href=\"#Модель-CatBoost\" data-toc-modified-id=\"Модель-CatBoost-3.4\"><span class=\"toc-item-num\">3.4&nbsp;&nbsp;</span>Модель CatBoost</a></span></li></ul></li><li><span><a href=\"#Вывод\" data-toc-modified-id=\"Вывод-4\"><span class=\"toc-item-num\">4&nbsp;&nbsp;</span>Вывод</a></span></li><li><span><a href=\"#Чек-лист-проверки\" data-toc-modified-id=\"Чек-лист-проверки-5\"><span class=\"toc-item-num\">5&nbsp;&nbsp;</span>Чек-лист проверки</a></span></li></ul></div>"
   ]
  },
  {
   "cell_type": "markdown",
   "metadata": {},
   "source": [
    "#  Прогнозирование заказов такси"
   ]
  },
  {
   "cell_type": "markdown",
   "metadata": {},
   "source": [
    "Компания «Чётенькое такси» собрала исторические данные о заказах такси в аэропортах. Чтобы привлекать больше водителей в период пиковой нагрузки, нужно спрогнозировать количество заказов такси на следующий час. Постройте модель для такого предсказания.\n",
    "\n",
    "Значение метрики *RMSE* на тестовой выборке должно быть не больше 48.\n",
    "\n",
    "Вам нужно:\n",
    "\n",
    "1. Загрузить данные и выполнить их ресемплирование по одному часу.\n",
    "2. Проанализировать данные.\n",
    "3. Обучить разные модели с различными гиперпараметрами. Сделать тестовую выборку размером 10% от исходных данных.\n",
    "4. Проверить данные на тестовой выборке и сделать выводы.\n",
    "\n",
    "\n",
    "Данные лежат в файле `taxi.csv`. Количество заказов находится в столбце `num_orders` (от англ. *number of orders*, «число заказов»)."
   ]
  },
  {
   "cell_type": "markdown",
   "metadata": {},
   "source": [
    "## Подготовка"
   ]
  },
  {
   "cell_type": "code",
   "execution_count": 1,
   "metadata": {},
   "outputs": [],
   "source": [
    "import pandas as pd\n",
    "import numpy as np\n",
    "import matplotlib.pyplot as plt\n",
    "import seaborn as sns\n",
    "\n",
    "from sklearn.model_selection import train_test_split, GridSearchCV, TimeSeriesSplit\n",
    "from sklearn.linear_model import LinearRegression\n",
    "from sklearn.metrics import mean_absolute_error, mean_squared_error\n",
    "from statsmodels.tsa.seasonal import seasonal_decompose\n",
    "from statsmodels.tsa.stattools import adfuller\n",
    "from sklearn.preprocessing import StandardScaler\n",
    "\n",
    "from catboost import CatBoostRegressor\n",
    "import lightgbm as lgb"
   ]
  },
  {
   "cell_type": "code",
   "execution_count": 35,
   "metadata": {},
   "outputs": [
    {
     "data": {
      "text/html": [
       "<div>\n",
       "<style scoped>\n",
       "    .dataframe tbody tr th:only-of-type {\n",
       "        vertical-align: middle;\n",
       "    }\n",
       "\n",
       "    .dataframe tbody tr th {\n",
       "        vertical-align: top;\n",
       "    }\n",
       "\n",
       "    .dataframe thead th {\n",
       "        text-align: right;\n",
       "    }\n",
       "</style>\n",
       "<table border=\"1\" class=\"dataframe\">\n",
       "  <thead>\n",
       "    <tr style=\"text-align: right;\">\n",
       "      <th></th>\n",
       "      <th>num_orders</th>\n",
       "    </tr>\n",
       "    <tr>\n",
       "      <th>datetime</th>\n",
       "      <th></th>\n",
       "    </tr>\n",
       "  </thead>\n",
       "  <tbody>\n",
       "    <tr>\n",
       "      <th>2018-03-01 00:00:00</th>\n",
       "      <td>124</td>\n",
       "    </tr>\n",
       "    <tr>\n",
       "      <th>2018-03-01 01:00:00</th>\n",
       "      <td>85</td>\n",
       "    </tr>\n",
       "    <tr>\n",
       "      <th>2018-03-01 02:00:00</th>\n",
       "      <td>71</td>\n",
       "    </tr>\n",
       "    <tr>\n",
       "      <th>2018-03-01 03:00:00</th>\n",
       "      <td>66</td>\n",
       "    </tr>\n",
       "    <tr>\n",
       "      <th>2018-03-01 04:00:00</th>\n",
       "      <td>43</td>\n",
       "    </tr>\n",
       "  </tbody>\n",
       "</table>\n",
       "</div>"
      ],
      "text/plain": [
       "                     num_orders\n",
       "datetime                       \n",
       "2018-03-01 00:00:00         124\n",
       "2018-03-01 01:00:00          85\n",
       "2018-03-01 02:00:00          71\n",
       "2018-03-01 03:00:00          66\n",
       "2018-03-01 04:00:00          43"
      ]
     },
     "execution_count": 35,
     "metadata": {},
     "output_type": "execute_result"
    }
   ],
   "source": [
    "df = pd.read_csv('/datasets/taxi.csv', index_col=[0], parse_dates=[0])\n",
    "df.sort_index(inplace=True)\n",
    "df = df.resample('1H').sum()\n",
    "data = df\n",
    "df.head()"
   ]
  },
  {
   "cell_type": "markdown",
   "metadata": {},
   "source": [
    "<div class=\"alert alert-success\">\n",
    "<b>✔️ Комментарий ревьюера:</b>\n",
    "\n",
    "Лаконично. Четко и по делу :)\n",
    "    \n",
    "Здесь все верно.\n",
    "</div>"
   ]
  },
  {
   "cell_type": "markdown",
   "metadata": {},
   "source": [
    "Вывод: Загрузил данные, выполнил ресемплирование по одному часу "
   ]
  },
  {
   "cell_type": "markdown",
   "metadata": {},
   "source": [
    "## Анализ"
   ]
  },
  {
   "cell_type": "code",
   "execution_count": 3,
   "metadata": {},
   "outputs": [
    {
     "name": "stdout",
     "output_type": "stream",
     "text": [
      "<class 'pandas.core.frame.DataFrame'>\n",
      "DatetimeIndex: 4416 entries, 2018-03-01 00:00:00 to 2018-08-31 23:00:00\n",
      "Freq: H\n",
      "Data columns (total 1 columns):\n",
      " #   Column      Non-Null Count  Dtype\n",
      "---  ------      --------------  -----\n",
      " 0   num_orders  4416 non-null   int64\n",
      "dtypes: int64(1)\n",
      "memory usage: 69.0 KB\n"
     ]
    }
   ],
   "source": [
    "df.info()"
   ]
  },
  {
   "cell_type": "code",
   "execution_count": 4,
   "metadata": {},
   "outputs": [
    {
     "data": {
      "text/plain": [
       "num_orders    0\n",
       "dtype: int64"
      ]
     },
     "execution_count": 4,
     "metadata": {},
     "output_type": "execute_result"
    }
   ],
   "source": [
    "df.isna().sum()"
   ]
  },
  {
   "cell_type": "code",
   "execution_count": 5,
   "metadata": {},
   "outputs": [
    {
     "data": {
      "text/plain": [
       "Text(0.5, 1.0, 'Seasonality day')"
      ]
     },
     "execution_count": 5,
     "metadata": {},
     "output_type": "execute_result"
    },
    {
     "data": {
      "image/png": "[encoded data removed]",
      "text/plain": [
       "<Figure size 720x720 with 2 Axes>"
      ]
     },
     "metadata": {
      "needs_background": "light"
     },
     "output_type": "display_data"
    }
   ],
   "source": [
    "decomposed = seasonal_decompose(df)\n",
    "plt.figure(figsize=(10, 10))\n",
    "plt.subplot(311)\n",
    "decomposed.trend.plot(ax=plt.gca())\n",
    "plt.title('Trend')\n",
    "plt.subplot(312)\n",
    "decomposed.seasonal['2018-04-01 00:00:00':'2018-04-1 23:00:00'].plot(ax=plt.gca())\n",
    "plt.title('Seasonality day')"
   ]
  },
  {
   "cell_type": "code",
   "execution_count": 6,
   "metadata": {},
   "outputs": [
    {
     "name": "stdout",
     "output_type": "stream",
     "text": [
      "adf:  -3.068924289027945\n",
      "p-value:  0.028940051402613794\n",
      "Critical values:  {'1%': -3.431842162413052, '5%': -2.8621993540813637, '10%': -2.567120978470452}\n",
      "единичных корней нет, ряд стационарен\n"
     ]
    }
   ],
   "source": [
    "# Тест Дики-Фуллера\n",
    "test = adfuller(df['num_orders'])\n",
    "print ('adf: ', test[0]) \n",
    "print ('p-value: ', test[1])\n",
    "print('Critical values: ', test[4])\n",
    "if test[0]> test[4]['5%']: \n",
    "    print ('есть единичные корни, ряд не стационарен')\n",
    "else:\n",
    "    print ('единичных корней нет, ряд стационарен')"
   ]
  },
  {
   "cell_type": "markdown",
   "metadata": {},
   "source": [
    "Вывод: Тренд возростающий, пик заказов такси приходится на 00:00 ночи. Временной ряд стационарный, можно приступать к обучению модели."
   ]
  },
  {
   "cell_type": "markdown",
   "metadata": {},
   "source": [
    "<div class=\"alert alert-success\">\n",
    "<b>✔️ Комментарий ревьюера:</b>\n",
    "\n",
    "Правильно, тренд растет. \n",
    "    \n",
    "Молодец, что смотришь сезонность на более коротком промежутке и делаешь правильные выводы. \n",
    "    \n",
    "За Дики-Фуллера хвалю 👍\n",
    "</div>"
   ]
  },
  {
   "cell_type": "markdown",
   "metadata": {},
   "source": [
    "## Обучение"
   ]
  },
  {
   "cell_type": "code",
   "execution_count": 7,
   "metadata": {},
   "outputs": [],
   "source": [
    "# Функция для дополнительных признаков для лучшего обучения моделей\n",
    "\n",
    "def make_features(data, max_lag, rolling_mean_size):\n",
    "    df['month'] = df.index.month\n",
    "    df['day'] = df.index.day\n",
    "    df['dayofweek'] = df.index.dayofweek\n",
    "    df['hour'] = df.index.hour\n",
    "    \n",
    "    for lag in range(1, max_lag + 1):\n",
    "        df[f'lag_{lag}'] = df['num_orders'].shift(lag)\n",
    "\n",
    "    df['rolling_mean'] = df['num_orders'].shift().rolling(rolling_mean_size).mean()"
   ]
  },
  {
   "cell_type": "code",
   "execution_count": 8,
   "metadata": {},
   "outputs": [],
   "source": [
    "make_features(df, 24, 3)"
   ]
  },
  {
   "cell_type": "code",
   "execution_count": 9,
   "metadata": {},
   "outputs": [
    {
     "data": {
      "text/html": [
       "<div>\n",
       "<style scoped>\n",
       "    .dataframe tbody tr th:only-of-type {\n",
       "        vertical-align: middle;\n",
       "    }\n",
       "\n",
       "    .dataframe tbody tr th {\n",
       "        vertical-align: top;\n",
       "    }\n",
       "\n",
       "    .dataframe thead th {\n",
       "        text-align: right;\n",
       "    }\n",
       "</style>\n",
       "<table border=\"1\" class=\"dataframe\">\n",
       "  <thead>\n",
       "    <tr style=\"text-align: right;\">\n",
       "      <th>datetime</th>\n",
       "      <th>2018-03-01 00:00:00</th>\n",
       "      <th>2018-03-01 01:00:00</th>\n",
       "      <th>2018-03-01 02:00:00</th>\n",
       "      <th>2018-03-01 03:00:00</th>\n",
       "      <th>2018-03-01 04:00:00</th>\n",
       "      <th>2018-03-01 05:00:00</th>\n",
       "      <th>2018-03-01 06:00:00</th>\n",
       "      <th>2018-03-01 07:00:00</th>\n",
       "      <th>2018-03-01 08:00:00</th>\n",
       "      <th>2018-03-01 09:00:00</th>\n",
       "    </tr>\n",
       "  </thead>\n",
       "  <tbody>\n",
       "    <tr>\n",
       "      <th>num_orders</th>\n",
       "      <td>124.0</td>\n",
       "      <td>85.0</td>\n",
       "      <td>71.0</td>\n",
       "      <td>66.000000</td>\n",
       "      <td>43.0</td>\n",
       "      <td>6.0</td>\n",
       "      <td>12.000000</td>\n",
       "      <td>15.000000</td>\n",
       "      <td>34.0</td>\n",
       "      <td>69.000000</td>\n",
       "    </tr>\n",
       "    <tr>\n",
       "      <th>month</th>\n",
       "      <td>3.0</td>\n",
       "      <td>3.0</td>\n",
       "      <td>3.0</td>\n",
       "      <td>3.000000</td>\n",
       "      <td>3.0</td>\n",
       "      <td>3.0</td>\n",
       "      <td>3.000000</td>\n",
       "      <td>3.000000</td>\n",
       "      <td>3.0</td>\n",
       "      <td>3.000000</td>\n",
       "    </tr>\n",
       "    <tr>\n",
       "      <th>day</th>\n",
       "      <td>1.0</td>\n",
       "      <td>1.0</td>\n",
       "      <td>1.0</td>\n",
       "      <td>1.000000</td>\n",
       "      <td>1.0</td>\n",
       "      <td>1.0</td>\n",
       "      <td>1.000000</td>\n",
       "      <td>1.000000</td>\n",
       "      <td>1.0</td>\n",
       "      <td>1.000000</td>\n",
       "    </tr>\n",
       "    <tr>\n",
       "      <th>dayofweek</th>\n",
       "      <td>3.0</td>\n",
       "      <td>3.0</td>\n",
       "      <td>3.0</td>\n",
       "      <td>3.000000</td>\n",
       "      <td>3.0</td>\n",
       "      <td>3.0</td>\n",
       "      <td>3.000000</td>\n",
       "      <td>3.000000</td>\n",
       "      <td>3.0</td>\n",
       "      <td>3.000000</td>\n",
       "    </tr>\n",
       "    <tr>\n",
       "      <th>hour</th>\n",
       "      <td>0.0</td>\n",
       "      <td>1.0</td>\n",
       "      <td>2.0</td>\n",
       "      <td>3.000000</td>\n",
       "      <td>4.0</td>\n",
       "      <td>5.0</td>\n",
       "      <td>6.000000</td>\n",
       "      <td>7.000000</td>\n",
       "      <td>8.0</td>\n",
       "      <td>9.000000</td>\n",
       "    </tr>\n",
       "    <tr>\n",
       "      <th>lag_1</th>\n",
       "      <td>NaN</td>\n",
       "      <td>124.0</td>\n",
       "      <td>85.0</td>\n",
       "      <td>71.000000</td>\n",
       "      <td>66.0</td>\n",
       "      <td>43.0</td>\n",
       "      <td>6.000000</td>\n",
       "      <td>12.000000</td>\n",
       "      <td>15.0</td>\n",
       "      <td>34.000000</td>\n",
       "    </tr>\n",
       "    <tr>\n",
       "      <th>lag_2</th>\n",
       "      <td>NaN</td>\n",
       "      <td>NaN</td>\n",
       "      <td>124.0</td>\n",
       "      <td>85.000000</td>\n",
       "      <td>71.0</td>\n",
       "      <td>66.0</td>\n",
       "      <td>43.000000</td>\n",
       "      <td>6.000000</td>\n",
       "      <td>12.0</td>\n",
       "      <td>15.000000</td>\n",
       "    </tr>\n",
       "    <tr>\n",
       "      <th>lag_3</th>\n",
       "      <td>NaN</td>\n",
       "      <td>NaN</td>\n",
       "      <td>NaN</td>\n",
       "      <td>124.000000</td>\n",
       "      <td>85.0</td>\n",
       "      <td>71.0</td>\n",
       "      <td>66.000000</td>\n",
       "      <td>43.000000</td>\n",
       "      <td>6.0</td>\n",
       "      <td>12.000000</td>\n",
       "    </tr>\n",
       "    <tr>\n",
       "      <th>lag_4</th>\n",
       "      <td>NaN</td>\n",
       "      <td>NaN</td>\n",
       "      <td>NaN</td>\n",
       "      <td>NaN</td>\n",
       "      <td>124.0</td>\n",
       "      <td>85.0</td>\n",
       "      <td>71.000000</td>\n",
       "      <td>66.000000</td>\n",
       "      <td>43.0</td>\n",
       "      <td>6.000000</td>\n",
       "    </tr>\n",
       "    <tr>\n",
       "      <th>lag_5</th>\n",
       "      <td>NaN</td>\n",
       "      <td>NaN</td>\n",
       "      <td>NaN</td>\n",
       "      <td>NaN</td>\n",
       "      <td>NaN</td>\n",
       "      <td>124.0</td>\n",
       "      <td>85.000000</td>\n",
       "      <td>71.000000</td>\n",
       "      <td>66.0</td>\n",
       "      <td>43.000000</td>\n",
       "    </tr>\n",
       "    <tr>\n",
       "      <th>lag_6</th>\n",
       "      <td>NaN</td>\n",
       "      <td>NaN</td>\n",
       "      <td>NaN</td>\n",
       "      <td>NaN</td>\n",
       "      <td>NaN</td>\n",
       "      <td>NaN</td>\n",
       "      <td>124.000000</td>\n",
       "      <td>85.000000</td>\n",
       "      <td>71.0</td>\n",
       "      <td>66.000000</td>\n",
       "    </tr>\n",
       "    <tr>\n",
       "      <th>lag_7</th>\n",
       "      <td>NaN</td>\n",
       "      <td>NaN</td>\n",
       "      <td>NaN</td>\n",
       "      <td>NaN</td>\n",
       "      <td>NaN</td>\n",
       "      <td>NaN</td>\n",
       "      <td>NaN</td>\n",
       "      <td>124.000000</td>\n",
       "      <td>85.0</td>\n",
       "      <td>71.000000</td>\n",
       "    </tr>\n",
       "    <tr>\n",
       "      <th>lag_8</th>\n",
       "      <td>NaN</td>\n",
       "      <td>NaN</td>\n",
       "      <td>NaN</td>\n",
       "      <td>NaN</td>\n",
       "      <td>NaN</td>\n",
       "      <td>NaN</td>\n",
       "      <td>NaN</td>\n",
       "      <td>NaN</td>\n",
       "      <td>124.0</td>\n",
       "      <td>85.000000</td>\n",
       "    </tr>\n",
       "    <tr>\n",
       "      <th>lag_9</th>\n",
       "      <td>NaN</td>\n",
       "      <td>NaN</td>\n",
       "      <td>NaN</td>\n",
       "      <td>NaN</td>\n",
       "      <td>NaN</td>\n",
       "      <td>NaN</td>\n",
       "      <td>NaN</td>\n",
       "      <td>NaN</td>\n",
       "      <td>NaN</td>\n",
       "      <td>124.000000</td>\n",
       "    </tr>\n",
       "    <tr>\n",
       "      <th>lag_10</th>\n",
       "      <td>NaN</td>\n",
       "      <td>NaN</td>\n",
       "      <td>NaN</td>\n",
       "      <td>NaN</td>\n",
       "      <td>NaN</td>\n",
       "      <td>NaN</td>\n",
       "      <td>NaN</td>\n",
       "      <td>NaN</td>\n",
       "      <td>NaN</td>\n",
       "      <td>NaN</td>\n",
       "    </tr>\n",
       "    <tr>\n",
       "      <th>lag_11</th>\n",
       "      <td>NaN</td>\n",
       "      <td>NaN</td>\n",
       "      <td>NaN</td>\n",
       "      <td>NaN</td>\n",
       "      <td>NaN</td>\n",
       "      <td>NaN</td>\n",
       "      <td>NaN</td>\n",
       "      <td>NaN</td>\n",
       "      <td>NaN</td>\n",
       "      <td>NaN</td>\n",
       "    </tr>\n",
       "    <tr>\n",
       "      <th>lag_12</th>\n",
       "      <td>NaN</td>\n",
       "      <td>NaN</td>\n",
       "      <td>NaN</td>\n",
       "      <td>NaN</td>\n",
       "      <td>NaN</td>\n",
       "      <td>NaN</td>\n",
       "      <td>NaN</td>\n",
       "      <td>NaN</td>\n",
       "      <td>NaN</td>\n",
       "      <td>NaN</td>\n",
       "    </tr>\n",
       "    <tr>\n",
       "      <th>lag_13</th>\n",
       "      <td>NaN</td>\n",
       "      <td>NaN</td>\n",
       "      <td>NaN</td>\n",
       "      <td>NaN</td>\n",
       "      <td>NaN</td>\n",
       "      <td>NaN</td>\n",
       "      <td>NaN</td>\n",
       "      <td>NaN</td>\n",
       "      <td>NaN</td>\n",
       "      <td>NaN</td>\n",
       "    </tr>\n",
       "    <tr>\n",
       "      <th>lag_14</th>\n",
       "      <td>NaN</td>\n",
       "      <td>NaN</td>\n",
       "      <td>NaN</td>\n",
       "      <td>NaN</td>\n",
       "      <td>NaN</td>\n",
       "      <td>NaN</td>\n",
       "      <td>NaN</td>\n",
       "      <td>NaN</td>\n",
       "      <td>NaN</td>\n",
       "      <td>NaN</td>\n",
       "    </tr>\n",
       "    <tr>\n",
       "      <th>lag_15</th>\n",
       "      <td>NaN</td>\n",
       "      <td>NaN</td>\n",
       "      <td>NaN</td>\n",
       "      <td>NaN</td>\n",
       "      <td>NaN</td>\n",
       "      <td>NaN</td>\n",
       "      <td>NaN</td>\n",
       "      <td>NaN</td>\n",
       "      <td>NaN</td>\n",
       "      <td>NaN</td>\n",
       "    </tr>\n",
       "    <tr>\n",
       "      <th>lag_16</th>\n",
       "      <td>NaN</td>\n",
       "      <td>NaN</td>\n",
       "      <td>NaN</td>\n",
       "      <td>NaN</td>\n",
       "      <td>NaN</td>\n",
       "      <td>NaN</td>\n",
       "      <td>NaN</td>\n",
       "      <td>NaN</td>\n",
       "      <td>NaN</td>\n",
       "      <td>NaN</td>\n",
       "    </tr>\n",
       "    <tr>\n",
       "      <th>lag_17</th>\n",
       "      <td>NaN</td>\n",
       "      <td>NaN</td>\n",
       "      <td>NaN</td>\n",
       "      <td>NaN</td>\n",
       "      <td>NaN</td>\n",
       "      <td>NaN</td>\n",
       "      <td>NaN</td>\n",
       "      <td>NaN</td>\n",
       "      <td>NaN</td>\n",
       "      <td>NaN</td>\n",
       "    </tr>\n",
       "    <tr>\n",
       "      <th>lag_18</th>\n",
       "      <td>NaN</td>\n",
       "      <td>NaN</td>\n",
       "      <td>NaN</td>\n",
       "      <td>NaN</td>\n",
       "      <td>NaN</td>\n",
       "      <td>NaN</td>\n",
       "      <td>NaN</td>\n",
       "      <td>NaN</td>\n",
       "      <td>NaN</td>\n",
       "      <td>NaN</td>\n",
       "    </tr>\n",
       "    <tr>\n",
       "      <th>lag_19</th>\n",
       "      <td>NaN</td>\n",
       "      <td>NaN</td>\n",
       "      <td>NaN</td>\n",
       "      <td>NaN</td>\n",
       "      <td>NaN</td>\n",
       "      <td>NaN</td>\n",
       "      <td>NaN</td>\n",
       "      <td>NaN</td>\n",
       "      <td>NaN</td>\n",
       "      <td>NaN</td>\n",
       "    </tr>\n",
       "    <tr>\n",
       "      <th>lag_20</th>\n",
       "      <td>NaN</td>\n",
       "      <td>NaN</td>\n",
       "      <td>NaN</td>\n",
       "      <td>NaN</td>\n",
       "      <td>NaN</td>\n",
       "      <td>NaN</td>\n",
       "      <td>NaN</td>\n",
       "      <td>NaN</td>\n",
       "      <td>NaN</td>\n",
       "      <td>NaN</td>\n",
       "    </tr>\n",
       "    <tr>\n",
       "      <th>lag_21</th>\n",
       "      <td>NaN</td>\n",
       "      <td>NaN</td>\n",
       "      <td>NaN</td>\n",
       "      <td>NaN</td>\n",
       "      <td>NaN</td>\n",
       "      <td>NaN</td>\n",
       "      <td>NaN</td>\n",
       "      <td>NaN</td>\n",
       "      <td>NaN</td>\n",
       "      <td>NaN</td>\n",
       "    </tr>\n",
       "    <tr>\n",
       "      <th>lag_22</th>\n",
       "      <td>NaN</td>\n",
       "      <td>NaN</td>\n",
       "      <td>NaN</td>\n",
       "      <td>NaN</td>\n",
       "      <td>NaN</td>\n",
       "      <td>NaN</td>\n",
       "      <td>NaN</td>\n",
       "      <td>NaN</td>\n",
       "      <td>NaN</td>\n",
       "      <td>NaN</td>\n",
       "    </tr>\n",
       "    <tr>\n",
       "      <th>lag_23</th>\n",
       "      <td>NaN</td>\n",
       "      <td>NaN</td>\n",
       "      <td>NaN</td>\n",
       "      <td>NaN</td>\n",
       "      <td>NaN</td>\n",
       "      <td>NaN</td>\n",
       "      <td>NaN</td>\n",
       "      <td>NaN</td>\n",
       "      <td>NaN</td>\n",
       "      <td>NaN</td>\n",
       "    </tr>\n",
       "    <tr>\n",
       "      <th>lag_24</th>\n",
       "      <td>NaN</td>\n",
       "      <td>NaN</td>\n",
       "      <td>NaN</td>\n",
       "      <td>NaN</td>\n",
       "      <td>NaN</td>\n",
       "      <td>NaN</td>\n",
       "      <td>NaN</td>\n",
       "      <td>NaN</td>\n",
       "      <td>NaN</td>\n",
       "      <td>NaN</td>\n",
       "    </tr>\n",
       "    <tr>\n",
       "      <th>rolling_mean</th>\n",
       "      <td>NaN</td>\n",
       "      <td>NaN</td>\n",
       "      <td>NaN</td>\n",
       "      <td>93.333333</td>\n",
       "      <td>74.0</td>\n",
       "      <td>60.0</td>\n",
       "      <td>38.333333</td>\n",
       "      <td>20.333333</td>\n",
       "      <td>11.0</td>\n",
       "      <td>20.333333</td>\n",
       "    </tr>\n",
       "  </tbody>\n",
       "</table>\n",
       "</div>"
      ],
      "text/plain": [
       "datetime      2018-03-01 00:00:00  2018-03-01 01:00:00  2018-03-01 02:00:00  \\\n",
       "num_orders                  124.0                 85.0                 71.0   \n",
       "month                         3.0                  3.0                  3.0   \n",
       "day                           1.0                  1.0                  1.0   \n",
       "dayofweek                     3.0                  3.0                  3.0   \n",
       "hour                          0.0                  1.0                  2.0   \n",
       "lag_1                         NaN                124.0                 85.0   \n",
       "lag_2                         NaN                  NaN                124.0   \n",
       "lag_3                         NaN                  NaN                  NaN   \n",
       "lag_4                         NaN                  NaN                  NaN   \n",
       "lag_5                         NaN                  NaN                  NaN   \n",
       "lag_6                         NaN                  NaN                  NaN   \n",
       "lag_7                         NaN                  NaN                  NaN   \n",
       "lag_8                         NaN                  NaN                  NaN   \n",
       "lag_9                         NaN                  NaN                  NaN   \n",
       "lag_10                        NaN                  NaN                  NaN   \n",
       "lag_11                        NaN                  NaN                  NaN   \n",
       "lag_12                        NaN                  NaN                  NaN   \n",
       "lag_13                        NaN                  NaN                  NaN   \n",
       "lag_14                        NaN                  NaN                  NaN   \n",
       "lag_15                        NaN                  NaN                  NaN   \n",
       "lag_16                        NaN                  NaN                  NaN   \n",
       "lag_17                        NaN                  NaN                  NaN   \n",
       "lag_18                        NaN                  NaN                  NaN   \n",
       "lag_19                        NaN                  NaN                  NaN   \n",
       "lag_20                        NaN                  NaN                  NaN   \n",
       "lag_21                        NaN                  NaN                  NaN   \n",
       "lag_22                        NaN                  NaN                  NaN   \n",
       "lag_23                        NaN                  NaN                  NaN   \n",
       "lag_24                        NaN                  NaN                  NaN   \n",
       "rolling_mean                  NaN                  NaN                  NaN   \n",
       "\n",
       "datetime      2018-03-01 03:00:00  2018-03-01 04:00:00  2018-03-01 05:00:00  \\\n",
       "num_orders              66.000000                 43.0                  6.0   \n",
       "month                    3.000000                  3.0                  3.0   \n",
       "day                      1.000000                  1.0                  1.0   \n",
       "dayofweek                3.000000                  3.0                  3.0   \n",
       "hour                     3.000000                  4.0                  5.0   \n",
       "lag_1                   71.000000                 66.0                 43.0   \n",
       "lag_2                   85.000000                 71.0                 66.0   \n",
       "lag_3                  124.000000                 85.0                 71.0   \n",
       "lag_4                         NaN                124.0                 85.0   \n",
       "lag_5                         NaN                  NaN                124.0   \n",
       "lag_6                         NaN                  NaN                  NaN   \n",
       "lag_7                         NaN                  NaN                  NaN   \n",
       "lag_8                         NaN                  NaN                  NaN   \n",
       "lag_9                         NaN                  NaN                  NaN   \n",
       "lag_10                        NaN                  NaN                  NaN   \n",
       "lag_11                        NaN                  NaN                  NaN   \n",
       "lag_12                        NaN                  NaN                  NaN   \n",
       "lag_13                        NaN                  NaN                  NaN   \n",
       "lag_14                        NaN                  NaN                  NaN   \n",
       "lag_15                        NaN                  NaN                  NaN   \n",
       "lag_16                        NaN                  NaN                  NaN   \n",
       "lag_17                        NaN                  NaN                  NaN   \n",
       "lag_18                        NaN                  NaN                  NaN   \n",
       "lag_19                        NaN                  NaN                  NaN   \n",
       "lag_20                        NaN                  NaN                  NaN   \n",
       "lag_21                        NaN                  NaN                  NaN   \n",
       "lag_22                        NaN                  NaN                  NaN   \n",
       "lag_23                        NaN                  NaN                  NaN   \n",
       "lag_24                        NaN                  NaN                  NaN   \n",
       "rolling_mean            93.333333                 74.0                 60.0   \n",
       "\n",
       "datetime      2018-03-01 06:00:00  2018-03-01 07:00:00  2018-03-01 08:00:00  \\\n",
       "num_orders              12.000000            15.000000                 34.0   \n",
       "month                    3.000000             3.000000                  3.0   \n",
       "day                      1.000000             1.000000                  1.0   \n",
       "dayofweek                3.000000             3.000000                  3.0   \n",
       "hour                     6.000000             7.000000                  8.0   \n",
       "lag_1                    6.000000            12.000000                 15.0   \n",
       "lag_2                   43.000000             6.000000                 12.0   \n",
       "lag_3                   66.000000            43.000000                  6.0   \n",
       "lag_4                   71.000000            66.000000                 43.0   \n",
       "lag_5                   85.000000            71.000000                 66.0   \n",
       "lag_6                  124.000000            85.000000                 71.0   \n",
       "lag_7                         NaN           124.000000                 85.0   \n",
       "lag_8                         NaN                  NaN                124.0   \n",
       "lag_9                         NaN                  NaN                  NaN   \n",
       "lag_10                        NaN                  NaN                  NaN   \n",
       "lag_11                        NaN                  NaN                  NaN   \n",
       "lag_12                        NaN                  NaN                  NaN   \n",
       "lag_13                        NaN                  NaN                  NaN   \n",
       "lag_14                        NaN                  NaN                  NaN   \n",
       "lag_15                        NaN                  NaN                  NaN   \n",
       "lag_16                        NaN                  NaN                  NaN   \n",
       "lag_17                        NaN                  NaN                  NaN   \n",
       "lag_18                        NaN                  NaN                  NaN   \n",
       "lag_19                        NaN                  NaN                  NaN   \n",
       "lag_20                        NaN                  NaN                  NaN   \n",
       "lag_21                        NaN                  NaN                  NaN   \n",
       "lag_22                        NaN                  NaN                  NaN   \n",
       "lag_23                        NaN                  NaN                  NaN   \n",
       "lag_24                        NaN                  NaN                  NaN   \n",
       "rolling_mean            38.333333            20.333333                 11.0   \n",
       "\n",
       "datetime      2018-03-01 09:00:00  \n",
       "num_orders              69.000000  \n",
       "month                    3.000000  \n",
       "day                      1.000000  \n",
       "dayofweek                3.000000  \n",
       "hour                     9.000000  \n",
       "lag_1                   34.000000  \n",
       "lag_2                   15.000000  \n",
       "lag_3                   12.000000  \n",
       "lag_4                    6.000000  \n",
       "lag_5                   43.000000  \n",
       "lag_6                   66.000000  \n",
       "lag_7                   71.000000  \n",
       "lag_8                   85.000000  \n",
       "lag_9                  124.000000  \n",
       "lag_10                        NaN  \n",
       "lag_11                        NaN  \n",
       "lag_12                        NaN  \n",
       "lag_13                        NaN  \n",
       "lag_14                        NaN  \n",
       "lag_15                        NaN  \n",
       "lag_16                        NaN  \n",
       "lag_17                        NaN  \n",
       "lag_18                        NaN  \n",
       "lag_19                        NaN  \n",
       "lag_20                        NaN  \n",
       "lag_21                        NaN  \n",
       "lag_22                        NaN  \n",
       "lag_23                        NaN  \n",
       "lag_24                        NaN  \n",
       "rolling_mean            20.333333  "
      ]
     },
     "execution_count": 9,
     "metadata": {},
     "output_type": "execute_result"
    }
   ],
   "source": [
    "df.head(10).T"
   ]
  },
  {
   "cell_type": "code",
   "execution_count": 10,
   "metadata": {},
   "outputs": [],
   "source": [
    "# Разделим датасет на обучающую и тестовую выборки\n",
    "train, test = train_test_split(df, test_size=.1, shuffle=False)\n",
    "train = train.dropna()"
   ]
  },
  {
   "cell_type": "markdown",
   "metadata": {},
   "source": [
    "<div class=\"alert alert-success\">\n",
    "<b>✔️ Комментарий ревьюера:</b>\n",
    "\n",
    "Здорово, что добавлен параметр `shuffle=False`, чтобы значения не перемешались.\n",
    "Тут можно еще посмотреть даты, по которым разбился датасет, чтобы убедиться, что все верно.\n",
    "</div>"
   ]
  },
  {
   "cell_type": "markdown",
   "metadata": {},
   "source": [
    "<div class=\"alert alert-danger\">\n",
    "<b>❌ Комментарий ревьюера (исправлено):</b> \n",
    "\n",
    "Зачем ты выделяешь валидационную выборку, если дальше ее никак не используешь?\n",
    "</div>"
   ]
  },
  {
   "cell_type": "code",
   "execution_count": 11,
   "metadata": {},
   "outputs": [],
   "source": [
    "# Выделим признаки и целовой признак\n",
    "X_train = train.drop(['num_orders'], axis=1)\n",
    "X_test = test.drop(['num_orders'], axis=1)\n",
    "\n",
    "y_train = train.num_orders\n",
    "y_test = test.num_orders"
   ]
  },
  {
   "cell_type": "code",
   "execution_count": 12,
   "metadata": {},
   "outputs": [],
   "source": [
    "# Проведем масштабирование данных\n",
    "scaler = StandardScaler()\n",
    "scaler.fit(X_train)\n",
    "X_train = scaler.transform(X_train)\n",
    "X_test = scaler.transform(X_test)"
   ]
  },
  {
   "cell_type": "code",
   "execution_count": 13,
   "metadata": {},
   "outputs": [
    {
     "name": "stdout",
     "output_type": "stream",
     "text": [
      "(3950, 29) (442, 29)\n",
      "(3950,) (442,)\n"
     ]
    }
   ],
   "source": [
    "print(X_train.shape, X_test.shape)\n",
    "print(y_train.shape, y_test.shape)"
   ]
  },
  {
   "cell_type": "markdown",
   "metadata": {},
   "source": [
    "### Модель LinearRegression"
   ]
  },
  {
   "cell_type": "code",
   "execution_count": 14,
   "metadata": {},
   "outputs": [],
   "source": [
    "lr_model = LinearRegression()\n",
    "lr_model.fit(X_train, y_train)\n",
    "\n",
    "test_pred = lr_model.predict(X_test)"
   ]
  },
  {
   "cell_type": "code",
   "execution_count": 15,
   "metadata": {},
   "outputs": [],
   "source": [
    "lr_rmse_test = mean_squared_error(y_test, test_pred, squared=False)"
   ]
  },
  {
   "cell_type": "code",
   "execution_count": 16,
   "metadata": {},
   "outputs": [
    {
     "name": "stdout",
     "output_type": "stream",
     "text": [
      "RMSE тестовой выборки: 45.81\n"
     ]
    }
   ],
   "source": [
    "print(f\"RMSE тестовой выборки: {lr_rmse_test:.2f}\")"
   ]
  },
  {
   "cell_type": "markdown",
   "metadata": {},
   "source": [
    "### Dummy модель"
   ]
  },
  {
   "cell_type": "code",
   "execution_count": 17,
   "metadata": {},
   "outputs": [],
   "source": [
    "test_pred = np.ones(y_test.shape) * y_train.median()\n",
    "\n",
    "rmse_test = mean_squared_error(y_test, test_pred, squared=False)"
   ]
  },
  {
   "cell_type": "code",
   "execution_count": 18,
   "metadata": {},
   "outputs": [
    {
     "name": "stdout",
     "output_type": "stream",
     "text": [
      "RMSE тестовой выборки: 87.15\n"
     ]
    }
   ],
   "source": [
    "print(f\"RMSE тестовой выборки: {rmse_test:.2f}\")"
   ]
  },
  {
   "cell_type": "markdown",
   "metadata": {},
   "source": [
    "<div class=\"alert alert-danger\">\n",
    "<b>❌ Комментарий ревьюера (исправлено):</b> \n",
    "\n",
    "Собственная модель - это что такое? Давай напишем пару слов о ней.\n",
    "</div>"
   ]
  },
  {
   "cell_type": "markdown",
   "metadata": {},
   "source": [
    "<div class=\"alert alert-info\"> <b>Комментарий студента V2:</b> \n",
    "\n",
    "Опечатался. \n",
    "    \n",
    "</div>"
   ]
  },
  {
   "cell_type": "markdown",
   "metadata": {},
   "source": [
    "### Модель LGBMR"
   ]
  },
  {
   "cell_type": "code",
   "execution_count": 19,
   "metadata": {},
   "outputs": [
    {
     "name": "stdout",
     "output_type": "stream",
     "text": [
      "Fitting 5 folds for each of 1 candidates, totalling 5 fits\n"
     ]
    },
    {
     "data": {
      "text/plain": [
       "GridSearchCV(cv=TimeSeriesSplit(gap=0, max_train_size=None, n_splits=5, test_size=None),\n",
       "             estimator=LGBMRegressor(),\n",
       "             param_grid=[{'learning_rate': [0.5], 'max_depth': [10],\n",
       "                          'n_estimators': [100]}],\n",
       "             scoring='neg_mean_squared_error', verbose=True)"
      ]
     },
     "execution_count": 19,
     "metadata": {},
     "output_type": "execute_result"
    }
   ],
   "source": [
    "lgb_model = lgb.LGBMRegressor()\n",
    "\n",
    "params = [{'max_depth': [10],\n",
    "               'learning_rate': [0.5],\n",
    "               'n_estimators': [100]}]\n",
    "\n",
    "gsearch = GridSearchCV(lgb_model, param_grid=params, scoring='neg_mean_squared_error', \n",
    "                       cv=TimeSeriesSplit(n_splits=5), verbose=True)\n",
    "gsearch.fit(X_train, y_train)\n"
   ]
  },
  {
   "cell_type": "code",
   "execution_count": 20,
   "metadata": {},
   "outputs": [
    {
     "name": "stdout",
     "output_type": "stream",
     "text": [
      "RMSE тестовой выборки: 42.90\n"
     ]
    }
   ],
   "source": [
    "prediction = gsearch.predict(X_test)\n",
    "lgb_rmse_test = mean_squared_error(y_test, prediction, squared=False)\n",
    "print(f'RMSE тестовой выборки: {lgb_rmse_test:.2f}')"
   ]
  },
  {
   "cell_type": "markdown",
   "metadata": {},
   "source": [
    "<div class=\"alert alert-danger\">\n",
    "<b>❌ Комментарий ревьюера (исправлено):</b> \n",
    "\n",
    "LGBM лучше использовать так, чтобы не создавать лишние lgb.Dataset: https://habr.com/ru/company/skillfactory/blog/530594/. \n",
    "</div>"
   ]
  },
  {
   "cell_type": "markdown",
   "metadata": {},
   "source": [
    "<div class=\"alert alert-danger\">\n",
    "<b>❌ Комментарий ревьюера (исправлено):</b> \n",
    "\n",
    "По какому принципу выбраны параметры? Давай подберем лучшие гиперпараметры для твоих моделей. В нашем случае удобнее использовать кросс-валидацию и поиск гиперпараметров по сетке: Вот [ссылка](https://vc.ru/ml/147132-kak-avtomaticheski-podobrat-parametry-dlya-modeli-mashinnogo-obucheniya-ispolzuem-gridsearchcv). Для катбуста есть свой gridsearch, он работает стабильнее: https://catboost.ai/en/docs/concepts/python-reference_catboost_grid_search.\n",
    "    \n",
    "Также не забудь, что в случае с временным рядом нам нужно задать кросс-валидацию TimeSeriesSplit\\\n",
    "https://scikit-learn.org/stable/modules/generated/sklearn.model_selection.TimeSeriesSplit.html \\\n",
    "Если мы исследуем временной ряд, то в каждом сплите тестовые индексы должны быть позже по времени, чем обучающие, поэтому перетасовка обычным способом неуместна. Как раз TimeSeriesSplit решает эту проблему.\\\n",
    "Иллюстрация работы:\\\n",
    "</font>\n",
    "![image.png](https://scikit-learn.org/stable/_images/sphx_glr_plot_cv_indices_013.png)\n",
    "\n",
    "Сделать это можно примерно так:\n",
    "```python\n",
    "tscv = TimeSeriesSplit(n_splits=10)\n",
    "gsearch = GridSearchCV(estimator=model, cv=tscv, param_grid=param_search)\n",
    "gsearch.fit(X, y)\n",
    "```\n",
    "</div>"
   ]
  },
  {
   "cell_type": "markdown",
   "metadata": {},
   "source": [
    "### Модель CatBoost"
   ]
  },
  {
   "cell_type": "code",
   "execution_count": 21,
   "metadata": {},
   "outputs": [],
   "source": [
    "cbr_model = CatBoostRegressor()"
   ]
  },
  {
   "cell_type": "code",
   "execution_count": 22,
   "metadata": {},
   "outputs": [],
   "source": [
    "params = [{'max_depth': [5],\n",
    "           'learning_rate': [0.07],\n",
    "           'n_estimators': [250]}]"
   ]
  },
  {
   "cell_type": "code",
   "execution_count": 23,
   "metadata": {
    "scrolled": true
   },
   "outputs": [
    {
     "name": "stdout",
     "output_type": "stream",
     "text": [
      "Fitting 5 folds for each of 1 candidates, totalling 5 fits\n",
      "0:\tlearn: 28.8429966\ttotal: 50.1ms\tremaining: 12.5s\n",
      "1:\tlearn: 27.9695769\ttotal: 52.4ms\tremaining: 6.5s\n",
      "2:\tlearn: 27.1597052\ttotal: 54.8ms\tremaining: 4.51s\n",
      "3:\tlearn: 26.4957345\ttotal: 57.2ms\tremaining: 3.52s\n",
      "4:\tlearn: 25.8433140\ttotal: 59.3ms\tremaining: 2.91s\n",
      "5:\tlearn: 25.2092314\ttotal: 61.5ms\tremaining: 2.5s\n",
      "6:\tlearn: 24.5067925\ttotal: 63.7ms\tremaining: 2.21s\n",
      "7:\tlearn: 23.8983486\ttotal: 65.9ms\tremaining: 1.99s\n",
      "8:\tlearn: 23.3832510\ttotal: 68.3ms\tremaining: 1.83s\n",
      "9:\tlearn: 22.9213685\ttotal: 70.4ms\tremaining: 1.69s\n",
      "10:\tlearn: 22.5216461\ttotal: 72.6ms\tremaining: 1.58s\n",
      "11:\tlearn: 22.0974256\ttotal: 75ms\tremaining: 1.49s\n",
      "12:\tlearn: 21.6605474\ttotal: 77.1ms\tremaining: 1.41s\n",
      "13:\tlearn: 21.2907818\ttotal: 79.4ms\tremaining: 1.34s\n",
      "14:\tlearn: 21.0018823\ttotal: 82.1ms\tremaining: 1.29s\n",
      "15:\tlearn: 20.6943473\ttotal: 84.4ms\tremaining: 1.23s\n",
      "16:\tlearn: 20.3653301\ttotal: 86.6ms\tremaining: 1.19s\n",
      "17:\tlearn: 20.1373574\ttotal: 88.9ms\tremaining: 1.15s\n",
      "18:\tlearn: 19.8832947\ttotal: 91.1ms\tremaining: 1.11s\n",
      "19:\tlearn: 19.6457612\ttotal: 93.4ms\tremaining: 1.07s\n",
      "20:\tlearn: 19.3802315\ttotal: 95.5ms\tremaining: 1.04s\n",
      "21:\tlearn: 19.1595815\ttotal: 97.7ms\tremaining: 1.01s\n",
      "22:\tlearn: 18.9591183\ttotal: 99.8ms\tremaining: 985ms\n",
      "23:\tlearn: 18.7070585\ttotal: 102ms\tremaining: 961ms\n",
      "24:\tlearn: 18.4878089\ttotal: 104ms\tremaining: 939ms\n",
      "25:\tlearn: 18.2819926\ttotal: 107ms\tremaining: 919ms\n",
      "26:\tlearn: 18.1252808\ttotal: 109ms\tremaining: 902ms\n",
      "27:\tlearn: 17.9638034\ttotal: 111ms\tremaining: 882ms\n",
      "28:\tlearn: 17.8301544\ttotal: 113ms\tremaining: 864ms\n",
      "29:\tlearn: 17.7229333\ttotal: 116ms\tremaining: 849ms\n",
      "30:\tlearn: 17.5943792\ttotal: 118ms\tremaining: 834ms\n",
      "31:\tlearn: 17.4795770\ttotal: 120ms\tremaining: 818ms\n",
      "32:\tlearn: 17.3812923\ttotal: 122ms\tremaining: 804ms\n",
      "33:\tlearn: 17.2837784\ttotal: 124ms\tremaining: 790ms\n",
      "34:\tlearn: 17.1753359\ttotal: 126ms\tremaining: 776ms\n",
      "35:\tlearn: 17.0612748\ttotal: 129ms\tremaining: 764ms\n",
      "36:\tlearn: 16.9867484\ttotal: 131ms\tremaining: 752ms\n",
      "37:\tlearn: 16.9240843\ttotal: 133ms\tremaining: 741ms\n",
      "38:\tlearn: 16.8535174\ttotal: 135ms\tremaining: 730ms\n",
      "39:\tlearn: 16.7496842\ttotal: 137ms\tremaining: 719ms\n",
      "40:\tlearn: 16.6469055\ttotal: 139ms\tremaining: 709ms\n",
      "41:\tlearn: 16.5885400\ttotal: 141ms\tremaining: 699ms\n",
      "42:\tlearn: 16.5272883\ttotal: 143ms\tremaining: 689ms\n",
      "43:\tlearn: 16.4230384\ttotal: 145ms\tremaining: 679ms\n",
      "44:\tlearn: 16.3662562\ttotal: 147ms\tremaining: 671ms\n",
      "45:\tlearn: 16.3092828\ttotal: 149ms\tremaining: 663ms\n",
      "46:\tlearn: 16.2368345\ttotal: 152ms\tremaining: 656ms\n",
      "47:\tlearn: 16.1577660\ttotal: 154ms\tremaining: 648ms\n",
      "48:\tlearn: 16.0962986\ttotal: 156ms\tremaining: 641ms\n",
      "49:\tlearn: 16.0343060\ttotal: 158ms\tremaining: 633ms\n",
      "50:\tlearn: 15.9753613\ttotal: 161ms\tremaining: 627ms\n",
      "51:\tlearn: 15.8840588\ttotal: 163ms\tremaining: 619ms\n",
      "52:\tlearn: 15.8139952\ttotal: 165ms\tremaining: 613ms\n",
      "53:\tlearn: 15.7708727\ttotal: 167ms\tremaining: 606ms\n",
      "54:\tlearn: 15.7132164\ttotal: 169ms\tremaining: 599ms\n",
      "55:\tlearn: 15.6638286\ttotal: 171ms\tremaining: 592ms\n",
      "56:\tlearn: 15.6178630\ttotal: 173ms\tremaining: 586ms\n",
      "57:\tlearn: 15.5338049\ttotal: 175ms\tremaining: 580ms\n",
      "58:\tlearn: 15.4889119\ttotal: 177ms\tremaining: 574ms\n",
      "59:\tlearn: 15.4385786\ttotal: 179ms\tremaining: 568ms\n",
      "60:\tlearn: 15.3792628\ttotal: 181ms\tremaining: 562ms\n",
      "61:\tlearn: 15.3369412\ttotal: 183ms\tremaining: 556ms\n",
      "62:\tlearn: 15.2866265\ttotal: 186ms\tremaining: 551ms\n",
      "63:\tlearn: 15.2545974\ttotal: 188ms\tremaining: 546ms\n",
      "64:\tlearn: 15.2140247\ttotal: 190ms\tremaining: 541ms\n",
      "65:\tlearn: 15.1730054\ttotal: 192ms\tremaining: 535ms\n",
      "66:\tlearn: 15.1257544\ttotal: 194ms\tremaining: 530ms\n",
      "67:\tlearn: 15.0993819\ttotal: 196ms\tremaining: 525ms\n",
      "68:\tlearn: 15.0417054\ttotal: 198ms\tremaining: 520ms\n",
      "69:\tlearn: 15.0011368\ttotal: 200ms\tremaining: 515ms\n",
      "70:\tlearn: 14.9682137\ttotal: 202ms\tremaining: 510ms\n",
      "71:\tlearn: 14.9216450\ttotal: 204ms\tremaining: 505ms\n",
      "72:\tlearn: 14.8436601\ttotal: 207ms\tremaining: 501ms\n",
      "73:\tlearn: 14.7990561\ttotal: 209ms\tremaining: 496ms\n",
      "74:\tlearn: 14.7404738\ttotal: 211ms\tremaining: 492ms\n",
      "75:\tlearn: 14.7108091\ttotal: 213ms\tremaining: 487ms\n",
      "76:\tlearn: 14.6589315\ttotal: 215ms\tremaining: 483ms\n",
      "77:\tlearn: 14.6255499\ttotal: 217ms\tremaining: 478ms\n",
      "78:\tlearn: 14.5935020\ttotal: 219ms\tremaining: 474ms\n",
      "79:\tlearn: 14.5646074\ttotal: 221ms\tremaining: 469ms\n",
      "80:\tlearn: 14.5495561\ttotal: 223ms\tremaining: 465ms\n",
      "81:\tlearn: 14.4967338\ttotal: 225ms\tremaining: 461ms\n",
      "82:\tlearn: 14.4657466\ttotal: 227ms\tremaining: 457ms\n",
      "83:\tlearn: 14.4228405\ttotal: 229ms\tremaining: 453ms\n",
      "84:\tlearn: 14.4066450\ttotal: 231ms\tremaining: 448ms\n",
      "85:\tlearn: 14.3648288\ttotal: 233ms\tremaining: 445ms\n",
      "86:\tlearn: 14.3326144\ttotal: 235ms\tremaining: 441ms\n",
      "87:\tlearn: 14.3112631\ttotal: 237ms\tremaining: 436ms\n",
      "88:\tlearn: 14.2701093\ttotal: 239ms\tremaining: 433ms\n",
      "89:\tlearn: 14.2101128\ttotal: 241ms\tremaining: 429ms\n",
      "90:\tlearn: 14.1802444\ttotal: 243ms\tremaining: 425ms\n",
      "91:\tlearn: 14.1427216\ttotal: 245ms\tremaining: 421ms\n",
      "92:\tlearn: 14.0751775\ttotal: 248ms\tremaining: 418ms\n",
      "93:\tlearn: 14.0509758\ttotal: 250ms\tremaining: 414ms\n",
      "94:\tlearn: 14.0033770\ttotal: 251ms\tremaining: 410ms\n",
      "95:\tlearn: 13.9751491\ttotal: 253ms\tremaining: 406ms\n",
      "96:\tlearn: 13.9438433\ttotal: 255ms\tremaining: 403ms\n",
      "97:\tlearn: 13.8971970\ttotal: 258ms\tremaining: 400ms\n",
      "98:\tlearn: 13.8499761\ttotal: 260ms\tremaining: 397ms\n",
      "99:\tlearn: 13.7997693\ttotal: 262ms\tremaining: 393ms\n",
      "100:\tlearn: 13.7734154\ttotal: 264ms\tremaining: 390ms\n",
      "101:\tlearn: 13.7159115\ttotal: 266ms\tremaining: 386ms\n",
      "102:\tlearn: 13.6663554\ttotal: 268ms\tremaining: 383ms\n",
      "103:\tlearn: 13.6517805\ttotal: 270ms\tremaining: 379ms\n",
      "104:\tlearn: 13.5985711\ttotal: 272ms\tremaining: 376ms\n",
      "105:\tlearn: 13.5684942\ttotal: 275ms\tremaining: 373ms\n",
      "106:\tlearn: 13.5145953\ttotal: 277ms\tremaining: 370ms\n",
      "107:\tlearn: 13.4801765\ttotal: 279ms\tremaining: 367ms\n",
      "108:\tlearn: 13.4400273\ttotal: 281ms\tremaining: 363ms\n",
      "109:\tlearn: 13.4214771\ttotal: 283ms\tremaining: 360ms\n",
      "110:\tlearn: 13.3762071\ttotal: 285ms\tremaining: 357ms\n",
      "111:\tlearn: 13.3543723\ttotal: 287ms\tremaining: 354ms\n",
      "112:\tlearn: 13.3280206\ttotal: 289ms\tremaining: 351ms\n",
      "113:\tlearn: 13.2921079\ttotal: 291ms\tremaining: 348ms\n",
      "114:\tlearn: 13.2184995\ttotal: 294ms\tremaining: 345ms\n",
      "115:\tlearn: 13.1752789\ttotal: 296ms\tremaining: 342ms\n",
      "116:\tlearn: 13.1681968\ttotal: 298ms\tremaining: 338ms\n",
      "117:\tlearn: 13.1494382\ttotal: 300ms\tremaining: 335ms\n",
      "118:\tlearn: 13.0821320\ttotal: 302ms\tremaining: 332ms\n",
      "119:\tlearn: 13.0685039\ttotal: 304ms\tremaining: 329ms\n",
      "120:\tlearn: 13.0270311\ttotal: 306ms\tremaining: 326ms\n",
      "121:\tlearn: 12.9775980\ttotal: 308ms\tremaining: 323ms\n",
      "122:\tlearn: 12.9356013\ttotal: 310ms\tremaining: 320ms\n",
      "123:\tlearn: 12.9059346\ttotal: 312ms\tremaining: 317ms\n",
      "124:\tlearn: 12.8755706\ttotal: 314ms\tremaining: 314ms\n",
      "125:\tlearn: 12.8635548\ttotal: 316ms\tremaining: 311ms\n",
      "126:\tlearn: 12.8137443\ttotal: 318ms\tremaining: 308ms\n",
      "127:\tlearn: 12.7931579\ttotal: 320ms\tremaining: 305ms\n",
      "128:\tlearn: 12.7805141\ttotal: 322ms\tremaining: 302ms\n",
      "129:\tlearn: 12.7261235\ttotal: 324ms\tremaining: 299ms\n",
      "130:\tlearn: 12.6558990\ttotal: 327ms\tremaining: 297ms\n",
      "131:\tlearn: 12.6148369\ttotal: 329ms\tremaining: 294ms\n",
      "132:\tlearn: 12.5489988\ttotal: 331ms\tremaining: 291ms\n",
      "133:\tlearn: 12.5087266\ttotal: 333ms\tremaining: 288ms\n",
      "134:\tlearn: 12.4983727\ttotal: 335ms\tremaining: 285ms\n",
      "135:\tlearn: 12.4528350\ttotal: 337ms\tremaining: 282ms\n",
      "136:\tlearn: 12.4421057\ttotal: 339ms\tremaining: 279ms\n",
      "137:\tlearn: 12.3951536\ttotal: 341ms\tremaining: 277ms\n",
      "138:\tlearn: 12.3874896\ttotal: 343ms\tremaining: 274ms\n",
      "139:\tlearn: 12.3548887\ttotal: 345ms\tremaining: 271ms\n",
      "140:\tlearn: 12.2990388\ttotal: 347ms\tremaining: 268ms\n",
      "141:\tlearn: 12.2846277\ttotal: 349ms\tremaining: 265ms\n",
      "142:\tlearn: 12.2377517\ttotal: 351ms\tremaining: 262ms\n",
      "143:\tlearn: 12.1743921\ttotal: 353ms\tremaining: 260ms\n",
      "144:\tlearn: 12.1235698\ttotal: 355ms\tremaining: 257ms\n",
      "145:\tlearn: 12.1154209\ttotal: 357ms\tremaining: 254ms\n",
      "146:\tlearn: 12.1075479\ttotal: 359ms\tremaining: 252ms\n",
      "147:\tlearn: 12.0996072\ttotal: 361ms\tremaining: 249ms\n",
      "148:\tlearn: 12.0918955\ttotal: 363ms\tremaining: 246ms\n",
      "149:\tlearn: 12.0305771\ttotal: 366ms\tremaining: 244ms\n",
      "150:\tlearn: 11.9785805\ttotal: 368ms\tremaining: 241ms\n",
      "151:\tlearn: 11.9222131\ttotal: 370ms\tremaining: 238ms\n",
      "152:\tlearn: 11.8639434\ttotal: 372ms\tremaining: 236ms\n",
      "153:\tlearn: 11.8314839\ttotal: 374ms\tremaining: 233ms\n",
      "154:\tlearn: 11.7692099\ttotal: 376ms\tremaining: 230ms\n",
      "155:\tlearn: 11.7368448\ttotal: 378ms\tremaining: 228ms\n",
      "156:\tlearn: 11.7014460\ttotal: 380ms\tremaining: 225ms\n",
      "157:\tlearn: 11.6527241\ttotal: 382ms\tremaining: 222ms\n",
      "158:\tlearn: 11.6084711\ttotal: 384ms\tremaining: 220ms\n",
      "159:\tlearn: 11.6031130\ttotal: 386ms\tremaining: 217ms\n",
      "160:\tlearn: 11.5726365\ttotal: 388ms\tremaining: 215ms\n",
      "161:\tlearn: 11.5308473\ttotal: 390ms\tremaining: 212ms\n",
      "162:\tlearn: 11.4875553\ttotal: 392ms\tremaining: 209ms\n",
      "163:\tlearn: 11.4814143\ttotal: 395ms\tremaining: 207ms\n",
      "164:\tlearn: 11.4403514\ttotal: 397ms\tremaining: 204ms\n",
      "165:\tlearn: 11.4328039\ttotal: 399ms\tremaining: 202ms\n",
      "166:\tlearn: 11.4145431\ttotal: 401ms\tremaining: 199ms\n",
      "167:\tlearn: 11.3595831\ttotal: 403ms\tremaining: 197ms\n",
      "168:\tlearn: 11.3316379\ttotal: 405ms\tremaining: 194ms\n",
      "169:\tlearn: 11.2882442\ttotal: 407ms\tremaining: 192ms\n",
      "170:\tlearn: 11.2363303\ttotal: 409ms\tremaining: 189ms\n",
      "171:\tlearn: 11.2106713\ttotal: 411ms\tremaining: 186ms\n",
      "172:\tlearn: 11.1661725\ttotal: 413ms\tremaining: 184ms\n",
      "173:\tlearn: 11.1328851\ttotal: 415ms\tremaining: 181ms\n",
      "174:\tlearn: 11.0973956\ttotal: 418ms\tremaining: 179ms\n",
      "175:\tlearn: 11.0907824\ttotal: 420ms\tremaining: 176ms\n",
      "176:\tlearn: 11.0847650\ttotal: 422ms\tremaining: 174ms\n",
      "177:\tlearn: 11.0339262\ttotal: 424ms\tremaining: 172ms\n",
      "178:\tlearn: 11.0150016\ttotal: 426ms\tremaining: 169ms\n",
      "179:\tlearn: 10.9738252\ttotal: 428ms\tremaining: 167ms\n",
      "180:\tlearn: 10.9433977\ttotal: 430ms\tremaining: 164ms\n",
      "181:\tlearn: 10.9203333\ttotal: 433ms\tremaining: 162ms\n",
      "182:\tlearn: 10.8825367\ttotal: 435ms\tremaining: 159ms\n",
      "183:\tlearn: 10.8500922\ttotal: 437ms\tremaining: 157ms\n",
      "184:\tlearn: 10.8405635\ttotal: 439ms\tremaining: 154ms\n",
      "185:\tlearn: 10.8318216\ttotal: 442ms\tremaining: 152ms\n",
      "186:\tlearn: 10.7870814\ttotal: 444ms\tremaining: 150ms\n",
      "187:\tlearn: 10.7468761\ttotal: 446ms\tremaining: 147ms\n",
      "188:\tlearn: 10.6862193\ttotal: 448ms\tremaining: 145ms\n",
      "189:\tlearn: 10.6821574\ttotal: 450ms\tremaining: 142ms\n",
      "190:\tlearn: 10.6310025\ttotal: 452ms\tremaining: 140ms\n",
      "191:\tlearn: 10.5717942\ttotal: 454ms\tremaining: 137ms\n",
      "192:\tlearn: 10.5076631\ttotal: 456ms\tremaining: 135ms\n",
      "193:\tlearn: 10.4851989\ttotal: 458ms\tremaining: 132ms\n",
      "194:\tlearn: 10.4427432\ttotal: 460ms\tremaining: 130ms\n",
      "195:\tlearn: 10.4089365\ttotal: 462ms\tremaining: 127ms\n",
      "196:\tlearn: 10.3898026\ttotal: 464ms\tremaining: 125ms\n",
      "197:\tlearn: 10.3662907\ttotal: 466ms\tremaining: 122ms\n",
      "198:\tlearn: 10.3544756\ttotal: 469ms\tremaining: 120ms\n",
      "199:\tlearn: 10.3079316\ttotal: 471ms\tremaining: 118ms\n",
      "200:\tlearn: 10.2720154\ttotal: 473ms\tremaining: 115ms\n",
      "201:\tlearn: 10.2374122\ttotal: 475ms\tremaining: 113ms\n",
      "202:\tlearn: 10.2023884\ttotal: 477ms\tremaining: 111ms\n",
      "203:\tlearn: 10.1715916\ttotal: 480ms\tremaining: 108ms\n",
      "204:\tlearn: 10.1318988\ttotal: 482ms\tremaining: 106ms\n",
      "205:\tlearn: 10.0989682\ttotal: 484ms\tremaining: 103ms\n",
      "206:\tlearn: 10.0911630\ttotal: 486ms\tremaining: 101ms\n",
      "207:\tlearn: 10.0531029\ttotal: 488ms\tremaining: 98.5ms\n",
      "208:\tlearn: 10.0055309\ttotal: 490ms\tremaining: 96.1ms\n",
      "209:\tlearn: 9.9836306\ttotal: 492ms\tremaining: 93.7ms\n",
      "210:\tlearn: 9.9581339\ttotal: 494ms\tremaining: 91.3ms\n",
      "211:\tlearn: 9.9498891\ttotal: 496ms\tremaining: 88.9ms\n",
      "212:\tlearn: 9.9430711\ttotal: 498ms\tremaining: 86.5ms\n",
      "213:\tlearn: 9.9221777\ttotal: 500ms\tremaining: 84.1ms\n",
      "214:\tlearn: 9.9189513\ttotal: 502ms\tremaining: 81.7ms\n",
      "215:\tlearn: 9.9002602\ttotal: 504ms\tremaining: 79.3ms\n",
      "216:\tlearn: 9.8475818\ttotal: 506ms\tremaining: 77ms\n",
      "217:\tlearn: 9.8033815\ttotal: 508ms\tremaining: 74.6ms\n",
      "218:\tlearn: 9.7696417\ttotal: 511ms\tremaining: 72.3ms\n",
      "219:\tlearn: 9.7255052\ttotal: 513ms\tremaining: 69.9ms\n",
      "220:\tlearn: 9.7199050\ttotal: 515ms\tremaining: 67.6ms\n",
      "221:\tlearn: 9.6750254\ttotal: 517ms\tremaining: 65.2ms\n",
      "222:\tlearn: 9.6535151\ttotal: 519ms\tremaining: 62.8ms\n",
      "223:\tlearn: 9.6261432\ttotal: 521ms\tremaining: 60.5ms\n",
      "224:\tlearn: 9.5982822\ttotal: 523ms\tremaining: 58.1ms\n",
      "225:\tlearn: 9.5643180\ttotal: 525ms\tremaining: 55.8ms\n",
      "226:\tlearn: 9.5333689\ttotal: 527ms\tremaining: 53.4ms\n",
      "227:\tlearn: 9.5197901\ttotal: 529ms\tremaining: 51.1ms\n",
      "228:\tlearn: 9.4615334\ttotal: 532ms\tremaining: 48.7ms\n",
      "229:\tlearn: 9.4582619\ttotal: 533ms\tremaining: 46.4ms\n",
      "230:\tlearn: 9.4268388\ttotal: 535ms\tremaining: 44ms\n",
      "231:\tlearn: 9.4046977\ttotal: 537ms\tremaining: 41.7ms\n",
      "232:\tlearn: 9.4017836\ttotal: 539ms\tremaining: 39.4ms\n",
      "233:\tlearn: 9.3629423\ttotal: 541ms\tremaining: 37ms\n",
      "234:\tlearn: 9.3539325\ttotal: 543ms\tremaining: 34.7ms\n",
      "235:\tlearn: 9.3490360\ttotal: 545ms\tremaining: 32.3ms\n",
      "236:\tlearn: 9.3226947\ttotal: 547ms\tremaining: 30ms\n",
      "237:\tlearn: 9.2986049\ttotal: 549ms\tremaining: 27.7ms\n",
      "238:\tlearn: 9.2611600\ttotal: 551ms\tremaining: 25.4ms\n",
      "239:\tlearn: 9.2391434\ttotal: 553ms\tremaining: 23ms\n",
      "240:\tlearn: 9.2001292\ttotal: 555ms\tremaining: 20.7ms\n",
      "241:\tlearn: 9.1766129\ttotal: 557ms\tremaining: 18.4ms\n",
      "242:\tlearn: 9.1489658\ttotal: 560ms\tremaining: 16.1ms\n",
      "243:\tlearn: 9.1165443\ttotal: 562ms\tremaining: 13.8ms\n",
      "244:\tlearn: 9.0747225\ttotal: 564ms\tremaining: 11.5ms\n",
      "245:\tlearn: 9.0619915\ttotal: 566ms\tremaining: 9.21ms\n",
      "246:\tlearn: 9.0572816\ttotal: 568ms\tremaining: 6.9ms\n",
      "247:\tlearn: 9.0201395\ttotal: 570ms\tremaining: 4.6ms\n",
      "248:\tlearn: 9.0019632\ttotal: 572ms\tremaining: 2.3ms\n",
      "249:\tlearn: 8.9812489\ttotal: 574ms\tremaining: 0us\n",
      "0:\tlearn: 29.3930461\ttotal: 3.39ms\tremaining: 843ms\n",
      "1:\tlearn: 28.5843709\ttotal: 6.35ms\tremaining: 788ms\n",
      "2:\tlearn: 27.8161573\ttotal: 9.05ms\tremaining: 745ms\n",
      "3:\tlearn: 27.1748683\ttotal: 11.7ms\tremaining: 722ms\n",
      "4:\tlearn: 26.4961792\ttotal: 14.4ms\tremaining: 704ms\n",
      "5:\tlearn: 25.8677818\ttotal: 16.9ms\tremaining: 689ms\n",
      "6:\tlearn: 25.3376316\ttotal: 19.8ms\tremaining: 686ms\n",
      "7:\tlearn: 24.8499965\ttotal: 22.4ms\tremaining: 678ms\n",
      "8:\tlearn: 24.3960846\ttotal: 25.1ms\tremaining: 671ms\n",
      "9:\tlearn: 23.9208984\ttotal: 27.6ms\tremaining: 662ms\n",
      "10:\tlearn: 23.5039231\ttotal: 30.2ms\tremaining: 656ms\n",
      "11:\tlearn: 23.1651466\ttotal: 32.8ms\tremaining: 650ms\n",
      "12:\tlearn: 22.7790990\ttotal: 35.4ms\tremaining: 646ms\n",
      "13:\tlearn: 22.4427246\ttotal: 37.9ms\tremaining: 639ms\n",
      "14:\tlearn: 22.1247138\ttotal: 40.5ms\tremaining: 634ms\n",
      "15:\tlearn: 21.8627625\ttotal: 43.1ms\tremaining: 630ms\n",
      "16:\tlearn: 21.5880815\ttotal: 45.7ms\tremaining: 627ms\n",
      "17:\tlearn: 21.3612456\ttotal: 48.4ms\tremaining: 624ms\n",
      "18:\tlearn: 21.1752109\ttotal: 51ms\tremaining: 620ms\n",
      "19:\tlearn: 21.0122794\ttotal: 53.7ms\tremaining: 617ms\n",
      "20:\tlearn: 20.7341667\ttotal: 56.4ms\tremaining: 615ms\n",
      "21:\tlearn: 20.5064797\ttotal: 59.1ms\tremaining: 612ms\n",
      "22:\tlearn: 20.3517415\ttotal: 61.7ms\tremaining: 609ms\n",
      "23:\tlearn: 20.1780986\ttotal: 64.3ms\tremaining: 605ms\n",
      "24:\tlearn: 20.0433188\ttotal: 66.8ms\tremaining: 602ms\n",
      "25:\tlearn: 19.8529795\ttotal: 69.3ms\tremaining: 597ms\n",
      "26:\tlearn: 19.7043368\ttotal: 71.9ms\tremaining: 594ms\n",
      "27:\tlearn: 19.5879208\ttotal: 74.6ms\tremaining: 591ms\n",
      "28:\tlearn: 19.5059580\ttotal: 77.4ms\tremaining: 590ms\n",
      "29:\tlearn: 19.3898395\ttotal: 79.9ms\tremaining: 586ms\n",
      "30:\tlearn: 19.2756494\ttotal: 82.8ms\tremaining: 585ms\n",
      "31:\tlearn: 19.1619933\ttotal: 85.4ms\tremaining: 582ms\n",
      "32:\tlearn: 19.0655990\ttotal: 88.1ms\tremaining: 579ms\n",
      "33:\tlearn: 18.9833638\ttotal: 90.7ms\tremaining: 576ms\n",
      "34:\tlearn: 18.8661856\ttotal: 93.3ms\tremaining: 573ms\n",
      "35:\tlearn: 18.7504054\ttotal: 95.8ms\tremaining: 570ms\n",
      "36:\tlearn: 18.6613777\ttotal: 98.6ms\tremaining: 568ms\n",
      "37:\tlearn: 18.5814541\ttotal: 101ms\tremaining: 564ms\n",
      "38:\tlearn: 18.4854114\ttotal: 104ms\tremaining: 561ms\n",
      "39:\tlearn: 18.4206269\ttotal: 106ms\tremaining: 558ms\n",
      "40:\tlearn: 18.3447367\ttotal: 109ms\tremaining: 556ms\n",
      "41:\tlearn: 18.2588783\ttotal: 112ms\tremaining: 553ms\n",
      "42:\tlearn: 18.1991271\ttotal: 114ms\tremaining: 550ms\n",
      "43:\tlearn: 18.1259710\ttotal: 117ms\tremaining: 546ms\n",
      "44:\tlearn: 18.0633949\ttotal: 119ms\tremaining: 544ms\n",
      "45:\tlearn: 18.0043752\ttotal: 122ms\tremaining: 540ms\n",
      "46:\tlearn: 17.9445599\ttotal: 124ms\tremaining: 537ms\n",
      "47:\tlearn: 17.8578302\ttotal: 127ms\tremaining: 534ms\n",
      "48:\tlearn: 17.7779785\ttotal: 130ms\tremaining: 532ms\n",
      "49:\tlearn: 17.7185575\ttotal: 132ms\tremaining: 529ms\n",
      "50:\tlearn: 17.6802301\ttotal: 135ms\tremaining: 526ms\n",
      "51:\tlearn: 17.6104214\ttotal: 137ms\tremaining: 523ms\n",
      "52:\tlearn: 17.5647987\ttotal: 140ms\tremaining: 519ms\n",
      "53:\tlearn: 17.5308487\ttotal: 142ms\tremaining: 516ms\n",
      "54:\tlearn: 17.5016959\ttotal: 145ms\tremaining: 512ms\n",
      "55:\tlearn: 17.4711730\ttotal: 147ms\tremaining: 509ms\n",
      "56:\tlearn: 17.4151628\ttotal: 149ms\tremaining: 506ms\n",
      "57:\tlearn: 17.3573873\ttotal: 152ms\tremaining: 503ms\n",
      "58:\tlearn: 17.2862857\ttotal: 154ms\tremaining: 500ms\n",
      "59:\tlearn: 17.2090946\ttotal: 157ms\tremaining: 498ms\n",
      "60:\tlearn: 17.1523422\ttotal: 160ms\tremaining: 495ms\n",
      "61:\tlearn: 17.1114878\ttotal: 162ms\tremaining: 492ms\n",
      "62:\tlearn: 17.0486630\ttotal: 165ms\tremaining: 490ms\n",
      "63:\tlearn: 17.0188443\ttotal: 167ms\tremaining: 487ms\n",
      "64:\tlearn: 16.9714941\ttotal: 170ms\tremaining: 483ms\n",
      "65:\tlearn: 16.9169143\ttotal: 173ms\tremaining: 481ms\n",
      "66:\tlearn: 16.8585408\ttotal: 175ms\tremaining: 478ms\n",
      "67:\tlearn: 16.8278059\ttotal: 178ms\tremaining: 476ms\n",
      "68:\tlearn: 16.8097478\ttotal: 180ms\tremaining: 473ms\n",
      "69:\tlearn: 16.7760842\ttotal: 183ms\tremaining: 471ms\n",
      "70:\tlearn: 16.7384421\ttotal: 186ms\tremaining: 469ms\n",
      "71:\tlearn: 16.7149813\ttotal: 188ms\tremaining: 466ms\n",
      "72:\tlearn: 16.6666791\ttotal: 191ms\tremaining: 463ms\n",
      "73:\tlearn: 16.6183238\ttotal: 194ms\tremaining: 461ms\n",
      "74:\tlearn: 16.5836419\ttotal: 196ms\tremaining: 458ms\n",
      "75:\tlearn: 16.5447443\ttotal: 199ms\tremaining: 455ms\n",
      "76:\tlearn: 16.5003422\ttotal: 201ms\tremaining: 452ms\n",
      "77:\tlearn: 16.4626672\ttotal: 204ms\tremaining: 450ms\n",
      "78:\tlearn: 16.4174034\ttotal: 206ms\tremaining: 447ms\n",
      "79:\tlearn: 16.3866732\ttotal: 209ms\tremaining: 444ms\n",
      "80:\tlearn: 16.3740211\ttotal: 212ms\tremaining: 441ms\n",
      "81:\tlearn: 16.3268786\ttotal: 214ms\tremaining: 439ms\n",
      "82:\tlearn: 16.2733707\ttotal: 217ms\tremaining: 436ms\n",
      "83:\tlearn: 16.2349403\ttotal: 219ms\tremaining: 433ms\n",
      "84:\tlearn: 16.1834845\ttotal: 222ms\tremaining: 431ms\n",
      "85:\tlearn: 16.1579430\ttotal: 224ms\tremaining: 428ms\n",
      "86:\tlearn: 16.1346020\ttotal: 227ms\tremaining: 425ms\n",
      "87:\tlearn: 16.1094341\ttotal: 230ms\tremaining: 423ms\n",
      "88:\tlearn: 16.0539919\ttotal: 233ms\tremaining: 421ms\n",
      "89:\tlearn: 16.0111840\ttotal: 235ms\tremaining: 418ms\n",
      "90:\tlearn: 15.9862433\ttotal: 238ms\tremaining: 416ms\n",
      "91:\tlearn: 15.9516836\ttotal: 241ms\tremaining: 413ms\n",
      "92:\tlearn: 15.9237067\ttotal: 243ms\tremaining: 411ms\n",
      "93:\tlearn: 15.9043902\ttotal: 246ms\tremaining: 408ms\n",
      "94:\tlearn: 15.8687382\ttotal: 249ms\tremaining: 406ms\n",
      "95:\tlearn: 15.8447714\ttotal: 251ms\tremaining: 403ms\n",
      "96:\tlearn: 15.8227019\ttotal: 254ms\tremaining: 400ms\n",
      "97:\tlearn: 15.7970440\ttotal: 256ms\tremaining: 398ms\n",
      "98:\tlearn: 15.7573975\ttotal: 259ms\tremaining: 395ms\n",
      "99:\tlearn: 15.7394780\ttotal: 262ms\tremaining: 392ms\n",
      "100:\tlearn: 15.7161381\ttotal: 264ms\tremaining: 390ms\n",
      "101:\tlearn: 15.6973803\ttotal: 267ms\tremaining: 387ms\n",
      "102:\tlearn: 15.6537402\ttotal: 269ms\tremaining: 385ms\n",
      "103:\tlearn: 15.6065342\ttotal: 272ms\tremaining: 382ms\n",
      "104:\tlearn: 15.5740792\ttotal: 275ms\tremaining: 380ms\n",
      "105:\tlearn: 15.5618160\ttotal: 277ms\tremaining: 377ms\n",
      "106:\tlearn: 15.5220237\ttotal: 280ms\tremaining: 374ms\n",
      "107:\tlearn: 15.5183171\ttotal: 282ms\tremaining: 371ms\n",
      "108:\tlearn: 15.4880950\ttotal: 285ms\tremaining: 368ms\n",
      "109:\tlearn: 15.4674987\ttotal: 288ms\tremaining: 366ms\n",
      "110:\tlearn: 15.4260230\ttotal: 290ms\tremaining: 363ms\n",
      "111:\tlearn: 15.4027267\ttotal: 293ms\tremaining: 361ms\n",
      "112:\tlearn: 15.3647932\ttotal: 295ms\tremaining: 358ms\n",
      "113:\tlearn: 15.3283342\ttotal: 298ms\tremaining: 355ms\n",
      "114:\tlearn: 15.2872674\ttotal: 301ms\tremaining: 353ms\n",
      "115:\tlearn: 15.2839872\ttotal: 303ms\tremaining: 350ms\n",
      "116:\tlearn: 15.2499171\ttotal: 306ms\tremaining: 347ms\n",
      "117:\tlearn: 15.2314279\ttotal: 308ms\tremaining: 345ms\n",
      "118:\tlearn: 15.2099521\ttotal: 311ms\tremaining: 342ms\n",
      "119:\tlearn: 15.1732808\ttotal: 313ms\tremaining: 339ms\n",
      "120:\tlearn: 15.1407726\ttotal: 316ms\tremaining: 337ms\n",
      "121:\tlearn: 15.1264208\ttotal: 318ms\tremaining: 334ms\n",
      "122:\tlearn: 15.1018712\ttotal: 321ms\tremaining: 331ms\n",
      "123:\tlearn: 15.0984528\ttotal: 323ms\tremaining: 329ms\n",
      "124:\tlearn: 15.0761307\ttotal: 326ms\tremaining: 326ms\n",
      "125:\tlearn: 15.0216368\ttotal: 328ms\tremaining: 323ms\n",
      "126:\tlearn: 14.9915537\ttotal: 331ms\tremaining: 320ms\n",
      "127:\tlearn: 14.9843889\ttotal: 333ms\tremaining: 318ms\n",
      "128:\tlearn: 14.9804056\ttotal: 336ms\tremaining: 315ms\n",
      "129:\tlearn: 14.9542156\ttotal: 338ms\tremaining: 312ms\n",
      "130:\tlearn: 14.9247385\ttotal: 341ms\tremaining: 310ms\n",
      "131:\tlearn: 14.9049707\ttotal: 343ms\tremaining: 307ms\n",
      "132:\tlearn: 14.8608412\ttotal: 346ms\tremaining: 304ms\n",
      "133:\tlearn: 14.8170540\ttotal: 349ms\tremaining: 302ms\n",
      "134:\tlearn: 14.7941180\ttotal: 351ms\tremaining: 299ms\n",
      "135:\tlearn: 14.7902966\ttotal: 354ms\tremaining: 297ms\n",
      "136:\tlearn: 14.7579113\ttotal: 356ms\tremaining: 294ms\n",
      "137:\tlearn: 14.7223867\ttotal: 359ms\tremaining: 292ms\n",
      "138:\tlearn: 14.7089848\ttotal: 362ms\tremaining: 289ms\n",
      "139:\tlearn: 14.7022513\ttotal: 364ms\tremaining: 286ms\n",
      "140:\tlearn: 14.6921146\ttotal: 367ms\tremaining: 284ms\n",
      "141:\tlearn: 14.6517014\ttotal: 369ms\tremaining: 281ms\n",
      "142:\tlearn: 14.6051242\ttotal: 372ms\tremaining: 278ms\n",
      "143:\tlearn: 14.6015936\ttotal: 375ms\tremaining: 276ms\n",
      "144:\tlearn: 14.5820666\ttotal: 377ms\tremaining: 273ms\n",
      "145:\tlearn: 14.5483835\ttotal: 380ms\tremaining: 270ms\n",
      "146:\tlearn: 14.5412043\ttotal: 382ms\tremaining: 268ms\n",
      "147:\tlearn: 14.5120468\ttotal: 384ms\tremaining: 265ms\n",
      "148:\tlearn: 14.4734542\ttotal: 387ms\tremaining: 262ms\n",
      "149:\tlearn: 14.4287417\ttotal: 389ms\tremaining: 260ms\n",
      "150:\tlearn: 14.3955432\ttotal: 392ms\tremaining: 257ms\n",
      "151:\tlearn: 14.3553976\ttotal: 394ms\tremaining: 254ms\n",
      "152:\tlearn: 14.3253460\ttotal: 397ms\tremaining: 252ms\n",
      "153:\tlearn: 14.2824093\ttotal: 399ms\tremaining: 249ms\n",
      "154:\tlearn: 14.2486138\ttotal: 402ms\tremaining: 246ms\n",
      "155:\tlearn: 14.2082292\ttotal: 405ms\tremaining: 244ms\n",
      "156:\tlearn: 14.1673266\ttotal: 407ms\tremaining: 241ms\n",
      "157:\tlearn: 14.1364027\ttotal: 409ms\tremaining: 238ms\n",
      "158:\tlearn: 14.1044916\ttotal: 412ms\tremaining: 236ms\n",
      "159:\tlearn: 14.0664006\ttotal: 415ms\tremaining: 233ms\n",
      "160:\tlearn: 14.0579577\ttotal: 417ms\tremaining: 231ms\n",
      "161:\tlearn: 14.0238770\ttotal: 420ms\tremaining: 228ms\n",
      "162:\tlearn: 13.9868093\ttotal: 422ms\tremaining: 225ms\n",
      "163:\tlearn: 13.9713826\ttotal: 425ms\tremaining: 223ms\n",
      "164:\tlearn: 13.9329115\ttotal: 427ms\tremaining: 220ms\n",
      "165:\tlearn: 13.8945104\ttotal: 430ms\tremaining: 218ms\n",
      "166:\tlearn: 13.8669137\ttotal: 432ms\tremaining: 215ms\n",
      "167:\tlearn: 13.8300243\ttotal: 435ms\tremaining: 212ms\n",
      "168:\tlearn: 13.8075017\ttotal: 438ms\tremaining: 210ms\n",
      "169:\tlearn: 13.7836108\ttotal: 440ms\tremaining: 207ms\n",
      "170:\tlearn: 13.7543855\ttotal: 443ms\tremaining: 205ms\n",
      "171:\tlearn: 13.7514692\ttotal: 445ms\tremaining: 202ms\n",
      "172:\tlearn: 13.7084754\ttotal: 448ms\tremaining: 199ms\n",
      "173:\tlearn: 13.6774262\ttotal: 450ms\tremaining: 197ms\n",
      "174:\tlearn: 13.6515920\ttotal: 453ms\tremaining: 194ms\n",
      "175:\tlearn: 13.6374096\ttotal: 455ms\tremaining: 191ms\n",
      "176:\tlearn: 13.6009722\ttotal: 458ms\tremaining: 189ms\n",
      "177:\tlearn: 13.5828230\ttotal: 461ms\tremaining: 186ms\n",
      "178:\tlearn: 13.5579565\ttotal: 463ms\tremaining: 184ms\n",
      "179:\tlearn: 13.5305604\ttotal: 466ms\tremaining: 181ms\n",
      "180:\tlearn: 13.5003224\ttotal: 468ms\tremaining: 178ms\n",
      "181:\tlearn: 13.4621566\ttotal: 471ms\tremaining: 176ms\n",
      "182:\tlearn: 13.4430308\ttotal: 473ms\tremaining: 173ms\n",
      "183:\tlearn: 13.4141245\ttotal: 475ms\tremaining: 171ms\n",
      "184:\tlearn: 13.3860553\ttotal: 478ms\tremaining: 168ms\n",
      "185:\tlearn: 13.3642211\ttotal: 480ms\tremaining: 165ms\n",
      "186:\tlearn: 13.3382805\ttotal: 483ms\tremaining: 163ms\n",
      "187:\tlearn: 13.3354584\ttotal: 485ms\tremaining: 160ms\n",
      "188:\tlearn: 13.3088633\ttotal: 488ms\tremaining: 157ms\n",
      "189:\tlearn: 13.2804205\ttotal: 490ms\tremaining: 155ms\n",
      "190:\tlearn: 13.2341173\ttotal: 493ms\tremaining: 152ms\n",
      "191:\tlearn: 13.2058994\ttotal: 495ms\tremaining: 150ms\n",
      "192:\tlearn: 13.1856086\ttotal: 497ms\tremaining: 147ms\n",
      "193:\tlearn: 13.1641354\ttotal: 500ms\tremaining: 144ms\n",
      "194:\tlearn: 13.1608948\ttotal: 502ms\tremaining: 142ms\n",
      "195:\tlearn: 13.1396526\ttotal: 505ms\tremaining: 139ms\n",
      "196:\tlearn: 13.1079114\ttotal: 508ms\tremaining: 137ms\n",
      "197:\tlearn: 13.0821472\ttotal: 510ms\tremaining: 134ms\n",
      "198:\tlearn: 13.0425483\ttotal: 513ms\tremaining: 131ms\n",
      "199:\tlearn: 13.0071050\ttotal: 515ms\tremaining: 129ms\n",
      "200:\tlearn: 12.9850344\ttotal: 518ms\tremaining: 126ms\n",
      "201:\tlearn: 12.9603404\ttotal: 521ms\tremaining: 124ms\n",
      "202:\tlearn: 12.9325542\ttotal: 523ms\tremaining: 121ms\n",
      "203:\tlearn: 12.9147077\ttotal: 526ms\tremaining: 119ms\n",
      "204:\tlearn: 12.8830814\ttotal: 529ms\tremaining: 116ms\n",
      "205:\tlearn: 12.8589839\ttotal: 531ms\tremaining: 113ms\n",
      "206:\tlearn: 12.8559819\ttotal: 534ms\tremaining: 111ms\n",
      "207:\tlearn: 12.8122004\ttotal: 537ms\tremaining: 108ms\n",
      "208:\tlearn: 12.7819216\ttotal: 539ms\tremaining: 106ms\n",
      "209:\tlearn: 12.7698529\ttotal: 542ms\tremaining: 103ms\n",
      "210:\tlearn: 12.7383782\ttotal: 544ms\tremaining: 101ms\n",
      "211:\tlearn: 12.7165031\ttotal: 547ms\tremaining: 98.1ms\n",
      "212:\tlearn: 12.6875664\ttotal: 550ms\tremaining: 95.5ms\n",
      "213:\tlearn: 12.6632249\ttotal: 553ms\tremaining: 93ms\n",
      "214:\tlearn: 12.6154798\ttotal: 555ms\tremaining: 90.4ms\n",
      "215:\tlearn: 12.5744569\ttotal: 558ms\tremaining: 87.8ms\n",
      "216:\tlearn: 12.5456290\ttotal: 561ms\tremaining: 85.3ms\n",
      "217:\tlearn: 12.5365504\ttotal: 563ms\tremaining: 82.7ms\n",
      "218:\tlearn: 12.5039313\ttotal: 566ms\tremaining: 80.1ms\n",
      "219:\tlearn: 12.4912714\ttotal: 568ms\tremaining: 77.5ms\n",
      "220:\tlearn: 12.4657067\ttotal: 571ms\tremaining: 74.9ms\n",
      "221:\tlearn: 12.4384335\ttotal: 574ms\tremaining: 72.4ms\n",
      "222:\tlearn: 12.4160180\ttotal: 576ms\tremaining: 69.8ms\n",
      "223:\tlearn: 12.3777249\ttotal: 579ms\tremaining: 67.2ms\n",
      "224:\tlearn: 12.3537298\ttotal: 582ms\tremaining: 64.6ms\n",
      "225:\tlearn: 12.3459898\ttotal: 584ms\tremaining: 62ms\n",
      "226:\tlearn: 12.3238766\ttotal: 587ms\tremaining: 59.4ms\n",
      "227:\tlearn: 12.2936685\ttotal: 589ms\tremaining: 56.9ms\n",
      "228:\tlearn: 12.2804253\ttotal: 592ms\tremaining: 54.3ms\n",
      "229:\tlearn: 12.2735710\ttotal: 594ms\tremaining: 51.7ms\n",
      "230:\tlearn: 12.2503135\ttotal: 597ms\tremaining: 49.1ms\n",
      "231:\tlearn: 12.2250804\ttotal: 599ms\tremaining: 46.5ms\n",
      "232:\tlearn: 12.1994660\ttotal: 602ms\tremaining: 43.9ms\n",
      "233:\tlearn: 12.1724937\ttotal: 605ms\tremaining: 41.4ms\n",
      "234:\tlearn: 12.1537988\ttotal: 607ms\tremaining: 38.8ms\n",
      "235:\tlearn: 12.1474467\ttotal: 610ms\tremaining: 36.2ms\n",
      "236:\tlearn: 12.1218795\ttotal: 613ms\tremaining: 33.6ms\n",
      "237:\tlearn: 12.0918182\ttotal: 615ms\tremaining: 31ms\n",
      "238:\tlearn: 12.0701181\ttotal: 618ms\tremaining: 28.4ms\n",
      "239:\tlearn: 12.0381143\ttotal: 621ms\tremaining: 25.9ms\n",
      "240:\tlearn: 12.0152713\ttotal: 623ms\tremaining: 23.3ms\n",
      "241:\tlearn: 11.9950074\ttotal: 626ms\tremaining: 20.7ms\n",
      "242:\tlearn: 11.9802062\ttotal: 629ms\tremaining: 18.1ms\n",
      "243:\tlearn: 11.9649288\ttotal: 631ms\tremaining: 15.5ms\n",
      "244:\tlearn: 11.9519735\ttotal: 635ms\tremaining: 13ms\n",
      "245:\tlearn: 11.9420047\ttotal: 639ms\tremaining: 10.4ms\n",
      "246:\tlearn: 11.9155604\ttotal: 642ms\tremaining: 7.8ms\n",
      "247:\tlearn: 11.8804688\ttotal: 646ms\tremaining: 5.21ms\n",
      "248:\tlearn: 11.8724415\ttotal: 650ms\tremaining: 2.61ms\n",
      "249:\tlearn: 11.8605750\ttotal: 653ms\tremaining: 0us\n",
      "0:\tlearn: 31.0015793\ttotal: 3.77ms\tremaining: 938ms\n",
      "1:\tlearn: 30.1563969\ttotal: 6.87ms\tremaining: 852ms\n",
      "2:\tlearn: 29.2298869\ttotal: 9.87ms\tremaining: 813ms\n",
      "3:\tlearn: 28.3927513\ttotal: 12.9ms\tremaining: 795ms\n",
      "4:\tlearn: 27.6202296\ttotal: 16.1ms\tremaining: 788ms\n",
      "5:\tlearn: 26.9633451\ttotal: 19.1ms\tremaining: 776ms\n",
      "6:\tlearn: 26.4090950\ttotal: 22ms\tremaining: 765ms\n",
      "7:\tlearn: 25.8657161\ttotal: 25.1ms\tremaining: 760ms\n",
      "8:\tlearn: 25.3730711\ttotal: 27.7ms\tremaining: 742ms\n",
      "9:\tlearn: 24.8639110\ttotal: 30.6ms\tremaining: 735ms\n",
      "10:\tlearn: 24.4496458\ttotal: 33.6ms\tremaining: 729ms\n",
      "11:\tlearn: 24.1205076\ttotal: 36.6ms\tremaining: 725ms\n",
      "12:\tlearn: 23.7495684\ttotal: 39.6ms\tremaining: 721ms\n",
      "13:\tlearn: 23.4535935\ttotal: 42.5ms\tremaining: 716ms\n",
      "14:\tlearn: 23.2013330\ttotal: 45.4ms\tremaining: 711ms\n",
      "15:\tlearn: 22.9294136\ttotal: 48ms\tremaining: 702ms\n",
      "16:\tlearn: 22.6589367\ttotal: 51.2ms\tremaining: 702ms\n",
      "17:\tlearn: 22.4617092\ttotal: 53.9ms\tremaining: 695ms\n",
      "18:\tlearn: 22.2276805\ttotal: 56.8ms\tremaining: 691ms\n",
      "19:\tlearn: 22.0031697\ttotal: 59.7ms\tremaining: 687ms\n",
      "20:\tlearn: 21.8207141\ttotal: 62.6ms\tremaining: 683ms\n",
      "21:\tlearn: 21.6283679\ttotal: 65.3ms\tremaining: 677ms\n",
      "22:\tlearn: 21.4422560\ttotal: 68.2ms\tremaining: 673ms\n",
      "23:\tlearn: 21.2618018\ttotal: 71.1ms\tremaining: 669ms\n",
      "24:\tlearn: 21.1192439\ttotal: 74.2ms\tremaining: 667ms\n",
      "25:\tlearn: 20.9693844\ttotal: 77.3ms\tremaining: 666ms\n",
      "26:\tlearn: 20.8291820\ttotal: 80.5ms\tremaining: 665ms\n",
      "27:\tlearn: 20.7088158\ttotal: 83.4ms\tremaining: 661ms\n",
      "28:\tlearn: 20.5999813\ttotal: 86.1ms\tremaining: 656ms\n",
      "29:\tlearn: 20.5105358\ttotal: 89.2ms\tremaining: 654ms\n",
      "30:\tlearn: 20.4076444\ttotal: 92ms\tremaining: 650ms\n",
      "31:\tlearn: 20.2953303\ttotal: 94.9ms\tremaining: 647ms\n",
      "32:\tlearn: 20.1992810\ttotal: 97.9ms\tremaining: 644ms\n",
      "33:\tlearn: 20.0811235\ttotal: 101ms\tremaining: 640ms\n",
      "34:\tlearn: 19.9786559\ttotal: 104ms\tremaining: 637ms\n",
      "35:\tlearn: 19.9111940\ttotal: 107ms\tremaining: 634ms\n",
      "36:\tlearn: 19.8220043\ttotal: 110ms\tremaining: 631ms\n",
      "37:\tlearn: 19.7525741\ttotal: 113ms\tremaining: 628ms\n",
      "38:\tlearn: 19.6757413\ttotal: 115ms\tremaining: 624ms\n",
      "39:\tlearn: 19.6015350\ttotal: 118ms\tremaining: 621ms\n",
      "40:\tlearn: 19.5208852\ttotal: 121ms\tremaining: 617ms\n",
      "41:\tlearn: 19.4729659\ttotal: 124ms\tremaining: 613ms\n",
      "42:\tlearn: 19.4014344\ttotal: 127ms\tremaining: 609ms\n",
      "43:\tlearn: 19.3367355\ttotal: 129ms\tremaining: 606ms\n",
      "44:\tlearn: 19.2945607\ttotal: 132ms\tremaining: 603ms\n",
      "45:\tlearn: 19.2235656\ttotal: 135ms\tremaining: 599ms\n",
      "46:\tlearn: 19.1604993\ttotal: 138ms\tremaining: 595ms\n",
      "47:\tlearn: 19.1033948\ttotal: 141ms\tremaining: 592ms\n",
      "48:\tlearn: 19.0413037\ttotal: 144ms\tremaining: 589ms\n",
      "49:\tlearn: 18.9653008\ttotal: 147ms\tremaining: 587ms\n",
      "50:\tlearn: 18.9215533\ttotal: 150ms\tremaining: 584ms\n",
      "51:\tlearn: 18.8590565\ttotal: 153ms\tremaining: 582ms\n",
      "52:\tlearn: 18.8303586\ttotal: 156ms\tremaining: 579ms\n",
      "53:\tlearn: 18.7982108\ttotal: 159ms\tremaining: 575ms\n",
      "54:\tlearn: 18.7481848\ttotal: 161ms\tremaining: 572ms\n",
      "55:\tlearn: 18.6774120\ttotal: 164ms\tremaining: 569ms\n",
      "56:\tlearn: 18.6230390\ttotal: 167ms\tremaining: 567ms\n",
      "57:\tlearn: 18.5556986\ttotal: 170ms\tremaining: 564ms\n",
      "58:\tlearn: 18.5175086\ttotal: 173ms\tremaining: 561ms\n",
      "59:\tlearn: 18.4842623\ttotal: 176ms\tremaining: 558ms\n",
      "60:\tlearn: 18.4377605\ttotal: 180ms\tremaining: 557ms\n",
      "61:\tlearn: 18.3844891\ttotal: 183ms\tremaining: 553ms\n",
      "62:\tlearn: 18.3348340\ttotal: 186ms\tremaining: 551ms\n",
      "63:\tlearn: 18.2823498\ttotal: 189ms\tremaining: 548ms\n",
      "64:\tlearn: 18.2679566\ttotal: 191ms\tremaining: 545ms\n",
      "65:\tlearn: 18.2356438\ttotal: 195ms\tremaining: 542ms\n",
      "66:\tlearn: 18.1996548\ttotal: 198ms\tremaining: 539ms\n",
      "67:\tlearn: 18.1287455\ttotal: 201ms\tremaining: 537ms\n",
      "68:\tlearn: 18.1121469\ttotal: 203ms\tremaining: 533ms\n",
      "69:\tlearn: 18.0832699\ttotal: 206ms\tremaining: 531ms\n",
      "70:\tlearn: 18.0561485\ttotal: 210ms\tremaining: 528ms\n",
      "71:\tlearn: 18.0141561\ttotal: 213ms\tremaining: 526ms\n",
      "72:\tlearn: 17.9758575\ttotal: 216ms\tremaining: 523ms\n",
      "73:\tlearn: 17.9459707\ttotal: 219ms\tremaining: 520ms\n",
      "74:\tlearn: 17.9141389\ttotal: 222ms\tremaining: 518ms\n",
      "75:\tlearn: 17.8847627\ttotal: 225ms\tremaining: 515ms\n",
      "76:\tlearn: 17.8515485\ttotal: 228ms\tremaining: 512ms\n",
      "77:\tlearn: 17.8237969\ttotal: 231ms\tremaining: 509ms\n",
      "78:\tlearn: 17.7896138\ttotal: 234ms\tremaining: 506ms\n",
      "79:\tlearn: 17.7496238\ttotal: 237ms\tremaining: 503ms\n",
      "80:\tlearn: 17.7305509\ttotal: 240ms\tremaining: 500ms\n",
      "81:\tlearn: 17.6962737\ttotal: 243ms\tremaining: 497ms\n",
      "82:\tlearn: 17.6584775\ttotal: 246ms\tremaining: 494ms\n",
      "83:\tlearn: 17.6443210\ttotal: 248ms\tremaining: 491ms\n",
      "84:\tlearn: 17.6076091\ttotal: 251ms\tremaining: 488ms\n",
      "85:\tlearn: 17.5667729\ttotal: 254ms\tremaining: 485ms\n",
      "86:\tlearn: 17.5383283\ttotal: 257ms\tremaining: 482ms\n",
      "87:\tlearn: 17.5206790\ttotal: 260ms\tremaining: 479ms\n",
      "88:\tlearn: 17.5017692\ttotal: 263ms\tremaining: 476ms\n",
      "89:\tlearn: 17.4521950\ttotal: 266ms\tremaining: 473ms\n",
      "90:\tlearn: 17.3975177\ttotal: 269ms\tremaining: 470ms\n",
      "91:\tlearn: 17.3640248\ttotal: 272ms\tremaining: 467ms\n",
      "92:\tlearn: 17.3278101\ttotal: 275ms\tremaining: 464ms\n",
      "93:\tlearn: 17.3008306\ttotal: 278ms\tremaining: 461ms\n",
      "94:\tlearn: 17.2735872\ttotal: 281ms\tremaining: 458ms\n",
      "95:\tlearn: 17.2464849\ttotal: 283ms\tremaining: 455ms\n",
      "96:\tlearn: 17.2275997\ttotal: 286ms\tremaining: 452ms\n",
      "97:\tlearn: 17.2147510\ttotal: 289ms\tremaining: 449ms\n",
      "98:\tlearn: 17.1807508\ttotal: 292ms\tremaining: 445ms\n",
      "99:\tlearn: 17.1526329\ttotal: 295ms\tremaining: 442ms\n",
      "100:\tlearn: 17.1270555\ttotal: 298ms\tremaining: 439ms\n",
      "101:\tlearn: 17.1028441\ttotal: 301ms\tremaining: 436ms\n",
      "102:\tlearn: 17.0808989\ttotal: 303ms\tremaining: 433ms\n",
      "103:\tlearn: 17.0682760\ttotal: 306ms\tremaining: 429ms\n",
      "104:\tlearn: 17.0317279\ttotal: 309ms\tremaining: 427ms\n",
      "105:\tlearn: 16.9972643\ttotal: 311ms\tremaining: 423ms\n",
      "106:\tlearn: 16.9740651\ttotal: 314ms\tremaining: 420ms\n",
      "107:\tlearn: 16.9547560\ttotal: 317ms\tremaining: 417ms\n",
      "108:\tlearn: 16.9349664\ttotal: 320ms\tremaining: 414ms\n",
      "109:\tlearn: 16.9096866\ttotal: 323ms\tremaining: 411ms\n",
      "110:\tlearn: 16.8767697\ttotal: 325ms\tremaining: 407ms\n",
      "111:\tlearn: 16.8528070\ttotal: 328ms\tremaining: 404ms\n",
      "112:\tlearn: 16.7986744\ttotal: 331ms\tremaining: 401ms\n",
      "113:\tlearn: 16.7617136\ttotal: 334ms\tremaining: 398ms\n",
      "114:\tlearn: 16.7166169\ttotal: 336ms\tremaining: 395ms\n",
      "115:\tlearn: 16.6775715\ttotal: 339ms\tremaining: 392ms\n",
      "116:\tlearn: 16.6529671\ttotal: 342ms\tremaining: 388ms\n",
      "117:\tlearn: 16.6501145\ttotal: 344ms\tremaining: 385ms\n",
      "118:\tlearn: 16.6213968\ttotal: 347ms\tremaining: 382ms\n",
      "119:\tlearn: 16.5910461\ttotal: 350ms\tremaining: 379ms\n",
      "120:\tlearn: 16.5606575\ttotal: 353ms\tremaining: 376ms\n",
      "121:\tlearn: 16.5467434\ttotal: 356ms\tremaining: 373ms\n",
      "122:\tlearn: 16.5148558\ttotal: 359ms\tremaining: 370ms\n",
      "123:\tlearn: 16.4928327\ttotal: 362ms\tremaining: 367ms\n",
      "124:\tlearn: 16.4898576\ttotal: 364ms\tremaining: 364ms\n",
      "125:\tlearn: 16.4679475\ttotal: 367ms\tremaining: 361ms\n",
      "126:\tlearn: 16.4476679\ttotal: 370ms\tremaining: 358ms\n",
      "127:\tlearn: 16.4374907\ttotal: 372ms\tremaining: 355ms\n",
      "128:\tlearn: 16.3898977\ttotal: 375ms\tremaining: 352ms\n",
      "129:\tlearn: 16.3870617\ttotal: 378ms\tremaining: 349ms\n",
      "130:\tlearn: 16.3774902\ttotal: 381ms\tremaining: 346ms\n",
      "131:\tlearn: 16.3276953\ttotal: 383ms\tremaining: 343ms\n",
      "132:\tlearn: 16.3136366\ttotal: 386ms\tremaining: 340ms\n",
      "133:\tlearn: 16.2938302\ttotal: 389ms\tremaining: 337ms\n",
      "134:\tlearn: 16.2743827\ttotal: 392ms\tremaining: 334ms\n",
      "135:\tlearn: 16.2554618\ttotal: 394ms\tremaining: 331ms\n",
      "136:\tlearn: 16.2321119\ttotal: 397ms\tremaining: 328ms\n",
      "137:\tlearn: 16.2169210\ttotal: 400ms\tremaining: 325ms\n",
      "138:\tlearn: 16.1898850\ttotal: 403ms\tremaining: 322ms\n",
      "139:\tlearn: 16.1584969\ttotal: 406ms\tremaining: 319ms\n",
      "140:\tlearn: 16.1394838\ttotal: 408ms\tremaining: 316ms\n",
      "141:\tlearn: 16.1080152\ttotal: 411ms\tremaining: 313ms\n",
      "142:\tlearn: 16.1052092\ttotal: 414ms\tremaining: 309ms\n",
      "143:\tlearn: 16.0870280\ttotal: 416ms\tremaining: 307ms\n",
      "144:\tlearn: 16.0710694\ttotal: 419ms\tremaining: 304ms\n",
      "145:\tlearn: 16.0436525\ttotal: 422ms\tremaining: 301ms\n",
      "146:\tlearn: 16.0311847\ttotal: 425ms\tremaining: 298ms\n",
      "147:\tlearn: 16.0110933\ttotal: 428ms\tremaining: 295ms\n",
      "148:\tlearn: 15.9895743\ttotal: 430ms\tremaining: 292ms\n",
      "149:\tlearn: 15.9706216\ttotal: 433ms\tremaining: 289ms\n",
      "150:\tlearn: 15.9681057\ttotal: 436ms\tremaining: 286ms\n",
      "151:\tlearn: 15.9645549\ttotal: 439ms\tremaining: 283ms\n",
      "152:\tlearn: 15.9505912\ttotal: 442ms\tremaining: 280ms\n",
      "153:\tlearn: 15.9234129\ttotal: 445ms\tremaining: 277ms\n",
      "154:\tlearn: 15.9004920\ttotal: 447ms\tremaining: 274ms\n",
      "155:\tlearn: 15.8720411\ttotal: 450ms\tremaining: 271ms\n",
      "156:\tlearn: 15.8499317\ttotal: 453ms\tremaining: 268ms\n",
      "157:\tlearn: 15.8474290\ttotal: 456ms\tremaining: 266ms\n",
      "158:\tlearn: 15.8141370\ttotal: 459ms\tremaining: 263ms\n",
      "159:\tlearn: 15.7938418\ttotal: 462ms\tremaining: 260ms\n",
      "160:\tlearn: 15.7596445\ttotal: 465ms\tremaining: 257ms\n",
      "161:\tlearn: 15.7328702\ttotal: 468ms\tremaining: 254ms\n",
      "162:\tlearn: 15.7095944\ttotal: 471ms\tremaining: 251ms\n",
      "163:\tlearn: 15.6835462\ttotal: 475ms\tremaining: 249ms\n",
      "164:\tlearn: 15.6452194\ttotal: 478ms\tremaining: 246ms\n",
      "165:\tlearn: 15.6147242\ttotal: 481ms\tremaining: 243ms\n",
      "166:\tlearn: 15.5731745\ttotal: 484ms\tremaining: 240ms\n",
      "167:\tlearn: 15.5403890\ttotal: 487ms\tremaining: 238ms\n",
      "168:\tlearn: 15.5098416\ttotal: 490ms\tremaining: 235ms\n",
      "169:\tlearn: 15.4871286\ttotal: 493ms\tremaining: 232ms\n",
      "170:\tlearn: 15.4563598\ttotal: 496ms\tremaining: 229ms\n",
      "171:\tlearn: 15.4539780\ttotal: 499ms\tremaining: 226ms\n",
      "172:\tlearn: 15.4355670\ttotal: 502ms\tremaining: 223ms\n",
      "173:\tlearn: 15.4102395\ttotal: 505ms\tremaining: 220ms\n",
      "174:\tlearn: 15.3830848\ttotal: 508ms\tremaining: 218ms\n",
      "175:\tlearn: 15.3643980\ttotal: 510ms\tremaining: 215ms\n",
      "176:\tlearn: 15.3357022\ttotal: 513ms\tremaining: 212ms\n",
      "177:\tlearn: 15.3167734\ttotal: 516ms\tremaining: 209ms\n",
      "178:\tlearn: 15.2946405\ttotal: 519ms\tremaining: 206ms\n",
      "179:\tlearn: 15.2922247\ttotal: 522ms\tremaining: 203ms\n",
      "180:\tlearn: 15.2664465\ttotal: 525ms\tremaining: 200ms\n",
      "181:\tlearn: 15.2398561\ttotal: 528ms\tremaining: 197ms\n",
      "182:\tlearn: 15.2177443\ttotal: 531ms\tremaining: 195ms\n",
      "183:\tlearn: 15.1943729\ttotal: 534ms\tremaining: 192ms\n",
      "184:\tlearn: 15.1574585\ttotal: 537ms\tremaining: 189ms\n",
      "185:\tlearn: 15.1373731\ttotal: 540ms\tremaining: 186ms\n",
      "186:\tlearn: 15.1350786\ttotal: 543ms\tremaining: 183ms\n",
      "187:\tlearn: 15.1200425\ttotal: 546ms\tremaining: 180ms\n",
      "188:\tlearn: 15.1042980\ttotal: 548ms\tremaining: 177ms\n",
      "189:\tlearn: 15.0836154\ttotal: 551ms\tremaining: 174ms\n",
      "190:\tlearn: 15.0644099\ttotal: 554ms\tremaining: 171ms\n",
      "191:\tlearn: 15.0263155\ttotal: 557ms\tremaining: 168ms\n",
      "192:\tlearn: 15.0028952\ttotal: 560ms\tremaining: 165ms\n",
      "193:\tlearn: 14.9798176\ttotal: 563ms\tremaining: 162ms\n",
      "194:\tlearn: 14.9523290\ttotal: 565ms\tremaining: 159ms\n",
      "195:\tlearn: 14.9215368\ttotal: 568ms\tremaining: 157ms\n",
      "196:\tlearn: 14.8974340\ttotal: 571ms\tremaining: 154ms\n",
      "197:\tlearn: 14.8779880\ttotal: 574ms\tremaining: 151ms\n",
      "198:\tlearn: 14.8758853\ttotal: 577ms\tremaining: 148ms\n",
      "199:\tlearn: 14.8553798\ttotal: 580ms\tremaining: 145ms\n",
      "200:\tlearn: 14.8531993\ttotal: 583ms\tremaining: 142ms\n",
      "201:\tlearn: 14.8503446\ttotal: 585ms\tremaining: 139ms\n",
      "202:\tlearn: 14.8252035\ttotal: 588ms\tremaining: 136ms\n",
      "203:\tlearn: 14.8008869\ttotal: 591ms\tremaining: 133ms\n",
      "204:\tlearn: 14.7742797\ttotal: 594ms\tremaining: 130ms\n",
      "205:\tlearn: 14.7518337\ttotal: 597ms\tremaining: 127ms\n",
      "206:\tlearn: 14.7497944\ttotal: 600ms\tremaining: 125ms\n",
      "207:\tlearn: 14.7292342\ttotal: 603ms\tremaining: 122ms\n",
      "208:\tlearn: 14.7159362\ttotal: 606ms\tremaining: 119ms\n",
      "209:\tlearn: 14.7020195\ttotal: 608ms\tremaining: 116ms\n",
      "210:\tlearn: 14.6857912\ttotal: 611ms\tremaining: 113ms\n",
      "211:\tlearn: 14.6489766\ttotal: 614ms\tremaining: 110ms\n",
      "212:\tlearn: 14.6471300\ttotal: 617ms\tremaining: 107ms\n",
      "213:\tlearn: 14.6148682\ttotal: 620ms\tremaining: 104ms\n",
      "214:\tlearn: 14.6042243\ttotal: 623ms\tremaining: 101ms\n",
      "215:\tlearn: 14.6013990\ttotal: 626ms\tremaining: 98.5ms\n",
      "216:\tlearn: 14.5736230\ttotal: 629ms\tremaining: 95.6ms\n",
      "217:\tlearn: 14.5559824\ttotal: 631ms\tremaining: 92.7ms\n",
      "218:\tlearn: 14.5437558\ttotal: 634ms\tremaining: 89.8ms\n",
      "219:\tlearn: 14.5080347\ttotal: 637ms\tremaining: 86.9ms\n",
      "220:\tlearn: 14.4789405\ttotal: 640ms\tremaining: 84ms\n",
      "221:\tlearn: 14.4460132\ttotal: 643ms\tremaining: 81.1ms\n",
      "222:\tlearn: 14.4294997\ttotal: 646ms\tremaining: 78.2ms\n",
      "223:\tlearn: 14.4135871\ttotal: 649ms\tremaining: 75.3ms\n",
      "224:\tlearn: 14.3933771\ttotal: 652ms\tremaining: 72.4ms\n",
      "225:\tlearn: 14.3803281\ttotal: 655ms\tremaining: 69.5ms\n",
      "226:\tlearn: 14.3555508\ttotal: 658ms\tremaining: 66.6ms\n",
      "227:\tlearn: 14.3347265\ttotal: 661ms\tremaining: 63.7ms\n",
      "228:\tlearn: 14.3330339\ttotal: 663ms\tremaining: 60.8ms\n",
      "229:\tlearn: 14.3060040\ttotal: 666ms\tremaining: 57.9ms\n",
      "230:\tlearn: 14.2730984\ttotal: 670ms\tremaining: 55.1ms\n",
      "231:\tlearn: 14.2542609\ttotal: 673ms\tremaining: 52.2ms\n",
      "232:\tlearn: 14.2425400\ttotal: 675ms\tremaining: 49.3ms\n",
      "233:\tlearn: 14.2162608\ttotal: 679ms\tremaining: 46.4ms\n",
      "234:\tlearn: 14.2046123\ttotal: 682ms\tremaining: 43.5ms\n",
      "235:\tlearn: 14.1754804\ttotal: 685ms\tremaining: 40.6ms\n",
      "236:\tlearn: 14.1634468\ttotal: 688ms\tremaining: 37.7ms\n",
      "237:\tlearn: 14.1433778\ttotal: 691ms\tremaining: 34.8ms\n",
      "238:\tlearn: 14.1246935\ttotal: 694ms\tremaining: 31.9ms\n",
      "239:\tlearn: 14.1231160\ttotal: 697ms\tremaining: 29ms\n",
      "240:\tlearn: 14.1073185\ttotal: 700ms\tremaining: 26.1ms\n",
      "241:\tlearn: 14.0813796\ttotal: 703ms\tremaining: 23.3ms\n",
      "242:\tlearn: 14.0484353\ttotal: 707ms\tremaining: 20.4ms\n",
      "243:\tlearn: 14.0352361\ttotal: 709ms\tremaining: 17.4ms\n",
      "244:\tlearn: 14.0333635\ttotal: 712ms\tremaining: 14.5ms\n",
      "245:\tlearn: 14.0039080\ttotal: 715ms\tremaining: 11.6ms\n",
      "246:\tlearn: 13.9876804\ttotal: 718ms\tremaining: 8.72ms\n",
      "247:\tlearn: 13.9746640\ttotal: 721ms\tremaining: 5.81ms\n",
      "248:\tlearn: 13.9651021\ttotal: 724ms\tremaining: 2.91ms\n",
      "249:\tlearn: 13.9486508\ttotal: 727ms\tremaining: 0us\n",
      "0:\tlearn: 32.3814226\ttotal: 4.27ms\tremaining: 1.06s\n",
      "1:\tlearn: 31.4840333\ttotal: 7.54ms\tremaining: 936ms\n",
      "2:\tlearn: 30.5265024\ttotal: 11.1ms\tremaining: 910ms\n",
      "3:\tlearn: 29.6677764\ttotal: 14.5ms\tremaining: 889ms\n",
      "4:\tlearn: 28.8798737\ttotal: 18.2ms\tremaining: 890ms\n",
      "5:\tlearn: 28.2049344\ttotal: 21.3ms\tremaining: 867ms\n",
      "6:\tlearn: 27.6361190\ttotal: 24.7ms\tremaining: 858ms\n",
      "7:\tlearn: 27.0564710\ttotal: 28.2ms\tremaining: 853ms\n",
      "8:\tlearn: 26.5516391\ttotal: 31.6ms\tremaining: 846ms\n",
      "9:\tlearn: 26.0231318\ttotal: 35ms\tremaining: 841ms\n",
      "10:\tlearn: 25.5683613\ttotal: 38.4ms\tremaining: 834ms\n",
      "11:\tlearn: 25.2259095\ttotal: 41.6ms\tremaining: 826ms\n",
      "12:\tlearn: 24.8724636\ttotal: 45.1ms\tremaining: 823ms\n",
      "13:\tlearn: 24.5276645\ttotal: 48.6ms\tremaining: 819ms\n",
      "14:\tlearn: 24.1896715\ttotal: 51.8ms\tremaining: 812ms\n",
      "15:\tlearn: 23.9096621\ttotal: 55.3ms\tremaining: 809ms\n",
      "16:\tlearn: 23.6751115\ttotal: 58.6ms\tremaining: 803ms\n",
      "17:\tlearn: 23.4247704\ttotal: 62.3ms\tremaining: 803ms\n",
      "18:\tlearn: 23.2068363\ttotal: 65.7ms\tremaining: 799ms\n",
      "19:\tlearn: 23.0006417\ttotal: 68.9ms\tremaining: 793ms\n",
      "20:\tlearn: 22.8220833\ttotal: 71.9ms\tremaining: 784ms\n",
      "21:\tlearn: 22.6057384\ttotal: 75.2ms\tremaining: 780ms\n",
      "22:\tlearn: 22.4629135\ttotal: 78.4ms\tremaining: 773ms\n",
      "23:\tlearn: 22.3066935\ttotal: 81.6ms\tremaining: 768ms\n",
      "24:\tlearn: 22.1634423\ttotal: 84.8ms\tremaining: 763ms\n",
      "25:\tlearn: 22.0186134\ttotal: 88.3ms\tremaining: 760ms\n",
      "26:\tlearn: 21.9010690\ttotal: 91.7ms\tremaining: 758ms\n",
      "27:\tlearn: 21.7715711\ttotal: 95ms\tremaining: 753ms\n",
      "28:\tlearn: 21.6717091\ttotal: 98.6ms\tremaining: 752ms\n",
      "29:\tlearn: 21.5616668\ttotal: 102ms\tremaining: 749ms\n",
      "30:\tlearn: 21.4442388\ttotal: 106ms\tremaining: 747ms\n",
      "31:\tlearn: 21.3419978\ttotal: 109ms\tremaining: 743ms\n",
      "32:\tlearn: 21.2413799\ttotal: 113ms\tremaining: 740ms\n",
      "33:\tlearn: 21.1534729\ttotal: 116ms\tremaining: 736ms\n",
      "34:\tlearn: 21.0696038\ttotal: 119ms\tremaining: 731ms\n",
      "35:\tlearn: 21.0102451\ttotal: 122ms\tremaining: 726ms\n",
      "36:\tlearn: 20.9319392\ttotal: 126ms\tremaining: 723ms\n",
      "37:\tlearn: 20.8796275\ttotal: 129ms\tremaining: 719ms\n",
      "38:\tlearn: 20.8076105\ttotal: 132ms\tremaining: 716ms\n",
      "39:\tlearn: 20.7480928\ttotal: 136ms\tremaining: 713ms\n",
      "40:\tlearn: 20.6821400\ttotal: 139ms\tremaining: 709ms\n",
      "41:\tlearn: 20.6063627\ttotal: 142ms\tremaining: 704ms\n",
      "42:\tlearn: 20.5324578\ttotal: 145ms\tremaining: 699ms\n",
      "43:\tlearn: 20.4697952\ttotal: 148ms\tremaining: 695ms\n",
      "44:\tlearn: 20.4163331\ttotal: 152ms\tremaining: 691ms\n",
      "45:\tlearn: 20.3544202\ttotal: 155ms\tremaining: 687ms\n",
      "46:\tlearn: 20.3022299\ttotal: 158ms\tremaining: 684ms\n",
      "47:\tlearn: 20.2612821\ttotal: 162ms\tremaining: 680ms\n",
      "48:\tlearn: 20.2253404\ttotal: 165ms\tremaining: 675ms\n",
      "49:\tlearn: 20.1752430\ttotal: 168ms\tremaining: 672ms\n",
      "50:\tlearn: 20.1173585\ttotal: 171ms\tremaining: 669ms\n",
      "51:\tlearn: 20.0655433\ttotal: 175ms\tremaining: 666ms\n",
      "52:\tlearn: 20.0193765\ttotal: 178ms\tremaining: 662ms\n",
      "53:\tlearn: 19.9916758\ttotal: 181ms\tremaining: 658ms\n",
      "54:\tlearn: 19.9466948\ttotal: 185ms\tremaining: 655ms\n",
      "55:\tlearn: 19.9013865\ttotal: 188ms\tremaining: 652ms\n",
      "56:\tlearn: 19.8791391\ttotal: 191ms\tremaining: 646ms\n",
      "57:\tlearn: 19.8384116\ttotal: 194ms\tremaining: 642ms\n",
      "58:\tlearn: 19.7926436\ttotal: 197ms\tremaining: 638ms\n",
      "59:\tlearn: 19.7384572\ttotal: 200ms\tremaining: 635ms\n",
      "60:\tlearn: 19.6970119\ttotal: 204ms\tremaining: 631ms\n",
      "61:\tlearn: 19.6654629\ttotal: 207ms\tremaining: 627ms\n",
      "62:\tlearn: 19.6253371\ttotal: 210ms\tremaining: 623ms\n",
      "63:\tlearn: 19.5795953\ttotal: 213ms\tremaining: 620ms\n",
      "64:\tlearn: 19.5296424\ttotal: 217ms\tremaining: 618ms\n",
      "65:\tlearn: 19.5052658\ttotal: 221ms\tremaining: 615ms\n",
      "66:\tlearn: 19.4791492\ttotal: 224ms\tremaining: 612ms\n",
      "67:\tlearn: 19.4321968\ttotal: 227ms\tremaining: 609ms\n",
      "68:\tlearn: 19.3748696\ttotal: 231ms\tremaining: 606ms\n",
      "69:\tlearn: 19.3158071\ttotal: 235ms\tremaining: 603ms\n",
      "70:\tlearn: 19.2895208\ttotal: 238ms\tremaining: 600ms\n",
      "71:\tlearn: 19.2584096\ttotal: 242ms\tremaining: 597ms\n",
      "72:\tlearn: 19.2444117\ttotal: 245ms\tremaining: 594ms\n",
      "73:\tlearn: 19.2232229\ttotal: 248ms\tremaining: 590ms\n",
      "74:\tlearn: 19.1723713\ttotal: 252ms\tremaining: 587ms\n",
      "75:\tlearn: 19.1551123\ttotal: 255ms\tremaining: 583ms\n",
      "76:\tlearn: 19.1279634\ttotal: 258ms\tremaining: 579ms\n",
      "77:\tlearn: 19.1016158\ttotal: 261ms\tremaining: 576ms\n",
      "78:\tlearn: 19.0755150\ttotal: 264ms\tremaining: 572ms\n",
      "79:\tlearn: 19.0643835\ttotal: 267ms\tremaining: 568ms\n",
      "80:\tlearn: 19.0405519\ttotal: 271ms\tremaining: 565ms\n",
      "81:\tlearn: 19.0201177\ttotal: 274ms\tremaining: 561ms\n",
      "82:\tlearn: 18.9895197\ttotal: 277ms\tremaining: 558ms\n",
      "83:\tlearn: 18.9546036\ttotal: 280ms\tremaining: 554ms\n",
      "84:\tlearn: 18.9108817\ttotal: 284ms\tremaining: 551ms\n",
      "85:\tlearn: 18.8883937\ttotal: 287ms\tremaining: 547ms\n",
      "86:\tlearn: 18.8570903\ttotal: 290ms\tremaining: 543ms\n",
      "87:\tlearn: 18.8248255\ttotal: 293ms\tremaining: 540ms\n",
      "88:\tlearn: 18.8034215\ttotal: 296ms\tremaining: 536ms\n",
      "89:\tlearn: 18.7758234\ttotal: 299ms\tremaining: 532ms\n",
      "90:\tlearn: 18.7326077\ttotal: 302ms\tremaining: 528ms\n",
      "91:\tlearn: 18.7063895\ttotal: 305ms\tremaining: 525ms\n",
      "92:\tlearn: 18.6802304\ttotal: 309ms\tremaining: 521ms\n",
      "93:\tlearn: 18.6445581\ttotal: 312ms\tremaining: 518ms\n",
      "94:\tlearn: 18.6164084\ttotal: 315ms\tremaining: 515ms\n",
      "95:\tlearn: 18.5828171\ttotal: 319ms\tremaining: 512ms\n",
      "96:\tlearn: 18.5597418\ttotal: 322ms\tremaining: 508ms\n",
      "97:\tlearn: 18.5359522\ttotal: 325ms\tremaining: 505ms\n",
      "98:\tlearn: 18.5062962\ttotal: 328ms\tremaining: 501ms\n",
      "99:\tlearn: 18.4827308\ttotal: 332ms\tremaining: 497ms\n",
      "100:\tlearn: 18.4509428\ttotal: 335ms\tremaining: 494ms\n",
      "101:\tlearn: 18.4186783\ttotal: 338ms\tremaining: 490ms\n",
      "102:\tlearn: 18.3989315\ttotal: 341ms\tremaining: 486ms\n",
      "103:\tlearn: 18.3747392\ttotal: 344ms\tremaining: 483ms\n",
      "104:\tlearn: 18.3608368\ttotal: 347ms\tremaining: 479ms\n",
      "105:\tlearn: 18.3219833\ttotal: 350ms\tremaining: 476ms\n",
      "106:\tlearn: 18.2955541\ttotal: 354ms\tremaining: 473ms\n",
      "107:\tlearn: 18.2768362\ttotal: 357ms\tremaining: 470ms\n",
      "108:\tlearn: 18.2602602\ttotal: 360ms\tremaining: 466ms\n",
      "109:\tlearn: 18.2159341\ttotal: 364ms\tremaining: 463ms\n",
      "110:\tlearn: 18.1838230\ttotal: 367ms\tremaining: 460ms\n",
      "111:\tlearn: 18.1601527\ttotal: 371ms\tremaining: 457ms\n",
      "112:\tlearn: 18.1351708\ttotal: 373ms\tremaining: 453ms\n",
      "113:\tlearn: 18.1049035\ttotal: 377ms\tremaining: 449ms\n",
      "114:\tlearn: 18.0873771\ttotal: 380ms\tremaining: 446ms\n",
      "115:\tlearn: 18.0591598\ttotal: 383ms\tremaining: 442ms\n",
      "116:\tlearn: 18.0501747\ttotal: 386ms\tremaining: 439ms\n",
      "117:\tlearn: 18.0397234\ttotal: 389ms\tremaining: 435ms\n",
      "118:\tlearn: 18.0178200\ttotal: 392ms\tremaining: 432ms\n",
      "119:\tlearn: 18.0003436\ttotal: 395ms\tremaining: 428ms\n",
      "120:\tlearn: 17.9690776\ttotal: 398ms\tremaining: 425ms\n",
      "121:\tlearn: 17.9557647\ttotal: 401ms\tremaining: 421ms\n",
      "122:\tlearn: 17.9303821\ttotal: 404ms\tremaining: 418ms\n",
      "123:\tlearn: 17.9169689\ttotal: 407ms\tremaining: 414ms\n",
      "124:\tlearn: 17.8712647\ttotal: 411ms\tremaining: 411ms\n",
      "125:\tlearn: 17.8466671\ttotal: 414ms\tremaining: 407ms\n",
      "126:\tlearn: 17.8156722\ttotal: 417ms\tremaining: 404ms\n",
      "127:\tlearn: 17.7716224\ttotal: 420ms\tremaining: 401ms\n",
      "128:\tlearn: 17.7542022\ttotal: 424ms\tremaining: 397ms\n",
      "129:\tlearn: 17.7523799\ttotal: 427ms\tremaining: 394ms\n",
      "130:\tlearn: 17.7416118\ttotal: 429ms\tremaining: 390ms\n",
      "131:\tlearn: 17.7135365\ttotal: 433ms\tremaining: 387ms\n",
      "132:\tlearn: 17.7015130\ttotal: 436ms\tremaining: 383ms\n",
      "133:\tlearn: 17.6992451\ttotal: 439ms\tremaining: 380ms\n",
      "134:\tlearn: 17.6683889\ttotal: 442ms\tremaining: 377ms\n",
      "135:\tlearn: 17.6588126\ttotal: 446ms\tremaining: 374ms\n",
      "136:\tlearn: 17.6377529\ttotal: 449ms\tremaining: 370ms\n",
      "137:\tlearn: 17.6359137\ttotal: 452ms\tremaining: 367ms\n",
      "138:\tlearn: 17.6132430\ttotal: 455ms\tremaining: 364ms\n",
      "139:\tlearn: 17.5847770\ttotal: 459ms\tremaining: 360ms\n",
      "140:\tlearn: 17.5595158\ttotal: 462ms\tremaining: 357ms\n",
      "141:\tlearn: 17.5404089\ttotal: 465ms\tremaining: 354ms\n",
      "142:\tlearn: 17.5128361\ttotal: 468ms\tremaining: 350ms\n",
      "143:\tlearn: 17.5105949\ttotal: 471ms\tremaining: 347ms\n",
      "144:\tlearn: 17.4961628\ttotal: 475ms\tremaining: 344ms\n",
      "145:\tlearn: 17.4655468\ttotal: 478ms\tremaining: 341ms\n",
      "146:\tlearn: 17.4339250\ttotal: 481ms\tremaining: 337ms\n",
      "147:\tlearn: 17.4317504\ttotal: 484ms\tremaining: 334ms\n",
      "148:\tlearn: 17.4058261\ttotal: 488ms\tremaining: 331ms\n",
      "149:\tlearn: 17.3785939\ttotal: 491ms\tremaining: 327ms\n",
      "150:\tlearn: 17.3754348\ttotal: 494ms\tremaining: 324ms\n",
      "151:\tlearn: 17.3589899\ttotal: 497ms\tremaining: 320ms\n",
      "152:\tlearn: 17.3565498\ttotal: 500ms\tremaining: 317ms\n",
      "153:\tlearn: 17.3302524\ttotal: 503ms\tremaining: 313ms\n",
      "154:\tlearn: 17.3105985\ttotal: 506ms\tremaining: 310ms\n",
      "155:\tlearn: 17.2852971\ttotal: 509ms\tremaining: 307ms\n",
      "156:\tlearn: 17.2485093\ttotal: 512ms\tremaining: 304ms\n",
      "157:\tlearn: 17.2183356\ttotal: 516ms\tremaining: 300ms\n",
      "158:\tlearn: 17.2163205\ttotal: 519ms\tremaining: 297ms\n",
      "159:\tlearn: 17.1831054\ttotal: 521ms\tremaining: 293ms\n",
      "160:\tlearn: 17.1636955\ttotal: 525ms\tremaining: 290ms\n",
      "161:\tlearn: 17.1209509\ttotal: 528ms\tremaining: 287ms\n",
      "162:\tlearn: 17.0932709\ttotal: 531ms\tremaining: 283ms\n",
      "163:\tlearn: 17.0704230\ttotal: 534ms\tremaining: 280ms\n",
      "164:\tlearn: 17.0448324\ttotal: 537ms\tremaining: 277ms\n",
      "165:\tlearn: 17.0265235\ttotal: 541ms\tremaining: 274ms\n",
      "166:\tlearn: 17.0047559\ttotal: 544ms\tremaining: 270ms\n",
      "167:\tlearn: 16.9774753\ttotal: 548ms\tremaining: 267ms\n",
      "168:\tlearn: 16.9753368\ttotal: 551ms\tremaining: 264ms\n",
      "169:\tlearn: 16.9735437\ttotal: 553ms\tremaining: 260ms\n",
      "170:\tlearn: 16.9456368\ttotal: 556ms\tremaining: 257ms\n",
      "171:\tlearn: 16.9439061\ttotal: 560ms\tremaining: 254ms\n",
      "172:\tlearn: 16.9152174\ttotal: 563ms\tremaining: 250ms\n",
      "173:\tlearn: 16.8854633\ttotal: 566ms\tremaining: 247ms\n",
      "174:\tlearn: 16.8666254\ttotal: 569ms\tremaining: 244ms\n",
      "175:\tlearn: 16.8649391\ttotal: 572ms\tremaining: 241ms\n",
      "176:\tlearn: 16.8449650\ttotal: 575ms\tremaining: 237ms\n",
      "177:\tlearn: 16.8236570\ttotal: 578ms\tremaining: 234ms\n",
      "178:\tlearn: 16.8219300\ttotal: 581ms\tremaining: 231ms\n",
      "179:\tlearn: 16.8203620\ttotal: 585ms\tremaining: 227ms\n",
      "180:\tlearn: 16.7898517\ttotal: 588ms\tremaining: 224ms\n",
      "181:\tlearn: 16.7650417\ttotal: 591ms\tremaining: 221ms\n",
      "182:\tlearn: 16.7359414\ttotal: 595ms\tremaining: 218ms\n",
      "183:\tlearn: 16.7205214\ttotal: 598ms\tremaining: 214ms\n",
      "184:\tlearn: 16.7189501\ttotal: 601ms\tremaining: 211ms\n",
      "185:\tlearn: 16.6897478\ttotal: 604ms\tremaining: 208ms\n",
      "186:\tlearn: 16.6502533\ttotal: 608ms\tremaining: 205ms\n",
      "187:\tlearn: 16.6301679\ttotal: 611ms\tremaining: 202ms\n",
      "188:\tlearn: 16.6037235\ttotal: 615ms\tremaining: 198ms\n",
      "189:\tlearn: 16.5937758\ttotal: 618ms\tremaining: 195ms\n",
      "190:\tlearn: 16.5731893\ttotal: 621ms\tremaining: 192ms\n",
      "191:\tlearn: 16.5504024\ttotal: 625ms\tremaining: 189ms\n",
      "192:\tlearn: 16.5327985\ttotal: 628ms\tremaining: 185ms\n",
      "193:\tlearn: 16.5146769\ttotal: 632ms\tremaining: 182ms\n",
      "194:\tlearn: 16.4877401\ttotal: 636ms\tremaining: 179ms\n",
      "195:\tlearn: 16.4611925\ttotal: 639ms\tremaining: 176ms\n",
      "196:\tlearn: 16.4408364\ttotal: 643ms\tremaining: 173ms\n",
      "197:\tlearn: 16.4133670\ttotal: 646ms\tremaining: 170ms\n",
      "198:\tlearn: 16.3806232\ttotal: 649ms\tremaining: 166ms\n",
      "199:\tlearn: 16.3645289\ttotal: 653ms\tremaining: 163ms\n",
      "200:\tlearn: 16.3627164\ttotal: 656ms\tremaining: 160ms\n",
      "201:\tlearn: 16.3413500\ttotal: 659ms\tremaining: 157ms\n",
      "202:\tlearn: 16.3206984\ttotal: 662ms\tremaining: 153ms\n",
      "203:\tlearn: 16.2830841\ttotal: 665ms\tremaining: 150ms\n",
      "204:\tlearn: 16.2815884\ttotal: 668ms\tremaining: 147ms\n",
      "205:\tlearn: 16.2633618\ttotal: 671ms\tremaining: 143ms\n",
      "206:\tlearn: 16.2424640\ttotal: 675ms\tremaining: 140ms\n",
      "207:\tlearn: 16.2186835\ttotal: 678ms\tremaining: 137ms\n",
      "208:\tlearn: 16.1973525\ttotal: 681ms\tremaining: 134ms\n",
      "209:\tlearn: 16.1784282\ttotal: 685ms\tremaining: 130ms\n",
      "210:\tlearn: 16.1550173\ttotal: 688ms\tremaining: 127ms\n",
      "211:\tlearn: 16.1519513\ttotal: 691ms\tremaining: 124ms\n",
      "212:\tlearn: 16.1364797\ttotal: 694ms\tremaining: 121ms\n",
      "213:\tlearn: 16.0969562\ttotal: 698ms\tremaining: 117ms\n",
      "214:\tlearn: 16.0823309\ttotal: 701ms\tremaining: 114ms\n",
      "215:\tlearn: 16.0628806\ttotal: 704ms\tremaining: 111ms\n",
      "216:\tlearn: 16.0433575\ttotal: 707ms\tremaining: 108ms\n",
      "217:\tlearn: 16.0167579\ttotal: 711ms\tremaining: 104ms\n",
      "218:\tlearn: 15.9866944\ttotal: 714ms\tremaining: 101ms\n",
      "219:\tlearn: 15.9627612\ttotal: 718ms\tremaining: 97.9ms\n",
      "220:\tlearn: 15.9375178\ttotal: 721ms\tremaining: 94.6ms\n",
      "221:\tlearn: 15.9082710\ttotal: 724ms\tremaining: 91.3ms\n",
      "222:\tlearn: 15.8938464\ttotal: 728ms\tremaining: 88.1ms\n",
      "223:\tlearn: 15.8747427\ttotal: 731ms\tremaining: 84.9ms\n",
      "224:\tlearn: 15.8503945\ttotal: 734ms\tremaining: 81.6ms\n",
      "225:\tlearn: 15.8271514\ttotal: 738ms\tremaining: 78.3ms\n",
      "226:\tlearn: 15.7945774\ttotal: 741ms\tremaining: 75.1ms\n",
      "227:\tlearn: 15.7663741\ttotal: 745ms\tremaining: 71.9ms\n",
      "228:\tlearn: 15.7435939\ttotal: 748ms\tremaining: 68.6ms\n",
      "229:\tlearn: 15.7423658\ttotal: 751ms\tremaining: 65.3ms\n",
      "230:\tlearn: 15.7157484\ttotal: 755ms\tremaining: 62.1ms\n",
      "231:\tlearn: 15.6896995\ttotal: 758ms\tremaining: 58.8ms\n",
      "232:\tlearn: 15.6700524\ttotal: 761ms\tremaining: 55.5ms\n",
      "233:\tlearn: 15.6442693\ttotal: 765ms\tremaining: 52.3ms\n",
      "234:\tlearn: 15.6144902\ttotal: 768ms\tremaining: 49ms\n",
      "235:\tlearn: 15.5960444\ttotal: 771ms\tremaining: 45.8ms\n",
      "236:\tlearn: 15.5778515\ttotal: 775ms\tremaining: 42.5ms\n",
      "237:\tlearn: 15.5651732\ttotal: 778ms\tremaining: 39.2ms\n",
      "238:\tlearn: 15.5315375\ttotal: 781ms\tremaining: 35.9ms\n",
      "239:\tlearn: 15.5159980\ttotal: 784ms\tremaining: 32.7ms\n",
      "240:\tlearn: 15.4851700\ttotal: 787ms\tremaining: 29.4ms\n",
      "241:\tlearn: 15.4677966\ttotal: 791ms\tremaining: 26.1ms\n",
      "242:\tlearn: 15.4502347\ttotal: 794ms\tremaining: 22.9ms\n",
      "243:\tlearn: 15.4272094\ttotal: 797ms\tremaining: 19.6ms\n",
      "244:\tlearn: 15.4028938\ttotal: 801ms\tremaining: 16.3ms\n",
      "245:\tlearn: 15.3818057\ttotal: 804ms\tremaining: 13.1ms\n",
      "246:\tlearn: 15.3685865\ttotal: 807ms\tremaining: 9.81ms\n",
      "247:\tlearn: 15.3588481\ttotal: 810ms\tremaining: 6.54ms\n",
      "248:\tlearn: 15.3401328\ttotal: 814ms\tremaining: 3.27ms\n",
      "249:\tlearn: 15.3255293\ttotal: 817ms\tremaining: 0us\n",
      "0:\tlearn: 33.6913631\ttotal: 4.01ms\tremaining: 998ms\n",
      "1:\tlearn: 32.7445508\ttotal: 7.63ms\tremaining: 947ms\n",
      "2:\tlearn: 31.7874608\ttotal: 10.9ms\tremaining: 894ms\n",
      "3:\tlearn: 30.9295814\ttotal: 14.3ms\tremaining: 881ms\n",
      "4:\tlearn: 30.1338398\ttotal: 17.9ms\tremaining: 878ms\n",
      "5:\tlearn: 29.4302178\ttotal: 21.6ms\tremaining: 877ms\n",
      "6:\tlearn: 28.8200616\ttotal: 25.3ms\tremaining: 877ms\n",
      "7:\tlearn: 28.2838399\ttotal: 28.9ms\tremaining: 873ms\n",
      "8:\tlearn: 27.7244431\ttotal: 32.2ms\tremaining: 862ms\n",
      "9:\tlearn: 27.2313600\ttotal: 35.8ms\tremaining: 859ms\n",
      "10:\tlearn: 26.8086560\ttotal: 39.2ms\tremaining: 852ms\n",
      "11:\tlearn: 26.4141013\ttotal: 42.4ms\tremaining: 842ms\n",
      "12:\tlearn: 26.0125465\ttotal: 45.8ms\tremaining: 836ms\n",
      "13:\tlearn: 25.6394931\ttotal: 49.3ms\tremaining: 831ms\n",
      "14:\tlearn: 25.3046034\ttotal: 52.8ms\tremaining: 828ms\n",
      "15:\tlearn: 25.0247691\ttotal: 56.3ms\tremaining: 823ms\n",
      "16:\tlearn: 24.7533620\ttotal: 59.7ms\tremaining: 819ms\n",
      "17:\tlearn: 24.4827592\ttotal: 63.3ms\tremaining: 816ms\n",
      "18:\tlearn: 24.2645104\ttotal: 66.9ms\tremaining: 813ms\n",
      "19:\tlearn: 24.0787686\ttotal: 70.3ms\tremaining: 809ms\n",
      "20:\tlearn: 23.8859454\ttotal: 73.7ms\tremaining: 803ms\n",
      "21:\tlearn: 23.7051429\ttotal: 77ms\tremaining: 798ms\n",
      "22:\tlearn: 23.5713030\ttotal: 80.5ms\tremaining: 794ms\n",
      "23:\tlearn: 23.4015645\ttotal: 83.9ms\tremaining: 790ms\n",
      "24:\tlearn: 23.2494601\ttotal: 87.5ms\tremaining: 788ms\n",
      "25:\tlearn: 23.0855976\ttotal: 90.9ms\tremaining: 783ms\n",
      "26:\tlearn: 22.9400558\ttotal: 94.4ms\tremaining: 779ms\n",
      "27:\tlearn: 22.8167175\ttotal: 97.9ms\tremaining: 776ms\n",
      "28:\tlearn: 22.7030342\ttotal: 101ms\tremaining: 772ms\n",
      "29:\tlearn: 22.6152741\ttotal: 105ms\tremaining: 769ms\n",
      "30:\tlearn: 22.5040447\ttotal: 108ms\tremaining: 765ms\n",
      "31:\tlearn: 22.3991993\ttotal: 112ms\tremaining: 764ms\n",
      "32:\tlearn: 22.2987998\ttotal: 116ms\tremaining: 761ms\n",
      "33:\tlearn: 22.2129627\ttotal: 119ms\tremaining: 755ms\n",
      "34:\tlearn: 22.1342124\ttotal: 122ms\tremaining: 751ms\n",
      "35:\tlearn: 22.0291660\ttotal: 126ms\tremaining: 747ms\n",
      "36:\tlearn: 21.9453062\ttotal: 129ms\tremaining: 742ms\n",
      "37:\tlearn: 21.8833679\ttotal: 132ms\tremaining: 738ms\n",
      "38:\tlearn: 21.8252291\ttotal: 136ms\tremaining: 734ms\n",
      "39:\tlearn: 21.7587952\ttotal: 139ms\tremaining: 732ms\n",
      "40:\tlearn: 21.6842919\ttotal: 143ms\tremaining: 728ms\n",
      "41:\tlearn: 21.6304229\ttotal: 146ms\tremaining: 725ms\n",
      "42:\tlearn: 21.5578165\ttotal: 150ms\tremaining: 722ms\n",
      "43:\tlearn: 21.4611566\ttotal: 153ms\tremaining: 718ms\n",
      "44:\tlearn: 21.3950024\ttotal: 157ms\tremaining: 714ms\n",
      "45:\tlearn: 21.3446915\ttotal: 160ms\tremaining: 710ms\n",
      "46:\tlearn: 21.2892711\ttotal: 164ms\tremaining: 707ms\n",
      "47:\tlearn: 21.2355219\ttotal: 167ms\tremaining: 703ms\n",
      "48:\tlearn: 21.1937558\ttotal: 170ms\tremaining: 699ms\n",
      "49:\tlearn: 21.1251597\ttotal: 174ms\tremaining: 695ms\n",
      "50:\tlearn: 21.0832021\ttotal: 177ms\tremaining: 692ms\n",
      "51:\tlearn: 21.0099523\ttotal: 181ms\tremaining: 690ms\n",
      "52:\tlearn: 20.9674128\ttotal: 185ms\tremaining: 687ms\n",
      "53:\tlearn: 20.9395513\ttotal: 188ms\tremaining: 683ms\n",
      "54:\tlearn: 20.8986382\ttotal: 192ms\tremaining: 680ms\n",
      "55:\tlearn: 20.8558359\ttotal: 195ms\tremaining: 677ms\n",
      "56:\tlearn: 20.8219844\ttotal: 199ms\tremaining: 674ms\n",
      "57:\tlearn: 20.7756622\ttotal: 202ms\tremaining: 670ms\n",
      "58:\tlearn: 20.7241093\ttotal: 206ms\tremaining: 667ms\n",
      "59:\tlearn: 20.6956453\ttotal: 210ms\tremaining: 664ms\n",
      "60:\tlearn: 20.6641479\ttotal: 213ms\tremaining: 660ms\n",
      "61:\tlearn: 20.6270058\ttotal: 217ms\tremaining: 657ms\n",
      "62:\tlearn: 20.5711000\ttotal: 220ms\tremaining: 654ms\n",
      "63:\tlearn: 20.5314807\ttotal: 224ms\tremaining: 650ms\n",
      "64:\tlearn: 20.4967509\ttotal: 227ms\tremaining: 647ms\n",
      "65:\tlearn: 20.4684267\ttotal: 231ms\tremaining: 643ms\n",
      "66:\tlearn: 20.4406079\ttotal: 234ms\tremaining: 640ms\n",
      "67:\tlearn: 20.3718466\ttotal: 238ms\tremaining: 636ms\n",
      "68:\tlearn: 20.3139336\ttotal: 241ms\tremaining: 633ms\n",
      "69:\tlearn: 20.2780619\ttotal: 245ms\tremaining: 629ms\n",
      "70:\tlearn: 20.2199398\ttotal: 249ms\tremaining: 627ms\n",
      "71:\tlearn: 20.1979279\ttotal: 252ms\tremaining: 623ms\n",
      "72:\tlearn: 20.1856654\ttotal: 255ms\tremaining: 619ms\n",
      "73:\tlearn: 20.1568757\ttotal: 259ms\tremaining: 616ms\n",
      "74:\tlearn: 20.1369446\ttotal: 262ms\tremaining: 612ms\n",
      "75:\tlearn: 20.1021899\ttotal: 266ms\tremaining: 609ms\n",
      "76:\tlearn: 20.0864256\ttotal: 270ms\tremaining: 606ms\n",
      "77:\tlearn: 20.0706700\ttotal: 273ms\tremaining: 602ms\n",
      "78:\tlearn: 20.0366347\ttotal: 277ms\tremaining: 599ms\n",
      "79:\tlearn: 20.0007358\ttotal: 280ms\tremaining: 595ms\n",
      "80:\tlearn: 19.9617234\ttotal: 284ms\tremaining: 593ms\n",
      "81:\tlearn: 19.9285940\ttotal: 288ms\tremaining: 590ms\n",
      "82:\tlearn: 19.8988596\ttotal: 291ms\tremaining: 586ms\n",
      "83:\tlearn: 19.8582778\ttotal: 295ms\tremaining: 583ms\n",
      "84:\tlearn: 19.8348548\ttotal: 299ms\tremaining: 580ms\n",
      "85:\tlearn: 19.8003053\ttotal: 302ms\tremaining: 576ms\n",
      "86:\tlearn: 19.7744723\ttotal: 306ms\tremaining: 573ms\n",
      "87:\tlearn: 19.7492463\ttotal: 309ms\tremaining: 569ms\n",
      "88:\tlearn: 19.7289626\ttotal: 313ms\tremaining: 566ms\n",
      "89:\tlearn: 19.6964331\ttotal: 316ms\tremaining: 562ms\n",
      "90:\tlearn: 19.6671445\ttotal: 319ms\tremaining: 558ms\n",
      "91:\tlearn: 19.6538829\ttotal: 323ms\tremaining: 555ms\n",
      "92:\tlearn: 19.6265140\ttotal: 326ms\tremaining: 551ms\n",
      "93:\tlearn: 19.6170669\ttotal: 330ms\tremaining: 548ms\n",
      "94:\tlearn: 19.5886863\ttotal: 334ms\tremaining: 544ms\n",
      "95:\tlearn: 19.5580637\ttotal: 337ms\tremaining: 541ms\n",
      "96:\tlearn: 19.5312425\ttotal: 340ms\tremaining: 537ms\n",
      "97:\tlearn: 19.5149208\ttotal: 344ms\tremaining: 533ms\n",
      "98:\tlearn: 19.4863954\ttotal: 347ms\tremaining: 530ms\n",
      "99:\tlearn: 19.4655341\ttotal: 351ms\tremaining: 526ms\n",
      "100:\tlearn: 19.4314556\ttotal: 354ms\tremaining: 522ms\n",
      "101:\tlearn: 19.4032364\ttotal: 358ms\tremaining: 519ms\n",
      "102:\tlearn: 19.3766609\ttotal: 362ms\tremaining: 516ms\n",
      "103:\tlearn: 19.3618367\ttotal: 365ms\tremaining: 512ms\n",
      "104:\tlearn: 19.3297594\ttotal: 368ms\tremaining: 509ms\n",
      "105:\tlearn: 19.3101756\ttotal: 372ms\tremaining: 505ms\n",
      "106:\tlearn: 19.2689481\ttotal: 376ms\tremaining: 502ms\n",
      "107:\tlearn: 19.2388159\ttotal: 379ms\tremaining: 499ms\n",
      "108:\tlearn: 19.2261530\ttotal: 383ms\tremaining: 495ms\n",
      "109:\tlearn: 19.1963145\ttotal: 386ms\tremaining: 492ms\n",
      "110:\tlearn: 19.1649467\ttotal: 390ms\tremaining: 489ms\n",
      "111:\tlearn: 19.1502472\ttotal: 394ms\tremaining: 485ms\n",
      "112:\tlearn: 19.1269625\ttotal: 397ms\tremaining: 482ms\n",
      "113:\tlearn: 19.1006307\ttotal: 401ms\tremaining: 478ms\n",
      "114:\tlearn: 19.0696739\ttotal: 405ms\tremaining: 475ms\n",
      "115:\tlearn: 19.0415882\ttotal: 408ms\tremaining: 472ms\n",
      "116:\tlearn: 19.0098824\ttotal: 412ms\tremaining: 469ms\n",
      "117:\tlearn: 19.0048400\ttotal: 416ms\tremaining: 465ms\n",
      "118:\tlearn: 18.9836312\ttotal: 419ms\tremaining: 462ms\n",
      "119:\tlearn: 18.9642470\ttotal: 423ms\tremaining: 458ms\n",
      "120:\tlearn: 18.9424084\ttotal: 426ms\tremaining: 454ms\n",
      "121:\tlearn: 18.9220790\ttotal: 430ms\tremaining: 451ms\n",
      "122:\tlearn: 18.8928019\ttotal: 433ms\tremaining: 447ms\n",
      "123:\tlearn: 18.8781477\ttotal: 437ms\tremaining: 444ms\n",
      "124:\tlearn: 18.8495887\ttotal: 440ms\tremaining: 440ms\n",
      "125:\tlearn: 18.8261511\ttotal: 444ms\tremaining: 437ms\n",
      "126:\tlearn: 18.7999924\ttotal: 447ms\tremaining: 433ms\n",
      "127:\tlearn: 18.7791010\ttotal: 450ms\tremaining: 429ms\n",
      "128:\tlearn: 18.7622897\ttotal: 454ms\tremaining: 425ms\n",
      "129:\tlearn: 18.7281069\ttotal: 457ms\tremaining: 422ms\n",
      "130:\tlearn: 18.7047211\ttotal: 461ms\tremaining: 419ms\n",
      "131:\tlearn: 18.6814077\ttotal: 464ms\tremaining: 415ms\n",
      "132:\tlearn: 18.6712288\ttotal: 468ms\tremaining: 411ms\n",
      "133:\tlearn: 18.6642030\ttotal: 471ms\tremaining: 408ms\n",
      "134:\tlearn: 18.6505417\ttotal: 474ms\tremaining: 404ms\n",
      "135:\tlearn: 18.6336788\ttotal: 478ms\tremaining: 400ms\n",
      "136:\tlearn: 18.6127016\ttotal: 481ms\tremaining: 397ms\n",
      "137:\tlearn: 18.5893045\ttotal: 485ms\tremaining: 393ms\n",
      "138:\tlearn: 18.5674827\ttotal: 488ms\tremaining: 390ms\n",
      "139:\tlearn: 18.5496184\ttotal: 492ms\tremaining: 386ms\n",
      "140:\tlearn: 18.5229196\ttotal: 495ms\tremaining: 383ms\n",
      "141:\tlearn: 18.5114435\ttotal: 499ms\tremaining: 379ms\n",
      "142:\tlearn: 18.4868276\ttotal: 503ms\tremaining: 376ms\n",
      "143:\tlearn: 18.4834863\ttotal: 506ms\tremaining: 372ms\n",
      "144:\tlearn: 18.4520180\ttotal: 510ms\tremaining: 369ms\n",
      "145:\tlearn: 18.4486429\ttotal: 513ms\tremaining: 365ms\n",
      "146:\tlearn: 18.4177820\ttotal: 517ms\tremaining: 362ms\n",
      "147:\tlearn: 18.3842677\ttotal: 521ms\tremaining: 359ms\n",
      "148:\tlearn: 18.3647015\ttotal: 524ms\tremaining: 355ms\n",
      "149:\tlearn: 18.3627526\ttotal: 527ms\tremaining: 352ms\n",
      "150:\tlearn: 18.3602493\ttotal: 531ms\tremaining: 348ms\n",
      "151:\tlearn: 18.3581394\ttotal: 534ms\tremaining: 344ms\n",
      "152:\tlearn: 18.3450006\ttotal: 538ms\tremaining: 341ms\n",
      "153:\tlearn: 18.3228027\ttotal: 541ms\tremaining: 337ms\n",
      "154:\tlearn: 18.2936473\ttotal: 545ms\tremaining: 334ms\n",
      "155:\tlearn: 18.2684829\ttotal: 549ms\tremaining: 331ms\n",
      "156:\tlearn: 18.2401285\ttotal: 552ms\tremaining: 327ms\n",
      "157:\tlearn: 18.2372784\ttotal: 556ms\tremaining: 324ms\n",
      "158:\tlearn: 18.2164688\ttotal: 559ms\tremaining: 320ms\n",
      "159:\tlearn: 18.1825707\ttotal: 563ms\tremaining: 317ms\n",
      "160:\tlearn: 18.1596403\ttotal: 566ms\tremaining: 313ms\n",
      "161:\tlearn: 18.1576521\ttotal: 570ms\tremaining: 309ms\n",
      "162:\tlearn: 18.1241614\ttotal: 573ms\tremaining: 306ms\n",
      "163:\tlearn: 18.1023350\ttotal: 577ms\tremaining: 302ms\n",
      "164:\tlearn: 18.0743550\ttotal: 580ms\tremaining: 299ms\n",
      "165:\tlearn: 18.0470514\ttotal: 584ms\tremaining: 296ms\n",
      "166:\tlearn: 18.0248548\ttotal: 588ms\tremaining: 292ms\n",
      "167:\tlearn: 17.9958453\ttotal: 591ms\tremaining: 289ms\n",
      "168:\tlearn: 17.9765094\ttotal: 595ms\tremaining: 285ms\n",
      "169:\tlearn: 17.9573358\ttotal: 598ms\tremaining: 281ms\n",
      "170:\tlearn: 17.9376742\ttotal: 602ms\tremaining: 278ms\n",
      "171:\tlearn: 17.9250203\ttotal: 605ms\tremaining: 274ms\n",
      "172:\tlearn: 17.9027455\ttotal: 609ms\tremaining: 271ms\n",
      "173:\tlearn: 17.8721705\ttotal: 612ms\tremaining: 267ms\n",
      "174:\tlearn: 17.8520450\ttotal: 616ms\tremaining: 264ms\n",
      "175:\tlearn: 17.8295292\ttotal: 620ms\tremaining: 261ms\n",
      "176:\tlearn: 17.8162745\ttotal: 623ms\tremaining: 257ms\n",
      "177:\tlearn: 17.8126419\ttotal: 626ms\tremaining: 253ms\n",
      "178:\tlearn: 17.8111458\ttotal: 630ms\tremaining: 250ms\n",
      "179:\tlearn: 17.7876486\ttotal: 633ms\tremaining: 246ms\n",
      "180:\tlearn: 17.7713310\ttotal: 637ms\tremaining: 243ms\n",
      "181:\tlearn: 17.7415775\ttotal: 640ms\tremaining: 239ms\n",
      "182:\tlearn: 17.7199992\ttotal: 644ms\tremaining: 236ms\n",
      "183:\tlearn: 17.7041124\ttotal: 648ms\tremaining: 232ms\n",
      "184:\tlearn: 17.6957901\ttotal: 651ms\tremaining: 229ms\n",
      "185:\tlearn: 17.6755905\ttotal: 655ms\tremaining: 225ms\n",
      "186:\tlearn: 17.6544347\ttotal: 658ms\tremaining: 222ms\n",
      "187:\tlearn: 17.6312386\ttotal: 662ms\tremaining: 218ms\n",
      "188:\tlearn: 17.6015597\ttotal: 666ms\tremaining: 215ms\n",
      "189:\tlearn: 17.5697811\ttotal: 670ms\tremaining: 211ms\n",
      "190:\tlearn: 17.5430702\ttotal: 674ms\tremaining: 208ms\n",
      "191:\tlearn: 17.5236357\ttotal: 677ms\tremaining: 205ms\n",
      "192:\tlearn: 17.5053041\ttotal: 681ms\tremaining: 201ms\n",
      "193:\tlearn: 17.4805948\ttotal: 684ms\tremaining: 198ms\n",
      "194:\tlearn: 17.4548585\ttotal: 688ms\tremaining: 194ms\n",
      "195:\tlearn: 17.4369558\ttotal: 691ms\tremaining: 190ms\n",
      "196:\tlearn: 17.4189492\ttotal: 695ms\tremaining: 187ms\n",
      "197:\tlearn: 17.4033667\ttotal: 698ms\tremaining: 183ms\n",
      "198:\tlearn: 17.3953174\ttotal: 701ms\tremaining: 180ms\n",
      "199:\tlearn: 17.3679608\ttotal: 705ms\tremaining: 176ms\n",
      "200:\tlearn: 17.3650337\ttotal: 708ms\tremaining: 173ms\n",
      "201:\tlearn: 17.3623207\ttotal: 712ms\tremaining: 169ms\n",
      "202:\tlearn: 17.3416122\ttotal: 715ms\tremaining: 166ms\n",
      "203:\tlearn: 17.3186923\ttotal: 719ms\tremaining: 162ms\n",
      "204:\tlearn: 17.2938863\ttotal: 722ms\tremaining: 159ms\n",
      "205:\tlearn: 17.2706002\ttotal: 726ms\tremaining: 155ms\n",
      "206:\tlearn: 17.2513048\ttotal: 729ms\tremaining: 152ms\n",
      "207:\tlearn: 17.2393895\ttotal: 733ms\tremaining: 148ms\n",
      "208:\tlearn: 17.2171983\ttotal: 736ms\tremaining: 144ms\n",
      "209:\tlearn: 17.2000224\ttotal: 740ms\tremaining: 141ms\n",
      "210:\tlearn: 17.1819602\ttotal: 743ms\tremaining: 137ms\n",
      "211:\tlearn: 17.1619112\ttotal: 747ms\tremaining: 134ms\n",
      "212:\tlearn: 17.1424335\ttotal: 751ms\tremaining: 130ms\n",
      "213:\tlearn: 17.1179139\ttotal: 754ms\tremaining: 127ms\n",
      "214:\tlearn: 17.0973775\ttotal: 757ms\tremaining: 123ms\n",
      "215:\tlearn: 17.0839106\ttotal: 761ms\tremaining: 120ms\n",
      "216:\tlearn: 17.0673284\ttotal: 764ms\tremaining: 116ms\n",
      "217:\tlearn: 17.0453747\ttotal: 769ms\tremaining: 113ms\n",
      "218:\tlearn: 17.0369050\ttotal: 773ms\tremaining: 109ms\n",
      "219:\tlearn: 17.0137203\ttotal: 777ms\tremaining: 106ms\n",
      "220:\tlearn: 16.9818729\ttotal: 782ms\tremaining: 103ms\n",
      "221:\tlearn: 16.9690050\ttotal: 786ms\tremaining: 99.1ms\n",
      "222:\tlearn: 16.9503381\ttotal: 791ms\tremaining: 95.7ms\n",
      "223:\tlearn: 16.9275256\ttotal: 794ms\tremaining: 92.2ms\n",
      "224:\tlearn: 16.9087428\ttotal: 799ms\tremaining: 88.8ms\n",
      "225:\tlearn: 16.8823294\ttotal: 803ms\tremaining: 85.3ms\n",
      "226:\tlearn: 16.8771966\ttotal: 807ms\tremaining: 81.8ms\n",
      "227:\tlearn: 16.8677871\ttotal: 811ms\tremaining: 78.2ms\n",
      "228:\tlearn: 16.8630419\ttotal: 814ms\tremaining: 74.7ms\n",
      "229:\tlearn: 16.8467440\ttotal: 818ms\tremaining: 71.1ms\n",
      "230:\tlearn: 16.8236267\ttotal: 822ms\tremaining: 67.6ms\n",
      "231:\tlearn: 16.8044260\ttotal: 825ms\tremaining: 64ms\n",
      "232:\tlearn: 16.7851874\ttotal: 829ms\tremaining: 60.5ms\n",
      "233:\tlearn: 16.7763589\ttotal: 832ms\tremaining: 56.9ms\n",
      "234:\tlearn: 16.7674594\ttotal: 836ms\tremaining: 53.4ms\n",
      "235:\tlearn: 16.7461613\ttotal: 840ms\tremaining: 49.8ms\n",
      "236:\tlearn: 16.7283257\ttotal: 843ms\tremaining: 46.2ms\n",
      "237:\tlearn: 16.7047646\ttotal: 847ms\tremaining: 42.7ms\n",
      "238:\tlearn: 16.6825685\ttotal: 851ms\tremaining: 39.2ms\n",
      "239:\tlearn: 16.6682251\ttotal: 854ms\tremaining: 35.6ms\n",
      "240:\tlearn: 16.6443505\ttotal: 858ms\tremaining: 32ms\n",
      "241:\tlearn: 16.6207558\ttotal: 861ms\tremaining: 28.5ms\n",
      "242:\tlearn: 16.6160487\ttotal: 864ms\tremaining: 24.9ms\n",
      "243:\tlearn: 16.6009255\ttotal: 868ms\tremaining: 21.3ms\n",
      "244:\tlearn: 16.5825533\ttotal: 871ms\tremaining: 17.8ms\n",
      "245:\tlearn: 16.5587239\ttotal: 875ms\tremaining: 14.2ms\n",
      "246:\tlearn: 16.5467663\ttotal: 878ms\tremaining: 10.7ms\n",
      "247:\tlearn: 16.5205349\ttotal: 882ms\tremaining: 7.11ms\n",
      "248:\tlearn: 16.4986318\ttotal: 885ms\tremaining: 3.56ms\n",
      "249:\tlearn: 16.4972144\ttotal: 888ms\tremaining: 0us\n",
      "0:\tlearn: 37.4429758\ttotal: 5.09ms\tremaining: 1.27s\n",
      "1:\tlearn: 36.3688989\ttotal: 9.19ms\tremaining: 1.14s\n",
      "2:\tlearn: 35.3012464\ttotal: 13.7ms\tremaining: 1.13s\n",
      "3:\tlearn: 34.3159200\ttotal: 18ms\tremaining: 1.11s\n",
      "4:\tlearn: 33.3820078\ttotal: 22.2ms\tremaining: 1.09s\n",
      "5:\tlearn: 32.5249356\ttotal: 26.3ms\tremaining: 1.07s\n",
      "6:\tlearn: 31.8174213\ttotal: 30ms\tremaining: 1.04s\n",
      "7:\tlearn: 31.2003779\ttotal: 34.5ms\tremaining: 1.04s\n",
      "8:\tlearn: 30.5493233\ttotal: 39ms\tremaining: 1.04s\n",
      "9:\tlearn: 29.9823189\ttotal: 43.2ms\tremaining: 1.04s\n",
      "10:\tlearn: 29.4705246\ttotal: 47.3ms\tremaining: 1.03s\n",
      "11:\tlearn: 29.0343916\ttotal: 51ms\tremaining: 1.01s\n",
      "12:\tlearn: 28.5893417\ttotal: 55.6ms\tremaining: 1.01s\n",
      "13:\tlearn: 28.1683578\ttotal: 60ms\tremaining: 1.01s\n",
      "14:\tlearn: 27.7893899\ttotal: 64.3ms\tremaining: 1.01s\n",
      "15:\tlearn: 27.4762956\ttotal: 68.3ms\tremaining: 999ms\n",
      "16:\tlearn: 27.1717694\ttotal: 72.2ms\tremaining: 989ms\n",
      "17:\tlearn: 26.8672290\ttotal: 75.9ms\tremaining: 978ms\n",
      "18:\tlearn: 26.6172107\ttotal: 80.1ms\tremaining: 974ms\n",
      "19:\tlearn: 26.4070622\ttotal: 84.5ms\tremaining: 972ms\n",
      "20:\tlearn: 26.1675135\ttotal: 88.6ms\tremaining: 967ms\n",
      "21:\tlearn: 25.9580371\ttotal: 92.6ms\tremaining: 960ms\n",
      "22:\tlearn: 25.7817771\ttotal: 96.5ms\tremaining: 952ms\n",
      "23:\tlearn: 25.5864980\ttotal: 100ms\tremaining: 941ms\n",
      "24:\tlearn: 25.4178432\ttotal: 104ms\tremaining: 935ms\n",
      "25:\tlearn: 25.2615661\ttotal: 107ms\tremaining: 926ms\n",
      "26:\tlearn: 25.1105154\ttotal: 111ms\tremaining: 916ms\n",
      "27:\tlearn: 24.9923480\ttotal: 115ms\tremaining: 908ms\n",
      "28:\tlearn: 24.8598331\ttotal: 118ms\tremaining: 899ms\n",
      "29:\tlearn: 24.7558103\ttotal: 122ms\tremaining: 892ms\n",
      "30:\tlearn: 24.6125681\ttotal: 126ms\tremaining: 890ms\n",
      "31:\tlearn: 24.4891075\ttotal: 130ms\tremaining: 888ms\n",
      "32:\tlearn: 24.3848339\ttotal: 135ms\tremaining: 885ms\n",
      "33:\tlearn: 24.2818476\ttotal: 138ms\tremaining: 880ms\n",
      "34:\tlearn: 24.1887662\ttotal: 142ms\tremaining: 875ms\n",
      "35:\tlearn: 24.1288840\ttotal: 146ms\tremaining: 868ms\n",
      "36:\tlearn: 24.0571378\ttotal: 150ms\tremaining: 862ms\n",
      "37:\tlearn: 23.9658719\ttotal: 153ms\tremaining: 855ms\n",
      "38:\tlearn: 23.9506255\ttotal: 157ms\tremaining: 847ms\n",
      "39:\tlearn: 23.8925250\ttotal: 160ms\tremaining: 841ms\n",
      "40:\tlearn: 23.8782377\ttotal: 164ms\tremaining: 834ms\n",
      "41:\tlearn: 23.7460106\ttotal: 168ms\tremaining: 832ms\n",
      "42:\tlearn: 23.7033559\ttotal: 172ms\tremaining: 828ms\n",
      "43:\tlearn: 23.6234864\ttotal: 176ms\tremaining: 823ms\n",
      "44:\tlearn: 23.5533945\ttotal: 180ms\tremaining: 820ms\n",
      "45:\tlearn: 23.5399448\ttotal: 184ms\tremaining: 816ms\n",
      "46:\tlearn: 23.5223261\ttotal: 188ms\tremaining: 812ms\n",
      "47:\tlearn: 23.4418744\ttotal: 192ms\tremaining: 807ms\n",
      "48:\tlearn: 23.3849572\ttotal: 196ms\tremaining: 803ms\n",
      "49:\tlearn: 23.3001239\ttotal: 199ms\tremaining: 797ms\n",
      "50:\tlearn: 23.2476174\ttotal: 203ms\tremaining: 791ms\n",
      "51:\tlearn: 23.1939282\ttotal: 206ms\tremaining: 786ms\n",
      "52:\tlearn: 23.1784432\ttotal: 210ms\tremaining: 780ms\n",
      "53:\tlearn: 23.1678909\ttotal: 213ms\tremaining: 774ms\n",
      "54:\tlearn: 23.1563297\ttotal: 217ms\tremaining: 768ms\n",
      "55:\tlearn: 23.1092226\ttotal: 220ms\tremaining: 763ms\n",
      "56:\tlearn: 23.0518735\ttotal: 224ms\tremaining: 757ms\n",
      "57:\tlearn: 22.9744278\ttotal: 227ms\tremaining: 753ms\n",
      "58:\tlearn: 22.9232693\ttotal: 231ms\tremaining: 748ms\n",
      "59:\tlearn: 22.9140726\ttotal: 234ms\tremaining: 742ms\n",
      "60:\tlearn: 22.8501641\ttotal: 238ms\tremaining: 738ms\n",
      "61:\tlearn: 22.8126521\ttotal: 242ms\tremaining: 733ms\n",
      "62:\tlearn: 22.7537454\ttotal: 246ms\tremaining: 730ms\n",
      "63:\tlearn: 22.7015354\ttotal: 250ms\tremaining: 726ms\n",
      "64:\tlearn: 22.6879535\ttotal: 254ms\tremaining: 722ms\n",
      "65:\tlearn: 22.6758698\ttotal: 258ms\tremaining: 718ms\n",
      "66:\tlearn: 22.6391044\ttotal: 262ms\tremaining: 715ms\n",
      "67:\tlearn: 22.5574819\ttotal: 266ms\tremaining: 711ms\n",
      "68:\tlearn: 22.4818547\ttotal: 270ms\tremaining: 708ms\n",
      "69:\tlearn: 22.4317001\ttotal: 274ms\tremaining: 704ms\n",
      "70:\tlearn: 22.4223193\ttotal: 277ms\tremaining: 699ms\n",
      "71:\tlearn: 22.3971162\ttotal: 281ms\tremaining: 694ms\n",
      "72:\tlearn: 22.3750259\ttotal: 284ms\tremaining: 690ms\n",
      "73:\tlearn: 22.3672723\ttotal: 288ms\tremaining: 685ms\n",
      "74:\tlearn: 22.3434123\ttotal: 292ms\tremaining: 681ms\n",
      "75:\tlearn: 22.2845859\ttotal: 296ms\tremaining: 677ms\n",
      "76:\tlearn: 22.2552445\ttotal: 300ms\tremaining: 673ms\n",
      "77:\tlearn: 22.2453868\ttotal: 304ms\tremaining: 670ms\n",
      "78:\tlearn: 22.2345494\ttotal: 308ms\tremaining: 666ms\n",
      "79:\tlearn: 22.2188761\ttotal: 312ms\tremaining: 663ms\n",
      "80:\tlearn: 22.2082415\ttotal: 316ms\tremaining: 659ms\n",
      "81:\tlearn: 22.1975959\ttotal: 320ms\tremaining: 655ms\n",
      "82:\tlearn: 22.1268489\ttotal: 324ms\tremaining: 651ms\n",
      "83:\tlearn: 22.1218566\ttotal: 328ms\tremaining: 648ms\n",
      "84:\tlearn: 22.1088137\ttotal: 332ms\tremaining: 645ms\n",
      "85:\tlearn: 22.0983285\ttotal: 336ms\tremaining: 640ms\n",
      "86:\tlearn: 22.0682959\ttotal: 340ms\tremaining: 637ms\n",
      "87:\tlearn: 22.0275167\ttotal: 344ms\tremaining: 633ms\n",
      "88:\tlearn: 21.9925483\ttotal: 348ms\tremaining: 629ms\n",
      "89:\tlearn: 21.9688018\ttotal: 352ms\tremaining: 625ms\n",
      "90:\tlearn: 21.9414687\ttotal: 356ms\tremaining: 621ms\n",
      "91:\tlearn: 21.8964994\ttotal: 359ms\tremaining: 617ms\n",
      "92:\tlearn: 21.8630048\ttotal: 363ms\tremaining: 613ms\n",
      "93:\tlearn: 21.8128654\ttotal: 367ms\tremaining: 608ms\n",
      "94:\tlearn: 21.7807804\ttotal: 370ms\tremaining: 604ms\n",
      "95:\tlearn: 21.7427357\ttotal: 374ms\tremaining: 599ms\n",
      "96:\tlearn: 21.7214321\ttotal: 377ms\tremaining: 595ms\n",
      "97:\tlearn: 21.6972502\ttotal: 380ms\tremaining: 590ms\n",
      "98:\tlearn: 21.6590970\ttotal: 384ms\tremaining: 586ms\n",
      "99:\tlearn: 21.6375351\ttotal: 388ms\tremaining: 582ms\n",
      "100:\tlearn: 21.6183720\ttotal: 392ms\tremaining: 578ms\n",
      "101:\tlearn: 21.5745889\ttotal: 396ms\tremaining: 575ms\n",
      "102:\tlearn: 21.5543229\ttotal: 400ms\tremaining: 571ms\n",
      "103:\tlearn: 21.5350424\ttotal: 404ms\tremaining: 568ms\n",
      "104:\tlearn: 21.5044358\ttotal: 408ms\tremaining: 564ms\n",
      "105:\tlearn: 21.4947947\ttotal: 412ms\tremaining: 560ms\n",
      "106:\tlearn: 21.4579128\ttotal: 417ms\tremaining: 557ms\n",
      "107:\tlearn: 21.4347430\ttotal: 421ms\tremaining: 553ms\n",
      "108:\tlearn: 21.3954498\ttotal: 425ms\tremaining: 550ms\n",
      "109:\tlearn: 21.3527457\ttotal: 429ms\tremaining: 546ms\n",
      "110:\tlearn: 21.3002079\ttotal: 433ms\tremaining: 543ms\n",
      "111:\tlearn: 21.2851522\ttotal: 437ms\tremaining: 539ms\n",
      "112:\tlearn: 21.2624038\ttotal: 441ms\tremaining: 535ms\n",
      "113:\tlearn: 21.2025794\ttotal: 445ms\tremaining: 531ms\n",
      "114:\tlearn: 21.1951850\ttotal: 449ms\tremaining: 527ms\n",
      "115:\tlearn: 21.1885862\ttotal: 453ms\tremaining: 523ms\n",
      "116:\tlearn: 21.1834317\ttotal: 457ms\tremaining: 520ms\n",
      "117:\tlearn: 21.1425162\ttotal: 461ms\tremaining: 516ms\n",
      "118:\tlearn: 21.1159837\ttotal: 465ms\tremaining: 512ms\n",
      "119:\tlearn: 21.1121510\ttotal: 469ms\tremaining: 508ms\n",
      "120:\tlearn: 21.0651118\ttotal: 473ms\tremaining: 504ms\n",
      "121:\tlearn: 21.0393269\ttotal: 476ms\tremaining: 500ms\n",
      "122:\tlearn: 21.0092976\ttotal: 480ms\tremaining: 496ms\n",
      "123:\tlearn: 20.9870393\ttotal: 484ms\tremaining: 491ms\n",
      "124:\tlearn: 20.9794329\ttotal: 487ms\tremaining: 487ms\n",
      "125:\tlearn: 20.9389107\ttotal: 490ms\tremaining: 483ms\n",
      "126:\tlearn: 20.9110896\ttotal: 494ms\tremaining: 478ms\n",
      "127:\tlearn: 20.8703037\ttotal: 497ms\tremaining: 474ms\n",
      "128:\tlearn: 20.8354193\ttotal: 501ms\tremaining: 470ms\n",
      "129:\tlearn: 20.8194787\ttotal: 504ms\tremaining: 465ms\n",
      "130:\tlearn: 20.8156750\ttotal: 508ms\tremaining: 461ms\n",
      "131:\tlearn: 20.7929063\ttotal: 511ms\tremaining: 457ms\n",
      "132:\tlearn: 20.7703168\ttotal: 515ms\tremaining: 453ms\n",
      "133:\tlearn: 20.7490436\ttotal: 518ms\tremaining: 449ms\n",
      "134:\tlearn: 20.7211425\ttotal: 522ms\tremaining: 445ms\n",
      "135:\tlearn: 20.6848572\ttotal: 526ms\tremaining: 441ms\n",
      "136:\tlearn: 20.6589242\ttotal: 530ms\tremaining: 437ms\n",
      "137:\tlearn: 20.6550758\ttotal: 534ms\tremaining: 433ms\n",
      "138:\tlearn: 20.6209439\ttotal: 538ms\tremaining: 430ms\n",
      "139:\tlearn: 20.6163299\ttotal: 542ms\tremaining: 426ms\n",
      "140:\tlearn: 20.5838002\ttotal: 546ms\tremaining: 422ms\n",
      "141:\tlearn: 20.5450923\ttotal: 550ms\tremaining: 418ms\n",
      "142:\tlearn: 20.5122447\ttotal: 554ms\tremaining: 414ms\n",
      "143:\tlearn: 20.4680483\ttotal: 558ms\tremaining: 411ms\n",
      "144:\tlearn: 20.4635983\ttotal: 562ms\tremaining: 407ms\n",
      "145:\tlearn: 20.4167440\ttotal: 566ms\tremaining: 403ms\n",
      "146:\tlearn: 20.3978822\ttotal: 570ms\tremaining: 400ms\n",
      "147:\tlearn: 20.3913496\ttotal: 574ms\tremaining: 396ms\n",
      "148:\tlearn: 20.3872806\ttotal: 578ms\tremaining: 392ms\n",
      "149:\tlearn: 20.3597585\ttotal: 582ms\tremaining: 388ms\n",
      "150:\tlearn: 20.3301089\ttotal: 586ms\tremaining: 384ms\n",
      "151:\tlearn: 20.3033115\ttotal: 590ms\tremaining: 380ms\n",
      "152:\tlearn: 20.2997015\ttotal: 593ms\tremaining: 376ms\n",
      "153:\tlearn: 20.2792948\ttotal: 597ms\tremaining: 372ms\n",
      "154:\tlearn: 20.2492162\ttotal: 600ms\tremaining: 368ms\n",
      "155:\tlearn: 20.2320053\ttotal: 604ms\tremaining: 364ms\n",
      "156:\tlearn: 20.2052659\ttotal: 607ms\tremaining: 360ms\n",
      "157:\tlearn: 20.1853527\ttotal: 611ms\tremaining: 356ms\n",
      "158:\tlearn: 20.1762453\ttotal: 614ms\tremaining: 352ms\n",
      "159:\tlearn: 20.1335370\ttotal: 618ms\tremaining: 348ms\n",
      "160:\tlearn: 20.1004527\ttotal: 622ms\tremaining: 344ms\n",
      "161:\tlearn: 20.0688544\ttotal: 625ms\tremaining: 340ms\n",
      "162:\tlearn: 20.0407941\ttotal: 629ms\tremaining: 336ms\n",
      "163:\tlearn: 20.0224003\ttotal: 633ms\tremaining: 332ms\n",
      "164:\tlearn: 20.0127017\ttotal: 636ms\tremaining: 328ms\n",
      "165:\tlearn: 19.9950630\ttotal: 640ms\tremaining: 324ms\n",
      "166:\tlearn: 19.9803687\ttotal: 644ms\tremaining: 320ms\n",
      "167:\tlearn: 19.9763667\ttotal: 648ms\tremaining: 316ms\n",
      "168:\tlearn: 19.9371955\ttotal: 652ms\tremaining: 312ms\n",
      "169:\tlearn: 19.9263353\ttotal: 656ms\tremaining: 309ms\n",
      "170:\tlearn: 19.9111853\ttotal: 660ms\tremaining: 305ms\n",
      "171:\tlearn: 19.9082731\ttotal: 664ms\tremaining: 301ms\n",
      "172:\tlearn: 19.9053745\ttotal: 668ms\tremaining: 297ms\n",
      "173:\tlearn: 19.9026214\ttotal: 671ms\tremaining: 293ms\n",
      "174:\tlearn: 19.9001155\ttotal: 675ms\tremaining: 289ms\n",
      "175:\tlearn: 19.8710348\ttotal: 679ms\tremaining: 285ms\n",
      "176:\tlearn: 19.8399190\ttotal: 682ms\tremaining: 281ms\n",
      "177:\tlearn: 19.8042104\ttotal: 686ms\tremaining: 277ms\n",
      "178:\tlearn: 19.7750445\ttotal: 690ms\tremaining: 274ms\n",
      "179:\tlearn: 19.7399537\ttotal: 694ms\tremaining: 270ms\n",
      "180:\tlearn: 19.7189320\ttotal: 698ms\tremaining: 266ms\n",
      "181:\tlearn: 19.6835985\ttotal: 702ms\tremaining: 262ms\n",
      "182:\tlearn: 19.6612508\ttotal: 707ms\tremaining: 259ms\n",
      "183:\tlearn: 19.6426321\ttotal: 711ms\tremaining: 255ms\n",
      "184:\tlearn: 19.5951410\ttotal: 714ms\tremaining: 251ms\n",
      "185:\tlearn: 19.5628070\ttotal: 718ms\tremaining: 247ms\n",
      "186:\tlearn: 19.5386192\ttotal: 722ms\tremaining: 243ms\n",
      "187:\tlearn: 19.5147809\ttotal: 726ms\tremaining: 240ms\n",
      "188:\tlearn: 19.5126064\ttotal: 730ms\tremaining: 236ms\n",
      "189:\tlearn: 19.4882159\ttotal: 734ms\tremaining: 232ms\n",
      "190:\tlearn: 19.4626859\ttotal: 738ms\tremaining: 228ms\n",
      "191:\tlearn: 19.4369402\ttotal: 742ms\tremaining: 224ms\n",
      "192:\tlearn: 19.4118752\ttotal: 746ms\tremaining: 220ms\n",
      "193:\tlearn: 19.3923619\ttotal: 750ms\tremaining: 216ms\n",
      "194:\tlearn: 19.3671240\ttotal: 754ms\tremaining: 213ms\n",
      "195:\tlearn: 19.3422430\ttotal: 758ms\tremaining: 209ms\n",
      "196:\tlearn: 19.3186584\ttotal: 761ms\tremaining: 205ms\n",
      "197:\tlearn: 19.3105711\ttotal: 764ms\tremaining: 201ms\n",
      "198:\tlearn: 19.2880466\ttotal: 768ms\tremaining: 197ms\n",
      "199:\tlearn: 19.2593174\ttotal: 771ms\tremaining: 193ms\n",
      "200:\tlearn: 19.2335726\ttotal: 775ms\tremaining: 189ms\n",
      "201:\tlearn: 19.2090916\ttotal: 778ms\tremaining: 185ms\n",
      "202:\tlearn: 19.1765087\ttotal: 782ms\tremaining: 181ms\n",
      "203:\tlearn: 19.1699112\ttotal: 786ms\tremaining: 177ms\n",
      "204:\tlearn: 19.1523346\ttotal: 789ms\tremaining: 173ms\n",
      "205:\tlearn: 19.1229687\ttotal: 793ms\tremaining: 169ms\n",
      "206:\tlearn: 19.1027135\ttotal: 797ms\tremaining: 166ms\n",
      "207:\tlearn: 19.0739042\ttotal: 801ms\tremaining: 162ms\n",
      "208:\tlearn: 19.0492167\ttotal: 805ms\tremaining: 158ms\n",
      "209:\tlearn: 19.0387075\ttotal: 809ms\tremaining: 154ms\n",
      "210:\tlearn: 19.0373818\ttotal: 813ms\tremaining: 150ms\n",
      "211:\tlearn: 19.0058588\ttotal: 817ms\tremaining: 146ms\n",
      "212:\tlearn: 18.9926499\ttotal: 821ms\tremaining: 143ms\n",
      "213:\tlearn: 18.9751272\ttotal: 824ms\tremaining: 139ms\n",
      "214:\tlearn: 18.9552441\ttotal: 828ms\tremaining: 135ms\n",
      "215:\tlearn: 18.9399888\ttotal: 832ms\tremaining: 131ms\n",
      "216:\tlearn: 18.9105663\ttotal: 835ms\tremaining: 127ms\n",
      "217:\tlearn: 18.8760011\ttotal: 839ms\tremaining: 123ms\n",
      "218:\tlearn: 18.8529211\ttotal: 844ms\tremaining: 119ms\n",
      "219:\tlearn: 18.8499780\ttotal: 848ms\tremaining: 116ms\n",
      "220:\tlearn: 18.8191411\ttotal: 852ms\tremaining: 112ms\n",
      "221:\tlearn: 18.8049570\ttotal: 856ms\tremaining: 108ms\n",
      "222:\tlearn: 18.7969013\ttotal: 860ms\tremaining: 104ms\n",
      "223:\tlearn: 18.7724831\ttotal: 863ms\tremaining: 100ms\n",
      "224:\tlearn: 18.7571099\ttotal: 867ms\tremaining: 96.3ms\n",
      "225:\tlearn: 18.7251360\ttotal: 871ms\tremaining: 92.5ms\n",
      "226:\tlearn: 18.7229423\ttotal: 875ms\tremaining: 88.6ms\n",
      "227:\tlearn: 18.7029922\ttotal: 878ms\tremaining: 84.7ms\n",
      "228:\tlearn: 18.6816627\ttotal: 882ms\tremaining: 80.9ms\n",
      "229:\tlearn: 18.6799304\ttotal: 885ms\tremaining: 77ms\n",
      "230:\tlearn: 18.6596730\ttotal: 889ms\tremaining: 73.1ms\n",
      "231:\tlearn: 18.6356587\ttotal: 892ms\tremaining: 69.2ms\n",
      "232:\tlearn: 18.6236084\ttotal: 896ms\tremaining: 65.4ms\n",
      "233:\tlearn: 18.6000695\ttotal: 899ms\tremaining: 61.5ms\n",
      "234:\tlearn: 18.5680511\ttotal: 904ms\tremaining: 57.7ms\n",
      "235:\tlearn: 18.5406486\ttotal: 908ms\tremaining: 53.9ms\n",
      "236:\tlearn: 18.5164751\ttotal: 912ms\tremaining: 50ms\n",
      "237:\tlearn: 18.5047491\ttotal: 916ms\tremaining: 46.2ms\n",
      "238:\tlearn: 18.4884203\ttotal: 920ms\tremaining: 42.3ms\n",
      "239:\tlearn: 18.4677030\ttotal: 924ms\tremaining: 38.5ms\n",
      "240:\tlearn: 18.4547109\ttotal: 928ms\tremaining: 34.6ms\n",
      "241:\tlearn: 18.4333215\ttotal: 931ms\tremaining: 30.8ms\n",
      "242:\tlearn: 18.4073741\ttotal: 935ms\tremaining: 26.9ms\n",
      "243:\tlearn: 18.3805428\ttotal: 939ms\tremaining: 23.1ms\n",
      "244:\tlearn: 18.3626205\ttotal: 942ms\tremaining: 19.2ms\n",
      "245:\tlearn: 18.3428993\ttotal: 946ms\tremaining: 15.4ms\n",
      "246:\tlearn: 18.3228244\ttotal: 949ms\tremaining: 11.5ms\n",
      "247:\tlearn: 18.2961715\ttotal: 953ms\tremaining: 7.68ms\n",
      "248:\tlearn: 18.2704485\ttotal: 956ms\tremaining: 3.84ms\n",
      "249:\tlearn: 18.2573310\ttotal: 960ms\tremaining: 0us\n"
     ]
    },
    {
     "data": {
      "text/plain": [
       "GridSearchCV(cv=TimeSeriesSplit(gap=0, max_train_size=None, n_splits=5, test_size=None),\n",
       "             estimator=<catboost.core.CatBoostRegressor object at 0x7fbd9f0f6460>,\n",
       "             n_jobs=-1,\n",
       "             param_grid=[{'learning_rate': [0.07], 'max_depth': [5],\n",
       "                          'n_estimators': [250]}],\n",
       "             scoring='neg_mean_squared_error', verbose=True)"
      ]
     },
     "execution_count": 23,
     "metadata": {},
     "output_type": "execute_result"
    }
   ],
   "source": [
    "gsearch = GridSearchCV(cbr_model, param_grid=params, scoring='neg_mean_squared_error', \n",
    "                   cv=TimeSeriesSplit(n_splits=5), verbose=True, n_jobs=-1)\n",
    "gsearch.fit(X_train, y_train)\n"
   ]
  },
  {
   "cell_type": "code",
   "execution_count": 24,
   "metadata": {},
   "outputs": [
    {
     "name": "stdout",
     "output_type": "stream",
     "text": [
      "RMSE тестовой выборки: 41.75\n"
     ]
    }
   ],
   "source": [
    "prediction = gsearch.predict(X_test)\n",
    "cbr_rmse_test = mean_squared_error(y_test, prediction, squared=False)\n",
    "print(f'RMSE тестовой выборки: {cbr_rmse_test:.2f}')"
   ]
  },
  {
   "cell_type": "markdown",
   "metadata": {},
   "source": [
    "<div class=\"alert alert-info\"> <b>Комментарий студента:</b> \n",
    "\n",
    "Обучил четыре модели. Подобрал параметры max_lag = 24 и rolling_mean_size = 3 для получения требуем RMSE. \n",
    "    \n",
    "</div>"
   ]
  },
  {
   "cell_type": "markdown",
   "metadata": {},
   "source": [
    "<div class=\"alert alert-danger\">\n",
    "<b>❌ Комментарий ревьюера (исправлено):</b> \n",
    "\n",
    "Для катбуста тоже нужно подобрать гиперпараметры. У тебя обычная Линейная регрессия работает сильно лучше продвинутых моделей, это не ок.\n",
    "</div>"
   ]
  },
  {
   "cell_type": "markdown",
   "metadata": {},
   "source": [
    "<div class=\"alert alert-success\">\n",
    "<b>✔️ Комментарий ревьюера v2:</b>\n",
    "\n",
    "Хорошо, обучение моделей засчитываю.\n",
    "</div>"
   ]
  },
  {
   "cell_type": "markdown",
   "metadata": {},
   "source": [
    "## Вывод"
   ]
  },
  {
   "cell_type": "code",
   "execution_count": 25,
   "metadata": {},
   "outputs": [
    {
     "data": {
      "text/html": [
       "<div>\n",
       "<style scoped>\n",
       "    .dataframe tbody tr th:only-of-type {\n",
       "        vertical-align: middle;\n",
       "    }\n",
       "\n",
       "    .dataframe tbody tr th {\n",
       "        vertical-align: top;\n",
       "    }\n",
       "\n",
       "    .dataframe thead th {\n",
       "        text-align: right;\n",
       "    }\n",
       "</style>\n",
       "<table border=\"1\" class=\"dataframe\">\n",
       "  <thead>\n",
       "    <tr style=\"text-align: right;\">\n",
       "      <th></th>\n",
       "      <th>RMSE</th>\n",
       "    </tr>\n",
       "  </thead>\n",
       "  <tbody>\n",
       "    <tr>\n",
       "      <th>dummies</th>\n",
       "      <td>87.152776</td>\n",
       "    </tr>\n",
       "    <tr>\n",
       "      <th>LinearRegression</th>\n",
       "      <td>45.809838</td>\n",
       "    </tr>\n",
       "    <tr>\n",
       "      <th>lgb</th>\n",
       "      <td>42.897661</td>\n",
       "    </tr>\n",
       "    <tr>\n",
       "      <th>CatBoost</th>\n",
       "      <td>41.748625</td>\n",
       "    </tr>\n",
       "  </tbody>\n",
       "</table>\n",
       "</div>"
      ],
      "text/plain": [
       "                       RMSE\n",
       "dummies           87.152776\n",
       "LinearRegression  45.809838\n",
       "lgb               42.897661\n",
       "CatBoost          41.748625"
      ]
     },
     "execution_count": 25,
     "metadata": {},
     "output_type": "execute_result"
    }
   ],
   "source": [
    "result = pd.DataFrame(np.array([rmse_test, lr_rmse_test, lgb_rmse_test, cbr_rmse_test]),\n",
    "                      index=['dummies', 'LinearRegression','lgb','CatBoost'])\n",
    "result.set_axis(['RMSE'],axis='columns',inplace=True)\n",
    "result"
   ]
  },
  {
   "cell_type": "code",
   "execution_count": 26,
   "metadata": {},
   "outputs": [
    {
     "data": {
      "image/png": "[encoded data removed]",
      "text/plain": [
       "<Figure size 640x640 with 1 Axes>"
      ]
     },
     "metadata": {},
     "output_type": "display_data"
    }
   ],
   "source": [
    "result = result.sort_values(by='RMSE')\n",
    "\n",
    "fig, ax = plt.subplots(figsize=(8, 8), facecolor='white', dpi= 80)\n",
    "ax.vlines(x=result.index, ymin=0, ymax=result.RMSE, color='firebrick', alpha=0.7, linewidth=20)\n",
    "\n",
    "for x, y in enumerate(result.RMSE):\n",
    "    ax.text(x, y+0.5, round(y, 1), horizontalalignment='center')\n",
    "plt.xlabel('Модель')    \n",
    "plt.ylabel('RMSE тестовой выборки')\n",
    "plt.grid()"
   ]
  },
  {
   "cell_type": "code",
   "execution_count": 128,
   "metadata": {},
   "outputs": [
    {
     "data": {
      "image/png": "[encoded data removed]",
      "text/plain": [
       "<Figure size 1152x576 with 1 Axes>"
      ]
     },
     "metadata": {
      "needs_background": "light"
     },
     "output_type": "display_data"
    }
   ],
   "source": [
    "plt.figure(figsize=(16, 8))\n",
    "\n",
    "plt.plot(y_test, label='target_test')\n",
    "plt.plot(y_test.index, prediction, label='prediction')\n",
    "\n",
    "plt.title('Сравнение тестовых значений с предсказанными')\n",
    "plt.legend()\n",
    "plt.grid()\n",
    "plt.show()"
   ]
  },
  {
   "cell_type": "markdown",
   "metadata": {},
   "source": [
    "<div class=\"alert alert-danger\">\n",
    "<b>❌ Комментарий ревьюера (исправлено):</b> \n",
    "    \n",
    "Давай тут еще построим график с реальным и предсказанным значением тестовой выборки. Интересно, как все это дело выглядит. \n",
    "</div>"
   ]
  },
  {
   "cell_type": "markdown",
   "metadata": {},
   "source": [
    "<div class=\"alert alert-danger\">\n",
    "<b>❌ Комментарий ревьюера v2 (исправлено):</b> \n",
    "\n",
    "График нужен типо такого: https://www.pvsm.ru/images/2017/04/24/otkrytyi-kurs-mashinnogo-obucheniya-tema-9-analiz-vremennyh-ryadov-s-pomoshyu-Python-61.png\n",
    "    \n",
    "На одном графике две линии: реальный временной ряд из тестовой выборки и предсказанный временной ряд из тестовой выборки."
   ]
  },
  {
   "cell_type": "markdown",
   "metadata": {},
   "source": [
    "<div class=\"alert alert-info\"> <b>Комментарий студента:</b> \n",
    "\n",
    "Вывод:    \n",
    "    \n",
    "- Модели LinearRegression, CatBoost, LGBMR на обучающем наборе показали хорошую точность RMSE, но на тестовом наборе только LinearRegression и CatBoost поподают под требования заказчика 46.3 и 47.3 пунктов соответственно, но стоить заметить, что данные модели требуют гораздо большего времени обучения. \n",
    "\n",
    "- Тестовая выборка с размером 10% от исходных данных очень мала, рекомендовал бы 20%.\n",
    "    \n",
    "- Для более качественного прогноза стоит получить более полные данные, с большим количеством признаков, так как отчеливо виден тренд на сезоность который зависит от месяца и время прилета в аэропортах.\n",
    "    \n",
    "- Модель CatBoost полностью соотвествует требованиям заказчика, точность RMSE на обучающем наборе 31,2, на тестовом наборе 47.3. \n",
    "    \n",
    "</div>"
   ]
  },
  {
   "cell_type": "markdown",
   "metadata": {},
   "source": [
    "<div style=\"border:solid green 2px; padding: 20px\">\n",
    "    \n",
    "Спасибо за твою работу, все шаги выполнены.\n",
    "    \n",
    "Ты показал хорошее владение методами работы с временными рядами, надеюсь, ты и в будущем будешь их использовать.\n",
    "    \n",
    "Мне понравилось, что ты используешь много разных моделей и оцениваешь их качество. Никогда не угадать, какая модель станет лучшей. Молодец, что освоил catboost, это классая библиотека, я часто ее использую.\n",
    "    \n",
    "Есть несколько доработок, без выполнения которых я не смогу принять твой проект:\n",
    "    \n",
    "    1. Использовать кросс-валидацию;\n",
    "    \n",
    "    2. Подобрать гиперапараметры для моделей;\n",
    "    \n",
    "    3. Построить график с прогнозом;\n",
    "    \n",
    "    \n",
    "Буду ждать твою работу на повторное ревью. Если у тебя есть какие-то вопросы, буду рада на них ответить 🙂"
   ]
  },
  {
   "cell_type": "markdown",
   "metadata": {},
   "source": [
    "<div style=\"border:solid green 2px; padding: 20px\"><div style=\"border:solid green 2px; padding: 20px\">\n",
    "    \n",
    "Все хорошо, осталось нарисовать график и я приму твою работу. Удачи!"
   ]
  },
  {
   "cell_type": "markdown",
   "metadata": {},
   "source": [
    "<div style=\"border:solid green 2px; padding: 20px\">\n",
    "\n",
    "Все комментарии исправлены, поэтому я могу зачесть твою работу. Спасибо за оперативность 👍\n",
    "    \n",
    "Если у тебя еще есть какие-то вопросы, ты можешь обратиться к наставнику, мы всегда готовы прийти тебе на помощь. И желаю тебе удачи в освоении следующих тем :)"
   ]
  },
  {
   "cell_type": "markdown",
   "metadata": {},
   "source": [
    "## Чек-лист проверки"
   ]
  },
  {
   "cell_type": "markdown",
   "metadata": {},
   "source": [
    "- [x]  Jupyter Notebook открыт\n",
    "- [ ]  Весь код выполняется без ошибок\n",
    "- [ ]  Ячейки с кодом расположены в порядке исполнения\n",
    "- [ ]  Данные загружены и подготовлены\n",
    "- [ ]  Данные проанализированы\n",
    "- [ ]  Модель обучена, гиперпараметры подобраны\n",
    "- [ ]  Качество моделей проверено, выводы сделаны\n",
    "- [ ]  Значение *RMSE* на тестовой выборке не больше 48"
   ]
  }
 ],
 "metadata": {
  "ExecuteTimeLog": [
   {
    "duration": 1803,
    "start_time": "2022-05-04T06:16:50.827Z"
   },
   {
    "duration": 51,
    "start_time": "2022-05-04T06:20:25.177Z"
   },
   {
    "duration": 10,
    "start_time": "2022-05-04T06:25:50.071Z"
   },
   {
    "duration": 636,
    "start_time": "2022-05-04T06:49:07.813Z"
   },
   {
    "duration": 95,
    "start_time": "2022-05-04T06:56:48.723Z"
   },
   {
    "duration": 26,
    "start_time": "2022-05-04T06:57:26.455Z"
   },
   {
    "duration": 42,
    "start_time": "2022-05-04T06:57:27.024Z"
   },
   {
    "duration": 8,
    "start_time": "2022-05-04T06:57:28.701Z"
   },
   {
    "duration": 17,
    "start_time": "2022-05-04T06:57:29.811Z"
   },
   {
    "duration": 2,
    "start_time": "2022-05-04T06:57:48.341Z"
   },
   {
    "duration": 42,
    "start_time": "2022-05-04T06:57:48.921Z"
   },
   {
    "duration": 10,
    "start_time": "2022-05-04T06:57:50.133Z"
   },
   {
    "duration": 160,
    "start_time": "2022-05-04T06:57:50.757Z"
   },
   {
    "duration": 244,
    "start_time": "2022-05-04T06:58:01.459Z"
   },
   {
    "duration": 224,
    "start_time": "2022-05-04T07:14:47.555Z"
   },
   {
    "duration": 280,
    "start_time": "2022-05-04T07:16:41.979Z"
   },
   {
    "duration": 183,
    "start_time": "2022-05-04T07:16:59.173Z"
   },
   {
    "duration": 5,
    "start_time": "2022-05-04T07:36:12.171Z"
   },
   {
    "duration": 5,
    "start_time": "2022-05-04T07:36:34.000Z"
   },
   {
    "duration": 4,
    "start_time": "2022-05-04T07:42:25.536Z"
   },
   {
    "duration": 417,
    "start_time": "2022-05-04T07:43:17.954Z"
   },
   {
    "duration": 353,
    "start_time": "2022-05-04T07:44:09.861Z"
   },
   {
    "duration": 4,
    "start_time": "2022-05-04T07:55:15.491Z"
   },
   {
    "duration": 4,
    "start_time": "2022-05-04T07:57:09.674Z"
   },
   {
    "duration": 8,
    "start_time": "2022-05-04T07:57:24.164Z"
   },
   {
    "duration": 9,
    "start_time": "2022-05-04T07:58:26.238Z"
   },
   {
    "duration": 15,
    "start_time": "2022-05-04T07:58:28.144Z"
   },
   {
    "duration": 571,
    "start_time": "2022-05-04T07:59:01.962Z"
   },
   {
    "duration": 1442,
    "start_time": "2022-05-04T07:59:09.329Z"
   },
   {
    "duration": 46,
    "start_time": "2022-05-04T07:59:10.773Z"
   },
   {
    "duration": 9,
    "start_time": "2022-05-04T07:59:10.820Z"
   },
   {
    "duration": 10,
    "start_time": "2022-05-04T07:59:10.830Z"
   },
   {
    "duration": 204,
    "start_time": "2022-05-04T07:59:10.842Z"
   },
   {
    "duration": 3,
    "start_time": "2022-05-04T07:59:11.047Z"
   },
   {
    "duration": 221,
    "start_time": "2022-05-04T07:59:11.052Z"
   },
   {
    "duration": 4,
    "start_time": "2022-05-04T07:59:11.274Z"
   },
   {
    "duration": 26,
    "start_time": "2022-05-04T07:59:11.279Z"
   },
   {
    "duration": 14,
    "start_time": "2022-05-04T07:59:11.307Z"
   },
   {
    "duration": 640,
    "start_time": "2022-05-04T07:59:36.272Z"
   },
   {
    "duration": 4,
    "start_time": "2022-05-04T08:01:01.500Z"
   },
   {
    "duration": 14,
    "start_time": "2022-05-04T08:01:05.617Z"
   },
   {
    "duration": 1497,
    "start_time": "2022-05-04T08:01:10.864Z"
   },
   {
    "duration": 47,
    "start_time": "2022-05-04T08:01:12.363Z"
   },
   {
    "duration": 9,
    "start_time": "2022-05-04T08:01:12.412Z"
   },
   {
    "duration": 8,
    "start_time": "2022-05-04T08:01:12.423Z"
   },
   {
    "duration": 208,
    "start_time": "2022-05-04T08:01:12.433Z"
   },
   {
    "duration": 4,
    "start_time": "2022-05-04T08:01:12.642Z"
   },
   {
    "duration": 266,
    "start_time": "2022-05-04T08:01:12.647Z"
   },
   {
    "duration": 4,
    "start_time": "2022-05-04T08:01:12.915Z"
   },
   {
    "duration": 7,
    "start_time": "2022-05-04T08:01:12.920Z"
   },
   {
    "duration": 12,
    "start_time": "2022-05-04T08:01:12.928Z"
   },
   {
    "duration": 14,
    "start_time": "2022-05-04T08:01:12.941Z"
   },
   {
    "duration": 96,
    "start_time": "2022-05-04T08:14:10.632Z"
   },
   {
    "duration": 14,
    "start_time": "2022-05-04T08:14:28.450Z"
   },
   {
    "duration": 7,
    "start_time": "2022-05-04T08:14:45.337Z"
   },
   {
    "duration": 8,
    "start_time": "2022-05-04T08:15:29.579Z"
   },
   {
    "duration": 3,
    "start_time": "2022-05-04T08:17:00.723Z"
   },
   {
    "duration": 19,
    "start_time": "2022-05-04T08:18:20.987Z"
   },
   {
    "duration": 9,
    "start_time": "2022-05-04T08:20:09.237Z"
   },
   {
    "duration": 9,
    "start_time": "2022-05-04T08:20:21.876Z"
   },
   {
    "duration": 3,
    "start_time": "2022-05-04T08:20:49.734Z"
   },
   {
    "duration": 10,
    "start_time": "2022-05-04T08:20:54.788Z"
   },
   {
    "duration": 5,
    "start_time": "2022-05-04T08:21:01.770Z"
   },
   {
    "duration": 11,
    "start_time": "2022-05-04T08:26:52.274Z"
   },
   {
    "duration": 10,
    "start_time": "2022-05-04T08:27:33.977Z"
   },
   {
    "duration": 1429,
    "start_time": "2022-05-04T08:28:28.742Z"
   },
   {
    "duration": 47,
    "start_time": "2022-05-04T08:28:30.173Z"
   },
   {
    "duration": 10,
    "start_time": "2022-05-04T08:28:30.221Z"
   },
   {
    "duration": 10,
    "start_time": "2022-05-04T08:28:30.233Z"
   },
   {
    "duration": 358,
    "start_time": "2022-05-04T08:28:30.245Z"
   },
   {
    "duration": 4,
    "start_time": "2022-05-04T08:28:30.605Z"
   },
   {
    "duration": 464,
    "start_time": "2022-05-04T08:28:30.611Z"
   },
   {
    "duration": 5,
    "start_time": "2022-05-04T08:28:31.077Z"
   },
   {
    "duration": 17,
    "start_time": "2022-05-04T08:28:31.083Z"
   },
   {
    "duration": 19,
    "start_time": "2022-05-04T08:28:31.103Z"
   },
   {
    "duration": 19,
    "start_time": "2022-05-04T08:28:31.123Z"
   },
   {
    "duration": 11,
    "start_time": "2022-05-04T08:28:31.144Z"
   },
   {
    "duration": 7,
    "start_time": "2022-05-04T08:28:31.156Z"
   },
   {
    "duration": 20,
    "start_time": "2022-05-04T08:28:31.165Z"
   },
   {
    "duration": 120,
    "start_time": "2022-05-04T08:28:31.187Z"
   },
   {
    "duration": 102,
    "start_time": "2022-05-04T08:28:31.309Z"
   },
   {
    "duration": 110,
    "start_time": "2022-05-04T08:31:31.109Z"
   },
   {
    "duration": 28,
    "start_time": "2022-05-04T08:31:58.012Z"
   },
   {
    "duration": 2098,
    "start_time": "2022-05-04T08:32:04.223Z"
   },
   {
    "duration": 1550,
    "start_time": "2022-05-04T08:32:16.071Z"
   },
   {
    "duration": 61,
    "start_time": "2022-05-04T08:32:17.623Z"
   },
   {
    "duration": 9,
    "start_time": "2022-05-04T08:32:17.685Z"
   },
   {
    "duration": 7,
    "start_time": "2022-05-04T08:32:17.696Z"
   },
   {
    "duration": 329,
    "start_time": "2022-05-04T08:32:17.705Z"
   },
   {
    "duration": 1380,
    "start_time": "2022-05-04T08:32:18.035Z"
   },
   {
    "duration": 5,
    "start_time": "2022-05-04T08:32:19.418Z"
   },
   {
    "duration": 432,
    "start_time": "2022-05-04T08:32:19.502Z"
   },
   {
    "duration": 4,
    "start_time": "2022-05-04T08:32:19.935Z"
   },
   {
    "duration": 8,
    "start_time": "2022-05-04T08:32:19.941Z"
   },
   {
    "duration": 18,
    "start_time": "2022-05-04T08:32:19.950Z"
   },
   {
    "duration": 14,
    "start_time": "2022-05-04T08:32:19.969Z"
   },
   {
    "duration": 9,
    "start_time": "2022-05-04T08:32:20.001Z"
   },
   {
    "duration": 10,
    "start_time": "2022-05-04T08:32:20.014Z"
   },
   {
    "duration": 7,
    "start_time": "2022-05-04T08:32:20.025Z"
   },
   {
    "duration": 75,
    "start_time": "2022-05-04T08:32:20.033Z"
   },
   {
    "duration": 96,
    "start_time": "2022-05-04T08:32:20.110Z"
   },
   {
    "duration": 1316,
    "start_time": "2022-05-04T08:33:58.347Z"
   },
   {
    "duration": 1760,
    "start_time": "2022-05-04T08:38:12.415Z"
   },
   {
    "duration": 61,
    "start_time": "2022-05-04T08:38:14.178Z"
   },
   {
    "duration": 9,
    "start_time": "2022-05-04T08:38:14.240Z"
   },
   {
    "duration": 8,
    "start_time": "2022-05-04T08:38:14.251Z"
   },
   {
    "duration": 442,
    "start_time": "2022-05-04T08:38:14.261Z"
   },
   {
    "duration": 1813,
    "start_time": "2022-05-04T08:38:14.705Z"
   },
   {
    "duration": 8,
    "start_time": "2022-05-04T08:38:16.608Z"
   },
   {
    "duration": 23,
    "start_time": "2022-05-04T08:38:16.700Z"
   },
   {
    "duration": 24,
    "start_time": "2022-05-04T08:38:16.726Z"
   },
   {
    "duration": 10,
    "start_time": "2022-05-04T08:38:16.753Z"
   },
   {
    "duration": 35,
    "start_time": "2022-05-04T08:38:16.765Z"
   },
   {
    "duration": 4,
    "start_time": "2022-05-04T08:38:16.803Z"
   },
   {
    "duration": 31,
    "start_time": "2022-05-04T08:38:16.809Z"
   },
   {
    "duration": 103,
    "start_time": "2022-05-04T08:38:16.901Z"
   },
   {
    "duration": 5,
    "start_time": "2022-05-04T08:39:09.160Z"
   },
   {
    "duration": 4,
    "start_time": "2022-05-04T08:39:10.294Z"
   },
   {
    "duration": 11,
    "start_time": "2022-05-04T08:39:12.757Z"
   },
   {
    "duration": 5,
    "start_time": "2022-05-04T08:39:13.417Z"
   },
   {
    "duration": 4,
    "start_time": "2022-05-04T08:40:44.799Z"
   },
   {
    "duration": 5,
    "start_time": "2022-05-04T08:40:45.401Z"
   },
   {
    "duration": 14,
    "start_time": "2022-05-04T08:40:47.161Z"
   },
   {
    "duration": 6,
    "start_time": "2022-05-04T08:40:47.683Z"
   },
   {
    "duration": 5,
    "start_time": "2022-05-04T08:41:10.838Z"
   },
   {
    "duration": 5,
    "start_time": "2022-05-04T08:41:16.472Z"
   },
   {
    "duration": 4,
    "start_time": "2022-05-04T08:44:34.140Z"
   },
   {
    "duration": 5,
    "start_time": "2022-05-04T08:44:43.115Z"
   },
   {
    "duration": 5,
    "start_time": "2022-05-04T09:06:38.601Z"
   },
   {
    "duration": 31,
    "start_time": "2022-05-04T09:06:45.716Z"
   },
   {
    "duration": 5,
    "start_time": "2022-05-04T09:06:47.027Z"
   },
   {
    "duration": 8,
    "start_time": "2022-05-04T09:06:50.073Z"
   },
   {
    "duration": 5,
    "start_time": "2022-05-04T09:06:50.518Z"
   },
   {
    "duration": 26,
    "start_time": "2022-05-04T09:06:50.995Z"
   },
   {
    "duration": 5,
    "start_time": "2022-05-04T09:06:51.519Z"
   },
   {
    "duration": 11,
    "start_time": "2022-05-04T09:06:53.347Z"
   },
   {
    "duration": 9,
    "start_time": "2022-05-04T09:06:54.232Z"
   },
   {
    "duration": 5,
    "start_time": "2022-05-04T09:07:17.191Z"
   },
   {
    "duration": 5,
    "start_time": "2022-05-04T09:07:17.660Z"
   },
   {
    "duration": 78,
    "start_time": "2022-05-04T09:07:51.373Z"
   },
   {
    "duration": 127,
    "start_time": "2022-05-04T09:15:05.652Z"
   },
   {
    "duration": 2285,
    "start_time": "2022-05-04T09:16:37.602Z"
   },
   {
    "duration": 52,
    "start_time": "2022-05-04T09:16:39.889Z"
   },
   {
    "duration": 11,
    "start_time": "2022-05-04T09:16:39.943Z"
   },
   {
    "duration": 7,
    "start_time": "2022-05-04T09:16:39.956Z"
   },
   {
    "duration": 365,
    "start_time": "2022-05-04T09:16:39.965Z"
   },
   {
    "duration": 4988,
    "start_time": "2022-05-04T09:16:40.331Z"
   },
   {
    "duration": 92,
    "start_time": "2022-05-04T09:16:45.323Z"
   },
   {
    "duration": 101,
    "start_time": "2022-05-04T09:16:45.424Z"
   },
   {
    "duration": 14,
    "start_time": "2022-05-04T09:16:45.526Z"
   },
   {
    "duration": 7,
    "start_time": "2022-05-04T09:16:45.543Z"
   },
   {
    "duration": 5,
    "start_time": "2022-05-04T09:16:45.552Z"
   },
   {
    "duration": 20,
    "start_time": "2022-05-04T09:16:45.559Z"
   },
   {
    "duration": 4,
    "start_time": "2022-05-04T09:16:45.581Z"
   },
   {
    "duration": 227,
    "start_time": "2022-05-04T09:16:45.602Z"
   },
   {
    "duration": 22,
    "start_time": "2022-05-04T09:16:45.901Z"
   },
   {
    "duration": 18,
    "start_time": "2022-05-04T09:16:46.001Z"
   },
   {
    "duration": 12,
    "start_time": "2022-05-04T09:16:46.023Z"
   },
   {
    "duration": 230,
    "start_time": "2022-05-04T09:16:46.036Z"
   },
   {
    "duration": 128,
    "start_time": "2022-05-04T09:17:09.175Z"
   },
   {
    "duration": 5,
    "start_time": "2022-05-04T09:17:55.759Z"
   },
   {
    "duration": 0,
    "start_time": "2022-05-04T09:21:24.327Z"
   },
   {
    "duration": 0,
    "start_time": "2022-05-04T09:21:24.327Z"
   },
   {
    "duration": 1965,
    "start_time": "2022-05-04T09:21:45.776Z"
   },
   {
    "duration": 64,
    "start_time": "2022-05-04T09:21:47.744Z"
   },
   {
    "duration": 12,
    "start_time": "2022-05-04T09:21:47.810Z"
   },
   {
    "duration": 11,
    "start_time": "2022-05-04T09:21:47.825Z"
   },
   {
    "duration": 353,
    "start_time": "2022-05-04T09:21:47.838Z"
   },
   {
    "duration": 4140,
    "start_time": "2022-05-04T09:21:48.193Z"
   },
   {
    "duration": 14,
    "start_time": "2022-05-04T09:21:52.404Z"
   },
   {
    "duration": 111,
    "start_time": "2022-05-04T09:21:52.421Z"
   },
   {
    "duration": 15,
    "start_time": "2022-05-04T09:21:52.534Z"
   },
   {
    "duration": 9,
    "start_time": "2022-05-04T09:21:52.553Z"
   },
   {
    "duration": 6,
    "start_time": "2022-05-04T09:21:52.564Z"
   },
   {
    "duration": 37,
    "start_time": "2022-05-04T09:21:52.572Z"
   },
   {
    "duration": 5,
    "start_time": "2022-05-04T09:21:52.611Z"
   },
   {
    "duration": 91,
    "start_time": "2022-05-04T09:21:52.618Z"
   },
   {
    "duration": 6,
    "start_time": "2022-05-04T09:21:52.711Z"
   },
   {
    "duration": 92,
    "start_time": "2022-05-04T09:21:52.720Z"
   },
   {
    "duration": 9,
    "start_time": "2022-05-04T09:21:52.817Z"
   },
   {
    "duration": 4,
    "start_time": "2022-05-04T09:21:52.829Z"
   },
   {
    "duration": 66,
    "start_time": "2022-05-04T09:21:52.834Z"
   },
   {
    "duration": 13915,
    "start_time": "2022-05-04T09:21:52.902Z"
   },
   {
    "duration": 3,
    "start_time": "2022-05-04T09:26:50.653Z"
   },
   {
    "duration": 4,
    "start_time": "2022-05-04T09:26:51.546Z"
   },
   {
    "duration": 3953,
    "start_time": "2022-05-04T09:26:52.185Z"
   },
   {
    "duration": 8,
    "start_time": "2022-05-04T09:28:06.508Z"
   },
   {
    "duration": 1747,
    "start_time": "2022-05-04T09:28:43.389Z"
   },
   {
    "duration": 66,
    "start_time": "2022-05-04T09:28:45.138Z"
   },
   {
    "duration": 14,
    "start_time": "2022-05-04T09:28:45.206Z"
   },
   {
    "duration": 6,
    "start_time": "2022-05-04T09:28:45.222Z"
   },
   {
    "duration": 391,
    "start_time": "2022-05-04T09:28:45.230Z"
   },
   {
    "duration": 3904,
    "start_time": "2022-05-04T09:28:45.623Z"
   },
   {
    "duration": 14,
    "start_time": "2022-05-04T09:28:49.605Z"
   },
   {
    "duration": 104,
    "start_time": "2022-05-04T09:28:49.625Z"
   },
   {
    "duration": 13,
    "start_time": "2022-05-04T09:28:49.731Z"
   },
   {
    "duration": 6,
    "start_time": "2022-05-04T09:28:49.747Z"
   },
   {
    "duration": 5,
    "start_time": "2022-05-04T09:28:49.754Z"
   },
   {
    "duration": 24,
    "start_time": "2022-05-04T09:28:49.760Z"
   },
   {
    "duration": 3,
    "start_time": "2022-05-04T09:28:49.786Z"
   },
   {
    "duration": 21,
    "start_time": "2022-05-04T09:28:49.804Z"
   },
   {
    "duration": 186,
    "start_time": "2022-05-04T09:28:49.827Z"
   },
   {
    "duration": 7,
    "start_time": "2022-05-04T09:28:50.016Z"
   },
   {
    "duration": 9,
    "start_time": "2022-05-04T09:28:50.024Z"
   },
   {
    "duration": 3,
    "start_time": "2022-05-04T09:28:50.034Z"
   },
   {
    "duration": 5,
    "start_time": "2022-05-04T09:28:50.039Z"
   },
   {
    "duration": 3556,
    "start_time": "2022-05-04T09:28:50.045Z"
   },
   {
    "duration": 16,
    "start_time": "2022-05-04T09:28:53.603Z"
   },
   {
    "duration": 7,
    "start_time": "2022-05-04T09:28:53.621Z"
   },
   {
    "duration": 9,
    "start_time": "2022-05-04T09:28:53.629Z"
   },
   {
    "duration": 2445,
    "start_time": "2022-05-04T09:28:53.640Z"
   },
   {
    "duration": 5,
    "start_time": "2022-05-04T09:28:56.086Z"
   },
   {
    "duration": 122,
    "start_time": "2022-05-04T09:32:13.227Z"
   },
   {
    "duration": 5,
    "start_time": "2022-05-04T09:32:15.013Z"
   },
   {
    "duration": 5,
    "start_time": "2022-05-04T09:32:15.567Z"
   },
   {
    "duration": 1808,
    "start_time": "2022-05-04T09:32:20.563Z"
   },
   {
    "duration": 74,
    "start_time": "2022-05-04T09:32:22.373Z"
   },
   {
    "duration": 9,
    "start_time": "2022-05-04T09:32:22.450Z"
   },
   {
    "duration": 6,
    "start_time": "2022-05-04T09:32:22.462Z"
   },
   {
    "duration": 483,
    "start_time": "2022-05-04T09:32:22.470Z"
   },
   {
    "duration": 2451,
    "start_time": "2022-05-04T09:32:22.955Z"
   },
   {
    "duration": 30,
    "start_time": "2022-05-04T09:32:25.417Z"
   },
   {
    "duration": 94,
    "start_time": "2022-05-04T09:32:25.456Z"
   },
   {
    "duration": 20,
    "start_time": "2022-05-04T09:32:25.552Z"
   },
   {
    "duration": 8,
    "start_time": "2022-05-04T09:32:25.575Z"
   },
   {
    "duration": 11,
    "start_time": "2022-05-04T09:32:25.585Z"
   },
   {
    "duration": 10,
    "start_time": "2022-05-04T09:32:25.598Z"
   },
   {
    "duration": 46,
    "start_time": "2022-05-04T09:32:25.610Z"
   },
   {
    "duration": 4,
    "start_time": "2022-05-04T09:32:25.658Z"
   },
   {
    "duration": 53,
    "start_time": "2022-05-04T09:32:25.664Z"
   },
   {
    "duration": 96,
    "start_time": "2022-05-04T09:32:25.724Z"
   },
   {
    "duration": 86,
    "start_time": "2022-05-04T09:32:25.821Z"
   },
   {
    "duration": 25,
    "start_time": "2022-05-04T09:32:25.909Z"
   },
   {
    "duration": 3,
    "start_time": "2022-05-04T09:32:25.936Z"
   },
   {
    "duration": 7,
    "start_time": "2022-05-04T09:32:25.941Z"
   },
   {
    "duration": 14481,
    "start_time": "2022-05-04T09:32:25.950Z"
   },
   {
    "duration": 90,
    "start_time": "2022-05-04T09:32:40.434Z"
   },
   {
    "duration": 2,
    "start_time": "2022-05-04T09:32:40.528Z"
   },
   {
    "duration": 24,
    "start_time": "2022-05-04T09:32:40.532Z"
   },
   {
    "duration": 1757,
    "start_time": "2022-05-04T09:32:40.559Z"
   },
   {
    "duration": 5,
    "start_time": "2022-05-04T09:32:42.319Z"
   },
   {
    "duration": 3,
    "start_time": "2022-05-04T09:35:48.731Z"
   },
   {
    "duration": 16283,
    "start_time": "2022-05-04T09:35:49.437Z"
   },
   {
    "duration": 89,
    "start_time": "2022-05-04T09:36:05.723Z"
   },
   {
    "duration": 9,
    "start_time": "2022-05-04T09:40:27.484Z"
   },
   {
    "duration": 18,
    "start_time": "2022-05-04T09:41:20.858Z"
   },
   {
    "duration": 6,
    "start_time": "2022-05-04T09:42:59.461Z"
   },
   {
    "duration": 20,
    "start_time": "2022-05-04T09:43:26.197Z"
   },
   {
    "duration": 4,
    "start_time": "2022-05-04T09:43:51.538Z"
   },
   {
    "duration": 198,
    "start_time": "2022-05-04T09:44:19.314Z"
   },
   {
    "duration": 162,
    "start_time": "2022-05-04T09:44:20.470Z"
   },
   {
    "duration": 4,
    "start_time": "2022-05-04T09:44:43.079Z"
   },
   {
    "duration": 16,
    "start_time": "2022-05-04T09:45:49.043Z"
   },
   {
    "duration": 4,
    "start_time": "2022-05-04T09:45:49.856Z"
   },
   {
    "duration": 11,
    "start_time": "2022-05-04T09:45:51.473Z"
   },
   {
    "duration": 6,
    "start_time": "2022-05-04T09:45:52.011Z"
   },
   {
    "duration": 4,
    "start_time": "2022-05-04T09:46:23.344Z"
   },
   {
    "duration": 5,
    "start_time": "2022-05-04T09:46:31.330Z"
   },
   {
    "duration": 5,
    "start_time": "2022-05-04T09:46:37.721Z"
   },
   {
    "duration": 41,
    "start_time": "2022-05-04T09:46:41.163Z"
   },
   {
    "duration": 7,
    "start_time": "2022-05-04T09:46:41.709Z"
   },
   {
    "duration": 5,
    "start_time": "2022-05-04T09:46:49.370Z"
   },
   {
    "duration": 6,
    "start_time": "2022-05-04T09:46:49.864Z"
   },
   {
    "duration": 52,
    "start_time": "2022-05-04T09:47:17.469Z"
   },
   {
    "duration": 14,
    "start_time": "2022-05-04T09:47:18.134Z"
   },
   {
    "duration": 12,
    "start_time": "2022-05-04T09:47:30.874Z"
   },
   {
    "duration": 5,
    "start_time": "2022-05-04T09:47:31.483Z"
   },
   {
    "duration": 4,
    "start_time": "2022-05-04T09:49:08.468Z"
   },
   {
    "duration": 15,
    "start_time": "2022-05-04T09:49:12.393Z"
   },
   {
    "duration": 5,
    "start_time": "2022-05-04T09:49:12.974Z"
   },
   {
    "duration": 4,
    "start_time": "2022-05-04T09:49:16.555Z"
   },
   {
    "duration": 5,
    "start_time": "2022-05-04T09:49:17.096Z"
   },
   {
    "duration": 3,
    "start_time": "2022-05-04T09:49:54.933Z"
   },
   {
    "duration": 3,
    "start_time": "2022-05-04T09:49:57.222Z"
   },
   {
    "duration": 15785,
    "start_time": "2022-05-04T09:50:06.834Z"
   },
   {
    "duration": 15,
    "start_time": "2022-05-04T09:50:34.220Z"
   },
   {
    "duration": 13,
    "start_time": "2022-05-04T09:50:50.268Z"
   },
   {
    "duration": 13,
    "start_time": "2022-05-04T09:51:16.633Z"
   },
   {
    "duration": 3,
    "start_time": "2022-05-04T09:51:34.918Z"
   },
   {
    "duration": 3,
    "start_time": "2022-05-04T09:51:35.871Z"
   },
   {
    "duration": 1812,
    "start_time": "2022-05-04T09:51:57.157Z"
   },
   {
    "duration": 5,
    "start_time": "2022-05-04T09:52:20.138Z"
   },
   {
    "duration": 1632,
    "start_time": "2022-05-04T09:53:45.952Z"
   },
   {
    "duration": 62,
    "start_time": "2022-05-04T09:53:47.586Z"
   },
   {
    "duration": 9,
    "start_time": "2022-05-04T09:53:47.650Z"
   },
   {
    "duration": 6,
    "start_time": "2022-05-04T09:53:47.661Z"
   },
   {
    "duration": 331,
    "start_time": "2022-05-04T09:53:47.669Z"
   },
   {
    "duration": 3402,
    "start_time": "2022-05-04T09:53:48.002Z"
   },
   {
    "duration": 87,
    "start_time": "2022-05-04T09:53:51.413Z"
   },
   {
    "duration": 31,
    "start_time": "2022-05-04T09:53:51.503Z"
   },
   {
    "duration": 21,
    "start_time": "2022-05-04T09:53:51.536Z"
   },
   {
    "duration": 9,
    "start_time": "2022-05-04T09:53:51.561Z"
   },
   {
    "duration": 7,
    "start_time": "2022-05-04T09:53:51.572Z"
   },
   {
    "duration": 51,
    "start_time": "2022-05-04T09:53:51.581Z"
   },
   {
    "duration": 5,
    "start_time": "2022-05-04T09:53:51.633Z"
   },
   {
    "duration": 68,
    "start_time": "2022-05-04T09:53:51.640Z"
   },
   {
    "duration": 18,
    "start_time": "2022-05-04T09:53:51.710Z"
   },
   {
    "duration": 18,
    "start_time": "2022-05-04T09:53:51.803Z"
   },
   {
    "duration": 6,
    "start_time": "2022-05-04T09:53:51.823Z"
   },
   {
    "duration": 4,
    "start_time": "2022-05-04T09:53:51.830Z"
   },
   {
    "duration": 9,
    "start_time": "2022-05-04T09:53:51.836Z"
   },
   {
    "duration": 12881,
    "start_time": "2022-05-04T09:53:51.846Z"
   },
   {
    "duration": 91,
    "start_time": "2022-05-04T09:54:04.729Z"
   },
   {
    "duration": 2,
    "start_time": "2022-05-04T09:54:04.822Z"
   },
   {
    "duration": 6,
    "start_time": "2022-05-04T09:54:04.826Z"
   },
   {
    "duration": 1843,
    "start_time": "2022-05-04T09:54:04.834Z"
   },
   {
    "duration": 5,
    "start_time": "2022-05-04T09:54:06.678Z"
   },
   {
    "duration": 12,
    "start_time": "2022-05-04T09:56:34.413Z"
   },
   {
    "duration": 5,
    "start_time": "2022-05-04T09:56:35.338Z"
   },
   {
    "duration": 11,
    "start_time": "2022-05-04T09:56:48.514Z"
   },
   {
    "duration": 8,
    "start_time": "2022-05-04T09:56:48.999Z"
   },
   {
    "duration": 15,
    "start_time": "2022-05-04T09:56:49.971Z"
   },
   {
    "duration": 4,
    "start_time": "2022-05-04T09:56:50.585Z"
   },
   {
    "duration": 16,
    "start_time": "2022-05-04T09:56:56.269Z"
   },
   {
    "duration": 6,
    "start_time": "2022-05-04T09:56:57.711Z"
   },
   {
    "duration": 4,
    "start_time": "2022-05-04T09:57:25.484Z"
   },
   {
    "duration": 5,
    "start_time": "2022-05-04T09:57:26.304Z"
   },
   {
    "duration": 3,
    "start_time": "2022-05-04T09:57:32.782Z"
   },
   {
    "duration": 3,
    "start_time": "2022-05-04T09:57:33.483Z"
   },
   {
    "duration": 13771,
    "start_time": "2022-05-04T09:57:35.062Z"
   },
   {
    "duration": 11,
    "start_time": "2022-05-04T09:57:57.428Z"
   },
   {
    "duration": 3,
    "start_time": "2022-05-04T09:58:35.433Z"
   },
   {
    "duration": 3,
    "start_time": "2022-05-04T09:58:36.042Z"
   },
   {
    "duration": 1835,
    "start_time": "2022-05-04T09:58:36.642Z"
   },
   {
    "duration": 4,
    "start_time": "2022-05-04T09:58:41.224Z"
   },
   {
    "duration": 31,
    "start_time": "2022-05-04T10:00:47.088Z"
   },
   {
    "duration": 5,
    "start_time": "2022-05-04T10:01:03.339Z"
   },
   {
    "duration": 6,
    "start_time": "2022-05-04T10:01:19.632Z"
   },
   {
    "duration": 7,
    "start_time": "2022-05-04T10:01:50.502Z"
   },
   {
    "duration": 4,
    "start_time": "2022-05-04T10:01:58.177Z"
   },
   {
    "duration": 4,
    "start_time": "2022-05-04T10:01:58.683Z"
   },
   {
    "duration": 1614,
    "start_time": "2022-05-04T10:19:47.382Z"
   },
   {
    "duration": 47,
    "start_time": "2022-05-04T10:19:48.998Z"
   },
   {
    "duration": 9,
    "start_time": "2022-05-04T10:19:49.047Z"
   },
   {
    "duration": 9,
    "start_time": "2022-05-04T10:19:49.058Z"
   },
   {
    "duration": 316,
    "start_time": "2022-05-04T10:19:49.069Z"
   },
   {
    "duration": 1515,
    "start_time": "2022-05-04T10:19:49.386Z"
   },
   {
    "duration": 6,
    "start_time": "2022-05-04T10:19:50.904Z"
   },
   {
    "duration": 110,
    "start_time": "2022-05-04T10:19:50.913Z"
   },
   {
    "duration": 17,
    "start_time": "2022-05-04T10:19:51.025Z"
   },
   {
    "duration": 13,
    "start_time": "2022-05-04T10:19:51.045Z"
   },
   {
    "duration": 10,
    "start_time": "2022-05-04T10:19:51.059Z"
   },
   {
    "duration": 17,
    "start_time": "2022-05-04T10:19:51.071Z"
   },
   {
    "duration": 7,
    "start_time": "2022-05-04T10:19:51.090Z"
   },
   {
    "duration": 15,
    "start_time": "2022-05-04T10:19:51.098Z"
   },
   {
    "duration": 185,
    "start_time": "2022-05-04T10:19:51.114Z"
   },
   {
    "duration": 6,
    "start_time": "2022-05-04T10:19:51.301Z"
   },
   {
    "duration": 8,
    "start_time": "2022-05-04T10:19:51.309Z"
   },
   {
    "duration": 3,
    "start_time": "2022-05-04T10:19:51.319Z"
   },
   {
    "duration": 9,
    "start_time": "2022-05-04T10:19:51.323Z"
   },
   {
    "duration": 14476,
    "start_time": "2022-05-04T10:19:51.333Z"
   },
   {
    "duration": 91,
    "start_time": "2022-05-04T10:20:05.811Z"
   },
   {
    "duration": 8,
    "start_time": "2022-05-04T10:20:05.904Z"
   },
   {
    "duration": 6,
    "start_time": "2022-05-04T10:20:05.914Z"
   },
   {
    "duration": 12908,
    "start_time": "2022-05-04T10:20:05.921Z"
   },
   {
    "duration": 5,
    "start_time": "2022-05-04T10:20:18.830Z"
   },
   {
    "duration": 221,
    "start_time": "2022-05-04T10:20:52.148Z"
   },
   {
    "duration": 4,
    "start_time": "2022-05-04T10:20:52.749Z"
   },
   {
    "duration": 15,
    "start_time": "2022-05-04T10:21:15.128Z"
   },
   {
    "duration": 49,
    "start_time": "2022-05-04T10:21:27.456Z"
   },
   {
    "duration": 5,
    "start_time": "2022-05-04T10:21:28.138Z"
   },
   {
    "duration": 4,
    "start_time": "2022-05-04T10:21:32.154Z"
   },
   {
    "duration": 5,
    "start_time": "2022-05-04T10:21:32.651Z"
   },
   {
    "duration": 7,
    "start_time": "2022-05-04T10:21:48.819Z"
   },
   {
    "duration": 17,
    "start_time": "2022-05-04T10:21:49.373Z"
   },
   {
    "duration": 1510,
    "start_time": "2022-05-04T10:22:03.216Z"
   },
   {
    "duration": 44,
    "start_time": "2022-05-04T10:22:04.727Z"
   },
   {
    "duration": 9,
    "start_time": "2022-05-04T10:22:04.772Z"
   },
   {
    "duration": 7,
    "start_time": "2022-05-04T10:22:04.783Z"
   },
   {
    "duration": 302,
    "start_time": "2022-05-04T10:22:04.791Z"
   },
   {
    "duration": 2517,
    "start_time": "2022-05-04T10:22:05.094Z"
   },
   {
    "duration": 90,
    "start_time": "2022-05-04T10:22:07.615Z"
   },
   {
    "duration": 105,
    "start_time": "2022-05-04T10:22:07.711Z"
   },
   {
    "duration": 13,
    "start_time": "2022-05-04T10:22:07.818Z"
   },
   {
    "duration": 8,
    "start_time": "2022-05-04T10:22:07.834Z"
   },
   {
    "duration": 5,
    "start_time": "2022-05-04T10:22:07.844Z"
   },
   {
    "duration": 12,
    "start_time": "2022-05-04T10:22:07.850Z"
   },
   {
    "duration": 3,
    "start_time": "2022-05-04T10:22:07.864Z"
   },
   {
    "duration": 34,
    "start_time": "2022-05-04T10:22:07.869Z"
   },
   {
    "duration": 5,
    "start_time": "2022-05-04T10:22:07.905Z"
   },
   {
    "duration": 13,
    "start_time": "2022-05-04T10:22:08.000Z"
   },
   {
    "duration": 90,
    "start_time": "2022-05-04T10:22:08.014Z"
   },
   {
    "duration": 7,
    "start_time": "2022-05-04T10:22:08.105Z"
   },
   {
    "duration": 10,
    "start_time": "2022-05-04T10:22:08.113Z"
   },
   {
    "duration": 13086,
    "start_time": "2022-05-04T10:22:08.124Z"
   },
   {
    "duration": 93,
    "start_time": "2022-05-04T10:22:21.212Z"
   },
   {
    "duration": 4,
    "start_time": "2022-05-04T10:22:21.307Z"
   },
   {
    "duration": 9,
    "start_time": "2022-05-04T10:22:21.312Z"
   },
   {
    "duration": 8521,
    "start_time": "2022-05-04T10:22:21.323Z"
   },
   {
    "duration": 5,
    "start_time": "2022-05-04T10:22:29.846Z"
   },
   {
    "duration": 10,
    "start_time": "2022-05-04T10:24:37.395Z"
   },
   {
    "duration": 6,
    "start_time": "2022-05-04T10:24:38.089Z"
   },
   {
    "duration": 10,
    "start_time": "2022-05-04T10:24:38.770Z"
   },
   {
    "duration": 4,
    "start_time": "2022-05-04T10:24:39.331Z"
   },
   {
    "duration": 13,
    "start_time": "2022-05-04T10:24:41.590Z"
   },
   {
    "duration": 5,
    "start_time": "2022-05-04T10:24:42.605Z"
   },
   {
    "duration": 4,
    "start_time": "2022-05-04T10:24:44.301Z"
   },
   {
    "duration": 5,
    "start_time": "2022-05-04T10:24:44.983Z"
   },
   {
    "duration": 3,
    "start_time": "2022-05-04T10:24:47.439Z"
   },
   {
    "duration": 111,
    "start_time": "2022-05-04T10:25:15.671Z"
   },
   {
    "duration": 4,
    "start_time": "2022-05-04T10:25:20.025Z"
   },
   {
    "duration": 5,
    "start_time": "2022-05-04T10:25:20.504Z"
   },
   {
    "duration": 21,
    "start_time": "2022-05-04T10:25:50.779Z"
   },
   {
    "duration": 5,
    "start_time": "2022-05-04T10:25:51.148Z"
   },
   {
    "duration": 5,
    "start_time": "2022-05-04T10:25:53.107Z"
   },
   {
    "duration": 5,
    "start_time": "2022-05-04T10:25:53.986Z"
   },
   {
    "duration": 3,
    "start_time": "2022-05-04T10:25:57.743Z"
   },
   {
    "duration": 3,
    "start_time": "2022-05-04T10:25:58.530Z"
   },
   {
    "duration": 14798,
    "start_time": "2022-05-04T10:26:00.305Z"
   },
   {
    "duration": 16,
    "start_time": "2022-05-04T10:26:22.425Z"
   },
   {
    "duration": 3,
    "start_time": "2022-05-04T10:26:25.514Z"
   },
   {
    "duration": 3,
    "start_time": "2022-05-04T10:26:26.043Z"
   },
   {
    "duration": 1678,
    "start_time": "2022-05-04T10:26:26.697Z"
   },
   {
    "duration": 4,
    "start_time": "2022-05-04T10:26:33.060Z"
   },
   {
    "duration": 8,
    "start_time": "2022-05-04T10:28:00.949Z"
   },
   {
    "duration": 6,
    "start_time": "2022-05-04T10:28:06.920Z"
   },
   {
    "duration": 11,
    "start_time": "2022-05-04T10:28:15.443Z"
   },
   {
    "duration": 4,
    "start_time": "2022-05-04T10:28:25.565Z"
   },
   {
    "duration": 12,
    "start_time": "2022-05-04T10:28:30.047Z"
   },
   {
    "duration": 8,
    "start_time": "2022-05-04T10:29:58.071Z"
   },
   {
    "duration": 9,
    "start_time": "2022-05-04T10:30:07.213Z"
   },
   {
    "duration": 1491,
    "start_time": "2022-05-04T10:30:32.233Z"
   },
   {
    "duration": 45,
    "start_time": "2022-05-04T10:30:33.726Z"
   },
   {
    "duration": 9,
    "start_time": "2022-05-04T10:30:33.772Z"
   },
   {
    "duration": 6,
    "start_time": "2022-05-04T10:30:33.784Z"
   },
   {
    "duration": 309,
    "start_time": "2022-05-04T10:30:33.791Z"
   },
   {
    "duration": 3008,
    "start_time": "2022-05-04T10:30:34.101Z"
   },
   {
    "duration": 10,
    "start_time": "2022-05-04T10:30:37.200Z"
   },
   {
    "duration": 13,
    "start_time": "2022-05-04T10:30:37.301Z"
   },
   {
    "duration": 15,
    "start_time": "2022-05-04T10:30:37.315Z"
   },
   {
    "duration": 9,
    "start_time": "2022-05-04T10:30:37.332Z"
   },
   {
    "duration": 126,
    "start_time": "2022-05-04T10:30:37.343Z"
   },
   {
    "duration": 0,
    "start_time": "2022-05-04T10:30:37.471Z"
   },
   {
    "duration": 0,
    "start_time": "2022-05-04T10:30:37.472Z"
   },
   {
    "duration": 0,
    "start_time": "2022-05-04T10:30:37.473Z"
   },
   {
    "duration": 0,
    "start_time": "2022-05-04T10:30:37.474Z"
   },
   {
    "duration": 0,
    "start_time": "2022-05-04T10:30:37.475Z"
   },
   {
    "duration": 0,
    "start_time": "2022-05-04T10:30:37.476Z"
   },
   {
    "duration": 0,
    "start_time": "2022-05-04T10:30:37.478Z"
   },
   {
    "duration": 0,
    "start_time": "2022-05-04T10:30:37.479Z"
   },
   {
    "duration": 0,
    "start_time": "2022-05-04T10:30:37.479Z"
   },
   {
    "duration": 0,
    "start_time": "2022-05-04T10:30:37.481Z"
   },
   {
    "duration": 0,
    "start_time": "2022-05-04T10:30:37.481Z"
   },
   {
    "duration": 0,
    "start_time": "2022-05-04T10:30:37.500Z"
   },
   {
    "duration": 0,
    "start_time": "2022-05-04T10:30:37.501Z"
   },
   {
    "duration": 0,
    "start_time": "2022-05-04T10:30:37.502Z"
   },
   {
    "duration": 7,
    "start_time": "2022-05-04T10:30:57.888Z"
   },
   {
    "duration": 5,
    "start_time": "2022-05-04T10:30:59.202Z"
   },
   {
    "duration": 11,
    "start_time": "2022-05-04T10:31:01.162Z"
   },
   {
    "duration": 4,
    "start_time": "2022-05-04T10:31:01.963Z"
   },
   {
    "duration": 10,
    "start_time": "2022-05-04T10:33:26.710Z"
   },
   {
    "duration": 7,
    "start_time": "2022-05-04T10:33:32.852Z"
   },
   {
    "duration": 13,
    "start_time": "2022-05-04T10:33:34.965Z"
   },
   {
    "duration": 4,
    "start_time": "2022-05-04T10:33:35.795Z"
   },
   {
    "duration": 14,
    "start_time": "2022-05-04T10:33:50.504Z"
   },
   {
    "duration": 6,
    "start_time": "2022-05-04T10:33:51.171Z"
   },
   {
    "duration": 5,
    "start_time": "2022-05-04T10:33:53.767Z"
   },
   {
    "duration": 6,
    "start_time": "2022-05-04T10:33:54.236Z"
   },
   {
    "duration": 4,
    "start_time": "2022-05-04T10:34:54.430Z"
   },
   {
    "duration": 5,
    "start_time": "2022-05-04T10:34:54.994Z"
   },
   {
    "duration": 7,
    "start_time": "2022-05-04T10:36:17.639Z"
   },
   {
    "duration": 5,
    "start_time": "2022-05-04T10:36:24.612Z"
   },
   {
    "duration": 9,
    "start_time": "2022-05-04T10:36:25.097Z"
   },
   {
    "duration": 5,
    "start_time": "2022-05-04T10:36:31.251Z"
   },
   {
    "duration": 4,
    "start_time": "2022-05-04T10:38:25.600Z"
   },
   {
    "duration": 5,
    "start_time": "2022-05-04T10:38:26.589Z"
   },
   {
    "duration": 3,
    "start_time": "2022-05-04T10:38:29.063Z"
   },
   {
    "duration": 3,
    "start_time": "2022-05-04T10:38:29.933Z"
   },
   {
    "duration": 16613,
    "start_time": "2022-05-04T10:38:31.695Z"
   },
   {
    "duration": 95,
    "start_time": "2022-05-04T10:38:48.310Z"
   },
   {
    "duration": 2,
    "start_time": "2022-05-04T11:06:20.042Z"
   },
   {
    "duration": 2,
    "start_time": "2022-05-04T11:06:21.403Z"
   },
   {
    "duration": 7449,
    "start_time": "2022-05-04T11:06:21.969Z"
   },
   {
    "duration": 4,
    "start_time": "2022-05-04T11:06:29.420Z"
   },
   {
    "duration": 9,
    "start_time": "2022-05-04T11:09:26.121Z"
   },
   {
    "duration": 6,
    "start_time": "2022-05-04T11:09:27.209Z"
   },
   {
    "duration": 10,
    "start_time": "2022-05-04T11:09:27.930Z"
   },
   {
    "duration": 3,
    "start_time": "2022-05-04T11:09:28.535Z"
   },
   {
    "duration": 5,
    "start_time": "2022-05-04T11:09:29.845Z"
   },
   {
    "duration": 4,
    "start_time": "2022-05-04T11:09:30.477Z"
   },
   {
    "duration": 10,
    "start_time": "2022-05-04T11:18:12.513Z"
   },
   {
    "duration": 1545,
    "start_time": "2022-05-04T11:18:36.406Z"
   },
   {
    "duration": 46,
    "start_time": "2022-05-04T11:18:37.953Z"
   },
   {
    "duration": 11,
    "start_time": "2022-05-04T11:18:38.000Z"
   },
   {
    "duration": 8,
    "start_time": "2022-05-04T11:18:38.013Z"
   },
   {
    "duration": 305,
    "start_time": "2022-05-04T11:18:38.023Z"
   },
   {
    "duration": 3177,
    "start_time": "2022-05-04T11:18:38.330Z"
   },
   {
    "duration": 95,
    "start_time": "2022-05-04T11:18:41.509Z"
   },
   {
    "duration": 20,
    "start_time": "2022-05-04T11:18:41.699Z"
   },
   {
    "duration": 21,
    "start_time": "2022-05-04T11:18:41.721Z"
   },
   {
    "duration": 9,
    "start_time": "2022-05-04T11:18:41.745Z"
   },
   {
    "duration": 7,
    "start_time": "2022-05-04T11:18:41.756Z"
   },
   {
    "duration": 14,
    "start_time": "2022-05-04T11:18:41.765Z"
   },
   {
    "duration": 21,
    "start_time": "2022-05-04T11:18:41.780Z"
   },
   {
    "duration": 7,
    "start_time": "2022-05-04T11:18:41.803Z"
   },
   {
    "duration": 6,
    "start_time": "2022-05-04T11:18:41.812Z"
   },
   {
    "duration": 10,
    "start_time": "2022-05-04T11:18:41.820Z"
   },
   {
    "duration": 79,
    "start_time": "2022-05-04T11:18:41.832Z"
   },
   {
    "duration": 9,
    "start_time": "2022-05-04T11:18:41.913Z"
   },
   {
    "duration": 5,
    "start_time": "2022-05-04T11:18:41.924Z"
   },
   {
    "duration": 2305,
    "start_time": "2022-05-04T11:18:42.000Z"
   },
   {
    "duration": 12,
    "start_time": "2022-05-04T11:18:44.307Z"
   },
   {
    "duration": 3,
    "start_time": "2022-05-04T11:18:44.321Z"
   },
   {
    "duration": 74,
    "start_time": "2022-05-04T11:18:44.326Z"
   },
   {
    "duration": 1684,
    "start_time": "2022-05-04T11:18:44.402Z"
   },
   {
    "duration": 5,
    "start_time": "2022-05-04T11:18:46.088Z"
   },
   {
    "duration": 106,
    "start_time": "2022-05-04T11:20:07.986Z"
   },
   {
    "duration": 10,
    "start_time": "2022-05-04T11:20:44.742Z"
   },
   {
    "duration": 2,
    "start_time": "2022-05-04T11:20:52.627Z"
   },
   {
    "duration": 2,
    "start_time": "2022-05-04T11:20:53.081Z"
   },
   {
    "duration": 2498,
    "start_time": "2022-05-04T11:20:53.619Z"
   },
   {
    "duration": 10,
    "start_time": "2022-05-04T11:20:56.119Z"
   },
   {
    "duration": 11,
    "start_time": "2022-05-04T11:21:53.703Z"
   },
   {
    "duration": 4,
    "start_time": "2022-05-04T11:22:09.674Z"
   },
   {
    "duration": 11,
    "start_time": "2022-05-04T11:22:39.532Z"
   },
   {
    "duration": 9,
    "start_time": "2022-05-04T11:23:11.667Z"
   },
   {
    "duration": 4,
    "start_time": "2022-05-04T11:23:19.903Z"
   },
   {
    "duration": 4,
    "start_time": "2022-05-04T11:23:20.304Z"
   },
   {
    "duration": 3064,
    "start_time": "2022-05-04T11:23:20.939Z"
   },
   {
    "duration": 11,
    "start_time": "2022-05-04T11:23:25.672Z"
   },
   {
    "duration": 2,
    "start_time": "2022-05-04T11:23:27.232Z"
   },
   {
    "duration": 3,
    "start_time": "2022-05-04T11:23:27.647Z"
   },
   {
    "duration": 1613,
    "start_time": "2022-05-04T11:23:28.147Z"
   },
   {
    "duration": 4,
    "start_time": "2022-05-04T11:23:29.762Z"
   },
   {
    "duration": 352,
    "start_time": "2022-05-04T11:26:21.283Z"
   },
   {
    "duration": 99,
    "start_time": "2022-05-04T11:57:49.745Z"
   },
   {
    "duration": 4,
    "start_time": "2022-05-04T11:58:31.807Z"
   },
   {
    "duration": 1582,
    "start_time": "2022-05-04T11:58:39.389Z"
   },
   {
    "duration": 59,
    "start_time": "2022-05-04T11:58:40.973Z"
   },
   {
    "duration": 9,
    "start_time": "2022-05-04T11:58:41.034Z"
   },
   {
    "duration": 7,
    "start_time": "2022-05-04T11:58:41.045Z"
   },
   {
    "duration": 322,
    "start_time": "2022-05-04T11:58:41.054Z"
   },
   {
    "duration": 1624,
    "start_time": "2022-05-04T11:58:41.378Z"
   },
   {
    "duration": 6,
    "start_time": "2022-05-04T11:58:43.004Z"
   },
   {
    "duration": 10,
    "start_time": "2022-05-04T11:58:43.101Z"
   },
   {
    "duration": 14,
    "start_time": "2022-05-04T11:58:43.112Z"
   },
   {
    "duration": 7,
    "start_time": "2022-05-04T11:58:43.128Z"
   },
   {
    "duration": 5,
    "start_time": "2022-05-04T11:58:43.136Z"
   },
   {
    "duration": 12,
    "start_time": "2022-05-04T11:58:43.143Z"
   },
   {
    "duration": 4,
    "start_time": "2022-05-04T11:58:43.156Z"
   },
   {
    "duration": 41,
    "start_time": "2022-05-04T11:58:43.161Z"
   },
   {
    "duration": 8,
    "start_time": "2022-05-04T11:58:43.204Z"
   },
   {
    "duration": 4,
    "start_time": "2022-05-04T11:58:43.213Z"
   },
   {
    "duration": 83,
    "start_time": "2022-05-04T11:58:43.219Z"
   },
   {
    "duration": 6,
    "start_time": "2022-05-04T11:58:43.303Z"
   },
   {
    "duration": 7,
    "start_time": "2022-05-04T11:58:43.310Z"
   },
   {
    "duration": 191,
    "start_time": "2022-05-04T11:58:43.319Z"
   },
   {
    "duration": 93,
    "start_time": "2022-05-04T11:58:43.511Z"
   },
   {
    "duration": 5,
    "start_time": "2022-05-04T11:58:43.606Z"
   },
   {
    "duration": 5,
    "start_time": "2022-05-04T11:58:43.612Z"
   },
   {
    "duration": 1833,
    "start_time": "2022-05-04T11:58:43.619Z"
   },
   {
    "duration": 4,
    "start_time": "2022-05-04T11:58:45.454Z"
   },
   {
    "duration": 192,
    "start_time": "2022-05-04T11:58:45.460Z"
   },
   {
    "duration": 5,
    "start_time": "2022-05-04T12:00:41.106Z"
   },
   {
    "duration": 5,
    "start_time": "2022-05-04T12:00:41.909Z"
   },
   {
    "duration": 155,
    "start_time": "2022-05-04T12:01:13.346Z"
   },
   {
    "duration": 9,
    "start_time": "2022-05-04T12:01:16.958Z"
   },
   {
    "duration": 3,
    "start_time": "2022-05-04T12:01:25.168Z"
   },
   {
    "duration": 3,
    "start_time": "2022-05-04T12:01:25.737Z"
   },
   {
    "duration": 110,
    "start_time": "2022-05-04T12:01:26.391Z"
   },
   {
    "duration": 9,
    "start_time": "2022-05-04T12:01:32.349Z"
   },
   {
    "duration": 8,
    "start_time": "2022-05-04T12:01:48.971Z"
   },
   {
    "duration": 9,
    "start_time": "2022-05-04T12:02:24.070Z"
   },
   {
    "duration": 9,
    "start_time": "2022-05-04T12:02:35.524Z"
   },
   {
    "duration": 3,
    "start_time": "2022-05-04T12:02:43.488Z"
   },
   {
    "duration": 3,
    "start_time": "2022-05-04T12:02:43.983Z"
   },
   {
    "duration": 3307,
    "start_time": "2022-05-04T12:02:44.695Z"
   },
   {
    "duration": 4,
    "start_time": "2022-05-04T12:02:48.004Z"
   },
   {
    "duration": 3,
    "start_time": "2022-05-04T12:04:42.885Z"
   },
   {
    "duration": 3,
    "start_time": "2022-05-04T12:04:43.351Z"
   },
   {
    "duration": 90,
    "start_time": "2022-05-04T12:04:44.015Z"
   },
   {
    "duration": 11,
    "start_time": "2022-05-04T12:04:49.043Z"
   },
   {
    "duration": 3,
    "start_time": "2022-05-04T12:04:55.776Z"
   },
   {
    "duration": 32,
    "start_time": "2022-05-04T12:04:56.777Z"
   },
   {
    "duration": 2,
    "start_time": "2022-05-04T12:05:20.535Z"
   },
   {
    "duration": 110,
    "start_time": "2022-05-04T12:05:21.196Z"
   },
   {
    "duration": 12,
    "start_time": "2022-05-04T12:05:25.031Z"
   },
   {
    "duration": 2,
    "start_time": "2022-05-04T12:05:41.856Z"
   },
   {
    "duration": 2,
    "start_time": "2022-05-04T12:05:42.494Z"
   },
   {
    "duration": 1884,
    "start_time": "2022-05-04T12:05:43.113Z"
   },
   {
    "duration": 5,
    "start_time": "2022-05-04T12:05:47.370Z"
   },
   {
    "duration": 3,
    "start_time": "2022-05-04T12:05:54.439Z"
   },
   {
    "duration": 3,
    "start_time": "2022-05-04T12:05:54.926Z"
   },
   {
    "duration": 1793,
    "start_time": "2022-05-04T12:05:55.379Z"
   },
   {
    "duration": 5,
    "start_time": "2022-05-04T12:05:58.235Z"
   },
   {
    "duration": 3,
    "start_time": "2022-05-04T12:06:04.638Z"
   },
   {
    "duration": 3,
    "start_time": "2022-05-04T12:06:05.181Z"
   },
   {
    "duration": 1832,
    "start_time": "2022-05-04T12:06:05.666Z"
   },
   {
    "duration": 5,
    "start_time": "2022-05-04T12:06:10.387Z"
   },
   {
    "duration": 3,
    "start_time": "2022-05-04T12:06:30.041Z"
   },
   {
    "duration": 19,
    "start_time": "2022-05-04T12:06:30.619Z"
   },
   {
    "duration": 7,
    "start_time": "2022-05-04T12:06:34.950Z"
   },
   {
    "duration": 3,
    "start_time": "2022-05-04T12:06:43.455Z"
   },
   {
    "duration": 3,
    "start_time": "2022-05-04T12:06:44.065Z"
   },
   {
    "duration": 85,
    "start_time": "2022-05-04T12:06:44.723Z"
   },
   {
    "duration": 8,
    "start_time": "2022-05-04T12:06:47.643Z"
   },
   {
    "duration": 17,
    "start_time": "2022-05-04T12:11:08.958Z"
   },
   {
    "duration": 98,
    "start_time": "2022-05-04T12:11:10.168Z"
   },
   {
    "duration": 10,
    "start_time": "2022-05-04T12:11:12.934Z"
   },
   {
    "duration": 6,
    "start_time": "2022-05-04T12:11:13.775Z"
   },
   {
    "duration": 12,
    "start_time": "2022-05-04T12:11:14.464Z"
   },
   {
    "duration": 4,
    "start_time": "2022-05-04T12:11:15.165Z"
   },
   {
    "duration": 53,
    "start_time": "2022-05-04T12:11:17.250Z"
   },
   {
    "duration": 5,
    "start_time": "2022-05-04T12:11:18.802Z"
   },
   {
    "duration": 7,
    "start_time": "2022-05-04T12:11:20.845Z"
   },
   {
    "duration": 5,
    "start_time": "2022-05-04T12:11:21.976Z"
   },
   {
    "duration": 3,
    "start_time": "2022-05-04T12:11:24.418Z"
   },
   {
    "duration": 3,
    "start_time": "2022-05-04T12:11:25.270Z"
   },
   {
    "duration": 1365,
    "start_time": "2022-05-04T12:11:27.742Z"
   },
   {
    "duration": 9,
    "start_time": "2022-05-04T12:11:32.454Z"
   },
   {
    "duration": 3,
    "start_time": "2022-05-04T12:11:35.689Z"
   },
   {
    "duration": 3,
    "start_time": "2022-05-04T12:11:36.344Z"
   },
   {
    "duration": 2163,
    "start_time": "2022-05-04T12:11:37.056Z"
   },
   {
    "duration": 5,
    "start_time": "2022-05-04T12:11:41.456Z"
   },
   {
    "duration": 11,
    "start_time": "2022-05-04T12:12:39.620Z"
   },
   {
    "duration": 21,
    "start_time": "2022-05-04T12:12:40.349Z"
   },
   {
    "duration": 9,
    "start_time": "2022-05-04T12:12:41.577Z"
   },
   {
    "duration": 6,
    "start_time": "2022-05-04T12:12:42.448Z"
   },
   {
    "duration": 12,
    "start_time": "2022-05-04T12:12:42.974Z"
   },
   {
    "duration": 4,
    "start_time": "2022-05-04T12:12:43.561Z"
   },
   {
    "duration": 208,
    "start_time": "2022-05-04T12:12:45.297Z"
   },
   {
    "duration": 5,
    "start_time": "2022-05-04T12:12:46.038Z"
   },
   {
    "duration": 4,
    "start_time": "2022-05-04T12:12:47.344Z"
   },
   {
    "duration": 4,
    "start_time": "2022-05-04T12:12:47.933Z"
   },
   {
    "duration": 2,
    "start_time": "2022-05-04T12:12:49.130Z"
   },
   {
    "duration": 3,
    "start_time": "2022-05-04T12:12:49.836Z"
   },
   {
    "duration": 100,
    "start_time": "2022-05-04T12:12:51.112Z"
   },
   {
    "duration": 9,
    "start_time": "2022-05-04T12:12:52.662Z"
   },
   {
    "duration": 2,
    "start_time": "2022-05-04T12:12:56.078Z"
   },
   {
    "duration": 3,
    "start_time": "2022-05-04T12:12:56.656Z"
   },
   {
    "duration": 1920,
    "start_time": "2022-05-04T12:12:57.324Z"
   },
   {
    "duration": 4,
    "start_time": "2022-05-04T12:13:01.567Z"
   },
   {
    "duration": 4,
    "start_time": "2022-05-04T12:13:21.212Z"
   },
   {
    "duration": 3,
    "start_time": "2022-05-04T12:13:21.583Z"
   },
   {
    "duration": 1389,
    "start_time": "2022-05-04T12:13:22.214Z"
   },
   {
    "duration": 11,
    "start_time": "2022-05-04T12:13:25.531Z"
   },
   {
    "duration": 3,
    "start_time": "2022-05-04T12:13:36.324Z"
   },
   {
    "duration": 3,
    "start_time": "2022-05-04T12:13:36.892Z"
   },
   {
    "duration": 2600,
    "start_time": "2022-05-04T12:13:37.615Z"
   },
   {
    "duration": 5,
    "start_time": "2022-05-04T12:13:41.271Z"
   },
   {
    "duration": 11,
    "start_time": "2022-05-04T12:13:52.674Z"
   },
   {
    "duration": 20,
    "start_time": "2022-05-04T12:13:53.521Z"
   },
   {
    "duration": 9,
    "start_time": "2022-05-04T12:13:54.342Z"
   },
   {
    "duration": 7,
    "start_time": "2022-05-04T12:13:55.012Z"
   },
   {
    "duration": 13,
    "start_time": "2022-05-04T12:13:55.732Z"
   },
   {
    "duration": 4,
    "start_time": "2022-05-04T12:13:56.325Z"
   },
   {
    "duration": 11,
    "start_time": "2022-05-04T12:13:57.365Z"
   },
   {
    "duration": 5,
    "start_time": "2022-05-04T12:13:58.016Z"
   },
   {
    "duration": 4,
    "start_time": "2022-05-04T12:13:59.338Z"
   },
   {
    "duration": 7,
    "start_time": "2022-05-04T12:13:59.898Z"
   },
   {
    "duration": 3,
    "start_time": "2022-05-04T12:14:01.055Z"
   },
   {
    "duration": 3,
    "start_time": "2022-05-04T12:14:01.726Z"
   },
   {
    "duration": 44,
    "start_time": "2022-05-04T12:14:06.369Z"
   },
   {
    "duration": 12,
    "start_time": "2022-05-04T12:14:09.790Z"
   },
   {
    "duration": 3,
    "start_time": "2022-05-04T12:14:11.557Z"
   },
   {
    "duration": 3,
    "start_time": "2022-05-04T12:14:12.184Z"
   },
   {
    "duration": 2273,
    "start_time": "2022-05-04T12:14:12.848Z"
   },
   {
    "duration": 5,
    "start_time": "2022-05-04T12:14:16.853Z"
   },
   {
    "duration": 13,
    "start_time": "2022-05-04T12:14:24.812Z"
   },
   {
    "duration": 24,
    "start_time": "2022-05-04T12:14:26.123Z"
   },
   {
    "duration": 9,
    "start_time": "2022-05-04T12:14:27.010Z"
   },
   {
    "duration": 6,
    "start_time": "2022-05-04T12:14:27.659Z"
   },
   {
    "duration": 14,
    "start_time": "2022-05-04T12:14:28.329Z"
   },
   {
    "duration": 4,
    "start_time": "2022-05-04T12:14:28.877Z"
   },
   {
    "duration": 148,
    "start_time": "2022-05-04T12:14:30.066Z"
   },
   {
    "duration": 6,
    "start_time": "2022-05-04T12:14:30.992Z"
   },
   {
    "duration": 4,
    "start_time": "2022-05-04T12:14:32.634Z"
   },
   {
    "duration": 5,
    "start_time": "2022-05-04T12:14:33.293Z"
   },
   {
    "duration": 3,
    "start_time": "2022-05-04T12:14:34.435Z"
   },
   {
    "duration": 3,
    "start_time": "2022-05-04T12:14:35.088Z"
   },
   {
    "duration": 5348,
    "start_time": "2022-05-04T12:14:36.754Z"
   },
   {
    "duration": 9,
    "start_time": "2022-05-04T12:14:42.105Z"
   },
   {
    "duration": 2,
    "start_time": "2022-05-04T12:14:47.115Z"
   },
   {
    "duration": 3,
    "start_time": "2022-05-04T12:14:47.612Z"
   },
   {
    "duration": 5891,
    "start_time": "2022-05-04T12:14:48.195Z"
   },
   {
    "duration": 6,
    "start_time": "2022-05-04T12:14:54.417Z"
   },
   {
    "duration": 2,
    "start_time": "2022-05-04T12:16:10.396Z"
   },
   {
    "duration": 3,
    "start_time": "2022-05-04T12:16:11.214Z"
   },
   {
    "duration": 2752,
    "start_time": "2022-05-04T12:16:11.794Z"
   },
   {
    "duration": 5,
    "start_time": "2022-05-04T12:16:18.076Z"
   },
   {
    "duration": 2,
    "start_time": "2022-05-04T12:16:36.961Z"
   },
   {
    "duration": 4,
    "start_time": "2022-05-04T12:16:37.513Z"
   },
   {
    "duration": 2628,
    "start_time": "2022-05-04T12:16:38.097Z"
   },
   {
    "duration": 5,
    "start_time": "2022-05-04T12:16:43.960Z"
   },
   {
    "duration": 2,
    "start_time": "2022-05-04T12:16:51.247Z"
   },
   {
    "duration": 2,
    "start_time": "2022-05-04T12:16:51.712Z"
   },
   {
    "duration": 2734,
    "start_time": "2022-05-04T12:16:52.192Z"
   },
   {
    "duration": 4,
    "start_time": "2022-05-04T12:16:54.928Z"
   },
   {
    "duration": 3,
    "start_time": "2022-05-04T12:17:15.963Z"
   },
   {
    "duration": 4,
    "start_time": "2022-05-04T12:17:16.599Z"
   },
   {
    "duration": 2742,
    "start_time": "2022-05-04T12:17:17.170Z"
   },
   {
    "duration": 5,
    "start_time": "2022-05-04T12:17:19.914Z"
   },
   {
    "duration": 3,
    "start_time": "2022-05-04T12:17:32.498Z"
   },
   {
    "duration": 3,
    "start_time": "2022-05-04T12:17:32.914Z"
   },
   {
    "duration": 2140,
    "start_time": "2022-05-04T12:17:33.456Z"
   },
   {
    "duration": 4,
    "start_time": "2022-05-04T12:17:38.580Z"
   },
   {
    "duration": 3,
    "start_time": "2022-05-04T12:17:47.718Z"
   },
   {
    "duration": 2,
    "start_time": "2022-05-04T12:17:48.184Z"
   },
   {
    "duration": 2917,
    "start_time": "2022-05-04T12:17:48.666Z"
   },
   {
    "duration": 4,
    "start_time": "2022-05-04T12:17:55.293Z"
   },
   {
    "duration": 3,
    "start_time": "2022-05-04T12:18:09.792Z"
   },
   {
    "duration": 2,
    "start_time": "2022-05-04T12:18:10.456Z"
   },
   {
    "duration": 2512,
    "start_time": "2022-05-04T12:18:11.015Z"
   },
   {
    "duration": 6,
    "start_time": "2022-05-04T12:18:16.533Z"
   },
   {
    "duration": 4,
    "start_time": "2022-05-04T12:18:40.961Z"
   },
   {
    "duration": 83,
    "start_time": "2022-05-04T12:18:41.621Z"
   },
   {
    "duration": 9,
    "start_time": "2022-05-04T12:18:44.528Z"
   },
   {
    "duration": 3,
    "start_time": "2022-05-04T12:18:58.952Z"
   },
   {
    "duration": 1488,
    "start_time": "2022-05-04T12:18:59.517Z"
   },
   {
    "duration": 94,
    "start_time": "2022-05-04T12:19:01.009Z"
   },
   {
    "duration": 10,
    "start_time": "2022-05-04T12:21:01.625Z"
   },
   {
    "duration": 4,
    "start_time": "2022-05-04T12:25:30.316Z"
   },
   {
    "duration": 3,
    "start_time": "2022-05-04T12:25:30.822Z"
   },
   {
    "duration": 162,
    "start_time": "2022-05-04T12:25:35.839Z"
   },
   {
    "duration": 4,
    "start_time": "2022-05-04T12:25:36.730Z"
   },
   {
    "duration": 3,
    "start_time": "2022-05-04T12:25:37.332Z"
   },
   {
    "duration": 6,
    "start_time": "2022-05-04T12:27:02.227Z"
   },
   {
    "duration": 3,
    "start_time": "2022-05-04T12:27:02.770Z"
   },
   {
    "duration": 9,
    "start_time": "2022-05-04T12:27:16.379Z"
   },
   {
    "duration": 5,
    "start_time": "2022-05-04T12:27:18.272Z"
   },
   {
    "duration": 4,
    "start_time": "2022-05-04T12:27:18.751Z"
   },
   {
    "duration": 9,
    "start_time": "2022-05-04T12:28:18.584Z"
   },
   {
    "duration": 5,
    "start_time": "2022-05-04T12:29:03.093Z"
   },
   {
    "duration": 8,
    "start_time": "2022-05-04T12:31:39.991Z"
   },
   {
    "duration": 98,
    "start_time": "2022-05-04T12:33:11.351Z"
   },
   {
    "duration": 104,
    "start_time": "2022-05-04T12:33:50.609Z"
   },
   {
    "duration": 98,
    "start_time": "2022-05-04T12:34:53.789Z"
   },
   {
    "duration": 9,
    "start_time": "2022-05-04T12:35:34.582Z"
   },
   {
    "duration": 97,
    "start_time": "2022-05-04T12:36:47.882Z"
   },
   {
    "duration": 3906,
    "start_time": "2022-05-04T12:37:02.905Z"
   },
   {
    "duration": 3302,
    "start_time": "2022-05-04T12:37:18.294Z"
   },
   {
    "duration": 4,
    "start_time": "2022-05-04T12:37:39.145Z"
   },
   {
    "duration": 203,
    "start_time": "2022-05-04T12:38:31.840Z"
   },
   {
    "duration": 95,
    "start_time": "2022-05-04T12:39:13.142Z"
   },
   {
    "duration": 232,
    "start_time": "2022-05-04T12:41:35.965Z"
   },
   {
    "duration": 85,
    "start_time": "2022-05-04T12:41:42.160Z"
   },
   {
    "duration": 68,
    "start_time": "2022-05-05T03:58:10.021Z"
   },
   {
    "duration": 2341,
    "start_time": "2022-05-05T03:58:17.084Z"
   },
   {
    "duration": 75,
    "start_time": "2022-05-05T03:58:19.428Z"
   },
   {
    "duration": 16,
    "start_time": "2022-05-05T03:58:19.505Z"
   },
   {
    "duration": 9,
    "start_time": "2022-05-05T03:58:19.524Z"
   },
   {
    "duration": 561,
    "start_time": "2022-05-05T03:58:19.535Z"
   },
   {
    "duration": 2403,
    "start_time": "2022-05-05T03:58:20.098Z"
   },
   {
    "duration": 98,
    "start_time": "2022-05-05T03:58:22.596Z"
   },
   {
    "duration": 38,
    "start_time": "2022-05-05T03:58:22.696Z"
   },
   {
    "duration": 63,
    "start_time": "2022-05-05T03:58:22.736Z"
   },
   {
    "duration": 15,
    "start_time": "2022-05-05T03:58:22.803Z"
   },
   {
    "duration": 8,
    "start_time": "2022-05-05T03:58:22.820Z"
   },
   {
    "duration": 24,
    "start_time": "2022-05-05T03:58:22.830Z"
   },
   {
    "duration": 38,
    "start_time": "2022-05-05T03:58:22.856Z"
   },
   {
    "duration": 197,
    "start_time": "2022-05-05T03:58:22.896Z"
   },
   {
    "duration": 7,
    "start_time": "2022-05-05T03:58:23.097Z"
   },
   {
    "duration": 91,
    "start_time": "2022-05-05T03:58:23.107Z"
   },
   {
    "duration": 10,
    "start_time": "2022-05-05T03:58:23.200Z"
   },
   {
    "duration": 5,
    "start_time": "2022-05-05T03:58:23.212Z"
   },
   {
    "duration": 7,
    "start_time": "2022-05-05T03:58:23.219Z"
   },
   {
    "duration": 6,
    "start_time": "2022-05-05T03:58:23.228Z"
   },
   {
    "duration": 464,
    "start_time": "2022-05-05T03:58:23.236Z"
   },
   {
    "duration": 98,
    "start_time": "2022-05-05T03:58:23.703Z"
   },
   {
    "duration": 4,
    "start_time": "2022-05-05T03:58:23.803Z"
   },
   {
    "duration": 7,
    "start_time": "2022-05-05T03:58:23.809Z"
   },
   {
    "duration": 2901,
    "start_time": "2022-05-05T03:58:23.818Z"
   },
   {
    "duration": 7,
    "start_time": "2022-05-05T03:58:26.721Z"
   },
   {
    "duration": 12,
    "start_time": "2022-05-05T03:58:26.730Z"
   },
   {
    "duration": 223,
    "start_time": "2022-05-05T03:58:26.746Z"
   },
   {
    "duration": 166,
    "start_time": "2022-05-05T04:02:26.153Z"
   },
   {
    "duration": 113,
    "start_time": "2022-05-05T04:02:59.774Z"
   },
   {
    "duration": 15,
    "start_time": "2022-05-05T04:03:03.776Z"
   },
   {
    "duration": 3622,
    "start_time": "2022-05-05T04:07:17.645Z"
   },
   {
    "duration": 175,
    "start_time": "2022-05-05T04:07:49.765Z"
   },
   {
    "duration": 177,
    "start_time": "2022-05-05T04:08:14.006Z"
   },
   {
    "duration": 187,
    "start_time": "2022-05-05T04:08:48.206Z"
   },
   {
    "duration": 219,
    "start_time": "2022-05-05T04:09:44.738Z"
   },
   {
    "duration": 209,
    "start_time": "2022-05-05T04:10:14.078Z"
   },
   {
    "duration": 202,
    "start_time": "2022-05-05T04:10:44.245Z"
   },
   {
    "duration": 110,
    "start_time": "2022-05-05T04:11:17.638Z"
   },
   {
    "duration": 196,
    "start_time": "2022-05-05T04:11:44.921Z"
   },
   {
    "duration": 3482,
    "start_time": "2022-05-05T04:13:06.129Z"
   },
   {
    "duration": 17,
    "start_time": "2022-05-05T04:18:54.167Z"
   },
   {
    "duration": 35,
    "start_time": "2022-05-05T04:18:54.696Z"
   },
   {
    "duration": 12,
    "start_time": "2022-05-05T04:18:55.376Z"
   },
   {
    "duration": 8,
    "start_time": "2022-05-05T04:18:55.953Z"
   },
   {
    "duration": 17,
    "start_time": "2022-05-05T04:18:56.632Z"
   },
   {
    "duration": 5,
    "start_time": "2022-05-05T04:18:57.122Z"
   },
   {
    "duration": 106,
    "start_time": "2022-05-05T04:18:58.388Z"
   },
   {
    "duration": 6,
    "start_time": "2022-05-05T04:18:59.155Z"
   },
   {
    "duration": 5,
    "start_time": "2022-05-05T04:18:59.633Z"
   },
   {
    "duration": 7,
    "start_time": "2022-05-05T04:19:00.864Z"
   },
   {
    "duration": 5,
    "start_time": "2022-05-05T04:19:01.367Z"
   },
   {
    "duration": 4,
    "start_time": "2022-05-05T04:19:02.713Z"
   },
   {
    "duration": 4,
    "start_time": "2022-05-05T04:19:03.277Z"
   },
   {
    "duration": 186,
    "start_time": "2022-05-05T04:19:04.010Z"
   },
   {
    "duration": 13,
    "start_time": "2022-05-05T04:19:05.158Z"
   },
   {
    "duration": 4,
    "start_time": "2022-05-05T04:19:07.240Z"
   },
   {
    "duration": 5,
    "start_time": "2022-05-05T04:19:07.981Z"
   },
   {
    "duration": 2466,
    "start_time": "2022-05-05T04:19:08.611Z"
   },
   {
    "duration": 7,
    "start_time": "2022-05-05T04:19:13.932Z"
   },
   {
    "duration": 19,
    "start_time": "2022-05-05T04:19:40.552Z"
   },
   {
    "duration": 33,
    "start_time": "2022-05-05T04:19:41.318Z"
   },
   {
    "duration": 13,
    "start_time": "2022-05-05T04:19:41.854Z"
   },
   {
    "duration": 9,
    "start_time": "2022-05-05T04:19:42.451Z"
   },
   {
    "duration": 18,
    "start_time": "2022-05-05T04:19:42.924Z"
   },
   {
    "duration": 5,
    "start_time": "2022-05-05T04:19:43.381Z"
   },
   {
    "duration": 88,
    "start_time": "2022-05-05T04:19:44.308Z"
   },
   {
    "duration": 5,
    "start_time": "2022-05-05T04:19:44.727Z"
   },
   {
    "duration": 5,
    "start_time": "2022-05-05T04:19:45.242Z"
   },
   {
    "duration": 8,
    "start_time": "2022-05-05T04:19:46.314Z"
   },
   {
    "duration": 4,
    "start_time": "2022-05-05T04:19:46.807Z"
   },
   {
    "duration": 5,
    "start_time": "2022-05-05T04:19:47.877Z"
   },
   {
    "duration": 4,
    "start_time": "2022-05-05T04:19:48.349Z"
   },
   {
    "duration": 122,
    "start_time": "2022-05-05T04:19:48.879Z"
   },
   {
    "duration": 11,
    "start_time": "2022-05-05T04:19:49.558Z"
   },
   {
    "duration": 4,
    "start_time": "2022-05-05T04:19:51.099Z"
   },
   {
    "duration": 5,
    "start_time": "2022-05-05T04:19:51.757Z"
   },
   {
    "duration": 2428,
    "start_time": "2022-05-05T04:19:52.495Z"
   },
   {
    "duration": 8,
    "start_time": "2022-05-05T04:19:54.926Z"
   },
   {
    "duration": 5,
    "start_time": "2022-05-05T04:20:06.284Z"
   },
   {
    "duration": 4,
    "start_time": "2022-05-05T04:20:06.812Z"
   },
   {
    "duration": 4198,
    "start_time": "2022-05-05T04:20:07.362Z"
   },
   {
    "duration": 7,
    "start_time": "2022-05-05T04:20:11.562Z"
   },
   {
    "duration": 19,
    "start_time": "2022-05-05T04:20:19.207Z"
   },
   {
    "duration": 33,
    "start_time": "2022-05-05T04:20:19.672Z"
   },
   {
    "duration": 12,
    "start_time": "2022-05-05T04:20:20.216Z"
   },
   {
    "duration": 9,
    "start_time": "2022-05-05T04:20:20.809Z"
   },
   {
    "duration": 19,
    "start_time": "2022-05-05T04:20:21.391Z"
   },
   {
    "duration": 7,
    "start_time": "2022-05-05T04:20:21.944Z"
   },
   {
    "duration": 101,
    "start_time": "2022-05-05T04:20:23.101Z"
   },
   {
    "duration": 6,
    "start_time": "2022-05-05T04:20:23.638Z"
   },
   {
    "duration": 5,
    "start_time": "2022-05-05T04:20:24.039Z"
   },
   {
    "duration": 7,
    "start_time": "2022-05-05T04:20:24.984Z"
   },
   {
    "duration": 5,
    "start_time": "2022-05-05T04:20:26.781Z"
   },
   {
    "duration": 6,
    "start_time": "2022-05-05T04:20:26.789Z"
   },
   {
    "duration": 4,
    "start_time": "2022-05-05T04:20:26.871Z"
   },
   {
    "duration": 190,
    "start_time": "2022-05-05T04:20:27.712Z"
   },
   {
    "duration": 11,
    "start_time": "2022-05-05T04:20:29.197Z"
   },
   {
    "duration": 4,
    "start_time": "2022-05-05T04:20:30.605Z"
   },
   {
    "duration": 4,
    "start_time": "2022-05-05T04:20:31.332Z"
   },
   {
    "duration": 2553,
    "start_time": "2022-05-05T04:20:32.032Z"
   },
   {
    "duration": 7,
    "start_time": "2022-05-05T04:20:34.587Z"
   },
   {
    "duration": 12,
    "start_time": "2022-05-05T04:20:40.674Z"
   },
   {
    "duration": 3668,
    "start_time": "2022-05-05T04:20:48.418Z"
   },
   {
    "duration": 185,
    "start_time": "2022-05-05T04:22:00.447Z"
   },
   {
    "duration": 196,
    "start_time": "2022-05-05T04:22:11.961Z"
   },
   {
    "duration": 186,
    "start_time": "2022-05-05T04:22:54.919Z"
   },
   {
    "duration": 187,
    "start_time": "2022-05-05T04:23:02.878Z"
   },
   {
    "duration": 18,
    "start_time": "2022-05-05T04:25:23.103Z"
   },
   {
    "duration": 18,
    "start_time": "2022-05-05T04:25:35.753Z"
   },
   {
    "duration": 351,
    "start_time": "2022-05-05T04:26:44.954Z"
   },
   {
    "duration": 144,
    "start_time": "2022-05-05T04:27:04.374Z"
   },
   {
    "duration": 126,
    "start_time": "2022-05-05T04:27:26.735Z"
   },
   {
    "duration": 140,
    "start_time": "2022-05-05T04:27:50.759Z"
   },
   {
    "duration": 153,
    "start_time": "2022-05-05T04:28:23.191Z"
   },
   {
    "duration": 188,
    "start_time": "2022-05-05T04:28:50.576Z"
   },
   {
    "duration": 151,
    "start_time": "2022-05-05T04:29:05.956Z"
   },
   {
    "duration": 148,
    "start_time": "2022-05-05T04:32:12.211Z"
   },
   {
    "duration": 153,
    "start_time": "2022-05-05T04:33:29.315Z"
   },
   {
    "duration": 176,
    "start_time": "2022-05-05T04:35:07.785Z"
   },
   {
    "duration": 153,
    "start_time": "2022-05-05T04:35:30.615Z"
   },
   {
    "duration": 159,
    "start_time": "2022-05-05T04:35:41.054Z"
   },
   {
    "duration": 172,
    "start_time": "2022-05-05T04:35:55.392Z"
   },
   {
    "duration": 257,
    "start_time": "2022-05-05T04:37:42.687Z"
   },
   {
    "duration": 185,
    "start_time": "2022-05-05T04:39:01.373Z"
   },
   {
    "duration": 184,
    "start_time": "2022-05-05T04:40:45.866Z"
   },
   {
    "duration": 182,
    "start_time": "2022-05-05T04:41:05.753Z"
   },
   {
    "duration": 186,
    "start_time": "2022-05-05T04:41:21.656Z"
   },
   {
    "duration": 302,
    "start_time": "2022-05-05T04:41:44.326Z"
   },
   {
    "duration": 16,
    "start_time": "2022-05-05T04:42:14.100Z"
   },
   {
    "duration": 194,
    "start_time": "2022-05-05T04:42:27.656Z"
   },
   {
    "duration": 202,
    "start_time": "2022-05-05T04:42:43.691Z"
   },
   {
    "duration": 190,
    "start_time": "2022-05-05T04:43:38.875Z"
   },
   {
    "duration": 201,
    "start_time": "2022-05-05T04:44:15.497Z"
   },
   {
    "duration": 199,
    "start_time": "2022-05-05T04:44:43.106Z"
   },
   {
    "duration": 2021,
    "start_time": "2022-05-05T05:18:25.243Z"
   },
   {
    "duration": 63,
    "start_time": "2022-05-05T05:18:27.266Z"
   },
   {
    "duration": 14,
    "start_time": "2022-05-05T05:18:27.331Z"
   },
   {
    "duration": 11,
    "start_time": "2022-05-05T05:18:27.348Z"
   },
   {
    "duration": 546,
    "start_time": "2022-05-05T05:18:27.361Z"
   },
   {
    "duration": 2690,
    "start_time": "2022-05-05T05:18:27.909Z"
   },
   {
    "duration": 91,
    "start_time": "2022-05-05T05:18:30.603Z"
   },
   {
    "duration": 47,
    "start_time": "2022-05-05T05:18:30.696Z"
   },
   {
    "duration": 60,
    "start_time": "2022-05-05T05:18:30.745Z"
   },
   {
    "duration": 16,
    "start_time": "2022-05-05T05:18:30.809Z"
   },
   {
    "duration": 9,
    "start_time": "2022-05-05T05:18:30.827Z"
   },
   {
    "duration": 55,
    "start_time": "2022-05-05T05:18:30.838Z"
   },
   {
    "duration": 6,
    "start_time": "2022-05-05T05:18:30.895Z"
   },
   {
    "duration": 92,
    "start_time": "2022-05-05T05:18:30.903Z"
   },
   {
    "duration": 99,
    "start_time": "2022-05-05T05:18:30.998Z"
   },
   {
    "duration": 95,
    "start_time": "2022-05-05T05:18:31.100Z"
   },
   {
    "duration": 11,
    "start_time": "2022-05-05T05:18:31.197Z"
   },
   {
    "duration": 8,
    "start_time": "2022-05-05T05:18:31.211Z"
   },
   {
    "duration": 10,
    "start_time": "2022-05-05T05:18:31.221Z"
   },
   {
    "duration": 11,
    "start_time": "2022-05-05T05:18:31.233Z"
   },
   {
    "duration": 449,
    "start_time": "2022-05-05T05:18:31.247Z"
   },
   {
    "duration": 94,
    "start_time": "2022-05-05T05:18:31.699Z"
   },
   {
    "duration": 4,
    "start_time": "2022-05-05T05:18:31.796Z"
   },
   {
    "duration": 31,
    "start_time": "2022-05-05T05:18:31.802Z"
   },
   {
    "duration": 2428,
    "start_time": "2022-05-05T05:18:31.836Z"
   },
   {
    "duration": 8,
    "start_time": "2022-05-05T05:18:34.267Z"
   },
   {
    "duration": 28,
    "start_time": "2022-05-05T05:18:34.277Z"
   },
   {
    "duration": 222,
    "start_time": "2022-05-05T05:18:34.309Z"
   },
   {
    "duration": 1720,
    "start_time": "2022-05-05T21:44:12.745Z"
   },
   {
    "duration": 45,
    "start_time": "2022-05-05T21:44:14.467Z"
   },
   {
    "duration": 13,
    "start_time": "2022-05-05T21:44:14.514Z"
   },
   {
    "duration": 16,
    "start_time": "2022-05-05T21:44:14.530Z"
   },
   {
    "duration": 361,
    "start_time": "2022-05-05T21:44:14.548Z"
   },
   {
    "duration": 3563,
    "start_time": "2022-05-05T21:44:14.911Z"
   },
   {
    "duration": 6,
    "start_time": "2022-05-05T21:44:18.476Z"
   },
   {
    "duration": 114,
    "start_time": "2022-05-05T21:44:18.484Z"
   },
   {
    "duration": 26,
    "start_time": "2022-05-05T21:44:18.599Z"
   },
   {
    "duration": 14,
    "start_time": "2022-05-05T21:44:18.627Z"
   },
   {
    "duration": 7,
    "start_time": "2022-05-05T21:44:18.642Z"
   },
   {
    "duration": 14,
    "start_time": "2022-05-05T21:44:18.673Z"
   },
   {
    "duration": 4,
    "start_time": "2022-05-05T21:44:18.688Z"
   },
   {
    "duration": 83,
    "start_time": "2022-05-05T21:44:18.694Z"
   },
   {
    "duration": 194,
    "start_time": "2022-05-05T21:44:18.779Z"
   },
   {
    "duration": 4,
    "start_time": "2022-05-05T21:44:18.975Z"
   },
   {
    "duration": 11,
    "start_time": "2022-05-05T21:44:18.981Z"
   },
   {
    "duration": 5,
    "start_time": "2022-05-05T21:44:18.993Z"
   },
   {
    "duration": 7,
    "start_time": "2022-05-05T21:44:19.000Z"
   },
   {
    "duration": 6,
    "start_time": "2022-05-05T21:44:19.009Z"
   },
   {
    "duration": 16158,
    "start_time": "2022-05-05T21:44:19.017Z"
   },
   {
    "duration": 11,
    "start_time": "2022-05-05T21:44:35.177Z"
   },
   {
    "duration": 7,
    "start_time": "2022-05-05T21:44:35.189Z"
   },
   {
    "duration": 78,
    "start_time": "2022-05-05T21:44:35.197Z"
   },
   {
    "duration": 1620,
    "start_time": "2022-05-05T21:44:35.278Z"
   },
   {
    "duration": 5,
    "start_time": "2022-05-05T21:44:36.900Z"
   },
   {
    "duration": 10,
    "start_time": "2022-05-05T21:44:36.906Z"
   },
   {
    "duration": 129,
    "start_time": "2022-05-05T21:44:36.919Z"
   },
   {
    "duration": 43,
    "start_time": "2022-05-06T05:01:15.992Z"
   },
   {
    "duration": 1646,
    "start_time": "2022-05-06T05:03:37.955Z"
   },
   {
    "duration": 46,
    "start_time": "2022-05-06T05:03:39.603Z"
   },
   {
    "duration": 8,
    "start_time": "2022-05-06T05:03:39.651Z"
   },
   {
    "duration": 5,
    "start_time": "2022-05-06T05:03:39.661Z"
   },
   {
    "duration": 359,
    "start_time": "2022-05-06T05:03:39.668Z"
   },
   {
    "duration": 1773,
    "start_time": "2022-05-06T05:03:40.028Z"
   },
   {
    "duration": 6,
    "start_time": "2022-05-06T05:03:41.803Z"
   },
   {
    "duration": 21,
    "start_time": "2022-05-06T05:03:41.900Z"
   },
   {
    "duration": 22,
    "start_time": "2022-05-06T05:03:41.922Z"
   },
   {
    "duration": 9,
    "start_time": "2022-05-06T05:03:41.946Z"
   },
   {
    "duration": 5,
    "start_time": "2022-05-06T05:03:41.956Z"
   },
   {
    "duration": 38,
    "start_time": "2022-05-06T05:03:41.962Z"
   },
   {
    "duration": 4,
    "start_time": "2022-05-06T05:03:42.001Z"
   },
   {
    "duration": 97,
    "start_time": "2022-05-06T05:03:42.006Z"
   },
   {
    "duration": 195,
    "start_time": "2022-05-06T05:03:42.106Z"
   },
   {
    "duration": 21,
    "start_time": "2022-05-06T05:03:42.302Z"
   },
   {
    "duration": 114,
    "start_time": "2022-05-06T05:03:42.325Z"
   },
   {
    "duration": 0,
    "start_time": "2022-05-06T05:03:42.441Z"
   },
   {
    "duration": 0,
    "start_time": "2022-05-06T05:03:42.442Z"
   },
   {
    "duration": 0,
    "start_time": "2022-05-06T05:03:42.443Z"
   },
   {
    "duration": 0,
    "start_time": "2022-05-06T05:03:42.445Z"
   },
   {
    "duration": 0,
    "start_time": "2022-05-06T05:03:42.446Z"
   },
   {
    "duration": 0,
    "start_time": "2022-05-06T05:03:42.447Z"
   },
   {
    "duration": 0,
    "start_time": "2022-05-06T05:03:42.448Z"
   },
   {
    "duration": 0,
    "start_time": "2022-05-06T05:03:42.449Z"
   },
   {
    "duration": 0,
    "start_time": "2022-05-06T05:03:42.450Z"
   },
   {
    "duration": 0,
    "start_time": "2022-05-06T05:03:42.451Z"
   },
   {
    "duration": 0,
    "start_time": "2022-05-06T05:03:42.452Z"
   },
   {
    "duration": 5,
    "start_time": "2022-05-06T05:04:47.322Z"
   },
   {
    "duration": 3,
    "start_time": "2022-05-06T05:05:00.536Z"
   },
   {
    "duration": 39,
    "start_time": "2022-05-06T05:09:59.726Z"
   },
   {
    "duration": 3,
    "start_time": "2022-05-06T05:11:21.335Z"
   },
   {
    "duration": 5,
    "start_time": "2022-05-06T05:11:39.518Z"
   },
   {
    "duration": 3,
    "start_time": "2022-05-06T05:11:40.499Z"
   },
   {
    "duration": 2,
    "start_time": "2022-05-06T05:11:46.366Z"
   },
   {
    "duration": 1570,
    "start_time": "2022-05-06T05:28:52.905Z"
   },
   {
    "duration": 50,
    "start_time": "2022-05-06T05:28:54.477Z"
   },
   {
    "duration": 10,
    "start_time": "2022-05-06T05:28:54.529Z"
   },
   {
    "duration": 7,
    "start_time": "2022-05-06T05:28:54.542Z"
   },
   {
    "duration": 352,
    "start_time": "2022-05-06T05:28:54.551Z"
   },
   {
    "duration": 2305,
    "start_time": "2022-05-06T05:28:54.905Z"
   },
   {
    "duration": 5,
    "start_time": "2022-05-06T05:28:57.302Z"
   },
   {
    "duration": 110,
    "start_time": "2022-05-06T05:28:57.309Z"
   },
   {
    "duration": 24,
    "start_time": "2022-05-06T05:28:57.421Z"
   },
   {
    "duration": 8,
    "start_time": "2022-05-06T05:28:57.448Z"
   },
   {
    "duration": 5,
    "start_time": "2022-05-06T05:28:57.458Z"
   },
   {
    "duration": 37,
    "start_time": "2022-05-06T05:28:57.464Z"
   },
   {
    "duration": 3,
    "start_time": "2022-05-06T05:28:57.503Z"
   },
   {
    "duration": 15,
    "start_time": "2022-05-06T05:28:57.508Z"
   },
   {
    "duration": 104,
    "start_time": "2022-05-06T05:28:57.602Z"
   },
   {
    "duration": 6,
    "start_time": "2022-05-06T05:28:57.708Z"
   },
   {
    "duration": 6,
    "start_time": "2022-05-06T05:28:57.715Z"
   },
   {
    "duration": 5,
    "start_time": "2022-05-06T05:28:57.722Z"
   },
   {
    "duration": 122,
    "start_time": "2022-05-06T05:28:57.729Z"
   },
   {
    "duration": 0,
    "start_time": "2022-05-06T05:28:57.853Z"
   },
   {
    "duration": 0,
    "start_time": "2022-05-06T05:28:57.854Z"
   },
   {
    "duration": 0,
    "start_time": "2022-05-06T05:28:57.855Z"
   },
   {
    "duration": 0,
    "start_time": "2022-05-06T05:28:57.856Z"
   },
   {
    "duration": 0,
    "start_time": "2022-05-06T05:28:57.857Z"
   },
   {
    "duration": 0,
    "start_time": "2022-05-06T05:28:57.858Z"
   },
   {
    "duration": 0,
    "start_time": "2022-05-06T05:28:57.859Z"
   },
   {
    "duration": 1565,
    "start_time": "2022-05-06T05:29:25.372Z"
   },
   {
    "duration": 45,
    "start_time": "2022-05-06T05:29:26.939Z"
   },
   {
    "duration": 12,
    "start_time": "2022-05-06T05:29:26.985Z"
   },
   {
    "duration": 6,
    "start_time": "2022-05-06T05:29:26.999Z"
   },
   {
    "duration": 315,
    "start_time": "2022-05-06T05:29:27.007Z"
   },
   {
    "duration": 1982,
    "start_time": "2022-05-06T05:29:27.324Z"
   },
   {
    "duration": 94,
    "start_time": "2022-05-06T05:29:29.308Z"
   },
   {
    "duration": 118,
    "start_time": "2022-05-06T05:29:29.404Z"
   },
   {
    "duration": 26,
    "start_time": "2022-05-06T05:29:29.523Z"
   },
   {
    "duration": 8,
    "start_time": "2022-05-06T05:29:29.551Z"
   },
   {
    "duration": 4,
    "start_time": "2022-05-06T05:29:29.561Z"
   },
   {
    "duration": 14,
    "start_time": "2022-05-06T05:29:29.566Z"
   },
   {
    "duration": 3,
    "start_time": "2022-05-06T05:29:29.600Z"
   },
   {
    "duration": 197,
    "start_time": "2022-05-06T05:29:29.604Z"
   },
   {
    "duration": 4,
    "start_time": "2022-05-06T05:29:29.802Z"
   },
   {
    "duration": 5,
    "start_time": "2022-05-06T05:29:29.807Z"
   },
   {
    "duration": 6,
    "start_time": "2022-05-06T05:29:29.814Z"
   },
   {
    "duration": 4,
    "start_time": "2022-05-06T05:29:29.822Z"
   },
   {
    "duration": 163380,
    "start_time": "2022-05-06T05:29:29.901Z"
   },
   {
    "duration": 0,
    "start_time": "2022-05-06T05:32:13.283Z"
   },
   {
    "duration": 0,
    "start_time": "2022-05-06T05:32:13.284Z"
   },
   {
    "duration": 0,
    "start_time": "2022-05-06T05:32:13.285Z"
   },
   {
    "duration": 0,
    "start_time": "2022-05-06T05:32:13.286Z"
   },
   {
    "duration": 1,
    "start_time": "2022-05-06T05:32:13.286Z"
   },
   {
    "duration": 0,
    "start_time": "2022-05-06T05:32:13.287Z"
   },
   {
    "duration": 0,
    "start_time": "2022-05-06T05:32:13.300Z"
   },
   {
    "duration": 4,
    "start_time": "2022-05-06T05:32:34.607Z"
   },
   {
    "duration": 10,
    "start_time": "2022-05-06T05:33:22.729Z"
   },
   {
    "duration": 295,
    "start_time": "2022-05-06T05:35:03.205Z"
   },
   {
    "duration": 12,
    "start_time": "2022-05-06T05:35:12.489Z"
   },
   {
    "duration": 12,
    "start_time": "2022-05-06T05:35:26.089Z"
   },
   {
    "duration": 12,
    "start_time": "2022-05-06T05:35:40.154Z"
   },
   {
    "duration": 24217,
    "start_time": "2022-05-06T05:38:24.093Z"
   },
   {
    "duration": 10,
    "start_time": "2022-05-06T05:38:48.311Z"
   },
   {
    "duration": 10,
    "start_time": "2022-05-06T05:41:14.553Z"
   },
   {
    "duration": 5,
    "start_time": "2022-05-06T05:42:04.162Z"
   },
   {
    "duration": 2,
    "start_time": "2022-05-06T05:46:19.418Z"
   },
   {
    "duration": 3,
    "start_time": "2022-05-06T05:46:19.978Z"
   },
   {
    "duration": 51201,
    "start_time": "2022-05-06T05:46:20.749Z"
   },
   {
    "duration": 3,
    "start_time": "2022-05-06T05:48:16.088Z"
   },
   {
    "duration": 3,
    "start_time": "2022-05-06T05:48:16.711Z"
   },
   {
    "duration": 3,
    "start_time": "2022-05-06T05:48:17.527Z"
   },
   {
    "duration": 68887,
    "start_time": "2022-05-06T05:48:18.847Z"
   },
   {
    "duration": 11,
    "start_time": "2022-05-06T05:51:32.824Z"
   },
   {
    "duration": 2,
    "start_time": "2022-05-06T05:52:32.063Z"
   },
   {
    "duration": 2,
    "start_time": "2022-05-06T05:52:32.496Z"
   },
   {
    "duration": 2,
    "start_time": "2022-05-06T05:52:32.969Z"
   },
   {
    "duration": 12,
    "start_time": "2022-05-06T05:52:33.701Z"
   },
   {
    "duration": 3,
    "start_time": "2022-05-06T05:53:28.357Z"
   },
   {
    "duration": 2,
    "start_time": "2022-05-06T05:53:28.792Z"
   },
   {
    "duration": 3,
    "start_time": "2022-05-06T05:53:29.296Z"
   },
   {
    "duration": 10078,
    "start_time": "2022-05-06T05:53:29.927Z"
   },
   {
    "duration": 10,
    "start_time": "2022-05-06T07:23:31.900Z"
   },
   {
    "duration": 9,
    "start_time": "2022-05-06T07:23:46.346Z"
   },
   {
    "duration": 1532,
    "start_time": "2022-05-06T07:23:54.612Z"
   },
   {
    "duration": 58,
    "start_time": "2022-05-06T07:23:56.146Z"
   },
   {
    "duration": 9,
    "start_time": "2022-05-06T07:23:56.205Z"
   },
   {
    "duration": 31,
    "start_time": "2022-05-06T07:23:56.216Z"
   },
   {
    "duration": 313,
    "start_time": "2022-05-06T07:23:56.248Z"
   },
   {
    "duration": 1741,
    "start_time": "2022-05-06T07:23:56.564Z"
   },
   {
    "duration": 94,
    "start_time": "2022-05-06T07:23:58.307Z"
   },
   {
    "duration": 114,
    "start_time": "2022-05-06T07:23:58.404Z"
   },
   {
    "duration": 25,
    "start_time": "2022-05-06T07:23:58.519Z"
   },
   {
    "duration": 8,
    "start_time": "2022-05-06T07:23:58.547Z"
   },
   {
    "duration": 6,
    "start_time": "2022-05-06T07:23:58.556Z"
   },
   {
    "duration": 37,
    "start_time": "2022-05-06T07:23:58.564Z"
   },
   {
    "duration": 3,
    "start_time": "2022-05-06T07:23:58.602Z"
   },
   {
    "duration": 95,
    "start_time": "2022-05-06T07:23:58.606Z"
   },
   {
    "duration": 103,
    "start_time": "2022-05-06T07:23:58.703Z"
   },
   {
    "duration": 19,
    "start_time": "2022-05-06T07:23:58.808Z"
   },
   {
    "duration": 21,
    "start_time": "2022-05-06T07:23:58.829Z"
   },
   {
    "duration": 17,
    "start_time": "2022-05-06T07:23:58.851Z"
   },
   {
    "duration": 113,
    "start_time": "2022-05-06T07:23:58.869Z"
   },
   {
    "duration": 0,
    "start_time": "2022-05-06T07:23:58.983Z"
   },
   {
    "duration": 0,
    "start_time": "2022-05-06T07:23:58.985Z"
   },
   {
    "duration": 0,
    "start_time": "2022-05-06T07:23:58.985Z"
   },
   {
    "duration": 0,
    "start_time": "2022-05-06T07:23:58.986Z"
   },
   {
    "duration": 0,
    "start_time": "2022-05-06T07:23:58.987Z"
   },
   {
    "duration": 0,
    "start_time": "2022-05-06T07:23:58.988Z"
   },
   {
    "duration": 0,
    "start_time": "2022-05-06T07:23:58.989Z"
   },
   {
    "duration": 0,
    "start_time": "2022-05-06T07:23:58.990Z"
   },
   {
    "duration": 10,
    "start_time": "2022-05-06T07:24:54.991Z"
   },
   {
    "duration": 11,
    "start_time": "2022-05-06T07:26:49.217Z"
   },
   {
    "duration": 15,
    "start_time": "2022-05-06T07:27:22.983Z"
   },
   {
    "duration": 10,
    "start_time": "2022-05-06T07:27:56.266Z"
   },
   {
    "duration": 9,
    "start_time": "2022-05-06T07:28:10.183Z"
   },
   {
    "duration": 9,
    "start_time": "2022-05-06T07:29:47.806Z"
   },
   {
    "duration": 9,
    "start_time": "2022-05-06T07:31:05.520Z"
   },
   {
    "duration": 9,
    "start_time": "2022-05-06T07:31:37.760Z"
   },
   {
    "duration": 9,
    "start_time": "2022-05-06T07:31:56.311Z"
   },
   {
    "duration": 10,
    "start_time": "2022-05-06T07:32:07.398Z"
   },
   {
    "duration": 10,
    "start_time": "2022-05-06T07:32:25.594Z"
   },
   {
    "duration": 10,
    "start_time": "2022-05-06T07:34:03.306Z"
   },
   {
    "duration": 10,
    "start_time": "2022-05-06T07:34:28.476Z"
   },
   {
    "duration": 3,
    "start_time": "2022-05-06T07:34:45.157Z"
   },
   {
    "duration": 3,
    "start_time": "2022-05-06T07:34:48.219Z"
   },
   {
    "duration": 4,
    "start_time": "2022-05-06T07:35:00.815Z"
   },
   {
    "duration": 3,
    "start_time": "2022-05-06T07:35:03.043Z"
   },
   {
    "duration": 4,
    "start_time": "2022-05-06T07:35:07.869Z"
   },
   {
    "duration": 3,
    "start_time": "2022-05-06T07:35:16.870Z"
   },
   {
    "duration": 3,
    "start_time": "2022-05-06T07:35:17.324Z"
   },
   {
    "duration": 10,
    "start_time": "2022-05-06T07:35:48.678Z"
   },
   {
    "duration": 9,
    "start_time": "2022-05-06T07:38:15.138Z"
   },
   {
    "duration": 10,
    "start_time": "2022-05-06T07:45:15.587Z"
   },
   {
    "duration": 12,
    "start_time": "2022-05-06T07:45:49.144Z"
   },
   {
    "duration": 9,
    "start_time": "2022-05-06T07:46:02.292Z"
   },
   {
    "duration": 9,
    "start_time": "2022-05-06T07:46:07.042Z"
   },
   {
    "duration": 9,
    "start_time": "2022-05-06T07:52:06.950Z"
   },
   {
    "duration": 9,
    "start_time": "2022-05-06T07:52:29.733Z"
   },
   {
    "duration": 13,
    "start_time": "2022-05-06T07:52:38.410Z"
   },
   {
    "duration": 11,
    "start_time": "2022-05-06T07:53:03.786Z"
   },
   {
    "duration": 11,
    "start_time": "2022-05-06T07:53:15.781Z"
   },
   {
    "duration": 12,
    "start_time": "2022-05-06T07:53:25.670Z"
   },
   {
    "duration": 12,
    "start_time": "2022-05-06T07:53:45.036Z"
   },
   {
    "duration": 10,
    "start_time": "2022-05-06T07:54:24.864Z"
   },
   {
    "duration": 11,
    "start_time": "2022-05-06T07:55:56.637Z"
   },
   {
    "duration": 21,
    "start_time": "2022-05-06T07:57:31.742Z"
   },
   {
    "duration": 63794,
    "start_time": "2022-05-06T07:57:49.614Z"
   },
   {
    "duration": 11,
    "start_time": "2022-05-06T07:59:36.890Z"
   },
   {
    "duration": 11,
    "start_time": "2022-05-06T08:00:52.705Z"
   },
   {
    "duration": 5230,
    "start_time": "2022-05-06T08:01:06.276Z"
   },
   {
    "duration": 9,
    "start_time": "2022-05-06T08:01:16.793Z"
   },
   {
    "duration": 12,
    "start_time": "2022-05-06T08:02:23.423Z"
   },
   {
    "duration": 13,
    "start_time": "2022-05-06T08:02:25.498Z"
   },
   {
    "duration": 11,
    "start_time": "2022-05-06T08:02:52.470Z"
   },
   {
    "duration": 13,
    "start_time": "2022-05-06T08:03:22.834Z"
   },
   {
    "duration": 12,
    "start_time": "2022-05-06T08:04:13.035Z"
   },
   {
    "duration": 12,
    "start_time": "2022-05-06T08:05:45.590Z"
   },
   {
    "duration": 1515,
    "start_time": "2022-05-06T08:05:52.055Z"
   },
   {
    "duration": 56,
    "start_time": "2022-05-06T08:05:53.572Z"
   },
   {
    "duration": 8,
    "start_time": "2022-05-06T08:05:53.630Z"
   },
   {
    "duration": 7,
    "start_time": "2022-05-06T08:05:53.641Z"
   },
   {
    "duration": 314,
    "start_time": "2022-05-06T08:05:53.649Z"
   },
   {
    "duration": 2240,
    "start_time": "2022-05-06T08:05:53.965Z"
   },
   {
    "duration": 95,
    "start_time": "2022-05-06T08:05:56.207Z"
   },
   {
    "duration": 115,
    "start_time": "2022-05-06T08:05:56.304Z"
   },
   {
    "duration": 25,
    "start_time": "2022-05-06T08:05:56.421Z"
   },
   {
    "duration": 7,
    "start_time": "2022-05-06T08:05:56.448Z"
   },
   {
    "duration": 4,
    "start_time": "2022-05-06T08:05:56.457Z"
   },
   {
    "duration": 13,
    "start_time": "2022-05-06T08:05:56.463Z"
   },
   {
    "duration": 3,
    "start_time": "2022-05-06T08:05:56.500Z"
   },
   {
    "duration": 95,
    "start_time": "2022-05-06T08:05:56.505Z"
   },
   {
    "duration": 100,
    "start_time": "2022-05-06T08:05:56.603Z"
   },
   {
    "duration": 6,
    "start_time": "2022-05-06T08:05:56.705Z"
   },
   {
    "duration": 6,
    "start_time": "2022-05-06T08:05:56.713Z"
   },
   {
    "duration": 5,
    "start_time": "2022-05-06T08:05:56.720Z"
   },
   {
    "duration": 124,
    "start_time": "2022-05-06T08:05:56.727Z"
   },
   {
    "duration": 0,
    "start_time": "2022-05-06T08:05:56.852Z"
   },
   {
    "duration": 0,
    "start_time": "2022-05-06T08:05:56.853Z"
   },
   {
    "duration": 0,
    "start_time": "2022-05-06T08:05:56.854Z"
   },
   {
    "duration": 0,
    "start_time": "2022-05-06T08:05:56.855Z"
   },
   {
    "duration": 0,
    "start_time": "2022-05-06T08:05:56.856Z"
   },
   {
    "duration": 0,
    "start_time": "2022-05-06T08:05:56.857Z"
   },
   {
    "duration": 0,
    "start_time": "2022-05-06T08:05:56.858Z"
   },
   {
    "duration": 0,
    "start_time": "2022-05-06T08:05:56.858Z"
   },
   {
    "duration": 14,
    "start_time": "2022-05-06T08:09:27.176Z"
   },
   {
    "duration": 15,
    "start_time": "2022-05-06T08:09:48.308Z"
   },
   {
    "duration": 7681,
    "start_time": "2022-05-06T08:10:08.929Z"
   },
   {
    "duration": 4741,
    "start_time": "2022-05-06T08:10:30.360Z"
   },
   {
    "duration": 11,
    "start_time": "2022-05-06T08:10:53.601Z"
   },
   {
    "duration": 4815,
    "start_time": "2022-05-06T08:11:57.793Z"
   },
   {
    "duration": 4857,
    "start_time": "2022-05-06T08:12:10.354Z"
   },
   {
    "duration": 12,
    "start_time": "2022-05-06T08:12:37.915Z"
   },
   {
    "duration": 10558,
    "start_time": "2022-05-06T08:13:11.853Z"
   },
   {
    "duration": 4865,
    "start_time": "2022-05-06T08:14:31.646Z"
   },
   {
    "duration": 10,
    "start_time": "2022-05-06T08:14:36.601Z"
   },
   {
    "duration": 5638,
    "start_time": "2022-05-06T08:14:57.574Z"
   },
   {
    "duration": 91,
    "start_time": "2022-05-06T08:15:03.214Z"
   },
   {
    "duration": 5428,
    "start_time": "2022-05-06T08:15:33.480Z"
   },
   {
    "duration": 93,
    "start_time": "2022-05-06T08:15:38.909Z"
   },
   {
    "duration": 3,
    "start_time": "2022-05-06T08:16:11.304Z"
   },
   {
    "duration": 3,
    "start_time": "2022-05-06T08:16:11.842Z"
   },
   {
    "duration": 2,
    "start_time": "2022-05-06T08:16:12.577Z"
   },
   {
    "duration": 16242,
    "start_time": "2022-05-06T08:16:13.256Z"
   },
   {
    "duration": 0,
    "start_time": "2022-05-06T08:16:29.501Z"
   },
   {
    "duration": 3,
    "start_time": "2022-05-06T08:17:16.594Z"
   },
   {
    "duration": 3,
    "start_time": "2022-05-06T08:17:17.288Z"
   },
   {
    "duration": 17737,
    "start_time": "2022-05-06T08:18:03.174Z"
   },
   {
    "duration": 5,
    "start_time": "2022-05-06T08:18:32.417Z"
   },
   {
    "duration": 3,
    "start_time": "2022-05-06T08:18:49.328Z"
   },
   {
    "duration": 32261,
    "start_time": "2022-05-06T08:18:50.721Z"
   },
   {
    "duration": 5,
    "start_time": "2022-05-06T08:19:22.984Z"
   },
   {
    "duration": 7,
    "start_time": "2022-05-06T08:19:35.675Z"
   },
   {
    "duration": 2,
    "start_time": "2022-05-06T08:19:50.193Z"
   },
   {
    "duration": 33808,
    "start_time": "2022-05-06T08:19:50.778Z"
   },
   {
    "duration": 5,
    "start_time": "2022-05-06T08:20:24.588Z"
   },
   {
    "duration": 4,
    "start_time": "2022-05-06T08:20:27.700Z"
   },
   {
    "duration": 7,
    "start_time": "2022-05-06T08:20:36.226Z"
   },
   {
    "duration": 120,
    "start_time": "2022-05-06T08:20:38.522Z"
   },
   {
    "duration": 2,
    "start_time": "2022-05-06T08:21:13.815Z"
   },
   {
    "duration": 12342,
    "start_time": "2022-05-06T08:21:14.455Z"
   },
   {
    "duration": 4,
    "start_time": "2022-05-06T08:21:31.928Z"
   },
   {
    "duration": 7,
    "start_time": "2022-05-06T08:21:34.875Z"
   },
   {
    "duration": 112,
    "start_time": "2022-05-06T08:21:38.874Z"
   },
   {
    "duration": 44,
    "start_time": "2022-05-08T11:45:49.248Z"
   },
   {
    "duration": 1648,
    "start_time": "2022-05-08T11:46:21.970Z"
   },
   {
    "duration": 62,
    "start_time": "2022-05-08T11:46:23.620Z"
   },
   {
    "duration": 13,
    "start_time": "2022-05-08T11:46:23.684Z"
   },
   {
    "duration": 7,
    "start_time": "2022-05-08T11:46:23.699Z"
   },
   {
    "duration": 403,
    "start_time": "2022-05-08T11:46:23.707Z"
   },
   {
    "duration": 1745,
    "start_time": "2022-05-08T11:46:24.112Z"
   },
   {
    "duration": 6,
    "start_time": "2022-05-08T11:46:25.949Z"
   },
   {
    "duration": 109,
    "start_time": "2022-05-08T11:46:25.958Z"
   },
   {
    "duration": 25,
    "start_time": "2022-05-08T11:46:26.069Z"
   },
   {
    "duration": 9,
    "start_time": "2022-05-08T11:46:26.097Z"
   },
   {
    "duration": 8,
    "start_time": "2022-05-08T11:46:26.107Z"
   },
   {
    "duration": 38,
    "start_time": "2022-05-08T11:46:26.116Z"
   },
   {
    "duration": 3,
    "start_time": "2022-05-08T11:46:26.156Z"
   },
   {
    "duration": 188,
    "start_time": "2022-05-08T11:46:26.161Z"
   },
   {
    "duration": 7,
    "start_time": "2022-05-08T11:46:26.351Z"
   },
   {
    "duration": 95,
    "start_time": "2022-05-08T11:46:26.360Z"
   },
   {
    "duration": 89,
    "start_time": "2022-05-08T11:46:26.459Z"
   },
   {
    "duration": 4,
    "start_time": "2022-05-08T11:46:26.549Z"
   },
   {
    "duration": 1561,
    "start_time": "2022-05-08T11:48:41.988Z"
   },
   {
    "duration": 47,
    "start_time": "2022-05-08T11:48:43.550Z"
   },
   {
    "duration": 10,
    "start_time": "2022-05-08T11:48:43.599Z"
   },
   {
    "duration": 12,
    "start_time": "2022-05-08T11:48:43.610Z"
   },
   {
    "duration": 340,
    "start_time": "2022-05-08T11:48:43.624Z"
   },
   {
    "duration": 1888,
    "start_time": "2022-05-08T11:48:43.965Z"
   },
   {
    "duration": 94,
    "start_time": "2022-05-08T11:48:45.856Z"
   },
   {
    "duration": 123,
    "start_time": "2022-05-08T11:48:45.952Z"
   },
   {
    "duration": 29,
    "start_time": "2022-05-08T11:48:46.077Z"
   },
   {
    "duration": 8,
    "start_time": "2022-05-08T11:48:46.108Z"
   },
   {
    "duration": 5,
    "start_time": "2022-05-08T11:48:46.117Z"
   },
   {
    "duration": 29,
    "start_time": "2022-05-08T11:48:46.123Z"
   },
   {
    "duration": 3,
    "start_time": "2022-05-08T11:48:46.154Z"
   },
   {
    "duration": 15,
    "start_time": "2022-05-08T11:48:46.160Z"
   },
   {
    "duration": 6,
    "start_time": "2022-05-08T11:48:46.249Z"
   },
   {
    "duration": 92,
    "start_time": "2022-05-08T11:48:46.257Z"
   },
   {
    "duration": 6,
    "start_time": "2022-05-08T11:48:46.351Z"
   },
   {
    "duration": 5,
    "start_time": "2022-05-08T11:48:46.358Z"
   },
   {
    "duration": 44,
    "start_time": "2022-05-08T11:54:07.691Z"
   },
   {
    "duration": 1486,
    "start_time": "2022-05-08T11:54:13.766Z"
   },
   {
    "duration": 41,
    "start_time": "2022-05-08T11:54:15.254Z"
   },
   {
    "duration": 9,
    "start_time": "2022-05-08T11:54:15.297Z"
   },
   {
    "duration": 10,
    "start_time": "2022-05-08T11:54:15.308Z"
   },
   {
    "duration": 321,
    "start_time": "2022-05-08T11:54:15.319Z"
   },
   {
    "duration": 1811,
    "start_time": "2022-05-08T11:54:15.642Z"
   },
   {
    "duration": 93,
    "start_time": "2022-05-08T11:54:17.455Z"
   },
   {
    "duration": 114,
    "start_time": "2022-05-08T11:54:17.551Z"
   },
   {
    "duration": 26,
    "start_time": "2022-05-08T11:54:17.667Z"
   },
   {
    "duration": 8,
    "start_time": "2022-05-08T11:54:17.695Z"
   },
   {
    "duration": 7,
    "start_time": "2022-05-08T11:54:17.704Z"
   },
   {
    "duration": 35,
    "start_time": "2022-05-08T11:54:17.713Z"
   },
   {
    "duration": 3,
    "start_time": "2022-05-08T11:54:17.750Z"
   },
   {
    "duration": 16,
    "start_time": "2022-05-08T11:54:17.755Z"
   },
   {
    "duration": 89,
    "start_time": "2022-05-08T11:54:17.773Z"
   },
   {
    "duration": 8,
    "start_time": "2022-05-08T11:54:17.948Z"
   },
   {
    "duration": 13,
    "start_time": "2022-05-08T11:54:17.957Z"
   },
   {
    "duration": 6,
    "start_time": "2022-05-08T11:54:17.971Z"
   },
   {
    "duration": 1656,
    "start_time": "2022-05-08T12:59:29.652Z"
   },
   {
    "duration": 43,
    "start_time": "2022-05-08T12:59:31.310Z"
   },
   {
    "duration": 11,
    "start_time": "2022-05-08T12:59:31.354Z"
   },
   {
    "duration": 8,
    "start_time": "2022-05-08T12:59:31.367Z"
   },
   {
    "duration": 484,
    "start_time": "2022-05-08T12:59:31.377Z"
   },
   {
    "duration": 1890,
    "start_time": "2022-05-08T12:59:31.862Z"
   },
   {
    "duration": 6,
    "start_time": "2022-05-08T12:59:33.755Z"
   },
   {
    "duration": 201,
    "start_time": "2022-05-08T12:59:33.762Z"
   },
   {
    "duration": 25,
    "start_time": "2022-05-08T12:59:33.964Z"
   },
   {
    "duration": 7,
    "start_time": "2022-05-08T12:59:33.992Z"
   },
   {
    "duration": 5,
    "start_time": "2022-05-08T12:59:34.001Z"
   },
   {
    "duration": 14,
    "start_time": "2022-05-08T12:59:34.007Z"
   },
   {
    "duration": 27,
    "start_time": "2022-05-08T12:59:34.023Z"
   },
   {
    "duration": 15,
    "start_time": "2022-05-08T12:59:34.052Z"
   },
   {
    "duration": 182,
    "start_time": "2022-05-08T12:59:34.069Z"
   },
   {
    "duration": 9,
    "start_time": "2022-05-08T12:59:34.252Z"
   },
   {
    "duration": 10,
    "start_time": "2022-05-08T12:59:34.263Z"
   },
   {
    "duration": 9,
    "start_time": "2022-05-08T12:59:34.275Z"
   },
   {
    "duration": 1279481,
    "start_time": "2022-05-08T12:59:34.285Z"
   },
   {
    "duration": 85,
    "start_time": "2022-05-08T13:20:53.767Z"
   },
   {
    "duration": 3,
    "start_time": "2022-05-08T13:20:53.854Z"
   },
   {
    "duration": 4,
    "start_time": "2022-05-08T13:20:53.859Z"
   },
   {
    "duration": 12525,
    "start_time": "2022-05-08T13:20:53.865Z"
   },
   {
    "duration": 5,
    "start_time": "2022-05-08T13:21:06.392Z"
   },
   {
    "duration": 12,
    "start_time": "2022-05-08T13:21:06.399Z"
   },
   {
    "duration": 154,
    "start_time": "2022-05-08T13:21:06.413Z"
   },
   {
    "duration": 54,
    "start_time": "2022-05-08T16:40:38.448Z"
   },
   {
    "duration": 1867,
    "start_time": "2022-05-08T16:40:48.772Z"
   },
   {
    "duration": 46,
    "start_time": "2022-05-08T16:40:50.642Z"
   },
   {
    "duration": 12,
    "start_time": "2022-05-08T16:40:50.690Z"
   },
   {
    "duration": 10,
    "start_time": "2022-05-08T16:40:50.705Z"
   },
   {
    "duration": 345,
    "start_time": "2022-05-08T16:40:50.717Z"
   },
   {
    "duration": 2797,
    "start_time": "2022-05-08T16:40:51.064Z"
   },
   {
    "duration": 97,
    "start_time": "2022-05-08T16:40:53.863Z"
   },
   {
    "duration": 121,
    "start_time": "2022-05-08T16:40:53.963Z"
   },
   {
    "duration": 26,
    "start_time": "2022-05-08T16:40:54.086Z"
   },
   {
    "duration": 9,
    "start_time": "2022-05-08T16:40:54.115Z"
   },
   {
    "duration": 6,
    "start_time": "2022-05-08T16:40:54.125Z"
   },
   {
    "duration": 30,
    "start_time": "2022-05-08T16:40:54.133Z"
   },
   {
    "duration": 3,
    "start_time": "2022-05-08T16:40:54.165Z"
   },
   {
    "duration": 15,
    "start_time": "2022-05-08T16:40:54.170Z"
   },
   {
    "duration": 4,
    "start_time": "2022-05-08T16:40:54.257Z"
   },
   {
    "duration": 95,
    "start_time": "2022-05-08T16:40:54.264Z"
   },
   {
    "duration": 6,
    "start_time": "2022-05-08T16:40:54.361Z"
   },
   {
    "duration": 4,
    "start_time": "2022-05-08T16:40:54.369Z"
   },
   {
    "duration": 5188,
    "start_time": "2022-05-08T16:40:54.374Z"
   },
   {
    "duration": 8,
    "start_time": "2022-05-08T16:40:59.564Z"
   },
   {
    "duration": 112,
    "start_time": "2022-05-08T16:40:59.573Z"
   },
   {
    "duration": 20,
    "start_time": "2022-05-08T16:40:59.687Z"
   },
   {
    "duration": 11419,
    "start_time": "2022-05-08T16:40:59.709Z"
   },
   {
    "duration": 5,
    "start_time": "2022-05-08T16:41:11.130Z"
   },
   {
    "duration": 8,
    "start_time": "2022-05-08T16:41:11.137Z"
   },
   {
    "duration": 126,
    "start_time": "2022-05-08T16:41:11.147Z"
   },
   {
    "duration": 126,
    "start_time": "2022-05-08T16:41:11.275Z"
   },
   {
    "duration": 0,
    "start_time": "2022-05-08T16:41:11.403Z"
   },
   {
    "duration": 11,
    "start_time": "2022-05-08T16:41:34.522Z"
   },
   {
    "duration": 12,
    "start_time": "2022-05-08T16:42:03.198Z"
   },
   {
    "duration": 17,
    "start_time": "2022-05-08T16:46:24.521Z"
   },
   {
    "duration": 117,
    "start_time": "2022-05-08T16:53:47.430Z"
   },
   {
    "duration": 12,
    "start_time": "2022-05-08T16:55:14.966Z"
   },
   {
    "duration": 1215,
    "start_time": "2022-05-08T16:55:29.404Z"
   },
   {
    "duration": 1197,
    "start_time": "2022-05-08T16:55:44.497Z"
   },
   {
    "duration": 37,
    "start_time": "2022-05-08T16:56:31.969Z"
   },
   {
    "duration": 7,
    "start_time": "2022-05-08T16:56:51.973Z"
   },
   {
    "duration": 186,
    "start_time": "2022-05-08T16:57:14.036Z"
   },
   {
    "duration": 172,
    "start_time": "2022-05-08T16:57:54.298Z"
   },
   {
    "duration": 244,
    "start_time": "2022-05-08T16:58:02.668Z"
   },
   {
    "duration": 2274,
    "start_time": "2022-05-08T17:02:51.210Z"
   },
   {
    "duration": 344,
    "start_time": "2022-05-08T17:03:48.740Z"
   },
   {
    "duration": 11,
    "start_time": "2022-05-08T17:04:13.586Z"
   },
   {
    "duration": 12,
    "start_time": "2022-05-08T17:05:01.922Z"
   },
   {
    "duration": 11,
    "start_time": "2022-05-08T17:05:11.443Z"
   },
   {
    "duration": 183,
    "start_time": "2022-05-08T17:05:20.844Z"
   },
   {
    "duration": 180,
    "start_time": "2022-05-08T17:05:52.840Z"
   },
   {
    "duration": 170,
    "start_time": "2022-05-08T17:06:37.925Z"
   },
   {
    "duration": 10,
    "start_time": "2022-05-08T17:06:54.361Z"
   },
   {
    "duration": 13,
    "start_time": "2022-05-08T17:08:33.556Z"
   },
   {
    "duration": 11,
    "start_time": "2022-05-08T17:08:44.628Z"
   },
   {
    "duration": 5,
    "start_time": "2022-05-08T17:09:03.038Z"
   },
   {
    "duration": 212,
    "start_time": "2022-05-08T17:09:18.824Z"
   },
   {
    "duration": 150,
    "start_time": "2022-05-08T17:09:55.006Z"
   },
   {
    "duration": 5,
    "start_time": "2022-05-08T17:10:00.993Z"
   },
   {
    "duration": 6,
    "start_time": "2022-05-08T17:10:04.814Z"
   },
   {
    "duration": 152,
    "start_time": "2022-05-08T17:10:05.304Z"
   },
   {
    "duration": 5,
    "start_time": "2022-05-08T17:10:09.535Z"
   },
   {
    "duration": 8,
    "start_time": "2022-05-08T17:10:16.904Z"
   },
   {
    "duration": 1055,
    "start_time": "2022-05-08T17:22:00.265Z"
   },
   {
    "duration": 393,
    "start_time": "2022-05-08T17:22:23.686Z"
   },
   {
    "duration": 184,
    "start_time": "2022-05-08T17:22:50.617Z"
   },
   {
    "duration": 5,
    "start_time": "2022-05-08T17:34:42.040Z"
   },
   {
    "duration": 2361,
    "start_time": "2022-05-08T17:35:09.270Z"
   },
   {
    "duration": 2229,
    "start_time": "2022-05-08T17:35:24.426Z"
   },
   {
    "duration": 212,
    "start_time": "2022-05-08T17:37:53.536Z"
   },
   {
    "duration": 198,
    "start_time": "2022-05-08T17:38:12.775Z"
   },
   {
    "duration": 237,
    "start_time": "2022-05-08T17:38:20.017Z"
   },
   {
    "duration": 137,
    "start_time": "2022-05-08T17:39:31.586Z"
   },
   {
    "duration": 230,
    "start_time": "2022-05-08T17:39:38.709Z"
   },
   {
    "duration": 10,
    "start_time": "2022-05-08T17:41:16.450Z"
   },
   {
    "duration": 5,
    "start_time": "2022-05-08T17:41:54.989Z"
   },
   {
    "duration": 169,
    "start_time": "2022-05-08T17:42:12.148Z"
   },
   {
    "duration": 346,
    "start_time": "2022-05-08T17:42:44.736Z"
   },
   {
    "duration": 2412,
    "start_time": "2022-05-08T17:43:02.974Z"
   },
   {
    "duration": 2347,
    "start_time": "2022-05-08T17:43:24.622Z"
   },
   {
    "duration": 27,
    "start_time": "2022-05-08T17:44:29.976Z"
   },
   {
    "duration": 3,
    "start_time": "2022-05-08T17:44:51.052Z"
   },
   {
    "duration": 294,
    "start_time": "2022-05-08T17:44:59.171Z"
   },
   {
    "duration": 12,
    "start_time": "2022-05-08T17:46:03.633Z"
   },
   {
    "duration": 5,
    "start_time": "2022-05-08T17:47:09.156Z"
   },
   {
    "duration": 169,
    "start_time": "2022-05-08T17:48:31.251Z"
   },
   {
    "duration": 268,
    "start_time": "2022-05-08T17:49:36.616Z"
   },
   {
    "duration": 250,
    "start_time": "2022-05-08T17:49:56.942Z"
   },
   {
    "duration": 172,
    "start_time": "2022-05-08T17:50:54.580Z"
   },
   {
    "duration": 333,
    "start_time": "2022-05-08T17:51:15.095Z"
   },
   {
    "duration": 8,
    "start_time": "2022-05-08T17:52:43.943Z"
   },
   {
    "duration": 174,
    "start_time": "2022-05-08T17:52:45.863Z"
   },
   {
    "duration": 8,
    "start_time": "2022-05-08T17:52:56.900Z"
   },
   {
    "duration": 165,
    "start_time": "2022-05-08T17:52:57.937Z"
   },
   {
    "duration": 180,
    "start_time": "2022-05-08T17:53:05.599Z"
   },
   {
    "duration": 5,
    "start_time": "2022-05-08T17:53:41.139Z"
   },
   {
    "duration": 166,
    "start_time": "2022-05-08T17:53:46.262Z"
   },
   {
    "duration": 172,
    "start_time": "2022-05-08T17:54:45.988Z"
   },
   {
    "duration": 6,
    "start_time": "2022-05-08T17:55:06.590Z"
   },
   {
    "duration": 184,
    "start_time": "2022-05-08T17:55:20.476Z"
   },
   {
    "duration": 202,
    "start_time": "2022-05-08T17:55:33.348Z"
   },
   {
    "duration": 322,
    "start_time": "2022-05-08T17:55:45.394Z"
   },
   {
    "duration": 14,
    "start_time": "2022-05-08T17:56:55.647Z"
   },
   {
    "duration": 5,
    "start_time": "2022-05-08T17:58:49.555Z"
   },
   {
    "duration": 171,
    "start_time": "2022-05-08T17:59:14.803Z"
   },
   {
    "duration": 321,
    "start_time": "2022-05-08T18:01:53.527Z"
   },
   {
    "duration": 171,
    "start_time": "2022-05-08T18:02:02.567Z"
   },
   {
    "duration": 191,
    "start_time": "2022-05-08T18:03:00.730Z"
   },
   {
    "duration": 175,
    "start_time": "2022-05-08T18:03:50.523Z"
   },
   {
    "duration": 173,
    "start_time": "2022-05-08T18:04:54.777Z"
   },
   {
    "duration": 179,
    "start_time": "2022-05-08T18:05:20.492Z"
   },
   {
    "duration": 171,
    "start_time": "2022-05-08T18:05:37.985Z"
   },
   {
    "duration": 137,
    "start_time": "2022-05-08T18:07:09.811Z"
   },
   {
    "duration": 171,
    "start_time": "2022-05-08T18:07:29.294Z"
   },
   {
    "duration": 153,
    "start_time": "2022-05-08T18:09:54.659Z"
   },
   {
    "duration": 162,
    "start_time": "2022-05-08T18:10:00.889Z"
   },
   {
    "duration": 272,
    "start_time": "2022-05-08T18:10:19.323Z"
   },
   {
    "duration": 166,
    "start_time": "2022-05-08T18:11:04.251Z"
   },
   {
    "duration": 182,
    "start_time": "2022-05-08T18:12:22.698Z"
   },
   {
    "duration": 203,
    "start_time": "2022-05-08T18:12:36.264Z"
   },
   {
    "duration": 104,
    "start_time": "2022-05-08T18:12:44.873Z"
   },
   {
    "duration": 104,
    "start_time": "2022-05-08T18:13:03.666Z"
   },
   {
    "duration": 110,
    "start_time": "2022-05-08T18:13:11.371Z"
   },
   {
    "duration": 101,
    "start_time": "2022-05-08T18:13:19.309Z"
   },
   {
    "duration": 136,
    "start_time": "2022-05-08T18:19:28.296Z"
   },
   {
    "duration": 260,
    "start_time": "2022-05-08T18:22:03.298Z"
   },
   {
    "duration": 114,
    "start_time": "2022-05-08T18:40:40.853Z"
   },
   {
    "duration": 4,
    "start_time": "2022-05-08T18:41:28.777Z"
   },
   {
    "duration": 117,
    "start_time": "2022-05-08T18:42:47.538Z"
   },
   {
    "duration": 230,
    "start_time": "2022-05-08T18:44:48.699Z"
   },
   {
    "duration": 5,
    "start_time": "2022-05-08T18:44:55.984Z"
   },
   {
    "duration": 219,
    "start_time": "2022-05-08T18:45:24.177Z"
   },
   {
    "duration": 241,
    "start_time": "2022-05-08T18:45:45.254Z"
   }
  ],
  "kernelspec": {
   "display_name": "Python 3 (ipykernel)",
   "language": "python",
   "name": "python3"
  },
  "language_info": {
   "codemirror_mode": {
    "name": "ipython",
    "version": 3
   },
   "file_extension": ".py",
   "mimetype": "text/x-python",
   "name": "python",
   "nbconvert_exporter": "python",
   "pygments_lexer": "ipython3",
   "version": "3.9.5"
  },
  "toc": {
   "base_numbering": 1,
   "nav_menu": {},
   "number_sections": true,
   "sideBar": true,
   "skip_h1_title": true,
   "title_cell": "Содержание",
   "title_sidebar": "Contents",
   "toc_cell": true,
   "toc_position": {},
   "toc_section_display": true,
   "toc_window_display": true
  }
 },
 "nbformat": 4,
 "nbformat_minor": 2
}
