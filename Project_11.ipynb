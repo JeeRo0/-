{
 "cells": [
  {
   "cell_type": "markdown",
   "metadata": {},
   "source": [
    "# Определение стоимости автомобилей"
   ]
  },
  {
   "cell_type": "markdown",
   "metadata": {},
   "source": [
    "Сервис по продаже автомобилей с пробегом «Не бит, не крашен» разрабатывает приложение для привлечения новых клиентов. В нём можно быстро узнать рыночную стоимость своего автомобиля. В вашем распоряжении исторические данные: технические характеристики, комплектации и цены автомобилей. Вам нужно построить модель для определения стоимости. \n",
    "\n",
    "Заказчику важны:\n",
    "\n",
    "- качество предсказания;\n",
    "- скорость предсказания;\n",
    "- время обучения."
   ]
  },
  {
   "cell_type": "markdown",
   "metadata": {},
   "source": [
    "## Подготовка данных"
   ]
  },
  {
   "cell_type": "code",
   "execution_count": 2,
   "metadata": {},
   "outputs": [],
   "source": [
    "import pandas as pd\n",
    "import numpy as np\n",
    "import matplotlib.pyplot as plt\n",
    "import seaborn as sns\n",
    "from sklearn.model_selection import train_test_split\n",
    "from sklearn.preprocessing import StandardScaler, OrdinalEncoder\n",
    "from sklearn.metrics import mean_squared_error, make_scorer\n",
    "import warnings\n",
    "warnings.filterwarnings('ignore')"
   ]
  },
  {
   "cell_type": "code",
   "execution_count": 3,
   "metadata": {},
   "outputs": [
    {
     "data": {
      "text/html": [
       "<div>\n",
       "<style scoped>\n",
       "    .dataframe tbody tr th:only-of-type {\n",
       "        vertical-align: middle;\n",
       "    }\n",
       "\n",
       "    .dataframe tbody tr th {\n",
       "        vertical-align: top;\n",
       "    }\n",
       "\n",
       "    .dataframe thead th {\n",
       "        text-align: right;\n",
       "    }\n",
       "</style>\n",
       "<table border=\"1\" class=\"dataframe\">\n",
       "  <thead>\n",
       "    <tr style=\"text-align: right;\">\n",
       "      <th></th>\n",
       "      <th>DateCrawled</th>\n",
       "      <th>Price</th>\n",
       "      <th>VehicleType</th>\n",
       "      <th>RegistrationYear</th>\n",
       "      <th>Gearbox</th>\n",
       "      <th>Power</th>\n",
       "      <th>Model</th>\n",
       "      <th>Kilometer</th>\n",
       "      <th>RegistrationMonth</th>\n",
       "      <th>FuelType</th>\n",
       "      <th>Brand</th>\n",
       "      <th>NotRepaired</th>\n",
       "      <th>DateCreated</th>\n",
       "      <th>NumberOfPictures</th>\n",
       "      <th>PostalCode</th>\n",
       "      <th>LastSeen</th>\n",
       "    </tr>\n",
       "  </thead>\n",
       "  <tbody>\n",
       "    <tr>\n",
       "      <th>0</th>\n",
       "      <td>2016-03-24 11:52:17</td>\n",
       "      <td>480</td>\n",
       "      <td>NaN</td>\n",
       "      <td>1993</td>\n",
       "      <td>manual</td>\n",
       "      <td>0</td>\n",
       "      <td>golf</td>\n",
       "      <td>150000</td>\n",
       "      <td>0</td>\n",
       "      <td>petrol</td>\n",
       "      <td>volkswagen</td>\n",
       "      <td>NaN</td>\n",
       "      <td>2016-03-24 00:00:00</td>\n",
       "      <td>0</td>\n",
       "      <td>70435</td>\n",
       "      <td>2016-04-07 03:16:57</td>\n",
       "    </tr>\n",
       "    <tr>\n",
       "      <th>1</th>\n",
       "      <td>2016-03-24 10:58:45</td>\n",
       "      <td>18300</td>\n",
       "      <td>coupe</td>\n",
       "      <td>2011</td>\n",
       "      <td>manual</td>\n",
       "      <td>190</td>\n",
       "      <td>NaN</td>\n",
       "      <td>125000</td>\n",
       "      <td>5</td>\n",
       "      <td>gasoline</td>\n",
       "      <td>audi</td>\n",
       "      <td>yes</td>\n",
       "      <td>2016-03-24 00:00:00</td>\n",
       "      <td>0</td>\n",
       "      <td>66954</td>\n",
       "      <td>2016-04-07 01:46:50</td>\n",
       "    </tr>\n",
       "    <tr>\n",
       "      <th>2</th>\n",
       "      <td>2016-03-14 12:52:21</td>\n",
       "      <td>9800</td>\n",
       "      <td>suv</td>\n",
       "      <td>2004</td>\n",
       "      <td>auto</td>\n",
       "      <td>163</td>\n",
       "      <td>grand</td>\n",
       "      <td>125000</td>\n",
       "      <td>8</td>\n",
       "      <td>gasoline</td>\n",
       "      <td>jeep</td>\n",
       "      <td>NaN</td>\n",
       "      <td>2016-03-14 00:00:00</td>\n",
       "      <td>0</td>\n",
       "      <td>90480</td>\n",
       "      <td>2016-04-05 12:47:46</td>\n",
       "    </tr>\n",
       "    <tr>\n",
       "      <th>3</th>\n",
       "      <td>2016-03-17 16:54:04</td>\n",
       "      <td>1500</td>\n",
       "      <td>small</td>\n",
       "      <td>2001</td>\n",
       "      <td>manual</td>\n",
       "      <td>75</td>\n",
       "      <td>golf</td>\n",
       "      <td>150000</td>\n",
       "      <td>6</td>\n",
       "      <td>petrol</td>\n",
       "      <td>volkswagen</td>\n",
       "      <td>no</td>\n",
       "      <td>2016-03-17 00:00:00</td>\n",
       "      <td>0</td>\n",
       "      <td>91074</td>\n",
       "      <td>2016-03-17 17:40:17</td>\n",
       "    </tr>\n",
       "    <tr>\n",
       "      <th>4</th>\n",
       "      <td>2016-03-31 17:25:20</td>\n",
       "      <td>3600</td>\n",
       "      <td>small</td>\n",
       "      <td>2008</td>\n",
       "      <td>manual</td>\n",
       "      <td>69</td>\n",
       "      <td>fabia</td>\n",
       "      <td>90000</td>\n",
       "      <td>7</td>\n",
       "      <td>gasoline</td>\n",
       "      <td>skoda</td>\n",
       "      <td>no</td>\n",
       "      <td>2016-03-31 00:00:00</td>\n",
       "      <td>0</td>\n",
       "      <td>60437</td>\n",
       "      <td>2016-04-06 10:17:21</td>\n",
       "    </tr>\n",
       "    <tr>\n",
       "      <th>5</th>\n",
       "      <td>2016-04-04 17:36:23</td>\n",
       "      <td>650</td>\n",
       "      <td>sedan</td>\n",
       "      <td>1995</td>\n",
       "      <td>manual</td>\n",
       "      <td>102</td>\n",
       "      <td>3er</td>\n",
       "      <td>150000</td>\n",
       "      <td>10</td>\n",
       "      <td>petrol</td>\n",
       "      <td>bmw</td>\n",
       "      <td>yes</td>\n",
       "      <td>2016-04-04 00:00:00</td>\n",
       "      <td>0</td>\n",
       "      <td>33775</td>\n",
       "      <td>2016-04-06 19:17:07</td>\n",
       "    </tr>\n",
       "    <tr>\n",
       "      <th>6</th>\n",
       "      <td>2016-04-01 20:48:51</td>\n",
       "      <td>2200</td>\n",
       "      <td>convertible</td>\n",
       "      <td>2004</td>\n",
       "      <td>manual</td>\n",
       "      <td>109</td>\n",
       "      <td>2_reihe</td>\n",
       "      <td>150000</td>\n",
       "      <td>8</td>\n",
       "      <td>petrol</td>\n",
       "      <td>peugeot</td>\n",
       "      <td>no</td>\n",
       "      <td>2016-04-01 00:00:00</td>\n",
       "      <td>0</td>\n",
       "      <td>67112</td>\n",
       "      <td>2016-04-05 18:18:39</td>\n",
       "    </tr>\n",
       "    <tr>\n",
       "      <th>7</th>\n",
       "      <td>2016-03-21 18:54:38</td>\n",
       "      <td>0</td>\n",
       "      <td>sedan</td>\n",
       "      <td>1980</td>\n",
       "      <td>manual</td>\n",
       "      <td>50</td>\n",
       "      <td>other</td>\n",
       "      <td>40000</td>\n",
       "      <td>7</td>\n",
       "      <td>petrol</td>\n",
       "      <td>volkswagen</td>\n",
       "      <td>no</td>\n",
       "      <td>2016-03-21 00:00:00</td>\n",
       "      <td>0</td>\n",
       "      <td>19348</td>\n",
       "      <td>2016-03-25 16:47:58</td>\n",
       "    </tr>\n",
       "    <tr>\n",
       "      <th>8</th>\n",
       "      <td>2016-04-04 23:42:13</td>\n",
       "      <td>14500</td>\n",
       "      <td>bus</td>\n",
       "      <td>2014</td>\n",
       "      <td>manual</td>\n",
       "      <td>125</td>\n",
       "      <td>c_max</td>\n",
       "      <td>30000</td>\n",
       "      <td>8</td>\n",
       "      <td>petrol</td>\n",
       "      <td>ford</td>\n",
       "      <td>NaN</td>\n",
       "      <td>2016-04-04 00:00:00</td>\n",
       "      <td>0</td>\n",
       "      <td>94505</td>\n",
       "      <td>2016-04-04 23:42:13</td>\n",
       "    </tr>\n",
       "    <tr>\n",
       "      <th>9</th>\n",
       "      <td>2016-03-17 10:53:50</td>\n",
       "      <td>999</td>\n",
       "      <td>small</td>\n",
       "      <td>1998</td>\n",
       "      <td>manual</td>\n",
       "      <td>101</td>\n",
       "      <td>golf</td>\n",
       "      <td>150000</td>\n",
       "      <td>0</td>\n",
       "      <td>NaN</td>\n",
       "      <td>volkswagen</td>\n",
       "      <td>NaN</td>\n",
       "      <td>2016-03-17 00:00:00</td>\n",
       "      <td>0</td>\n",
       "      <td>27472</td>\n",
       "      <td>2016-03-31 17:17:06</td>\n",
       "    </tr>\n",
       "  </tbody>\n",
       "</table>\n",
       "</div>"
      ],
      "text/plain": [
       "           DateCrawled  Price  VehicleType  RegistrationYear Gearbox  Power  \\\n",
       "0  2016-03-24 11:52:17    480          NaN              1993  manual      0   \n",
       "1  2016-03-24 10:58:45  18300        coupe              2011  manual    190   \n",
       "2  2016-03-14 12:52:21   9800          suv              2004    auto    163   \n",
       "3  2016-03-17 16:54:04   1500        small              2001  manual     75   \n",
       "4  2016-03-31 17:25:20   3600        small              2008  manual     69   \n",
       "5  2016-04-04 17:36:23    650        sedan              1995  manual    102   \n",
       "6  2016-04-01 20:48:51   2200  convertible              2004  manual    109   \n",
       "7  2016-03-21 18:54:38      0        sedan              1980  manual     50   \n",
       "8  2016-04-04 23:42:13  14500          bus              2014  manual    125   \n",
       "9  2016-03-17 10:53:50    999        small              1998  manual    101   \n",
       "\n",
       "     Model  Kilometer  RegistrationMonth  FuelType       Brand NotRepaired  \\\n",
       "0     golf     150000                  0    petrol  volkswagen         NaN   \n",
       "1      NaN     125000                  5  gasoline        audi         yes   \n",
       "2    grand     125000                  8  gasoline        jeep         NaN   \n",
       "3     golf     150000                  6    petrol  volkswagen          no   \n",
       "4    fabia      90000                  7  gasoline       skoda          no   \n",
       "5      3er     150000                 10    petrol         bmw         yes   \n",
       "6  2_reihe     150000                  8    petrol     peugeot          no   \n",
       "7    other      40000                  7    petrol  volkswagen          no   \n",
       "8    c_max      30000                  8    petrol        ford         NaN   \n",
       "9     golf     150000                  0       NaN  volkswagen         NaN   \n",
       "\n",
       "           DateCreated  NumberOfPictures  PostalCode             LastSeen  \n",
       "0  2016-03-24 00:00:00                 0       70435  2016-04-07 03:16:57  \n",
       "1  2016-03-24 00:00:00                 0       66954  2016-04-07 01:46:50  \n",
       "2  2016-03-14 00:00:00                 0       90480  2016-04-05 12:47:46  \n",
       "3  2016-03-17 00:00:00                 0       91074  2016-03-17 17:40:17  \n",
       "4  2016-03-31 00:00:00                 0       60437  2016-04-06 10:17:21  \n",
       "5  2016-04-04 00:00:00                 0       33775  2016-04-06 19:17:07  \n",
       "6  2016-04-01 00:00:00                 0       67112  2016-04-05 18:18:39  \n",
       "7  2016-03-21 00:00:00                 0       19348  2016-03-25 16:47:58  \n",
       "8  2016-04-04 00:00:00                 0       94505  2016-04-04 23:42:13  \n",
       "9  2016-03-17 00:00:00                 0       27472  2016-03-31 17:17:06  "
      ]
     },
     "execution_count": 3,
     "metadata": {},
     "output_type": "execute_result"
    }
   ],
   "source": [
    "data = pd.set_option('display.float_format', '{:,.2f}'.format)\n",
    "data = pd.read_csv('/datasets/autos.csv')\n",
    "data.head(10)"
   ]
  },
  {
   "cell_type": "code",
   "execution_count": 3,
   "metadata": {},
   "outputs": [
    {
     "data": {
      "text/plain": [
       "(354369, 16)"
      ]
     },
     "execution_count": 3,
     "metadata": {},
     "output_type": "execute_result"
    }
   ],
   "source": [
    "data.shape"
   ]
  },
  {
   "cell_type": "code",
   "execution_count": 4,
   "metadata": {},
   "outputs": [
    {
     "data": {
      "text/html": [
       "<div>\n",
       "<style scoped>\n",
       "    .dataframe tbody tr th:only-of-type {\n",
       "        vertical-align: middle;\n",
       "    }\n",
       "\n",
       "    .dataframe tbody tr th {\n",
       "        vertical-align: top;\n",
       "    }\n",
       "\n",
       "    .dataframe thead th {\n",
       "        text-align: right;\n",
       "    }\n",
       "</style>\n",
       "<table border=\"1\" class=\"dataframe\">\n",
       "  <thead>\n",
       "    <tr style=\"text-align: right;\">\n",
       "      <th></th>\n",
       "      <th>Price</th>\n",
       "      <th>RegistrationYear</th>\n",
       "      <th>Power</th>\n",
       "      <th>Kilometer</th>\n",
       "      <th>RegistrationMonth</th>\n",
       "      <th>NumberOfPictures</th>\n",
       "      <th>PostalCode</th>\n",
       "    </tr>\n",
       "  </thead>\n",
       "  <tbody>\n",
       "    <tr>\n",
       "      <th>count</th>\n",
       "      <td>354,369.00</td>\n",
       "      <td>354,369.00</td>\n",
       "      <td>354,369.00</td>\n",
       "      <td>354,369.00</td>\n",
       "      <td>354,369.00</td>\n",
       "      <td>354,369.00</td>\n",
       "      <td>354,369.00</td>\n",
       "    </tr>\n",
       "    <tr>\n",
       "      <th>mean</th>\n",
       "      <td>4,416.66</td>\n",
       "      <td>2,004.23</td>\n",
       "      <td>110.09</td>\n",
       "      <td>128,211.17</td>\n",
       "      <td>5.71</td>\n",
       "      <td>0.00</td>\n",
       "      <td>50,508.69</td>\n",
       "    </tr>\n",
       "    <tr>\n",
       "      <th>std</th>\n",
       "      <td>4,514.16</td>\n",
       "      <td>90.23</td>\n",
       "      <td>189.85</td>\n",
       "      <td>37,905.34</td>\n",
       "      <td>3.73</td>\n",
       "      <td>0.00</td>\n",
       "      <td>25,783.10</td>\n",
       "    </tr>\n",
       "    <tr>\n",
       "      <th>min</th>\n",
       "      <td>0.00</td>\n",
       "      <td>1,000.00</td>\n",
       "      <td>0.00</td>\n",
       "      <td>5,000.00</td>\n",
       "      <td>0.00</td>\n",
       "      <td>0.00</td>\n",
       "      <td>1,067.00</td>\n",
       "    </tr>\n",
       "    <tr>\n",
       "      <th>25%</th>\n",
       "      <td>1,050.00</td>\n",
       "      <td>1,999.00</td>\n",
       "      <td>69.00</td>\n",
       "      <td>125,000.00</td>\n",
       "      <td>3.00</td>\n",
       "      <td>0.00</td>\n",
       "      <td>30,165.00</td>\n",
       "    </tr>\n",
       "    <tr>\n",
       "      <th>50%</th>\n",
       "      <td>2,700.00</td>\n",
       "      <td>2,003.00</td>\n",
       "      <td>105.00</td>\n",
       "      <td>150,000.00</td>\n",
       "      <td>6.00</td>\n",
       "      <td>0.00</td>\n",
       "      <td>49,413.00</td>\n",
       "    </tr>\n",
       "    <tr>\n",
       "      <th>75%</th>\n",
       "      <td>6,400.00</td>\n",
       "      <td>2,008.00</td>\n",
       "      <td>143.00</td>\n",
       "      <td>150,000.00</td>\n",
       "      <td>9.00</td>\n",
       "      <td>0.00</td>\n",
       "      <td>71,083.00</td>\n",
       "    </tr>\n",
       "    <tr>\n",
       "      <th>max</th>\n",
       "      <td>20,000.00</td>\n",
       "      <td>9,999.00</td>\n",
       "      <td>20,000.00</td>\n",
       "      <td>150,000.00</td>\n",
       "      <td>12.00</td>\n",
       "      <td>0.00</td>\n",
       "      <td>99,998.00</td>\n",
       "    </tr>\n",
       "  </tbody>\n",
       "</table>\n",
       "</div>"
      ],
      "text/plain": [
       "           Price  RegistrationYear      Power  Kilometer  RegistrationMonth  \\\n",
       "count 354,369.00        354,369.00 354,369.00 354,369.00         354,369.00   \n",
       "mean    4,416.66          2,004.23     110.09 128,211.17               5.71   \n",
       "std     4,514.16             90.23     189.85  37,905.34               3.73   \n",
       "min         0.00          1,000.00       0.00   5,000.00               0.00   \n",
       "25%     1,050.00          1,999.00      69.00 125,000.00               3.00   \n",
       "50%     2,700.00          2,003.00     105.00 150,000.00               6.00   \n",
       "75%     6,400.00          2,008.00     143.00 150,000.00               9.00   \n",
       "max    20,000.00          9,999.00  20,000.00 150,000.00              12.00   \n",
       "\n",
       "       NumberOfPictures  PostalCode  \n",
       "count        354,369.00  354,369.00  \n",
       "mean               0.00   50,508.69  \n",
       "std                0.00   25,783.10  \n",
       "min                0.00    1,067.00  \n",
       "25%                0.00   30,165.00  \n",
       "50%                0.00   49,413.00  \n",
       "75%                0.00   71,083.00  \n",
       "max                0.00   99,998.00  "
      ]
     },
     "execution_count": 4,
     "metadata": {},
     "output_type": "execute_result"
    }
   ],
   "source": [
    "data.describe()"
   ]
  },
  {
   "cell_type": "code",
   "execution_count": 5,
   "metadata": {},
   "outputs": [
    {
     "data": {
      "text/plain": [
       "4"
      ]
     },
     "execution_count": 5,
     "metadata": {},
     "output_type": "execute_result"
    }
   ],
   "source": [
    "data.duplicated().sum()"
   ]
  },
  {
   "cell_type": "code",
   "execution_count": 6,
   "metadata": {},
   "outputs": [
    {
     "data": {
      "text/plain": [
       "0"
      ]
     },
     "execution_count": 6,
     "metadata": {},
     "output_type": "execute_result"
    }
   ],
   "source": [
    "data.drop_duplicates(inplace=True)\n",
    "data.duplicated().sum()"
   ]
  },
  {
   "cell_type": "code",
   "execution_count": 7,
   "metadata": {},
   "outputs": [
    {
     "data": {
      "text/plain": [
       "DateCrawled              0\n",
       "Price                    0\n",
       "VehicleType          37490\n",
       "RegistrationYear         0\n",
       "Gearbox              19833\n",
       "Power                    0\n",
       "Model                19705\n",
       "Kilometer                0\n",
       "RegistrationMonth        0\n",
       "FuelType             32895\n",
       "Brand                    0\n",
       "NotRepaired          71154\n",
       "DateCreated              0\n",
       "NumberOfPictures         0\n",
       "PostalCode               0\n",
       "LastSeen                 0\n",
       "dtype: int64"
      ]
     },
     "execution_count": 7,
     "metadata": {},
     "output_type": "execute_result"
    }
   ],
   "source": [
    "data.isna().sum()"
   ]
  },
  {
   "cell_type": "markdown",
   "metadata": {},
   "source": [
    "<div class=\"alert alert-info\"> <b>Комментарий студента:</b> \n",
    "\n",
    "Удалим ненужные признаки 'DateCrawled', 'NumberOfPictures', 'DateCreated', 'LastSeen', 'RegistrationMonth'.\n",
    "    \n",
    "Удалили 4 дубликата.\n",
    "    \n",
    "Есть пропуски в 5 столбцах:\n",
    "    \n",
    "- 'NotRepaired' значение да/нет заменим на 1 и 0, предположим что пропуски это небитые заменим на 0.\n",
    "    \n",
    "- 'VehicleType', 'Gearbox', 'FuelType' заменим на более частые значения.\n",
    "\n",
    "- 'Model' пропуски заменим на unknow. \n",
    "    \n",
    "</div>"
   ]
  },
  {
   "cell_type": "markdown",
   "metadata": {},
   "source": [
    "<div class=\"alert alert-info\"> <b>Комментарий студента V2:</b> \n",
    "\n",
    "Так как задача стоит быстрый поиск авто по ТТХ, то признаки не связанные с авто будут влиять на скорость поиска и точность результата.    \n",
    "    \n",
    "Признаки: 'DateCrawled', 'DateCreated', 'LastSeen' - эти признаки относятся к самому обьявлению.\n",
    "    \n",
    "Признак 'NumberOfPictures' - кроме одной строки все остальные значения нулевые.    \n",
    "    \n",
    "Признак 'RegistrationMonth' - месяц регистрации не нужен для подбора авто.\n",
    "    \n",
    "</div>"
   ]
  },
  {
   "cell_type": "code",
   "execution_count": 4,
   "metadata": {},
   "outputs": [],
   "source": [
    "# Удалим столбци\n",
    "data = data.drop(labels=['DateCrawled', 'NumberOfPictures', 'DateCreated', 'LastSeen', 'RegistrationMonth'], axis=1)"
   ]
  },
  {
   "cell_type": "code",
   "execution_count": 5,
   "metadata": {},
   "outputs": [
    {
     "data": {
      "text/html": [
       "<div>\n",
       "<style scoped>\n",
       "    .dataframe tbody tr th:only-of-type {\n",
       "        vertical-align: middle;\n",
       "    }\n",
       "\n",
       "    .dataframe tbody tr th {\n",
       "        vertical-align: top;\n",
       "    }\n",
       "\n",
       "    .dataframe thead th {\n",
       "        text-align: right;\n",
       "    }\n",
       "</style>\n",
       "<table border=\"1\" class=\"dataframe\">\n",
       "  <thead>\n",
       "    <tr style=\"text-align: right;\">\n",
       "      <th></th>\n",
       "      <th>Price</th>\n",
       "      <th>VehicleType</th>\n",
       "      <th>RegistrationYear</th>\n",
       "      <th>Gearbox</th>\n",
       "      <th>Power</th>\n",
       "      <th>Model</th>\n",
       "      <th>Kilometer</th>\n",
       "      <th>FuelType</th>\n",
       "      <th>Brand</th>\n",
       "      <th>NotRepaired</th>\n",
       "      <th>PostalCode</th>\n",
       "    </tr>\n",
       "  </thead>\n",
       "  <tbody>\n",
       "    <tr>\n",
       "      <th>0</th>\n",
       "      <td>480</td>\n",
       "      <td>NaN</td>\n",
       "      <td>1993</td>\n",
       "      <td>manual</td>\n",
       "      <td>0</td>\n",
       "      <td>golf</td>\n",
       "      <td>150000</td>\n",
       "      <td>petrol</td>\n",
       "      <td>volkswagen</td>\n",
       "      <td>0</td>\n",
       "      <td>70435</td>\n",
       "    </tr>\n",
       "    <tr>\n",
       "      <th>1</th>\n",
       "      <td>18300</td>\n",
       "      <td>coupe</td>\n",
       "      <td>2011</td>\n",
       "      <td>manual</td>\n",
       "      <td>190</td>\n",
       "      <td>NaN</td>\n",
       "      <td>125000</td>\n",
       "      <td>gasoline</td>\n",
       "      <td>audi</td>\n",
       "      <td>1</td>\n",
       "      <td>66954</td>\n",
       "    </tr>\n",
       "    <tr>\n",
       "      <th>2</th>\n",
       "      <td>9800</td>\n",
       "      <td>suv</td>\n",
       "      <td>2004</td>\n",
       "      <td>auto</td>\n",
       "      <td>163</td>\n",
       "      <td>grand</td>\n",
       "      <td>125000</td>\n",
       "      <td>gasoline</td>\n",
       "      <td>jeep</td>\n",
       "      <td>0</td>\n",
       "      <td>90480</td>\n",
       "    </tr>\n",
       "    <tr>\n",
       "      <th>3</th>\n",
       "      <td>1500</td>\n",
       "      <td>small</td>\n",
       "      <td>2001</td>\n",
       "      <td>manual</td>\n",
       "      <td>75</td>\n",
       "      <td>golf</td>\n",
       "      <td>150000</td>\n",
       "      <td>petrol</td>\n",
       "      <td>volkswagen</td>\n",
       "      <td>0</td>\n",
       "      <td>91074</td>\n",
       "    </tr>\n",
       "    <tr>\n",
       "      <th>4</th>\n",
       "      <td>3600</td>\n",
       "      <td>small</td>\n",
       "      <td>2008</td>\n",
       "      <td>manual</td>\n",
       "      <td>69</td>\n",
       "      <td>fabia</td>\n",
       "      <td>90000</td>\n",
       "      <td>gasoline</td>\n",
       "      <td>skoda</td>\n",
       "      <td>0</td>\n",
       "      <td>60437</td>\n",
       "    </tr>\n",
       "    <tr>\n",
       "      <th>5</th>\n",
       "      <td>650</td>\n",
       "      <td>sedan</td>\n",
       "      <td>1995</td>\n",
       "      <td>manual</td>\n",
       "      <td>102</td>\n",
       "      <td>3er</td>\n",
       "      <td>150000</td>\n",
       "      <td>petrol</td>\n",
       "      <td>bmw</td>\n",
       "      <td>1</td>\n",
       "      <td>33775</td>\n",
       "    </tr>\n",
       "    <tr>\n",
       "      <th>6</th>\n",
       "      <td>2200</td>\n",
       "      <td>convertible</td>\n",
       "      <td>2004</td>\n",
       "      <td>manual</td>\n",
       "      <td>109</td>\n",
       "      <td>2_reihe</td>\n",
       "      <td>150000</td>\n",
       "      <td>petrol</td>\n",
       "      <td>peugeot</td>\n",
       "      <td>0</td>\n",
       "      <td>67112</td>\n",
       "    </tr>\n",
       "    <tr>\n",
       "      <th>7</th>\n",
       "      <td>0</td>\n",
       "      <td>sedan</td>\n",
       "      <td>1980</td>\n",
       "      <td>manual</td>\n",
       "      <td>50</td>\n",
       "      <td>other</td>\n",
       "      <td>40000</td>\n",
       "      <td>petrol</td>\n",
       "      <td>volkswagen</td>\n",
       "      <td>0</td>\n",
       "      <td>19348</td>\n",
       "    </tr>\n",
       "    <tr>\n",
       "      <th>8</th>\n",
       "      <td>14500</td>\n",
       "      <td>bus</td>\n",
       "      <td>2014</td>\n",
       "      <td>manual</td>\n",
       "      <td>125</td>\n",
       "      <td>c_max</td>\n",
       "      <td>30000</td>\n",
       "      <td>petrol</td>\n",
       "      <td>ford</td>\n",
       "      <td>0</td>\n",
       "      <td>94505</td>\n",
       "    </tr>\n",
       "    <tr>\n",
       "      <th>9</th>\n",
       "      <td>999</td>\n",
       "      <td>small</td>\n",
       "      <td>1998</td>\n",
       "      <td>manual</td>\n",
       "      <td>101</td>\n",
       "      <td>golf</td>\n",
       "      <td>150000</td>\n",
       "      <td>NaN</td>\n",
       "      <td>volkswagen</td>\n",
       "      <td>0</td>\n",
       "      <td>27472</td>\n",
       "    </tr>\n",
       "  </tbody>\n",
       "</table>\n",
       "</div>"
      ],
      "text/plain": [
       "   Price  VehicleType  RegistrationYear Gearbox  Power    Model  Kilometer  \\\n",
       "0    480          NaN              1993  manual      0     golf     150000   \n",
       "1  18300        coupe              2011  manual    190      NaN     125000   \n",
       "2   9800          suv              2004    auto    163    grand     125000   \n",
       "3   1500        small              2001  manual     75     golf     150000   \n",
       "4   3600        small              2008  manual     69    fabia      90000   \n",
       "5    650        sedan              1995  manual    102      3er     150000   \n",
       "6   2200  convertible              2004  manual    109  2_reihe     150000   \n",
       "7      0        sedan              1980  manual     50    other      40000   \n",
       "8  14500          bus              2014  manual    125    c_max      30000   \n",
       "9    999        small              1998  manual    101     golf     150000   \n",
       "\n",
       "   FuelType       Brand  NotRepaired  PostalCode  \n",
       "0    petrol  volkswagen            0       70435  \n",
       "1  gasoline        audi            1       66954  \n",
       "2  gasoline        jeep            0       90480  \n",
       "3    petrol  volkswagen            0       91074  \n",
       "4  gasoline       skoda            0       60437  \n",
       "5    petrol         bmw            1       33775  \n",
       "6    petrol     peugeot            0       67112  \n",
       "7    petrol  volkswagen            0       19348  \n",
       "8    petrol        ford            0       94505  \n",
       "9       NaN  volkswagen            0       27472  "
      ]
     },
     "execution_count": 5,
     "metadata": {},
     "output_type": "execute_result"
    }
   ],
   "source": [
    "# заменим да/нет в 'NotRepaired', обработаем пропуски\n",
    "data['NotRepaired'] = data['NotRepaired'].map({'yes': 1, 'no': 0})\n",
    "data['NotRepaired'] = data['NotRepaired'].fillna('0').astype('int')\n",
    "data.head(10)"
   ]
  },
  {
   "cell_type": "code",
   "execution_count": 6,
   "metadata": {},
   "outputs": [
    {
     "data": {
      "text/html": [
       "<div>\n",
       "<style scoped>\n",
       "    .dataframe tbody tr th:only-of-type {\n",
       "        vertical-align: middle;\n",
       "    }\n",
       "\n",
       "    .dataframe tbody tr th {\n",
       "        vertical-align: top;\n",
       "    }\n",
       "\n",
       "    .dataframe thead th {\n",
       "        text-align: right;\n",
       "    }\n",
       "</style>\n",
       "<table border=\"1\" class=\"dataframe\">\n",
       "  <thead>\n",
       "    <tr style=\"text-align: right;\">\n",
       "      <th></th>\n",
       "      <th>Price</th>\n",
       "      <th>VehicleType</th>\n",
       "      <th>RegistrationYear</th>\n",
       "      <th>Gearbox</th>\n",
       "      <th>Power</th>\n",
       "      <th>Model</th>\n",
       "      <th>Kilometer</th>\n",
       "      <th>FuelType</th>\n",
       "      <th>Brand</th>\n",
       "      <th>NotRepaired</th>\n",
       "      <th>PostalCode</th>\n",
       "    </tr>\n",
       "  </thead>\n",
       "  <tbody>\n",
       "    <tr>\n",
       "      <th>0</th>\n",
       "      <td>480</td>\n",
       "      <td>sedan</td>\n",
       "      <td>1993</td>\n",
       "      <td>manual</td>\n",
       "      <td>0</td>\n",
       "      <td>golf</td>\n",
       "      <td>150000</td>\n",
       "      <td>petrol</td>\n",
       "      <td>volkswagen</td>\n",
       "      <td>0</td>\n",
       "      <td>70435</td>\n",
       "    </tr>\n",
       "    <tr>\n",
       "      <th>1</th>\n",
       "      <td>18300</td>\n",
       "      <td>coupe</td>\n",
       "      <td>2011</td>\n",
       "      <td>manual</td>\n",
       "      <td>190</td>\n",
       "      <td>unknow</td>\n",
       "      <td>125000</td>\n",
       "      <td>gasoline</td>\n",
       "      <td>audi</td>\n",
       "      <td>1</td>\n",
       "      <td>66954</td>\n",
       "    </tr>\n",
       "    <tr>\n",
       "      <th>2</th>\n",
       "      <td>9800</td>\n",
       "      <td>suv</td>\n",
       "      <td>2004</td>\n",
       "      <td>auto</td>\n",
       "      <td>163</td>\n",
       "      <td>grand</td>\n",
       "      <td>125000</td>\n",
       "      <td>gasoline</td>\n",
       "      <td>jeep</td>\n",
       "      <td>0</td>\n",
       "      <td>90480</td>\n",
       "    </tr>\n",
       "    <tr>\n",
       "      <th>3</th>\n",
       "      <td>1500</td>\n",
       "      <td>small</td>\n",
       "      <td>2001</td>\n",
       "      <td>manual</td>\n",
       "      <td>75</td>\n",
       "      <td>golf</td>\n",
       "      <td>150000</td>\n",
       "      <td>petrol</td>\n",
       "      <td>volkswagen</td>\n",
       "      <td>0</td>\n",
       "      <td>91074</td>\n",
       "    </tr>\n",
       "    <tr>\n",
       "      <th>4</th>\n",
       "      <td>3600</td>\n",
       "      <td>small</td>\n",
       "      <td>2008</td>\n",
       "      <td>manual</td>\n",
       "      <td>69</td>\n",
       "      <td>fabia</td>\n",
       "      <td>90000</td>\n",
       "      <td>gasoline</td>\n",
       "      <td>skoda</td>\n",
       "      <td>0</td>\n",
       "      <td>60437</td>\n",
       "    </tr>\n",
       "    <tr>\n",
       "      <th>5</th>\n",
       "      <td>650</td>\n",
       "      <td>sedan</td>\n",
       "      <td>1995</td>\n",
       "      <td>manual</td>\n",
       "      <td>102</td>\n",
       "      <td>3er</td>\n",
       "      <td>150000</td>\n",
       "      <td>petrol</td>\n",
       "      <td>bmw</td>\n",
       "      <td>1</td>\n",
       "      <td>33775</td>\n",
       "    </tr>\n",
       "    <tr>\n",
       "      <th>6</th>\n",
       "      <td>2200</td>\n",
       "      <td>convertible</td>\n",
       "      <td>2004</td>\n",
       "      <td>manual</td>\n",
       "      <td>109</td>\n",
       "      <td>2_reihe</td>\n",
       "      <td>150000</td>\n",
       "      <td>petrol</td>\n",
       "      <td>peugeot</td>\n",
       "      <td>0</td>\n",
       "      <td>67112</td>\n",
       "    </tr>\n",
       "    <tr>\n",
       "      <th>7</th>\n",
       "      <td>0</td>\n",
       "      <td>sedan</td>\n",
       "      <td>1980</td>\n",
       "      <td>manual</td>\n",
       "      <td>50</td>\n",
       "      <td>other</td>\n",
       "      <td>40000</td>\n",
       "      <td>petrol</td>\n",
       "      <td>volkswagen</td>\n",
       "      <td>0</td>\n",
       "      <td>19348</td>\n",
       "    </tr>\n",
       "    <tr>\n",
       "      <th>8</th>\n",
       "      <td>14500</td>\n",
       "      <td>bus</td>\n",
       "      <td>2014</td>\n",
       "      <td>manual</td>\n",
       "      <td>125</td>\n",
       "      <td>c_max</td>\n",
       "      <td>30000</td>\n",
       "      <td>petrol</td>\n",
       "      <td>ford</td>\n",
       "      <td>0</td>\n",
       "      <td>94505</td>\n",
       "    </tr>\n",
       "    <tr>\n",
       "      <th>9</th>\n",
       "      <td>999</td>\n",
       "      <td>small</td>\n",
       "      <td>1998</td>\n",
       "      <td>manual</td>\n",
       "      <td>101</td>\n",
       "      <td>golf</td>\n",
       "      <td>150000</td>\n",
       "      <td>petrol</td>\n",
       "      <td>volkswagen</td>\n",
       "      <td>0</td>\n",
       "      <td>27472</td>\n",
       "    </tr>\n",
       "  </tbody>\n",
       "</table>\n",
       "</div>"
      ],
      "text/plain": [
       "   Price  VehicleType  RegistrationYear Gearbox  Power    Model  Kilometer  \\\n",
       "0    480        sedan              1993  manual      0     golf     150000   \n",
       "1  18300        coupe              2011  manual    190   unknow     125000   \n",
       "2   9800          suv              2004    auto    163    grand     125000   \n",
       "3   1500        small              2001  manual     75     golf     150000   \n",
       "4   3600        small              2008  manual     69    fabia      90000   \n",
       "5    650        sedan              1995  manual    102      3er     150000   \n",
       "6   2200  convertible              2004  manual    109  2_reihe     150000   \n",
       "7      0        sedan              1980  manual     50    other      40000   \n",
       "8  14500          bus              2014  manual    125    c_max      30000   \n",
       "9    999        small              1998  manual    101     golf     150000   \n",
       "\n",
       "   FuelType       Brand  NotRepaired  PostalCode  \n",
       "0    petrol  volkswagen            0       70435  \n",
       "1  gasoline        audi            1       66954  \n",
       "2  gasoline        jeep            0       90480  \n",
       "3    petrol  volkswagen            0       91074  \n",
       "4  gasoline       skoda            0       60437  \n",
       "5    petrol         bmw            1       33775  \n",
       "6    petrol     peugeot            0       67112  \n",
       "7    petrol  volkswagen            0       19348  \n",
       "8    petrol        ford            0       94505  \n",
       "9    petrol  volkswagen            0       27472  "
      ]
     },
     "execution_count": 6,
     "metadata": {},
     "output_type": "execute_result"
    }
   ],
   "source": [
    "# заменим пропуски в 'VehicleType', 'Gearbox', 'FuelType', 'Model'\n",
    "data['Model'] = data['Model'].fillna('unknow')\n",
    "#data['VehicleType'] = data.groupby(['Brand', 'Model'])['VehicleType'].transform(\n",
    "#    lambda x: x.fillna(value=(x.mode()[0] if not x.mode().empty else \"Empty\")))\n",
    "#data['Gearbox'] = data.groupby(['Brand', 'Model'])['Gearbox'].transform(\n",
    "#    lambda x: x.fillna(value=(x.mode()[0] if not x.mode().empty else \"Empty\")))\n",
    "#data['FuelType'] = data.groupby(['Brand', 'Model'])['FuelType'].transform(\n",
    "#    lambda x: x.fillna(value=(x.mode()[0] if not x.mode().empty else \"Empty\")))\n",
    "#data.head(10)\n",
    "\n",
    "columns = ['VehicleType', 'Gearbox', 'FuelType']\n",
    "\n",
    "for column in columns:\n",
    "    data[column] = data.groupby(['Brand', 'Model'])[column].transform(\n",
    "    lambda x: x.fillna(value=(x.mode()[0] if not x.mode().empty else \"Empty\")))\n",
    "    \n",
    "data.head(10)"
   ]
  },
  {
   "cell_type": "code",
   "execution_count": 11,
   "metadata": {},
   "outputs": [
    {
     "data": {
      "text/plain": [
       "Price               0\n",
       "VehicleType         0\n",
       "RegistrationYear    0\n",
       "Gearbox             0\n",
       "Power               0\n",
       "Model               0\n",
       "Kilometer           0\n",
       "FuelType            0\n",
       "Brand               0\n",
       "NotRepaired         0\n",
       "PostalCode          0\n",
       "dtype: int64"
      ]
     },
     "execution_count": 11,
     "metadata": {},
     "output_type": "execute_result"
    }
   ],
   "source": [
    "data.isna().sum()"
   ]
  },
  {
   "cell_type": "code",
   "execution_count": 12,
   "metadata": {},
   "outputs": [
    {
     "data": {
      "text/plain": [
       "(354365, 11)"
      ]
     },
     "execution_count": 12,
     "metadata": {},
     "output_type": "execute_result"
    }
   ],
   "source": [
    "data.shape"
   ]
  },
  {
   "cell_type": "code",
   "execution_count": 13,
   "metadata": {},
   "outputs": [
    {
     "data": {
      "text/html": [
       "<div>\n",
       "<style scoped>\n",
       "    .dataframe tbody tr th:only-of-type {\n",
       "        vertical-align: middle;\n",
       "    }\n",
       "\n",
       "    .dataframe tbody tr th {\n",
       "        vertical-align: top;\n",
       "    }\n",
       "\n",
       "    .dataframe thead th {\n",
       "        text-align: right;\n",
       "    }\n",
       "</style>\n",
       "<table border=\"1\" class=\"dataframe\">\n",
       "  <thead>\n",
       "    <tr style=\"text-align: right;\">\n",
       "      <th></th>\n",
       "      <th>Price</th>\n",
       "      <th>RegistrationYear</th>\n",
       "      <th>Power</th>\n",
       "      <th>Kilometer</th>\n",
       "      <th>NotRepaired</th>\n",
       "      <th>PostalCode</th>\n",
       "    </tr>\n",
       "  </thead>\n",
       "  <tbody>\n",
       "    <tr>\n",
       "      <th>count</th>\n",
       "      <td>354,365.00</td>\n",
       "      <td>354,365.00</td>\n",
       "      <td>354,365.00</td>\n",
       "      <td>354,365.00</td>\n",
       "      <td>354,365.00</td>\n",
       "      <td>354,365.00</td>\n",
       "    </tr>\n",
       "    <tr>\n",
       "      <th>mean</th>\n",
       "      <td>4,416.68</td>\n",
       "      <td>2,004.23</td>\n",
       "      <td>110.09</td>\n",
       "      <td>128,211.36</td>\n",
       "      <td>0.10</td>\n",
       "      <td>50,508.50</td>\n",
       "    </tr>\n",
       "    <tr>\n",
       "      <th>std</th>\n",
       "      <td>4,514.18</td>\n",
       "      <td>90.23</td>\n",
       "      <td>189.85</td>\n",
       "      <td>37,905.08</td>\n",
       "      <td>0.30</td>\n",
       "      <td>25,783.10</td>\n",
       "    </tr>\n",
       "    <tr>\n",
       "      <th>min</th>\n",
       "      <td>0.00</td>\n",
       "      <td>1,000.00</td>\n",
       "      <td>0.00</td>\n",
       "      <td>5,000.00</td>\n",
       "      <td>0.00</td>\n",
       "      <td>1,067.00</td>\n",
       "    </tr>\n",
       "    <tr>\n",
       "      <th>25%</th>\n",
       "      <td>1,050.00</td>\n",
       "      <td>1,999.00</td>\n",
       "      <td>69.00</td>\n",
       "      <td>125,000.00</td>\n",
       "      <td>0.00</td>\n",
       "      <td>30,165.00</td>\n",
       "    </tr>\n",
       "    <tr>\n",
       "      <th>50%</th>\n",
       "      <td>2,700.00</td>\n",
       "      <td>2,003.00</td>\n",
       "      <td>105.00</td>\n",
       "      <td>150,000.00</td>\n",
       "      <td>0.00</td>\n",
       "      <td>49,413.00</td>\n",
       "    </tr>\n",
       "    <tr>\n",
       "      <th>75%</th>\n",
       "      <td>6,400.00</td>\n",
       "      <td>2,008.00</td>\n",
       "      <td>143.00</td>\n",
       "      <td>150,000.00</td>\n",
       "      <td>0.00</td>\n",
       "      <td>71,083.00</td>\n",
       "    </tr>\n",
       "    <tr>\n",
       "      <th>max</th>\n",
       "      <td>20,000.00</td>\n",
       "      <td>9,999.00</td>\n",
       "      <td>20,000.00</td>\n",
       "      <td>150,000.00</td>\n",
       "      <td>1.00</td>\n",
       "      <td>99,998.00</td>\n",
       "    </tr>\n",
       "  </tbody>\n",
       "</table>\n",
       "</div>"
      ],
      "text/plain": [
       "           Price  RegistrationYear      Power  Kilometer  NotRepaired  \\\n",
       "count 354,365.00        354,365.00 354,365.00 354,365.00   354,365.00   \n",
       "mean    4,416.68          2,004.23     110.09 128,211.36         0.10   \n",
       "std     4,514.18             90.23     189.85  37,905.08         0.30   \n",
       "min         0.00          1,000.00       0.00   5,000.00         0.00   \n",
       "25%     1,050.00          1,999.00      69.00 125,000.00         0.00   \n",
       "50%     2,700.00          2,003.00     105.00 150,000.00         0.00   \n",
       "75%     6,400.00          2,008.00     143.00 150,000.00         0.00   \n",
       "max    20,000.00          9,999.00  20,000.00 150,000.00         1.00   \n",
       "\n",
       "       PostalCode  \n",
       "count  354,365.00  \n",
       "mean    50,508.50  \n",
       "std     25,783.10  \n",
       "min      1,067.00  \n",
       "25%     30,165.00  \n",
       "50%     49,413.00  \n",
       "75%     71,083.00  \n",
       "max     99,998.00  "
      ]
     },
     "execution_count": 13,
     "metadata": {},
     "output_type": "execute_result"
    }
   ],
   "source": [
    "data.describe()"
   ]
  },
  {
   "cell_type": "code",
   "execution_count": 14,
   "metadata": {},
   "outputs": [],
   "source": [
    "def boxplot(data, column, title, figsize=(15,3), color='blue', xlabel='', xlim=None):\n",
    "        plt.figure(figsize=figsize)\n",
    "\n",
    "        ax = sns.boxplot(x=data[column], color=color)\n",
    "\n",
    "        if (xlim != None):\n",
    "            plt.xlim(xlim)\n",
    "\n",
    "        ax.set(xlabel=xlabel, title=title)"
   ]
  },
  {
   "cell_type": "code",
   "execution_count": 15,
   "metadata": {},
   "outputs": [],
   "source": [
    "def histogram(data, column, title, figsize=(14,5), color='blue', xlabel='', ylabel='', kde=False,\n",
    "              bins=None, xticks=0, xlim=None, ylim=None):\n",
    "        plt.figure(figsize=figsize)\n",
    "\n",
    "        ax = sns.distplot(data[column], color=color, kde=kde, bins=bins)\n",
    "\n",
    "        if (xlim != None):\n",
    "            plt.xlim(xlim)\n",
    "        if (ylim != None):\n",
    "            plt.ylim(ylim)\n",
    "\n",
    "        ax.set(xlabel=xlabel, ylabel=ylabel, title=title)\n",
    "\n",
    "        if xticks != 0:\n",
    "            ax.set(xticks=xticks)"
   ]
  },
  {
   "cell_type": "code",
   "execution_count": 16,
   "metadata": {},
   "outputs": [
    {
     "data": {
      "image/png": "[encoded data removed]",
      "text/plain": [
       "<Figure size 1008x360 with 1 Axes>"
      ]
     },
     "metadata": {
      "needs_background": "light"
     },
     "output_type": "display_data"
    },
    {
     "data": {
      "image/png": "[encoded data removed]",
      "text/plain": [
       "<Figure size 1080x216 with 1 Axes>"
      ]
     },
     "metadata": {
      "needs_background": "light"
     },
     "output_type": "display_data"
    }
   ],
   "source": [
    "histogram(data, 'Price', 'Соотношение по цене', \n",
    "                      xlabel='Цена', ylabel='Количество предложений')\n",
    "boxplot(data, 'Price', 'Диаграмма размаха', \n",
    "                    xlabel='Цена')"
   ]
  },
  {
   "cell_type": "code",
   "execution_count": 17,
   "metadata": {},
   "outputs": [
    {
     "data": {
      "text/plain": [
       "10772"
      ]
     },
     "execution_count": 17,
     "metadata": {},
     "output_type": "execute_result"
    }
   ],
   "source": [
    "# Проверим количество 0 значений\n",
    "data.query('Price ==0').shape[0]"
   ]
  },
  {
   "cell_type": "markdown",
   "metadata": {},
   "source": [
    "Вывод: Почти 11 т. записей с 0 ценной, цена авто не должна быть 0, удалим. "
   ]
  },
  {
   "cell_type": "code",
   "execution_count": 7,
   "metadata": {},
   "outputs": [],
   "source": [
    "data_upd = data.query('Price != 0')"
   ]
  },
  {
   "cell_type": "code",
   "execution_count": 19,
   "metadata": {},
   "outputs": [
    {
     "data": {
      "image/png": "[encoded data removed]",
      "text/plain": [
       "<Figure size 1008x360 with 1 Axes>"
      ]
     },
     "metadata": {
      "needs_background": "light"
     },
     "output_type": "display_data"
    },
    {
     "data": {
      "image/png": "[encoded data removed]",
      "text/plain": [
       "<Figure size 1080x216 with 1 Axes>"
      ]
     },
     "metadata": {
      "needs_background": "light"
     },
     "output_type": "display_data"
    }
   ],
   "source": [
    "histogram(data_upd, 'RegistrationYear', 'Соотношение по году регистрации', \n",
    "                      xlabel='Цена', ylabel='Количество предложений', xlim=(1950, 2050), bins=750)\n",
    "boxplot(data_upd, 'RegistrationYear', 'Диаграмма размаха', \n",
    "                    xlabel='Год регистрации')"
   ]
  },
  {
   "cell_type": "code",
   "execution_count": 20,
   "metadata": {},
   "outputs": [
    {
     "data": {
      "text/plain": [
       "86"
      ]
     },
     "execution_count": 20,
     "metadata": {},
     "output_type": "execute_result"
    }
   ],
   "source": [
    "data_upd.query('RegistrationYear > 2020').shape[0]"
   ]
  },
  {
   "cell_type": "markdown",
   "metadata": {},
   "source": [
    "Вывод: Выбросов после 2020 г., удалим их."
   ]
  },
  {
   "cell_type": "code",
   "execution_count": 8,
   "metadata": {},
   "outputs": [],
   "source": [
    "data_upd = data_upd.query('RegistrationYear < 2020')"
   ]
  },
  {
   "cell_type": "code",
   "execution_count": 22,
   "metadata": {},
   "outputs": [
    {
     "data": {
      "image/png": "[encoded data removed]",
      "text/plain": [
       "<Figure size 1008x360 with 1 Axes>"
      ]
     },
     "metadata": {
      "needs_background": "light"
     },
     "output_type": "display_data"
    },
    {
     "data": {
      "image/png": "[encoded data removed]",
      "text/plain": [
       "<Figure size 1080x216 with 1 Axes>"
      ]
     },
     "metadata": {
      "needs_background": "light"
     },
     "output_type": "display_data"
    }
   ],
   "source": [
    "histogram(data_upd, 'Power', 'Соотношение по мощности', \n",
    "                      xlabel='Цена', ylabel='Количество предложений', xlim=(-100,500), bins=500)\n",
    "boxplot(data_upd, 'Power', 'Диаграмма размаха', \n",
    "                    xlabel='Мощность', xlim=(-100, 2000))"
   ]
  },
  {
   "cell_type": "code",
   "execution_count": 23,
   "metadata": {},
   "outputs": [
    {
     "name": "stdout",
     "output_type": "stream",
     "text": [
      "37155\n",
      "284\n"
     ]
    }
   ],
   "source": [
    "print(data_upd.query('0 <= Power < 30').shape[0])\n",
    "print(data_upd.query('Power > 1000').shape[0])"
   ]
  },
  {
   "cell_type": "markdown",
   "metadata": {},
   "source": [
    "Вывод: Есть 284 значения больше 1000 л.с. и ~ 37 т. значение от 0 до 30 л.с., то что больше 1000 лс удалим, остальное будем анализировать."
   ]
  },
  {
   "cell_type": "code",
   "execution_count": 9,
   "metadata": {},
   "outputs": [],
   "source": [
    "data_upd = data_upd.query('Power < 1000')"
   ]
  },
  {
   "cell_type": "markdown",
   "metadata": {},
   "source": [
    "Вывод: заменим значения ниже 30 лс на nan, затем как делали выше заменим на среднее."
   ]
  },
  {
   "cell_type": "code",
   "execution_count": 10,
   "metadata": {},
   "outputs": [],
   "source": [
    "data_upd.loc[(data_upd['Power'] <= 20), 'Power'] = 0\n",
    "data_upd['Power'].replace(0, np.nan, inplace=True)\n",
    "median = data_upd.groupby(['Brand', 'Model', 'FuelType', 'Gearbox', 'RegistrationYear', \n",
    "                           'VehicleType'])['Power'].transform('median')\n",
    "data_upd['Power'] = data_upd.groupby(['Brand', 'Model'])['Power'].transform(\n",
    "    lambda x: x.fillna(value=(x.mode()[0] if not x.mode().empty else median)))"
   ]
  },
  {
   "cell_type": "code",
   "execution_count": 26,
   "metadata": {},
   "outputs": [
    {
     "data": {
      "text/html": [
       "<div>\n",
       "<style scoped>\n",
       "    .dataframe tbody tr th:only-of-type {\n",
       "        vertical-align: middle;\n",
       "    }\n",
       "\n",
       "    .dataframe tbody tr th {\n",
       "        vertical-align: top;\n",
       "    }\n",
       "\n",
       "    .dataframe thead th {\n",
       "        text-align: right;\n",
       "    }\n",
       "</style>\n",
       "<table border=\"1\" class=\"dataframe\">\n",
       "  <thead>\n",
       "    <tr style=\"text-align: right;\">\n",
       "      <th></th>\n",
       "      <th>Price</th>\n",
       "      <th>RegistrationYear</th>\n",
       "      <th>Power</th>\n",
       "      <th>Kilometer</th>\n",
       "      <th>NotRepaired</th>\n",
       "      <th>PostalCode</th>\n",
       "    </tr>\n",
       "  </thead>\n",
       "  <tbody>\n",
       "    <tr>\n",
       "      <th>count</th>\n",
       "      <td>343,216.00</td>\n",
       "      <td>343,216.00</td>\n",
       "      <td>343,215.00</td>\n",
       "      <td>343,216.00</td>\n",
       "      <td>343,216.00</td>\n",
       "      <td>343,216.00</td>\n",
       "    </tr>\n",
       "    <tr>\n",
       "      <th>mean</th>\n",
       "      <td>4,556.59</td>\n",
       "      <td>2,003.07</td>\n",
       "      <td>118.66</td>\n",
       "      <td>128,371.23</td>\n",
       "      <td>0.10</td>\n",
       "      <td>50,689.79</td>\n",
       "    </tr>\n",
       "    <tr>\n",
       "      <th>std</th>\n",
       "      <td>4,515.62</td>\n",
       "      <td>12.62</td>\n",
       "      <td>53.89</td>\n",
       "      <td>37,469.16</td>\n",
       "      <td>0.30</td>\n",
       "      <td>25,744.96</td>\n",
       "    </tr>\n",
       "    <tr>\n",
       "      <th>min</th>\n",
       "      <td>1.00</td>\n",
       "      <td>1,000.00</td>\n",
       "      <td>21.00</td>\n",
       "      <td>5,000.00</td>\n",
       "      <td>0.00</td>\n",
       "      <td>1,067.00</td>\n",
       "    </tr>\n",
       "    <tr>\n",
       "      <th>25%</th>\n",
       "      <td>1,200.00</td>\n",
       "      <td>1,999.00</td>\n",
       "      <td>75.00</td>\n",
       "      <td>125,000.00</td>\n",
       "      <td>0.00</td>\n",
       "      <td>30,449.00</td>\n",
       "    </tr>\n",
       "    <tr>\n",
       "      <th>50%</th>\n",
       "      <td>2,890.00</td>\n",
       "      <td>2,003.00</td>\n",
       "      <td>109.00</td>\n",
       "      <td>150,000.00</td>\n",
       "      <td>0.00</td>\n",
       "      <td>49,525.00</td>\n",
       "    </tr>\n",
       "    <tr>\n",
       "      <th>75%</th>\n",
       "      <td>6,500.00</td>\n",
       "      <td>2,008.00</td>\n",
       "      <td>145.00</td>\n",
       "      <td>150,000.00</td>\n",
       "      <td>0.00</td>\n",
       "      <td>71,229.00</td>\n",
       "    </tr>\n",
       "    <tr>\n",
       "      <th>max</th>\n",
       "      <td>20,000.00</td>\n",
       "      <td>2,019.00</td>\n",
       "      <td>999.00</td>\n",
       "      <td>150,000.00</td>\n",
       "      <td>1.00</td>\n",
       "      <td>99,998.00</td>\n",
       "    </tr>\n",
       "  </tbody>\n",
       "</table>\n",
       "</div>"
      ],
      "text/plain": [
       "           Price  RegistrationYear      Power  Kilometer  NotRepaired  \\\n",
       "count 343,216.00        343,216.00 343,215.00 343,216.00   343,216.00   \n",
       "mean    4,556.59          2,003.07     118.66 128,371.23         0.10   \n",
       "std     4,515.62             12.62      53.89  37,469.16         0.30   \n",
       "min         1.00          1,000.00      21.00   5,000.00         0.00   \n",
       "25%     1,200.00          1,999.00      75.00 125,000.00         0.00   \n",
       "50%     2,890.00          2,003.00     109.00 150,000.00         0.00   \n",
       "75%     6,500.00          2,008.00     145.00 150,000.00         0.00   \n",
       "max    20,000.00          2,019.00     999.00 150,000.00         1.00   \n",
       "\n",
       "       PostalCode  \n",
       "count  343,216.00  \n",
       "mean    50,689.79  \n",
       "std     25,744.96  \n",
       "min      1,067.00  \n",
       "25%     30,449.00  \n",
       "50%     49,525.00  \n",
       "75%     71,229.00  \n",
       "max     99,998.00  "
      ]
     },
     "execution_count": 26,
     "metadata": {},
     "output_type": "execute_result"
    }
   ],
   "source": [
    "data_upd.describe()"
   ]
  },
  {
   "cell_type": "code",
   "execution_count": 27,
   "metadata": {},
   "outputs": [],
   "source": [
    "data_upd.dropna(inplace=True)"
   ]
  },
  {
   "cell_type": "code",
   "execution_count": 28,
   "metadata": {
    "scrolled": false
   },
   "outputs": [
    {
     "data": {
      "text/plain": [
       "<AxesSubplot:>"
      ]
     },
     "execution_count": 28,
     "metadata": {},
     "output_type": "execute_result"
    },
    {
     "data": {
      "image/png": "[encoded data removed]",
      "text/plain": [
       "<Figure size 504x504 with 2 Axes>"
      ]
     },
     "metadata": {
      "needs_background": "light"
     },
     "output_type": "display_data"
    }
   ],
   "source": [
    "plt.rcParams['figure.figsize'] = (7.0, 7.0)\n",
    "sns.heatmap(data_upd.corr(), annot=True, linewidths=3, linecolor='white')"
   ]
  },
  {
   "cell_type": "markdown",
   "metadata": {},
   "source": [
    "<div class=\"alert alert-info\"> <b>Комментарий студента:</b> \n",
    "\n",
    "Из 16 признаков в датасет осталось 11, что должно повысить скорость поиска подходящей модели авто. \n",
    "\n",
    "Пропусков нет, дубликатов нет. \n",
    "    \n",
    "</div>"
   ]
  },
  {
   "cell_type": "markdown",
   "metadata": {},
   "source": [
    "<div class=\"alert alert-info\"> <b>Комментарий студента V2:</b> \n",
    "\n",
    "Допустил ошибку не проверив на выбросы и аномалии.\n",
    "    \n",
    "- Удалил аномалии в столбце 'Price', 'RegistrationYear', 'Power'. \n",
    "    \n",
    "- Диаграмма ХитМап показывает слабую корреляцию не больше 0,5 по отношению к цене.\n",
    "    \n",
    "- Так же поменял тип данных. \n",
    "    \n",
    "</div>"
   ]
  },
  {
   "cell_type": "code",
   "execution_count": 11,
   "metadata": {},
   "outputs": [],
   "source": [
    "# Преобразуем категориальные признаки\n",
    "ord_df = data_upd.copy()"
   ]
  },
  {
   "cell_type": "code",
   "execution_count": 12,
   "metadata": {},
   "outputs": [
    {
     "data": {
      "text/html": [
       "<div>\n",
       "<style scoped>\n",
       "    .dataframe tbody tr th:only-of-type {\n",
       "        vertical-align: middle;\n",
       "    }\n",
       "\n",
       "    .dataframe tbody tr th {\n",
       "        vertical-align: top;\n",
       "    }\n",
       "\n",
       "    .dataframe thead th {\n",
       "        text-align: right;\n",
       "    }\n",
       "</style>\n",
       "<table border=\"1\" class=\"dataframe\">\n",
       "  <thead>\n",
       "    <tr style=\"text-align: right;\">\n",
       "      <th></th>\n",
       "      <th>Price</th>\n",
       "      <th>VehicleType</th>\n",
       "      <th>RegistrationYear</th>\n",
       "      <th>Gearbox</th>\n",
       "      <th>Power</th>\n",
       "      <th>Model</th>\n",
       "      <th>Kilometer</th>\n",
       "      <th>FuelType</th>\n",
       "      <th>Brand</th>\n",
       "      <th>NotRepaired</th>\n",
       "      <th>PostalCode</th>\n",
       "    </tr>\n",
       "  </thead>\n",
       "  <tbody>\n",
       "    <tr>\n",
       "      <th>0</th>\n",
       "      <td>480</td>\n",
       "      <td>4.00</td>\n",
       "      <td>1993</td>\n",
       "      <td>1.00</td>\n",
       "      <td>75.00</td>\n",
       "      <td>116.00</td>\n",
       "      <td>150000</td>\n",
       "      <td>6.00</td>\n",
       "      <td>38.00</td>\n",
       "      <td>0.00</td>\n",
       "      <td>70435</td>\n",
       "    </tr>\n",
       "    <tr>\n",
       "      <th>1</th>\n",
       "      <td>18300</td>\n",
       "      <td>2.00</td>\n",
       "      <td>2011</td>\n",
       "      <td>1.00</td>\n",
       "      <td>190.00</td>\n",
       "      <td>228.00</td>\n",
       "      <td>125000</td>\n",
       "      <td>2.00</td>\n",
       "      <td>1.00</td>\n",
       "      <td>1.00</td>\n",
       "      <td>66954</td>\n",
       "    </tr>\n",
       "    <tr>\n",
       "      <th>2</th>\n",
       "      <td>9800</td>\n",
       "      <td>6.00</td>\n",
       "      <td>2004</td>\n",
       "      <td>0.00</td>\n",
       "      <td>163.00</td>\n",
       "      <td>117.00</td>\n",
       "      <td>125000</td>\n",
       "      <td>2.00</td>\n",
       "      <td>14.00</td>\n",
       "      <td>0.00</td>\n",
       "      <td>90480</td>\n",
       "    </tr>\n",
       "    <tr>\n",
       "      <th>3</th>\n",
       "      <td>1500</td>\n",
       "      <td>5.00</td>\n",
       "      <td>2001</td>\n",
       "      <td>1.00</td>\n",
       "      <td>75.00</td>\n",
       "      <td>116.00</td>\n",
       "      <td>150000</td>\n",
       "      <td>6.00</td>\n",
       "      <td>38.00</td>\n",
       "      <td>0.00</td>\n",
       "      <td>91074</td>\n",
       "    </tr>\n",
       "    <tr>\n",
       "      <th>4</th>\n",
       "      <td>3600</td>\n",
       "      <td>5.00</td>\n",
       "      <td>2008</td>\n",
       "      <td>1.00</td>\n",
       "      <td>69.00</td>\n",
       "      <td>101.00</td>\n",
       "      <td>90000</td>\n",
       "      <td>2.00</td>\n",
       "      <td>31.00</td>\n",
       "      <td>0.00</td>\n",
       "      <td>60437</td>\n",
       "    </tr>\n",
       "    <tr>\n",
       "      <th>5</th>\n",
       "      <td>650</td>\n",
       "      <td>4.00</td>\n",
       "      <td>1995</td>\n",
       "      <td>1.00</td>\n",
       "      <td>102.00</td>\n",
       "      <td>11.00</td>\n",
       "      <td>150000</td>\n",
       "      <td>6.00</td>\n",
       "      <td>2.00</td>\n",
       "      <td>1.00</td>\n",
       "      <td>33775</td>\n",
       "    </tr>\n",
       "    <tr>\n",
       "      <th>6</th>\n",
       "      <td>2200</td>\n",
       "      <td>1.00</td>\n",
       "      <td>2004</td>\n",
       "      <td>1.00</td>\n",
       "      <td>109.00</td>\n",
       "      <td>8.00</td>\n",
       "      <td>150000</td>\n",
       "      <td>6.00</td>\n",
       "      <td>25.00</td>\n",
       "      <td>0.00</td>\n",
       "      <td>67112</td>\n",
       "    </tr>\n",
       "    <tr>\n",
       "      <th>8</th>\n",
       "      <td>14500</td>\n",
       "      <td>0.00</td>\n",
       "      <td>2014</td>\n",
       "      <td>1.00</td>\n",
       "      <td>125.00</td>\n",
       "      <td>60.00</td>\n",
       "      <td>30000</td>\n",
       "      <td>6.00</td>\n",
       "      <td>10.00</td>\n",
       "      <td>0.00</td>\n",
       "      <td>94505</td>\n",
       "    </tr>\n",
       "    <tr>\n",
       "      <th>9</th>\n",
       "      <td>999</td>\n",
       "      <td>5.00</td>\n",
       "      <td>1998</td>\n",
       "      <td>1.00</td>\n",
       "      <td>101.00</td>\n",
       "      <td>116.00</td>\n",
       "      <td>150000</td>\n",
       "      <td>6.00</td>\n",
       "      <td>38.00</td>\n",
       "      <td>0.00</td>\n",
       "      <td>27472</td>\n",
       "    </tr>\n",
       "    <tr>\n",
       "      <th>10</th>\n",
       "      <td>2000</td>\n",
       "      <td>4.00</td>\n",
       "      <td>2004</td>\n",
       "      <td>1.00</td>\n",
       "      <td>105.00</td>\n",
       "      <td>10.00</td>\n",
       "      <td>150000</td>\n",
       "      <td>6.00</td>\n",
       "      <td>19.00</td>\n",
       "      <td>0.00</td>\n",
       "      <td>96224</td>\n",
       "    </tr>\n",
       "  </tbody>\n",
       "</table>\n",
       "</div>"
      ],
      "text/plain": [
       "    Price  VehicleType  RegistrationYear  Gearbox  Power  Model  Kilometer  \\\n",
       "0     480         4.00              1993     1.00  75.00 116.00     150000   \n",
       "1   18300         2.00              2011     1.00 190.00 228.00     125000   \n",
       "2    9800         6.00              2004     0.00 163.00 117.00     125000   \n",
       "3    1500         5.00              2001     1.00  75.00 116.00     150000   \n",
       "4    3600         5.00              2008     1.00  69.00 101.00      90000   \n",
       "5     650         4.00              1995     1.00 102.00  11.00     150000   \n",
       "6    2200         1.00              2004     1.00 109.00   8.00     150000   \n",
       "8   14500         0.00              2014     1.00 125.00  60.00      30000   \n",
       "9     999         5.00              1998     1.00 101.00 116.00     150000   \n",
       "10   2000         4.00              2004     1.00 105.00  10.00     150000   \n",
       "\n",
       "    FuelType  Brand  NotRepaired  PostalCode  \n",
       "0       6.00  38.00         0.00       70435  \n",
       "1       2.00   1.00         1.00       66954  \n",
       "2       2.00  14.00         0.00       90480  \n",
       "3       6.00  38.00         0.00       91074  \n",
       "4       2.00  31.00         0.00       60437  \n",
       "5       6.00   2.00         1.00       33775  \n",
       "6       6.00  25.00         0.00       67112  \n",
       "8       6.00  10.00         0.00       94505  \n",
       "9       6.00  38.00         0.00       27472  \n",
       "10      6.00  19.00         0.00       96224  "
      ]
     },
     "execution_count": 12,
     "metadata": {},
     "output_type": "execute_result"
    }
   ],
   "source": [
    "columns = ['VehicleType', 'Gearbox', 'Model', 'FuelType', 'Brand', 'NotRepaired']\n",
    "encoder = OrdinalEncoder()\n",
    "encoder.fit(ord_df[columns])\n",
    "ord_df[columns] = encoder.transform(ord_df[columns])\n",
    "ord_df.head(10)"
   ]
  },
  {
   "cell_type": "code",
   "execution_count": 31,
   "metadata": {},
   "outputs": [
    {
     "name": "stdout",
     "output_type": "stream",
     "text": [
      "(343215, 10)\n",
      "(343215,)\n"
     ]
    }
   ],
   "source": [
    "# Выделим признаки для обучения модели\n",
    "features = ord_df.drop('Price', axis=1)\n",
    "target = ord_df.Price\n",
    "\n",
    "print(features.shape)\n",
    "print(target.shape)"
   ]
  },
  {
   "cell_type": "code",
   "execution_count": 32,
   "metadata": {},
   "outputs": [
    {
     "name": "stdout",
     "output_type": "stream",
     "text": [
      "Размер обучающего набора: (193058, 10), размер проверочного набора: (64353, 10), размер тестового набора: (85804, 10)\n"
     ]
    }
   ],
   "source": [
    "# разабьем данные на обучающий+проверочный и тестовый набор\n",
    "X_trainval, X_test, y_trainval, y_test = train_test_split(features, target, random_state=0)\n",
    "\n",
    "# разабьем данные обучающий+проверочный на  обучающий и проверочный набор\n",
    "X_train, X_valid, y_train, y_valid = train_test_split(X_trainval, y_trainval, random_state=1)\n",
    "\n",
    "print(f'Размер обучающего набора: {X_train.shape}, размер проверочного набора: {X_valid.shape}, размер тестового набора: {X_test.shape}')"
   ]
  },
  {
   "cell_type": "code",
   "execution_count": 33,
   "metadata": {},
   "outputs": [],
   "source": [
    "# предварительная обработка числовых признаков с помощью масштабирования\n",
    "numeric = ['RegistrationYear', 'Power', 'Kilometer']\n",
    "scaler = StandardScaler()\n",
    "scaler.fit(X_trainval[numeric])\n",
    "\n",
    "X_train[numeric] = scaler.transform(X_train[numeric])\n",
    "X_valid[numeric] = scaler.transform(X_valid[numeric])\n",
    "X_test[numeric] = scaler.transform(X_test[numeric])"
   ]
  },
  {
   "cell_type": "markdown",
   "metadata": {},
   "source": [
    "## Обучение моделей"
   ]
  },
  {
   "cell_type": "markdown",
   "metadata": {},
   "source": [
    "### модель LightGBM"
   ]
  },
  {
   "cell_type": "code",
   "execution_count": 34,
   "metadata": {},
   "outputs": [],
   "source": [
    "import lightgbm as lgb\n",
    "\n",
    "lgb_train = lgb.Dataset(X_train, y_train)\n",
    "lgb_valid = lgb.Dataset(X_valid, y_valid, reference=lgb_train)"
   ]
  },
  {
   "cell_type": "code",
   "execution_count": 35,
   "metadata": {},
   "outputs": [],
   "source": [
    "params = {'boosting_type': 'gbdt',\n",
    "          'objective': 'regression',\n",
    "          'metric': {'rmse'},\n",
    "          'num_leaves': 31,\n",
    "          'learning_rate': 0.5,\n",
    "          'verbose': 0,\n",
    "          'max_depth':5,\n",
    "          'min_data_in_leaf':100\n",
    "}"
   ]
  },
  {
   "cell_type": "code",
   "execution_count": 36,
   "metadata": {},
   "outputs": [
    {
     "name": "stdout",
     "output_type": "stream",
     "text": [
      "[LightGBM] [Warning] Accuracy may be bad since you didn't explicitly set num_leaves OR 2^max_depth > num_leaves. (num_leaves=31).\n",
      "[LightGBM] [Warning] Accuracy may be bad since you didn't explicitly set num_leaves OR 2^max_depth > num_leaves. (num_leaves=31).\n",
      "[LightGBM] [Warning] Auto-choosing row-wise multi-threading, the overhead of testing was 0.005757 seconds.\n",
      "You can set `force_row_wise=true` to remove the overhead.\n",
      "And if memory is not enough, you can set `force_col_wise=true`.\n",
      "[LightGBM] [Warning] Accuracy may be bad since you didn't explicitly set num_leaves OR 2^max_depth > num_leaves. (num_leaves=31).\n",
      "[1]\tvalid_0's rmse: 3125.18\n",
      "Training until validation scores don't improve for 5 rounds\n",
      "[2]\tvalid_0's rmse: 2576.41\n",
      "[3]\tvalid_0's rmse: 2345.45\n",
      "[4]\tvalid_0's rmse: 2235.96\n",
      "[LightGBM] [Warning] No further splits with positive gain, best gain: -inf\n",
      "[5]\tvalid_0's rmse: 2159.99\n",
      "[LightGBM] [Warning] No further splits with positive gain, best gain: -inf\n",
      "[6]\tvalid_0's rmse: 2118.49\n",
      "[LightGBM] [Warning] No further splits with positive gain, best gain: -inf\n",
      "[7]\tvalid_0's rmse: 2075.78\n",
      "[LightGBM] [Warning] No further splits with positive gain, best gain: -inf\n",
      "[8]\tvalid_0's rmse: 2050.41\n",
      "[LightGBM] [Warning] No further splits with positive gain, best gain: -inf\n",
      "[9]\tvalid_0's rmse: 2028.14\n",
      "[LightGBM] [Warning] No further splits with positive gain, best gain: -inf\n",
      "[10]\tvalid_0's rmse: 2010.35\n",
      "[LightGBM] [Warning] No further splits with positive gain, best gain: -inf\n",
      "[11]\tvalid_0's rmse: 1994.58\n",
      "[LightGBM] [Warning] No further splits with positive gain, best gain: -inf\n",
      "[12]\tvalid_0's rmse: 1984.67\n",
      "[LightGBM] [Warning] No further splits with positive gain, best gain: -inf\n",
      "[13]\tvalid_0's rmse: 1981.65\n",
      "[LightGBM] [Warning] No further splits with positive gain, best gain: -inf\n",
      "[14]\tvalid_0's rmse: 1972.36\n",
      "[LightGBM] [Warning] No further splits with positive gain, best gain: -inf\n",
      "[15]\tvalid_0's rmse: 1959.59\n",
      "[LightGBM] [Warning] No further splits with positive gain, best gain: -inf\n",
      "[16]\tvalid_0's rmse: 1949.18\n",
      "[LightGBM] [Warning] No further splits with positive gain, best gain: -inf\n",
      "[17]\tvalid_0's rmse: 1943.83\n",
      "[18]\tvalid_0's rmse: 1930.16\n",
      "[LightGBM] [Warning] No further splits with positive gain, best gain: -inf\n",
      "[19]\tvalid_0's rmse: 1923.08\n",
      "[LightGBM] [Warning] No further splits with positive gain, best gain: -inf\n",
      "[20]\tvalid_0's rmse: 1915.43\n",
      "[LightGBM] [Warning] No further splits with positive gain, best gain: -inf\n",
      "[21]\tvalid_0's rmse: 1912.87\n",
      "[LightGBM] [Warning] No further splits with positive gain, best gain: -inf\n",
      "[22]\tvalid_0's rmse: 1905.04\n",
      "[LightGBM] [Warning] No further splits with positive gain, best gain: -inf\n",
      "[23]\tvalid_0's rmse: 1902.1\n",
      "[LightGBM] [Warning] No further splits with positive gain, best gain: -inf\n",
      "[24]\tvalid_0's rmse: 1897.36\n",
      "[LightGBM] [Warning] No further splits with positive gain, best gain: -inf\n",
      "[25]\tvalid_0's rmse: 1895.39\n",
      "Did not meet early stopping. Best iteration is:\n",
      "[25]\tvalid_0's rmse: 1895.39\n",
      "CPU times: user 1.67 s, sys: 55.5 ms, total: 1.73 s\n",
      "Wall time: 1.77 s\n"
     ]
    }
   ],
   "source": [
    "%%time\n",
    "model = lgb.train(params, lgb_train, num_boost_round=25, valid_sets=lgb_valid, early_stopping_rounds=5)"
   ]
  },
  {
   "cell_type": "code",
   "execution_count": 37,
   "metadata": {},
   "outputs": [
    {
     "name": "stdout",
     "output_type": "stream",
     "text": [
      "RMSE: 1895.3927468488607\n",
      "CPU times: user 127 ms, sys: 3.43 ms, total: 130 ms\n",
      "Wall time: 100 ms\n"
     ]
    }
   ],
   "source": [
    "%%time\n",
    "prediction = model.predict(X_valid, num_iteration=model.best_iteration)\n",
    "print('RMSE:', mean_squared_error(y_valid, prediction, squared=False))"
   ]
  },
  {
   "cell_type": "code",
   "execution_count": 38,
   "metadata": {},
   "outputs": [
    {
     "name": "stdout",
     "output_type": "stream",
     "text": [
      "RMSE: 1874.4319242789659\n",
      "CPU times: user 161 ms, sys: 0 ns, total: 161 ms\n",
      "Wall time: 107 ms\n"
     ]
    }
   ],
   "source": [
    "%%time\n",
    "prediction = model.predict(X_test, num_iteration=model.best_iteration)\n",
    "print('RMSE:', mean_squared_error(y_test, prediction, squared=False))"
   ]
  },
  {
   "cell_type": "code",
   "execution_count": 39,
   "metadata": {},
   "outputs": [],
   "source": [
    "params = {'boosting_type': 'gbdt',\n",
    "          'objective': 'regression',\n",
    "          'metric': {'rmse'},\n",
    "          'num_leaves': 50,\n",
    "          'learning_rate': 0.5,\n",
    "          'verbose': 0,\n",
    "          'max_depth':25,\n",
    "          'min_data_in_leaf':100\n",
    "}"
   ]
  },
  {
   "cell_type": "code",
   "execution_count": 40,
   "metadata": {},
   "outputs": [
    {
     "name": "stdout",
     "output_type": "stream",
     "text": [
      "[LightGBM] [Warning] Accuracy may be bad since you didn't explicitly set num_leaves OR 2^max_depth > num_leaves. (num_leaves=31).\n",
      "[LightGBM] [Warning] Accuracy may be bad since you didn't explicitly set num_leaves OR 2^max_depth > num_leaves. (num_leaves=31).\n",
      "[LightGBM] [Warning] Auto-choosing row-wise multi-threading, the overhead of testing was 0.005488 seconds.\n",
      "You can set `force_row_wise=true` to remove the overhead.\n",
      "And if memory is not enough, you can set `force_col_wise=true`.\n",
      "[1]\tvalid_0's rmse: 3034.8\n",
      "Training until validation scores don't improve for 5 rounds\n",
      "[2]\tvalid_0's rmse: 2459.78\n",
      "[3]\tvalid_0's rmse: 2218.39\n",
      "[4]\tvalid_0's rmse: 2108.28\n",
      "[5]\tvalid_0's rmse: 2032.48\n",
      "[6]\tvalid_0's rmse: 1984.19\n",
      "[7]\tvalid_0's rmse: 1955.26\n",
      "[8]\tvalid_0's rmse: 1943.04\n",
      "[9]\tvalid_0's rmse: 1924.73\n",
      "[10]\tvalid_0's rmse: 1909.01\n",
      "[11]\tvalid_0's rmse: 1899.25\n",
      "[12]\tvalid_0's rmse: 1893.34\n",
      "[13]\tvalid_0's rmse: 1884.06\n",
      "[14]\tvalid_0's rmse: 1876.27\n",
      "[15]\tvalid_0's rmse: 1865.49\n",
      "[16]\tvalid_0's rmse: 1858.04\n",
      "[17]\tvalid_0's rmse: 1853.29\n",
      "[18]\tvalid_0's rmse: 1849.22\n",
      "[19]\tvalid_0's rmse: 1847.19\n",
      "[20]\tvalid_0's rmse: 1842.39\n",
      "[21]\tvalid_0's rmse: 1837.88\n",
      "[22]\tvalid_0's rmse: 1832.55\n",
      "[23]\tvalid_0's rmse: 1831.13\n",
      "[24]\tvalid_0's rmse: 1827.51\n",
      "[25]\tvalid_0's rmse: 1825.08\n",
      "[26]\tvalid_0's rmse: 1823.35\n",
      "[27]\tvalid_0's rmse: 1818.18\n",
      "[28]\tvalid_0's rmse: 1814.3\n",
      "[29]\tvalid_0's rmse: 1811.87\n",
      "[30]\tvalid_0's rmse: 1810.56\n",
      "[31]\tvalid_0's rmse: 1807.65\n",
      "[32]\tvalid_0's rmse: 1805.92\n",
      "[33]\tvalid_0's rmse: 1804.65\n",
      "[34]\tvalid_0's rmse: 1802.34\n",
      "[35]\tvalid_0's rmse: 1801.48\n",
      "[36]\tvalid_0's rmse: 1799.52\n",
      "[37]\tvalid_0's rmse: 1798.04\n",
      "[38]\tvalid_0's rmse: 1796.5\n",
      "[39]\tvalid_0's rmse: 1794.61\n",
      "[40]\tvalid_0's rmse: 1791.82\n",
      "[41]\tvalid_0's rmse: 1789.29\n",
      "[42]\tvalid_0's rmse: 1788.12\n",
      "[43]\tvalid_0's rmse: 1788.24\n",
      "[44]\tvalid_0's rmse: 1786.95\n",
      "[45]\tvalid_0's rmse: 1785.72\n",
      "[46]\tvalid_0's rmse: 1783.1\n",
      "[47]\tvalid_0's rmse: 1781.38\n",
      "[48]\tvalid_0's rmse: 1779.46\n",
      "[49]\tvalid_0's rmse: 1778.05\n",
      "[50]\tvalid_0's rmse: 1776.98\n",
      "[51]\tvalid_0's rmse: 1776.31\n",
      "[52]\tvalid_0's rmse: 1775.87\n",
      "[53]\tvalid_0's rmse: 1775.64\n",
      "[54]\tvalid_0's rmse: 1775.18\n",
      "[55]\tvalid_0's rmse: 1773.03\n",
      "[56]\tvalid_0's rmse: 1770.95\n",
      "[57]\tvalid_0's rmse: 1769.32\n",
      "[58]\tvalid_0's rmse: 1769.14\n",
      "[59]\tvalid_0's rmse: 1768.21\n",
      "[60]\tvalid_0's rmse: 1767.39\n",
      "[61]\tvalid_0's rmse: 1766.24\n",
      "[62]\tvalid_0's rmse: 1764.63\n",
      "[63]\tvalid_0's rmse: 1764.45\n",
      "[64]\tvalid_0's rmse: 1763.63\n",
      "[65]\tvalid_0's rmse: 1763.2\n",
      "[66]\tvalid_0's rmse: 1763.05\n",
      "[67]\tvalid_0's rmse: 1763.15\n",
      "[68]\tvalid_0's rmse: 1762.42\n",
      "[69]\tvalid_0's rmse: 1762.19\n",
      "[70]\tvalid_0's rmse: 1762.34\n",
      "[71]\tvalid_0's rmse: 1761.25\n",
      "[72]\tvalid_0's rmse: 1760.99\n",
      "[73]\tvalid_0's rmse: 1760.62\n",
      "[74]\tvalid_0's rmse: 1759.39\n",
      "[75]\tvalid_0's rmse: 1759.89\n",
      "[76]\tvalid_0's rmse: 1759.59\n",
      "[77]\tvalid_0's rmse: 1758.89\n",
      "[78]\tvalid_0's rmse: 1757.66\n",
      "[79]\tvalid_0's rmse: 1756.88\n",
      "[80]\tvalid_0's rmse: 1756.35\n",
      "[81]\tvalid_0's rmse: 1755.84\n",
      "[82]\tvalid_0's rmse: 1755.12\n",
      "[83]\tvalid_0's rmse: 1754.65\n",
      "[84]\tvalid_0's rmse: 1754.47\n",
      "[85]\tvalid_0's rmse: 1755.03\n",
      "[86]\tvalid_0's rmse: 1754.68\n",
      "[87]\tvalid_0's rmse: 1753.5\n",
      "[88]\tvalid_0's rmse: 1753.04\n",
      "[89]\tvalid_0's rmse: 1752.24\n",
      "[90]\tvalid_0's rmse: 1752.2\n",
      "[91]\tvalid_0's rmse: 1752.03\n",
      "[92]\tvalid_0's rmse: 1751.5\n",
      "[93]\tvalid_0's rmse: 1750.21\n",
      "[94]\tvalid_0's rmse: 1750.11\n",
      "[95]\tvalid_0's rmse: 1749.01\n",
      "[96]\tvalid_0's rmse: 1748.15\n",
      "[97]\tvalid_0's rmse: 1746.52\n",
      "[98]\tvalid_0's rmse: 1746.14\n",
      "[99]\tvalid_0's rmse: 1745.73\n",
      "[100]\tvalid_0's rmse: 1744.95\n",
      "Did not meet early stopping. Best iteration is:\n",
      "[100]\tvalid_0's rmse: 1744.95\n",
      "CPU times: user 5.21 s, sys: 31.2 ms, total: 5.25 s\n",
      "Wall time: 5.48 s\n"
     ]
    }
   ],
   "source": [
    "%%time\n",
    "model = lgb.train(params, lgb_train, num_boost_round=100, valid_sets=lgb_valid, early_stopping_rounds=5)"
   ]
  },
  {
   "cell_type": "code",
   "execution_count": 41,
   "metadata": {},
   "outputs": [
    {
     "name": "stdout",
     "output_type": "stream",
     "text": [
      "RMSE: 1744.9538716913787\n",
      "CPU times: user 446 ms, sys: 0 ns, total: 446 ms\n",
      "Wall time: 493 ms\n"
     ]
    }
   ],
   "source": [
    "%%time\n",
    "prediction = model.predict(X_valid, num_iteration=model.best_iteration)\n",
    "print('RMSE:', mean_squared_error(y_valid, prediction, squared=False))"
   ]
  },
  {
   "cell_type": "code",
   "execution_count": 42,
   "metadata": {},
   "outputs": [
    {
     "name": "stdout",
     "output_type": "stream",
     "text": [
      "RMSE: 1731.566782979307\n",
      "CPU times: user 588 ms, sys: 1.35 ms, total: 590 ms\n",
      "Wall time: 594 ms\n"
     ]
    }
   ],
   "source": [
    "%%time\n",
    "prediction = model.predict(X_test, num_iteration=model.best_iteration)\n",
    "print('RMSE:', mean_squared_error(y_test, prediction, squared=False))"
   ]
  },
  {
   "cell_type": "markdown",
   "metadata": {},
   "source": [
    "<div class=\"alert alert-info\"> <b>Комментарий студента:</b> \n",
    "\n",
    "Меняя количество листьев 'num_leaves', глубину дерева 'max_depth' и количество циклов бустинга 'num_boost_round' мы улучшаем точность обучения RMSE, но увеличевается время обучения и предсказания. \n",
    "    \n",
    "</div>"
   ]
  },
  {
   "cell_type": "markdown",
   "metadata": {},
   "source": [
    "### модель CatBoost"
   ]
  },
  {
   "cell_type": "code",
   "execution_count": 43,
   "metadata": {},
   "outputs": [],
   "source": [
    "from catboost import CatBoostRegressor"
   ]
  },
  {
   "cell_type": "code",
   "execution_count": 44,
   "metadata": {},
   "outputs": [],
   "source": [
    "params = {'iterations':25, \n",
    "          'eval_metric':'RMSE', \n",
    "          'verbose': 3,\n",
    "          'random_seed': 42\n",
    "         }"
   ]
  },
  {
   "cell_type": "code",
   "execution_count": 45,
   "metadata": {},
   "outputs": [],
   "source": [
    "model = CatBoostRegressor(**params)"
   ]
  },
  {
   "cell_type": "code",
   "execution_count": 46,
   "metadata": {},
   "outputs": [
    {
     "name": "stdout",
     "output_type": "stream",
     "text": [
      "Learning rate set to 0.5\n",
      "0:\tlearn: 3231.1766060\ttest: 3223.1166728\tbest: 3223.1166728 (0)\ttotal: 84ms\tremaining: 2.02s\n",
      "3:\tlearn: 2307.7727820\ttest: 2325.3920831\tbest: 2325.3920831 (3)\ttotal: 166ms\tremaining: 872ms\n",
      "6:\tlearn: 2139.4564300\ttest: 2160.9721104\tbest: 2160.9721104 (6)\ttotal: 243ms\tremaining: 624ms\n",
      "9:\tlearn: 2046.3648678\ttest: 2071.2006040\tbest: 2071.2006040 (9)\ttotal: 332ms\tremaining: 498ms\n",
      "12:\tlearn: 2004.0824231\ttest: 2032.7487361\tbest: 2032.7487361 (12)\ttotal: 410ms\tremaining: 378ms\n",
      "15:\tlearn: 1970.3929924\ttest: 1999.3396361\tbest: 1999.3396361 (15)\ttotal: 486ms\tremaining: 273ms\n",
      "18:\tlearn: 1955.5636448\ttest: 1984.8693969\tbest: 1984.8693969 (18)\ttotal: 563ms\tremaining: 178ms\n",
      "21:\tlearn: 1936.8377830\ttest: 1968.3156249\tbest: 1968.3156249 (21)\ttotal: 641ms\tremaining: 87.5ms\n",
      "24:\tlearn: 1912.5124737\ttest: 1946.4860221\tbest: 1946.4860221 (24)\ttotal: 723ms\tremaining: 0us\n",
      "\n",
      "bestTest = 1946.486022\n",
      "bestIteration = 24\n",
      "\n",
      "CPU times: user 830 ms, sys: 16.5 ms, total: 846 ms\n",
      "Wall time: 2.01 s\n"
     ]
    },
    {
     "data": {
      "text/plain": [
       "<catboost.core.CatBoostRegressor at 0x7fee86e4c880>"
      ]
     },
     "execution_count": 46,
     "metadata": {},
     "output_type": "execute_result"
    }
   ],
   "source": [
    "%%time\n",
    "model.fit(X_train, y_train, eval_set=(X_valid, y_valid))"
   ]
  },
  {
   "cell_type": "code",
   "execution_count": 47,
   "metadata": {},
   "outputs": [
    {
     "name": "stdout",
     "output_type": "stream",
     "text": [
      "RMSE: 1921.5872372776216\n",
      "CPU times: user 13.6 ms, sys: 102 µs, total: 13.7 ms\n",
      "Wall time: 11.5 ms\n"
     ]
    }
   ],
   "source": [
    "%%time\n",
    "prediction = model.predict(X_test)\n",
    "print('RMSE:', mean_squared_error(y_test, prediction, squared=False))"
   ]
  },
  {
   "cell_type": "code",
   "execution_count": 48,
   "metadata": {},
   "outputs": [],
   "source": [
    "params = {'iterations':100, \n",
    "          'learning_rate': 0.5,\n",
    "          'eval_metric':'RMSE', \n",
    "          'use_best_model': True,\n",
    "          'verbose': 3,\n",
    "          'random_seed': 42\n",
    "         }"
   ]
  },
  {
   "cell_type": "code",
   "execution_count": 49,
   "metadata": {},
   "outputs": [],
   "source": [
    "model = CatBoostRegressor(**params)"
   ]
  },
  {
   "cell_type": "code",
   "execution_count": 50,
   "metadata": {},
   "outputs": [
    {
     "name": "stdout",
     "output_type": "stream",
     "text": [
      "0:\tlearn: 3231.1766060\ttest: 3223.1166728\tbest: 3223.1166728 (0)\ttotal: 33ms\tremaining: 3.27s\n",
      "3:\tlearn: 2307.7727820\ttest: 2325.3920831\tbest: 2325.3920831 (3)\ttotal: 116ms\tremaining: 2.79s\n",
      "6:\tlearn: 2139.4564300\ttest: 2160.9721104\tbest: 2160.9721104 (6)\ttotal: 194ms\tremaining: 2.57s\n",
      "9:\tlearn: 2046.3648678\ttest: 2071.2006040\tbest: 2071.2006040 (9)\ttotal: 274ms\tremaining: 2.46s\n",
      "12:\tlearn: 2004.0824231\ttest: 2032.7487361\tbest: 2032.7487361 (12)\ttotal: 356ms\tremaining: 2.38s\n",
      "15:\tlearn: 1970.3929924\ttest: 1999.3396361\tbest: 1999.3396361 (15)\ttotal: 437ms\tremaining: 2.29s\n",
      "18:\tlearn: 1955.5636448\ttest: 1984.8693969\tbest: 1984.8693969 (18)\ttotal: 513ms\tremaining: 2.19s\n",
      "21:\tlearn: 1936.8377830\ttest: 1968.3156249\tbest: 1968.3156249 (21)\ttotal: 591ms\tremaining: 2.1s\n",
      "24:\tlearn: 1912.5124737\ttest: 1946.4860221\tbest: 1946.4860221 (24)\ttotal: 672ms\tremaining: 2.02s\n",
      "27:\tlearn: 1900.0649366\ttest: 1935.1949567\tbest: 1935.1949567 (27)\ttotal: 751ms\tremaining: 1.93s\n",
      "30:\tlearn: 1887.1867865\ttest: 1921.0295453\tbest: 1921.0295453 (30)\ttotal: 829ms\tremaining: 1.84s\n",
      "33:\tlearn: 1876.7218118\ttest: 1913.0661157\tbest: 1913.0661157 (33)\ttotal: 898ms\tremaining: 1.74s\n",
      "36:\tlearn: 1860.8259580\ttest: 1898.7039743\tbest: 1898.7039743 (36)\ttotal: 975ms\tremaining: 1.66s\n",
      "39:\tlearn: 1847.5016255\ttest: 1886.9383903\tbest: 1886.9383903 (39)\ttotal: 1.05s\tremaining: 1.58s\n",
      "42:\tlearn: 1836.6054991\ttest: 1876.6089744\tbest: 1876.6089744 (42)\ttotal: 1.13s\tremaining: 1.5s\n",
      "45:\tlearn: 1828.7361638\ttest: 1871.7435985\tbest: 1871.7435985 (45)\ttotal: 1.21s\tremaining: 1.42s\n",
      "48:\tlearn: 1821.5946514\ttest: 1865.7067484\tbest: 1865.7067484 (48)\ttotal: 1.29s\tremaining: 1.34s\n",
      "51:\tlearn: 1814.2321172\ttest: 1860.3096252\tbest: 1860.3096252 (51)\ttotal: 1.36s\tremaining: 1.26s\n",
      "54:\tlearn: 1806.2067105\ttest: 1855.1225118\tbest: 1855.1225118 (54)\ttotal: 1.44s\tremaining: 1.18s\n",
      "57:\tlearn: 1799.7092998\ttest: 1850.2023371\tbest: 1850.2023371 (57)\ttotal: 1.52s\tremaining: 1.1s\n",
      "60:\tlearn: 1793.0393199\ttest: 1845.7310773\tbest: 1845.7310773 (60)\ttotal: 1.6s\tremaining: 1.02s\n",
      "63:\tlearn: 1788.8004971\ttest: 1843.1374315\tbest: 1843.1374315 (63)\ttotal: 1.67s\tremaining: 940ms\n",
      "66:\tlearn: 1783.4481634\ttest: 1839.8768674\tbest: 1839.8768674 (66)\ttotal: 1.75s\tremaining: 862ms\n",
      "69:\tlearn: 1778.4790530\ttest: 1835.9345481\tbest: 1835.9345481 (69)\ttotal: 1.83s\tremaining: 784ms\n",
      "72:\tlearn: 1771.8365146\ttest: 1830.7540333\tbest: 1830.7540333 (72)\ttotal: 1.91s\tremaining: 707ms\n",
      "75:\tlearn: 1765.6415463\ttest: 1826.5856590\tbest: 1826.5856590 (75)\ttotal: 1.99s\tremaining: 629ms\n",
      "78:\tlearn: 1760.6077297\ttest: 1823.7003834\tbest: 1823.7003834 (78)\ttotal: 2.07s\tremaining: 550ms\n",
      "81:\tlearn: 1755.9894491\ttest: 1820.3453230\tbest: 1820.3453230 (81)\ttotal: 2.15s\tremaining: 472ms\n",
      "84:\tlearn: 1750.6256647\ttest: 1815.5005324\tbest: 1815.5005324 (84)\ttotal: 2.23s\tremaining: 393ms\n",
      "87:\tlearn: 1746.3986108\ttest: 1813.5504315\tbest: 1813.5504315 (87)\ttotal: 2.3s\tremaining: 314ms\n",
      "90:\tlearn: 1741.9181294\ttest: 1809.2372106\tbest: 1809.2372106 (90)\ttotal: 2.38s\tremaining: 236ms\n",
      "93:\tlearn: 1737.9699588\ttest: 1806.7051590\tbest: 1806.7051590 (93)\ttotal: 2.46s\tremaining: 157ms\n",
      "96:\tlearn: 1734.3131173\ttest: 1803.9484749\tbest: 1803.9484749 (96)\ttotal: 2.53s\tremaining: 78.4ms\n",
      "99:\tlearn: 1730.8064489\ttest: 1801.6735072\tbest: 1801.6735072 (99)\ttotal: 2.61s\tremaining: 0us\n",
      "\n",
      "bestTest = 1801.673507\n",
      "bestIteration = 99\n",
      "\n",
      "CPU times: user 2.77 s, sys: 32.1 ms, total: 2.8 s\n",
      "Wall time: 3.84 s\n"
     ]
    },
    {
     "data": {
      "text/plain": [
       "<catboost.core.CatBoostRegressor at 0x7fee86e4c1f0>"
      ]
     },
     "execution_count": 50,
     "metadata": {},
     "output_type": "execute_result"
    }
   ],
   "source": [
    "%%time\n",
    "model.fit(X_train, y_train, eval_set=(X_valid, y_valid))"
   ]
  },
  {
   "cell_type": "code",
   "execution_count": 51,
   "metadata": {},
   "outputs": [
    {
     "name": "stdout",
     "output_type": "stream",
     "text": [
      "RMSE: 1784.165052373117\n",
      "CPU times: user 18.9 ms, sys: 134 µs, total: 19 ms\n",
      "Wall time: 17.1 ms\n"
     ]
    }
   ],
   "source": [
    "%%time\n",
    "prediction = model.predict(X_test)\n",
    "print('RMSE:', mean_squared_error(y_test, prediction, squared=False))"
   ]
  },
  {
   "cell_type": "markdown",
   "metadata": {},
   "source": [
    "<div class=\"alert alert-info\"> <b>Комментарий студента:</b> \n",
    "\n",
    "Меняя количество интераций 'iterations', время обучения 'learning_rate', мы улучшаем точность обучения RMSE, но увеличевается время обучения и предсказания. \n",
    "    \n",
    "</div>"
   ]
  },
  {
   "cell_type": "markdown",
   "metadata": {},
   "source": [
    "### модель DecisionTreeRegressor"
   ]
  },
  {
   "cell_type": "code",
   "execution_count": 52,
   "metadata": {},
   "outputs": [],
   "source": [
    "from sklearn.tree import DecisionTreeRegressor"
   ]
  },
  {
   "cell_type": "code",
   "execution_count": 1,
   "metadata": {},
   "outputs": [],
   "source": [
    "# Функция обучения\n",
    "\n",
    "def fit(features, target, n= 20, nu= 0.1, verbose = 10):\n",
    "    features = features.copy()\n",
    "    target = target.copy()\n",
    "    model = []\n",
    "    features['y_pred'] = target.mean()\n",
    "    features['residual'] = 0\n",
    "    for i in range(n):\n",
    "        features['residual'] = target - features['y_pred']\n",
    "        tree = DecisionTreeRegressor(max_depth=5)\n",
    "        tree.fit(features.drop(['residual','y_pred'],axis=1), features['residual'])\n",
    "        features['y_pred'] += nu * tree.predict(features.drop(['residual','y_pred'],axis=1))\n",
    "        model.append(tree)\n",
    "        if i % verbose == 0:\n",
    "            print(f'{i} RMSE:', mean_squared_error(target, features['y_pred'], squared=False))\n",
    "    print(f'{n} RMSE:', mean_squared_error(target, features['y_pred'], squared=False))\n",
    "    return model"
   ]
  },
  {
   "cell_type": "code",
   "execution_count": 54,
   "metadata": {},
   "outputs": [
    {
     "name": "stdout",
     "output_type": "stream",
     "text": [
      "0 RMSE: 4210.0713707704945\n",
      "10 RMSE: 2616.1784766780434\n",
      "20 RMSE: 2218.642223394075\n",
      "CPU times: user 6.19 s, sys: 6.68 ms, total: 6.2 s\n",
      "Wall time: 6.2 s\n"
     ]
    }
   ],
   "source": [
    "%%time\n",
    "model = fit(X_train, y_train)"
   ]
  },
  {
   "cell_type": "code",
   "execution_count": 55,
   "metadata": {},
   "outputs": [],
   "source": [
    "# Функция предсказания\n",
    "\n",
    "def pred(features, target, model, nu = 0.1):\n",
    "    features = features.copy()\n",
    "    target = target.copy()\n",
    "    features['y_pred'] = target.mean()\n",
    "    features['residual'] = 0\n",
    "    for tree in model:\n",
    "        features['y_pred'] += nu * tree.predict(features.drop(['residual','y_pred'],axis=1))\n",
    "        print(f'RMSE:', mean_squared_error(target, features['y_pred'], squared=False))"
   ]
  },
  {
   "cell_type": "code",
   "execution_count": 56,
   "metadata": {},
   "outputs": [
    {
     "name": "stdout",
     "output_type": "stream",
     "text": [
      "RMSE: 4204.910535757241\n",
      "RMSE: 3932.4704474794803\n",
      "RMSE: 3696.819706497792\n",
      "RMSE: 3487.611096696436\n",
      "RMSE: 3307.274929985838\n",
      "RMSE: 3151.2751403560774\n",
      "RMSE: 3008.1229979298164\n",
      "RMSE: 2882.9768964473033\n",
      "RMSE: 2779.314215472375\n",
      "RMSE: 2685.6074038737884\n",
      "RMSE: 2605.1250473250434\n",
      "RMSE: 2536.5822187240465\n",
      "RMSE: 2478.6100095787588\n",
      "RMSE: 2424.0930378645135\n",
      "RMSE: 2375.800277065186\n",
      "RMSE: 2335.502398770958\n",
      "RMSE: 2299.0164044618855\n",
      "RMSE: 2266.1772708179737\n",
      "RMSE: 2237.4919869044866\n",
      "RMSE: 2213.5715926517287\n",
      "CPU times: user 243 ms, sys: 16.3 ms, total: 259 ms\n",
      "Wall time: 268 ms\n"
     ]
    }
   ],
   "source": [
    "%%time \n",
    "pred(X_test, y_test, model)"
   ]
  },
  {
   "cell_type": "markdown",
   "metadata": {},
   "source": [
    "<div class=\"alert alert-info\"> <b>Комментарий студента:</b> \n",
    "\n",
    "Меняя количество интераций 'n' мы улучшаем точность обучения RMSE, что кратно повышает время обучения. При увеличение количесва итераций и глубины дерева модель переобучается.\n",
    "    \n",
    "</div>"
   ]
  },
  {
   "cell_type": "markdown",
   "metadata": {},
   "source": [
    "## Анализ моделей"
   ]
  },
  {
   "cell_type": "markdown",
   "metadata": {},
   "source": [
    "<div class=\"alert alert-info\"> <b>Комментарий студента:</b> \n",
    "\n",
    "Вывод:\n",
    "    \n",
    "- модель LightGBM: показывает хорошую точность и время обучения. Большое количество паратметров настройки требует время на подбор нужных параметров.\n",
    "    \n",
    "- модель CatBoost: показывает лучшую точность и время обучения. Довольно проста в настройке параметров.\n",
    "    \n",
    "- модель DecisionTreeRegressor: долго обучается и склонна к переобучению.\n",
    "    \n",
    "- модель GridSearchCV очень, очень долго обучается скорей всего из-за большого количества признаков.\n",
    "    \n",
    "</div>"
   ]
  },
  {
   "cell_type": "markdown",
   "metadata": {},
   "source": [
    "<div class=\"alert alert-info\"> <b>Комментарий студента V2:</b> \n",
    "\n",
    "Вывод:\n",
    "    \n",
    "- CatBoost полностью соотвествует требованиям заказчика по всем параметрам.\n",
    "    \n",
    "Необходимо отметить, что требования заказчика стоит пересмотреть в сторону более конкретного параметра. Так как если повышать точность предсказания - возростает время и на оборот.\n",
    "    \n",
    "\n",
    "    \n",
    "</div>"
   ]
  }
 ],
 "metadata": {
  "ExecuteTimeLog": [
   {
    "duration": 73,
    "start_time": "2022-04-19T10:07:29.974Z"
   },
   {
    "duration": 519,
    "start_time": "2022-04-19T10:07:33.266Z"
   },
   {
    "duration": 1108,
    "start_time": "2022-04-19T10:07:33.788Z"
   },
   {
    "duration": 1112,
    "start_time": "2022-04-19T10:07:52.456Z"
   },
   {
    "duration": 1148,
    "start_time": "2022-04-19T10:17:17.196Z"
   },
   {
    "duration": 5,
    "start_time": "2022-04-19T10:19:29.988Z"
   },
   {
    "duration": 125,
    "start_time": "2022-04-19T10:20:21.614Z"
   },
   {
    "duration": 1448,
    "start_time": "2022-04-19T10:22:02.886Z"
   },
   {
    "duration": 1730,
    "start_time": "2022-04-19T10:22:04.337Z"
   },
   {
    "duration": 5,
    "start_time": "2022-04-19T10:22:22.770Z"
   },
   {
    "duration": 158,
    "start_time": "2022-04-19T10:22:24.104Z"
   },
   {
    "duration": 754,
    "start_time": "2022-04-19T10:24:05.072Z"
   },
   {
    "duration": 863,
    "start_time": "2022-04-19T10:25:03.730Z"
   },
   {
    "duration": 1506,
    "start_time": "2022-04-19T10:25:24.776Z"
   },
   {
    "duration": 189,
    "start_time": "2022-04-19T10:25:46.420Z"
   },
   {
    "duration": 34,
    "start_time": "2022-04-19T10:29:21.534Z"
   },
   {
    "duration": 398,
    "start_time": "2022-04-19T10:33:57.793Z"
   },
   {
    "duration": 523,
    "start_time": "2022-04-19T10:34:06.536Z"
   },
   {
    "duration": 348,
    "start_time": "2022-04-19T10:35:34.076Z"
   },
   {
    "duration": 1773,
    "start_time": "2022-04-19T10:37:22.914Z"
   },
   {
    "duration": 13,
    "start_time": "2022-04-19T10:37:41.090Z"
   },
   {
    "duration": 1853,
    "start_time": "2022-04-19T10:37:54.819Z"
   },
   {
    "duration": 1785,
    "start_time": "2022-04-19T10:38:15.127Z"
   },
   {
    "duration": 18,
    "start_time": "2022-04-19T10:38:52.742Z"
   },
   {
    "duration": 1555,
    "start_time": "2022-04-19T10:38:59.974Z"
   },
   {
    "duration": 3525,
    "start_time": "2022-04-19T10:39:29.733Z"
   },
   {
    "duration": 96,
    "start_time": "2022-04-19T10:40:32.487Z"
   },
   {
    "duration": 586,
    "start_time": "2022-04-19T10:40:37.759Z"
   },
   {
    "duration": 378,
    "start_time": "2022-04-19T10:40:45.631Z"
   },
   {
    "duration": 144,
    "start_time": "2022-04-19T11:24:00.410Z"
   },
   {
    "duration": 43,
    "start_time": "2022-04-20T04:14:54.533Z"
   },
   {
    "duration": 6,
    "start_time": "2022-04-20T04:15:01.411Z"
   },
   {
    "duration": 1290,
    "start_time": "2022-04-20T04:15:06.395Z"
   },
   {
    "duration": 679,
    "start_time": "2022-04-20T04:15:07.687Z"
   },
   {
    "duration": 4,
    "start_time": "2022-04-20T04:15:08.368Z"
   },
   {
    "duration": 88,
    "start_time": "2022-04-20T04:15:08.373Z"
   },
   {
    "duration": 390,
    "start_time": "2022-04-20T04:15:08.463Z"
   },
   {
    "duration": 778,
    "start_time": "2022-04-20T04:15:08.855Z"
   },
   {
    "duration": 99,
    "start_time": "2022-04-20T04:15:09.635Z"
   },
   {
    "duration": 35,
    "start_time": "2022-04-20T04:15:09.736Z"
   },
   {
    "duration": 90,
    "start_time": "2022-04-20T04:17:27.593Z"
   },
   {
    "duration": 14,
    "start_time": "2022-04-20T04:17:48.996Z"
   },
   {
    "duration": 11,
    "start_time": "2022-04-20T04:18:59.356Z"
   },
   {
    "duration": 1095,
    "start_time": "2022-04-20T04:19:03.197Z"
   },
   {
    "duration": 685,
    "start_time": "2022-04-20T04:19:04.294Z"
   },
   {
    "duration": 4,
    "start_time": "2022-04-20T04:19:04.980Z"
   },
   {
    "duration": 94,
    "start_time": "2022-04-20T04:19:04.986Z"
   },
   {
    "duration": 395,
    "start_time": "2022-04-20T04:19:05.081Z"
   },
   {
    "duration": 792,
    "start_time": "2022-04-20T04:19:05.477Z"
   },
   {
    "duration": 98,
    "start_time": "2022-04-20T04:19:06.270Z"
   },
   {
    "duration": 36,
    "start_time": "2022-04-20T04:19:06.369Z"
   },
   {
    "duration": 83,
    "start_time": "2022-04-20T04:23:27.367Z"
   },
   {
    "duration": 58,
    "start_time": "2022-04-20T04:24:06.328Z"
   },
   {
    "duration": 91,
    "start_time": "2022-04-20T04:24:29.865Z"
   },
   {
    "duration": 125,
    "start_time": "2022-04-20T04:28:22.738Z"
   },
   {
    "duration": 853,
    "start_time": "2022-04-20T04:29:02.856Z"
   },
   {
    "duration": 893,
    "start_time": "2022-04-20T04:29:37.835Z"
   },
   {
    "duration": 1069,
    "start_time": "2022-04-20T04:29:42.424Z"
   },
   {
    "duration": 697,
    "start_time": "2022-04-20T04:29:43.495Z"
   },
   {
    "duration": 4,
    "start_time": "2022-04-20T04:29:44.196Z"
   },
   {
    "duration": 92,
    "start_time": "2022-04-20T04:29:44.201Z"
   },
   {
    "duration": 399,
    "start_time": "2022-04-20T04:29:44.294Z"
   },
   {
    "duration": 789,
    "start_time": "2022-04-20T04:29:44.695Z"
   },
   {
    "duration": 95,
    "start_time": "2022-04-20T04:29:45.485Z"
   },
   {
    "duration": 24,
    "start_time": "2022-04-20T04:29:45.581Z"
   },
   {
    "duration": 95,
    "start_time": "2022-04-20T04:29:45.607Z"
   },
   {
    "duration": 882,
    "start_time": "2022-04-20T04:29:45.703Z"
   },
   {
    "duration": 125,
    "start_time": "2022-04-20T04:32:15.254Z"
   },
   {
    "duration": 787,
    "start_time": "2022-04-20T04:32:55.532Z"
   },
   {
    "duration": 914,
    "start_time": "2022-04-20T04:34:10.716Z"
   },
   {
    "duration": 915,
    "start_time": "2022-04-20T04:34:20.863Z"
   },
   {
    "duration": 52,
    "start_time": "2022-04-20T04:34:58.901Z"
   },
   {
    "duration": 4,
    "start_time": "2022-04-20T04:35:27.827Z"
   },
   {
    "duration": 516,
    "start_time": "2022-04-20T04:36:35.341Z"
   },
   {
    "duration": 129,
    "start_time": "2022-04-20T04:42:32.936Z"
   },
   {
    "duration": 492,
    "start_time": "2022-04-20T04:43:15.219Z"
   },
   {
    "duration": 31,
    "start_time": "2022-04-20T04:52:56.541Z"
   },
   {
    "duration": 1386,
    "start_time": "2022-04-20T05:07:51.141Z"
   },
   {
    "duration": 0,
    "start_time": "2022-04-20T05:07:52.530Z"
   },
   {
    "duration": 0,
    "start_time": "2022-04-20T05:07:52.530Z"
   },
   {
    "duration": 0,
    "start_time": "2022-04-20T05:07:52.531Z"
   },
   {
    "duration": 0,
    "start_time": "2022-04-20T05:07:52.532Z"
   },
   {
    "duration": 0,
    "start_time": "2022-04-20T05:07:52.533Z"
   },
   {
    "duration": 0,
    "start_time": "2022-04-20T05:07:52.534Z"
   },
   {
    "duration": 0,
    "start_time": "2022-04-20T05:07:52.535Z"
   },
   {
    "duration": 0,
    "start_time": "2022-04-20T05:07:52.536Z"
   },
   {
    "duration": 0,
    "start_time": "2022-04-20T05:07:52.537Z"
   },
   {
    "duration": 0,
    "start_time": "2022-04-20T05:07:52.538Z"
   },
   {
    "duration": 0,
    "start_time": "2022-04-20T05:07:52.538Z"
   },
   {
    "duration": 0,
    "start_time": "2022-04-20T05:07:52.539Z"
   },
   {
    "duration": 0,
    "start_time": "2022-04-20T05:07:52.540Z"
   },
   {
    "duration": 0,
    "start_time": "2022-04-20T05:07:52.541Z"
   },
   {
    "duration": 1384,
    "start_time": "2022-04-20T05:08:28.200Z"
   },
   {
    "duration": 687,
    "start_time": "2022-04-20T05:08:29.586Z"
   },
   {
    "duration": 4,
    "start_time": "2022-04-20T05:08:30.275Z"
   },
   {
    "duration": 125,
    "start_time": "2022-04-20T05:08:30.281Z"
   },
   {
    "duration": 414,
    "start_time": "2022-04-20T05:08:30.408Z"
   },
   {
    "duration": 840,
    "start_time": "2022-04-20T05:08:30.824Z"
   },
   {
    "duration": 100,
    "start_time": "2022-04-20T05:08:31.665Z"
   },
   {
    "duration": 26,
    "start_time": "2022-04-20T05:08:31.766Z"
   },
   {
    "duration": 101,
    "start_time": "2022-04-20T05:08:31.794Z"
   },
   {
    "duration": 933,
    "start_time": "2022-04-20T05:08:31.897Z"
   },
   {
    "duration": 53,
    "start_time": "2022-04-20T05:08:32.832Z"
   },
   {
    "duration": 3,
    "start_time": "2022-04-20T05:08:32.886Z"
   },
   {
    "duration": 522,
    "start_time": "2022-04-20T05:08:32.891Z"
   },
   {
    "duration": 38,
    "start_time": "2022-04-20T05:08:33.415Z"
   },
   {
    "duration": 124,
    "start_time": "2022-04-20T05:08:33.455Z"
   },
   {
    "duration": 123,
    "start_time": "2022-04-20T05:08:50.398Z"
   },
   {
    "duration": 1079,
    "start_time": "2022-04-20T05:22:48.183Z"
   },
   {
    "duration": 207,
    "start_time": "2022-04-20T05:23:11.038Z"
   },
   {
    "duration": 1210,
    "start_time": "2022-04-20T05:23:30.830Z"
   },
   {
    "duration": 13,
    "start_time": "2022-04-20T05:24:01.171Z"
   },
   {
    "duration": 1031,
    "start_time": "2022-04-20T05:24:13.864Z"
   },
   {
    "duration": 1482,
    "start_time": "2022-04-20T06:06:13.484Z"
   },
   {
    "duration": 0,
    "start_time": "2022-04-20T06:06:14.969Z"
   },
   {
    "duration": 0,
    "start_time": "2022-04-20T06:06:14.969Z"
   },
   {
    "duration": 0,
    "start_time": "2022-04-20T06:06:14.970Z"
   },
   {
    "duration": 0,
    "start_time": "2022-04-20T06:06:14.971Z"
   },
   {
    "duration": 0,
    "start_time": "2022-04-20T06:06:14.973Z"
   },
   {
    "duration": 0,
    "start_time": "2022-04-20T06:06:14.974Z"
   },
   {
    "duration": 0,
    "start_time": "2022-04-20T06:06:14.974Z"
   },
   {
    "duration": 0,
    "start_time": "2022-04-20T06:06:14.975Z"
   },
   {
    "duration": 0,
    "start_time": "2022-04-20T06:06:14.976Z"
   },
   {
    "duration": 0,
    "start_time": "2022-04-20T06:06:14.977Z"
   },
   {
    "duration": 0,
    "start_time": "2022-04-20T06:06:14.978Z"
   },
   {
    "duration": 0,
    "start_time": "2022-04-20T06:06:14.979Z"
   },
   {
    "duration": 0,
    "start_time": "2022-04-20T06:06:14.980Z"
   },
   {
    "duration": 0,
    "start_time": "2022-04-20T06:06:14.981Z"
   },
   {
    "duration": 0,
    "start_time": "2022-04-20T06:06:14.982Z"
   },
   {
    "duration": 1380,
    "start_time": "2022-04-20T06:07:15.303Z"
   },
   {
    "duration": 692,
    "start_time": "2022-04-20T06:07:16.685Z"
   },
   {
    "duration": 4,
    "start_time": "2022-04-20T06:07:17.382Z"
   },
   {
    "duration": 124,
    "start_time": "2022-04-20T06:07:17.388Z"
   },
   {
    "duration": 414,
    "start_time": "2022-04-20T06:07:17.514Z"
   },
   {
    "duration": 835,
    "start_time": "2022-04-20T06:07:17.930Z"
   },
   {
    "duration": 103,
    "start_time": "2022-04-20T06:07:18.767Z"
   },
   {
    "duration": 27,
    "start_time": "2022-04-20T06:07:18.871Z"
   },
   {
    "duration": 104,
    "start_time": "2022-04-20T06:07:18.900Z"
   },
   {
    "duration": 941,
    "start_time": "2022-04-20T06:07:19.006Z"
   },
   {
    "duration": 50,
    "start_time": "2022-04-20T06:07:19.949Z"
   },
   {
    "duration": 3,
    "start_time": "2022-04-20T06:07:20.001Z"
   },
   {
    "duration": 534,
    "start_time": "2022-04-20T06:07:20.005Z"
   },
   {
    "duration": 31,
    "start_time": "2022-04-20T06:07:20.540Z"
   },
   {
    "duration": 144,
    "start_time": "2022-04-20T06:07:20.572Z"
   },
   {
    "duration": 125,
    "start_time": "2022-04-20T06:07:20.718Z"
   },
   {
    "duration": 152,
    "start_time": "2022-04-20T06:07:50.501Z"
   },
   {
    "duration": 52,
    "start_time": "2022-04-20T06:52:43.915Z"
   },
   {
    "duration": 3,
    "start_time": "2022-04-20T06:56:41.511Z"
   },
   {
    "duration": 14,
    "start_time": "2022-04-20T08:23:46.742Z"
   },
   {
    "duration": 3,
    "start_time": "2022-04-20T08:23:52.159Z"
   },
   {
    "duration": 121,
    "start_time": "2022-04-20T08:23:52.695Z"
   },
   {
    "duration": 3,
    "start_time": "2022-04-20T08:24:00.306Z"
   },
   {
    "duration": 26,
    "start_time": "2022-04-20T08:24:01.214Z"
   },
   {
    "duration": 1367,
    "start_time": "2022-04-20T08:25:24.784Z"
   },
   {
    "duration": 700,
    "start_time": "2022-04-20T08:25:26.153Z"
   },
   {
    "duration": 5,
    "start_time": "2022-04-20T08:25:26.855Z"
   },
   {
    "duration": 107,
    "start_time": "2022-04-20T08:25:26.862Z"
   },
   {
    "duration": 415,
    "start_time": "2022-04-20T08:25:26.971Z"
   },
   {
    "duration": 836,
    "start_time": "2022-04-20T08:25:27.388Z"
   },
   {
    "duration": 103,
    "start_time": "2022-04-20T08:25:28.226Z"
   },
   {
    "duration": 27,
    "start_time": "2022-04-20T08:25:28.331Z"
   },
   {
    "duration": 115,
    "start_time": "2022-04-20T08:25:28.359Z"
   },
   {
    "duration": 1036,
    "start_time": "2022-04-20T08:25:28.478Z"
   },
   {
    "duration": 52,
    "start_time": "2022-04-20T08:25:29.524Z"
   },
   {
    "duration": 4,
    "start_time": "2022-04-20T08:25:29.577Z"
   },
   {
    "duration": 489,
    "start_time": "2022-04-20T08:25:29.582Z"
   },
   {
    "duration": 31,
    "start_time": "2022-04-20T08:25:30.072Z"
   },
   {
    "duration": 155,
    "start_time": "2022-04-20T08:25:30.105Z"
   },
   {
    "duration": 157,
    "start_time": "2022-04-20T08:25:30.261Z"
   },
   {
    "duration": 22,
    "start_time": "2022-04-20T08:25:30.420Z"
   },
   {
    "duration": 17,
    "start_time": "2022-04-20T08:25:30.444Z"
   },
   {
    "duration": 130,
    "start_time": "2022-04-20T08:25:30.463Z"
   },
   {
    "duration": 820,
    "start_time": "2022-04-20T08:31:24.420Z"
   },
   {
    "duration": 1541,
    "start_time": "2022-04-20T08:31:36.112Z"
   },
   {
    "duration": 743,
    "start_time": "2022-04-20T08:31:37.655Z"
   },
   {
    "duration": 3,
    "start_time": "2022-04-20T08:31:38.400Z"
   },
   {
    "duration": 132,
    "start_time": "2022-04-20T08:31:38.405Z"
   },
   {
    "duration": 418,
    "start_time": "2022-04-20T08:31:38.538Z"
   },
   {
    "duration": 829,
    "start_time": "2022-04-20T08:31:38.958Z"
   },
   {
    "duration": 101,
    "start_time": "2022-04-20T08:31:39.789Z"
   },
   {
    "duration": 38,
    "start_time": "2022-04-20T08:31:39.892Z"
   },
   {
    "duration": 92,
    "start_time": "2022-04-20T08:31:39.932Z"
   },
   {
    "duration": 951,
    "start_time": "2022-04-20T08:31:40.027Z"
   },
   {
    "duration": 63,
    "start_time": "2022-04-20T08:31:40.979Z"
   },
   {
    "duration": 4,
    "start_time": "2022-04-20T08:31:41.044Z"
   },
   {
    "duration": 519,
    "start_time": "2022-04-20T08:31:41.049Z"
   },
   {
    "duration": 920,
    "start_time": "2022-04-20T08:31:41.570Z"
   },
   {
    "duration": 290,
    "start_time": "2022-04-20T08:31:42.492Z"
   },
   {
    "duration": 532,
    "start_time": "2022-04-20T08:31:42.784Z"
   },
   {
    "duration": 234,
    "start_time": "2022-04-20T08:31:43.317Z"
   },
   {
    "duration": 33,
    "start_time": "2022-04-20T08:31:43.553Z"
   },
   {
    "duration": 4,
    "start_time": "2022-04-20T08:31:43.587Z"
   },
   {
    "duration": 50941,
    "start_time": "2022-04-20T08:31:43.593Z"
   },
   {
    "duration": 1236,
    "start_time": "2022-04-20T08:34:40.798Z"
   },
   {
    "duration": 4,
    "start_time": "2022-04-20T08:34:57.342Z"
   },
   {
    "duration": 1398,
    "start_time": "2022-04-20T08:35:02.931Z"
   },
   {
    "duration": 2107,
    "start_time": "2022-04-20T08:35:30.325Z"
   },
   {
    "duration": 3665,
    "start_time": "2022-04-20T08:35:39.459Z"
   },
   {
    "duration": 3,
    "start_time": "2022-04-20T08:56:55.799Z"
   },
   {
    "duration": 3014,
    "start_time": "2022-04-20T08:56:56.910Z"
   },
   {
    "duration": 4,
    "start_time": "2022-04-20T08:57:15.469Z"
   },
   {
    "duration": 2295,
    "start_time": "2022-04-20T08:57:16.031Z"
   },
   {
    "duration": 3,
    "start_time": "2022-04-20T08:57:30.247Z"
   },
   {
    "duration": 3,
    "start_time": "2022-04-20T08:57:46.591Z"
   },
   {
    "duration": 3214,
    "start_time": "2022-04-20T08:57:47.811Z"
   },
   {
    "duration": 3,
    "start_time": "2022-04-20T08:58:02.110Z"
   },
   {
    "duration": 6673,
    "start_time": "2022-04-20T08:58:02.761Z"
   },
   {
    "duration": 3,
    "start_time": "2022-04-20T09:00:13.934Z"
   },
   {
    "duration": 2539,
    "start_time": "2022-04-20T09:00:14.594Z"
   },
   {
    "duration": 3,
    "start_time": "2022-04-20T09:00:26.362Z"
   },
   {
    "duration": 3519,
    "start_time": "2022-04-20T09:00:28.005Z"
   },
   {
    "duration": 3,
    "start_time": "2022-04-20T09:00:38.521Z"
   },
   {
    "duration": 2518,
    "start_time": "2022-04-20T09:00:40.022Z"
   },
   {
    "duration": 3,
    "start_time": "2022-04-20T09:04:51.887Z"
   },
   {
    "duration": 2769,
    "start_time": "2022-04-20T09:04:53.555Z"
   },
   {
    "duration": 3001,
    "start_time": "2022-04-20T09:11:28.151Z"
   },
   {
    "duration": 2807,
    "start_time": "2022-04-20T09:11:44.648Z"
   },
   {
    "duration": 3095,
    "start_time": "2022-04-20T09:12:01.880Z"
   },
   {
    "duration": 6036,
    "start_time": "2022-04-20T09:13:06.196Z"
   },
   {
    "duration": 2720,
    "start_time": "2022-04-20T09:13:29.109Z"
   },
   {
    "duration": 526,
    "start_time": "2022-04-20T09:14:32.827Z"
   },
   {
    "duration": 348,
    "start_time": "2022-04-20T09:14:44.385Z"
   },
   {
    "duration": 3,
    "start_time": "2022-04-20T09:20:08.806Z"
   },
   {
    "duration": 6643,
    "start_time": "2022-04-20T09:20:51.282Z"
   },
   {
    "duration": 3,
    "start_time": "2022-04-20T09:21:35.935Z"
   },
   {
    "duration": 7860,
    "start_time": "2022-04-20T09:21:36.766Z"
   },
   {
    "duration": 719,
    "start_time": "2022-04-20T09:21:57.422Z"
   },
   {
    "duration": 3,
    "start_time": "2022-04-20T09:22:27.578Z"
   },
   {
    "duration": 6358,
    "start_time": "2022-04-20T09:22:29.171Z"
   },
   {
    "duration": 3,
    "start_time": "2022-04-20T09:22:52.927Z"
   },
   {
    "duration": 2602,
    "start_time": "2022-04-20T09:22:53.728Z"
   },
   {
    "duration": 2,
    "start_time": "2022-04-20T09:23:05.452Z"
   },
   {
    "duration": 2809,
    "start_time": "2022-04-20T09:23:06.517Z"
   },
   {
    "duration": 2,
    "start_time": "2022-04-20T09:23:19.778Z"
   },
   {
    "duration": 3647,
    "start_time": "2022-04-20T09:23:20.782Z"
   },
   {
    "duration": 3,
    "start_time": "2022-04-20T09:23:40.630Z"
   },
   {
    "duration": 3626,
    "start_time": "2022-04-20T09:23:41.399Z"
   },
   {
    "duration": 3,
    "start_time": "2022-04-20T09:23:56.375Z"
   },
   {
    "duration": 9852,
    "start_time": "2022-04-20T09:24:00.276Z"
   },
   {
    "duration": 697,
    "start_time": "2022-04-20T09:24:18.541Z"
   },
   {
    "duration": 3,
    "start_time": "2022-04-20T09:24:32.596Z"
   },
   {
    "duration": 8389,
    "start_time": "2022-04-20T09:24:33.735Z"
   },
   {
    "duration": 720,
    "start_time": "2022-04-20T09:24:50.418Z"
   },
   {
    "duration": 3,
    "start_time": "2022-04-20T09:25:46.487Z"
   },
   {
    "duration": 4013,
    "start_time": "2022-04-20T09:25:47.711Z"
   },
   {
    "duration": 3,
    "start_time": "2022-04-20T09:26:13.340Z"
   },
   {
    "duration": 5424,
    "start_time": "2022-04-20T09:26:14.006Z"
   },
   {
    "duration": 4160,
    "start_time": "2022-04-20T09:26:38.170Z"
   },
   {
    "duration": 6422,
    "start_time": "2022-04-20T09:26:49.803Z"
   },
   {
    "duration": 27861,
    "start_time": "2022-04-20T09:27:03.964Z"
   },
   {
    "duration": 2,
    "start_time": "2022-04-20T09:28:03.235Z"
   },
   {
    "duration": 1677,
    "start_time": "2022-04-20T09:28:04.547Z"
   },
   {
    "duration": 288,
    "start_time": "2022-04-20T09:28:10.442Z"
   },
   {
    "duration": 3,
    "start_time": "2022-04-20T09:28:22.644Z"
   },
   {
    "duration": 10750,
    "start_time": "2022-04-20T09:28:26.085Z"
   },
   {
    "duration": 883,
    "start_time": "2022-04-20T09:29:03.556Z"
   },
   {
    "duration": 20,
    "start_time": "2022-04-20T09:38:58.742Z"
   },
   {
    "duration": 3,
    "start_time": "2022-04-20T09:38:59.383Z"
   },
   {
    "duration": 3,
    "start_time": "2022-04-20T09:38:59.917Z"
   },
   {
    "duration": 3,
    "start_time": "2022-04-20T09:39:57.618Z"
   },
   {
    "duration": 2,
    "start_time": "2022-04-20T09:39:58.391Z"
   },
   {
    "duration": 5158,
    "start_time": "2022-04-20T09:39:59.827Z"
   },
   {
    "duration": 2,
    "start_time": "2022-04-20T09:40:46.152Z"
   },
   {
    "duration": 1551,
    "start_time": "2022-04-20T09:40:47.075Z"
   },
   {
    "duration": 291,
    "start_time": "2022-04-20T09:40:53.337Z"
   },
   {
    "duration": 3,
    "start_time": "2022-04-20T09:40:54.964Z"
   },
   {
    "duration": 4353,
    "start_time": "2022-04-20T09:40:57.387Z"
   },
   {
    "duration": 433,
    "start_time": "2022-04-20T09:41:04.511Z"
   },
   {
    "duration": 2,
    "start_time": "2022-04-20T09:41:38.302Z"
   },
   {
    "duration": 3,
    "start_time": "2022-04-20T09:41:38.906Z"
   },
   {
    "duration": 2984,
    "start_time": "2022-04-20T09:41:39.608Z"
   },
   {
    "duration": 3,
    "start_time": "2022-04-20T09:41:52.684Z"
   },
   {
    "duration": 2,
    "start_time": "2022-04-20T09:41:55.502Z"
   },
   {
    "duration": 3056,
    "start_time": "2022-04-20T09:41:56.166Z"
   },
   {
    "duration": 21,
    "start_time": "2022-04-20T09:43:12.462Z"
   },
   {
    "duration": 4,
    "start_time": "2022-04-20T09:44:34.177Z"
   },
   {
    "duration": 3025,
    "start_time": "2022-04-20T09:44:35.095Z"
   },
   {
    "duration": 2,
    "start_time": "2022-04-20T09:45:06.521Z"
   },
   {
    "duration": 3,
    "start_time": "2022-04-20T09:45:09.654Z"
   },
   {
    "duration": 3,
    "start_time": "2022-04-20T09:45:10.140Z"
   },
   {
    "duration": 3875,
    "start_time": "2022-04-20T09:45:10.722Z"
   },
   {
    "duration": 3,
    "start_time": "2022-04-20T09:45:30.584Z"
   },
   {
    "duration": 3,
    "start_time": "2022-04-20T09:45:31.224Z"
   },
   {
    "duration": 4060,
    "start_time": "2022-04-20T09:45:32.039Z"
   },
   {
    "duration": 3,
    "start_time": "2022-04-20T09:45:48.577Z"
   },
   {
    "duration": 2,
    "start_time": "2022-04-20T09:45:49.797Z"
   },
   {
    "duration": 4852,
    "start_time": "2022-04-20T09:45:50.849Z"
   },
   {
    "duration": 36,
    "start_time": "2022-04-20T09:46:10.245Z"
   },
   {
    "duration": 10,
    "start_time": "2022-04-20T09:59:17.583Z"
   },
   {
    "duration": 9,
    "start_time": "2022-04-20T09:59:23.014Z"
   },
   {
    "duration": 19,
    "start_time": "2022-04-20T09:59:28.249Z"
   },
   {
    "duration": 3,
    "start_time": "2022-04-20T10:12:19.629Z"
   },
   {
    "duration": 1298,
    "start_time": "2022-04-20T10:35:18.657Z"
   },
   {
    "duration": 843,
    "start_time": "2022-04-20T10:35:19.957Z"
   },
   {
    "duration": 4,
    "start_time": "2022-04-20T10:35:20.802Z"
   },
   {
    "duration": 127,
    "start_time": "2022-04-20T10:35:20.823Z"
   },
   {
    "duration": 434,
    "start_time": "2022-04-20T10:35:20.951Z"
   },
   {
    "duration": 849,
    "start_time": "2022-04-20T10:35:21.387Z"
   },
   {
    "duration": 102,
    "start_time": "2022-04-20T10:35:22.238Z"
   },
   {
    "duration": 28,
    "start_time": "2022-04-20T10:35:22.341Z"
   },
   {
    "duration": 114,
    "start_time": "2022-04-20T10:35:22.370Z"
   },
   {
    "duration": 943,
    "start_time": "2022-04-20T10:35:22.487Z"
   },
   {
    "duration": 53,
    "start_time": "2022-04-20T10:35:23.431Z"
   },
   {
    "duration": 4,
    "start_time": "2022-04-20T10:35:23.485Z"
   },
   {
    "duration": 525,
    "start_time": "2022-04-20T10:35:23.490Z"
   },
   {
    "duration": 830,
    "start_time": "2022-04-20T10:35:24.016Z"
   },
   {
    "duration": 195,
    "start_time": "2022-04-20T10:35:24.848Z"
   },
   {
    "duration": 528,
    "start_time": "2022-04-20T10:35:25.044Z"
   },
   {
    "duration": 146,
    "start_time": "2022-04-20T10:35:25.574Z"
   },
   {
    "duration": 21,
    "start_time": "2022-04-20T10:35:25.721Z"
   },
   {
    "duration": 2,
    "start_time": "2022-04-20T10:35:25.744Z"
   },
   {
    "duration": 3785,
    "start_time": "2022-04-20T10:35:25.748Z"
   },
   {
    "duration": 391,
    "start_time": "2022-04-20T10:35:29.535Z"
   },
   {
    "duration": 3,
    "start_time": "2022-04-20T10:35:29.927Z"
   },
   {
    "duration": 4898,
    "start_time": "2022-04-20T10:35:29.932Z"
   },
   {
    "duration": 502,
    "start_time": "2022-04-20T10:35:34.832Z"
   },
   {
    "duration": 17,
    "start_time": "2022-04-20T10:35:35.336Z"
   },
   {
    "duration": 3,
    "start_time": "2022-04-20T10:35:35.423Z"
   },
   {
    "duration": 8,
    "start_time": "2022-04-20T10:35:35.428Z"
   },
   {
    "duration": 3088,
    "start_time": "2022-04-20T10:35:35.439Z"
   },
   {
    "duration": 22,
    "start_time": "2022-04-20T10:35:38.528Z"
   },
   {
    "duration": 3,
    "start_time": "2022-04-20T10:35:38.551Z"
   },
   {
    "duration": 6,
    "start_time": "2022-04-20T10:35:38.555Z"
   },
   {
    "duration": 4735,
    "start_time": "2022-04-20T10:35:38.563Z"
   },
   {
    "duration": 37,
    "start_time": "2022-04-20T10:35:43.300Z"
   },
   {
    "duration": 97,
    "start_time": "2022-04-20T10:35:43.339Z"
   },
   {
    "duration": 3,
    "start_time": "2022-04-20T10:35:43.438Z"
   },
   {
    "duration": 1357,
    "start_time": "2022-04-20T10:39:47.464Z"
   },
   {
    "duration": 770,
    "start_time": "2022-04-20T10:39:48.824Z"
   },
   {
    "duration": 3,
    "start_time": "2022-04-20T10:39:49.596Z"
   },
   {
    "duration": 138,
    "start_time": "2022-04-20T10:39:49.601Z"
   },
   {
    "duration": 436,
    "start_time": "2022-04-20T10:39:49.741Z"
   },
   {
    "duration": 889,
    "start_time": "2022-04-20T10:39:50.178Z"
   },
   {
    "duration": 102,
    "start_time": "2022-04-20T10:39:51.068Z"
   },
   {
    "duration": 26,
    "start_time": "2022-04-20T10:39:51.171Z"
   },
   {
    "duration": 104,
    "start_time": "2022-04-20T10:39:51.199Z"
   },
   {
    "duration": 965,
    "start_time": "2022-04-20T10:39:51.306Z"
   },
   {
    "duration": 58,
    "start_time": "2022-04-20T10:39:52.273Z"
   },
   {
    "duration": 3,
    "start_time": "2022-04-20T10:39:52.333Z"
   },
   {
    "duration": 520,
    "start_time": "2022-04-20T10:39:52.338Z"
   },
   {
    "duration": 765,
    "start_time": "2022-04-20T10:39:52.860Z"
   },
   {
    "duration": 203,
    "start_time": "2022-04-20T10:39:53.628Z"
   },
   {
    "duration": 544,
    "start_time": "2022-04-20T10:39:53.833Z"
   },
   {
    "duration": 155,
    "start_time": "2022-04-20T10:39:54.379Z"
   },
   {
    "duration": 22,
    "start_time": "2022-04-20T10:39:54.536Z"
   },
   {
    "duration": 3,
    "start_time": "2022-04-20T10:39:54.560Z"
   },
   {
    "duration": 4567,
    "start_time": "2022-04-20T10:39:54.565Z"
   },
   {
    "duration": 395,
    "start_time": "2022-04-20T10:39:59.135Z"
   },
   {
    "duration": 3,
    "start_time": "2022-04-20T10:39:59.532Z"
   },
   {
    "duration": 5190,
    "start_time": "2022-04-20T10:39:59.537Z"
   },
   {
    "duration": 510,
    "start_time": "2022-04-20T10:40:04.728Z"
   },
   {
    "duration": 23,
    "start_time": "2022-04-20T10:40:05.240Z"
   },
   {
    "duration": 3,
    "start_time": "2022-04-20T10:40:05.264Z"
   },
   {
    "duration": 8,
    "start_time": "2022-04-20T10:40:05.268Z"
   },
   {
    "duration": 3216,
    "start_time": "2022-04-20T10:40:05.279Z"
   },
   {
    "duration": 22,
    "start_time": "2022-04-20T10:40:08.496Z"
   },
   {
    "duration": 7,
    "start_time": "2022-04-20T10:40:08.520Z"
   },
   {
    "duration": 21,
    "start_time": "2022-04-20T10:40:08.529Z"
   },
   {
    "duration": 4975,
    "start_time": "2022-04-20T10:40:08.552Z"
   },
   {
    "duration": 34,
    "start_time": "2022-04-20T10:40:13.529Z"
   },
   {
    "duration": 106,
    "start_time": "2022-04-20T10:40:13.565Z"
   },
   {
    "duration": 0,
    "start_time": "2022-04-20T10:40:13.673Z"
   },
   {
    "duration": 85,
    "start_time": "2022-04-20T10:42:31.732Z"
   },
   {
    "duration": 15391,
    "start_time": "2022-04-20T10:43:31.534Z"
   },
   {
    "duration": 68,
    "start_time": "2022-04-20T10:44:40.477Z"
   },
   {
    "duration": 3,
    "start_time": "2022-04-20T10:55:58.066Z"
   },
   {
    "duration": 3,
    "start_time": "2022-04-20T10:57:46.687Z"
   },
   {
    "duration": 3,
    "start_time": "2022-04-20T10:58:56.499Z"
   },
   {
    "duration": 2,
    "start_time": "2022-04-20T10:59:00.124Z"
   },
   {
    "duration": 152,
    "start_time": "2022-04-20T10:59:22.688Z"
   },
   {
    "duration": 3,
    "start_time": "2022-04-20T10:59:53.498Z"
   },
   {
    "duration": 3,
    "start_time": "2022-04-20T10:59:54.207Z"
   },
   {
    "duration": 156,
    "start_time": "2022-04-20T10:59:54.913Z"
   },
   {
    "duration": 2,
    "start_time": "2022-04-20T11:00:42.109Z"
   },
   {
    "duration": 3,
    "start_time": "2022-04-20T11:00:43.230Z"
   },
   {
    "duration": 3,
    "start_time": "2022-04-20T11:00:44.734Z"
   },
   {
    "duration": 1364,
    "start_time": "2022-04-20T11:12:11.867Z"
   },
   {
    "duration": 756,
    "start_time": "2022-04-20T11:12:13.232Z"
   },
   {
    "duration": 5,
    "start_time": "2022-04-20T11:12:13.990Z"
   },
   {
    "duration": 138,
    "start_time": "2022-04-20T11:12:13.997Z"
   },
   {
    "duration": 433,
    "start_time": "2022-04-20T11:12:14.136Z"
   },
   {
    "duration": 881,
    "start_time": "2022-04-20T11:12:14.570Z"
   },
   {
    "duration": 102,
    "start_time": "2022-04-20T11:12:15.453Z"
   },
   {
    "duration": 27,
    "start_time": "2022-04-20T11:12:15.556Z"
   },
   {
    "duration": 107,
    "start_time": "2022-04-20T11:12:15.584Z"
   },
   {
    "duration": 946,
    "start_time": "2022-04-20T11:12:15.693Z"
   },
   {
    "duration": 54,
    "start_time": "2022-04-20T11:12:16.640Z"
   },
   {
    "duration": 6,
    "start_time": "2022-04-20T11:12:16.695Z"
   },
   {
    "duration": 547,
    "start_time": "2022-04-20T11:12:16.724Z"
   },
   {
    "duration": 798,
    "start_time": "2022-04-20T11:12:17.273Z"
   },
   {
    "duration": 196,
    "start_time": "2022-04-20T11:12:18.072Z"
   },
   {
    "duration": 554,
    "start_time": "2022-04-20T11:12:18.269Z"
   },
   {
    "duration": 171,
    "start_time": "2022-04-20T11:12:18.825Z"
   },
   {
    "duration": 27,
    "start_time": "2022-04-20T11:12:18.997Z"
   },
   {
    "duration": 3,
    "start_time": "2022-04-20T11:12:19.026Z"
   },
   {
    "duration": 3896,
    "start_time": "2022-04-20T11:12:19.030Z"
   },
   {
    "duration": 309,
    "start_time": "2022-04-20T11:12:22.927Z"
   },
   {
    "duration": 3,
    "start_time": "2022-04-20T11:12:23.238Z"
   },
   {
    "duration": 4584,
    "start_time": "2022-04-20T11:12:23.243Z"
   },
   {
    "duration": 511,
    "start_time": "2022-04-20T11:12:27.829Z"
   },
   {
    "duration": 20,
    "start_time": "2022-04-20T11:12:28.342Z"
   },
   {
    "duration": 3,
    "start_time": "2022-04-20T11:12:28.364Z"
   },
   {
    "duration": 7,
    "start_time": "2022-04-20T11:12:28.369Z"
   },
   {
    "duration": 3170,
    "start_time": "2022-04-20T11:12:28.427Z"
   },
   {
    "duration": 25,
    "start_time": "2022-04-20T11:12:31.599Z"
   },
   {
    "duration": 9,
    "start_time": "2022-04-20T11:12:31.626Z"
   },
   {
    "duration": 19,
    "start_time": "2022-04-20T11:12:31.638Z"
   },
   {
    "duration": 5033,
    "start_time": "2022-04-20T11:12:31.659Z"
   },
   {
    "duration": 40,
    "start_time": "2022-04-20T11:12:36.694Z"
   },
   {
    "duration": 96,
    "start_time": "2022-04-20T11:12:36.735Z"
   },
   {
    "duration": 1385,
    "start_time": "2022-04-20T11:25:18.590Z"
   },
   {
    "duration": 701,
    "start_time": "2022-04-20T11:25:19.977Z"
   },
   {
    "duration": 3,
    "start_time": "2022-04-20T11:25:20.680Z"
   },
   {
    "duration": 121,
    "start_time": "2022-04-20T11:25:20.685Z"
   },
   {
    "duration": 451,
    "start_time": "2022-04-20T11:25:20.807Z"
   },
   {
    "duration": 845,
    "start_time": "2022-04-20T11:25:21.260Z"
   },
   {
    "duration": 98,
    "start_time": "2022-04-20T11:25:22.107Z"
   },
   {
    "duration": 39,
    "start_time": "2022-04-20T11:25:22.206Z"
   },
   {
    "duration": 103,
    "start_time": "2022-04-20T11:25:22.246Z"
   },
   {
    "duration": 963,
    "start_time": "2022-04-20T11:25:22.351Z"
   },
   {
    "duration": 58,
    "start_time": "2022-04-20T11:25:23.316Z"
   },
   {
    "duration": 3,
    "start_time": "2022-04-20T11:25:23.375Z"
   },
   {
    "duration": 502,
    "start_time": "2022-04-20T11:25:23.379Z"
   },
   {
    "duration": 742,
    "start_time": "2022-04-20T11:25:23.882Z"
   },
   {
    "duration": 188,
    "start_time": "2022-04-20T11:25:24.625Z"
   },
   {
    "duration": 534,
    "start_time": "2022-04-20T11:25:24.815Z"
   },
   {
    "duration": 155,
    "start_time": "2022-04-20T11:25:25.350Z"
   },
   {
    "duration": 26,
    "start_time": "2022-04-20T11:25:25.507Z"
   },
   {
    "duration": 2,
    "start_time": "2022-04-20T11:25:25.535Z"
   },
   {
    "duration": 3593,
    "start_time": "2022-04-20T11:25:25.539Z"
   },
   {
    "duration": 391,
    "start_time": "2022-04-20T11:25:29.134Z"
   },
   {
    "duration": 4,
    "start_time": "2022-04-20T11:25:29.526Z"
   },
   {
    "duration": 4597,
    "start_time": "2022-04-20T11:25:29.531Z"
   },
   {
    "duration": 506,
    "start_time": "2022-04-20T11:25:34.130Z"
   },
   {
    "duration": 87,
    "start_time": "2022-04-20T11:25:34.637Z"
   },
   {
    "duration": 3,
    "start_time": "2022-04-20T11:25:34.726Z"
   },
   {
    "duration": 5,
    "start_time": "2022-04-20T11:25:34.730Z"
   },
   {
    "duration": 3775,
    "start_time": "2022-04-20T11:25:34.738Z"
   },
   {
    "duration": 22,
    "start_time": "2022-04-20T11:25:38.515Z"
   },
   {
    "duration": 10,
    "start_time": "2022-04-20T11:25:38.539Z"
   },
   {
    "duration": 19,
    "start_time": "2022-04-20T11:25:38.551Z"
   },
   {
    "duration": 5530,
    "start_time": "2022-04-20T11:25:38.572Z"
   },
   {
    "duration": 36,
    "start_time": "2022-04-20T11:25:44.103Z"
   },
   {
    "duration": 120,
    "start_time": "2022-04-20T11:25:44.141Z"
   },
   {
    "duration": 4,
    "start_time": "2022-04-20T11:25:44.263Z"
   },
   {
    "duration": 6,
    "start_time": "2022-04-20T11:25:44.268Z"
   },
   {
    "duration": 114,
    "start_time": "2022-04-20T11:25:44.276Z"
   },
   {
    "duration": 28,
    "start_time": "2022-04-20T11:34:41.323Z"
   },
   {
    "duration": 13,
    "start_time": "2022-04-20T11:34:42.049Z"
   },
   {
    "duration": 1722,
    "start_time": "2022-04-20T11:35:03.591Z"
   },
   {
    "duration": 787,
    "start_time": "2022-04-20T11:35:05.315Z"
   },
   {
    "duration": 3,
    "start_time": "2022-04-20T11:35:06.104Z"
   },
   {
    "duration": 101,
    "start_time": "2022-04-20T11:35:06.109Z"
   },
   {
    "duration": 462,
    "start_time": "2022-04-20T11:35:06.211Z"
   },
   {
    "duration": 894,
    "start_time": "2022-04-20T11:35:06.674Z"
   },
   {
    "duration": 110,
    "start_time": "2022-04-20T11:35:07.570Z"
   },
   {
    "duration": 42,
    "start_time": "2022-04-20T11:35:07.682Z"
   },
   {
    "duration": 109,
    "start_time": "2022-04-20T11:35:07.726Z"
   },
   {
    "duration": 1060,
    "start_time": "2022-04-20T11:35:07.838Z"
   },
   {
    "duration": 69,
    "start_time": "2022-04-20T11:35:08.899Z"
   },
   {
    "duration": 3,
    "start_time": "2022-04-20T11:35:08.969Z"
   },
   {
    "duration": 542,
    "start_time": "2022-04-20T11:35:08.974Z"
   },
   {
    "duration": 799,
    "start_time": "2022-04-20T11:35:09.518Z"
   },
   {
    "duration": 199,
    "start_time": "2022-04-20T11:35:10.319Z"
   },
   {
    "duration": 585,
    "start_time": "2022-04-20T11:35:10.519Z"
   },
   {
    "duration": 179,
    "start_time": "2022-04-20T11:35:11.106Z"
   },
   {
    "duration": 22,
    "start_time": "2022-04-20T11:35:11.287Z"
   },
   {
    "duration": 2,
    "start_time": "2022-04-20T11:35:11.311Z"
   },
   {
    "duration": 16220,
    "start_time": "2022-04-20T11:35:11.314Z"
   },
   {
    "duration": 411,
    "start_time": "2022-04-20T11:35:27.536Z"
   },
   {
    "duration": 6,
    "start_time": "2022-04-20T11:35:27.948Z"
   },
   {
    "duration": 54990,
    "start_time": "2022-04-20T11:35:27.956Z"
   },
   {
    "duration": 588,
    "start_time": "2022-04-20T11:36:22.951Z"
   },
   {
    "duration": 23,
    "start_time": "2022-04-20T11:36:23.546Z"
   },
   {
    "duration": 3,
    "start_time": "2022-04-20T11:36:23.570Z"
   },
   {
    "duration": 6,
    "start_time": "2022-04-20T11:36:23.574Z"
   },
   {
    "duration": 3603,
    "start_time": "2022-04-20T11:36:23.583Z"
   },
   {
    "duration": 20,
    "start_time": "2022-04-20T11:36:27.188Z"
   },
   {
    "duration": 3,
    "start_time": "2022-04-20T11:36:27.209Z"
   },
   {
    "duration": 6,
    "start_time": "2022-04-20T11:36:27.214Z"
   },
   {
    "duration": 5808,
    "start_time": "2022-04-20T11:36:27.221Z"
   },
   {
    "duration": 43,
    "start_time": "2022-04-20T11:36:33.032Z"
   },
   {
    "duration": 134,
    "start_time": "2022-04-20T11:36:33.077Z"
   },
   {
    "duration": 112,
    "start_time": "2022-04-20T11:36:33.212Z"
   },
   {
    "duration": 0,
    "start_time": "2022-04-20T11:36:33.326Z"
   },
   {
    "duration": 0,
    "start_time": "2022-04-20T11:36:33.327Z"
   },
   {
    "duration": 0,
    "start_time": "2022-04-20T11:36:33.328Z"
   },
   {
    "duration": 7,
    "start_time": "2022-04-20T11:36:40.669Z"
   },
   {
    "duration": 12,
    "start_time": "2022-04-20T11:36:41.444Z"
   },
   {
    "duration": 3,
    "start_time": "2022-04-20T11:37:02.395Z"
   },
   {
    "duration": 3,
    "start_time": "2022-04-20T11:37:04.959Z"
   },
   {
    "duration": 9,
    "start_time": "2022-04-20T11:37:22.075Z"
   },
   {
    "duration": 5,
    "start_time": "2022-04-20T11:37:54.745Z"
   },
   {
    "duration": 10,
    "start_time": "2022-04-20T11:38:00.484Z"
   },
   {
    "duration": 3,
    "start_time": "2022-04-20T11:40:10.082Z"
   },
   {
    "duration": 9,
    "start_time": "2022-04-20T11:42:32.881Z"
   },
   {
    "duration": 3,
    "start_time": "2022-04-20T11:42:52.575Z"
   },
   {
    "duration": 9,
    "start_time": "2022-04-20T11:43:38.474Z"
   },
   {
    "duration": 4,
    "start_time": "2022-04-20T11:44:15.244Z"
   },
   {
    "duration": 3,
    "start_time": "2022-04-20T11:44:15.761Z"
   },
   {
    "duration": 2,
    "start_time": "2022-04-20T11:44:16.315Z"
   },
   {
    "duration": 3,
    "start_time": "2022-04-20T11:44:16.792Z"
   },
   {
    "duration": 4,
    "start_time": "2022-04-20T11:44:17.540Z"
   },
   {
    "duration": 163,
    "start_time": "2022-04-20T11:45:15.947Z"
   },
   {
    "duration": 3,
    "start_time": "2022-04-20T11:47:49.955Z"
   },
   {
    "duration": 3,
    "start_time": "2022-04-20T11:47:50.540Z"
   },
   {
    "duration": 9,
    "start_time": "2022-04-20T11:47:51.310Z"
   },
   {
    "duration": 9,
    "start_time": "2022-04-20T11:49:23.962Z"
   },
   {
    "duration": 2,
    "start_time": "2022-04-20T11:49:40.709Z"
   },
   {
    "duration": 3,
    "start_time": "2022-04-20T11:49:41.648Z"
   },
   {
    "duration": 3,
    "start_time": "2022-04-20T11:49:48.544Z"
   },
   {
    "duration": 4,
    "start_time": "2022-04-20T11:50:24.144Z"
   },
   {
    "duration": 12,
    "start_time": "2022-04-20T11:50:34.148Z"
   },
   {
    "duration": 21,
    "start_time": "2022-04-20T11:50:36.321Z"
   },
   {
    "duration": 3,
    "start_time": "2022-04-20T11:51:19.042Z"
   },
   {
    "duration": 4,
    "start_time": "2022-04-20T11:51:20.924Z"
   },
   {
    "duration": 2,
    "start_time": "2022-04-20T11:51:22.051Z"
   },
   {
    "duration": 162,
    "start_time": "2022-04-20T11:51:23.417Z"
   },
   {
    "duration": 144,
    "start_time": "2022-04-20T11:51:48.301Z"
   },
   {
    "duration": 3,
    "start_time": "2022-04-20T11:52:02.768Z"
   },
   {
    "duration": 159,
    "start_time": "2022-04-20T11:52:03.597Z"
   },
   {
    "duration": 5,
    "start_time": "2022-04-20T11:55:30.125Z"
   },
   {
    "duration": 141,
    "start_time": "2022-04-20T11:55:31.016Z"
   },
   {
    "duration": 135,
    "start_time": "2022-04-20T11:55:38.778Z"
   },
   {
    "duration": 121,
    "start_time": "2022-04-20T11:55:53.137Z"
   },
   {
    "duration": 3,
    "start_time": "2022-04-20T11:56:06.987Z"
   },
   {
    "duration": 3,
    "start_time": "2022-04-20T11:56:12.411Z"
   },
   {
    "duration": 3,
    "start_time": "2022-04-20T11:56:12.911Z"
   },
   {
    "duration": 41,
    "start_time": "2022-04-20T11:58:35.450Z"
   },
   {
    "duration": 1511,
    "start_time": "2022-04-20T11:58:40.747Z"
   },
   {
    "duration": 735,
    "start_time": "2022-04-20T11:58:42.260Z"
   },
   {
    "duration": 4,
    "start_time": "2022-04-20T11:58:42.996Z"
   },
   {
    "duration": 126,
    "start_time": "2022-04-20T11:58:43.002Z"
   },
   {
    "duration": 413,
    "start_time": "2022-04-20T11:58:43.131Z"
   },
   {
    "duration": 1001,
    "start_time": "2022-04-20T11:58:43.545Z"
   },
   {
    "duration": 97,
    "start_time": "2022-04-20T11:58:44.548Z"
   },
   {
    "duration": 39,
    "start_time": "2022-04-20T11:58:44.646Z"
   },
   {
    "duration": 125,
    "start_time": "2022-04-20T11:58:44.686Z"
   },
   {
    "duration": 1089,
    "start_time": "2022-04-20T11:58:44.814Z"
   },
   {
    "duration": 65,
    "start_time": "2022-04-20T11:58:45.905Z"
   },
   {
    "duration": 3,
    "start_time": "2022-04-20T11:58:45.972Z"
   },
   {
    "duration": 528,
    "start_time": "2022-04-20T11:58:45.977Z"
   },
   {
    "duration": 765,
    "start_time": "2022-04-20T11:58:46.507Z"
   },
   {
    "duration": 196,
    "start_time": "2022-04-20T11:58:47.274Z"
   },
   {
    "duration": 540,
    "start_time": "2022-04-20T11:58:47.472Z"
   },
   {
    "duration": 155,
    "start_time": "2022-04-20T11:58:48.013Z"
   },
   {
    "duration": 21,
    "start_time": "2022-04-20T11:58:48.170Z"
   },
   {
    "duration": 2,
    "start_time": "2022-04-20T11:58:48.193Z"
   },
   {
    "duration": 6846,
    "start_time": "2022-04-20T11:58:48.196Z"
   },
   {
    "duration": 384,
    "start_time": "2022-04-20T11:58:55.048Z"
   },
   {
    "duration": 4,
    "start_time": "2022-04-20T11:58:55.436Z"
   },
   {
    "duration": 14016,
    "start_time": "2022-04-20T11:58:55.442Z"
   },
   {
    "duration": 579,
    "start_time": "2022-04-20T11:59:09.460Z"
   },
   {
    "duration": 19,
    "start_time": "2022-04-20T11:59:10.042Z"
   },
   {
    "duration": 3,
    "start_time": "2022-04-20T11:59:10.062Z"
   },
   {
    "duration": 62,
    "start_time": "2022-04-20T11:59:10.066Z"
   },
   {
    "duration": 3307,
    "start_time": "2022-04-20T11:59:10.135Z"
   },
   {
    "duration": 20,
    "start_time": "2022-04-20T11:59:13.444Z"
   },
   {
    "duration": 2,
    "start_time": "2022-04-20T11:59:13.466Z"
   },
   {
    "duration": 8,
    "start_time": "2022-04-20T11:59:13.470Z"
   },
   {
    "duration": 5203,
    "start_time": "2022-04-20T11:59:13.479Z"
   },
   {
    "duration": 35,
    "start_time": "2022-04-20T11:59:18.684Z"
   },
   {
    "duration": 111,
    "start_time": "2022-04-20T11:59:18.721Z"
   },
   {
    "duration": 4,
    "start_time": "2022-04-20T11:59:18.833Z"
   },
   {
    "duration": 1029,
    "start_time": "2022-04-20T12:10:01.159Z"
   },
   {
    "duration": 4,
    "start_time": "2022-04-20T12:14:09.977Z"
   },
   {
    "duration": 204,
    "start_time": "2022-04-20T12:14:54.109Z"
   },
   {
    "duration": 4,
    "start_time": "2022-04-20T12:15:42.085Z"
   },
   {
    "duration": 1492,
    "start_time": "2022-04-20T12:15:47.191Z"
   },
   {
    "duration": 790,
    "start_time": "2022-04-20T12:15:48.685Z"
   },
   {
    "duration": 5,
    "start_time": "2022-04-20T12:15:49.476Z"
   },
   {
    "duration": 105,
    "start_time": "2022-04-20T12:15:49.483Z"
   },
   {
    "duration": 472,
    "start_time": "2022-04-20T12:15:49.590Z"
   },
   {
    "duration": 1082,
    "start_time": "2022-04-20T12:15:50.064Z"
   },
   {
    "duration": 118,
    "start_time": "2022-04-20T12:15:51.149Z"
   },
   {
    "duration": 26,
    "start_time": "2022-04-20T12:15:51.268Z"
   },
   {
    "duration": 129,
    "start_time": "2022-04-20T12:15:51.296Z"
   },
   {
    "duration": 1266,
    "start_time": "2022-04-20T12:15:51.429Z"
   },
   {
    "duration": 58,
    "start_time": "2022-04-20T12:15:52.697Z"
   },
   {
    "duration": 3,
    "start_time": "2022-04-20T12:15:52.756Z"
   },
   {
    "duration": 541,
    "start_time": "2022-04-20T12:15:52.761Z"
   },
   {
    "duration": 784,
    "start_time": "2022-04-20T12:15:53.303Z"
   },
   {
    "duration": 202,
    "start_time": "2022-04-20T12:15:54.089Z"
   },
   {
    "duration": 543,
    "start_time": "2022-04-20T12:15:54.293Z"
   },
   {
    "duration": 157,
    "start_time": "2022-04-20T12:15:54.839Z"
   },
   {
    "duration": 33,
    "start_time": "2022-04-20T12:15:54.997Z"
   },
   {
    "duration": 4,
    "start_time": "2022-04-20T12:15:55.032Z"
   },
   {
    "duration": 5706,
    "start_time": "2022-04-20T12:15:55.037Z"
   },
   {
    "duration": 387,
    "start_time": "2022-04-20T12:16:00.746Z"
   },
   {
    "duration": 5,
    "start_time": "2022-04-20T12:16:01.136Z"
   },
   {
    "duration": 14213,
    "start_time": "2022-04-20T12:16:01.143Z"
   },
   {
    "duration": 509,
    "start_time": "2022-04-20T12:16:15.428Z"
   },
   {
    "duration": 18,
    "start_time": "2022-04-20T12:16:15.939Z"
   },
   {
    "duration": 2,
    "start_time": "2022-04-20T12:16:15.959Z"
   },
   {
    "duration": 4,
    "start_time": "2022-04-20T12:16:15.963Z"
   },
   {
    "duration": 3411,
    "start_time": "2022-04-20T12:16:15.971Z"
   },
   {
    "duration": 20,
    "start_time": "2022-04-20T12:16:19.384Z"
   },
   {
    "duration": 3,
    "start_time": "2022-04-20T12:16:19.405Z"
   },
   {
    "duration": 5,
    "start_time": "2022-04-20T12:16:19.409Z"
   },
   {
    "duration": 5139,
    "start_time": "2022-04-20T12:16:19.416Z"
   },
   {
    "duration": 37,
    "start_time": "2022-04-20T12:16:24.556Z"
   },
   {
    "duration": 110,
    "start_time": "2022-04-20T12:16:24.595Z"
   },
   {
    "duration": 5,
    "start_time": "2022-04-20T12:16:24.707Z"
   },
   {
    "duration": 100317,
    "start_time": "2022-04-20T12:16:24.723Z"
   },
   {
    "duration": 4,
    "start_time": "2022-04-20T12:18:05.042Z"
   },
   {
    "duration": 113,
    "start_time": "2022-04-20T12:18:05.048Z"
   },
   {
    "duration": 0,
    "start_time": "2022-04-20T12:18:05.163Z"
   },
   {
    "duration": 5,
    "start_time": "2022-04-20T12:19:37.870Z"
   },
   {
    "duration": 40011,
    "start_time": "2022-04-20T12:19:39.449Z"
   },
   {
    "duration": 6,
    "start_time": "2022-04-20T12:20:35.317Z"
   },
   {
    "duration": 42811,
    "start_time": "2022-04-20T12:20:39.068Z"
   },
   {
    "duration": 1509,
    "start_time": "2022-04-21T04:00:35.913Z"
   },
   {
    "duration": 764,
    "start_time": "2022-04-21T04:00:37.424Z"
   },
   {
    "duration": 4,
    "start_time": "2022-04-21T04:00:38.190Z"
   },
   {
    "duration": 132,
    "start_time": "2022-04-21T04:00:38.196Z"
   },
   {
    "duration": 435,
    "start_time": "2022-04-21T04:00:38.330Z"
   },
   {
    "duration": 904,
    "start_time": "2022-04-21T04:00:38.767Z"
   },
   {
    "duration": 115,
    "start_time": "2022-04-21T04:00:39.672Z"
   },
   {
    "duration": 25,
    "start_time": "2022-04-21T04:00:39.789Z"
   },
   {
    "duration": 113,
    "start_time": "2022-04-21T04:00:39.815Z"
   },
   {
    "duration": 965,
    "start_time": "2022-04-21T04:00:39.931Z"
   },
   {
    "duration": 68,
    "start_time": "2022-04-21T04:00:40.898Z"
   },
   {
    "duration": 6,
    "start_time": "2022-04-21T04:00:40.968Z"
   },
   {
    "duration": 594,
    "start_time": "2022-04-21T04:00:40.976Z"
   },
   {
    "duration": 842,
    "start_time": "2022-04-21T04:00:41.572Z"
   },
   {
    "duration": 213,
    "start_time": "2022-04-21T04:00:42.416Z"
   },
   {
    "duration": 544,
    "start_time": "2022-04-21T04:00:42.631Z"
   },
   {
    "duration": 161,
    "start_time": "2022-04-21T04:00:43.177Z"
   },
   {
    "duration": 21,
    "start_time": "2022-04-21T04:00:43.340Z"
   },
   {
    "duration": 3,
    "start_time": "2022-04-21T04:00:43.363Z"
   },
   {
    "duration": 45383,
    "start_time": "2022-04-21T04:00:43.368Z"
   },
   {
    "duration": 410,
    "start_time": "2022-04-21T04:01:28.753Z"
   },
   {
    "duration": 4,
    "start_time": "2022-04-21T04:01:29.165Z"
   },
   {
    "duration": 42782,
    "start_time": "2022-04-21T04:01:29.170Z"
   },
   {
    "duration": 503,
    "start_time": "2022-04-21T04:02:11.954Z"
   },
   {
    "duration": 18,
    "start_time": "2022-04-21T04:02:12.458Z"
   },
   {
    "duration": 3,
    "start_time": "2022-04-21T04:02:12.477Z"
   },
   {
    "duration": 67,
    "start_time": "2022-04-21T04:02:12.481Z"
   },
   {
    "duration": 3326,
    "start_time": "2022-04-21T04:02:12.551Z"
   },
   {
    "duration": 21,
    "start_time": "2022-04-21T04:02:15.878Z"
   },
   {
    "duration": 3,
    "start_time": "2022-04-21T04:02:15.901Z"
   },
   {
    "duration": 5,
    "start_time": "2022-04-21T04:02:15.905Z"
   },
   {
    "duration": 4918,
    "start_time": "2022-04-21T04:02:15.911Z"
   },
   {
    "duration": 40,
    "start_time": "2022-04-21T04:02:20.830Z"
   },
   {
    "duration": 109,
    "start_time": "2022-04-21T04:02:20.871Z"
   },
   {
    "duration": 5,
    "start_time": "2022-04-21T04:02:20.982Z"
   },
   {
    "duration": 24925,
    "start_time": "2022-04-21T04:02:20.989Z"
   },
   {
    "duration": 3,
    "start_time": "2022-04-21T04:02:45.916Z"
   },
   {
    "duration": 48,
    "start_time": "2022-04-21T04:02:45.920Z"
   },
   {
    "duration": 213,
    "start_time": "2022-04-21T04:08:55.576Z"
   },
   {
    "duration": 25079,
    "start_time": "2022-04-21T04:09:21.619Z"
   },
   {
    "duration": 4,
    "start_time": "2022-04-21T04:09:53.255Z"
   },
   {
    "duration": 125,
    "start_time": "2022-04-21T04:09:53.943Z"
   },
   {
    "duration": 24867,
    "start_time": "2022-04-21T04:12:33.207Z"
   },
   {
    "duration": 5,
    "start_time": "2022-04-21T04:13:06.899Z"
   },
   {
    "duration": 116,
    "start_time": "2022-04-21T04:13:08.212Z"
   },
   {
    "duration": 9,
    "start_time": "2022-04-21T04:14:31.456Z"
   },
   {
    "duration": 25634,
    "start_time": "2022-04-21T04:17:41.023Z"
   },
   {
    "duration": 9,
    "start_time": "2022-04-21T04:18:09.729Z"
   },
   {
    "duration": 5,
    "start_time": "2022-04-21T04:18:55.929Z"
   },
   {
    "duration": 25051,
    "start_time": "2022-04-21T04:18:57.920Z"
   },
   {
    "duration": 3,
    "start_time": "2022-04-21T04:19:35.889Z"
   },
   {
    "duration": 128,
    "start_time": "2022-04-21T04:19:37.906Z"
   },
   {
    "duration": 1261,
    "start_time": "2022-04-21T04:19:47.419Z"
   },
   {
    "duration": 5,
    "start_time": "2022-04-21T04:20:36.136Z"
   },
   {
    "duration": 5,
    "start_time": "2022-04-21T04:20:38.894Z"
   },
   {
    "duration": 25188,
    "start_time": "2022-04-21T04:20:39.363Z"
   },
   {
    "duration": 4,
    "start_time": "2022-04-21T04:21:10.374Z"
   },
   {
    "duration": 1244,
    "start_time": "2022-04-21T04:21:11.913Z"
   },
   {
    "duration": 1254,
    "start_time": "2022-04-21T04:23:28.994Z"
   },
   {
    "duration": 1248,
    "start_time": "2022-04-21T04:23:37.824Z"
   },
   {
    "duration": 1258,
    "start_time": "2022-04-21T04:23:52.744Z"
   },
   {
    "duration": 1244,
    "start_time": "2022-04-21T04:24:19.812Z"
   },
   {
    "duration": 1812,
    "start_time": "2022-04-21T04:32:14.323Z"
   },
   {
    "duration": 3877,
    "start_time": "2022-04-21T04:32:32.498Z"
   },
   {
    "duration": 1238,
    "start_time": "2022-04-21T04:32:50.869Z"
   },
   {
    "duration": 5,
    "start_time": "2022-04-21T04:41:45.900Z"
   },
   {
    "duration": 4,
    "start_time": "2022-04-21T04:42:02.633Z"
   },
   {
    "duration": 5,
    "start_time": "2022-04-21T04:45:18.023Z"
   },
   {
    "duration": 2671,
    "start_time": "2022-04-21T04:45:20.947Z"
   },
   {
    "duration": 5,
    "start_time": "2022-04-21T04:46:36.365Z"
   },
   {
    "duration": 49708,
    "start_time": "2022-04-21T04:46:38.598Z"
   },
   {
    "duration": 4,
    "start_time": "2022-04-21T04:47:49.277Z"
   },
   {
    "duration": 2438,
    "start_time": "2022-04-21T04:47:50.610Z"
   },
   {
    "duration": 4,
    "start_time": "2022-04-21T04:51:19.684Z"
   },
   {
    "duration": 4,
    "start_time": "2022-04-21T04:51:29.568Z"
   },
   {
    "duration": 2434,
    "start_time": "2022-04-21T04:51:30.117Z"
   },
   {
    "duration": 2427,
    "start_time": "2022-04-21T04:51:38.837Z"
   },
   {
    "duration": 3,
    "start_time": "2022-04-21T04:58:16.026Z"
   },
   {
    "duration": 1938,
    "start_time": "2022-04-21T04:58:16.688Z"
   },
   {
    "duration": 4,
    "start_time": "2022-04-21T04:59:00.251Z"
   },
   {
    "duration": 2456,
    "start_time": "2022-04-21T04:59:01.236Z"
   },
   {
    "duration": 3,
    "start_time": "2022-04-21T04:59:55.679Z"
   },
   {
    "duration": 2531,
    "start_time": "2022-04-21T04:59:56.331Z"
   },
   {
    "duration": 4,
    "start_time": "2022-04-21T05:00:12.537Z"
   },
   {
    "duration": 49746,
    "start_time": "2022-04-21T05:00:13.859Z"
   },
   {
    "duration": 1747,
    "start_time": "2022-04-21T05:20:39.507Z"
   },
   {
    "duration": 1091,
    "start_time": "2022-04-21T05:20:41.257Z"
   },
   {
    "duration": 5,
    "start_time": "2022-04-21T05:20:42.350Z"
   },
   {
    "duration": 173,
    "start_time": "2022-04-21T05:20:42.357Z"
   },
   {
    "duration": 470,
    "start_time": "2022-04-21T05:20:42.532Z"
   },
   {
    "duration": 946,
    "start_time": "2022-04-21T05:20:43.004Z"
   },
   {
    "duration": 123,
    "start_time": "2022-04-21T05:20:43.951Z"
   },
   {
    "duration": 26,
    "start_time": "2022-04-21T05:20:44.076Z"
   },
   {
    "duration": 115,
    "start_time": "2022-04-21T05:20:44.104Z"
   },
   {
    "duration": 988,
    "start_time": "2022-04-21T05:20:44.222Z"
   },
   {
    "duration": 76,
    "start_time": "2022-04-21T05:20:45.211Z"
   },
   {
    "duration": 4,
    "start_time": "2022-04-21T05:20:45.289Z"
   },
   {
    "duration": 544,
    "start_time": "2022-04-21T05:20:45.295Z"
   },
   {
    "duration": 884,
    "start_time": "2022-04-21T05:20:45.841Z"
   },
   {
    "duration": 217,
    "start_time": "2022-04-21T05:20:46.727Z"
   },
   {
    "duration": 545,
    "start_time": "2022-04-21T05:20:46.948Z"
   },
   {
    "duration": 166,
    "start_time": "2022-04-21T05:20:47.495Z"
   },
   {
    "duration": 22,
    "start_time": "2022-04-21T05:20:47.662Z"
   },
   {
    "duration": 3,
    "start_time": "2022-04-21T05:20:47.686Z"
   },
   {
    "duration": 50058,
    "start_time": "2022-04-21T05:20:47.691Z"
   },
   {
    "duration": 313,
    "start_time": "2022-04-21T05:21:37.751Z"
   },
   {
    "duration": 3,
    "start_time": "2022-04-21T05:21:38.066Z"
   },
   {
    "duration": 40086,
    "start_time": "2022-04-21T05:21:38.070Z"
   },
   {
    "duration": 506,
    "start_time": "2022-04-21T05:22:18.158Z"
   },
   {
    "duration": 98,
    "start_time": "2022-04-21T05:22:18.666Z"
   },
   {
    "duration": 2,
    "start_time": "2022-04-21T05:22:18.766Z"
   },
   {
    "duration": 6,
    "start_time": "2022-04-21T05:22:18.770Z"
   },
   {
    "duration": 3125,
    "start_time": "2022-04-21T05:22:18.778Z"
   },
   {
    "duration": 22,
    "start_time": "2022-04-21T05:22:21.904Z"
   },
   {
    "duration": 2,
    "start_time": "2022-04-21T05:22:21.928Z"
   },
   {
    "duration": 9,
    "start_time": "2022-04-21T05:22:21.932Z"
   },
   {
    "duration": 4752,
    "start_time": "2022-04-21T05:22:21.942Z"
   },
   {
    "duration": 39,
    "start_time": "2022-04-21T05:22:26.695Z"
   },
   {
    "duration": 102,
    "start_time": "2022-04-21T05:22:26.735Z"
   },
   {
    "duration": 10,
    "start_time": "2022-04-21T05:22:26.838Z"
   },
   {
    "duration": 50725,
    "start_time": "2022-04-21T05:22:26.850Z"
   },
   {
    "duration": 4,
    "start_time": "2022-04-21T05:23:17.576Z"
   },
   {
    "duration": 2554,
    "start_time": "2022-04-21T05:23:17.582Z"
   },
   {
    "duration": 99,
    "start_time": "2022-04-22T11:24:12.912Z"
   },
   {
    "duration": 3275,
    "start_time": "2022-04-22T11:24:20.654Z"
   },
   {
    "duration": 1758,
    "start_time": "2022-04-22T11:24:23.934Z"
   },
   {
    "duration": 12,
    "start_time": "2022-04-22T11:24:25.696Z"
   },
   {
    "duration": 228,
    "start_time": "2022-04-22T11:24:25.715Z"
   },
   {
    "duration": 914,
    "start_time": "2022-04-22T11:24:25.945Z"
   },
   {
    "duration": 2349,
    "start_time": "2022-04-22T11:24:26.862Z"
   },
   {
    "duration": 290,
    "start_time": "2022-04-22T11:24:29.214Z"
   },
   {
    "duration": 87,
    "start_time": "2022-04-22T11:24:29.507Z"
   },
   {
    "duration": 180,
    "start_time": "2022-04-22T11:24:29.597Z"
   },
   {
    "duration": 2247,
    "start_time": "2022-04-22T11:24:29.792Z"
   },
   {
    "duration": 139,
    "start_time": "2022-04-22T11:24:32.042Z"
   },
   {
    "duration": 16,
    "start_time": "2022-04-22T11:24:32.185Z"
   },
   {
    "duration": 976,
    "start_time": "2022-04-22T11:24:32.204Z"
   },
   {
    "duration": 1552,
    "start_time": "2022-04-22T11:24:33.183Z"
   },
   {
    "duration": 232,
    "start_time": "2022-04-22T11:24:34.738Z"
   },
   {
    "duration": 1038,
    "start_time": "2022-04-22T11:24:34.981Z"
   },
   {
    "duration": 428,
    "start_time": "2022-04-22T11:24:36.022Z"
   },
   {
    "duration": 60,
    "start_time": "2022-04-22T11:24:36.452Z"
   },
   {
    "duration": 5,
    "start_time": "2022-04-22T11:24:36.516Z"
   },
   {
    "duration": 85290,
    "start_time": "2022-04-22T11:24:36.524Z"
   },
   {
    "duration": 530,
    "start_time": "2022-04-22T11:26:01.818Z"
   },
   {
    "duration": 39,
    "start_time": "2022-04-22T11:26:02.351Z"
   },
   {
    "duration": 617703,
    "start_time": "2022-04-22T11:26:02.393Z"
   },
   {
    "duration": 904,
    "start_time": "2022-04-22T11:36:20.099Z"
   },
   {
    "duration": 96,
    "start_time": "2022-04-22T11:36:21.009Z"
   },
   {
    "duration": 6,
    "start_time": "2022-04-22T11:36:21.110Z"
   },
   {
    "duration": 44,
    "start_time": "2022-04-22T11:36:21.123Z"
   },
   {
    "duration": 4442,
    "start_time": "2022-04-22T11:41:07.698Z"
   },
   {
    "duration": 3209,
    "start_time": "2022-04-22T11:41:14.439Z"
   },
   {
    "duration": 8,
    "start_time": "2022-04-22T11:41:17.685Z"
   },
   {
    "duration": 426,
    "start_time": "2022-04-22T11:41:17.697Z"
   },
   {
    "duration": 1901,
    "start_time": "2022-04-22T11:41:18.126Z"
   },
   {
    "duration": 4076,
    "start_time": "2022-04-22T11:41:20.031Z"
   },
   {
    "duration": 502,
    "start_time": "2022-04-22T11:41:24.111Z"
   },
   {
    "duration": 165,
    "start_time": "2022-04-22T11:41:24.617Z"
   },
   {
    "duration": 445,
    "start_time": "2022-04-22T11:41:24.785Z"
   },
   {
    "duration": 5230,
    "start_time": "2022-04-22T11:41:25.284Z"
   },
   {
    "duration": 592,
    "start_time": "2022-04-22T11:41:30.519Z"
   },
   {
    "duration": 415,
    "start_time": "2022-04-22T11:42:53.979Z"
   },
   {
    "duration": 2013,
    "start_time": "2022-04-22T11:44:40.920Z"
   },
   {
    "duration": 7,
    "start_time": "2022-04-22T12:31:37.082Z"
   },
   {
    "duration": 2550,
    "start_time": "2022-04-22T12:31:37.237Z"
   },
   {
    "duration": 14,
    "start_time": "2022-04-22T12:31:39.790Z"
   },
   {
    "duration": 306,
    "start_time": "2022-04-22T12:31:39.807Z"
   },
   {
    "duration": 1587,
    "start_time": "2022-04-22T12:31:40.116Z"
   },
   {
    "duration": 3209,
    "start_time": "2022-04-22T12:31:41.705Z"
   },
   {
    "duration": 389,
    "start_time": "2022-04-22T12:31:44.917Z"
   },
   {
    "duration": 111,
    "start_time": "2022-04-22T12:31:45.308Z"
   },
   {
    "duration": 378,
    "start_time": "2022-04-22T12:31:45.422Z"
   },
   {
    "duration": 3990,
    "start_time": "2022-04-22T12:31:45.802Z"
   },
   {
    "duration": 385,
    "start_time": "2022-04-22T12:31:49.799Z"
   },
   {
    "duration": 7,
    "start_time": "2022-04-22T12:31:50.187Z"
   },
   {
    "duration": 2323,
    "start_time": "2022-04-22T12:31:50.197Z"
   },
   {
    "duration": 3094,
    "start_time": "2022-04-22T12:31:52.524Z"
   },
   {
    "duration": 476,
    "start_time": "2022-04-22T12:31:55.621Z"
   },
   {
    "duration": 1994,
    "start_time": "2022-04-22T12:31:56.102Z"
   },
   {
    "duration": 588,
    "start_time": "2022-04-22T12:31:58.100Z"
   },
   {
    "duration": 66,
    "start_time": "2022-04-22T12:36:31.469Z"
   },
   {
    "duration": 5,
    "start_time": "2022-04-22T12:36:32.480Z"
   },
   {
    "duration": 50,
    "start_time": "2022-04-22T12:36:47.859Z"
   },
   {
    "duration": 27,
    "start_time": "2022-04-22T12:36:48.469Z"
   },
   {
    "duration": 13,
    "start_time": "2022-04-22T12:36:49.169Z"
   },
   {
    "duration": 10916,
    "start_time": "2022-04-22T12:36:49.750Z"
   },
   {
    "duration": 58,
    "start_time": "2022-04-22T12:37:00.669Z"
   },
   {
    "duration": 190,
    "start_time": "2022-04-22T12:37:00.729Z"
   },
   {
    "duration": 64,
    "start_time": "2022-04-22T12:37:00.922Z"
   },
   {
    "duration": 81314,
    "start_time": "2022-04-22T12:37:00.990Z"
   },
   {
    "duration": 6,
    "start_time": "2022-04-22T12:38:22.308Z"
   },
   {
    "duration": 3176,
    "start_time": "2022-04-22T12:38:22.317Z"
   },
   {
    "duration": 3,
    "start_time": "2022-04-22T12:56:37.906Z"
   },
   {
    "duration": 6,
    "start_time": "2022-04-22T12:56:43.300Z"
   },
   {
    "duration": 197,
    "start_time": "2022-04-22T12:58:09.412Z"
   },
   {
    "duration": 13,
    "start_time": "2022-04-22T12:58:22.984Z"
   },
   {
    "duration": 8,
    "start_time": "2022-04-22T12:58:38.454Z"
   },
   {
    "duration": 5,
    "start_time": "2022-04-22T12:58:38.698Z"
   },
   {
    "duration": 5,
    "start_time": "2022-04-22T12:58:38.833Z"
   },
   {
    "duration": 5011,
    "start_time": "2022-04-22T12:58:39.463Z"
   },
   {
    "duration": 58,
    "start_time": "2022-04-22T12:58:47.209Z"
   },
   {
    "duration": 47,
    "start_time": "2022-04-25T04:20:01.561Z"
   },
   {
    "duration": 1688,
    "start_time": "2022-04-25T04:20:08.022Z"
   },
   {
    "duration": 822,
    "start_time": "2022-04-25T04:20:09.712Z"
   },
   {
    "duration": 4,
    "start_time": "2022-04-25T04:20:10.536Z"
   },
   {
    "duration": 185,
    "start_time": "2022-04-25T04:20:10.548Z"
   },
   {
    "duration": 477,
    "start_time": "2022-04-25T04:20:10.735Z"
   },
   {
    "duration": 965,
    "start_time": "2022-04-25T04:20:11.214Z"
   },
   {
    "duration": 129,
    "start_time": "2022-04-25T04:20:12.181Z"
   },
   {
    "duration": 39,
    "start_time": "2022-04-25T04:20:12.312Z"
   },
   {
    "duration": 108,
    "start_time": "2022-04-25T04:20:12.352Z"
   },
   {
    "duration": 1591,
    "start_time": "2022-04-25T04:20:12.463Z"
   },
   {
    "duration": 72,
    "start_time": "2022-04-25T04:20:14.056Z"
   },
   {
    "duration": 25,
    "start_time": "2022-04-25T04:20:14.131Z"
   },
   {
    "duration": 778,
    "start_time": "2022-04-25T04:20:14.158Z"
   },
   {
    "duration": 32930,
    "start_time": "2022-04-25T04:20:14.938Z"
   },
   {
    "duration": 1172,
    "start_time": "2022-04-25T04:20:47.870Z"
   },
   {
    "duration": 247,
    "start_time": "2022-04-25T04:20:49.048Z"
   },
   {
    "duration": 925,
    "start_time": "2022-04-25T04:20:49.297Z"
   },
   {
    "duration": 256,
    "start_time": "2022-04-25T04:20:50.225Z"
   },
   {
    "duration": 30,
    "start_time": "2022-04-25T04:20:50.483Z"
   },
   {
    "duration": 4,
    "start_time": "2022-04-25T04:20:50.515Z"
   },
   {
    "duration": 66833,
    "start_time": "2022-04-25T04:20:50.520Z"
   },
   {
    "duration": 402,
    "start_time": "2022-04-25T04:21:57.357Z"
   },
   {
    "duration": 3,
    "start_time": "2022-04-25T04:21:57.766Z"
   },
   {
    "duration": 515580,
    "start_time": "2022-04-25T04:21:57.770Z"
   },
   {
    "duration": 528,
    "start_time": "2022-04-25T04:30:33.352Z"
   },
   {
    "duration": 70,
    "start_time": "2022-04-25T04:30:33.882Z"
   },
   {
    "duration": 3,
    "start_time": "2022-04-25T04:30:33.960Z"
   },
   {
    "duration": 6,
    "start_time": "2022-04-25T04:30:33.966Z"
   },
   {
    "duration": 3799,
    "start_time": "2022-04-25T04:30:33.973Z"
   },
   {
    "duration": 22,
    "start_time": "2022-04-25T04:30:37.774Z"
   },
   {
    "duration": 3,
    "start_time": "2022-04-25T04:30:37.797Z"
   },
   {
    "duration": 5,
    "start_time": "2022-04-25T04:30:37.801Z"
   },
   {
    "duration": 5713,
    "start_time": "2022-04-25T04:30:37.807Z"
   },
   {
    "duration": 45,
    "start_time": "2022-04-25T04:30:43.521Z"
   },
   {
    "duration": 38,
    "start_time": "2022-04-25T04:30:43.569Z"
   },
   {
    "duration": 6,
    "start_time": "2022-04-25T04:30:43.608Z"
   },
   {
    "duration": 63692,
    "start_time": "2022-04-25T04:30:43.616Z"
   },
   {
    "duration": 5,
    "start_time": "2022-04-25T04:31:47.311Z"
   },
   {
    "duration": 2381,
    "start_time": "2022-04-25T04:31:47.318Z"
   },
   {
    "duration": 1379,
    "start_time": "2022-04-25T04:54:43.629Z"
   },
   {
    "duration": 1146,
    "start_time": "2022-04-25T04:54:45.011Z"
   },
   {
    "duration": 4,
    "start_time": "2022-04-25T04:54:46.159Z"
   },
   {
    "duration": 143,
    "start_time": "2022-04-25T04:54:46.168Z"
   },
   {
    "duration": 474,
    "start_time": "2022-04-25T04:54:46.312Z"
   },
   {
    "duration": 1228,
    "start_time": "2022-04-25T04:54:46.787Z"
   },
   {
    "duration": 125,
    "start_time": "2022-04-25T04:54:48.017Z"
   },
   {
    "duration": 28,
    "start_time": "2022-04-25T04:54:48.148Z"
   },
   {
    "duration": 158,
    "start_time": "2022-04-25T04:54:48.178Z"
   },
   {
    "duration": 1045,
    "start_time": "2022-04-25T04:54:48.340Z"
   },
   {
    "duration": 85,
    "start_time": "2022-04-25T04:54:49.387Z"
   },
   {
    "duration": 4,
    "start_time": "2022-04-25T04:54:49.473Z"
   },
   {
    "duration": 550,
    "start_time": "2022-04-25T04:54:49.478Z"
   },
   {
    "duration": 812,
    "start_time": "2022-04-25T04:54:50.030Z"
   },
   {
    "duration": 214,
    "start_time": "2022-04-25T04:54:50.844Z"
   },
   {
    "duration": 575,
    "start_time": "2022-04-25T04:54:51.060Z"
   },
   {
    "duration": 179,
    "start_time": "2022-04-25T04:54:51.636Z"
   },
   {
    "duration": 22,
    "start_time": "2022-04-25T04:54:51.816Z"
   },
   {
    "duration": 3,
    "start_time": "2022-04-25T04:54:51.847Z"
   },
   {
    "duration": 57405,
    "start_time": "2022-04-25T04:54:51.852Z"
   },
   {
    "duration": 397,
    "start_time": "2022-04-25T04:55:49.258Z"
   },
   {
    "duration": 5,
    "start_time": "2022-04-25T04:55:49.656Z"
   },
   {
    "duration": 520606,
    "start_time": "2022-04-25T04:55:49.663Z"
   },
   {
    "duration": 592,
    "start_time": "2022-04-25T05:04:30.271Z"
   },
   {
    "duration": 22,
    "start_time": "2022-04-25T05:04:30.865Z"
   },
   {
    "duration": 4,
    "start_time": "2022-04-25T05:04:30.888Z"
   },
   {
    "duration": 8,
    "start_time": "2022-04-25T05:04:30.893Z"
   },
   {
    "duration": 3579,
    "start_time": "2022-04-25T05:04:30.904Z"
   },
   {
    "duration": 22,
    "start_time": "2022-04-25T05:04:34.484Z"
   },
   {
    "duration": 3,
    "start_time": "2022-04-25T05:04:34.508Z"
   },
   {
    "duration": 10,
    "start_time": "2022-04-25T05:04:34.513Z"
   },
   {
    "duration": 4398,
    "start_time": "2022-04-25T05:04:34.525Z"
   },
   {
    "duration": 142,
    "start_time": "2022-04-25T05:04:38.925Z"
   },
   {
    "duration": 110,
    "start_time": "2022-04-25T05:04:39.068Z"
   },
   {
    "duration": 5,
    "start_time": "2022-04-25T05:04:39.180Z"
   },
   {
    "duration": 1367,
    "start_time": "2022-04-25T05:05:07.604Z"
   },
   {
    "duration": 1123,
    "start_time": "2022-04-25T05:05:11.482Z"
   },
   {
    "duration": 5,
    "start_time": "2022-04-25T05:05:15.986Z"
   },
   {
    "duration": 118,
    "start_time": "2022-04-25T05:05:17.566Z"
   },
   {
    "duration": 644,
    "start_time": "2022-04-25T05:05:21.693Z"
   },
   {
    "duration": 1317,
    "start_time": "2022-04-25T05:05:23.353Z"
   },
   {
    "duration": 135,
    "start_time": "2022-04-25T05:05:25.465Z"
   },
   {
    "duration": 39,
    "start_time": "2022-04-25T05:05:33.205Z"
   },
   {
    "duration": 143,
    "start_time": "2022-04-25T05:05:35.280Z"
   },
   {
    "duration": 1058,
    "start_time": "2022-04-25T05:05:40.361Z"
   },
   {
    "duration": 76,
    "start_time": "2022-04-25T05:05:48.044Z"
   },
   {
    "duration": 3,
    "start_time": "2022-04-25T05:05:52.423Z"
   },
   {
    "duration": 85,
    "start_time": "2022-04-25T05:05:54.183Z"
   },
   {
    "duration": 73,
    "start_time": "2022-04-25T05:08:25.104Z"
   },
   {
    "duration": 2270,
    "start_time": "2022-04-25T05:08:57.741Z"
   },
   {
    "duration": 17,
    "start_time": "2022-04-25T05:10:09.111Z"
   },
   {
    "duration": 71,
    "start_time": "2022-04-25T05:10:19.511Z"
   },
   {
    "duration": 69,
    "start_time": "2022-04-25T05:10:38.733Z"
   },
   {
    "duration": 82,
    "start_time": "2022-04-25T05:10:48.732Z"
   },
   {
    "duration": 9,
    "start_time": "2022-04-25T05:17:36.588Z"
   },
   {
    "duration": 10,
    "start_time": "2022-04-25T05:18:05.467Z"
   },
   {
    "duration": 3,
    "start_time": "2022-04-25T05:20:38.891Z"
   },
   {
    "duration": 4,
    "start_time": "2022-04-25T05:21:16.471Z"
   },
   {
    "duration": 5,
    "start_time": "2022-04-25T05:21:17.183Z"
   },
   {
    "duration": 10,
    "start_time": "2022-04-25T05:21:32.184Z"
   },
   {
    "duration": 9,
    "start_time": "2022-04-25T05:23:53.287Z"
   },
   {
    "duration": 3,
    "start_time": "2022-04-25T05:24:17.798Z"
   },
   {
    "duration": 4,
    "start_time": "2022-04-25T05:24:18.463Z"
   },
   {
    "duration": 373,
    "start_time": "2022-04-25T05:24:19.043Z"
   },
   {
    "duration": 423,
    "start_time": "2022-04-25T05:27:07.549Z"
   },
   {
    "duration": 343,
    "start_time": "2022-04-25T05:27:22.061Z"
   },
   {
    "duration": 3,
    "start_time": "2022-04-25T05:28:09.361Z"
   },
   {
    "duration": 7,
    "start_time": "2022-04-25T05:28:09.943Z"
   },
   {
    "duration": 14,
    "start_time": "2022-04-25T05:30:38.538Z"
   },
   {
    "duration": 20,
    "start_time": "2022-04-25T05:37:14.491Z"
   },
   {
    "duration": 424,
    "start_time": "2022-04-25T05:38:25.541Z"
   },
   {
    "duration": 1659,
    "start_time": "2022-04-25T05:39:01.122Z"
   },
   {
    "duration": 1106,
    "start_time": "2022-04-25T05:41:07.722Z"
   },
   {
    "duration": 5,
    "start_time": "2022-04-25T05:41:32.115Z"
   },
   {
    "duration": 4,
    "start_time": "2022-04-25T05:41:32.834Z"
   },
   {
    "duration": 339,
    "start_time": "2022-04-25T05:41:33.674Z"
   },
   {
    "duration": 1160,
    "start_time": "2022-04-25T05:41:41.638Z"
   },
   {
    "duration": 35,
    "start_time": "2022-04-25T05:44:17.986Z"
   },
   {
    "duration": 7,
    "start_time": "2022-04-25T05:44:57.628Z"
   },
   {
    "duration": 7,
    "start_time": "2022-04-25T05:45:54.600Z"
   },
   {
    "duration": 23,
    "start_time": "2022-04-25T05:47:16.907Z"
   },
   {
    "duration": 316,
    "start_time": "2022-04-25T05:48:45.516Z"
   },
   {
    "duration": 726,
    "start_time": "2022-04-25T05:49:14.509Z"
   },
   {
    "duration": 920,
    "start_time": "2022-04-25T05:49:39.865Z"
   },
   {
    "duration": 1072,
    "start_time": "2022-04-25T05:50:19.869Z"
   },
   {
    "duration": 1062,
    "start_time": "2022-04-25T05:51:46.947Z"
   },
   {
    "duration": 27,
    "start_time": "2022-04-25T05:54:32.207Z"
   },
   {
    "duration": 35,
    "start_time": "2022-04-25T05:54:49.336Z"
   },
   {
    "duration": 26,
    "start_time": "2022-04-25T05:55:13.267Z"
   },
   {
    "duration": 15,
    "start_time": "2022-04-25T05:56:28.674Z"
   },
   {
    "duration": 16,
    "start_time": "2022-04-25T05:56:41.507Z"
   },
   {
    "duration": 21,
    "start_time": "2022-04-25T05:56:46.349Z"
   },
   {
    "duration": 26,
    "start_time": "2022-04-25T05:58:43.664Z"
   },
   {
    "duration": 24,
    "start_time": "2022-04-25T05:58:55.564Z"
   },
   {
    "duration": 24,
    "start_time": "2022-04-25T05:59:04.395Z"
   },
   {
    "duration": 15,
    "start_time": "2022-04-25T06:03:56.483Z"
   },
   {
    "duration": 16,
    "start_time": "2022-04-25T06:04:22.004Z"
   },
   {
    "duration": 15,
    "start_time": "2022-04-25T06:05:47.896Z"
   },
   {
    "duration": 2136,
    "start_time": "2022-04-25T06:10:06.989Z"
   },
   {
    "duration": 351,
    "start_time": "2022-04-25T06:10:15.919Z"
   },
   {
    "duration": 256,
    "start_time": "2022-04-25T06:10:38.395Z"
   },
   {
    "duration": 16,
    "start_time": "2022-04-25T06:10:39.289Z"
   },
   {
    "duration": 100,
    "start_time": "2022-04-25T06:10:49.065Z"
   },
   {
    "duration": 1422,
    "start_time": "2022-04-25T06:11:34.344Z"
   },
   {
    "duration": 818,
    "start_time": "2022-04-25T06:11:36.418Z"
   },
   {
    "duration": 4,
    "start_time": "2022-04-25T06:11:40.165Z"
   },
   {
    "duration": 132,
    "start_time": "2022-04-25T06:11:51.418Z"
   },
   {
    "duration": 475,
    "start_time": "2022-04-25T06:11:54.573Z"
   },
   {
    "duration": 993,
    "start_time": "2022-04-25T06:11:55.996Z"
   },
   {
    "duration": 196,
    "start_time": "2022-04-25T06:11:57.589Z"
   },
   {
    "duration": 33,
    "start_time": "2022-04-25T06:12:04.524Z"
   },
   {
    "duration": 146,
    "start_time": "2022-04-25T06:12:05.179Z"
   },
   {
    "duration": 1583,
    "start_time": "2022-04-25T06:12:10.503Z"
   },
   {
    "duration": 110,
    "start_time": "2022-04-25T06:12:21.787Z"
   },
   {
    "duration": 5,
    "start_time": "2022-04-25T06:12:22.601Z"
   },
   {
    "duration": 19,
    "start_time": "2022-04-25T06:12:23.540Z"
   },
   {
    "duration": 97,
    "start_time": "2022-04-25T06:12:25.798Z"
   },
   {
    "duration": 115,
    "start_time": "2022-04-25T06:12:27.898Z"
   },
   {
    "duration": 5,
    "start_time": "2022-04-25T06:12:31.936Z"
   },
   {
    "duration": 5,
    "start_time": "2022-04-25T06:12:32.480Z"
   },
   {
    "duration": 531,
    "start_time": "2022-04-25T06:12:33.381Z"
   },
   {
    "duration": 17,
    "start_time": "2022-04-25T06:12:35.199Z"
   },
   {
    "duration": 30,
    "start_time": "2022-04-25T06:12:37.393Z"
   },
   {
    "duration": 1618,
    "start_time": "2022-04-25T06:12:38.021Z"
   },
   {
    "duration": 8,
    "start_time": "2022-04-25T06:12:40.367Z"
   },
   {
    "duration": 36,
    "start_time": "2022-04-25T06:12:42.830Z"
   },
   {
    "duration": 841,
    "start_time": "2022-04-25T06:12:43.609Z"
   },
   {
    "duration": 16,
    "start_time": "2022-04-25T06:12:45.117Z"
   },
   {
    "duration": 27,
    "start_time": "2022-04-25T06:12:46.908Z"
   },
   {
    "duration": 507,
    "start_time": "2022-04-25T06:12:48.145Z"
   },
   {
    "duration": 102,
    "start_time": "2022-04-25T06:12:49.013Z"
   },
   {
    "duration": 395,
    "start_time": "2022-04-25T06:12:56.802Z"
   },
   {
    "duration": 143,
    "start_time": "2022-04-25T06:13:56.936Z"
   },
   {
    "duration": 7,
    "start_time": "2022-04-25T06:14:43.026Z"
   },
   {
    "duration": 138,
    "start_time": "2022-04-25T06:14:43.726Z"
   },
   {
    "duration": 459,
    "start_time": "2022-04-25T06:14:49.219Z"
   },
   {
    "duration": 1967,
    "start_time": "2022-04-25T06:28:08.204Z"
   },
   {
    "duration": 567,
    "start_time": "2022-04-25T06:28:17.680Z"
   },
   {
    "duration": 120,
    "start_time": "2022-04-25T06:33:31.991Z"
   },
   {
    "duration": 132,
    "start_time": "2022-04-25T06:33:38.861Z"
   },
   {
    "duration": 1198,
    "start_time": "2022-04-25T06:33:54.369Z"
   },
   {
    "duration": 348,
    "start_time": "2022-04-25T06:33:56.148Z"
   },
   {
    "duration": 3641,
    "start_time": "2022-04-25T06:34:14.196Z"
   },
   {
    "duration": 1046,
    "start_time": "2022-04-25T06:34:17.840Z"
   },
   {
    "duration": 4,
    "start_time": "2022-04-25T06:34:18.887Z"
   },
   {
    "duration": 142,
    "start_time": "2022-04-25T06:34:18.894Z"
   },
   {
    "duration": 496,
    "start_time": "2022-04-25T06:34:19.037Z"
   },
   {
    "duration": 1005,
    "start_time": "2022-04-25T06:34:19.535Z"
   },
   {
    "duration": 153,
    "start_time": "2022-04-25T06:34:20.542Z"
   },
   {
    "duration": 26,
    "start_time": "2022-04-25T06:34:20.697Z"
   },
   {
    "duration": 122,
    "start_time": "2022-04-25T06:34:20.725Z"
   },
   {
    "duration": 1108,
    "start_time": "2022-04-25T06:34:20.851Z"
   },
   {
    "duration": 89,
    "start_time": "2022-04-25T06:34:21.961Z"
   },
   {
    "duration": 8,
    "start_time": "2022-04-25T06:34:22.053Z"
   },
   {
    "duration": 115,
    "start_time": "2022-04-25T06:34:22.063Z"
   },
   {
    "duration": 114,
    "start_time": "2022-04-25T06:34:22.180Z"
   },
   {
    "duration": 4,
    "start_time": "2022-04-25T06:34:22.296Z"
   },
   {
    "duration": 6,
    "start_time": "2022-04-25T06:34:22.302Z"
   },
   {
    "duration": 384,
    "start_time": "2022-04-25T06:34:22.310Z"
   },
   {
    "duration": 14,
    "start_time": "2022-04-25T06:34:22.695Z"
   },
   {
    "duration": 44,
    "start_time": "2022-04-25T06:34:22.710Z"
   },
   {
    "duration": 1603,
    "start_time": "2022-04-25T06:34:22.757Z"
   },
   {
    "duration": 10,
    "start_time": "2022-04-25T06:34:24.363Z"
   },
   {
    "duration": 38,
    "start_time": "2022-04-25T06:34:24.375Z"
   },
   {
    "duration": 1347,
    "start_time": "2022-04-25T06:34:24.415Z"
   },
   {
    "duration": 18,
    "start_time": "2022-04-25T06:34:25.764Z"
   },
   {
    "duration": 29,
    "start_time": "2022-04-25T06:34:25.783Z"
   },
   {
    "duration": 339,
    "start_time": "2022-04-25T06:34:25.815Z"
   },
   {
    "duration": 94,
    "start_time": "2022-04-25T06:34:26.158Z"
   },
   {
    "duration": 18,
    "start_time": "2022-04-25T06:34:26.259Z"
   },
   {
    "duration": 153,
    "start_time": "2022-04-25T06:34:26.279Z"
   },
   {
    "duration": 377,
    "start_time": "2022-04-25T06:34:26.434Z"
   },
   {
    "duration": 1607,
    "start_time": "2022-04-25T06:34:26.813Z"
   },
   {
    "duration": 381,
    "start_time": "2022-04-25T06:34:28.422Z"
   },
   {
    "duration": 922,
    "start_time": "2022-04-25T06:34:28.804Z"
   },
   {
    "duration": 116,
    "start_time": "2022-04-25T06:34:29.728Z"
   },
   {
    "duration": 0,
    "start_time": "2022-04-25T06:34:29.845Z"
   },
   {
    "duration": 0,
    "start_time": "2022-04-25T06:34:29.849Z"
   },
   {
    "duration": 0,
    "start_time": "2022-04-25T06:34:29.850Z"
   },
   {
    "duration": 0,
    "start_time": "2022-04-25T06:34:29.852Z"
   },
   {
    "duration": 0,
    "start_time": "2022-04-25T06:34:29.853Z"
   },
   {
    "duration": 1,
    "start_time": "2022-04-25T06:34:29.854Z"
   },
   {
    "duration": 0,
    "start_time": "2022-04-25T06:34:29.856Z"
   },
   {
    "duration": 0,
    "start_time": "2022-04-25T06:34:29.857Z"
   },
   {
    "duration": 1,
    "start_time": "2022-04-25T06:34:29.857Z"
   },
   {
    "duration": 0,
    "start_time": "2022-04-25T06:34:29.859Z"
   },
   {
    "duration": 0,
    "start_time": "2022-04-25T06:34:29.860Z"
   },
   {
    "duration": 0,
    "start_time": "2022-04-25T06:34:29.861Z"
   },
   {
    "duration": 0,
    "start_time": "2022-04-25T06:34:29.862Z"
   },
   {
    "duration": 0,
    "start_time": "2022-04-25T06:34:29.863Z"
   },
   {
    "duration": 0,
    "start_time": "2022-04-25T06:34:29.864Z"
   },
   {
    "duration": 0,
    "start_time": "2022-04-25T06:34:29.865Z"
   },
   {
    "duration": 0,
    "start_time": "2022-04-25T06:34:29.871Z"
   },
   {
    "duration": 0,
    "start_time": "2022-04-25T06:34:29.872Z"
   },
   {
    "duration": 0,
    "start_time": "2022-04-25T06:34:29.872Z"
   },
   {
    "duration": 0,
    "start_time": "2022-04-25T06:34:29.873Z"
   },
   {
    "duration": 0,
    "start_time": "2022-04-25T06:34:29.874Z"
   },
   {
    "duration": 643,
    "start_time": "2022-04-25T07:09:06.953Z"
   },
   {
    "duration": 1444,
    "start_time": "2022-04-25T07:10:19.770Z"
   },
   {
    "duration": 868,
    "start_time": "2022-04-25T07:10:21.216Z"
   },
   {
    "duration": 3,
    "start_time": "2022-04-25T07:10:25.104Z"
   },
   {
    "duration": 98,
    "start_time": "2022-04-25T07:10:27.008Z"
   },
   {
    "duration": 461,
    "start_time": "2022-04-25T07:10:30.781Z"
   },
   {
    "duration": 949,
    "start_time": "2022-04-25T07:10:32.039Z"
   },
   {
    "duration": 127,
    "start_time": "2022-04-25T07:10:34.192Z"
   },
   {
    "duration": 26,
    "start_time": "2022-04-25T07:10:46.969Z"
   },
   {
    "duration": 104,
    "start_time": "2022-04-25T07:10:48.014Z"
   },
   {
    "duration": 1056,
    "start_time": "2022-04-25T07:11:02.874Z"
   },
   {
    "duration": 81,
    "start_time": "2022-04-25T07:11:13.514Z"
   },
   {
    "duration": 3,
    "start_time": "2022-04-25T07:11:16.037Z"
   },
   {
    "duration": 77,
    "start_time": "2022-04-25T07:11:17.367Z"
   },
   {
    "duration": 94,
    "start_time": "2022-04-25T07:11:19.824Z"
   },
   {
    "duration": 4,
    "start_time": "2022-04-25T07:11:22.190Z"
   },
   {
    "duration": 107,
    "start_time": "2022-04-25T07:11:36.373Z"
   },
   {
    "duration": 4,
    "start_time": "2022-04-25T07:11:39.863Z"
   },
   {
    "duration": 5,
    "start_time": "2022-04-25T07:11:40.439Z"
   },
   {
    "duration": 399,
    "start_time": "2022-04-25T07:11:41.113Z"
   },
   {
    "duration": 22,
    "start_time": "2022-04-25T07:11:48.836Z"
   },
   {
    "duration": 26,
    "start_time": "2022-04-25T07:11:53.763Z"
   },
   {
    "duration": 1134,
    "start_time": "2022-04-25T07:11:54.779Z"
   },
   {
    "duration": 7,
    "start_time": "2022-04-25T07:12:01.276Z"
   },
   {
    "duration": 29,
    "start_time": "2022-04-25T07:12:25.373Z"
   },
   {
    "duration": 878,
    "start_time": "2022-04-25T07:12:26.789Z"
   },
   {
    "duration": 16,
    "start_time": "2022-04-25T07:12:31.930Z"
   },
   {
    "duration": 32,
    "start_time": "2022-04-25T07:12:46.663Z"
   },
   {
    "duration": 341,
    "start_time": "2022-04-25T07:12:54.404Z"
   },
   {
    "duration": 93,
    "start_time": "2022-04-25T07:12:55.490Z"
   },
   {
    "duration": 104,
    "start_time": "2022-04-25T07:13:21.063Z"
   },
   {
    "duration": 368,
    "start_time": "2022-04-25T07:13:21.959Z"
   },
   {
    "duration": 1201,
    "start_time": "2022-04-25T07:13:29.174Z"
   },
   {
    "duration": 338,
    "start_time": "2022-04-25T07:13:33.163Z"
   },
   {
    "duration": 11,
    "start_time": "2022-04-25T07:14:26.416Z"
   },
   {
    "duration": 1199,
    "start_time": "2022-04-25T07:14:46.228Z"
   },
   {
    "duration": 340,
    "start_time": "2022-04-25T07:14:48.990Z"
   },
   {
    "duration": 10,
    "start_time": "2022-04-25T07:14:51.926Z"
   },
   {
    "duration": 1612,
    "start_time": "2022-04-25T07:17:59.080Z"
   },
   {
    "duration": 885,
    "start_time": "2022-04-25T07:18:00.694Z"
   },
   {
    "duration": 4,
    "start_time": "2022-04-25T07:18:01.580Z"
   },
   {
    "duration": 98,
    "start_time": "2022-04-25T07:18:01.586Z"
   },
   {
    "duration": 493,
    "start_time": "2022-04-25T07:18:01.686Z"
   },
   {
    "duration": 942,
    "start_time": "2022-04-25T07:18:02.181Z"
   },
   {
    "duration": 137,
    "start_time": "2022-04-25T07:18:03.125Z"
   },
   {
    "duration": 38,
    "start_time": "2022-04-25T07:18:03.264Z"
   },
   {
    "duration": 107,
    "start_time": "2022-04-25T07:18:03.304Z"
   },
   {
    "duration": 1067,
    "start_time": "2022-04-25T07:18:03.413Z"
   },
   {
    "duration": 78,
    "start_time": "2022-04-25T07:18:04.482Z"
   },
   {
    "duration": 4,
    "start_time": "2022-04-25T07:18:04.562Z"
   },
   {
    "duration": 92,
    "start_time": "2022-04-25T07:18:04.568Z"
   },
   {
    "duration": 8,
    "start_time": "2022-04-25T07:18:04.662Z"
   },
   {
    "duration": 6,
    "start_time": "2022-04-25T07:18:04.676Z"
   },
   {
    "duration": 373,
    "start_time": "2022-04-25T07:18:04.683Z"
   },
   {
    "duration": 15,
    "start_time": "2022-04-25T07:18:05.057Z"
   },
   {
    "duration": 30,
    "start_time": "2022-04-25T07:18:05.073Z"
   },
   {
    "duration": 1108,
    "start_time": "2022-04-25T07:18:05.104Z"
   },
   {
    "duration": 8,
    "start_time": "2022-04-25T07:18:06.213Z"
   },
   {
    "duration": 50,
    "start_time": "2022-04-25T07:18:06.222Z"
   },
   {
    "duration": 927,
    "start_time": "2022-04-25T07:18:06.274Z"
   },
   {
    "duration": 17,
    "start_time": "2022-04-25T07:18:07.203Z"
   },
   {
    "duration": 51,
    "start_time": "2022-04-25T07:18:07.221Z"
   },
   {
    "duration": 327,
    "start_time": "2022-04-25T07:18:07.275Z"
   },
   {
    "duration": 88,
    "start_time": "2022-04-25T07:18:07.604Z"
   },
   {
    "duration": 108,
    "start_time": "2022-04-25T07:18:07.694Z"
   },
   {
    "duration": 406,
    "start_time": "2022-04-25T07:18:07.805Z"
   },
   {
    "duration": 2,
    "start_time": "2022-04-25T07:18:08.213Z"
   },
   {
    "duration": 117,
    "start_time": "2022-04-25T07:18:08.217Z"
   },
   {
    "duration": 0,
    "start_time": "2022-04-25T07:18:08.336Z"
   },
   {
    "duration": 0,
    "start_time": "2022-04-25T07:18:08.337Z"
   },
   {
    "duration": 0,
    "start_time": "2022-04-25T07:18:08.338Z"
   },
   {
    "duration": 0,
    "start_time": "2022-04-25T07:18:08.338Z"
   },
   {
    "duration": 0,
    "start_time": "2022-04-25T07:18:08.351Z"
   },
   {
    "duration": 0,
    "start_time": "2022-04-25T07:18:08.352Z"
   },
   {
    "duration": 0,
    "start_time": "2022-04-25T07:18:08.353Z"
   },
   {
    "duration": 0,
    "start_time": "2022-04-25T07:18:08.354Z"
   },
   {
    "duration": 0,
    "start_time": "2022-04-25T07:18:08.354Z"
   },
   {
    "duration": 0,
    "start_time": "2022-04-25T07:18:08.355Z"
   },
   {
    "duration": 0,
    "start_time": "2022-04-25T07:18:08.358Z"
   },
   {
    "duration": 0,
    "start_time": "2022-04-25T07:18:08.359Z"
   },
   {
    "duration": 1,
    "start_time": "2022-04-25T07:18:08.360Z"
   },
   {
    "duration": 0,
    "start_time": "2022-04-25T07:18:08.361Z"
   },
   {
    "duration": 0,
    "start_time": "2022-04-25T07:18:08.363Z"
   },
   {
    "duration": 0,
    "start_time": "2022-04-25T07:18:08.364Z"
   },
   {
    "duration": 0,
    "start_time": "2022-04-25T07:18:08.366Z"
   },
   {
    "duration": 0,
    "start_time": "2022-04-25T07:18:08.367Z"
   },
   {
    "duration": 0,
    "start_time": "2022-04-25T07:18:08.368Z"
   },
   {
    "duration": 0,
    "start_time": "2022-04-25T07:18:08.369Z"
   },
   {
    "duration": 0,
    "start_time": "2022-04-25T07:18:08.370Z"
   },
   {
    "duration": 0,
    "start_time": "2022-04-25T07:18:08.373Z"
   },
   {
    "duration": 0,
    "start_time": "2022-04-25T07:18:08.375Z"
   },
   {
    "duration": 1939,
    "start_time": "2022-04-25T07:21:44.667Z"
   },
   {
    "duration": 15,
    "start_time": "2022-04-25T07:22:08.177Z"
   },
   {
    "duration": 117,
    "start_time": "2022-04-25T07:22:36.797Z"
   },
   {
    "duration": 1225,
    "start_time": "2022-04-25T07:22:53.927Z"
   },
   {
    "duration": 15,
    "start_time": "2022-04-25T07:22:57.697Z"
   },
   {
    "duration": 19,
    "start_time": "2022-04-25T07:23:12.394Z"
   },
   {
    "duration": 14,
    "start_time": "2022-04-25T07:23:14.762Z"
   },
   {
    "duration": 17,
    "start_time": "2022-04-25T07:26:00.906Z"
   },
   {
    "duration": 845,
    "start_time": "2022-04-25T07:26:22.058Z"
   },
   {
    "duration": 15,
    "start_time": "2022-04-25T07:26:26.600Z"
   },
   {
    "duration": 1091,
    "start_time": "2022-04-25T07:26:40.836Z"
   },
   {
    "duration": 16,
    "start_time": "2022-04-25T07:26:41.991Z"
   },
   {
    "duration": 140,
    "start_time": "2022-04-25T07:28:45.041Z"
   },
   {
    "duration": 16,
    "start_time": "2022-04-25T07:28:46.483Z"
   },
   {
    "duration": 75,
    "start_time": "2022-04-25T08:00:13.936Z"
   },
   {
    "duration": 1433,
    "start_time": "2022-04-25T08:00:30.075Z"
   },
   {
    "duration": 825,
    "start_time": "2022-04-25T08:00:31.510Z"
   },
   {
    "duration": 4,
    "start_time": "2022-04-25T08:00:32.937Z"
   },
   {
    "duration": 87,
    "start_time": "2022-04-25T08:00:34.002Z"
   },
   {
    "duration": 465,
    "start_time": "2022-04-25T08:00:34.904Z"
   },
   {
    "duration": 937,
    "start_time": "2022-04-25T08:00:35.933Z"
   },
   {
    "duration": 119,
    "start_time": "2022-04-25T08:00:37.287Z"
   },
   {
    "duration": 26,
    "start_time": "2022-04-25T08:00:42.465Z"
   },
   {
    "duration": 99,
    "start_time": "2022-04-25T08:00:43.387Z"
   },
   {
    "duration": 1007,
    "start_time": "2022-04-25T08:00:46.127Z"
   },
   {
    "duration": 65,
    "start_time": "2022-04-25T08:00:52.677Z"
   },
   {
    "duration": 4,
    "start_time": "2022-04-25T08:00:53.982Z"
   },
   {
    "duration": 82,
    "start_time": "2022-04-25T08:00:55.099Z"
   },
   {
    "duration": 3,
    "start_time": "2022-04-25T08:00:56.343Z"
   },
   {
    "duration": 5,
    "start_time": "2022-04-25T08:00:57.423Z"
   },
   {
    "duration": 358,
    "start_time": "2022-04-25T08:00:58.231Z"
   },
   {
    "duration": 13,
    "start_time": "2022-04-25T08:00:59.181Z"
   },
   {
    "duration": 26,
    "start_time": "2022-04-25T08:01:00.761Z"
   },
   {
    "duration": 1056,
    "start_time": "2022-04-25T08:01:01.512Z"
   },
   {
    "duration": 9,
    "start_time": "2022-04-25T08:01:03.184Z"
   },
   {
    "duration": 31,
    "start_time": "2022-04-25T08:01:04.701Z"
   },
   {
    "duration": 874,
    "start_time": "2022-04-25T08:01:05.417Z"
   },
   {
    "duration": 19,
    "start_time": "2022-04-25T08:01:06.732Z"
   },
   {
    "duration": 26,
    "start_time": "2022-04-25T08:01:08.097Z"
   },
   {
    "duration": 402,
    "start_time": "2022-04-25T08:01:09.226Z"
   },
   {
    "duration": 99,
    "start_time": "2022-04-25T08:01:10.098Z"
   },
   {
    "duration": 103,
    "start_time": "2022-04-25T08:01:11.948Z"
   },
   {
    "duration": 396,
    "start_time": "2022-04-25T08:01:12.690Z"
   },
   {
    "duration": 2,
    "start_time": "2022-04-25T08:01:15.808Z"
   },
   {
    "duration": 158,
    "start_time": "2022-04-25T08:01:16.723Z"
   },
   {
    "duration": 1229,
    "start_time": "2022-04-25T08:01:26.297Z"
   },
   {
    "duration": 10,
    "start_time": "2022-04-25T08:03:16.971Z"
   },
   {
    "duration": 114,
    "start_time": "2022-04-25T08:03:33.900Z"
   },
   {
    "duration": 9,
    "start_time": "2022-04-25T08:03:39.784Z"
   },
   {
    "duration": 4,
    "start_time": "2022-04-25T08:04:01.852Z"
   },
   {
    "duration": 897,
    "start_time": "2022-04-25T08:04:09.508Z"
   },
   {
    "duration": 696,
    "start_time": "2022-04-25T08:04:46.390Z"
   },
   {
    "duration": 1461,
    "start_time": "2022-04-25T08:07:26.568Z"
   },
   {
    "duration": 1518,
    "start_time": "2022-04-25T08:08:20.043Z"
   },
   {
    "duration": 1380,
    "start_time": "2022-04-25T08:11:41.072Z"
   },
   {
    "duration": 1476,
    "start_time": "2022-04-25T08:12:30.145Z"
   },
   {
    "duration": 27,
    "start_time": "2022-04-25T08:15:56.469Z"
   },
   {
    "duration": 17,
    "start_time": "2022-04-25T08:16:04.041Z"
   },
   {
    "duration": 227,
    "start_time": "2022-04-25T08:16:41.716Z"
   },
   {
    "duration": 99,
    "start_time": "2022-04-25T08:16:48.185Z"
   },
   {
    "duration": 87,
    "start_time": "2022-04-25T08:19:49.153Z"
   },
   {
    "duration": 96,
    "start_time": "2022-04-25T08:20:18.525Z"
   },
   {
    "duration": 115,
    "start_time": "2022-04-25T08:39:36.279Z"
   },
   {
    "duration": 103,
    "start_time": "2022-04-25T08:40:33.852Z"
   },
   {
    "duration": 5,
    "start_time": "2022-04-25T08:42:42.236Z"
   },
   {
    "duration": 10,
    "start_time": "2022-04-25T08:42:50.712Z"
   },
   {
    "duration": 85,
    "start_time": "2022-04-25T08:42:57.340Z"
   },
   {
    "duration": 143,
    "start_time": "2022-04-25T08:44:50.419Z"
   },
   {
    "duration": 111,
    "start_time": "2022-04-25T08:44:56.272Z"
   },
   {
    "duration": 379,
    "start_time": "2022-04-25T08:45:13.585Z"
   },
   {
    "duration": 501,
    "start_time": "2022-04-25T08:46:44.275Z"
   },
   {
    "duration": 1360,
    "start_time": "2022-04-25T08:52:50.866Z"
   },
   {
    "duration": 825,
    "start_time": "2022-04-25T08:52:52.228Z"
   },
   {
    "duration": 5,
    "start_time": "2022-04-25T08:52:53.055Z"
   },
   {
    "duration": 145,
    "start_time": "2022-04-25T08:52:53.063Z"
   },
   {
    "duration": 475,
    "start_time": "2022-04-25T08:52:53.210Z"
   },
   {
    "duration": 955,
    "start_time": "2022-04-25T08:52:53.686Z"
   },
   {
    "duration": 129,
    "start_time": "2022-04-25T08:52:54.647Z"
   },
   {
    "duration": 25,
    "start_time": "2022-04-25T08:52:54.778Z"
   },
   {
    "duration": 111,
    "start_time": "2022-04-25T08:52:54.805Z"
   },
   {
    "duration": 1017,
    "start_time": "2022-04-25T08:52:54.918Z"
   },
   {
    "duration": 72,
    "start_time": "2022-04-25T08:52:55.936Z"
   },
   {
    "duration": 4,
    "start_time": "2022-04-25T08:52:56.010Z"
   },
   {
    "duration": 101,
    "start_time": "2022-04-25T08:52:56.015Z"
   },
   {
    "duration": 3,
    "start_time": "2022-04-25T08:52:56.118Z"
   },
   {
    "duration": 4,
    "start_time": "2022-04-25T08:52:56.123Z"
   },
   {
    "duration": 374,
    "start_time": "2022-04-25T08:52:56.128Z"
   },
   {
    "duration": 13,
    "start_time": "2022-04-25T08:52:56.504Z"
   },
   {
    "duration": 44,
    "start_time": "2022-04-25T08:52:56.519Z"
   },
   {
    "duration": 1073,
    "start_time": "2022-04-25T08:52:56.565Z"
   },
   {
    "duration": 10,
    "start_time": "2022-04-25T08:52:57.651Z"
   },
   {
    "duration": 31,
    "start_time": "2022-04-25T08:52:57.663Z"
   },
   {
    "duration": 871,
    "start_time": "2022-04-25T08:52:57.696Z"
   },
   {
    "duration": 16,
    "start_time": "2022-04-25T08:52:58.569Z"
   },
   {
    "duration": 22,
    "start_time": "2022-04-25T08:52:58.587Z"
   },
   {
    "duration": 2173,
    "start_time": "2022-04-25T08:52:58.610Z"
   },
   {
    "duration": 0,
    "start_time": "2022-04-25T08:53:00.786Z"
   },
   {
    "duration": 0,
    "start_time": "2022-04-25T08:53:00.787Z"
   },
   {
    "duration": 0,
    "start_time": "2022-04-25T08:53:00.788Z"
   },
   {
    "duration": 0,
    "start_time": "2022-04-25T08:53:00.790Z"
   },
   {
    "duration": 0,
    "start_time": "2022-04-25T08:53:00.790Z"
   },
   {
    "duration": 0,
    "start_time": "2022-04-25T08:53:00.791Z"
   },
   {
    "duration": 0,
    "start_time": "2022-04-25T08:53:00.792Z"
   },
   {
    "duration": 0,
    "start_time": "2022-04-25T08:53:00.793Z"
   },
   {
    "duration": 0,
    "start_time": "2022-04-25T08:53:00.794Z"
   },
   {
    "duration": 0,
    "start_time": "2022-04-25T08:53:00.795Z"
   },
   {
    "duration": 0,
    "start_time": "2022-04-25T08:53:00.796Z"
   },
   {
    "duration": 0,
    "start_time": "2022-04-25T08:53:00.797Z"
   },
   {
    "duration": 0,
    "start_time": "2022-04-25T08:53:00.798Z"
   },
   {
    "duration": 0,
    "start_time": "2022-04-25T08:53:00.799Z"
   },
   {
    "duration": 0,
    "start_time": "2022-04-25T08:53:00.800Z"
   },
   {
    "duration": 0,
    "start_time": "2022-04-25T08:53:00.801Z"
   },
   {
    "duration": 0,
    "start_time": "2022-04-25T08:53:00.802Z"
   },
   {
    "duration": 0,
    "start_time": "2022-04-25T08:53:00.803Z"
   },
   {
    "duration": 0,
    "start_time": "2022-04-25T08:53:00.804Z"
   },
   {
    "duration": 0,
    "start_time": "2022-04-25T08:53:00.805Z"
   },
   {
    "duration": 0,
    "start_time": "2022-04-25T08:53:00.806Z"
   },
   {
    "duration": 0,
    "start_time": "2022-04-25T08:53:00.807Z"
   },
   {
    "duration": 0,
    "start_time": "2022-04-25T08:53:00.807Z"
   },
   {
    "duration": 0,
    "start_time": "2022-04-25T08:53:00.808Z"
   },
   {
    "duration": 0,
    "start_time": "2022-04-25T08:53:00.809Z"
   },
   {
    "duration": 0,
    "start_time": "2022-04-25T08:53:00.810Z"
   },
   {
    "duration": 0,
    "start_time": "2022-04-25T08:53:00.811Z"
   },
   {
    "duration": 0,
    "start_time": "2022-04-25T08:53:00.812Z"
   },
   {
    "duration": 0,
    "start_time": "2022-04-25T08:53:00.813Z"
   },
   {
    "duration": 0,
    "start_time": "2022-04-25T08:53:00.814Z"
   },
   {
    "duration": 434,
    "start_time": "2022-04-25T09:00:06.663Z"
   },
   {
    "duration": 82,
    "start_time": "2022-04-25T09:00:12.941Z"
   },
   {
    "duration": 76,
    "start_time": "2022-04-25T09:00:14.810Z"
   },
   {
    "duration": 460,
    "start_time": "2022-04-25T09:00:19.061Z"
   },
   {
    "duration": 308,
    "start_time": "2022-04-25T09:01:41.803Z"
   },
   {
    "duration": 1543,
    "start_time": "2022-04-25T09:01:43.516Z"
   },
   {
    "duration": 14,
    "start_time": "2022-04-25T09:01:49.102Z"
   },
   {
    "duration": 32,
    "start_time": "2022-04-25T09:02:00.608Z"
   },
   {
    "duration": 88,
    "start_time": "2022-04-25T09:02:04.687Z"
   },
   {
    "duration": 152,
    "start_time": "2022-04-25T09:02:09.431Z"
   },
   {
    "duration": 178,
    "start_time": "2022-04-25T09:02:27.615Z"
   },
   {
    "duration": 25,
    "start_time": "2022-04-25T09:03:00.933Z"
   },
   {
    "duration": 4,
    "start_time": "2022-04-25T09:03:01.996Z"
   },
   {
    "duration": 10623,
    "start_time": "2022-04-25T09:03:04.335Z"
   },
   {
    "duration": 118,
    "start_time": "2022-04-25T09:03:39.635Z"
   },
   {
    "duration": 3,
    "start_time": "2022-04-25T09:03:44.940Z"
   },
   {
    "duration": 24413,
    "start_time": "2022-04-25T09:03:46.247Z"
   },
   {
    "duration": 187,
    "start_time": "2022-04-25T09:06:34.573Z"
   },
   {
    "duration": 27,
    "start_time": "2022-04-25T09:06:43.451Z"
   },
   {
    "duration": 2,
    "start_time": "2022-04-25T09:06:44.125Z"
   },
   {
    "duration": 2,
    "start_time": "2022-04-25T09:06:44.831Z"
   },
   {
    "duration": 2172,
    "start_time": "2022-04-25T09:06:45.731Z"
   },
   {
    "duration": 12,
    "start_time": "2022-04-25T09:06:49.209Z"
   },
   {
    "duration": 6,
    "start_time": "2022-04-25T09:06:57.257Z"
   },
   {
    "duration": 2,
    "start_time": "2022-04-25T09:06:58.119Z"
   },
   {
    "duration": 4268,
    "start_time": "2022-04-25T09:06:58.902Z"
   },
   {
    "duration": 15,
    "start_time": "2022-04-25T09:07:13.670Z"
   },
   {
    "duration": 185,
    "start_time": "2022-04-25T09:08:41.335Z"
   },
   {
    "duration": 1469,
    "start_time": "2022-04-25T09:08:50.674Z"
   },
   {
    "duration": 929,
    "start_time": "2022-04-25T09:08:52.145Z"
   },
   {
    "duration": 4,
    "start_time": "2022-04-25T09:08:53.076Z"
   },
   {
    "duration": 104,
    "start_time": "2022-04-25T09:08:53.083Z"
   },
   {
    "duration": 495,
    "start_time": "2022-04-25T09:08:53.189Z"
   },
   {
    "duration": 1025,
    "start_time": "2022-04-25T09:08:53.686Z"
   },
   {
    "duration": 153,
    "start_time": "2022-04-25T09:08:54.713Z"
   },
   {
    "duration": 31,
    "start_time": "2022-04-25T09:08:54.870Z"
   },
   {
    "duration": 118,
    "start_time": "2022-04-25T09:08:54.902Z"
   },
   {
    "duration": 1118,
    "start_time": "2022-04-25T09:08:55.022Z"
   },
   {
    "duration": 84,
    "start_time": "2022-04-25T09:08:56.142Z"
   },
   {
    "duration": 3,
    "start_time": "2022-04-25T09:08:56.228Z"
   },
   {
    "duration": 87,
    "start_time": "2022-04-25T09:08:56.253Z"
   },
   {
    "duration": 7,
    "start_time": "2022-04-25T09:08:56.341Z"
   },
   {
    "duration": 27,
    "start_time": "2022-04-25T09:08:56.349Z"
   },
   {
    "duration": 387,
    "start_time": "2022-04-25T09:08:56.378Z"
   },
   {
    "duration": 17,
    "start_time": "2022-04-25T09:08:56.767Z"
   },
   {
    "duration": 25,
    "start_time": "2022-04-25T09:08:56.785Z"
   },
   {
    "duration": 1167,
    "start_time": "2022-04-25T09:08:56.812Z"
   },
   {
    "duration": 8,
    "start_time": "2022-04-25T09:08:57.981Z"
   },
   {
    "duration": 32,
    "start_time": "2022-04-25T09:08:57.990Z"
   },
   {
    "duration": 955,
    "start_time": "2022-04-25T09:08:58.024Z"
   },
   {
    "duration": 17,
    "start_time": "2022-04-25T09:08:58.981Z"
   },
   {
    "duration": 23,
    "start_time": "2022-04-25T09:08:58.999Z"
   },
   {
    "duration": 550,
    "start_time": "2022-04-25T09:08:59.024Z"
   },
   {
    "duration": 91,
    "start_time": "2022-04-25T09:08:59.576Z"
   },
   {
    "duration": 102,
    "start_time": "2022-04-25T09:08:59.669Z"
   },
   {
    "duration": 663,
    "start_time": "2022-04-25T09:08:59.775Z"
   },
   {
    "duration": 252,
    "start_time": "2022-04-25T09:09:00.440Z"
   },
   {
    "duration": 1033,
    "start_time": "2022-04-25T09:09:00.693Z"
   },
   {
    "duration": 40,
    "start_time": "2022-04-25T09:09:01.727Z"
   },
   {
    "duration": 93,
    "start_time": "2022-04-25T09:09:01.770Z"
   },
   {
    "duration": 199,
    "start_time": "2022-04-25T09:09:01.865Z"
   },
   {
    "duration": 25,
    "start_time": "2022-04-25T09:09:02.066Z"
   },
   {
    "duration": 4,
    "start_time": "2022-04-25T09:09:02.093Z"
   },
   {
    "duration": 29078,
    "start_time": "2022-04-25T09:09:02.098Z"
   },
   {
    "duration": 178,
    "start_time": "2022-04-25T09:09:31.178Z"
   },
   {
    "duration": 4,
    "start_time": "2022-04-25T09:09:31.357Z"
   },
   {
    "duration": 202719,
    "start_time": "2022-04-25T09:09:31.363Z"
   },
   {
    "duration": 574,
    "start_time": "2022-04-25T09:12:54.084Z"
   },
   {
    "duration": 33,
    "start_time": "2022-04-25T09:12:54.660Z"
   },
   {
    "duration": 3,
    "start_time": "2022-04-25T09:12:54.695Z"
   },
   {
    "duration": 7,
    "start_time": "2022-04-25T09:12:54.699Z"
   },
   {
    "duration": 2161,
    "start_time": "2022-04-25T09:12:54.708Z"
   },
   {
    "duration": 14,
    "start_time": "2022-04-25T09:12:56.871Z"
   },
   {
    "duration": 3,
    "start_time": "2022-04-25T09:12:56.886Z"
   },
   {
    "duration": 8,
    "start_time": "2022-04-25T09:12:56.890Z"
   },
   {
    "duration": 4236,
    "start_time": "2022-04-25T09:12:56.901Z"
   },
   {
    "duration": 26,
    "start_time": "2022-04-25T09:13:01.138Z"
   },
   {
    "duration": 44,
    "start_time": "2022-04-25T09:13:01.166Z"
   },
   {
    "duration": 6,
    "start_time": "2022-04-25T09:13:01.212Z"
   },
   {
    "duration": 337,
    "start_time": "2022-04-25T09:13:01.220Z"
   },
   {
    "duration": 5,
    "start_time": "2022-04-25T09:13:01.559Z"
   },
   {
    "duration": 170,
    "start_time": "2022-04-25T09:13:01.566Z"
   },
   {
    "duration": 7,
    "start_time": "2022-04-25T09:17:41.773Z"
   },
   {
    "duration": 184,
    "start_time": "2022-04-25T09:17:43.703Z"
   },
   {
    "duration": 4,
    "start_time": "2022-04-25T09:17:52.208Z"
   },
   {
    "duration": 177,
    "start_time": "2022-04-25T09:17:53.273Z"
   },
   {
    "duration": 6,
    "start_time": "2022-04-25T09:22:30.418Z"
   },
   {
    "duration": 255,
    "start_time": "2022-04-25T09:22:32.780Z"
   },
   {
    "duration": 13,
    "start_time": "2022-04-25T09:24:36.912Z"
   },
   {
    "duration": 426,
    "start_time": "2022-04-25T09:25:28.213Z"
   },
   {
    "duration": 82,
    "start_time": "2022-04-25T09:25:29.502Z"
   },
   {
    "duration": 99,
    "start_time": "2022-04-25T09:25:31.225Z"
   },
   {
    "duration": 13,
    "start_time": "2022-04-25T09:26:05.484Z"
   },
   {
    "duration": 21,
    "start_time": "2022-04-25T09:26:10.735Z"
   },
   {
    "duration": 12,
    "start_time": "2022-04-25T09:26:34.992Z"
   },
   {
    "duration": 362,
    "start_time": "2022-04-25T09:27:22.966Z"
   },
   {
    "duration": 72,
    "start_time": "2022-04-25T09:27:23.975Z"
   },
   {
    "duration": 10,
    "start_time": "2022-04-25T09:27:24.689Z"
   },
   {
    "duration": 7,
    "start_time": "2022-04-25T09:27:51.812Z"
   },
   {
    "duration": 6,
    "start_time": "2022-04-25T09:28:02.673Z"
   },
   {
    "duration": 17,
    "start_time": "2022-04-25T09:28:46.725Z"
   },
   {
    "duration": 12,
    "start_time": "2022-04-25T09:29:13.806Z"
   },
   {
    "duration": 16,
    "start_time": "2022-04-25T09:29:29.166Z"
   },
   {
    "duration": 11,
    "start_time": "2022-04-25T09:30:16.875Z"
   },
   {
    "duration": 11,
    "start_time": "2022-04-25T09:30:27.991Z"
   },
   {
    "duration": 1721,
    "start_time": "2022-04-25T09:30:34.378Z"
   },
   {
    "duration": 1029,
    "start_time": "2022-04-25T09:30:36.102Z"
   },
   {
    "duration": 4,
    "start_time": "2022-04-25T09:30:37.134Z"
   },
   {
    "duration": 171,
    "start_time": "2022-04-25T09:30:37.148Z"
   },
   {
    "duration": 600,
    "start_time": "2022-04-25T09:30:37.322Z"
   },
   {
    "duration": 1333,
    "start_time": "2022-04-25T09:30:37.923Z"
   },
   {
    "duration": 198,
    "start_time": "2022-04-25T09:30:39.259Z"
   },
   {
    "duration": 41,
    "start_time": "2022-04-25T09:30:39.461Z"
   },
   {
    "duration": 133,
    "start_time": "2022-04-25T09:30:39.504Z"
   },
   {
    "duration": 1295,
    "start_time": "2022-04-25T09:30:39.639Z"
   },
   {
    "duration": 129,
    "start_time": "2022-04-25T09:30:40.936Z"
   },
   {
    "duration": 26,
    "start_time": "2022-04-25T09:30:41.067Z"
   },
   {
    "duration": 115,
    "start_time": "2022-04-25T09:30:41.095Z"
   },
   {
    "duration": 5,
    "start_time": "2022-04-25T09:30:41.214Z"
   },
   {
    "duration": 10,
    "start_time": "2022-04-25T09:30:41.221Z"
   },
   {
    "duration": 473,
    "start_time": "2022-04-25T09:30:41.232Z"
   },
   {
    "duration": 13,
    "start_time": "2022-04-25T09:30:41.706Z"
   },
   {
    "duration": 38,
    "start_time": "2022-04-25T09:30:41.720Z"
   },
   {
    "duration": 1580,
    "start_time": "2022-04-25T09:30:41.760Z"
   },
   {
    "duration": 12,
    "start_time": "2022-04-25T09:30:43.342Z"
   },
   {
    "duration": 59,
    "start_time": "2022-04-25T09:30:43.358Z"
   },
   {
    "duration": 1054,
    "start_time": "2022-04-25T09:30:43.419Z"
   },
   {
    "duration": 24,
    "start_time": "2022-04-25T09:30:44.475Z"
   },
   {
    "duration": 34,
    "start_time": "2022-04-25T09:30:44.501Z"
   },
   {
    "duration": 576,
    "start_time": "2022-04-25T09:30:44.537Z"
   },
   {
    "duration": 102,
    "start_time": "2022-04-25T09:30:45.115Z"
   },
   {
    "duration": 6,
    "start_time": "2022-04-25T09:30:45.219Z"
   },
   {
    "duration": 579,
    "start_time": "2022-04-25T09:30:45.227Z"
   },
   {
    "duration": 302,
    "start_time": "2022-04-25T09:30:45.808Z"
   },
   {
    "duration": 1244,
    "start_time": "2022-04-25T09:30:46.112Z"
   },
   {
    "duration": 34,
    "start_time": "2022-04-25T09:30:47.357Z"
   },
   {
    "duration": 11,
    "start_time": "2022-04-25T09:30:47.392Z"
   },
   {
    "duration": 125,
    "start_time": "2022-04-25T09:30:47.405Z"
   },
   {
    "duration": 197,
    "start_time": "2022-04-25T09:30:47.531Z"
   },
   {
    "duration": 24,
    "start_time": "2022-04-25T09:30:47.729Z"
   },
   {
    "duration": 6,
    "start_time": "2022-04-25T09:30:47.756Z"
   },
   {
    "duration": 73813,
    "start_time": "2022-04-25T09:30:47.764Z"
   },
   {
    "duration": 197,
    "start_time": "2022-04-25T09:32:01.579Z"
   },
   {
    "duration": 4,
    "start_time": "2022-04-25T09:32:01.778Z"
   },
   {
    "duration": 2088,
    "start_time": "2022-04-25T09:34:00.073Z"
   },
   {
    "duration": 978,
    "start_time": "2022-04-25T09:34:02.164Z"
   },
   {
    "duration": 14,
    "start_time": "2022-04-25T09:34:03.144Z"
   },
   {
    "duration": 156,
    "start_time": "2022-04-25T09:34:03.160Z"
   },
   {
    "duration": 533,
    "start_time": "2022-04-25T09:34:03.319Z"
   },
   {
    "duration": 1216,
    "start_time": "2022-04-25T09:34:03.854Z"
   },
   {
    "duration": 144,
    "start_time": "2022-04-25T09:34:05.071Z"
   },
   {
    "duration": 53,
    "start_time": "2022-04-25T09:34:05.216Z"
   },
   {
    "duration": 133,
    "start_time": "2022-04-25T09:34:05.272Z"
   },
   {
    "duration": 1162,
    "start_time": "2022-04-25T09:34:05.407Z"
   },
   {
    "duration": 85,
    "start_time": "2022-04-25T09:34:06.571Z"
   },
   {
    "duration": 4,
    "start_time": "2022-04-25T09:34:06.660Z"
   },
   {
    "duration": 106,
    "start_time": "2022-04-25T09:34:06.666Z"
   },
   {
    "duration": 6,
    "start_time": "2022-04-25T09:34:06.776Z"
   },
   {
    "duration": 5,
    "start_time": "2022-04-25T09:34:06.785Z"
   },
   {
    "duration": 572,
    "start_time": "2022-04-25T09:34:06.792Z"
   },
   {
    "duration": 18,
    "start_time": "2022-04-25T09:34:07.366Z"
   },
   {
    "duration": 26,
    "start_time": "2022-04-25T09:34:07.386Z"
   },
   {
    "duration": 1210,
    "start_time": "2022-04-25T09:34:07.414Z"
   },
   {
    "duration": 7,
    "start_time": "2022-04-25T09:34:08.626Z"
   },
   {
    "duration": 50,
    "start_time": "2022-04-25T09:34:08.635Z"
   },
   {
    "duration": 1014,
    "start_time": "2022-04-25T09:34:08.687Z"
   },
   {
    "duration": 22,
    "start_time": "2022-04-25T09:34:09.703Z"
   },
   {
    "duration": 41,
    "start_time": "2022-04-25T09:34:09.727Z"
   },
   {
    "duration": 515,
    "start_time": "2022-04-25T09:34:09.770Z"
   },
   {
    "duration": 94,
    "start_time": "2022-04-25T09:34:10.287Z"
   },
   {
    "duration": 5,
    "start_time": "2022-04-25T09:34:10.382Z"
   },
   {
    "duration": 555,
    "start_time": "2022-04-25T09:34:10.389Z"
   },
   {
    "duration": 241,
    "start_time": "2022-04-25T09:34:10.946Z"
   },
   {
    "duration": 1068,
    "start_time": "2022-04-25T09:34:11.189Z"
   },
   {
    "duration": 28,
    "start_time": "2022-04-25T09:34:12.259Z"
   },
   {
    "duration": 10,
    "start_time": "2022-04-25T09:34:12.289Z"
   },
   {
    "duration": 115,
    "start_time": "2022-04-25T09:34:12.300Z"
   },
   {
    "duration": 253,
    "start_time": "2022-04-25T09:34:12.417Z"
   },
   {
    "duration": 21,
    "start_time": "2022-04-25T09:34:12.682Z"
   },
   {
    "duration": 3,
    "start_time": "2022-04-25T09:34:12.705Z"
   },
   {
    "duration": 81139,
    "start_time": "2022-04-25T09:34:12.709Z"
   },
   {
    "duration": 144,
    "start_time": "2022-04-25T09:35:33.856Z"
   },
   {
    "duration": 3,
    "start_time": "2022-04-25T09:35:34.003Z"
   },
   {
    "duration": 1024957,
    "start_time": "2022-04-25T09:35:34.008Z"
   },
   {
    "duration": 607,
    "start_time": "2022-04-25T09:52:38.973Z"
   },
   {
    "duration": 18,
    "start_time": "2022-04-25T09:52:39.583Z"
   },
   {
    "duration": 2,
    "start_time": "2022-04-25T09:52:39.603Z"
   },
   {
    "duration": 6,
    "start_time": "2022-04-25T09:52:39.607Z"
   },
   {
    "duration": 5104,
    "start_time": "2022-04-25T09:52:39.615Z"
   },
   {
    "duration": 13,
    "start_time": "2022-04-25T09:52:44.720Z"
   },
   {
    "duration": 4,
    "start_time": "2022-04-25T09:52:44.735Z"
   },
   {
    "duration": 4,
    "start_time": "2022-04-25T09:52:44.741Z"
   },
   {
    "duration": 4564,
    "start_time": "2022-04-25T09:52:44.747Z"
   },
   {
    "duration": 17,
    "start_time": "2022-04-25T09:52:49.313Z"
   },
   {
    "duration": 49,
    "start_time": "2022-04-25T09:52:49.332Z"
   },
   {
    "duration": 6,
    "start_time": "2022-04-25T09:52:49.383Z"
   },
   {
    "duration": 323,
    "start_time": "2022-04-25T09:52:49.391Z"
   },
   {
    "duration": 4,
    "start_time": "2022-04-25T09:52:49.716Z"
   },
   {
    "duration": 164,
    "start_time": "2022-04-25T09:52:49.722Z"
   },
   {
    "duration": 5,
    "start_time": "2022-04-25T09:54:13.399Z"
   },
   {
    "duration": 285,
    "start_time": "2022-04-25T09:54:14.103Z"
   },
   {
    "duration": 14,
    "start_time": "2022-04-25T09:55:15.174Z"
   },
   {
    "duration": 116,
    "start_time": "2022-04-25T09:57:15.694Z"
   },
   {
    "duration": 66,
    "start_time": "2022-04-25T09:57:32.676Z"
   },
   {
    "duration": 20,
    "start_time": "2022-04-25T09:57:51.224Z"
   },
   {
    "duration": 13,
    "start_time": "2022-04-25T09:57:59.366Z"
   },
   {
    "duration": 62,
    "start_time": "2022-04-25T09:58:49.207Z"
   },
   {
    "duration": 1519,
    "start_time": "2022-04-25T09:58:54.967Z"
   },
   {
    "duration": 929,
    "start_time": "2022-04-25T09:58:59.274Z"
   },
   {
    "duration": 5,
    "start_time": "2022-04-25T09:59:00.205Z"
   },
   {
    "duration": 163,
    "start_time": "2022-04-25T09:59:01.200Z"
   },
   {
    "duration": 723,
    "start_time": "2022-04-25T09:59:02.069Z"
   },
   {
    "duration": 1283,
    "start_time": "2022-04-25T09:59:03.338Z"
   },
   {
    "duration": 162,
    "start_time": "2022-04-25T09:59:04.623Z"
   },
   {
    "duration": 37,
    "start_time": "2022-04-25T09:59:08.341Z"
   },
   {
    "duration": 166,
    "start_time": "2022-04-25T09:59:09.071Z"
   },
   {
    "duration": 1678,
    "start_time": "2022-04-25T09:59:39.240Z"
   },
   {
    "duration": 82,
    "start_time": "2022-04-25T09:59:44.423Z"
   },
   {
    "duration": 4,
    "start_time": "2022-04-25T09:59:45.683Z"
   },
   {
    "duration": 95,
    "start_time": "2022-04-25T09:59:46.494Z"
   },
   {
    "duration": 3,
    "start_time": "2022-04-25T09:59:47.712Z"
   },
   {
    "duration": 4,
    "start_time": "2022-04-25T09:59:48.433Z"
   },
   {
    "duration": 399,
    "start_time": "2022-04-25T09:59:49.004Z"
   },
   {
    "duration": 13,
    "start_time": "2022-04-25T09:59:49.596Z"
   },
   {
    "duration": 25,
    "start_time": "2022-04-25T09:59:50.899Z"
   },
   {
    "duration": 1124,
    "start_time": "2022-04-25T09:59:51.582Z"
   },
   {
    "duration": 9,
    "start_time": "2022-04-25T09:59:53.324Z"
   },
   {
    "duration": 31,
    "start_time": "2022-04-25T09:59:54.886Z"
   },
   {
    "duration": 978,
    "start_time": "2022-04-25T09:59:57.321Z"
   },
   {
    "duration": 18,
    "start_time": "2022-04-25T09:59:58.773Z"
   },
   {
    "duration": 31,
    "start_time": "2022-04-25T10:00:00.791Z"
   },
   {
    "duration": 504,
    "start_time": "2022-04-25T10:00:05.933Z"
   },
   {
    "duration": 95,
    "start_time": "2022-04-25T10:00:08.746Z"
   },
   {
    "duration": 70,
    "start_time": "2022-04-25T10:00:12.984Z"
   },
   {
    "duration": 76,
    "start_time": "2022-04-25T10:00:34.485Z"
   },
   {
    "duration": 173,
    "start_time": "2022-04-25T10:00:56.870Z"
   },
   {
    "duration": 98,
    "start_time": "2022-04-25T10:01:08.177Z"
   },
   {
    "duration": 523,
    "start_time": "2022-04-25T10:01:10.607Z"
   },
   {
    "duration": 1670,
    "start_time": "2022-04-25T10:01:40.424Z"
   },
   {
    "duration": 959,
    "start_time": "2022-04-25T10:01:42.095Z"
   },
   {
    "duration": 9,
    "start_time": "2022-04-25T10:01:43.056Z"
   },
   {
    "duration": 197,
    "start_time": "2022-04-25T10:01:43.067Z"
   },
   {
    "duration": 577,
    "start_time": "2022-04-25T10:01:43.266Z"
   },
   {
    "duration": 1069,
    "start_time": "2022-04-25T10:01:43.860Z"
   },
   {
    "duration": 152,
    "start_time": "2022-04-25T10:01:44.931Z"
   },
   {
    "duration": 26,
    "start_time": "2022-04-25T10:01:45.085Z"
   },
   {
    "duration": 117,
    "start_time": "2022-04-25T10:01:45.112Z"
   },
   {
    "duration": 1128,
    "start_time": "2022-04-25T10:01:45.232Z"
   },
   {
    "duration": 70,
    "start_time": "2022-04-25T10:01:46.364Z"
   },
   {
    "duration": 7,
    "start_time": "2022-04-25T10:01:46.450Z"
   },
   {
    "duration": 119,
    "start_time": "2022-04-25T10:01:46.459Z"
   },
   {
    "duration": 4,
    "start_time": "2022-04-25T10:01:46.580Z"
   },
   {
    "duration": 7,
    "start_time": "2022-04-25T10:01:46.585Z"
   },
   {
    "duration": 399,
    "start_time": "2022-04-25T10:01:46.593Z"
   },
   {
    "duration": 16,
    "start_time": "2022-04-25T10:01:46.993Z"
   },
   {
    "duration": 45,
    "start_time": "2022-04-25T10:01:47.010Z"
   },
   {
    "duration": 1237,
    "start_time": "2022-04-25T10:01:47.063Z"
   },
   {
    "duration": 8,
    "start_time": "2022-04-25T10:01:48.302Z"
   },
   {
    "duration": 60,
    "start_time": "2022-04-25T10:01:48.312Z"
   },
   {
    "duration": 1113,
    "start_time": "2022-04-25T10:01:48.374Z"
   },
   {
    "duration": 17,
    "start_time": "2022-04-25T10:01:49.489Z"
   },
   {
    "duration": 44,
    "start_time": "2022-04-25T10:01:49.508Z"
   },
   {
    "duration": 486,
    "start_time": "2022-04-25T10:01:49.556Z"
   },
   {
    "duration": 85,
    "start_time": "2022-04-25T10:01:50.043Z"
   },
   {
    "duration": 108,
    "start_time": "2022-04-25T10:01:50.130Z"
   },
   {
    "duration": 514,
    "start_time": "2022-04-25T10:01:50.253Z"
   },
   {
    "duration": 247,
    "start_time": "2022-04-25T10:01:50.768Z"
   },
   {
    "duration": 1023,
    "start_time": "2022-04-25T10:01:51.017Z"
   },
   {
    "duration": 27,
    "start_time": "2022-04-25T10:01:52.041Z"
   },
   {
    "duration": 20,
    "start_time": "2022-04-25T10:01:52.074Z"
   },
   {
    "duration": 123,
    "start_time": "2022-04-25T10:01:52.096Z"
   },
   {
    "duration": 184,
    "start_time": "2022-04-25T10:01:52.220Z"
   },
   {
    "duration": 23,
    "start_time": "2022-04-25T10:01:52.405Z"
   },
   {
    "duration": 3,
    "start_time": "2022-04-25T10:01:52.429Z"
   },
   {
    "duration": 60712,
    "start_time": "2022-04-25T10:01:52.452Z"
   },
   {
    "duration": 121,
    "start_time": "2022-04-25T10:02:53.166Z"
   },
   {
    "duration": 4,
    "start_time": "2022-04-25T10:02:53.288Z"
   },
   {
    "duration": 1662,
    "start_time": "2022-04-25T10:16:00.959Z"
   },
   {
    "duration": 926,
    "start_time": "2022-04-25T10:16:02.623Z"
   },
   {
    "duration": 6,
    "start_time": "2022-04-25T10:16:03.551Z"
   },
   {
    "duration": 181,
    "start_time": "2022-04-25T10:16:03.560Z"
   },
   {
    "duration": 590,
    "start_time": "2022-04-25T10:16:03.743Z"
   },
   {
    "duration": 1119,
    "start_time": "2022-04-25T10:16:04.335Z"
   },
   {
    "duration": 158,
    "start_time": "2022-04-25T10:16:05.457Z"
   },
   {
    "duration": 42,
    "start_time": "2022-04-25T10:16:05.618Z"
   },
   {
    "duration": 133,
    "start_time": "2022-04-25T10:16:05.665Z"
   },
   {
    "duration": 1212,
    "start_time": "2022-04-25T10:16:05.800Z"
   },
   {
    "duration": 94,
    "start_time": "2022-04-25T10:16:07.013Z"
   },
   {
    "duration": 3,
    "start_time": "2022-04-25T10:16:07.109Z"
   },
   {
    "duration": 106,
    "start_time": "2022-04-25T10:16:07.114Z"
   },
   {
    "duration": 4,
    "start_time": "2022-04-25T10:16:07.221Z"
   },
   {
    "duration": 4,
    "start_time": "2022-04-25T10:16:07.226Z"
   },
   {
    "duration": 391,
    "start_time": "2022-04-25T10:16:07.250Z"
   },
   {
    "duration": 18,
    "start_time": "2022-04-25T10:16:07.643Z"
   },
   {
    "duration": 49,
    "start_time": "2022-04-25T10:16:07.663Z"
   },
   {
    "duration": 1284,
    "start_time": "2022-04-25T10:16:07.714Z"
   },
   {
    "duration": 8,
    "start_time": "2022-04-25T10:16:09.000Z"
   },
   {
    "duration": 58,
    "start_time": "2022-04-25T10:16:09.009Z"
   },
   {
    "duration": 1216,
    "start_time": "2022-04-25T10:16:09.069Z"
   },
   {
    "duration": 17,
    "start_time": "2022-04-25T10:16:10.288Z"
   },
   {
    "duration": 53,
    "start_time": "2022-04-25T10:16:10.307Z"
   },
   {
    "duration": 552,
    "start_time": "2022-04-25T10:16:10.362Z"
   },
   {
    "duration": 99,
    "start_time": "2022-04-25T10:16:10.916Z"
   },
   {
    "duration": 127,
    "start_time": "2022-04-25T10:16:11.017Z"
   },
   {
    "duration": 581,
    "start_time": "2022-04-25T10:16:11.151Z"
   },
   {
    "duration": 251,
    "start_time": "2022-04-25T10:16:11.734Z"
   },
   {
    "duration": 1147,
    "start_time": "2022-04-25T10:16:11.987Z"
   },
   {
    "duration": 31,
    "start_time": "2022-04-25T10:16:13.135Z"
   },
   {
    "duration": 12,
    "start_time": "2022-04-25T10:16:13.171Z"
   },
   {
    "duration": 106,
    "start_time": "2022-04-25T10:16:13.185Z"
   },
   {
    "duration": 198,
    "start_time": "2022-04-25T10:16:13.293Z"
   },
   {
    "duration": 33,
    "start_time": "2022-04-25T10:16:13.494Z"
   },
   {
    "duration": 3,
    "start_time": "2022-04-25T10:16:13.529Z"
   },
   {
    "duration": 57839,
    "start_time": "2022-04-25T10:16:13.547Z"
   },
   {
    "duration": 185,
    "start_time": "2022-04-25T10:17:11.389Z"
   },
   {
    "duration": 15,
    "start_time": "2022-04-25T10:17:11.576Z"
   },
   {
    "duration": 560374,
    "start_time": "2022-04-25T10:17:11.593Z"
   },
   {
    "duration": 608,
    "start_time": "2022-04-25T10:26:31.969Z"
   },
   {
    "duration": 20,
    "start_time": "2022-04-25T10:26:32.585Z"
   },
   {
    "duration": 3,
    "start_time": "2022-04-25T10:26:32.606Z"
   },
   {
    "duration": 5,
    "start_time": "2022-04-25T10:26:32.611Z"
   },
   {
    "duration": 2211,
    "start_time": "2022-04-25T10:26:32.617Z"
   },
   {
    "duration": 11,
    "start_time": "2022-04-25T10:26:34.830Z"
   },
   {
    "duration": 2,
    "start_time": "2022-04-25T10:26:34.843Z"
   },
   {
    "duration": 34,
    "start_time": "2022-04-25T10:26:34.855Z"
   },
   {
    "duration": 4188,
    "start_time": "2022-04-25T10:26:34.891Z"
   },
   {
    "duration": 17,
    "start_time": "2022-04-25T10:26:39.081Z"
   },
   {
    "duration": 34,
    "start_time": "2022-04-25T10:26:39.099Z"
   },
   {
    "duration": 6,
    "start_time": "2022-04-25T10:26:39.135Z"
   },
   {
    "duration": 6696,
    "start_time": "2022-04-25T10:26:39.143Z"
   },
   {
    "duration": 14,
    "start_time": "2022-04-25T10:26:45.841Z"
   },
   {
    "duration": 205,
    "start_time": "2022-04-25T10:26:45.857Z"
   },
   {
    "duration": 200,
    "start_time": "2022-04-25T10:56:57.112Z"
   },
   {
    "duration": 178,
    "start_time": "2022-04-25T11:04:11.134Z"
   },
   {
    "duration": 1064,
    "start_time": "2022-04-25T11:04:13.073Z"
   },
   {
    "duration": 291,
    "start_time": "2022-04-25T11:07:09.685Z"
   },
   {
    "duration": 140,
    "start_time": "2022-04-25T11:12:18.503Z"
   },
   {
    "duration": 1539,
    "start_time": "2022-04-25T11:12:53.507Z"
   },
   {
    "duration": 1073,
    "start_time": "2022-04-25T11:12:55.051Z"
   },
   {
    "duration": 4,
    "start_time": "2022-04-25T11:12:56.125Z"
   },
   {
    "duration": 96,
    "start_time": "2022-04-25T11:12:56.131Z"
   },
   {
    "duration": 581,
    "start_time": "2022-04-25T11:12:56.228Z"
   },
   {
    "duration": 1070,
    "start_time": "2022-04-25T11:12:57.166Z"
   },
   {
    "duration": 184,
    "start_time": "2022-04-25T11:12:58.238Z"
   },
   {
    "duration": 32,
    "start_time": "2022-04-25T11:13:10.814Z"
   },
   {
    "duration": 119,
    "start_time": "2022-04-25T11:13:11.507Z"
   },
   {
    "duration": 1255,
    "start_time": "2022-04-25T11:13:13.223Z"
   },
   {
    "duration": 98,
    "start_time": "2022-04-25T11:13:17.199Z"
   },
   {
    "duration": 10,
    "start_time": "2022-04-25T11:13:17.875Z"
   },
   {
    "duration": 102,
    "start_time": "2022-04-25T11:13:18.703Z"
   },
   {
    "duration": 7,
    "start_time": "2022-04-25T11:13:19.669Z"
   },
   {
    "duration": 12,
    "start_time": "2022-04-25T11:13:20.371Z"
   },
   {
    "duration": 546,
    "start_time": "2022-04-25T11:13:21.044Z"
   },
   {
    "duration": 19,
    "start_time": "2022-04-25T11:13:21.672Z"
   },
   {
    "duration": 38,
    "start_time": "2022-04-25T11:13:23.071Z"
   },
   {
    "duration": 1309,
    "start_time": "2022-04-25T11:13:23.605Z"
   },
   {
    "duration": 8,
    "start_time": "2022-04-25T11:13:24.916Z"
   },
   {
    "duration": 37,
    "start_time": "2022-04-25T11:13:26.476Z"
   },
   {
    "duration": 1318,
    "start_time": "2022-04-25T11:13:27.091Z"
   },
   {
    "duration": 18,
    "start_time": "2022-04-25T11:13:28.412Z"
   },
   {
    "duration": 26,
    "start_time": "2022-04-25T11:13:28.893Z"
   },
   {
    "duration": 529,
    "start_time": "2022-04-25T11:13:29.963Z"
   },
   {
    "duration": 85,
    "start_time": "2022-04-25T11:13:30.501Z"
   },
   {
    "duration": 161,
    "start_time": "2022-04-25T11:13:30.940Z"
   },
   {
    "duration": 566,
    "start_time": "2022-04-25T11:13:33.944Z"
   },
   {
    "duration": 280,
    "start_time": "2022-04-25T11:13:37.675Z"
   },
   {
    "duration": 1444,
    "start_time": "2022-04-25T11:13:38.847Z"
   },
   {
    "duration": 29,
    "start_time": "2022-04-25T11:13:41.229Z"
   },
   {
    "duration": 16,
    "start_time": "2022-04-25T11:13:42.147Z"
   },
   {
    "duration": 106,
    "start_time": "2022-04-25T11:13:45.682Z"
   },
   {
    "duration": 124,
    "start_time": "2022-04-25T11:14:02.005Z"
   },
   {
    "duration": 186,
    "start_time": "2022-04-25T11:14:03.371Z"
   },
   {
    "duration": 25,
    "start_time": "2022-04-25T11:14:06.408Z"
   },
   {
    "duration": 3,
    "start_time": "2022-04-25T11:14:07.232Z"
   },
   {
    "duration": 64447,
    "start_time": "2022-04-25T11:14:09.867Z"
   },
   {
    "duration": 130,
    "start_time": "2022-04-25T11:15:21.271Z"
   },
   {
    "duration": 186,
    "start_time": "2022-04-25T11:15:26.265Z"
   },
   {
    "duration": 3,
    "start_time": "2022-04-25T11:16:35.275Z"
   },
   {
    "duration": 565959,
    "start_time": "2022-04-25T11:16:37.221Z"
   },
   {
    "duration": 499,
    "start_time": "2022-04-25T11:26:03.182Z"
   },
   {
    "duration": 787,
    "start_time": "2022-04-25T11:26:05.509Z"
   },
   {
    "duration": 627,
    "start_time": "2022-04-25T11:26:18.134Z"
   },
   {
    "duration": 30,
    "start_time": "2022-04-25T11:26:54.173Z"
   },
   {
    "duration": 8,
    "start_time": "2022-04-25T11:26:54.657Z"
   },
   {
    "duration": 3,
    "start_time": "2022-04-25T11:26:55.678Z"
   },
   {
    "duration": 2159,
    "start_time": "2022-04-25T11:26:57.505Z"
   },
   {
    "duration": 21,
    "start_time": "2022-04-25T11:27:16.132Z"
   },
   {
    "duration": 23,
    "start_time": "2022-04-25T11:27:45.075Z"
   },
   {
    "duration": 3,
    "start_time": "2022-04-25T11:27:58.389Z"
   },
   {
    "duration": 3,
    "start_time": "2022-04-25T11:27:59.219Z"
   },
   {
    "duration": 4595,
    "start_time": "2022-04-25T11:28:00.013Z"
   },
   {
    "duration": 18,
    "start_time": "2022-04-25T11:28:17.285Z"
   },
   {
    "duration": 26,
    "start_time": "2022-04-25T11:28:33.934Z"
   },
   {
    "duration": 40,
    "start_time": "2022-04-25T11:28:46.424Z"
   },
   {
    "duration": 7,
    "start_time": "2022-04-25T11:28:49.677Z"
   },
   {
    "duration": 6376,
    "start_time": "2022-04-25T11:28:53.717Z"
   },
   {
    "duration": 4,
    "start_time": "2022-04-25T11:29:03.929Z"
   },
   {
    "duration": 197,
    "start_time": "2022-04-25T11:29:09.607Z"
   },
   {
    "duration": 231,
    "start_time": "2022-04-25T11:29:31.178Z"
   },
   {
    "duration": 3,
    "start_time": "2022-04-25T11:31:44.790Z"
   },
   {
    "duration": 2,
    "start_time": "2022-04-25T11:31:45.577Z"
   },
   {
    "duration": 2012,
    "start_time": "2022-04-25T11:31:46.230Z"
   },
   {
    "duration": 15,
    "start_time": "2022-04-25T11:31:55.671Z"
   },
   {
    "duration": 14,
    "start_time": "2022-04-25T11:31:58.084Z"
   },
   {
    "duration": 3,
    "start_time": "2022-04-25T11:32:06.610Z"
   },
   {
    "duration": 3,
    "start_time": "2022-04-25T11:32:07.629Z"
   },
   {
    "duration": 5297,
    "start_time": "2022-04-25T11:32:08.327Z"
   },
   {
    "duration": 24,
    "start_time": "2022-04-25T11:32:15.998Z"
   },
   {
    "duration": 23,
    "start_time": "2022-04-25T11:32:19.429Z"
   },
   {
    "duration": 198,
    "start_time": "2022-04-25T12:03:00.293Z"
   },
   {
    "duration": 1237,
    "start_time": "2022-04-25T12:03:01.676Z"
   },
   {
    "duration": 24,
    "start_time": "2022-04-25T12:03:56.645Z"
   },
   {
    "duration": 206,
    "start_time": "2022-04-25T12:04:12.510Z"
   },
   {
    "duration": 1463,
    "start_time": "2022-04-25T12:04:13.290Z"
   },
   {
    "duration": 18,
    "start_time": "2022-04-25T12:04:17.520Z"
   },
   {
    "duration": 3,
    "start_time": "2022-04-25T12:19:24.528Z"
   },
   {
    "duration": 3,
    "start_time": "2022-04-25T12:19:25.473Z"
   },
   {
    "duration": 4255,
    "start_time": "2022-04-25T12:19:25.973Z"
   },
   {
    "duration": 22,
    "start_time": "2022-04-25T12:19:32.665Z"
   },
   {
    "duration": 1593,
    "start_time": "2022-04-26T04:14:33.327Z"
   },
   {
    "duration": 887,
    "start_time": "2022-04-26T04:14:34.922Z"
   },
   {
    "duration": 4,
    "start_time": "2022-04-26T04:14:35.811Z"
   },
   {
    "duration": 160,
    "start_time": "2022-04-26T04:14:35.817Z"
   },
   {
    "duration": 522,
    "start_time": "2022-04-26T04:14:35.979Z"
   },
   {
    "duration": 1000,
    "start_time": "2022-04-26T04:14:36.502Z"
   },
   {
    "duration": 121,
    "start_time": "2022-04-26T04:14:37.504Z"
   },
   {
    "duration": 55,
    "start_time": "2022-04-26T04:14:37.627Z"
   },
   {
    "duration": 146,
    "start_time": "2022-04-26T04:14:37.684Z"
   },
   {
    "duration": 1016,
    "start_time": "2022-04-26T04:14:37.833Z"
   },
   {
    "duration": 72,
    "start_time": "2022-04-26T04:14:38.850Z"
   },
   {
    "duration": 5,
    "start_time": "2022-04-26T04:14:38.923Z"
   },
   {
    "duration": 114,
    "start_time": "2022-04-26T04:14:38.930Z"
   },
   {
    "duration": 4,
    "start_time": "2022-04-26T04:14:39.046Z"
   },
   {
    "duration": 21,
    "start_time": "2022-04-26T04:14:39.052Z"
   },
   {
    "duration": 388,
    "start_time": "2022-04-26T04:14:39.075Z"
   },
   {
    "duration": 18,
    "start_time": "2022-04-26T04:14:39.465Z"
   },
   {
    "duration": 30,
    "start_time": "2022-04-26T04:14:39.485Z"
   },
   {
    "duration": 1130,
    "start_time": "2022-04-26T04:14:39.517Z"
   },
   {
    "duration": 8,
    "start_time": "2022-04-26T04:14:40.649Z"
   },
   {
    "duration": 35,
    "start_time": "2022-04-26T04:14:40.674Z"
   },
   {
    "duration": 921,
    "start_time": "2022-04-26T04:14:40.711Z"
   },
   {
    "duration": 20,
    "start_time": "2022-04-26T04:14:41.634Z"
   },
   {
    "duration": 43,
    "start_time": "2022-04-26T04:14:41.655Z"
   },
   {
    "duration": 464,
    "start_time": "2022-04-26T04:14:41.700Z"
   },
   {
    "duration": 87,
    "start_time": "2022-04-26T04:14:42.165Z"
   },
   {
    "duration": 100,
    "start_time": "2022-04-26T04:14:42.253Z"
   },
   {
    "duration": 580,
    "start_time": "2022-04-26T04:14:42.357Z"
   },
   {
    "duration": 237,
    "start_time": "2022-04-26T04:14:42.938Z"
   },
   {
    "duration": 1037,
    "start_time": "2022-04-26T04:14:43.176Z"
   },
   {
    "duration": 26,
    "start_time": "2022-04-26T04:14:44.214Z"
   },
   {
    "duration": 123,
    "start_time": "2022-04-26T04:14:44.242Z"
   },
   {
    "duration": 178,
    "start_time": "2022-04-26T04:14:44.367Z"
   },
   {
    "duration": 33,
    "start_time": "2022-04-26T04:14:44.547Z"
   },
   {
    "duration": 4,
    "start_time": "2022-04-26T04:14:44.581Z"
   },
   {
    "duration": 1993,
    "start_time": "2022-04-26T04:14:44.586Z"
   },
   {
    "duration": 198,
    "start_time": "2022-04-26T04:14:46.581Z"
   },
   {
    "duration": 207,
    "start_time": "2022-04-26T04:14:46.781Z"
   },
   {
    "duration": 4,
    "start_time": "2022-04-26T04:14:46.990Z"
   },
   {
    "duration": 8584,
    "start_time": "2022-04-26T04:14:46.996Z"
   },
   {
    "duration": 500,
    "start_time": "2022-04-26T04:14:55.582Z"
   },
   {
    "duration": 604,
    "start_time": "2022-04-26T04:14:56.084Z"
   },
   {
    "duration": 20,
    "start_time": "2022-04-26T04:14:56.690Z"
   },
   {
    "duration": 2,
    "start_time": "2022-04-26T04:14:56.713Z"
   },
   {
    "duration": 4,
    "start_time": "2022-04-26T04:14:56.772Z"
   },
   {
    "duration": 2021,
    "start_time": "2022-04-26T04:14:56.778Z"
   },
   {
    "duration": 16,
    "start_time": "2022-04-26T04:14:58.801Z"
   },
   {
    "duration": 2,
    "start_time": "2022-04-26T04:14:58.819Z"
   },
   {
    "duration": 15,
    "start_time": "2022-04-26T04:14:58.823Z"
   },
   {
    "duration": 4232,
    "start_time": "2022-04-26T04:14:58.840Z"
   },
   {
    "duration": 24,
    "start_time": "2022-04-26T04:15:03.074Z"
   },
   {
    "duration": 41,
    "start_time": "2022-04-26T04:15:03.100Z"
   },
   {
    "duration": 31,
    "start_time": "2022-04-26T04:15:03.143Z"
   },
   {
    "duration": 6398,
    "start_time": "2022-04-26T04:15:03.176Z"
   },
   {
    "duration": 5,
    "start_time": "2022-04-26T04:15:09.577Z"
   },
   {
    "duration": 291,
    "start_time": "2022-04-26T04:15:09.584Z"
   },
   {
    "duration": 1448,
    "start_time": "2022-04-26T04:32:11.866Z"
   },
   {
    "duration": 840,
    "start_time": "2022-04-26T04:32:13.316Z"
   },
   {
    "duration": 4,
    "start_time": "2022-04-26T04:32:14.158Z"
   },
   {
    "duration": 112,
    "start_time": "2022-04-26T04:32:14.164Z"
   },
   {
    "duration": 505,
    "start_time": "2022-04-26T04:32:14.277Z"
   },
   {
    "duration": 1015,
    "start_time": "2022-04-26T04:32:14.784Z"
   },
   {
    "duration": 123,
    "start_time": "2022-04-26T04:32:15.800Z"
   },
   {
    "duration": 49,
    "start_time": "2022-04-26T04:32:15.925Z"
   },
   {
    "duration": 120,
    "start_time": "2022-04-26T04:32:15.975Z"
   },
   {
    "duration": 1018,
    "start_time": "2022-04-26T04:32:16.098Z"
   },
   {
    "duration": 71,
    "start_time": "2022-04-26T04:32:17.118Z"
   },
   {
    "duration": 4,
    "start_time": "2022-04-26T04:32:17.191Z"
   },
   {
    "duration": 112,
    "start_time": "2022-04-26T04:32:17.197Z"
   },
   {
    "duration": 4,
    "start_time": "2022-04-26T04:32:17.311Z"
   },
   {
    "duration": 7,
    "start_time": "2022-04-26T04:32:17.316Z"
   },
   {
    "duration": 377,
    "start_time": "2022-04-26T04:32:17.324Z"
   },
   {
    "duration": 13,
    "start_time": "2022-04-26T04:32:17.703Z"
   },
   {
    "duration": 27,
    "start_time": "2022-04-26T04:32:17.717Z"
   },
   {
    "duration": 1152,
    "start_time": "2022-04-26T04:32:17.746Z"
   },
   {
    "duration": 8,
    "start_time": "2022-04-26T04:32:18.900Z"
   },
   {
    "duration": 35,
    "start_time": "2022-04-26T04:32:18.909Z"
   },
   {
    "duration": 943,
    "start_time": "2022-04-26T04:32:18.946Z"
   },
   {
    "duration": 20,
    "start_time": "2022-04-26T04:32:19.891Z"
   },
   {
    "duration": 31,
    "start_time": "2022-04-26T04:32:19.913Z"
   },
   {
    "duration": 473,
    "start_time": "2022-04-26T04:32:19.946Z"
   },
   {
    "duration": 91,
    "start_time": "2022-04-26T04:32:20.421Z"
   },
   {
    "duration": 97,
    "start_time": "2022-04-26T04:32:20.514Z"
   },
   {
    "duration": 561,
    "start_time": "2022-04-26T04:32:20.615Z"
   },
   {
    "duration": 12,
    "start_time": "2022-04-26T04:32:21.178Z"
   },
   {
    "duration": 1090,
    "start_time": "2022-04-26T04:32:21.192Z"
   },
   {
    "duration": 21,
    "start_time": "2022-04-26T04:32:22.284Z"
   },
   {
    "duration": 120,
    "start_time": "2022-04-26T04:32:22.307Z"
   },
   {
    "duration": 184,
    "start_time": "2022-04-26T04:32:22.429Z"
   },
   {
    "duration": 24,
    "start_time": "2022-04-26T04:32:22.615Z"
   },
   {
    "duration": 3,
    "start_time": "2022-04-26T04:32:22.640Z"
   },
   {
    "duration": 1739,
    "start_time": "2022-04-26T04:32:22.645Z"
   },
   {
    "duration": 104,
    "start_time": "2022-04-26T04:32:24.474Z"
   },
   {
    "duration": 199,
    "start_time": "2022-04-26T04:32:24.580Z"
   },
   {
    "duration": 4,
    "start_time": "2022-04-26T04:32:24.780Z"
   },
   {
    "duration": 6189,
    "start_time": "2022-04-26T04:32:24.785Z"
   },
   {
    "duration": 410,
    "start_time": "2022-04-26T04:32:30.976Z"
   },
   {
    "duration": 518,
    "start_time": "2022-04-26T04:32:31.472Z"
   },
   {
    "duration": 99,
    "start_time": "2022-04-26T04:32:31.992Z"
   },
   {
    "duration": 3,
    "start_time": "2022-04-26T04:32:32.093Z"
   },
   {
    "duration": 14,
    "start_time": "2022-04-26T04:32:32.098Z"
   },
   {
    "duration": 1985,
    "start_time": "2022-04-26T04:32:32.114Z"
   },
   {
    "duration": 15,
    "start_time": "2022-04-26T04:32:34.101Z"
   },
   {
    "duration": 3,
    "start_time": "2022-04-26T04:32:34.117Z"
   },
   {
    "duration": 6,
    "start_time": "2022-04-26T04:32:34.121Z"
   },
   {
    "duration": 3740,
    "start_time": "2022-04-26T04:32:34.128Z"
   },
   {
    "duration": 20,
    "start_time": "2022-04-26T04:32:37.869Z"
   },
   {
    "duration": 35,
    "start_time": "2022-04-26T04:32:37.891Z"
   },
   {
    "duration": 7,
    "start_time": "2022-04-26T04:32:37.927Z"
   },
   {
    "duration": 6026,
    "start_time": "2022-04-26T04:32:37.935Z"
   },
   {
    "duration": 11,
    "start_time": "2022-04-26T04:32:43.963Z"
   },
   {
    "duration": 263,
    "start_time": "2022-04-26T04:32:43.975Z"
   },
   {
    "duration": 1379,
    "start_time": "2022-04-26T04:33:54.332Z"
   },
   {
    "duration": 835,
    "start_time": "2022-04-26T04:33:55.713Z"
   },
   {
    "duration": 5,
    "start_time": "2022-04-26T04:33:56.549Z"
   },
   {
    "duration": 161,
    "start_time": "2022-04-26T04:33:56.556Z"
   },
   {
    "duration": 506,
    "start_time": "2022-04-26T04:33:56.718Z"
   },
   {
    "duration": 1027,
    "start_time": "2022-04-26T04:33:57.226Z"
   },
   {
    "duration": 128,
    "start_time": "2022-04-26T04:33:58.255Z"
   },
   {
    "duration": 32,
    "start_time": "2022-04-26T04:33:58.385Z"
   },
   {
    "duration": 125,
    "start_time": "2022-04-26T04:33:58.419Z"
   },
   {
    "duration": 1002,
    "start_time": "2022-04-26T04:33:58.547Z"
   },
   {
    "duration": 71,
    "start_time": "2022-04-26T04:33:59.550Z"
   },
   {
    "duration": 5,
    "start_time": "2022-04-26T04:33:59.622Z"
   },
   {
    "duration": 107,
    "start_time": "2022-04-26T04:33:59.629Z"
   },
   {
    "duration": 4,
    "start_time": "2022-04-26T04:33:59.738Z"
   },
   {
    "duration": 8,
    "start_time": "2022-04-26T04:33:59.743Z"
   },
   {
    "duration": 395,
    "start_time": "2022-04-26T04:33:59.753Z"
   },
   {
    "duration": 24,
    "start_time": "2022-04-26T04:34:00.150Z"
   },
   {
    "duration": 29,
    "start_time": "2022-04-26T04:34:00.176Z"
   },
   {
    "duration": 1158,
    "start_time": "2022-04-26T04:34:00.207Z"
   },
   {
    "duration": 12,
    "start_time": "2022-04-26T04:34:01.367Z"
   },
   {
    "duration": 37,
    "start_time": "2022-04-26T04:34:01.381Z"
   },
   {
    "duration": 961,
    "start_time": "2022-04-26T04:34:01.420Z"
   },
   {
    "duration": 19,
    "start_time": "2022-04-26T04:34:02.383Z"
   },
   {
    "duration": 31,
    "start_time": "2022-04-26T04:34:02.404Z"
   },
   {
    "duration": 474,
    "start_time": "2022-04-26T04:34:02.437Z"
   },
   {
    "duration": 89,
    "start_time": "2022-04-26T04:34:02.913Z"
   },
   {
    "duration": 98,
    "start_time": "2022-04-26T04:34:03.004Z"
   },
   {
    "duration": 543,
    "start_time": "2022-04-26T04:34:03.106Z"
   },
   {
    "duration": 22,
    "start_time": "2022-04-26T04:34:03.651Z"
   },
   {
    "duration": 1057,
    "start_time": "2022-04-26T04:34:03.675Z"
   },
   {
    "duration": 26,
    "start_time": "2022-04-26T04:34:04.734Z"
   },
   {
    "duration": 121,
    "start_time": "2022-04-26T04:34:04.762Z"
   },
   {
    "duration": 181,
    "start_time": "2022-04-26T04:34:04.884Z"
   },
   {
    "duration": 24,
    "start_time": "2022-04-26T04:34:05.067Z"
   },
   {
    "duration": 3,
    "start_time": "2022-04-26T04:34:05.093Z"
   },
   {
    "duration": 1781,
    "start_time": "2022-04-26T04:34:05.097Z"
   },
   {
    "duration": 104,
    "start_time": "2022-04-26T04:34:06.881Z"
   },
   {
    "duration": 197,
    "start_time": "2022-04-26T04:34:06.987Z"
   },
   {
    "duration": 3,
    "start_time": "2022-04-26T04:34:07.186Z"
   },
   {
    "duration": 5488,
    "start_time": "2022-04-26T04:34:07.191Z"
   },
   {
    "duration": 497,
    "start_time": "2022-04-26T04:34:12.681Z"
   },
   {
    "duration": 598,
    "start_time": "2022-04-26T04:34:13.180Z"
   },
   {
    "duration": 20,
    "start_time": "2022-04-26T04:34:13.780Z"
   },
   {
    "duration": 3,
    "start_time": "2022-04-26T04:34:13.802Z"
   },
   {
    "duration": 6,
    "start_time": "2022-04-26T04:34:13.806Z"
   },
   {
    "duration": 2018,
    "start_time": "2022-04-26T04:34:13.813Z"
   },
   {
    "duration": 16,
    "start_time": "2022-04-26T04:34:15.833Z"
   },
   {
    "duration": 3,
    "start_time": "2022-04-26T04:34:15.851Z"
   },
   {
    "duration": 6,
    "start_time": "2022-04-26T04:34:15.855Z"
   },
   {
    "duration": 3847,
    "start_time": "2022-04-26T04:34:15.862Z"
   },
   {
    "duration": 20,
    "start_time": "2022-04-26T04:34:19.711Z"
   },
   {
    "duration": 36,
    "start_time": "2022-04-26T04:34:19.732Z"
   },
   {
    "duration": 7,
    "start_time": "2022-04-26T04:34:19.770Z"
   },
   {
    "duration": 6211,
    "start_time": "2022-04-26T04:34:19.778Z"
   },
   {
    "duration": 4,
    "start_time": "2022-04-26T04:34:25.991Z"
   },
   {
    "duration": 281,
    "start_time": "2022-04-26T04:34:25.997Z"
   },
   {
    "duration": 12,
    "start_time": "2022-04-26T04:36:20.404Z"
   },
   {
    "duration": 1060,
    "start_time": "2022-04-26T04:36:21.920Z"
   },
   {
    "duration": 13,
    "start_time": "2022-04-26T20:15:10.013Z"
   },
   {
    "duration": 1612,
    "start_time": "2022-04-26T20:16:46.320Z"
   },
   {
    "duration": 990,
    "start_time": "2022-04-26T20:16:47.934Z"
   },
   {
    "duration": 28,
    "start_time": "2022-04-26T20:16:52.681Z"
   },
   {
    "duration": 167,
    "start_time": "2022-04-26T20:16:52.848Z"
   },
   {
    "duration": 1249,
    "start_time": "2022-04-26T20:16:56.529Z"
   },
   {
    "duration": 49,
    "start_time": "2022-04-26T20:17:04.212Z"
   },
   {
    "duration": 42,
    "start_time": "2022-04-26T20:17:09.257Z"
   },
   {
    "duration": 31,
    "start_time": "2022-04-26T20:17:14.891Z"
   },
   {
    "duration": 567,
    "start_time": "2022-04-26T20:17:17.463Z"
   },
   {
    "duration": 16,
    "start_time": "2022-04-26T20:18:10.767Z"
   },
   {
    "duration": 1218,
    "start_time": "2022-04-26T20:18:11.449Z"
   }
  ],
  "kernelspec": {
   "display_name": "Python 3 (ipykernel)",
   "language": "python",
   "name": "python3"
  },
  "language_info": {
   "codemirror_mode": {
    "name": "ipython",
    "version": 3
   },
   "file_extension": ".py",
   "mimetype": "text/x-python",
   "name": "python",
   "nbconvert_exporter": "python",
   "pygments_lexer": "ipython3",
   "version": "3.9.5"
  },
  "toc": {
   "base_numbering": 1,
   "nav_menu": {},
   "number_sections": true,
   "sideBar": true,
   "skip_h1_title": true,
   "title_cell": "Table of Contents",
   "title_sidebar": "Contents",
   "toc_cell": false,
   "toc_position": {},
   "toc_section_display": true,
   "toc_window_display": false
  }
 },
 "nbformat": 4,
 "nbformat_minor": 2
}
